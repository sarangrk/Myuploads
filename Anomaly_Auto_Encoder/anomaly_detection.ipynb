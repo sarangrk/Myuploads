{
 "cells": [
  {
   "cell_type": "code",
   "execution_count": null,
   "metadata": {},
   "outputs": [],
   "source": [
    "The goal of the use case is to find abnormal behaviour. In real word problem, we usually do not have labelled data, and \n",
    "also the proportion of the anomalous data  observed or recorded is very less in comparision to the normal data. \n",
    "Hence we implemented a techinique which tries to understand or learn normal behaviour such that the model can identify\n",
    "only the normal behaviour and model will fail to understand the abnormal activity which can then be flagged for further \n",
    "analysis for anomaly.\n",
    "\n",
    "we made use of data from airbus challenge - its a data set consisting of sensor data from flight, out of the entire \n",
    "sensor data we had to focus on detecting anomaly on focus/priortise sensors. \n",
    "\n",
    "We have made use of LSTM auto encoder. LSTM auto encoder makes use of encoder decoder model, encoder reads in the input\n",
    "and we have bottleneck part which basically tries to extract the compressed representation which is later used by decoder\n",
    "to reconstruct the original sequence. \n",
    "\n",
    "Since we have sequential time series data , and we wanted exploit the sequential nature we made use of LSTM at the encoder\n",
    "and decoder end. We trained the model on set of data majorily comprosing of normal behaviour. Later with the help of\n",
    "reconstuction error at the decoder end , i.e if the reconstruction is above threshold flag it as anomaly otherwise normal\n",
    "data. The threshold used was 3 std deviatino from the mean. \n"
   ]
  },
  {
   "cell_type": "markdown",
   "metadata": {},
   "source": [
    "## Importing required packages"
   ]
  },
  {
   "cell_type": "code",
   "execution_count": 1,
   "metadata": {},
   "outputs": [
    {
     "name": "stderr",
     "output_type": "stream",
     "text": [
      "Using TensorFlow backend.\n"
     ]
    }
   ],
   "source": [
    "import pandas as pd\n",
    "import numpy as np\n",
    "import os\n",
    "import matplotlib.pyplot as plt\n",
    "from sklearn.preprocessing import StandardScaler\n",
    "from sklearn.decomposition import PCA\n",
    "from sklearn.cluster import KMeans\n",
    "from sklearn.model_selection import train_test_split\n",
    "from sklearn.metrics import mean_squared_error\n",
    "#from lstm_vae import create_lstm_vae,create_lstm_autoencoder\n",
    "from sklearn.model_selection import train_test_split\n",
    "from sklearn import preprocessing\n",
    "import keras\n",
    "from keras.layers import Lambda, Input, LSTM, RepeatVector, TimeDistributed, Dense, Masking\n",
    "from keras.preprocessing import sequence\n",
    "from keras import Model\n",
    "from keras import backend as K\n",
    "from scipy.stats import multivariate_normal\n",
    "import glob\n",
    "from sklearn.model_selection import train_test_split\n",
    "import random\n"
   ]
  },
  {
   "cell_type": "markdown",
   "metadata": {},
   "source": [
    "# Dataset Files preparation"
   ]
  },
  {
   "cell_type": "code",
   "execution_count": 2,
   "metadata": {},
   "outputs": [],
   "source": [
    "# from competetion - Following files should be disregarded for training and testing:\n",
    "file_name  = ['C460fdfc5aaf6cde64f8f6786e3387a32.csv',\n",
    "'C2df4530733e3495a542d0b5cb018397a.csv',\n",
    "'C755d2706850a150631be858c381d6373.csv',\n",
    "'Cbc7240c4165f374c77494f5b3cdf0c0c.csv',\n",
    "'Cb1131586e1539da2f220c7cdf8ccf782.csv',\n",
    "'B83e2d4650dcbbe9d294093bcfc1d212e.csv',\n",
    "'Cc19f599a9976291ef81cf6f4efa3a928.csv',\n",
    "'C7cf6425be6a6cc32ce876ff441eaa180.csv',\n",
    "'C3c704ee7c53d7a9948480c434b500980.csv',\n",
    "'Cd1e1e3884b1f28a4828121b5c0db5a68.csv',\n",
    "'B1b092d3c59cf2c2cdea76464c6f48367.csv',\n",
    "'C1a51c114de301e8e2776fb815f4f8402.csv',\n",
    "'Cf27f25da6cf4fd3a10f259951704e9f3.csv',\n",
    "'Cba730925534594a0145da7e47901e833.csv',\n",
    "'C9fc038c1f912a6995bf7a38b3e4ae652.csv',\n",
    "'C6107836a93f158bb1b6248229583e359.csv']\n"
   ]
  },
  {
   "cell_type": "code",
   "execution_count": 3,
   "metadata": {},
   "outputs": [],
   "source": [
    "#read the filename to a list\n",
    "flight_seq = [f.split('/')[-1] for f in glob.glob('./airbus_cac_dataset_unzip/B*') if os.path.isfile(f)]\n",
    "ground_seq = [f.split('/')[-1]  for f in glob.glob('./airbus_cac_dataset_unzip/C*') if os.path.isfile(f)]\n",
    "\n",
    "total_file = flight_seq + ground_seq\n",
    "\n",
    "# removing the files that should be disregarded for training and testing purpose\n",
    "final_file  = [i for i in total_file if i not in file_name]\n"
   ]
  },
  {
   "cell_type": "code",
   "execution_count": 4,
   "metadata": {},
   "outputs": [],
   "source": [
    "#file in which anomaly where detected by the contestant in the competetion, so we would keep this set of file as test data and use\n",
    "#to see how the model is working on it\n",
    "\n",
    "test_file = ['Bd1753ba7aa4e2c1a48dd49b132870e4e.csv',\n",
    "'Bd1753ba7aa4e2c1a48dd49b132870e4e.csv',\n",
    "'Bd786c443e51ded9ac174507cb7e711c4.csv',\n",
    "'B9d40e6df4482de35270989d73fc096e4.csv',\n",
    "'B9d40e6df4482de35270989d73fc096e4.csv',\n",
    "'B4bab6e3dd3fe27555aa0f628bb1ad108.csv',\n",
    "'B8291d655fb2c3ccb6cc5dcb4d7730fea.csv',\n",
    "'Be83abe2d5cb247b107995c60cdc9daef.csv',\n",
    "'B8b71699d79b1672fcbab205a08f777a7.csv']\n",
    "\n",
    "final_file  = [i for i in final_file if i not in test_file]\n"
   ]
  },
  {
   "cell_type": "code",
   "execution_count": 5,
   "metadata": {},
   "outputs": [],
   "source": [
    "#dividing the data into train and validation set\n",
    "#while dividing the data to train and val , let us see it to that the flight and ground test gets divided proportionaly\n",
    "\n",
    "file_prop = np.array([[i,i[0]]for i in final_file])\n",
    "train_file, val_file = train_test_split(file_prop[:,0], test_size=0.1,stratify = file_prop[:,1])\n"
   ]
  },
  {
   "cell_type": "markdown",
   "metadata": {},
   "source": [
    "# Data preparation"
   ]
  },
  {
   "cell_type": "markdown",
   "metadata": {},
   "source": [
    "#### Data format for LSTM "
   ]
  },
  {
   "cell_type": "code",
   "execution_count": 6,
   "metadata": {},
   "outputs": [],
   "source": [
    "## function to prepare the data set in sample, timestep, feature format for lstm\n",
    "def get_data(dataset, look_back):\n",
    "    dataX = []\n",
    "    for i in range(len(dataset)-look_back+1):\n",
    "        a = dataset[i:(i+look_back), :]\n",
    "        dataX.append(a)\n",
    "    return np.array(dataX)\n"
   ]
  },
  {
   "cell_type": "markdown",
   "metadata": {},
   "source": [
    "#### Data pre processing -\n",
    "Downsampling <br>\n",
    "Scaling the data "
   ]
  },
  {
   "cell_type": "code",
   "execution_count": 7,
   "metadata": {},
   "outputs": [],
   "source": [
    "# function to process the data\n",
    "def prepare_data(data_name, timestp, col_name_req =False,min_max_scaler_req = False):\n",
    "    data = pd.read_csv('./airbus_cac_dataset_unzip/'+data_name)\n",
    "    data.drop('Unnamed: 0',inplace=True,axis = 1)\n",
    "    #removing parameter_11 as mentioned by the competition\n",
    "    data.drop(['parameter_11'],inplace=True,axis=1)\n",
    "\n",
    "    ###########Downsampling################\n",
    "    median_var = []\n",
    "    mean_var = []\n",
    "    for i in data.columns:\n",
    "        if(len(data[i].unique())<4):\n",
    "            median_var.append(i)  ## storing the column name with 1 or 2 or 3 unique value\n",
    "        else:\n",
    "            mean_var.append(i) ## storing the column name with continous unique value\n",
    "\n",
    "    down_sampled_data_mean = data[mean_var].groupby(np.arange(len(data))//80).mean()\n",
    "    down_sampled_data_median = data[median_var].groupby(np.arange(len(data))//80).median()\n",
    "    down_sampled_data_concat = pd.concat([down_sampled_data_mean,down_sampled_data_median],axis = 1)\n",
    "\n",
    "    ## rearranging the column name as data\n",
    "    down_sampled_data = pd.DataFrame()\n",
    "    initial = True\n",
    "    for i in data.columns:\n",
    "        if(initial == True):\n",
    "            down_sampled_data = down_sampled_data_concat[i]\n",
    "            initial = False\n",
    "        else:\n",
    "            down_sampled_data = pd.concat([down_sampled_data,down_sampled_data_concat[i]],axis = 1)\n",
    "\n",
    "    ######getting column name ###################\n",
    "    if(col_name_req == True):\n",
    "        col_dict = {}\n",
    "        val = 0\n",
    "        for i in down_sampled_data.columns:\n",
    "            col_dict[i] = val\n",
    "            val = val+1\n",
    "\n",
    "    #####################scaling the data######################\n",
    "    min_max_scaler = preprocessing.MinMaxScaler()\n",
    "    scaled_data = min_max_scaler.fit_transform(down_sampled_data.values)\n",
    "\n",
    "    pd.DataFrame(scaled_data).describe()\n",
    "    if(len(scaled_data)<timestp):#120\n",
    "        scaled_data1 = keras.preprocessing.sequence.pad_sequences(maxlen = timestp,#120\n",
    "                                         sequences=[scaled_data],\n",
    "                                         value=0.0,\n",
    "                                         dtype='float',\n",
    "                                         padding='post')\n",
    "        data_formated= get_data(scaled_data1[0],timestp)#120\n",
    "\n",
    "    else:\n",
    "        data_formated= get_data(scaled_data,timestp)#120\n",
    "\n",
    "    if(col_name_req == True and min_max_scaler_req == True):\n",
    "        return(data_formated,col_dict,min_max_scaler)\n",
    "\n",
    "    elif(col_name_req == True):\n",
    "        return(data_formated,col_dict)\n",
    "\n",
    "    elif(min_max_scaler_req == True):\n",
    "        return(data_formated,min_max_scaler)\n",
    "\n",
    "    return(data_formated)\n",
    "\n"
   ]
  },
  {
   "cell_type": "markdown",
   "metadata": {},
   "source": [
    "### Model Building "
   ]
  },
  {
   "cell_type": "code",
   "execution_count": 8,
   "metadata": {},
   "outputs": [],
   "source": [
    "batch_size = 100\n",
    "early_stopping_çb = keras.callbacks.EarlyStopping(monitor='val_loss',\n",
    "                                                  min_delta=0.0005,\n",
    "                                                  patience=2,\n",
    "                                                  verbose=0,\n",
    "                                                  mode='auto',\n",
    "                                                  baseline=None,\n",
    "                                                  restore_best_weights=False)\n",
    "\n",
    "\n",
    "\n",
    "def create_lstm_autoencoder(input_dim, timesteps, latent_dim):\n",
    "    inputs = Input(shape=(timesteps, input_dim))\n",
    "    inputs_masked = Masking(mask_value=0.)(inputs)\n",
    "    encoded = LSTM(latent_dim, return_sequences=True)(inputs_masked)\n",
    "\n",
    "    decoded = LSTM(latent_dim, return_sequences=True)(encoded)\n",
    "    decoded = TimeDistributed(Dense(input_dim))(decoded)\n",
    "\n",
    "    encoder = Model(inputs, encoded)\n",
    "    autoencoder = Model(inputs, decoded)\n",
    "    autoencoder.compile(optimizer='adam', loss='mse')\n",
    "    return (encoder, autoencoder)\n"
   ]
  },
  {
   "cell_type": "code",
   "execution_count": null,
   "metadata": {},
   "outputs": [],
   "source": [
    "# training the model \n",
    "input_dim = 89\n",
    "timesteps = 120\n",
    "enc, ae = create_lstm_autoencoder(input_dim=input_dim, timesteps=timesteps, latent_dim=30)\n",
    "\n",
    "\n",
    "for file in train_file:\n",
    "    data_lstm= prepare_data(file,120)\n",
    "    input_dim = data_lstm.shape[-1]\n",
    "    timesteps = data_lstm.shape[1]\n",
    "\n",
    "    #for i in range(30):\n",
    "    #    val_file_random = prepare_data(random.choice(val_file))\n",
    "    #    model_hist = ae.fit(data_lstm, data_lstm, epochs=1,shuffle=False,batch_size = batch_size,\n",
    "    #                    validation_data = (val_file_random,val_file_random), #https://machinelearningmastery.com/use-different-batch-sizes-training-predicting-python-keras/\n",
    "    #                    callbacks = [early_stopping_çb])\n",
    "        #ae.reset_states()\n",
    "    val_file_random = prepare_data(random.choice(val_file),120)\n",
    "    model_hist = ae.fit(data_lstm, data_lstm, epochs=20,shuffle=False,batch_size = batch_size,\n",
    "                        validation_data = (val_file_random,val_file_random), #https://machinelearningmastery.com/use-different-batch-sizes-training-predicting-python-keras/\n",
    "                        callbacks = [early_stopping_çb])\n",
    "\n",
    "ae.save_weights('my_model_weights.h5')"
   ]
  },
  {
   "cell_type": "markdown",
   "metadata": {},
   "source": [
    "### Model Testing "
   ]
  },
  {
   "cell_type": "code",
   "execution_count": 9,
   "metadata": {},
   "outputs": [],
   "source": [
    "#loading the weights back and testing it on test data\n",
    "input_dim = 89\n",
    "timesteps = 120\n",
    "enc, ae = create_lstm_autoencoder(input_dim=input_dim, timesteps=timesteps, latent_dim=30)\n",
    "\n",
    "ae.load_weights('my_model_weights.h5')"
   ]
  },
  {
   "cell_type": "code",
   "execution_count": 10,
   "metadata": {},
   "outputs": [],
   "source": [
    "##removing the timestep aspect\n",
    "def get_data_reverse(data):\n",
    "    reverse_data_list = []\n",
    "    for i in range(len(data)):\n",
    "        reverse_data_list.append(data[i][0])\n",
    "        if(i==len(data)-1):\n",
    "            for j in data[i]:\n",
    "                reverse_data_list.append(j)\n",
    "    return(reverse_data_list)"
   ]
  },
  {
   "cell_type": "code",
   "execution_count": 11,
   "metadata": {},
   "outputs": [],
   "source": [
    "#perform prediction\n",
    "\n",
    "def perform_pred(filename):\n",
    "    data_test,col_dict, scale = prepare_data(filename,120,True, True)\n",
    "    pred_data = ae.predict(data_test)\n",
    "\n",
    "    min_max_scaler = scale\n",
    "    pred_data_orig = get_data_reverse(pred_data)\n",
    "    pred_inverse_orig = min_max_scaler.inverse_transform(pred_data_orig)\n",
    "\n",
    "    test_data_orig = get_data_reverse(data_test)\n",
    "    test_inverse_orig = min_max_scaler.inverse_transform(test_data_orig)\n",
    "\n",
    "    return(data_test,pred_data,test_inverse_orig,pred_inverse_orig,col_dict)"
   ]
  },
  {
   "cell_type": "code",
   "execution_count": 12,
   "metadata": {},
   "outputs": [],
   "source": [
    "#flagging the record as anomaly if above the thershold\n",
    "def flag_anomaly(test_inverse,preds_inverse):\n",
    "    mse = np.linalg.norm(preds_inverse - test_inverse,axis = 1,ord = 2)\n",
    "    error_df = pd.DataFrame({'reconstruction_error': mse})\n",
    "    mse_threshold = np.mean(mse) + 3*np.std(mse)\n",
    "    error_df['flag_anomaly'] = 'N'\n",
    "    error_df.loc[error_df.reconstruction_error>mse_threshold,'flag_anomaly']='Y'\n",
    "    error_df['timeRange'] = np.arange(80,80*(len(error_df)+1),80)\n",
    "    return(error_df,mse_threshold)"
   ]
  },
  {
   "cell_type": "code",
   "execution_count": 13,
   "metadata": {},
   "outputs": [],
   "source": [
    "data_test,pred_data,test_inverse_orig,pred_inverse_orig,col_dict = perform_pred('Bd786c443e51ded9ac174507cb7e711c4.csv')\n",
    "anomaly_flaged_dataframe,mse_threshold = flag_anomaly(test_inverse_orig,pred_inverse_orig)"
   ]
  },
  {
   "cell_type": "markdown",
   "metadata": {},
   "source": [
    "### Visualising the anomaly"
   ]
  },
  {
   "cell_type": "code",
   "execution_count": 14,
   "metadata": {},
   "outputs": [
    {
     "data": {
      "image/png": "[encoded data removed]",
      "text/plain": [
       "<Figure size 720x360 with 1 Axes>"
      ]
     },
     "metadata": {
      "needs_background": "light"
     },
     "output_type": "display_data"
    }
   ],
   "source": [
    "groups = anomaly_flaged_dataframe.groupby('flag_anomaly')\n",
    "fig, ax = plt.subplots(figsize=(10,5))\n",
    "\n",
    "for name, group in groups:\n",
    "\n",
    "    ax.plot(group.index, group.reconstruction_error, marker='o', ms=3.5, linestyle='',\n",
    "            label= \"Fraud\" if name == 'Y' else \"Normal\")\n",
    "ax.hlines(mse_threshold, ax.get_xlim()[0], ax.get_xlim()[1], colors=\"r\", zorder=100, label='Threshold')\n",
    "ax.legend()\n",
    "plt.title(\"Reconstruction error for different classes\")\n",
    "plt.ylabel(\"Reconstruction error\")\n",
    "plt.xlabel(\"Data point index\")\n",
    "plt.show();\n"
   ]
  },
  {
   "cell_type": "code",
   "execution_count": 51,
   "metadata": {},
   "outputs": [],
   "source": [
    "# extracting and visualising the time period in which anomaly occured\n",
    "def extract_time_anomaly(error_dataframe,test_inverse_orig,pred_inverse_orig,col_dict):\n",
    "    error_df = error_dataframe\n",
    "    time_range = 0\n",
    "    temp_time_list = []\n",
    "    time_list = []\n",
    "    index_list = []\n",
    "    temp_index_list = []\n",
    "    for i in range(len(error_df)):\n",
    "        if(error_df.flag_anomaly[i]=='Y'):\n",
    "            temp_time_list.append(error_df.timeRange[i])\n",
    "            temp_index_list.append(error_df.index[i])\n",
    "        else:\n",
    "            if(len(temp_time_list)!=0):\n",
    "                time_list.append([min(temp_time_list),max(temp_time_list)])\n",
    "                temp_time_list = []\n",
    "\n",
    "                index_list.append([min(temp_index_list),max(temp_index_list)])\n",
    "                temp_index_list=[]\n",
    "\n",
    "    err_val = abs(np.array(test_inverse_orig  - pred_inverse_orig))\n",
    "    focus_sensor = ['parameter_48','parameter_49','parameter_50','parameter_53','parameter_86','parameter_12','parameter_9','parameter_10']\n",
    "    col = [[i,col_dict[i]] for i in col_dict.keys() if i in  focus_sensor]\n",
    "\n",
    "    err_val_focus = pd.DataFrame(err_val[:,[i[1] for i in col]],columns = [i[0] for i in col])\n",
    "\n",
    "    para_dict = {}\n",
    "    for i in focus_sensor:\n",
    "        para_dict[i] = []\n",
    "\n",
    "    c = 0\n",
    "    for i in index_list:\n",
    "        key_val = np.sum(err_val_focus.loc[i[0]:i[1],:],axis = 0).idxmax()\n",
    "        para_dict[key_val].append([time_list[c][0]-80,time_list[c][1]])\n",
    "        pd.DataFrame(np.sum(err_val_focus.loc[i[0]:i[1],:],axis = 0)).plot(kind = 'bar',title = 'time_Range'+str((time_list[c][0]-80,time_list[c][1])))\n",
    "        plt.show()\n",
    "        c = c+1\n",
    "\n",
    "    max_l = max([len(x) for x in para_dict.values()])\n",
    "\n",
    "    for k,val in para_dict.items():\n",
    "        pad_val = max_l - len(para_dict[k])\n",
    "        for i in range(pad_val):\n",
    "            para_dict[k].append([0])\n",
    "\n",
    "    data_fin = pd.DataFrame(para_dict)\n",
    "    return(data_fin)\n"
   ]
  },
  {
   "cell_type": "code",
   "execution_count": 54,
   "metadata": {},
   "outputs": [
    {
     "data": {
      "image/png": "[encoded data removed]",
      "text/plain": [
       "<Figure size 432x288 with 1 Axes>"
      ]
     },
     "metadata": {
      "needs_background": "light"
     },
     "output_type": "display_data"
    },
    {
     "data": {
      "image/png": "[encoded data removed]",
      "text/plain": [
       "<Figure size 432x288 with 1 Axes>"
      ]
     },
     "metadata": {
      "needs_background": "light"
     },
     "output_type": "display_data"
    },
    {
     "data": {
      "image/png": "[encoded data removed]",
      "text/plain": [
       "<Figure size 432x288 with 1 Axes>"
      ]
     },
     "metadata": {
      "needs_background": "light"
     },
     "output_type": "display_data"
    },
    {
     "data": {
      "image/png": "[encoded data removed]",
      "text/plain": [
       "<Figure size 432x288 with 1 Axes>"
      ]
     },
     "metadata": {
      "needs_background": "light"
     },
     "output_type": "display_data"
    },
    {
     "data": {
      "image/png": "[encoded data removed]",
      "text/plain": [
       "<Figure size 432x288 with 1 Axes>"
      ]
     },
     "metadata": {
      "needs_background": "light"
     },
     "output_type": "display_data"
    },
    {
     "data": {
      "image/png": "[encoded data removed]",
      "text/plain": [
       "<Figure size 432x288 with 1 Axes>"
      ]
     },
     "metadata": {
      "needs_background": "light"
     },
     "output_type": "display_data"
    },
    {
     "data": {
      "image/png": "[encoded data removed]",
      "text/plain": [
       "<Figure size 432x288 with 1 Axes>"
      ]
     },
     "metadata": {
      "needs_background": "light"
     },
     "output_type": "display_data"
    }
   ],
   "source": [
    "data_fin = extract_time_anomaly(anomaly_flaged_dataframe,test_inverse_orig,pred_inverse_orig,col_dict)"
   ]
  },
  {
   "cell_type": "code",
   "execution_count": 55,
   "metadata": {},
   "outputs": [
    {
     "data": {
      "text/html": [
       "<div>\n",
       "<style scoped>\n",
       "    .dataframe tbody tr th:only-of-type {\n",
       "        vertical-align: middle;\n",
       "    }\n",
       "\n",
       "    .dataframe tbody tr th {\n",
       "        vertical-align: top;\n",
       "    }\n",
       "\n",
       "    .dataframe thead th {\n",
       "        text-align: right;\n",
       "    }\n",
       "</style>\n",
       "<table border=\"1\" class=\"dataframe\">\n",
       "  <thead>\n",
       "    <tr style=\"text-align: right;\">\n",
       "      <th></th>\n",
       "      <th>parameter_48</th>\n",
       "      <th>parameter_49</th>\n",
       "      <th>parameter_50</th>\n",
       "      <th>parameter_53</th>\n",
       "      <th>parameter_86</th>\n",
       "      <th>parameter_12</th>\n",
       "      <th>parameter_9</th>\n",
       "      <th>parameter_10</th>\n",
       "    </tr>\n",
       "  </thead>\n",
       "  <tbody>\n",
       "    <tr>\n",
       "      <th>0</th>\n",
       "      <td>[0]</td>\n",
       "      <td>[0]</td>\n",
       "      <td>[0]</td>\n",
       "      <td>[68400, 68560]</td>\n",
       "      <td>[100320, 100400]</td>\n",
       "      <td>[1840, 1920]</td>\n",
       "      <td>[16880, 16960]</td>\n",
       "      <td>[0]</td>\n",
       "    </tr>\n",
       "    <tr>\n",
       "      <th>1</th>\n",
       "      <td>[0]</td>\n",
       "      <td>[0]</td>\n",
       "      <td>[0]</td>\n",
       "      <td>[0]</td>\n",
       "      <td>[0]</td>\n",
       "      <td>[0]</td>\n",
       "      <td>[84560, 84720]</td>\n",
       "      <td>[0]</td>\n",
       "    </tr>\n",
       "    <tr>\n",
       "      <th>2</th>\n",
       "      <td>[0]</td>\n",
       "      <td>[0]</td>\n",
       "      <td>[0]</td>\n",
       "      <td>[0]</td>\n",
       "      <td>[0]</td>\n",
       "      <td>[0]</td>\n",
       "      <td>[84800, 85440]</td>\n",
       "      <td>[0]</td>\n",
       "    </tr>\n",
       "    <tr>\n",
       "      <th>3</th>\n",
       "      <td>[0]</td>\n",
       "      <td>[0]</td>\n",
       "      <td>[0]</td>\n",
       "      <td>[0]</td>\n",
       "      <td>[0]</td>\n",
       "      <td>[0]</td>\n",
       "      <td>[85600, 88880]</td>\n",
       "      <td>[0]</td>\n",
       "    </tr>\n",
       "  </tbody>\n",
       "</table>\n",
       "</div>"
      ],
      "text/plain": [
       "  parameter_48 parameter_49 parameter_50    parameter_53      parameter_86  \\\n",
       "0          [0]          [0]          [0]  [68400, 68560]  [100320, 100400]   \n",
       "1          [0]          [0]          [0]             [0]               [0]   \n",
       "2          [0]          [0]          [0]             [0]               [0]   \n",
       "3          [0]          [0]          [0]             [0]               [0]   \n",
       "\n",
       "   parameter_12     parameter_9 parameter_10  \n",
       "0  [1840, 1920]  [16880, 16960]          [0]  \n",
       "1           [0]  [84560, 84720]          [0]  \n",
       "2           [0]  [84800, 85440]          [0]  \n",
       "3           [0]  [85600, 88880]          [0]  "
      ]
     },
     "execution_count": 55,
     "metadata": {},
     "output_type": "execute_result"
    }
   ],
   "source": [
    "###dataframe with focus sensor\n",
    "data_fin"
   ]
  },
  {
   "cell_type": "code",
   "execution_count": null,
   "metadata": {},
   "outputs": [],
   "source": []
  }
 ],
 "metadata": {
  "kernelspec": {
   "display_name": "Python 3",
   "language": "python",
   "name": "python3"
  },
  "language_info": {
   "codemirror_mode": {
    "name": "ipython",
    "version": 3
   },
   "file_extension": ".py",
   "mimetype": "text/x-python",
   "name": "python",
   "nbconvert_exporter": "python",
   "pygments_lexer": "ipython3",
   "version": "3.6.5"
  }
 },
 "nbformat": 4,
 "nbformat_minor": 2
}
