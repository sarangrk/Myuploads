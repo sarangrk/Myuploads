{
 "cells": [
  {
   "cell_type": "code",
   "execution_count": 64,
   "metadata": {},
   "outputs": [],
   "source": [
    "import os\n",
    "import os, copy\n",
    "import os.path\n",
    "import subject2initial\n",
    "import pandas as pd\n",
    "import numpy as np\n",
    "import matplotlib.pyplot as plt\n",
    "from sklearn.cluster import KMeans\n",
    "from yellowbrick.cluster import KElbowVisualizer\n",
    "from pyspark import SparkContext\n",
    "from pyspark.ml.clustering import KMeans\n",
    "from pyspark.ml.feature import VectorAssembler\n",
    "from pyspark.sql import SQLContext\n",
    "from pyspark.sql import SparkSession\n",
    "from pyspark.ml.evaluation import ClusteringEvaluator"
   ]
  },
  {
   "cell_type": "code",
   "execution_count": 2,
   "metadata": {},
   "outputs": [
    {
     "name": "stdout",
     "output_type": "stream",
     "text": [
      "C:\\Users\\SK250092\\Desktop\\Suzuki\n",
      "エラー。作業ディレクトリがnotebooks以外に設定されています！現在の作業ディレクトリはC:\\Users\\SK250092\\Desktop\\Suzuki\n",
      "イニシャルファイルからのテキスト読み込み\n",
      "data\\interim\n"
     ]
    }
   ],
   "source": [
    "try:\n",
    "    os.chdir(os.path.join(os.getcwd(), 'notebooks'))\n",
    "    print(os.getcwd())\n",
    "except:\n",
    "    pass\n",
    "\n",
    "strCurrentDirectory = os.getcwd()\n",
    "print(strCurrentDirectory)\n",
    "\n",
    "# \"notebooks\"ディレクトリよりも一階層上にいる場合はNotebooksフォルダに移動\n",
    "if (strCurrentDirectory[-len(\"notebooks\"):] != \"notebooks\") and (any(\"notebooks\" in s for s in os.listdir())):\n",
    "    os.chdir('notebooks')\n",
    "    strCurrentDirectory = os.getcwd()\n",
    "    print(\"notebooksフォルダの一階層上にいたのでnotebooksフォルダに移動しました。\")\n",
    "\n",
    "if strCurrentDirectory[-len(\"notebooks\"):] == \"notebooks\":\n",
    "    print(\"正常。作業ディレクトリがnotebooksフォルダに設定されています。\")\n",
    "else:\n",
    "    print(\"エラー。作業ディレクトリがnotebooks以外に設定されています！現在の作業ディレクトリは\" + strCurrentDirectory)\n",
    "\n",
    "# %%\n",
    "print(subject2initial.strInitialTest)\n",
    "\n",
    "\n",
    "PATH_DATA_INT = subject2initial.funIsDirMakeDir(strPath=\"./data/interim\")"
   ]
  },
  {
   "cell_type": "markdown",
   "metadata": {},
   "source": [
    "## Data Loading"
   ]
  },
  {
   "cell_type": "code",
   "execution_count": 3,
   "metadata": {},
   "outputs": [],
   "source": [
    "pddf = pd.read_csv(\"Wheel_data.csv\")"
   ]
  },
  {
   "cell_type": "markdown",
   "metadata": {},
   "source": [
    "# K-Means Clustring In Spark\n",
    "\n",
    "K-means is one of the most commonly used clustering algorithms that clusters the data points into a predefined number of clusters. It is the simplest and popular unsupervised machine learning algorithms.\n",
    "\n",
    "A cluster refers to a collection of data points aggregated together because of certain similarities. You will define a target number k, which refers to the number of centroids you need in the dataset. A centroid is the imaginary or real location representing the center of the cluster.\n",
    "\n",
    "Every data point is allocated to each of the clusters through reducing the in-cluster sum of squares.In other words, the K-means algorithm identifies k number of centroids, and then allocates every data point to the nearest cluster, while keeping the centroids as small as possible. The ‘means’ in the K-means refers to averaging of the data; that is, finding the centroid."
   ]
  },
  {
   "cell_type": "markdown",
   "metadata": {},
   "source": [
    "### How the K-means algorithm works\n",
    "To process the learning data, the K-means algorithm in data mining starts with a first group of randomly selected centroids, which are used as the beginning points for every cluster, and then performs iterative (repetitive) calculations to optimize the positions of the centroids\n",
    "It halts creating and optimizing clusters when either:\n",
    "* The centroids have stabilized — there is no change in their values because the clustering has been successful.\n",
    "* The defined number of iterations has been achieved."
   ]
  },
  {
   "cell_type": "markdown",
   "metadata": {},
   "source": [
    "### 1. Check Spark is installed on the machine"
   ]
  },
  {
   "cell_type": "code",
   "execution_count": 19,
   "metadata": {},
   "outputs": [
    {
     "name": "stderr",
     "output_type": "stream",
     "text": [
      "java version \"1.8.0_221\"\n",
      "Java(TM) SE Runtime Environment (build 1.8.0_221-b11)\n",
      "Java HotSpot(TM) 64-Bit Server VM (build 25.221-b11, mixed mode)\n"
     ]
    }
   ],
   "source": [
    "!java -version"
   ]
  },
  {
   "cell_type": "markdown",
   "metadata": {},
   "source": [
    "### 2. Set up spark context and SparkSession"
   ]
  },
  {
   "cell_type": "code",
   "execution_count": 4,
   "metadata": {},
   "outputs": [],
   "source": [
    "spark = SparkSession \\\n",
    "    .builder \\\n",
    "    .appName(\"Python Spark K-means example\") \\\n",
    "    .config(\"spark.some.config.option\", \"some-value\") \\\n",
    "    .getOrCreate()"
   ]
  },
  {
   "cell_type": "code",
   "execution_count": 5,
   "metadata": {},
   "outputs": [
    {
     "data": {
      "text/html": [
       "\n",
       "            <div>\n",
       "                <p><b>SparkSession - in-memory</b></p>\n",
       "                \n",
       "        <div>\n",
       "            <p><b>SparkContext</b></p>\n",
       "\n",
       "            <p><a href=\"http://WPKSK250092-TCX.TD.TERADATA.COM:4040\">Spark UI</a></p>\n",
       "\n",
       "            <dl>\n",
       "              <dt>Version</dt>\n",
       "                <dd><code>v2.4.4</code></dd>\n",
       "              <dt>Master</dt>\n",
       "                <dd><code>local[*]</code></dd>\n",
       "              <dt>AppName</dt>\n",
       "                <dd><code>Python Spark K-means example</code></dd>\n",
       "            </dl>\n",
       "        </div>\n",
       "        \n",
       "            </div>\n",
       "        "
      ],
      "text/plain": [
       "<pyspark.sql.session.SparkSession at 0x14a76f8f780>"
      ]
     },
     "execution_count": 5,
     "metadata": {},
     "output_type": "execute_result"
    }
   ],
   "source": [
    "spark"
   ]
  },
  {
   "cell_type": "markdown",
   "metadata": {},
   "source": [
    "### 3. Check the dataset"
   ]
  },
  {
   "cell_type": "code",
   "execution_count": 6,
   "metadata": {},
   "outputs": [
    {
     "name": "stderr",
     "output_type": "stream",
     "text": [
      "C:\\Users\\SK250092\\AppData\\Local\\Continuum\\anaconda3\\lib\\site-packages\\ipykernel_launcher.py:7: DeprecationWarning: \n",
      ".ix is deprecated. Please use\n",
      ".loc for label based indexing or\n",
      ".iloc for positional indexing\n",
      "\n",
      "See the documentation here:\n",
      "http://pandas.pydata.org/pandas-docs/stable/indexing.html#ix-indexer-is-deprecated\n",
      "  import sys\n"
     ]
    },
    {
     "data": {
      "text/html": [
       "<div>\n",
       "<style scoped>\n",
       "    .dataframe tbody tr th:only-of-type {\n",
       "        vertical-align: middle;\n",
       "    }\n",
       "\n",
       "    .dataframe tbody tr th {\n",
       "        vertical-align: top;\n",
       "    }\n",
       "\n",
       "    .dataframe thead th {\n",
       "        text-align: right;\n",
       "    }\n",
       "</style>\n",
       "<table border=\"1\" class=\"dataframe\">\n",
       "  <thead>\n",
       "    <tr style=\"text-align: right;\">\n",
       "      <th></th>\n",
       "      <th>id</th>\n",
       "      <th>FR</th>\n",
       "      <th>FL</th>\n",
       "      <th>RR</th>\n",
       "      <th>RL</th>\n",
       "    </tr>\n",
       "  </thead>\n",
       "  <tbody>\n",
       "    <tr>\n",
       "      <th>0</th>\n",
       "      <td>row0</td>\n",
       "      <td>0.0</td>\n",
       "      <td>0.0</td>\n",
       "      <td>0.0</td>\n",
       "      <td>0.0</td>\n",
       "    </tr>\n",
       "    <tr>\n",
       "      <th>1</th>\n",
       "      <td>row1</td>\n",
       "      <td>0.0</td>\n",
       "      <td>0.0</td>\n",
       "      <td>0.0</td>\n",
       "      <td>0.0</td>\n",
       "    </tr>\n",
       "    <tr>\n",
       "      <th>2</th>\n",
       "      <td>row2</td>\n",
       "      <td>0.0</td>\n",
       "      <td>0.0</td>\n",
       "      <td>0.0</td>\n",
       "      <td>0.0</td>\n",
       "    </tr>\n",
       "    <tr>\n",
       "      <th>3</th>\n",
       "      <td>row3</td>\n",
       "      <td>0.0</td>\n",
       "      <td>0.0</td>\n",
       "      <td>0.0</td>\n",
       "      <td>0.0</td>\n",
       "    </tr>\n",
       "    <tr>\n",
       "      <th>4</th>\n",
       "      <td>row4</td>\n",
       "      <td>0.0</td>\n",
       "      <td>0.0</td>\n",
       "      <td>0.0</td>\n",
       "      <td>0.0</td>\n",
       "    </tr>\n",
       "  </tbody>\n",
       "</table>\n",
       "</div>"
      ],
      "text/plain": [
       "     id   FR   FL   RR   RL\n",
       "0  row0  0.0  0.0  0.0  0.0\n",
       "1  row1  0.0  0.0  0.0  0.0\n",
       "2  row2  0.0  0.0  0.0  0.0\n",
       "3  row3  0.0  0.0  0.0  0.0\n",
       "4  row4  0.0  0.0  0.0  0.0"
      ]
     },
     "execution_count": 6,
     "metadata": {},
     "output_type": "execute_result"
    }
   ],
   "source": [
    "pddf = pddf[['FR', 'FL', 'RR', 'RL']]\n",
    "# add a row index as a string\n",
    "pddf['id'] = 'row'+pddf.index.astype(str)\n",
    "#move it first (left)\n",
    "cols = list(pddf)\n",
    "cols.insert(0, cols.pop(cols.index('id')))\n",
    "pddf = pddf.ix[:, cols]\n",
    "pddf.head()"
   ]
  },
  {
   "cell_type": "markdown",
   "metadata": {},
   "source": [
    "### 4. SQL context\n",
    "The SparkContext is created by default with the variable name sc with the way we started the spark enabled notebook. We do, however, want to create an SQLContext. According to the Spark documentation https://spark.apache.org/docs/latest/sql-programming-guide.html\n",
    "\n",
    "\"Spark SQL is a Spark module for structured data processing. Unlike the basic Spark RDD API, the interfaces provided by Spark SQL provide Spark with more information about the structure of both the data and the computation being performed.\"\n",
    "\n",
    "What this means is that we can use Spark dataframes, which are similar to Pandas dataframes, and is a dataset organized into named columns."
   ]
  },
  {
   "cell_type": "code",
   "execution_count": 7,
   "metadata": {},
   "outputs": [],
   "source": [
    "sc = spark.sparkContext\n",
    "sqlContext = SQLContext(sc)"
   ]
  },
  {
   "cell_type": "markdown",
   "metadata": {},
   "source": [
    "### 5. Create a Spark DataFrame from Pandas DataFrame"
   ]
  },
  {
   "cell_type": "code",
   "execution_count": 8,
   "metadata": {},
   "outputs": [],
   "source": [
    "spark_df = spark.createDataFrame(pddf)"
   ]
  },
  {
   "cell_type": "markdown",
   "metadata": {},
   "source": [
    "### 6. Convert all data columns to float\n",
    "The machine learning model needs the data to be numbers so we must convert the features to floats. Here, our data points are already in float, however, the method to convert data into floats is shown below."
   ]
  },
  {
   "cell_type": "markdown",
   "metadata": {},
   "source": [
    "- Since we know which columns need to be converted, we get a cleaner result by converting those one by one."
   ]
  },
  {
   "cell_type": "code",
   "execution_count": 9,
   "metadata": {},
   "outputs": [],
   "source": [
    "FEATURES_COL = ['FR', 'FL', 'RR', 'RL']\n",
    "for col in spark_df.columns:\n",
    "    if col in FEATURES_COL:\n",
    "        spark_df = spark_df.withColumn(col,spark_df[col].cast('float'))"
   ]
  },
  {
   "cell_type": "markdown",
   "metadata": {},
   "source": [
    "### 7. Create a features column to be used in the clustering\n",
    "Spark's implementation of KMeans is a bit different from for example scikit-learn's version. We need to store all features as an array of floats, and store this array as a column called \"features\"."
   ]
  },
  {
   "cell_type": "code",
   "execution_count": 10,
   "metadata": {},
   "outputs": [
    {
     "name": "stdout",
     "output_type": "stream",
     "text": [
      "+-----+---------+\n",
      "|   id| features|\n",
      "+-----+---------+\n",
      "| row0|(4,[],[])|\n",
      "| row1|(4,[],[])|\n",
      "| row2|(4,[],[])|\n",
      "| row3|(4,[],[])|\n",
      "| row4|(4,[],[])|\n",
      "| row5|(4,[],[])|\n",
      "| row6|(4,[],[])|\n",
      "| row7|(4,[],[])|\n",
      "| row8|(4,[],[])|\n",
      "| row9|(4,[],[])|\n",
      "|row10|(4,[],[])|\n",
      "|row11|(4,[],[])|\n",
      "|row12|(4,[],[])|\n",
      "|row13|(4,[],[])|\n",
      "|row14|(4,[],[])|\n",
      "|row15|(4,[],[])|\n",
      "|row16|(4,[],[])|\n",
      "|row17|(4,[],[])|\n",
      "|row18|(4,[],[])|\n",
      "|row19|(4,[],[])|\n",
      "+-----+---------+\n",
      "only showing top 20 rows\n",
      "\n"
     ]
    }
   ],
   "source": [
    "vecAssembler = VectorAssembler(inputCols=FEATURES_COL, outputCol=\"features\")\n",
    "df_kmeans = vecAssembler.transform(spark_df).select('id', 'features')\n",
    "df_kmeans.show()"
   ]
  },
  {
   "cell_type": "markdown",
   "metadata": {},
   "source": [
    "### 8. Train the machine learning model\n",
    "We are now ready to train the model on the full dataset.\n",
    "#### Assign clusters to events or features\n",
    "Assigning the individual rows to the nearest cluster centroid can be done with the transform method, which adds 'prediction' column to the dataframe. The prediction value is an integer between 0 and k\n",
    "#### Evaluate clustering by computing Silhouette score\n",
    "Silhouette analysis can be used to study the separation distance between the resulting clusters. The silhouette score measures how close each point in one cluster is to points in the neighboring clusters and thus provides a way to assess parameters like number of clusters. This measure has a range of :\n"
   ]
  },
  {
   "attachments": {
    "range.jpg": {
     "image/jpeg": "[encoded data removed]"
    }
   },
   "cell_type": "markdown",
   "metadata": {},
   "source": [
    "![range.jpg](attachment:range.jpg)"
   ]
  },
  {
   "attachments": {
    "silhout.jpg": {
     "image/jpeg": "[encoded data removed]"
    }
   },
   "cell_type": "markdown",
   "metadata": {},
   "source": [
    "The Silhouette Coefficient is calculated using the mean intra-cluster distance (a) and the mean nearest-cluster distance (b) for each sample. The Silhouette Coefficient for a sample is (b - a) / max(a, b). \n",
    "![silhout.jpg](attachment:silhout.jpg)\n",
    "\n",
    "To clarify, b is the distance between a sample and the nearest cluster that the sample is not a part of. Note that Silhouette Coefficient is only defined if number of labels is 2 <= n_labels <= n_samples - 1.\n",
    "\n",
    "Silhouette coefficients (as these values are referred to as) near +1 indicate that the sample is far away from the neighboring clusters. A value of 0 indicates that the sample is on or very close to the decision boundary between two neighboring clusters and negative values indicate that those samples might have been assigned to the wrong cluster."
   ]
  },
  {
   "cell_type": "code",
   "execution_count": 11,
   "metadata": {},
   "outputs": [
    {
     "name": "stdout",
     "output_type": "stream",
     "text": [
      "For number of clusters 2\n",
      "The Silhouette with squared euclidean distance = 0.8168933407346208\n",
      "For number of clusters 3\n",
      "The Silhouette with squared euclidean distance = 0.8511667012790562\n",
      "For number of clusters 4\n",
      "The Silhouette with squared euclidean distance = 0.8305344594731349\n",
      "For number of clusters 5\n",
      "The Silhouette with squared euclidean distance = 0.8035220437662665\n"
     ]
    }
   ],
   "source": [
    "#k=1\n",
    "for k in range(2,6,1):\n",
    "    kmeans = KMeans().setK(k).setSeed(1).setFeaturesCol(\"features\")\n",
    "    model = kmeans.fit(df_kmeans)\n",
    "    #assign clusters to events/features\n",
    "    predictions = model.transform(df_kmeans).select('id', 'prediction', 'features')\n",
    "    #rows = predictions.collect()\n",
    "    #Evaluate clustering by computing Silhouette score\n",
    "    evaluator = ClusteringEvaluator()\n",
    "    silhouette = evaluator.evaluate(predictions)\n",
    "    print (\"For number of clusters\" , k)\n",
    "    print(\"The Silhouette with squared euclidean distance = \" + str(silhouette))"
   ]
  },
  {
   "cell_type": "markdown",
   "metadata": {},
   "source": [
    "### 9. Print the Centroids of the clusters\n",
    " - Once the training has converged we can print out the centroids of the clusters."
   ]
  },
  {
   "cell_type": "code",
   "execution_count": 14,
   "metadata": {},
   "outputs": [
    {
     "name": "stdout",
     "output_type": "stream",
     "text": [
      "Cluster Centers: \n",
      "[4.56240323 4.56124662 4.52433394 4.50436993]\n",
      "[-0.03168148 -0.02858671 -0.02837732 -0.02405086]\n",
      "[-4.23377712 -4.26296844 -4.22825444 -4.25078896]\n"
     ]
    }
   ],
   "source": [
    "kmeans = KMeans().setK(3).setSeed(1).setFeaturesCol(\"features\")\n",
    "model = kmeans.fit(df_kmeans)\n",
    "# This will print the Centroids of the best value of K clusters which is 3\n",
    "centers = model.clusterCenters()\n",
    "print(\"Cluster Centers: \")\n",
    "for center in centers:\n",
    "    print(center)"
   ]
  },
  {
   "cell_type": "markdown",
   "metadata": {},
   "source": [
    "- From the rows returned by the collect method create a new dataframe using our SQL context. Join the prediction with the original data on the 'id' column"
   ]
  },
  {
   "cell_type": "code",
   "execution_count": 15,
   "metadata": {},
   "outputs": [
    {
     "name": "stdout",
     "output_type": "stream",
     "text": [
      "+-------+----------+--------------------+---------+------------+---------+---------+\n",
      "|     id|prediction|            features|       FR|          FL|       RR|       RL|\n",
      "+-------+----------+--------------------+---------+------------+---------+---------+\n",
      "|row1093|         1|           (4,[],[])|      0.0|         0.0|      0.0|      0.0|\n",
      "|row1099|         1|           (4,[],[])|      0.0|         0.0|      0.0|      0.0|\n",
      "| row119|         1|           (4,[],[])|      0.0|         0.0|      0.0|      0.0|\n",
      "|row1191|         1|           (4,[],[])|      0.0|         0.0|      0.0|      0.0|\n",
      "|row1352|         1|           (4,[],[])|      0.0|         0.0|      0.0|      0.0|\n",
      "|row1586|         0|[2.95000004768371...|     2.95|       2.225|    2.725|     1.65|\n",
      "|row1766|         1|           (4,[],[])|      0.0|         0.0|      0.0|      0.0|\n",
      "|row2684|         1|[-1.625,-2.099999...|   -1.625|        -2.1|   -1.775|    -1.85|\n",
      "|row2770|         0|[5.22499990463256...|    5.225|         7.1|     5.05|     6.25|\n",
      "|row2883|         1|[1.67499995231628...|    1.675|         0.7|     0.75|     -0.1|\n",
      "|row3313|         2|[-4.1999998092651...|     -4.2|       -4.75|   -8.775|     -3.3|\n",
      "| row332|         1|           (4,[],[])|      0.0|         0.0|      0.0|      0.0|\n",
      "|row3374|         1|           (4,[],[])|      0.0|         0.0|      0.0|      0.0|\n",
      "|row3376|         1|           (4,[],[])|      0.0|         0.0|      0.0|      0.0|\n",
      "|row4049|         1|[0.86363637447357...|0.8636364|-0.045454547|1.2204546|0.8772727|\n",
      "|row4152|         1|[-0.5,-0.97500002...|     -0.5|      -0.975|    -0.25|     -1.1|\n",
      "|row4473|         1|[0.85000002384185...|     0.85|       0.925|     0.75|    0.825|\n",
      "|row4643|         1|[-0.3499999940395...|    -0.35|        -0.5|   -0.375|   -0.325|\n",
      "|row4984|         1|[-0.3249999880790...|   -0.325|        -0.2|    -0.35|    -0.55|\n",
      "|row5084|         1|[0.375,0.60000002...|    0.375|         0.6|   -0.275|    0.275|\n",
      "+-------+----------+--------------------+---------+------------+---------+---------+\n",
      "only showing top 20 rows\n",
      "\n"
     ]
    }
   ],
   "source": [
    "#assign clusters to events/features and join prediction with original data\n",
    "predictions = model.transform(df_kmeans).select('id', 'prediction', 'features')\n",
    "rows = predictions.collect()\n",
    "df_pred = sqlContext.createDataFrame(rows)\n",
    "#df_pred.show()\n",
    "df_pred = df_pred.join(spark_df, 'id')\n",
    "df_pred.show()"
   ]
  },
  {
   "cell_type": "markdown",
   "metadata": {},
   "source": [
    "### 10. Convert to Pandas dataframe"
   ]
  },
  {
   "cell_type": "code",
   "execution_count": 16,
   "metadata": {},
   "outputs": [
    {
     "data": {
      "text/html": [
       "<div>\n",
       "<style scoped>\n",
       "    .dataframe tbody tr th:only-of-type {\n",
       "        vertical-align: middle;\n",
       "    }\n",
       "\n",
       "    .dataframe tbody tr th {\n",
       "        vertical-align: top;\n",
       "    }\n",
       "\n",
       "    .dataframe thead th {\n",
       "        text-align: right;\n",
       "    }\n",
       "</style>\n",
       "<table border=\"1\" class=\"dataframe\">\n",
       "  <thead>\n",
       "    <tr style=\"text-align: right;\">\n",
       "      <th></th>\n",
       "      <th>id</th>\n",
       "      <th>prediction</th>\n",
       "      <th>features</th>\n",
       "      <th>FR</th>\n",
       "      <th>FL</th>\n",
       "      <th>RR</th>\n",
       "      <th>RL</th>\n",
       "    </tr>\n",
       "  </thead>\n",
       "  <tbody>\n",
       "    <tr>\n",
       "      <th>0</th>\n",
       "      <td>row1093</td>\n",
       "      <td>1</td>\n",
       "      <td>(0.0, 0.0, 0.0, 0.0)</td>\n",
       "      <td>0.0</td>\n",
       "      <td>0.0</td>\n",
       "      <td>0.0</td>\n",
       "      <td>0.0</td>\n",
       "    </tr>\n",
       "    <tr>\n",
       "      <th>1</th>\n",
       "      <td>row1099</td>\n",
       "      <td>1</td>\n",
       "      <td>(0.0, 0.0, 0.0, 0.0)</td>\n",
       "      <td>0.0</td>\n",
       "      <td>0.0</td>\n",
       "      <td>0.0</td>\n",
       "      <td>0.0</td>\n",
       "    </tr>\n",
       "    <tr>\n",
       "      <th>2</th>\n",
       "      <td>row119</td>\n",
       "      <td>1</td>\n",
       "      <td>(0.0, 0.0, 0.0, 0.0)</td>\n",
       "      <td>0.0</td>\n",
       "      <td>0.0</td>\n",
       "      <td>0.0</td>\n",
       "      <td>0.0</td>\n",
       "    </tr>\n",
       "    <tr>\n",
       "      <th>3</th>\n",
       "      <td>row1191</td>\n",
       "      <td>1</td>\n",
       "      <td>(0.0, 0.0, 0.0, 0.0)</td>\n",
       "      <td>0.0</td>\n",
       "      <td>0.0</td>\n",
       "      <td>0.0</td>\n",
       "      <td>0.0</td>\n",
       "    </tr>\n",
       "    <tr>\n",
       "      <th>4</th>\n",
       "      <td>row1352</td>\n",
       "      <td>1</td>\n",
       "      <td>(0.0, 0.0, 0.0, 0.0)</td>\n",
       "      <td>0.0</td>\n",
       "      <td>0.0</td>\n",
       "      <td>0.0</td>\n",
       "      <td>0.0</td>\n",
       "    </tr>\n",
       "  </tbody>\n",
       "</table>\n",
       "</div>"
      ],
      "text/plain": [
       "        id  prediction              features   FR   FL   RR   RL\n",
       "0  row1093           1  (0.0, 0.0, 0.0, 0.0)  0.0  0.0  0.0  0.0\n",
       "1  row1099           1  (0.0, 0.0, 0.0, 0.0)  0.0  0.0  0.0  0.0\n",
       "2   row119           1  (0.0, 0.0, 0.0, 0.0)  0.0  0.0  0.0  0.0\n",
       "3  row1191           1  (0.0, 0.0, 0.0, 0.0)  0.0  0.0  0.0  0.0\n",
       "4  row1352           1  (0.0, 0.0, 0.0, 0.0)  0.0  0.0  0.0  0.0"
      ]
     },
     "execution_count": 16,
     "metadata": {},
     "output_type": "execute_result"
    }
   ],
   "source": [
    "pddf_pred = df_pred.toPandas()\n",
    "pddf_pred.head()"
   ]
  },
  {
   "cell_type": "markdown",
   "metadata": {},
   "source": [
    "### 11. Shut down Spark Context\n",
    "If done with Spark, we can now shut down the Spark context:"
   ]
  },
  {
   "cell_type": "code",
   "execution_count": 49,
   "metadata": {},
   "outputs": [],
   "source": [
    "sc.stop()"
   ]
  },
  {
   "cell_type": "markdown",
   "metadata": {},
   "source": [
    "# K-Means Clustring Example 2 Using SKlearn"
   ]
  },
  {
   "cell_type": "markdown",
   "metadata": {},
   "source": [
    "### 1. Data Loading"
   ]
  },
  {
   "cell_type": "code",
   "execution_count": 31,
   "metadata": {},
   "outputs": [],
   "source": [
    "df = pd.read_csv(\"data2.csv\")"
   ]
  },
  {
   "cell_type": "code",
   "execution_count": 32,
   "metadata": {},
   "outputs": [
    {
     "data": {
      "text/html": [
       "<div>\n",
       "<style scoped>\n",
       "    .dataframe tbody tr th:only-of-type {\n",
       "        vertical-align: middle;\n",
       "    }\n",
       "\n",
       "    .dataframe tbody tr th {\n",
       "        vertical-align: top;\n",
       "    }\n",
       "\n",
       "    .dataframe thead th {\n",
       "        text-align: right;\n",
       "    }\n",
       "</style>\n",
       "<table border=\"1\" class=\"dataframe\">\n",
       "  <thead>\n",
       "    <tr style=\"text-align: right;\">\n",
       "      <th></th>\n",
       "      <th>V1</th>\n",
       "      <th>V2</th>\n",
       "    </tr>\n",
       "  </thead>\n",
       "  <tbody>\n",
       "    <tr>\n",
       "      <th>0</th>\n",
       "      <td>2.072345</td>\n",
       "      <td>-3.241693</td>\n",
       "    </tr>\n",
       "    <tr>\n",
       "      <th>1</th>\n",
       "      <td>17.936710</td>\n",
       "      <td>15.784810</td>\n",
       "    </tr>\n",
       "    <tr>\n",
       "      <th>2</th>\n",
       "      <td>1.083576</td>\n",
       "      <td>7.319176</td>\n",
       "    </tr>\n",
       "    <tr>\n",
       "      <th>3</th>\n",
       "      <td>11.120670</td>\n",
       "      <td>14.406780</td>\n",
       "    </tr>\n",
       "    <tr>\n",
       "      <th>4</th>\n",
       "      <td>23.711550</td>\n",
       "      <td>2.557729</td>\n",
       "    </tr>\n",
       "  </tbody>\n",
       "</table>\n",
       "</div>"
      ],
      "text/plain": [
       "          V1         V2\n",
       "0   2.072345  -3.241693\n",
       "1  17.936710  15.784810\n",
       "2   1.083576   7.319176\n",
       "3  11.120670  14.406780\n",
       "4  23.711550   2.557729"
      ]
     },
     "execution_count": 32,
     "metadata": {},
     "output_type": "execute_result"
    }
   ],
   "source": [
    "df.head()"
   ]
  },
  {
   "cell_type": "markdown",
   "metadata": {},
   "source": [
    "### 2. Visualize the data points"
   ]
  },
  {
   "cell_type": "code",
   "execution_count": 33,
   "metadata": {},
   "outputs": [
    {
     "data": {
      "text/plain": [
       "<matplotlib.collections.PathCollection at 0x14a7a35b1d0>"
      ]
     },
     "execution_count": 33,
     "metadata": {},
     "output_type": "execute_result"
    },
    {
     "data": {
      "image/png": "[encoded data removed]",
      "text/plain": [
       "<Figure size 432x288 with 1 Axes>"
      ]
     },
     "metadata": {
      "needs_background": "light"
     },
     "output_type": "display_data"
    }
   ],
   "source": [
    "plt.scatter(df['V1'], df['V2'])"
   ]
  },
  {
   "cell_type": "markdown",
   "metadata": {},
   "source": [
    "### 3. Train the model  \n",
    "For model training specify the number of clusters. For this example, assign 2 clusters "
   ]
  },
  {
   "cell_type": "code",
   "execution_count": 46,
   "metadata": {},
   "outputs": [
    {
     "name": "stdout",
     "output_type": "stream",
     "text": [
      "[[40.6609769  59.67801633]\n",
      " [31.2606333   3.19660767]]\n"
     ]
    },
    {
     "data": {
      "text/plain": [
       "<matplotlib.collections.PathCollection at 0x14a7b6a7b00>"
      ]
     },
     "execution_count": 46,
     "metadata": {},
     "output_type": "execute_result"
    },
    {
     "data": {
      "image/png": "[encoded data removed]",
      "text/plain": [
       "<Figure size 432x288 with 1 Axes>"
      ]
     },
     "metadata": {
      "needs_background": "light"
     },
     "output_type": "display_data"
    }
   ],
   "source": [
    "kmeans = KMeans(n_clusters=2).fit(df)\n",
    "#find the center of each cluster\n",
    "centroids = kmeans.cluster_centers_\n",
    "print(centroids)\n",
    "plt.scatter(df['V1'], df['V2'], c= kmeans.labels_)\n",
    "plt.scatter(centroids[:, 0], centroids[:, 1], c='red', s=50)"
   ]
  },
  {
   "cell_type": "markdown",
   "metadata": {},
   "source": [
    "* Note that the center of each cluster (in red) represents the mean of all the observations that belong to that cluster.\n",
    "\n",
    "* As you may also see, the observations that belong to a given cluster are closer to the center of that cluster, in comparison to the centers of other clusters."
   ]
  },
  {
   "cell_type": "markdown",
   "metadata": {},
   "source": [
    "### 4. Change the number of clusters\n",
    "\n",
    "Let's change the n_clusters to 3 "
   ]
  },
  {
   "cell_type": "code",
   "execution_count": 45,
   "metadata": {},
   "outputs": [
    {
     "name": "stdout",
     "output_type": "stream",
     "text": [
      "[[69.89328381 -9.9292746 ]\n",
      " [40.68362784 59.71589274]\n",
      " [ 9.44867238 10.68248391]]\n"
     ]
    },
    {
     "data": {
      "text/plain": [
       "<matplotlib.collections.PathCollection at 0x14a7b64e278>"
      ]
     },
     "execution_count": 45,
     "metadata": {},
     "output_type": "execute_result"
    },
    {
     "data": {
      "image/png": "[encoded data removed]",
      "text/plain": [
       "<Figure size 432x288 with 1 Axes>"
      ]
     },
     "metadata": {
      "needs_background": "light"
     },
     "output_type": "display_data"
    }
   ],
   "source": [
    "kmeans = KMeans(n_clusters=3).fit(df)\n",
    "#find the center of each cluster\n",
    "centroids = kmeans.cluster_centers_\n",
    "print(centroids)\n",
    "#visualize clusters and centroids\n",
    "plt.scatter(df['V1'], df['V2'], c= kmeans.labels_)\n",
    "plt.scatter(centroids[:, 0], centroids[:, 1], c='red', s=50)"
   ]
  },
  {
   "cell_type": "markdown",
   "metadata": {},
   "source": [
    "#### Change the n_clusters to 4"
   ]
  },
  {
   "cell_type": "code",
   "execution_count": 59,
   "metadata": {},
   "outputs": [
    {
     "name": "stdout",
     "output_type": "stream",
     "text": [
      "[[69.89328381 -9.9292746 ]\n",
      " [31.64816384 60.18672324]\n",
      " [ 9.42622151 10.65836421]\n",
      " [47.99395096 59.29070164]]\n"
     ]
    },
    {
     "data": {
      "text/plain": [
       "<matplotlib.collections.PathCollection at 0x14a7bb20fd0>"
      ]
     },
     "execution_count": 59,
     "metadata": {},
     "output_type": "execute_result"
    },
    {
     "data": {
      "image/png": "[encoded data removed]",
      "text/plain": [
       "<Figure size 432x288 with 1 Axes>"
      ]
     },
     "metadata": {
      "needs_background": "light"
     },
     "output_type": "display_data"
    }
   ],
   "source": [
    "kmeans = KMeans(n_clusters=4).fit(df)\n",
    "#find the center of each cluster\n",
    "centroids = kmeans.cluster_centers_\n",
    "print(centroids)\n",
    "#plot the cluster and centroids\n",
    "plt.scatter(df['V1'], df['V2'],c= kmeans.labels_)\n",
    "plt.scatter(centroids[:, 0], centroids[:, 1], c='red', s=50)"
   ]
  },
  {
   "cell_type": "markdown",
   "metadata": {},
   "source": [
    "### 5. Predict the cluster of a data point"
   ]
  },
  {
   "cell_type": "code",
   "execution_count": 58,
   "metadata": {},
   "outputs": [
    {
     "data": {
      "text/plain": [
       "array([2])"
      ]
     },
     "execution_count": 58,
     "metadata": {},
     "output_type": "execute_result"
    }
   ],
   "source": [
    "sample_test=np.array([100.0,-10.0])\n",
    "second_test=sample_test.reshape(1, -1)\n",
    "kmeans.predict(second_test)"
   ]
  },
  {
   "cell_type": "markdown",
   "metadata": {},
   "source": [
    "### 6. Evaluate the model (Elbow Method)\n",
    "The “elbow” method helps to select the optimal number of clusters by fitting the model with a range of values for clusters. If the line chart resembles an arm, then the “elbow” (the point of inflection on the curve) is a good indication that the underlying model fits best at that point. In the visualizer “elbow” will be annotated with a dashed line.\n",
    "\n",
    "To demonstrate, in the following example the KElbowVisualizer fits the KMeans model for a range of cluster values from 2 to 10 on a sample two-dimensional dataset. When the model is fit, we can see a line annotating the “elbow” in the graph, which in this case we know to be the optimal number.\n",
    "\n",
    "By default, the scoring parameter metric is set to distortion, which computes the sum of squared distances from each point to its assigned center."
   ]
  },
  {
   "cell_type": "code",
   "execution_count": 63,
   "metadata": {},
   "outputs": [
    {
     "data": {
      "image/png": "[encoded data removed]",
      "text/plain": [
       "<Figure size 576x396 with 1 Axes>"
      ]
     },
     "metadata": {},
     "output_type": "display_data"
    },
    {
     "data": {
      "text/plain": [
       "<matplotlib.axes._subplots.AxesSubplot at 0x14a7c5beb38>"
      ]
     },
     "execution_count": 63,
     "metadata": {},
     "output_type": "execute_result"
    }
   ],
   "source": [
    "visualizer = KElbowVisualizer(kmeans, k=(2,10), timings=False)\n",
    "visualizer.fit(df)        # Fit the data to the visualizer\n",
    "visualizer.poof()        # Draw/show/poof the data"
   ]
  },
  {
   "cell_type": "code",
   "execution_count": null,
   "metadata": {},
   "outputs": [],
   "source": []
  }
 ],
 "metadata": {
  "kernelspec": {
   "display_name": "Python 3",
   "language": "python",
   "name": "python3"
  },
  "language_info": {
   "codemirror_mode": {
    "name": "ipython",
    "version": 3
   },
   "file_extension": ".py",
   "mimetype": "text/x-python",
   "name": "python",
   "nbconvert_exporter": "python",
   "pygments_lexer": "ipython3",
   "version": "3.7.1"
  }
 },
 "nbformat": 4,
 "nbformat_minor": 2
}
