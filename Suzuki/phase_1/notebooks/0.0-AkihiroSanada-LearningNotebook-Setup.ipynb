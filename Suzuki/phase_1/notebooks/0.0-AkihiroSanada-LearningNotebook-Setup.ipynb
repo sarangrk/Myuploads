{
 "cells": [
  {
   "cell_type": "markdown",
   "metadata": {},
   "source": [
    "# 0. 環境構築"
   ]
  },
  {
   "cell_type": "markdown",
   "metadata": {},
   "source": [
    "## Ubuntuセットアップ"
   ]
  },
  {
   "cell_type": "markdown",
   "metadata": {},
   "source": [
    "- virtual box\n",
    "- ssh\n",
    "- scp\n",
    "- apt-get\n",
    "- bash\n",
    "- 出力 / pipe\n",
    "- tmux\n",
    "- vim"
   ]
  },
  {
   "cell_type": "markdown",
   "metadata": {},
   "source": [
    "## R環境のセットアップ"
   ]
  },
  {
   "cell_type": "markdown",
   "metadata": {},
   "source": [
    "- R\n",
    "- RStudio Server\n",
    "- RStudioの使い方"
   ]
  },
  {
   "cell_type": "markdown",
   "metadata": {},
   "source": [
    "## python環境のセットアップ"
   ]
  },
  {
   "cell_type": "markdown",
   "metadata": {},
   "source": [
    "- anaconda\n",
    "- conda create\n",
    "- conda activate\n",
    "    - .bash_profile\n",
    "- conda deactivate\n",
    "- conda install\n",
    "- conda uninstall\n",
    "- conda env export\n",
    "- conda update"
   ]
  },
  {
   "cell_type": "markdown",
   "metadata": {},
   "source": [
    "## その他セットアップ"
   ]
  },
  {
   "cell_type": "markdown",
   "metadata": {},
   "source": [
    "- chasen/mecab\n",
    "- plda\n",
    "- treeminer"
   ]
  },
  {
   "cell_type": "markdown",
   "metadata": {},
   "source": [
    "## git/githubの使い方"
   ]
  },
  {
   "cell_type": "markdown",
   "metadata": {},
   "source": [
    "- pro git\n",
    "    - https://git-scm.com/book/ja/v2\n",
    "- git stash \n",
    "    - https://chulip.org/entry/20120831/1346381439\n",
    "    - https://qiita.com/fukajun/items/41288806e4733cb9c342\n",
    "- git config\n",
    "- git clone\n",
    "- git pull\n",
    "- git status\n",
    "- git branch\n",
    "- git checkout\n",
    "- git add\n",
    "- git commit\n",
    "- git push"
   ]
  },
  {
   "cell_type": "markdown",
   "metadata": {},
   "source": [
    "## jupyter notebookの使い方"
   ]
  },
  {
   "cell_type": "markdown",
   "metadata": {},
   "source": [
    "- nb_conda\n",
    "- python / \n",
    "- terminal\n",
    "- !コマンド\n",
    "- %time / %%time\n",
    "- tab\n",
    "- ショートカットコマンド\n",
    "- vimモード\n",
    "- 一気に実行\n",
    "- マークダウン\n",
    "- ;\n",
    "- %%autoreload\n",
    "- %%html\n",
    "- %%matplotlib\n",
    "- nb_extension"
   ]
  },
  {
   "cell_type": "markdown",
   "metadata": {},
   "source": [
    "## その他"
   ]
  },
  {
   "cell_type": "markdown",
   "metadata": {},
   "source": [
    "### エディタ"
   ]
  },
  {
   "cell_type": "markdown",
   "metadata": {},
   "source": [
    "- vscode\n",
    "    - ssh\n",
    "    - jupyter"
   ]
  },
  {
   "cell_type": "markdown",
   "metadata": {},
   "source": [
    "### フォルダ構成"
   ]
  },
  {
   "cell_type": "markdown",
   "metadata": {},
   "source": [
    "- cookiecutter"
   ]
  },
  {
   "cell_type": "markdown",
   "metadata": {},
   "source": [
    "### Makeについて"
   ]
  },
  {
   "cell_type": "markdown",
   "metadata": {},
   "source": [
    "- makefile"
   ]
  },
  {
   "cell_type": "markdown",
   "metadata": {},
   "source": [
    "### sqlalchemy入門"
   ]
  },
  {
   "cell_type": "markdown",
   "metadata": {},
   "source": [
    "- session\n",
    "- select\n",
    "- and, or, func\n",
    "- join\n",
    "- filter"
   ]
  },
  {
   "cell_type": "markdown",
   "metadata": {},
   "source": [
    "### pandas入門"
   ]
  },
  {
   "cell_type": "markdown",
   "metadata": {},
   "source": [
    "- series\n",
    "- data frame\n",
    "- index\n",
    "- sort\n",
    "- groupby\n",
    "- apply\n",
    "- to_hoge\n"
   ]
  },
  {
   "cell_type": "markdown",
   "metadata": {},
   "source": [
    "### python入門"
   ]
  },
  {
   "cell_type": "markdown",
   "metadata": {},
   "source": [
    "- itertools\n",
    "- map\n",
    "- list complehenshion\n",
    "- 引数展開"
   ]
  },
  {
   "cell_type": "code",
   "execution_count": null,
   "metadata": {},
   "outputs": [],
   "source": []
  },
  {
   "cell_type": "code",
   "execution_count": null,
   "metadata": {},
   "outputs": [],
   "source": []
  }
 ],
 "metadata": {
  "kernelspec": {
   "display_name": "Python 3",
   "language": "python",
   "name": "python3"
  },
  "language_info": {
   "codemirror_mode": {
    "name": "ipython",
    "version": 3
   },
   "file_extension": ".py",
   "mimetype": "text/x-python",
   "name": "python",
   "nbconvert_exporter": "python",
   "pygments_lexer": "ipython3",
   "version": "3.6.8"
  },
  "latex_envs": {
   "LaTeX_envs_menu_present": true,
   "autoclose": false,
   "autocomplete": true,
   "bibliofile": "biblio.bib",
   "cite_by": "apalike",
   "current_citInitial": 1,
   "eqLabelWithNumbers": true,
   "eqNumInitial": 1,
   "hotkeys": {
    "equation": "Ctrl-E",
    "itemize": "Ctrl-I"
   },
   "labels_anchors": false,
   "latex_user_defs": false,
   "report_style_numbering": false,
   "user_envs_cfg": false
  },
  "nbTranslate": {
   "displayLangs": [
    "*"
   ],
   "hotkey": "alt-t",
   "langInMainMenu": true,
   "sourceLang": "en",
   "targetLang": "fr",
   "useGoogleTranslate": true
  },
  "toc": {
   "base_numbering": 1,
   "nav_menu": {},
   "number_sections": true,
   "sideBar": true,
   "skip_h1_title": false,
   "title_cell": "Table of Contents",
   "title_sidebar": "Contents",
   "toc_cell": false,
   "toc_position": {},
   "toc_section_display": true,
   "toc_window_display": false
  }
 },
 "nbformat": 4,
 "nbformat_minor": 2
}
