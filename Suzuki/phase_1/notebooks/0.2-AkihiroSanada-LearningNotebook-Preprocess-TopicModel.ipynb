{
 "cells": [
  {
   "cell_type": "markdown",
   "metadata": {},
   "source": [
    "# 2. LDAによるトピックの計算"
   ]
  },
  {
   "cell_type": "markdown",
   "metadata": {},
   "source": [
    "- このnotebookは、make_lda_model.pyによるLDAを用いたトピック量の計算を分解したものである。"
   ]
  },
  {
   "cell_type": "markdown",
   "metadata": {},
   "source": [
    "## 2.1 LDAおさらい"
   ]
  },
  {
   "cell_type": "markdown",
   "metadata": {},
   "source": [
    "- LDAは、Latent Dirichlet Allocation(潜在的ディリクレ配分法)の略。\n",
    "- 各文章における各単語は、各文章のトピック量および各単語のトピック量に応じて確率的に出現すると仮定し、データからそのトピック量を逆算するという手法である。\n",
    "- 例えば、犬についての文章と猫についての文章を集めてきたとする。犬についての文章では「犬」トピック量が多く、「猫」トピック量は少ないと推測できる。また、「わんわん」「ドッグラン」などの単語は犬トピック量が多く、「にゃーにゃー」「ひっかく」などの単語は猫トピック量が多いと推測できるが、それらトピック量を文章データと機械学習（ベイズ推定）を用いて推定しようというのがLDAである。\n",
    "- トピック量等の各種パラメータはベイズ推定によって計算される。\n",
    "- トピック数は分析者によって定性的な考察等を元に決められることもあれば、[コヒーレンス](https://radimrehurek.com/gensim/models/coherencemodel.html)やパープレキシティ等の指標を用いて定量的に決められることもある。"
   ]
  },
  {
   "cell_type": "markdown",
   "metadata": {},
   "source": [
    "### 2.1.1 より詳しく"
   ]
  },
  {
   "cell_type": "markdown",
   "metadata": {},
   "source": [
    "- LDAのモデルの詳細は以下のとおり。\n",
    "![LDA_figure](figure/Smoothed_LDA.png)\n",
    "    - $\\alpha$をパラメータに持つディリクレ分布により、各文書における各単語のトピックの確率分布$\\theta$ (ex. 犬0.7, 猫0.3)が決まる。\n",
    "    - 他方、$\\beta$をパラメータにもつディリクレ分布により、各トピックにおける各単語の確率分布$\\varphi$ (ex. 犬トピック: わんわん0.6, ドッグラン0.3, にゃーにゃー0.05, ひっかく0.05)が決まる。\n",
    "    - 各文章では、各単語ごとに、確率分布$\\theta$によって、属するトピック$Z$ (ex. 犬)が決まり、決まったトピック$Z$とそのトピック内における単語の確率分布$\\varphi$によって、最終的な単語$W$ (ex. わんわん)がきまる。\n",
    "    - 各単語の発生確率を数式で表せば、次のようになる\n",
    "$$P(W,Z,\\theta,\\varphi; \\alpha,\\beta) = \\prod^K_{i=1}P(\\varphi_i;\\beta)\\prod^M_{j=1}P(\\theta_j;\\alpha)\\prod^N_{t=1}P(Z_{j, t}|\\theta_j)P(W_{j, t}|\\varphi_{Z_{j, t}})$$\n",
    "ただし、$K$はトピック数、$M$は文章数、$N$は文章全体の単語の数である\n",
    "- ディリクレ分布は多項分布(カテゴリの発生確率分布)の共益事前分布であり、ベイズ推定で多項分布を処理する上で計算がしやすくなる。\n",
    "- パープレキシティは、LDAモデルの予測精度の逆数といえる。データを訓練データとテストデータに分割(※このとき、同じ文章内にはテストデータに入る単語もあれば、訓練データに入る単語もある)し、訓練データでモデルを作成した後、テストデータで、どの程度の精度で単語を正しく予測できたかを計算し、パープレキシティを算出する。パープレキシティの数式は以下のとおり。\n",
    "$$perplexity(W^{test}|M) = \\exp\\left(-\\frac{\\sum^{D^{test}}_{d=1}\\log\\left(\\prod^{N_d}_{n=1}\\sum^K_{k=1}\\theta_{dk}\\phi_{kw_{dn}}\\right)}{\\sum^{D^{test}}_{d=1}N^{test}_d}\\right)$$\n",
    "ここで$D^{test}$はテスト用単語を含む文章、$N^{test}_d$は文章dの単語数、$w^{test}_d$は文章dにおけるテスト用の単語、$M$は訓練で得たモデル、$W^{test}$はテスト用単語全体のベクトルである\n",
    "- コヒーレンス"
   ]
  },
  {
   "cell_type": "markdown",
   "metadata": {},
   "source": [
    "### 参考文献"
   ]
  },
  {
   "cell_type": "markdown",
   "metadata": {},
   "source": [
    "- LDAの数式を含む詳しい解説は岩田氏による[トピックモデル](https://www.amazon.co.jp/dp/4061529048/ref=cm_sw_em_r_mt_dp_U_Vf70CbB6RVDJ3)がわかりやすい。\n",
    "- ベイズ推定のアルゴリズムはいくつかある。[オリジナルの論文](https://www.genetics.org/content/155/2/945)や、今回用いる[gensim](https://radimrehurek.com/gensim/models/ldamodel.html)というライブラリでは変分ベイズ法が使用されている。他、ギブスサンプリングや期待値伝播法を用いる方法もある。本プロジェクトで以前使用していた[plda](http://ai.deepq.com/plda/)というライブラリではギブスサンプリングを使用している。\n",
    "- ベイズ推定についての数式を含む解説はやはりビショップ氏による[パターン認識と機械学習](https://www.amazon.co.jp/dp/4621061224/ref=cm_sw_em_r_mt_dp_U_fz60CbNVSCXAN)が詳しいが、入門書としては須山氏によって最近刊行された[ベイズ推論による機械学習入門](https://www.amazon.co.jp/dp/4061538322/ref=cm_sw_em_r_mt_dp_U_eA60Cb2BHZ1B0)がわかりやすい。\n",
    "- コヒーレンスについては牧山氏の[こちらのスライド](https://www.slideshare.net/hoxo_m/coherence-57598192)がわかりやすい。\n",
    "- gensimで実装されているコヒーレンスの論文は以下。\n",
    "    - [c_v](http://svn.aksw.org/papers/2015/WSDM_Topic_Evaluation/public.pdf) Michael(2015) 精度は高いが、低速。\n",
    "    - [c_uci](https://www.aclweb.org/anthology/N10-1012) Newman(2010)\n",
    "    - [u_mass](https://mimno.infosci.cornell.edu/papers/mimno-semantic-emnlp.pdf) Mimno(2011) 高速。\n",
    "    - [c_npmi](https://www.aclweb.org/anthology/W13-0102) Aletras(2013)"
   ]
  },
  {
   "cell_type": "markdown",
   "metadata": {},
   "source": [
    "# 2.2 LDAによるトピック量推定"
   ]
  },
  {
   "cell_type": "markdown",
   "metadata": {},
   "source": [
    "### 2.2.1 データロード"
   ]
  },
  {
   "cell_type": "code",
   "execution_count": 1,
   "metadata": {},
   "outputs": [
    {
     "name": "stdout",
     "output_type": "stream",
     "text": [
      "合計 2.0G\r\n",
      "-rw-r--r-- 1 user01 user01  39M  5月  9 21:33 df.feather\r\n",
      "-rw-r--r-- 1 user01 user01  36M  5月  9 21:36 df_filterd.feather\r\n",
      "-rw-r--r-- 1 user01 user01  40M  5月  9 21:36 df_filterd_joined.feather\r\n",
      "-rw-rw-r-- 1 user01 user01 949M  5月  9 21:38 df_parse_filterd.csv\r\n",
      "-rw-rw-r-- 1 user01 user01 949M  5月  8 21:15 df_parse_filterd_old.csv\r\n",
      "-rw-r--r-- 1 user01 user01  17M  5月  9 17:14 df_parts.feather\r\n"
     ]
    }
   ],
   "source": [
    "!ls -lh ../data/interim/"
   ]
  },
  {
   "cell_type": "code",
   "execution_count": 1,
   "metadata": {},
   "outputs": [],
   "source": [
    "# わかち書きしたデータを読み込む\n",
    "import pandas as pd\n",
    "\n",
    "INTERIM_PATH = \"../data/interim/\"\n",
    "df_parsed = pd.read_csv(f\"{INTERIM_PATH}df_parse_filterd.csv\")"
   ]
  },
  {
   "cell_type": "code",
   "execution_count": 2,
   "metadata": {},
   "outputs": [
    {
     "data": {
      "text/plain": [
       "(2883934, 14)"
      ]
     },
     "execution_count": 2,
     "metadata": {},
     "output_type": "execute_result"
    }
   ],
   "source": [
    "df_parsed.shape"
   ]
  },
  {
   "cell_type": "code",
   "execution_count": 3,
   "metadata": {},
   "outputs": [
    {
     "data": {
      "text/html": [
       "<div>\n",
       "<style scoped>\n",
       "    .dataframe tbody tr th:only-of-type {\n",
       "        vertical-align: middle;\n",
       "    }\n",
       "\n",
       "    .dataframe tbody tr th {\n",
       "        vertical-align: top;\n",
       "    }\n",
       "\n",
       "    .dataframe thead th {\n",
       "        text-align: right;\n",
       "    }\n",
       "</style>\n",
       "<table border=\"1\" class=\"dataframe\">\n",
       "  <thead>\n",
       "    <tr style=\"text-align: right;\">\n",
       "      <th></th>\n",
       "      <th>id</th>\n",
       "      <th>word_position</th>\n",
       "      <th>original_text</th>\n",
       "      <th>surface_form</th>\n",
       "      <th>pronunciation</th>\n",
       "      <th>base_form</th>\n",
       "      <th>word_class</th>\n",
       "      <th>inflection_type</th>\n",
       "      <th>inflection_form</th>\n",
       "      <th>used</th>\n",
       "      <th>0</th>\n",
       "      <th>1</th>\n",
       "      <th>2</th>\n",
       "      <th>3</th>\n",
       "    </tr>\n",
       "  </thead>\n",
       "  <tbody>\n",
       "    <tr>\n",
       "      <th>0</th>\n",
       "      <td>JP200410B50001</td>\n",
       "      <td>0</td>\n",
       "      <td>高速走行中(トンネルの中)、車両前部より白煙(あるいは水蒸気)シートを起こしたところ炎を確認...</td>\n",
       "      <td>高速</td>\n",
       "      <td>コウソク</td>\n",
       "      <td>高速</td>\n",
       "      <td>名詞-一般</td>\n",
       "      <td>NaN</td>\n",
       "      <td>NaN</td>\n",
       "      <td>True</td>\n",
       "      <td>名詞</td>\n",
       "      <td>一般</td>\n",
       "      <td>NaN</td>\n",
       "      <td>NaN</td>\n",
       "    </tr>\n",
       "    <tr>\n",
       "      <th>1</th>\n",
       "      <td>JP200410B50001</td>\n",
       "      <td>1</td>\n",
       "      <td>高速走行中(トンネルの中)、車両前部より白煙(あるいは水蒸気)シートを起こしたところ炎を確認...</td>\n",
       "      <td>走行中</td>\n",
       "      <td>ソウコウチュウ</td>\n",
       "      <td>走行中</td>\n",
       "      <td>名詞-固有名詞-一般</td>\n",
       "      <td>NaN</td>\n",
       "      <td>NaN</td>\n",
       "      <td>True</td>\n",
       "      <td>名詞</td>\n",
       "      <td>固有名詞</td>\n",
       "      <td>一般</td>\n",
       "      <td>NaN</td>\n",
       "    </tr>\n",
       "    <tr>\n",
       "      <th>2</th>\n",
       "      <td>JP200410B50001</td>\n",
       "      <td>3</td>\n",
       "      <td>高速走行中(トンネルの中)、車両前部より白煙(あるいは水蒸気)シートを起こしたところ炎を確認...</td>\n",
       "      <td>トンネル</td>\n",
       "      <td>トンネル</td>\n",
       "      <td>トンネル</td>\n",
       "      <td>名詞-一般</td>\n",
       "      <td>NaN</td>\n",
       "      <td>NaN</td>\n",
       "      <td>True</td>\n",
       "      <td>名詞</td>\n",
       "      <td>一般</td>\n",
       "      <td>NaN</td>\n",
       "      <td>NaN</td>\n",
       "    </tr>\n",
       "  </tbody>\n",
       "</table>\n",
       "</div>"
      ],
      "text/plain": [
       "               id  word_position  \\\n",
       "0  JP200410B50001              0   \n",
       "1  JP200410B50001              1   \n",
       "2  JP200410B50001              3   \n",
       "\n",
       "                                       original_text surface_form  \\\n",
       "0  高速走行中(トンネルの中)、車両前部より白煙(あるいは水蒸気)シートを起こしたところ炎を確認...           高速   \n",
       "1  高速走行中(トンネルの中)、車両前部より白煙(あるいは水蒸気)シートを起こしたところ炎を確認...          走行中   \n",
       "2  高速走行中(トンネルの中)、車両前部より白煙(あるいは水蒸気)シートを起こしたところ炎を確認...         トンネル   \n",
       "\n",
       "  pronunciation base_form  word_class inflection_type inflection_form  used  \\\n",
       "0          コウソク        高速       名詞-一般             NaN             NaN  True   \n",
       "1       ソウコウチュウ       走行中  名詞-固有名詞-一般             NaN             NaN  True   \n",
       "2          トンネル      トンネル       名詞-一般             NaN             NaN  True   \n",
       "\n",
       "    0     1    2    3  \n",
       "0  名詞    一般  NaN  NaN  \n",
       "1  名詞  固有名詞   一般  NaN  \n",
       "2  名詞    一般  NaN  NaN  "
      ]
     },
     "execution_count": 3,
     "metadata": {},
     "output_type": "execute_result"
    }
   ],
   "source": [
    "df_parsed.head(3)"
   ]
  },
  {
   "cell_type": "code",
   "execution_count": 4,
   "metadata": {},
   "outputs": [
    {
     "name": "stdout",
     "output_type": "stream",
     "text": [
      "stop_words.csv\tused_word_types.csv  形態素解析ツールの品詞体系.htm\r\n"
     ]
    }
   ],
   "source": [
    "!ls ../data/external/"
   ]
  },
  {
   "cell_type": "code",
   "execution_count": 5,
   "metadata": {},
   "outputs": [
    {
     "data": {
      "text/html": [
       "<div>\n",
       "<style scoped>\n",
       "    .dataframe tbody tr th:only-of-type {\n",
       "        vertical-align: middle;\n",
       "    }\n",
       "\n",
       "    .dataframe tbody tr th {\n",
       "        vertical-align: top;\n",
       "    }\n",
       "\n",
       "    .dataframe thead th {\n",
       "        text-align: right;\n",
       "    }\n",
       "</style>\n",
       "<table border=\"1\" class=\"dataframe\">\n",
       "  <thead>\n",
       "    <tr style=\"text-align: right;\">\n",
       "      <th></th>\n",
       "      <th>word</th>\n",
       "    </tr>\n",
       "  </thead>\n",
       "  <tbody>\n",
       "    <tr>\n",
       "      <th>0</th>\n",
       "      <td>時</td>\n",
       "    </tr>\n",
       "    <tr>\n",
       "      <th>1</th>\n",
       "      <td>中</td>\n",
       "    </tr>\n",
       "    <tr>\n",
       "      <th>2</th>\n",
       "      <td>の</td>\n",
       "    </tr>\n",
       "    <tr>\n",
       "      <th>3</th>\n",
       "      <td>お客様</td>\n",
       "    </tr>\n",
       "    <tr>\n",
       "      <th>4</th>\n",
       "      <td>店</td>\n",
       "    </tr>\n",
       "    <tr>\n",
       "      <th>5</th>\n",
       "      <td>とき</td>\n",
       "    </tr>\n",
       "    <tr>\n",
       "      <th>6</th>\n",
       "      <td>事</td>\n",
       "    </tr>\n",
       "    <tr>\n",
       "      <th>7</th>\n",
       "      <td>為</td>\n",
       "    </tr>\n",
       "    <tr>\n",
       "      <th>8</th>\n",
       "      <td>こと</td>\n",
       "    </tr>\n",
       "    <tr>\n",
       "      <th>9</th>\n",
       "      <td>様</td>\n",
       "    </tr>\n",
       "    <tr>\n",
       "      <th>10</th>\n",
       "      <td>内</td>\n",
       "    </tr>\n",
       "    <tr>\n",
       "      <th>11</th>\n",
       "      <td>ところ</td>\n",
       "    </tr>\n",
       "    <tr>\n",
       "      <th>12</th>\n",
       "      <td>ため</td>\n",
       "    </tr>\n",
       "    <tr>\n",
       "      <th>13</th>\n",
       "      <td>際</td>\n",
       "    </tr>\n",
       "    <tr>\n",
       "      <th>14</th>\n",
       "      <td>所</td>\n",
       "    </tr>\n",
       "    <tr>\n",
       "      <th>15</th>\n",
       "      <td>位</td>\n",
       "    </tr>\n",
       "    <tr>\n",
       "      <th>16</th>\n",
       "      <td>その後</td>\n",
       "    </tr>\n",
       "    <tr>\n",
       "      <th>17</th>\n",
       "      <td>等</td>\n",
       "    </tr>\n",
       "    <tr>\n",
       "      <th>18</th>\n",
       "      <td>何</td>\n",
       "    </tr>\n",
       "    <tr>\n",
       "      <th>19</th>\n",
       "      <td>ん</td>\n",
       "    </tr>\n",
       "    <tr>\n",
       "      <th>20</th>\n",
       "      <td>感じ</td>\n",
       "    </tr>\n",
       "    <tr>\n",
       "      <th>21</th>\n",
       "      <td>まま</td>\n",
       "    </tr>\n",
       "    <tr>\n",
       "      <th>22</th>\n",
       "      <td>そう</td>\n",
       "    </tr>\n",
       "    <tr>\n",
       "      <th>23</th>\n",
       "      <td>もの</td>\n",
       "    </tr>\n",
       "    <tr>\n",
       "      <th>24</th>\n",
       "      <td>他</td>\n",
       "    </tr>\n",
       "  </tbody>\n",
       "</table>\n",
       "</div>"
      ],
      "text/plain": [
       "   word\n",
       "0     時\n",
       "1     中\n",
       "2     の\n",
       "3   お客様\n",
       "4     店\n",
       "5    とき\n",
       "6     事\n",
       "7     為\n",
       "8    こと\n",
       "9     様\n",
       "10    内\n",
       "11  ところ\n",
       "12   ため\n",
       "13    際\n",
       "14    所\n",
       "15    位\n",
       "16  その後\n",
       "17    等\n",
       "18    何\n",
       "19    ん\n",
       "20   感じ\n",
       "21   まま\n",
       "22   そう\n",
       "23   もの\n",
       "24    他"
      ]
     },
     "execution_count": 5,
     "metadata": {},
     "output_type": "execute_result"
    }
   ],
   "source": [
    "# トピックモデルの対象外とする言葉を読み込む\n",
    "stop_words_path = \"../data/external/stop_words.csv\"\n",
    "\n",
    "df_stop_words = pd.read_csv(stop_words_path)\n",
    "df_stop_words"
   ]
  },
  {
   "cell_type": "code",
   "execution_count": 6,
   "metadata": {},
   "outputs": [],
   "source": [
    "# src/utils/pandas.py より\n",
    "# アンチジョイン用の自作関数。あると便利。\n",
    "def anti_join(left, right, **kwargs):\n",
    "    \"\"\"Return rows in `left` which are not present in `right`\"\"\"\n",
    "    kwargs['how'] = 'left'\n",
    "    kwargs['indicator'] = True\n",
    "    return (\n",
    "        left\n",
    "        .merge(right, **kwargs)\n",
    "        .query('_merge == \"left_only\"')\n",
    "        .drop(columns='_merge')\n",
    "    )"
   ]
  },
  {
   "cell_type": "code",
   "execution_count": 7,
   "metadata": {},
   "outputs": [
    {
     "data": {
      "text/plain": [
       "(2883934, 14)"
      ]
     },
     "execution_count": 7,
     "metadata": {},
     "output_type": "execute_result"
    }
   ],
   "source": [
    "df_parsed.shape"
   ]
  },
  {
   "cell_type": "code",
   "execution_count": 8,
   "metadata": {},
   "outputs": [],
   "source": [
    "# df_parsedからstop wordを除く\n",
    "df_parsed = df_parsed.pipe(\n",
    "    anti_join,\n",
    "    df_stop_words,\n",
    "    left_on='base_form',\n",
    "    right_on='word',\n",
    ")"
   ]
  },
  {
   "cell_type": "code",
   "execution_count": 9,
   "metadata": {},
   "outputs": [
    {
     "data": {
      "text/plain": [
       "(2862849, 15)"
      ]
     },
     "execution_count": 9,
     "metadata": {},
     "output_type": "execute_result"
    }
   ],
   "source": [
    "df_parsed.shape"
   ]
  },
  {
   "cell_type": "markdown",
   "metadata": {},
   "source": [
    "約20000レコード(単語)が削除された"
   ]
  },
  {
   "cell_type": "markdown",
   "metadata": {},
   "source": [
    "### 2.2.2 LDAの前準備"
   ]
  },
  {
   "cell_type": "code",
   "execution_count": 10,
   "metadata": {},
   "outputs": [],
   "source": [
    "# 文章ごとに単語をまとめる\n",
    "parsed_col = (\n",
    "    # id と base_form　（基本形） だけ使う\n",
    "    df_parsed[['id', 'base_form']]\n",
    "    # NAを削除する(なんか混じるので)\n",
    "    .dropna()\n",
    "    # 文書のIDごとにまとめて base_form の list にする\n",
    "    .groupby('id')\n",
    "    .base_form\n",
    "    .apply(list)\n",
    ")"
   ]
  },
  {
   "cell_type": "code",
   "execution_count": 11,
   "metadata": {},
   "outputs": [
    {
     "data": {
      "text/plain": [
       "id\n",
       "JP200410B50001    [高速, 走行中, トンネル, 車両, 前部, 白, 煙, 水蒸気, シート, 起こす, 炎...\n",
       "JP200410B50002                           [アイドリング, キンキン, 高位, する, 診断]\n",
       "JP200410B50003    [普通に, 走行, する, 通勤, 使用, する, エンジン, フロント, カバ, オイル,...\n",
       "JP200410B50004    [ディスクロータ, 錆びる, 走行, キーキー, 音, する, ディスクロータ, 錆びる, ...\n",
       "JP200410B50005    [時々, オート, 動く, なる, オート, 機能, セット, する, 2, 3回, 動く,...\n",
       "Name: base_form, dtype: object"
      ]
     },
     "execution_count": 11,
     "metadata": {},
     "output_type": "execute_result"
    }
   ],
   "source": [
    "parsed_col.head()"
   ]
  },
  {
   "cell_type": "code",
   "execution_count": 12,
   "metadata": {},
   "outputs": [
    {
     "name": "stderr",
     "output_type": "stream",
     "text": [
      "/home/user01/anaconda3/envs/suzuki/lib/python3.6/site-packages/smart_open/ssh.py:34: UserWarning: paramiko missing, opening SSH/SCP/SFTP paths will be disabled.  `pip install paramiko` to suppress\n",
      "  warnings.warn('paramiko missing, opening SSH/SCP/SFTP paths will be disabled.  `pip install paramiko` to suppress')\n"
     ]
    }
   ],
   "source": [
    "from gensim import corpora\n",
    "\n",
    "# 単語を数字に置き換えるための辞書を作成\n",
    "dictionary = corpora.Dictionary(parsed_col)"
   ]
  },
  {
   "cell_type": "code",
   "execution_count": 13,
   "metadata": {},
   "outputs": [
    {
     "name": "stdout",
     "output_type": "stream",
     "text": [
      "0 する\n",
      "1 エンジン\n",
      "2 エンジンオイル\n",
      "3 シート\n",
      "4 トンネル\n"
     ]
    }
   ],
   "source": [
    "for i in range(5): print(i, dictionary[i])"
   ]
  },
  {
   "cell_type": "code",
   "execution_count": 14,
   "metadata": {},
   "outputs": [
    {
     "data": {
      "text/plain": [
       "43942"
      ]
     },
     "execution_count": 14,
     "metadata": {},
     "output_type": "execute_result"
    }
   ],
   "source": [
    "len(dictionary)"
   ]
  },
  {
   "cell_type": "markdown",
   "metadata": {},
   "source": [
    "43942単語の辞書ができた"
   ]
  },
  {
   "cell_type": "code",
   "execution_count": 15,
   "metadata": {},
   "outputs": [],
   "source": [
    "# 辞書を用いて、各文章を数字に変換\n",
    "corpus = parsed_col.apply(dictionary.doc2bow)"
   ]
  },
  {
   "cell_type": "code",
   "execution_count": 16,
   "metadata": {},
   "outputs": [
    {
     "data": {
      "text/plain": [
       "['アイドリング', 'キンキン', '高位', 'する', '診断']"
      ]
     },
     "execution_count": 16,
     "metadata": {},
     "output_type": "execute_result"
    }
   ],
   "source": [
    "parsed_col[1]"
   ]
  },
  {
   "cell_type": "markdown",
   "metadata": {},
   "source": [
    "上の文章は下のように変換された。"
   ]
  },
  {
   "cell_type": "code",
   "execution_count": 17,
   "metadata": {},
   "outputs": [
    {
     "data": {
      "text/plain": [
       "[(0, 1), (24, 1), (25, 1), (26, 1), (27, 1)]"
      ]
     },
     "execution_count": 17,
     "metadata": {},
     "output_type": "execute_result"
    }
   ],
   "source": [
    "corpus[1]"
   ]
  },
  {
   "cell_type": "markdown",
   "metadata": {},
   "source": [
    "辞書を使えば、元に戻せる（順不同）"
   ]
  },
  {
   "cell_type": "code",
   "execution_count": 18,
   "metadata": {},
   "outputs": [
    {
     "data": {
      "text/plain": [
       "['する', 'アイドリング', 'キンキン', '診断', '高位']"
      ]
     },
     "execution_count": 18,
     "metadata": {},
     "output_type": "execute_result"
    }
   ],
   "source": [
    "[dictionary[i] for i,_ in corpus[1]]    "
   ]
  },
  {
   "cell_type": "markdown",
   "metadata": {},
   "source": [
    "### 2.2.3 LDAモデリング"
   ]
  },
  {
   "cell_type": "code",
   "execution_count": 19,
   "metadata": {},
   "outputs": [],
   "source": [
    "# LDAのハイパーパラメータ。今回はトピック数は60トピックでモデリングする。\n",
    "hyper_params = {\n",
    "    'alpha': 'auto',\n",
    "    'eta': 'auto',\n",
    "    'num_topics': 60,\n",
    "    'random_state': 0,\n",
    "    'passes': 100,\n",
    "    'gamma_threshold': 1e-3,\n",
    "    \"chunksize\": 2000,\n",
    "    \"update_every\":1,\n",
    "    \"decay\":0.5,\n",
    "    \"offset\":1.0,\n",
    "    \"eval_every\":10,\n",
    "    \"iterations\":50,\n",
    "    \"distributed\":False,\n",
    "}"
   ]
  },
  {
   "cell_type": "code",
   "execution_count": 54,
   "metadata": {},
   "outputs": [
    {
     "name": "stderr",
     "output_type": "stream",
     "text": [
      "/home/user01/anaconda3/envs/suzuki/lib/python3.6/site-packages/gensim/models/ldamodel.py:1023: RuntimeWarning: divide by zero encountered in log\n",
      "  diff = np.log(self.expElogbeta)\n"
     ]
    }
   ],
   "source": [
    "# LDAでトピック量を計算。かなり時間がかかる。\n",
    "from gensim.models import LdaModel\n",
    "\n",
    "lm = LdaModel(\n",
    "    corpus.tolist(),\n",
    "    id2word=dictionary,\n",
    "    **hyper_params,\n",
    ")"
   ]
  },
  {
   "cell_type": "code",
   "execution_count": 56,
   "metadata": {},
   "outputs": [],
   "source": [
    "# できたモデルを保存\n",
    "import pickle\n",
    "with open(\"../data/processed/lda_model.pkl\", \"wb\") as f:\n",
    "    pickle.dump(lm, f)"
   ]
  },
  {
   "cell_type": "code",
   "execution_count": 20,
   "metadata": {},
   "outputs": [],
   "source": [
    "# 読み込み\n",
    "import pickle\n",
    "with open(\"../data/processed/lda_model.pkl\", \"rb\") as f:\n",
    "    lm = pickle.load(f)"
   ]
  },
  {
   "cell_type": "markdown",
   "metadata": {},
   "source": [
    "### 2.2.4 文章のトピック量の計算"
   ]
  },
  {
   "cell_type": "code",
   "execution_count": 21,
   "metadata": {
    "scrolled": false
   },
   "outputs": [
    {
     "data": {
      "text/plain": [
       "[(46, 0.10485247),\n",
       " (0, 0.061555933),\n",
       " (50, 0.05547047),\n",
       " (43, 0.051919177),\n",
       " (30, 0.051878616)]"
      ]
     },
     "execution_count": 21,
     "metadata": {},
     "output_type": "execute_result"
    }
   ],
   "source": [
    "# できたLDAモデルで、1件目のトピック量を計算してみる(上位5位を表示)\n",
    "topic_test = lm.get_document_topics(corpus[0], minimum_probability=0)\n",
    "sorted(topic_test, key=lambda x:x[1], reverse=True)[:5]"
   ]
  },
  {
   "cell_type": "code",
   "execution_count": 22,
   "metadata": {},
   "outputs": [
    {
     "data": {
      "text/plain": [
       "array(['高速', '走行中', 'トンネル', '車両', '前部', '白', '煙', '水蒸気', 'シート', '起こす',\n",
       "       '炎', '確認', '高速道路', '備え付け', '消火器', '消火', 'エンジンオイル', '空', '状態',\n",
       "       'エンジン', '上部', '出火', 'する', '模様'], dtype='<U7')"
      ]
     },
     "execution_count": 22,
     "metadata": {},
     "output_type": "execute_result"
    }
   ],
   "source": [
    "import numpy as np\n",
    "np.array(parsed_col[0])"
   ]
  },
  {
   "cell_type": "markdown",
   "metadata": {},
   "source": [
    "1件目の文章は、トピック46が最も多く、トピック0, トピック50と続く。"
   ]
  },
  {
   "cell_type": "code",
   "execution_count": 23,
   "metadata": {},
   "outputs": [
    {
     "data": {
      "text/plain": [
       "0.9999999759020284"
      ]
     },
     "execution_count": 23,
     "metadata": {},
     "output_type": "execute_result"
    }
   ],
   "source": [
    "sum([x[1] for x in topic_test])"
   ]
  },
  {
   "cell_type": "markdown",
   "metadata": {},
   "source": [
    "トピック量の合計は1となるよう正規化されている。(丸めの影響で若干異なるが)"
   ]
  },
  {
   "cell_type": "code",
   "execution_count": 24,
   "metadata": {},
   "outputs": [],
   "source": [
    "def is_indict(word):\n",
    "    return word in set(dictionary.values())"
   ]
  },
  {
   "cell_type": "code",
   "execution_count": 25,
   "metadata": {},
   "outputs": [
    {
     "data": {
      "text/plain": [
       "[True, True, True, True, True, False]"
      ]
     },
     "execution_count": 25,
     "metadata": {},
     "output_type": "execute_result"
    }
   ],
   "source": [
    "[is_indict(x) for x in [\"今日\",\"天気\", \"寒い\", \"霧\", \"多い\", \"テラデータ\"]]"
   ]
  },
  {
   "cell_type": "code",
   "execution_count": 26,
   "metadata": {},
   "outputs": [
    {
     "data": {
      "text/plain": [
       "[(46, 0.10453187),\n",
       " (7, 0.052740756),\n",
       " (28, 0.050256826),\n",
       " (47, 0.049845695),\n",
       " (34, 0.047210664)]"
      ]
     },
     "execution_count": 26,
     "metadata": {},
     "output_type": "execute_result"
    }
   ],
   "source": [
    "# できたLDAモデルで、トピック量を計算してみる\n",
    "topic_test2 = lm.get_document_topics(dictionary.doc2bow([\"今日\",\"天気\", \"寒い\", \"霧\", \"多い\"]))\n",
    "sorted(topic_test2, key=lambda x:x[1], reverse=True)[:5]"
   ]
  },
  {
   "cell_type": "markdown",
   "metadata": {},
   "source": [
    "こちらの文章は、トピック46が最も多く、トピック7, トピック28と続いた。"
   ]
  },
  {
   "cell_type": "markdown",
   "metadata": {},
   "source": [
    "seriesに対してapplyすることで、一気にトピックを計算できる"
   ]
  },
  {
   "cell_type": "code",
   "execution_count": 27,
   "metadata": {},
   "outputs": [
    {
     "data": {
      "text/plain": [
       "id\n",
       "JP200410B50001    [(0, 0.061555933), (1, 0.008286304), (2, 0.006...\n",
       "JP200410B50002    [(0, 0.026352558), (1, 0.01417279), (2, 0.0108...\n",
       "JP200410B50003    [(0, 0.040343437), (1, 0.008687206), (2, 0.006...\n",
       "JP200410B50004    [(0, 0.021307122), (1, 0.011459281), (2, 0.008...\n",
       "JP200410B50005    [(0, 0.020028884), (1, 0.010771825), (2, 0.008...\n",
       "Name: base_form, dtype: object"
      ]
     },
     "execution_count": 27,
     "metadata": {},
     "output_type": "execute_result"
    }
   ],
   "source": [
    "corpus[:5].apply(lm.get_document_topics , minimum_probability=0)"
   ]
  },
  {
   "cell_type": "code",
   "execution_count": 28,
   "metadata": {},
   "outputs": [
    {
     "data": {
      "text/html": [
       "<div>\n",
       "<style scoped>\n",
       "    .dataframe tbody tr th:only-of-type {\n",
       "        vertical-align: middle;\n",
       "    }\n",
       "\n",
       "    .dataframe tbody tr th {\n",
       "        vertical-align: top;\n",
       "    }\n",
       "\n",
       "    .dataframe thead th {\n",
       "        text-align: right;\n",
       "    }\n",
       "</style>\n",
       "<table border=\"1\" class=\"dataframe\">\n",
       "  <thead>\n",
       "    <tr style=\"text-align: right;\">\n",
       "      <th></th>\n",
       "      <th>0</th>\n",
       "      <th>1</th>\n",
       "      <th>2</th>\n",
       "      <th>3</th>\n",
       "      <th>4</th>\n",
       "      <th>5</th>\n",
       "      <th>6</th>\n",
       "      <th>7</th>\n",
       "      <th>8</th>\n",
       "      <th>9</th>\n",
       "      <th>...</th>\n",
       "      <th>50</th>\n",
       "      <th>51</th>\n",
       "      <th>52</th>\n",
       "      <th>53</th>\n",
       "      <th>54</th>\n",
       "      <th>55</th>\n",
       "      <th>56</th>\n",
       "      <th>57</th>\n",
       "      <th>58</th>\n",
       "      <th>59</th>\n",
       "    </tr>\n",
       "    <tr>\n",
       "      <th>id</th>\n",
       "      <th></th>\n",
       "      <th></th>\n",
       "      <th></th>\n",
       "      <th></th>\n",
       "      <th></th>\n",
       "      <th></th>\n",
       "      <th></th>\n",
       "      <th></th>\n",
       "      <th></th>\n",
       "      <th></th>\n",
       "      <th></th>\n",
       "      <th></th>\n",
       "      <th></th>\n",
       "      <th></th>\n",
       "      <th></th>\n",
       "      <th></th>\n",
       "      <th></th>\n",
       "      <th></th>\n",
       "      <th></th>\n",
       "      <th></th>\n",
       "      <th></th>\n",
       "    </tr>\n",
       "  </thead>\n",
       "  <tbody>\n",
       "    <tr>\n",
       "      <th>JP200410B50001</th>\n",
       "      <td>0.061556</td>\n",
       "      <td>0.008286</td>\n",
       "      <td>0.006340</td>\n",
       "      <td>0.006153</td>\n",
       "      <td>0.008337</td>\n",
       "      <td>0.005580</td>\n",
       "      <td>0.033003</td>\n",
       "      <td>0.029619</td>\n",
       "      <td>0.001875</td>\n",
       "      <td>0.005071</td>\n",
       "      <td>...</td>\n",
       "      <td>0.055470</td>\n",
       "      <td>0.031133</td>\n",
       "      <td>0.009908</td>\n",
       "      <td>0.004700</td>\n",
       "      <td>0.010765</td>\n",
       "      <td>0.008374</td>\n",
       "      <td>0.004746</td>\n",
       "      <td>0.005841</td>\n",
       "      <td>0.006615</td>\n",
       "      <td>0.005253</td>\n",
       "    </tr>\n",
       "    <tr>\n",
       "      <th>JP200410B50002</th>\n",
       "      <td>0.026353</td>\n",
       "      <td>0.014173</td>\n",
       "      <td>0.010844</td>\n",
       "      <td>0.049990</td>\n",
       "      <td>0.014259</td>\n",
       "      <td>0.009544</td>\n",
       "      <td>0.016982</td>\n",
       "      <td>0.050659</td>\n",
       "      <td>0.003207</td>\n",
       "      <td>0.008674</td>\n",
       "      <td>...</td>\n",
       "      <td>0.015944</td>\n",
       "      <td>0.013784</td>\n",
       "      <td>0.016946</td>\n",
       "      <td>0.008039</td>\n",
       "      <td>0.018412</td>\n",
       "      <td>0.053788</td>\n",
       "      <td>0.008118</td>\n",
       "      <td>0.009990</td>\n",
       "      <td>0.011315</td>\n",
       "      <td>0.008984</td>\n",
       "    </tr>\n",
       "    <tr>\n",
       "      <th>JP200410B50003</th>\n",
       "      <td>0.040343</td>\n",
       "      <td>0.008687</td>\n",
       "      <td>0.006647</td>\n",
       "      <td>0.006451</td>\n",
       "      <td>0.032931</td>\n",
       "      <td>0.005850</td>\n",
       "      <td>0.034600</td>\n",
       "      <td>0.031052</td>\n",
       "      <td>0.001966</td>\n",
       "      <td>0.005317</td>\n",
       "      <td>...</td>\n",
       "      <td>0.033964</td>\n",
       "      <td>0.008449</td>\n",
       "      <td>0.010387</td>\n",
       "      <td>0.004928</td>\n",
       "      <td>0.011285</td>\n",
       "      <td>0.008779</td>\n",
       "      <td>0.004976</td>\n",
       "      <td>0.006123</td>\n",
       "      <td>0.006935</td>\n",
       "      <td>0.005507</td>\n",
       "    </tr>\n",
       "    <tr>\n",
       "      <th>JP200410B50004</th>\n",
       "      <td>0.021307</td>\n",
       "      <td>0.011459</td>\n",
       "      <td>0.008768</td>\n",
       "      <td>0.008509</td>\n",
       "      <td>0.011529</td>\n",
       "      <td>0.039627</td>\n",
       "      <td>0.013731</td>\n",
       "      <td>0.009050</td>\n",
       "      <td>0.002593</td>\n",
       "      <td>0.007013</td>\n",
       "      <td>...</td>\n",
       "      <td>0.012891</td>\n",
       "      <td>0.011145</td>\n",
       "      <td>0.013702</td>\n",
       "      <td>0.006500</td>\n",
       "      <td>0.014887</td>\n",
       "      <td>0.011580</td>\n",
       "      <td>0.006564</td>\n",
       "      <td>0.008077</td>\n",
       "      <td>0.041058</td>\n",
       "      <td>0.007264</td>\n",
       "    </tr>\n",
       "    <tr>\n",
       "      <th>JP200410B50005</th>\n",
       "      <td>0.020029</td>\n",
       "      <td>0.010772</td>\n",
       "      <td>0.008242</td>\n",
       "      <td>0.007999</td>\n",
       "      <td>0.010837</td>\n",
       "      <td>0.007254</td>\n",
       "      <td>0.012907</td>\n",
       "      <td>0.008507</td>\n",
       "      <td>0.002438</td>\n",
       "      <td>0.006593</td>\n",
       "      <td>...</td>\n",
       "      <td>0.012118</td>\n",
       "      <td>0.010476</td>\n",
       "      <td>0.042875</td>\n",
       "      <td>0.006110</td>\n",
       "      <td>0.013993</td>\n",
       "      <td>0.010886</td>\n",
       "      <td>0.006170</td>\n",
       "      <td>0.037588</td>\n",
       "      <td>0.008600</td>\n",
       "      <td>0.006828</td>\n",
       "    </tr>\n",
       "  </tbody>\n",
       "</table>\n",
       "<p>5 rows × 60 columns</p>\n",
       "</div>"
      ],
      "text/plain": [
       "                      0         1         2         3         4         5   \\\n",
       "id                                                                           \n",
       "JP200410B50001  0.061556  0.008286  0.006340  0.006153  0.008337  0.005580   \n",
       "JP200410B50002  0.026353  0.014173  0.010844  0.049990  0.014259  0.009544   \n",
       "JP200410B50003  0.040343  0.008687  0.006647  0.006451  0.032931  0.005850   \n",
       "JP200410B50004  0.021307  0.011459  0.008768  0.008509  0.011529  0.039627   \n",
       "JP200410B50005  0.020029  0.010772  0.008242  0.007999  0.010837  0.007254   \n",
       "\n",
       "                      6         7         8         9   ...        50  \\\n",
       "id                                                      ...             \n",
       "JP200410B50001  0.033003  0.029619  0.001875  0.005071  ...  0.055470   \n",
       "JP200410B50002  0.016982  0.050659  0.003207  0.008674  ...  0.015944   \n",
       "JP200410B50003  0.034600  0.031052  0.001966  0.005317  ...  0.033964   \n",
       "JP200410B50004  0.013731  0.009050  0.002593  0.007013  ...  0.012891   \n",
       "JP200410B50005  0.012907  0.008507  0.002438  0.006593  ...  0.012118   \n",
       "\n",
       "                      51        52        53        54        55        56  \\\n",
       "id                                                                           \n",
       "JP200410B50001  0.031133  0.009908  0.004700  0.010765  0.008374  0.004746   \n",
       "JP200410B50002  0.013784  0.016946  0.008039  0.018412  0.053788  0.008118   \n",
       "JP200410B50003  0.008449  0.010387  0.004928  0.011285  0.008779  0.004976   \n",
       "JP200410B50004  0.011145  0.013702  0.006500  0.014887  0.011580  0.006564   \n",
       "JP200410B50005  0.010476  0.042875  0.006110  0.013993  0.010886  0.006170   \n",
       "\n",
       "                      57        58        59  \n",
       "id                                            \n",
       "JP200410B50001  0.005841  0.006615  0.005253  \n",
       "JP200410B50002  0.009990  0.011315  0.008984  \n",
       "JP200410B50003  0.006123  0.006935  0.005507  \n",
       "JP200410B50004  0.008077  0.041058  0.007264  \n",
       "JP200410B50005  0.037588  0.008600  0.006828  \n",
       "\n",
       "[5 rows x 60 columns]"
      ]
     },
     "execution_count": 28,
     "metadata": {},
     "output_type": "execute_result"
    }
   ],
   "source": [
    "from operator import itemgetter\n",
    "\n",
    "corpus[:5].apply(lm.get_document_topics , minimum_probability=0)\\\n",
    "    .apply(lambda x: pd.Series(map(itemgetter(1), x)))"
   ]
  },
  {
   "cell_type": "code",
   "execution_count": 29,
   "metadata": {},
   "outputs": [],
   "source": [
    "from operator import itemgetter\n",
    "\n",
    "# できたLDAモデルをもとに、文章のトピック量を計算\n",
    "df_docs = df_parsed[['id', 'original_text']].drop_duplicates()\n",
    "df_docs.columns = ['id', 'doc']\n",
    "df_topic = (corpus\n",
    "    .apply(lm.get_document_topics , minimum_probability=0)\n",
    "    .apply(lambda x: pd.Series(map(itemgetter(1), x)))\n",
    "    .fillna(0)\n",
    "    .rename(columns=lambda i: f'topic_{i}'))"
   ]
  },
  {
   "cell_type": "code",
   "execution_count": 30,
   "metadata": {},
   "outputs": [
    {
     "data": {
      "text/html": [
       "<div>\n",
       "<style scoped>\n",
       "    .dataframe tbody tr th:only-of-type {\n",
       "        vertical-align: middle;\n",
       "    }\n",
       "\n",
       "    .dataframe tbody tr th {\n",
       "        vertical-align: top;\n",
       "    }\n",
       "\n",
       "    .dataframe thead th {\n",
       "        text-align: right;\n",
       "    }\n",
       "</style>\n",
       "<table border=\"1\" class=\"dataframe\">\n",
       "  <thead>\n",
       "    <tr style=\"text-align: right;\">\n",
       "      <th></th>\n",
       "      <th>topic_0</th>\n",
       "      <th>topic_1</th>\n",
       "      <th>topic_2</th>\n",
       "      <th>topic_3</th>\n",
       "      <th>topic_4</th>\n",
       "      <th>topic_5</th>\n",
       "      <th>topic_6</th>\n",
       "      <th>topic_7</th>\n",
       "      <th>topic_8</th>\n",
       "      <th>topic_9</th>\n",
       "      <th>...</th>\n",
       "      <th>topic_50</th>\n",
       "      <th>topic_51</th>\n",
       "      <th>topic_52</th>\n",
       "      <th>topic_53</th>\n",
       "      <th>topic_54</th>\n",
       "      <th>topic_55</th>\n",
       "      <th>topic_56</th>\n",
       "      <th>topic_57</th>\n",
       "      <th>topic_58</th>\n",
       "      <th>topic_59</th>\n",
       "    </tr>\n",
       "    <tr>\n",
       "      <th>id</th>\n",
       "      <th></th>\n",
       "      <th></th>\n",
       "      <th></th>\n",
       "      <th></th>\n",
       "      <th></th>\n",
       "      <th></th>\n",
       "      <th></th>\n",
       "      <th></th>\n",
       "      <th></th>\n",
       "      <th></th>\n",
       "      <th></th>\n",
       "      <th></th>\n",
       "      <th></th>\n",
       "      <th></th>\n",
       "      <th></th>\n",
       "      <th></th>\n",
       "      <th></th>\n",
       "      <th></th>\n",
       "      <th></th>\n",
       "      <th></th>\n",
       "      <th></th>\n",
       "    </tr>\n",
       "  </thead>\n",
       "  <tbody>\n",
       "    <tr>\n",
       "      <th>JP200410B50001</th>\n",
       "      <td>0.061556</td>\n",
       "      <td>0.008286</td>\n",
       "      <td>0.006340</td>\n",
       "      <td>0.006153</td>\n",
       "      <td>0.008337</td>\n",
       "      <td>0.005580</td>\n",
       "      <td>0.033003</td>\n",
       "      <td>0.029619</td>\n",
       "      <td>0.001875</td>\n",
       "      <td>0.005071</td>\n",
       "      <td>...</td>\n",
       "      <td>0.055470</td>\n",
       "      <td>0.031133</td>\n",
       "      <td>0.009908</td>\n",
       "      <td>0.004700</td>\n",
       "      <td>0.010765</td>\n",
       "      <td>0.008374</td>\n",
       "      <td>0.004746</td>\n",
       "      <td>0.005841</td>\n",
       "      <td>0.006615</td>\n",
       "      <td>0.005253</td>\n",
       "    </tr>\n",
       "    <tr>\n",
       "      <th>JP200410B50002</th>\n",
       "      <td>0.026353</td>\n",
       "      <td>0.014173</td>\n",
       "      <td>0.010844</td>\n",
       "      <td>0.049990</td>\n",
       "      <td>0.014259</td>\n",
       "      <td>0.009544</td>\n",
       "      <td>0.016982</td>\n",
       "      <td>0.050659</td>\n",
       "      <td>0.003207</td>\n",
       "      <td>0.008674</td>\n",
       "      <td>...</td>\n",
       "      <td>0.015944</td>\n",
       "      <td>0.013784</td>\n",
       "      <td>0.016946</td>\n",
       "      <td>0.008039</td>\n",
       "      <td>0.018412</td>\n",
       "      <td>0.053788</td>\n",
       "      <td>0.008118</td>\n",
       "      <td>0.009990</td>\n",
       "      <td>0.011315</td>\n",
       "      <td>0.008984</td>\n",
       "    </tr>\n",
       "    <tr>\n",
       "      <th>JP200410B50003</th>\n",
       "      <td>0.040343</td>\n",
       "      <td>0.008687</td>\n",
       "      <td>0.006647</td>\n",
       "      <td>0.006451</td>\n",
       "      <td>0.032931</td>\n",
       "      <td>0.005850</td>\n",
       "      <td>0.034600</td>\n",
       "      <td>0.031052</td>\n",
       "      <td>0.001966</td>\n",
       "      <td>0.005317</td>\n",
       "      <td>...</td>\n",
       "      <td>0.033964</td>\n",
       "      <td>0.008449</td>\n",
       "      <td>0.010387</td>\n",
       "      <td>0.004928</td>\n",
       "      <td>0.011285</td>\n",
       "      <td>0.008779</td>\n",
       "      <td>0.004976</td>\n",
       "      <td>0.006123</td>\n",
       "      <td>0.006935</td>\n",
       "      <td>0.005507</td>\n",
       "    </tr>\n",
       "    <tr>\n",
       "      <th>JP200410B50004</th>\n",
       "      <td>0.021307</td>\n",
       "      <td>0.011459</td>\n",
       "      <td>0.008768</td>\n",
       "      <td>0.008509</td>\n",
       "      <td>0.011529</td>\n",
       "      <td>0.039627</td>\n",
       "      <td>0.013731</td>\n",
       "      <td>0.009050</td>\n",
       "      <td>0.002593</td>\n",
       "      <td>0.007013</td>\n",
       "      <td>...</td>\n",
       "      <td>0.012891</td>\n",
       "      <td>0.011145</td>\n",
       "      <td>0.013702</td>\n",
       "      <td>0.006500</td>\n",
       "      <td>0.014887</td>\n",
       "      <td>0.011580</td>\n",
       "      <td>0.006564</td>\n",
       "      <td>0.008077</td>\n",
       "      <td>0.041058</td>\n",
       "      <td>0.007264</td>\n",
       "    </tr>\n",
       "    <tr>\n",
       "      <th>JP200410B50005</th>\n",
       "      <td>0.020029</td>\n",
       "      <td>0.010772</td>\n",
       "      <td>0.008242</td>\n",
       "      <td>0.007999</td>\n",
       "      <td>0.010837</td>\n",
       "      <td>0.007254</td>\n",
       "      <td>0.012907</td>\n",
       "      <td>0.008507</td>\n",
       "      <td>0.002438</td>\n",
       "      <td>0.006593</td>\n",
       "      <td>...</td>\n",
       "      <td>0.012118</td>\n",
       "      <td>0.010476</td>\n",
       "      <td>0.042875</td>\n",
       "      <td>0.006110</td>\n",
       "      <td>0.013993</td>\n",
       "      <td>0.010886</td>\n",
       "      <td>0.006170</td>\n",
       "      <td>0.037588</td>\n",
       "      <td>0.008600</td>\n",
       "      <td>0.006828</td>\n",
       "    </tr>\n",
       "  </tbody>\n",
       "</table>\n",
       "<p>5 rows × 60 columns</p>\n",
       "</div>"
      ],
      "text/plain": [
       "                 topic_0   topic_1   topic_2   topic_3   topic_4   topic_5  \\\n",
       "id                                                                           \n",
       "JP200410B50001  0.061556  0.008286  0.006340  0.006153  0.008337  0.005580   \n",
       "JP200410B50002  0.026353  0.014173  0.010844  0.049990  0.014259  0.009544   \n",
       "JP200410B50003  0.040343  0.008687  0.006647  0.006451  0.032931  0.005850   \n",
       "JP200410B50004  0.021307  0.011459  0.008768  0.008509  0.011529  0.039627   \n",
       "JP200410B50005  0.020029  0.010772  0.008242  0.007999  0.010837  0.007254   \n",
       "\n",
       "                 topic_6   topic_7   topic_8   topic_9  ...  topic_50  \\\n",
       "id                                                      ...             \n",
       "JP200410B50001  0.033003  0.029619  0.001875  0.005071  ...  0.055470   \n",
       "JP200410B50002  0.016982  0.050659  0.003207  0.008674  ...  0.015944   \n",
       "JP200410B50003  0.034600  0.031052  0.001966  0.005317  ...  0.033964   \n",
       "JP200410B50004  0.013731  0.009050  0.002593  0.007013  ...  0.012891   \n",
       "JP200410B50005  0.012907  0.008507  0.002438  0.006593  ...  0.012118   \n",
       "\n",
       "                topic_51  topic_52  topic_53  topic_54  topic_55  topic_56  \\\n",
       "id                                                                           \n",
       "JP200410B50001  0.031133  0.009908  0.004700  0.010765  0.008374  0.004746   \n",
       "JP200410B50002  0.013784  0.016946  0.008039  0.018412  0.053788  0.008118   \n",
       "JP200410B50003  0.008449  0.010387  0.004928  0.011285  0.008779  0.004976   \n",
       "JP200410B50004  0.011145  0.013702  0.006500  0.014887  0.011580  0.006564   \n",
       "JP200410B50005  0.010476  0.042875  0.006110  0.013993  0.010886  0.006170   \n",
       "\n",
       "                topic_57  topic_58  topic_59  \n",
       "id                                            \n",
       "JP200410B50001  0.005841  0.006615  0.005253  \n",
       "JP200410B50002  0.009990  0.011315  0.008984  \n",
       "JP200410B50003  0.006123  0.006935  0.005507  \n",
       "JP200410B50004  0.008077  0.041058  0.007264  \n",
       "JP200410B50005  0.037588  0.008600  0.006828  \n",
       "\n",
       "[5 rows x 60 columns]"
      ]
     },
     "execution_count": 30,
     "metadata": {},
     "output_type": "execute_result"
    }
   ],
   "source": [
    "df_topic.head()"
   ]
  },
  {
   "cell_type": "code",
   "execution_count": 31,
   "metadata": {},
   "outputs": [],
   "source": [
    "df_doc_topics = pd.concat([\n",
    "    df_docs.set_index('id'), df_topic], axis=1)"
   ]
  },
  {
   "cell_type": "code",
   "execution_count": 32,
   "metadata": {},
   "outputs": [
    {
     "data": {
      "text/html": [
       "<div>\n",
       "<style scoped>\n",
       "    .dataframe tbody tr th:only-of-type {\n",
       "        vertical-align: middle;\n",
       "    }\n",
       "\n",
       "    .dataframe tbody tr th {\n",
       "        vertical-align: top;\n",
       "    }\n",
       "\n",
       "    .dataframe thead th {\n",
       "        text-align: right;\n",
       "    }\n",
       "</style>\n",
       "<table border=\"1\" class=\"dataframe\">\n",
       "  <thead>\n",
       "    <tr style=\"text-align: right;\">\n",
       "      <th></th>\n",
       "      <th>doc</th>\n",
       "      <th>topic_0</th>\n",
       "      <th>topic_1</th>\n",
       "      <th>topic_2</th>\n",
       "      <th>topic_3</th>\n",
       "      <th>topic_4</th>\n",
       "      <th>topic_5</th>\n",
       "      <th>topic_6</th>\n",
       "      <th>topic_7</th>\n",
       "      <th>topic_8</th>\n",
       "      <th>...</th>\n",
       "      <th>topic_50</th>\n",
       "      <th>topic_51</th>\n",
       "      <th>topic_52</th>\n",
       "      <th>topic_53</th>\n",
       "      <th>topic_54</th>\n",
       "      <th>topic_55</th>\n",
       "      <th>topic_56</th>\n",
       "      <th>topic_57</th>\n",
       "      <th>topic_58</th>\n",
       "      <th>topic_59</th>\n",
       "    </tr>\n",
       "    <tr>\n",
       "      <th>id</th>\n",
       "      <th></th>\n",
       "      <th></th>\n",
       "      <th></th>\n",
       "      <th></th>\n",
       "      <th></th>\n",
       "      <th></th>\n",
       "      <th></th>\n",
       "      <th></th>\n",
       "      <th></th>\n",
       "      <th></th>\n",
       "      <th></th>\n",
       "      <th></th>\n",
       "      <th></th>\n",
       "      <th></th>\n",
       "      <th></th>\n",
       "      <th></th>\n",
       "      <th></th>\n",
       "      <th></th>\n",
       "      <th></th>\n",
       "      <th></th>\n",
       "      <th></th>\n",
       "    </tr>\n",
       "  </thead>\n",
       "  <tbody>\n",
       "    <tr>\n",
       "      <th>JP200410B50001</th>\n",
       "      <td>高速走行中(トンネルの中)、車両前部より白煙(あるいは水蒸気)シートを起こしたところ炎を確認...</td>\n",
       "      <td>0.061556</td>\n",
       "      <td>0.008286</td>\n",
       "      <td>0.006340</td>\n",
       "      <td>0.006153</td>\n",
       "      <td>0.008337</td>\n",
       "      <td>0.005580</td>\n",
       "      <td>0.033003</td>\n",
       "      <td>0.029619</td>\n",
       "      <td>0.001875</td>\n",
       "      <td>...</td>\n",
       "      <td>0.055470</td>\n",
       "      <td>0.031133</td>\n",
       "      <td>0.009908</td>\n",
       "      <td>0.004700</td>\n",
       "      <td>0.010765</td>\n",
       "      <td>0.008374</td>\n",
       "      <td>0.004746</td>\n",
       "      <td>0.005841</td>\n",
       "      <td>0.006615</td>\n",
       "      <td>0.005253</td>\n",
       "    </tr>\n",
       "    <tr>\n",
       "      <th>JP200410B50002</th>\n",
       "      <td>アイドリングの時にキンキンと高い音がする $ 診断中 $</td>\n",
       "      <td>0.026353</td>\n",
       "      <td>0.014173</td>\n",
       "      <td>0.010844</td>\n",
       "      <td>0.049990</td>\n",
       "      <td>0.014259</td>\n",
       "      <td>0.009544</td>\n",
       "      <td>0.016982</td>\n",
       "      <td>0.050659</td>\n",
       "      <td>0.003207</td>\n",
       "      <td>...</td>\n",
       "      <td>0.015944</td>\n",
       "      <td>0.013784</td>\n",
       "      <td>0.016946</td>\n",
       "      <td>0.008039</td>\n",
       "      <td>0.018412</td>\n",
       "      <td>0.053788</td>\n",
       "      <td>0.008118</td>\n",
       "      <td>0.009990</td>\n",
       "      <td>0.011315</td>\n",
       "      <td>0.008984</td>\n",
       "    </tr>\n",
       "  </tbody>\n",
       "</table>\n",
       "<p>2 rows × 61 columns</p>\n",
       "</div>"
      ],
      "text/plain": [
       "                                                              doc   topic_0  \\\n",
       "id                                                                            \n",
       "JP200410B50001  高速走行中(トンネルの中)、車両前部より白煙(あるいは水蒸気)シートを起こしたところ炎を確認...  0.061556   \n",
       "JP200410B50002                      アイドリングの時にキンキンと高い音がする $ 診断中 $   0.026353   \n",
       "\n",
       "                 topic_1   topic_2   topic_3   topic_4   topic_5   topic_6  \\\n",
       "id                                                                           \n",
       "JP200410B50001  0.008286  0.006340  0.006153  0.008337  0.005580  0.033003   \n",
       "JP200410B50002  0.014173  0.010844  0.049990  0.014259  0.009544  0.016982   \n",
       "\n",
       "                 topic_7   topic_8  ...  topic_50  topic_51  topic_52  \\\n",
       "id                                  ...                                 \n",
       "JP200410B50001  0.029619  0.001875  ...  0.055470  0.031133  0.009908   \n",
       "JP200410B50002  0.050659  0.003207  ...  0.015944  0.013784  0.016946   \n",
       "\n",
       "                topic_53  topic_54  topic_55  topic_56  topic_57  topic_58  \\\n",
       "id                                                                           \n",
       "JP200410B50001  0.004700  0.010765  0.008374  0.004746  0.005841  0.006615   \n",
       "JP200410B50002  0.008039  0.018412  0.053788  0.008118  0.009990  0.011315   \n",
       "\n",
       "                topic_59  \n",
       "id                        \n",
       "JP200410B50001  0.005253  \n",
       "JP200410B50002  0.008984  \n",
       "\n",
       "[2 rows x 61 columns]"
      ]
     },
     "execution_count": 32,
     "metadata": {},
     "output_type": "execute_result"
    }
   ],
   "source": [
    "df_doc_topics.head(2)"
   ]
  },
  {
   "cell_type": "code",
   "execution_count": 33,
   "metadata": {},
   "outputs": [
    {
     "data": {
      "text/plain": [
       "2007691"
      ]
     },
     "execution_count": 33,
     "metadata": {},
     "output_type": "execute_result"
    }
   ],
   "source": [
    "# 要らなくなったデータを削除してメモリを開放\n",
    "import gc\n",
    "del df_docs, df_topic, df_parsed, parsed_col\n",
    "gc.collect()"
   ]
  },
  {
   "cell_type": "markdown",
   "metadata": {},
   "source": [
    "### 2.2.5 単語のトピック量の計算"
   ]
  },
  {
   "cell_type": "code",
   "execution_count": 34,
   "metadata": {},
   "outputs": [
    {
     "name": "stdout",
     "output_type": "stream",
     "text": [
      "(60, 43942)\n"
     ]
    },
    {
     "data": {
      "text/plain": [
       "array([[2.9358150e-08, 2.9245975e-08, 2.9029462e-08, ..., 1.7191868e-09,\n",
       "        1.7191868e-09, 1.7191868e-09],\n",
       "       [5.7133636e-08, 5.6915336e-08, 5.6493981e-08, ..., 3.3456944e-09,\n",
       "        3.3456944e-09, 3.3456944e-09],\n",
       "       [8.6399503e-08, 8.6069377e-08, 8.5432191e-08, ..., 5.0594768e-09,\n",
       "        5.0594768e-09, 5.0594768e-09],\n",
       "       ...,\n",
       "       [8.5603965e-08, 8.5276881e-08, 8.4645556e-08, ..., 5.0128910e-09,\n",
       "        5.0128910e-09, 5.0128910e-09],\n",
       "       [7.0304480e-08, 7.0035853e-08, 6.9517370e-08, ..., 4.1169672e-09,\n",
       "        4.1169672e-09, 4.1169672e-09],\n",
       "       [1.0711761e-07, 1.0670832e-07, 1.0591834e-07, ..., 6.2727104e-09,\n",
       "        6.2727104e-09, 6.2727104e-09]], dtype=float32)"
      ]
     },
     "execution_count": 34,
     "metadata": {},
     "output_type": "execute_result"
    }
   ],
   "source": [
    "# 各単語のトピック量はget_topicsメソッドで取得てきる\n",
    "print(lm.get_topics().shape)\n",
    "lm.get_topics()"
   ]
  },
  {
   "cell_type": "code",
   "execution_count": 35,
   "metadata": {},
   "outputs": [],
   "source": [
    "colnames = [\n",
    "        f'topic_{i}'\n",
    "        for i\n",
    "        in range(hyper_params['num_topics'])\n",
    "]\n",
    "\n",
    "# 各単語のトピック量をDataFrameに。最後に合計で割ることで、合計が1となるよう正規化する。\n",
    "# dictionary.valuesで各番号に対応する単語を取得している\n",
    "df_topic_words = pd.DataFrame(\n",
    "    data=lm.get_topics().transpose(),\n",
    "    index=dictionary.values(),\n",
    "    columns=colnames\n",
    ").apply(lambda s: s / s.sum())"
   ]
  },
  {
   "cell_type": "code",
   "execution_count": 36,
   "metadata": {},
   "outputs": [
    {
     "data": {
      "text/html": [
       "<div>\n",
       "<style scoped>\n",
       "    .dataframe tbody tr th:only-of-type {\n",
       "        vertical-align: middle;\n",
       "    }\n",
       "\n",
       "    .dataframe tbody tr th {\n",
       "        vertical-align: top;\n",
       "    }\n",
       "\n",
       "    .dataframe thead th {\n",
       "        text-align: right;\n",
       "    }\n",
       "</style>\n",
       "<table border=\"1\" class=\"dataframe\">\n",
       "  <thead>\n",
       "    <tr style=\"text-align: right;\">\n",
       "      <th></th>\n",
       "      <th>topic_0</th>\n",
       "      <th>topic_1</th>\n",
       "      <th>topic_2</th>\n",
       "      <th>topic_3</th>\n",
       "      <th>topic_4</th>\n",
       "      <th>topic_5</th>\n",
       "      <th>topic_6</th>\n",
       "      <th>topic_7</th>\n",
       "      <th>topic_8</th>\n",
       "      <th>topic_9</th>\n",
       "      <th>...</th>\n",
       "      <th>topic_50</th>\n",
       "      <th>topic_51</th>\n",
       "      <th>topic_52</th>\n",
       "      <th>topic_53</th>\n",
       "      <th>topic_54</th>\n",
       "      <th>topic_55</th>\n",
       "      <th>topic_56</th>\n",
       "      <th>topic_57</th>\n",
       "      <th>topic_58</th>\n",
       "      <th>topic_59</th>\n",
       "    </tr>\n",
       "  </thead>\n",
       "  <tbody>\n",
       "    <tr>\n",
       "      <th>する</th>\n",
       "      <td>2.935815e-08</td>\n",
       "      <td>5.713363e-08</td>\n",
       "      <td>8.639951e-08</td>\n",
       "      <td>9.533522e-08</td>\n",
       "      <td>6.265058e-08</td>\n",
       "      <td>1.070556e-07</td>\n",
       "      <td>4.823187e-08</td>\n",
       "      <td>6.811280e-08</td>\n",
       "      <td>3.972064e-07</td>\n",
       "      <td>8.877240e-08</td>\n",
       "      <td>...</td>\n",
       "      <td>4.796875e-08</td>\n",
       "      <td>5.965382e-08</td>\n",
       "      <td>4.926487e-08</td>\n",
       "      <td>9.416696e-08</td>\n",
       "      <td>5.604212e-08</td>\n",
       "      <td>5.715835e-08</td>\n",
       "      <td>1.100418e-07</td>\n",
       "      <td>8.560397e-08</td>\n",
       "      <td>7.030447e-08</td>\n",
       "      <td>1.071176e-07</td>\n",
       "    </tr>\n",
       "    <tr>\n",
       "      <th>エンジン</th>\n",
       "      <td>2.924597e-08</td>\n",
       "      <td>5.691533e-08</td>\n",
       "      <td>8.606938e-08</td>\n",
       "      <td>9.497096e-08</td>\n",
       "      <td>6.241120e-08</td>\n",
       "      <td>1.066466e-07</td>\n",
       "      <td>4.804758e-08</td>\n",
       "      <td>6.785255e-08</td>\n",
       "      <td>3.956887e-07</td>\n",
       "      <td>8.843322e-08</td>\n",
       "      <td>...</td>\n",
       "      <td>4.778547e-08</td>\n",
       "      <td>5.942589e-08</td>\n",
       "      <td>4.907664e-08</td>\n",
       "      <td>9.380716e-08</td>\n",
       "      <td>5.582799e-08</td>\n",
       "      <td>5.693995e-08</td>\n",
       "      <td>1.096213e-07</td>\n",
       "      <td>8.527689e-08</td>\n",
       "      <td>7.003585e-08</td>\n",
       "      <td>1.067083e-07</td>\n",
       "    </tr>\n",
       "    <tr>\n",
       "      <th>エンジンオイル</th>\n",
       "      <td>2.902946e-08</td>\n",
       "      <td>5.649397e-08</td>\n",
       "      <td>8.543220e-08</td>\n",
       "      <td>9.426787e-08</td>\n",
       "      <td>6.194915e-08</td>\n",
       "      <td>1.058570e-07</td>\n",
       "      <td>4.769188e-08</td>\n",
       "      <td>6.735023e-08</td>\n",
       "      <td>3.927594e-07</td>\n",
       "      <td>8.777853e-08</td>\n",
       "      <td>...</td>\n",
       "      <td>4.743170e-08</td>\n",
       "      <td>5.898595e-08</td>\n",
       "      <td>4.871331e-08</td>\n",
       "      <td>9.311269e-08</td>\n",
       "      <td>5.541468e-08</td>\n",
       "      <td>5.651842e-08</td>\n",
       "      <td>1.088098e-07</td>\n",
       "      <td>8.464556e-08</td>\n",
       "      <td>6.951736e-08</td>\n",
       "      <td>1.059183e-07</td>\n",
       "    </tr>\n",
       "    <tr>\n",
       "      <th>シート</th>\n",
       "      <td>2.913036e-08</td>\n",
       "      <td>5.669034e-08</td>\n",
       "      <td>8.572914e-08</td>\n",
       "      <td>9.459553e-08</td>\n",
       "      <td>6.216447e-08</td>\n",
       "      <td>1.062250e-07</td>\n",
       "      <td>4.785764e-08</td>\n",
       "      <td>6.758432e-08</td>\n",
       "      <td>3.941245e-07</td>\n",
       "      <td>8.808363e-08</td>\n",
       "      <td>...</td>\n",
       "      <td>4.759657e-08</td>\n",
       "      <td>5.919097e-08</td>\n",
       "      <td>4.888263e-08</td>\n",
       "      <td>9.343633e-08</td>\n",
       "      <td>5.560729e-08</td>\n",
       "      <td>5.671486e-08</td>\n",
       "      <td>1.091880e-07</td>\n",
       "      <td>8.493978e-08</td>\n",
       "      <td>6.975899e-08</td>\n",
       "      <td>1.062865e-07</td>\n",
       "    </tr>\n",
       "    <tr>\n",
       "      <th>トンネル</th>\n",
       "      <td>2.882918e-08</td>\n",
       "      <td>5.610421e-08</td>\n",
       "      <td>8.484277e-08</td>\n",
       "      <td>9.361749e-08</td>\n",
       "      <td>6.152175e-08</td>\n",
       "      <td>1.051267e-07</td>\n",
       "      <td>4.736284e-08</td>\n",
       "      <td>6.688555e-08</td>\n",
       "      <td>3.900496e-07</td>\n",
       "      <td>8.717291e-08</td>\n",
       "      <td>...</td>\n",
       "      <td>4.710446e-08</td>\n",
       "      <td>5.857899e-08</td>\n",
       "      <td>4.837722e-08</td>\n",
       "      <td>9.247027e-08</td>\n",
       "      <td>5.503236e-08</td>\n",
       "      <td>5.612848e-08</td>\n",
       "      <td>1.080591e-07</td>\n",
       "      <td>8.406157e-08</td>\n",
       "      <td>6.903774e-08</td>\n",
       "      <td>1.051876e-07</td>\n",
       "    </tr>\n",
       "  </tbody>\n",
       "</table>\n",
       "<p>5 rows × 60 columns</p>\n",
       "</div>"
      ],
      "text/plain": [
       "              topic_0       topic_1       topic_2       topic_3       topic_4  \\\n",
       "する       2.935815e-08  5.713363e-08  8.639951e-08  9.533522e-08  6.265058e-08   \n",
       "エンジン     2.924597e-08  5.691533e-08  8.606938e-08  9.497096e-08  6.241120e-08   \n",
       "エンジンオイル  2.902946e-08  5.649397e-08  8.543220e-08  9.426787e-08  6.194915e-08   \n",
       "シート      2.913036e-08  5.669034e-08  8.572914e-08  9.459553e-08  6.216447e-08   \n",
       "トンネル     2.882918e-08  5.610421e-08  8.484277e-08  9.361749e-08  6.152175e-08   \n",
       "\n",
       "              topic_5       topic_6       topic_7       topic_8       topic_9  \\\n",
       "する       1.070556e-07  4.823187e-08  6.811280e-08  3.972064e-07  8.877240e-08   \n",
       "エンジン     1.066466e-07  4.804758e-08  6.785255e-08  3.956887e-07  8.843322e-08   \n",
       "エンジンオイル  1.058570e-07  4.769188e-08  6.735023e-08  3.927594e-07  8.777853e-08   \n",
       "シート      1.062250e-07  4.785764e-08  6.758432e-08  3.941245e-07  8.808363e-08   \n",
       "トンネル     1.051267e-07  4.736284e-08  6.688555e-08  3.900496e-07  8.717291e-08   \n",
       "\n",
       "         ...      topic_50      topic_51      topic_52      topic_53  \\\n",
       "する       ...  4.796875e-08  5.965382e-08  4.926487e-08  9.416696e-08   \n",
       "エンジン     ...  4.778547e-08  5.942589e-08  4.907664e-08  9.380716e-08   \n",
       "エンジンオイル  ...  4.743170e-08  5.898595e-08  4.871331e-08  9.311269e-08   \n",
       "シート      ...  4.759657e-08  5.919097e-08  4.888263e-08  9.343633e-08   \n",
       "トンネル     ...  4.710446e-08  5.857899e-08  4.837722e-08  9.247027e-08   \n",
       "\n",
       "             topic_54      topic_55      topic_56      topic_57      topic_58  \\\n",
       "する       5.604212e-08  5.715835e-08  1.100418e-07  8.560397e-08  7.030447e-08   \n",
       "エンジン     5.582799e-08  5.693995e-08  1.096213e-07  8.527689e-08  7.003585e-08   \n",
       "エンジンオイル  5.541468e-08  5.651842e-08  1.088098e-07  8.464556e-08  6.951736e-08   \n",
       "シート      5.560729e-08  5.671486e-08  1.091880e-07  8.493978e-08  6.975899e-08   \n",
       "トンネル     5.503236e-08  5.612848e-08  1.080591e-07  8.406157e-08  6.903774e-08   \n",
       "\n",
       "             topic_59  \n",
       "する       1.071176e-07  \n",
       "エンジン     1.067083e-07  \n",
       "エンジンオイル  1.059183e-07  \n",
       "シート      1.062865e-07  \n",
       "トンネル     1.051876e-07  \n",
       "\n",
       "[5 rows x 60 columns]"
      ]
     },
     "execution_count": 36,
     "metadata": {},
     "output_type": "execute_result"
    }
   ],
   "source": [
    "df_topic_words.head()"
   ]
  },
  {
   "cell_type": "markdown",
   "metadata": {},
   "source": [
    "show_topicsメソッドでも各単語のトピック量は取得できる。  \n",
    "```\n",
    "list(  \n",
    "    (トピック番号,  \n",
    "        list(  \n",
    "            (単語, トピック量))  \n",
    "        )  \n",
    "    )  \n",
    ")\n",
    "```  \n",
    "の構造になっている。辞書から単語を持ってこなくて済む分、こちらの方が簡単。"
   ]
  },
  {
   "cell_type": "code",
   "execution_count": 37,
   "metadata": {},
   "outputs": [],
   "source": [
    "topics = lm.show_topics(\n",
    "    formatted=False,\n",
    "    num_topics=-1,\n",
    "    num_words=len(dictionary)\n",
    ")"
   ]
  },
  {
   "cell_type": "code",
   "execution_count": 38,
   "metadata": {},
   "outputs": [
    {
     "data": {
      "text/plain": [
       "[('する', 0.6922604),\n",
       " ('音', 0.13246237),\n",
       " ('走行中', 0.07664953),\n",
       " ('大きい', 0.015344718),\n",
       " ('後ろ', 0.014640365)]"
      ]
     },
     "execution_count": 38,
     "metadata": {},
     "output_type": "execute_result"
    }
   ],
   "source": [
    "# トピック46の単語リストの上位5つ\n",
    "topics[46][1][:5]"
   ]
  },
  {
   "cell_type": "code",
   "execution_count": 39,
   "metadata": {},
   "outputs": [],
   "source": [
    "df_topic_ranking = pd.DataFrame()\n",
    "for i, topics in topics:\n",
    "    df_topic_ranking = df_topic_ranking.assign(**{\n",
    "        f'word_{i}': list(map(itemgetter(0), topics)),\n",
    "        f'topic_{i}': list(map(itemgetter(1), topics)),\n",
    "    })"
   ]
  },
  {
   "cell_type": "code",
   "execution_count": 40,
   "metadata": {},
   "outputs": [
    {
     "data": {
      "text/html": [
       "<div>\n",
       "<style scoped>\n",
       "    .dataframe tbody tr th:only-of-type {\n",
       "        vertical-align: middle;\n",
       "    }\n",
       "\n",
       "    .dataframe tbody tr th {\n",
       "        vertical-align: top;\n",
       "    }\n",
       "\n",
       "    .dataframe thead th {\n",
       "        text-align: right;\n",
       "    }\n",
       "</style>\n",
       "<table border=\"1\" class=\"dataframe\">\n",
       "  <thead>\n",
       "    <tr style=\"text-align: right;\">\n",
       "      <th></th>\n",
       "      <th>word_0</th>\n",
       "      <th>topic_0</th>\n",
       "      <th>word_1</th>\n",
       "      <th>topic_1</th>\n",
       "      <th>word_2</th>\n",
       "      <th>topic_2</th>\n",
       "      <th>word_3</th>\n",
       "      <th>topic_3</th>\n",
       "      <th>word_4</th>\n",
       "      <th>topic_4</th>\n",
       "      <th>...</th>\n",
       "      <th>word_55</th>\n",
       "      <th>topic_55</th>\n",
       "      <th>word_56</th>\n",
       "      <th>topic_56</th>\n",
       "      <th>word_57</th>\n",
       "      <th>topic_57</th>\n",
       "      <th>word_58</th>\n",
       "      <th>topic_58</th>\n",
       "      <th>word_59</th>\n",
       "      <th>topic_59</th>\n",
       "    </tr>\n",
       "  </thead>\n",
       "  <tbody>\n",
       "    <tr>\n",
       "      <th>0</th>\n",
       "      <td>車</td>\n",
       "      <td>0.126438</td>\n",
       "      <td>ハンドル</td>\n",
       "      <td>0.233072</td>\n",
       "      <td>常時</td>\n",
       "      <td>0.272778</td>\n",
       "      <td>アイドリング</td>\n",
       "      <td>0.157349</td>\n",
       "      <td>出る</td>\n",
       "      <td>0.358569</td>\n",
       "      <td>...</td>\n",
       "      <td>停止</td>\n",
       "      <td>0.104612</td>\n",
       "      <td>h</td>\n",
       "      <td>0.129137</td>\n",
       "      <td>入る</td>\n",
       "      <td>0.282461</td>\n",
       "      <td>作動</td>\n",
       "      <td>0.301210</td>\n",
       "      <td>バックドア</td>\n",
       "      <td>0.276745</td>\n",
       "    </tr>\n",
       "    <tr>\n",
       "      <th>1</th>\n",
       "      <td>ない</td>\n",
       "      <td>0.116999</td>\n",
       "      <td>左右</td>\n",
       "      <td>0.189375</td>\n",
       "      <td>ヘッドライト</td>\n",
       "      <td>0.150579</td>\n",
       "      <td>下がる</td>\n",
       "      <td>0.110083</td>\n",
       "      <td>水</td>\n",
       "      <td>0.110182</td>\n",
       "      <td>...</td>\n",
       "      <td>アイドリングストップ!</td>\n",
       "      <td>0.103098</td>\n",
       "      <td>勝手</td>\n",
       "      <td>0.098810</td>\n",
       "      <td>1</td>\n",
       "      <td>0.135957</td>\n",
       "      <td>キー</td>\n",
       "      <td>0.160080</td>\n",
       "      <td>隙間</td>\n",
       "      <td>0.106451</td>\n",
       "    </tr>\n",
       "    <tr>\n",
       "      <th>2</th>\n",
       "      <td>乗る</td>\n",
       "      <td>0.066253</td>\n",
       "      <td>操作</td>\n",
       "      <td>0.123392</td>\n",
       "      <td>曇る</td>\n",
       "      <td>0.108764</td>\n",
       "      <td>回転</td>\n",
       "      <td>0.107755</td>\n",
       "      <td>風</td>\n",
       "      <td>0.076323</td>\n",
       "      <td>...</td>\n",
       "      <td>止まる</td>\n",
       "      <td>0.102777</td>\n",
       "      <td>速度</td>\n",
       "      <td>0.063404</td>\n",
       "      <td>2</td>\n",
       "      <td>0.121095</td>\n",
       "      <td>ロック</td>\n",
       "      <td>0.158537</td>\n",
       "      <td>パネル</td>\n",
       "      <td>0.093098</td>\n",
       "    </tr>\n",
       "    <tr>\n",
       "      <th>3</th>\n",
       "      <td>状態</td>\n",
       "      <td>0.065279</td>\n",
       "      <td>切る</td>\n",
       "      <td>0.084143</td>\n",
       "      <td>作業</td>\n",
       "      <td>0.093764</td>\n",
       "      <td>落ちる</td>\n",
       "      <td>0.076472</td>\n",
       "      <td>冷却水</td>\n",
       "      <td>0.033676</td>\n",
       "      <td>...</td>\n",
       "      <td>エンスト</td>\n",
       "      <td>0.094227</td>\n",
       "      <td>03</td>\n",
       "      <td>0.049697</td>\n",
       "      <td>3</td>\n",
       "      <td>0.077928</td>\n",
       "      <td>レス</td>\n",
       "      <td>0.056721</td>\n",
       "      <td>間</td>\n",
       "      <td>0.050023</td>\n",
       "    </tr>\n",
       "    <tr>\n",
       "      <th>4</th>\n",
       "      <td>見る</td>\n",
       "      <td>0.063837</td>\n",
       "      <td>動かす</td>\n",
       "      <td>0.051492</td>\n",
       "      <td>内部</td>\n",
       "      <td>0.071177</td>\n",
       "      <td>フロントグリル</td>\n",
       "      <td>0.041690</td>\n",
       "      <td>溜まる</td>\n",
       "      <td>0.026473</td>\n",
       "      <td>...</td>\n",
       "      <td>信号</td>\n",
       "      <td>0.080949</td>\n",
       "      <td>スタート</td>\n",
       "      <td>0.039653</td>\n",
       "      <td>しない</td>\n",
       "      <td>0.067201</td>\n",
       "      <td>08</td>\n",
       "      <td>0.033073</td>\n",
       "      <td>リモコン</td>\n",
       "      <td>0.046368</td>\n",
       "    </tr>\n",
       "  </tbody>\n",
       "</table>\n",
       "<p>5 rows × 120 columns</p>\n",
       "</div>"
      ],
      "text/plain": [
       "  word_0   topic_0 word_1   topic_1  word_2   topic_2   word_3   topic_3  \\\n",
       "0      車  0.126438   ハンドル  0.233072      常時  0.272778   アイドリング  0.157349   \n",
       "1     ない  0.116999     左右  0.189375  ヘッドライト  0.150579      下がる  0.110083   \n",
       "2     乗る  0.066253     操作  0.123392      曇る  0.108764       回転  0.107755   \n",
       "3     状態  0.065279     切る  0.084143      作業  0.093764      落ちる  0.076472   \n",
       "4     見る  0.063837    動かす  0.051492      内部  0.071177  フロントグリル  0.041690   \n",
       "\n",
       "  word_4   topic_4  ...      word_55  topic_55 word_56  topic_56 word_57  \\\n",
       "0     出る  0.358569  ...           停止  0.104612       h  0.129137      入る   \n",
       "1      水  0.110182  ...  アイドリングストップ!  0.103098      勝手  0.098810       1   \n",
       "2      風  0.076323  ...          止まる  0.102777      速度  0.063404       2   \n",
       "3    冷却水  0.033676  ...         エンスト  0.094227      03  0.049697       3   \n",
       "4    溜まる  0.026473  ...           信号  0.080949    スタート  0.039653     しない   \n",
       "\n",
       "   topic_57 word_58  topic_58 word_59  topic_59  \n",
       "0  0.282461      作動  0.301210   バックドア  0.276745  \n",
       "1  0.135957      キー  0.160080      隙間  0.106451  \n",
       "2  0.121095     ロック  0.158537     パネル  0.093098  \n",
       "3  0.077928      レス  0.056721       間  0.050023  \n",
       "4  0.067201      08  0.033073    リモコン  0.046368  \n",
       "\n",
       "[5 rows x 120 columns]"
      ]
     },
     "execution_count": 40,
     "metadata": {},
     "output_type": "execute_result"
    }
   ],
   "source": [
    "df_topic_ranking.head()"
   ]
  },
  {
   "cell_type": "code",
   "execution_count": 45,
   "metadata": {},
   "outputs": [],
   "source": [
    "# df_topic_rankingをexcelシートに保存。少し時間がかかる。\n",
    "with pd.ExcelWriter(\"../data/processed/df_topic_ranking.xlsx\", engine='xlsxwriter') as writer:\n",
    "    sheet_name = 'トピックごとの単語ランキング'\n",
    "    df_topic_ranking.to_excel(writer, sheet_name=sheet_name)\n",
    "    workbook = writer.book\n",
    "    worksheet = writer.sheets[sheet_name]\n",
    "    worksheet.autofilter(0, 0, *df_topic_ranking.shape)\n",
    "    worksheet.freeze_panes(1, 0)\n",
    "\n",
    "    worksheet.conditional_format(\n",
    "        1, 1, *df_topic_ranking.shape,\n",
    "        {'type': 'data_bar',\n",
    "         'bar_solid': True,\n",
    "         'min_value': 0,\n",
    "         'max_value': 1,\n",
    "        }\n",
    "    )\n",
    "\n",
    "    num_col_format = workbook.add_format({'num_format': '0.0000'})\n",
    "    for i, column in enumerate(df_topic_ranking.columns, 1):\n",
    "        if str(column).startswith('topic'):\n",
    "            worksheet.set_column(i, i, None, num_col_format)"
   ]
  },
  {
   "cell_type": "code",
   "execution_count": 41,
   "metadata": {},
   "outputs": [],
   "source": [
    "# df_topic_rankingをcsvに保存\n",
    "df_topic_ranking.to_csv(\"../data/processed/df_topic_ranking.csv\", index=False)"
   ]
  },
  {
   "cell_type": "code",
   "execution_count": 47,
   "metadata": {},
   "outputs": [],
   "source": [
    "# df_topic_wordsをexcelシートに保存。少し時間がかかる。\n",
    "with pd.ExcelWriter(\"../data/processed/df_topic_words.xlsx\", engine='xlsxwriter') as writer:\n",
    "    sheet_name = 'トピック'\n",
    "    df_topic_words.to_excel(writer, sheet_name=sheet_name)\n",
    "    workbook = writer.book\n",
    "    worksheet = writer.sheets[sheet_name]\n",
    "    worksheet.autofilter(0, 0, *df_topic_words.shape)\n",
    "    worksheet.freeze_panes(1, 1)\n",
    "\n",
    "    worksheet.conditional_format(\n",
    "        1, 1, *df_topic_words.shape,\n",
    "        {'type': 'data_bar',\n",
    "         'bar_solid': True,\n",
    "         'min_value': 0,\n",
    "         'max_value': 1,\n",
    "        }\n",
    "    )\n",
    "\n",
    "    num_col_format = workbook.add_format({'num_format': '0.0000'})\n",
    "    for i, column in enumerate(df_topic_words.columns, 1):\n",
    "        if column.startswith('topic'):\n",
    "            worksheet.set_column(i, i, None, num_col_format)"
   ]
  },
  {
   "cell_type": "code",
   "execution_count": 54,
   "metadata": {},
   "outputs": [],
   "source": [
    "# df_topic_wordsをcsvに保存\n",
    "df_topic_words.reset_index().to_csv(\"../data/processed/df_topic_words.csv\", index=False)"
   ]
  },
  {
   "cell_type": "code",
   "execution_count": 49,
   "metadata": {},
   "outputs": [],
   "source": [
    "# df_doc_topicsをexcelシートに保存。少し時間がかかる。\n",
    "with pd.ExcelWriter(\"../data/processed/df_doc_topics.xlsx\", engine='xlsxwriter') as writer:\n",
    "    sheet_name = '文書トピック'\n",
    "    df_doc_topics.to_excel(writer, sheet_name=sheet_name)\n",
    "    workbook = writer.book\n",
    "    worksheet = writer.sheets[sheet_name]\n",
    "    worksheet.autofilter(0, 0, *df_doc_topics.shape)\n",
    "    worksheet.conditional_format(\n",
    "        1, 2, *df_doc_topics.shape,\n",
    "        {'type': 'data_bar',\n",
    "         'bar_solid': True,\n",
    "         'min_value': 0,\n",
    "         'max_value': 1,\n",
    "        }\n",
    "    )\n",
    "\n",
    "    text_col_format = workbook.add_format({'bold': False})\n",
    "    text_col_format.set_text_wrap()\n",
    "    text_col_format.set_align('left')\n",
    "    worksheet.set_column(1, 1, 75, text_col_format)\n",
    "\n",
    "    num_col_format = workbook.add_format({'num_format': '0.0000'})\n",
    "    worksheet.freeze_panes(1, 2)\n",
    "    for i, column in enumerate(df_doc_topics.columns[1:], 2):\n",
    "        if column.startswith('topic'):\n",
    "            worksheet.set_column(i, i, None, num_col_format)"
   ]
  },
  {
   "cell_type": "code",
   "execution_count": 50,
   "metadata": {},
   "outputs": [],
   "source": [
    "# df_doc_topicsをcsvに保存\n",
    "df_doc_topics.reset_index().to_csv(\"../data/processed/df_doc_topics.csv\", index=False)"
   ]
  },
  {
   "cell_type": "code",
   "execution_count": 51,
   "metadata": {},
   "outputs": [
    {
     "name": "stdout",
     "output_type": "stream",
     "text": [
      "合計 744M\r\n",
      "-rw-rw-r-- 1 user01 user01 374M  5月  9 21:55 df_doc_topics.csv\r\n",
      "-rw-rw-r-- 1 user01 user01 178M  5月  9 21:55 df_doc_topics.xlsx\r\n",
      "-rw-rw-r-- 1 user01 user01  96M  5月  9 21:50 df_topic_ranking.csv\r\n",
      "-rw-rw-r-- 1 user01 user01  23M  5月  9 21:50 df_topic_ranking.xlsx\r\n",
      "-rw-rw-r-- 1 user01 user01  35M  5月  9 21:51 df_topic_words.csv\r\n",
      "-rw-rw-r-- 1 user01 user01  19M  5月  9 21:51 df_topic_words.xlsx\r\n",
      "-rw-rw-r-- 1 user01 user01  22M  5月  9 08:14 lda_model.pkl\r\n"
     ]
    }
   ],
   "source": [
    "!ls -lh ../data/processed"
   ]
  },
  {
   "cell_type": "code",
   "execution_count": 51,
   "metadata": {},
   "outputs": [],
   "source": [
    "df_doc_topics = pd.read_csv(\"../data/processed/df_doc_topics.csv\")"
   ]
  },
  {
   "cell_type": "code",
   "execution_count": 53,
   "metadata": {},
   "outputs": [
    {
     "data": {
      "text/html": [
       "<div>\n",
       "<style scoped>\n",
       "    .dataframe tbody tr th:only-of-type {\n",
       "        vertical-align: middle;\n",
       "    }\n",
       "\n",
       "    .dataframe tbody tr th {\n",
       "        vertical-align: top;\n",
       "    }\n",
       "\n",
       "    .dataframe thead th {\n",
       "        text-align: right;\n",
       "    }\n",
       "</style>\n",
       "<table border=\"1\" class=\"dataframe\">\n",
       "  <thead>\n",
       "    <tr style=\"text-align: right;\">\n",
       "      <th></th>\n",
       "      <th>id</th>\n",
       "      <th>doc</th>\n",
       "      <th>topic_0</th>\n",
       "      <th>topic_1</th>\n",
       "      <th>topic_2</th>\n",
       "      <th>topic_3</th>\n",
       "      <th>topic_4</th>\n",
       "      <th>topic_5</th>\n",
       "      <th>topic_6</th>\n",
       "      <th>topic_7</th>\n",
       "      <th>...</th>\n",
       "      <th>topic_50</th>\n",
       "      <th>topic_51</th>\n",
       "      <th>topic_52</th>\n",
       "      <th>topic_53</th>\n",
       "      <th>topic_54</th>\n",
       "      <th>topic_55</th>\n",
       "      <th>topic_56</th>\n",
       "      <th>topic_57</th>\n",
       "      <th>topic_58</th>\n",
       "      <th>topic_59</th>\n",
       "    </tr>\n",
       "  </thead>\n",
       "  <tbody>\n",
       "    <tr>\n",
       "      <th>0</th>\n",
       "      <td>JP200410B50001</td>\n",
       "      <td>高速走行中(トンネルの中)、車両前部より白煙(あるいは水蒸気)シートを起こしたところ炎を確認...</td>\n",
       "      <td>0.061556</td>\n",
       "      <td>0.008286</td>\n",
       "      <td>0.006340</td>\n",
       "      <td>0.006153</td>\n",
       "      <td>0.008337</td>\n",
       "      <td>0.005580</td>\n",
       "      <td>0.033003</td>\n",
       "      <td>0.029619</td>\n",
       "      <td>...</td>\n",
       "      <td>0.055470</td>\n",
       "      <td>0.031133</td>\n",
       "      <td>0.009908</td>\n",
       "      <td>0.004700</td>\n",
       "      <td>0.010765</td>\n",
       "      <td>0.008374</td>\n",
       "      <td>0.004746</td>\n",
       "      <td>0.005841</td>\n",
       "      <td>0.006615</td>\n",
       "      <td>0.005253</td>\n",
       "    </tr>\n",
       "    <tr>\n",
       "      <th>1</th>\n",
       "      <td>JP200410B50002</td>\n",
       "      <td>アイドリングの時にキンキンと高い音がする $ 診断中 $</td>\n",
       "      <td>0.026353</td>\n",
       "      <td>0.014173</td>\n",
       "      <td>0.010844</td>\n",
       "      <td>0.049990</td>\n",
       "      <td>0.014259</td>\n",
       "      <td>0.009544</td>\n",
       "      <td>0.016982</td>\n",
       "      <td>0.050659</td>\n",
       "      <td>...</td>\n",
       "      <td>0.015944</td>\n",
       "      <td>0.013784</td>\n",
       "      <td>0.016946</td>\n",
       "      <td>0.008039</td>\n",
       "      <td>0.018412</td>\n",
       "      <td>0.053788</td>\n",
       "      <td>0.008118</td>\n",
       "      <td>0.009990</td>\n",
       "      <td>0.011315</td>\n",
       "      <td>0.008984</td>\n",
       "    </tr>\n",
       "  </tbody>\n",
       "</table>\n",
       "<p>2 rows × 62 columns</p>\n",
       "</div>"
      ],
      "text/plain": [
       "               id                                                doc  \\\n",
       "0  JP200410B50001  高速走行中(トンネルの中)、車両前部より白煙(あるいは水蒸気)シートを起こしたところ炎を確認...   \n",
       "1  JP200410B50002                      アイドリングの時にキンキンと高い音がする $ 診断中 $    \n",
       "\n",
       "    topic_0   topic_1   topic_2   topic_3   topic_4   topic_5   topic_6  \\\n",
       "0  0.061556  0.008286  0.006340  0.006153  0.008337  0.005580  0.033003   \n",
       "1  0.026353  0.014173  0.010844  0.049990  0.014259  0.009544  0.016982   \n",
       "\n",
       "    topic_7  ...  topic_50  topic_51  topic_52  topic_53  topic_54  topic_55  \\\n",
       "0  0.029619  ...  0.055470  0.031133  0.009908  0.004700  0.010765  0.008374   \n",
       "1  0.050659  ...  0.015944  0.013784  0.016946  0.008039  0.018412  0.053788   \n",
       "\n",
       "   topic_56  topic_57  topic_58  topic_59  \n",
       "0  0.004746  0.005841  0.006615  0.005253  \n",
       "1  0.008118  0.009990  0.011315  0.008984  \n",
       "\n",
       "[2 rows x 62 columns]"
      ]
     },
     "execution_count": 53,
     "metadata": {},
     "output_type": "execute_result"
    }
   ],
   "source": [
    "df_doc_topics.head(2)"
   ]
  },
  {
   "cell_type": "code",
   "execution_count": null,
   "metadata": {},
   "outputs": [],
   "source": []
  }
 ],
 "metadata": {
  "kernelspec": {
   "display_name": "Python 3",
   "language": "python",
   "name": "python3"
  },
  "language_info": {
   "codemirror_mode": {
    "name": "ipython",
    "version": 3
   },
   "file_extension": ".py",
   "mimetype": "text/x-python",
   "name": "python",
   "nbconvert_exporter": "python",
   "pygments_lexer": "ipython3",
   "version": "3.6.8"
  }
 },
 "nbformat": 4,
 "nbformat_minor": 2
}
