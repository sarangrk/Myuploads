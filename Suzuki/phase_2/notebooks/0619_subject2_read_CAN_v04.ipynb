{
 "cells": [
  {
   "cell_type": "code",
   "execution_count": null,
   "metadata": {},
   "outputs": [],
   "source": []
  },
  {
   "cell_type": "markdown",
   "metadata": {},
   "source": [
    "#!/usr/bin/env python\n",
    "# coding: utf-8\n",
    "\n",
    "# # 0619. Subject 2. Read CAN data\n",
    "# \n",
    "# ## 科目２（クラスタリング）\n",
    "# \n",
    "# (Block 1 - 2) CANデータの１ファイルを読む。\n",
    "# (Block 3 - 5) 550特徴のうちのユニーク種類数1の450特徴を除去。\n",
    "# (Block 6 - 8) 来週以降のリサンプリングの準備で各特徴のサンプリング周波数を調査。\n",
    "# (Block 9 - 10) 自己相関を利用して繰り返しパターンの特徴を見つけていく。\n",
    "# \n",
    "# ## 0625\n",
    "# \n",
    "# (Block B01 - B02) 全104変数に自己相関を実施\n",
    "# (Block B03 - B05) 特徴ごとのプロフィールをCSVに書き込み\n",
    "# (Block B06 - B08) リサンプリング、線形補間\n",
    "# (Block B09 - B12) グラフ描画\n",
    "# (Block B13) ピクルス保存"
   ]
  },
  {
   "cell_type": "code",
   "execution_count": 1,
   "metadata": {},
   "outputs": [
    {
     "name": "stdout",
     "output_type": "stream",
     "text": [
      "done\n"
     ]
    }
   ],
   "source": [
    "# %% \n",
    "# Block 1. モジュール読みこみ\n",
    "import os\n",
    "import os.path\n",
    "import pickle\n",
    "from scipy import signal, interpolate\n",
    "import statsmodels.api as sm \n",
    "import copy\n",
    "import pandas as pd\n",
    "import matplotlib.pyplot as plt\n",
    "import math\n",
    "import numpy as np\n",
    "import pathlib\n",
    "print(\"done\")"
   ]
  },
  {
   "cell_type": "code",
   "execution_count": 2,
   "metadata": {},
   "outputs": [
    {
     "name": "stdout",
     "output_type": "stream",
     "text": [
      "/home/user01/Documents/project/suzuki_analytics/phase_2/notebooks\n",
      "正常。作業ディレクトリがnotebooksフォルダに設定されています。\n"
     ]
    }
   ],
   "source": [
    "# %%\n",
    "# Block 2A\n",
    "# os.chdir('/home/user01/Documents/project/suzuki_analytics/phase_2/notebooks')\n",
    "strCurrentDirectory = os.getcwd() \n",
    "print(strCurrentDirectory)\n",
    "\n",
    "# \"notebooks\"ディレクトリよりも一階層上にいる場合はNotebooksフォルダに移動\n",
    "if (strCurrentDirectory[-len(\"notebooks\"):] != \"notebooks\") and ( any(\"notebooks\" in s for s in os.listdir() ) ):\n",
    "    os.chdir('notebooks')\n",
    "    strCurrentDirectory = os.getcwd() \n",
    "    print(\"notebooksフォルダの一階層上にいたのでnotebooksフォルダに移動しました。\")\n",
    "\n",
    "if strCurrentDirectory[-len(\"notebooks\"):] == \"notebooks\":\n",
    "    print(\"正常。作業ディレクトリがnotebooksフォルダに設定されています。\")\n",
    "else:\n",
    "    print(\"エラー。作業ディレクトリがnotebooks以外に設定されています！現在の作業ディレクトリは\" + strCurrentDirectory )"
   ]
  },
  {
   "cell_type": "code",
   "execution_count": 4,
   "metadata": {},
   "outputs": [
    {
     "name": "stdout",
     "output_type": "stream",
     "text": [
      "done reading initial file\n",
      "done\n",
      "イニシャルファイルからのテキスト読み込み\n",
      "threPacCut = 0.95\n",
      "sampFreq = 100\n"
     ]
    }
   ],
   "source": [
    "# %% \n",
    "# Block 2B.  初期状態を読み込み\n",
    "isSavePickle = 1\n",
    "import subject2initial\n",
    "\n",
    "print(subject2initial.strInitialTest)\n",
    "PATH_DATA_INT = subject2initial.funIsDirMakeDir(strPath  = \"../data/interim/\")\n",
    "PATH_DATA_PRO = subject2initial.funIsDirMakeDir(strPath  = \"../data/processed/\")\n",
    "PATH_DATA_PRO_SUB2 = subject2initial.funIsDirMakeDir(strPath  = \"../data/processed/subject02/\")\n",
    "PATH_DATA_PRO_SUB2_PKL = subject2initial.funIsDirMakeDir(strPath  = \"../data/processed/subject02/pickle\")\n",
    "\n",
    "threPacCut = subject2initial.threPacCut\n",
    "sampFreq = subject2initial.sampFreq\n",
    "print(\"threPacCut = \" + str(threPacCut) )\n",
    "print(\"sampFreq = \" + str(sampFreq))"
   ]
  },
  {
   "cell_type": "code",
   "execution_count": 5,
   "metadata": {},
   "outputs": [
    {
     "data": {
      "text/html": [
       "<div>\n",
       "<style scoped>\n",
       "    .dataframe tbody tr th:only-of-type {\n",
       "        vertical-align: middle;\n",
       "    }\n",
       "\n",
       "    .dataframe tbody tr th {\n",
       "        vertical-align: top;\n",
       "    }\n",
       "\n",
       "    .dataframe thead th {\n",
       "        text-align: right;\n",
       "    }\n",
       "</style>\n",
       "<table border=\"1\" class=\"dataframe\">\n",
       "  <thead>\n",
       "    <tr style=\"text-align: right;\">\n",
       "      <th></th>\n",
       "      <th>vin</th>\n",
       "      <th>time1</th>\n",
       "      <th>time2</th>\n",
       "      <th>feature</th>\n",
       "      <th>value</th>\n",
       "    </tr>\n",
       "  </thead>\n",
       "  <tbody>\n",
       "    <tr>\n",
       "      <th>0</th>\n",
       "      <td>21</td>\n",
       "      <td>201604200627</td>\n",
       "      <td>0.295909</td>\n",
       "      <td>0FA53</td>\n",
       "      <td>0.0</td>\n",
       "    </tr>\n",
       "    <tr>\n",
       "      <th>1</th>\n",
       "      <td>21</td>\n",
       "      <td>201604200627</td>\n",
       "      <td>0.295909</td>\n",
       "      <td>0FA57</td>\n",
       "      <td>4.0</td>\n",
       "    </tr>\n",
       "    <tr>\n",
       "      <th>2</th>\n",
       "      <td>21</td>\n",
       "      <td>201604200627</td>\n",
       "      <td>0.295909</td>\n",
       "      <td>0FA43</td>\n",
       "      <td>0.0</td>\n",
       "    </tr>\n",
       "    <tr>\n",
       "      <th>3</th>\n",
       "      <td>21</td>\n",
       "      <td>201604200627</td>\n",
       "      <td>0.295909</td>\n",
       "      <td>0FA44</td>\n",
       "      <td>0.0</td>\n",
       "    </tr>\n",
       "    <tr>\n",
       "      <th>4</th>\n",
       "      <td>21</td>\n",
       "      <td>201604200627</td>\n",
       "      <td>0.295909</td>\n",
       "      <td>0FA45</td>\n",
       "      <td>0.0</td>\n",
       "    </tr>\n",
       "  </tbody>\n",
       "</table>\n",
       "</div>"
      ],
      "text/plain": [
       "   vin         time1     time2 feature  value\n",
       "0   21  201604200627  0.295909   0FA53    0.0\n",
       "1   21  201604200627  0.295909   0FA57    4.0\n",
       "2   21  201604200627  0.295909   0FA43    0.0\n",
       "3   21  201604200627  0.295909   0FA44    0.0\n",
       "4   21  201604200627  0.295909   0FA45    0.0"
      ]
     },
     "execution_count": 5,
     "metadata": {},
     "output_type": "execute_result"
    }
   ],
   "source": [
    "# %%　Block 2C. ファイル読み込み\n",
    "pdCan = pd.read_csv(\n",
    "    PATH_DATA_INT/\"20190605_CAN/103.486_CAR1V21_HDD2/Job1/SUZUKI_YSB-021_MRR_2016-04-20_06-27_0001.BLF.csv\",\n",
    "    header=None,\n",
    "    names=('vin', 'time1', 'time2', 'feature', 'value'))\n",
    "pdCan.head()"
   ]
  },
  {
   "cell_type": "code",
   "execution_count": 6,
   "metadata": {},
   "outputs": [
    {
     "name": "stdout",
     "output_type": "stream",
     "text": [
      "0FA46    59902\n",
      "0FA45    59902\n",
      "0FA32    59902\n",
      "0FA25    59902\n",
      "0FA26    59902\n",
      "Name: feature, dtype: int64\n",
      "\n",
      "count      549.000000\n",
      "mean     17915.522769\n",
      "std      21413.348777\n",
      "min        599.000000\n",
      "25%       5989.000000\n",
      "50%       5992.000000\n",
      "75%      11980.000000\n",
      "max      59902.000000\n",
      "Name: feature, dtype: float64\n"
     ]
    }
   ],
   "source": [
    "# %% \n",
    "# Block 3. 500種類のCAN特徴ごとのデータ要素数を数える\n",
    "print(pdCan['feature'].value_counts().head())\n",
    "print(\"\")\n",
    "print(pdCan['feature'].value_counts().describe())"
   ]
  },
  {
   "cell_type": "code",
   "execution_count": 7,
   "metadata": {},
   "outputs": [
    {
     "name": "stdout",
     "output_type": "stream",
     "text": [
      "count        9835622.000\n",
      "mean    201604200647.088\n",
      "std               20.088\n",
      "min     201604200627.000\n",
      "25%     201604200627.000\n",
      "50%     201604200627.000\n",
      "75%     201604200627.000\n",
      "max     201604200627.000\n",
      "Name: time1, dtype: float64\n",
      "\n",
      "count   9835622.000\n",
      "mean        299.780\n",
      "std         172.864\n",
      "min           0.296\n",
      "25%         150.100\n",
      "50%         299.890\n",
      "75%         449.413\n",
      "max         599.239\n",
      "Name: time2, dtype: float64\n"
     ]
    }
   ],
   "source": [
    "# %% Block 4. このファイル全体での時間軸を確認\n",
    "pd.set_option('display.float_format', lambda x: '%.3f' % x)  # 表示桁数調整\n",
    "print(pdCan['time1'].describe())\n",
    "print(\"\")\n",
    "print(pdCan['time2'].describe())"
   ]
  },
  {
   "cell_type": "code",
   "execution_count": 8,
   "metadata": {},
   "outputs": [
    {
     "name": "stdout",
     "output_type": "stream",
     "text": [
      "['0FA37', '0FA57', '11451', '11467', '11913', '11915', '11927', '11947', '11F47', '11F53', '12013', '12033', '12051', '12217', '12227', '12231', '12247', '12417', '12437', '12457', '12461', '12464', '12905', '12925', '12944', '12947', '12964', '13F17', '13F47', '13F57', '1AC07', '1AC22', '1AC27', '1AC41', '1AF23', '1AF25', '1AF67', '1B805', '1B825', '1B845', '1B865', '1E303', '1E307', '1E823', '1E843', '1E906', '1E926', '1E946', '1E966', '1EF03', '1EF17', '1EF37', '1EF57', '1EF61', '1EF64', '2A006', '2A026', '2A046', '2A066', '2A214', '31017', '31417', '31434', '31457', '31801', '31802', '31814', '31827', '32F20', '32F25', '32F44', '32F47', '3A105', '3A107', '3A116', '3A211', '3A977', '3B801', '3B947', '3B957', '3BA07', '3BA37', '3BA43', '3BA46', '3BA60', '3C111', '3C112', '3C367', '3D014', '3D016', '3D046', '3D047', '3D052', '3D055', '3D064', '3D151', '3D157', '3D177', '3D604', '3D667', '3E206', '3E801', '46003', '50007']\n",
      "104\n"
     ]
    }
   ],
   "source": [
    "# %% Block 5. ユニーク値が一種類のカラムは除去。549特徴が104特徴に。\n",
    "lsNamesFeatureMultiVal = pdCan.groupby(['feature'])['value'].nunique()\n",
    "lsNamesFeatureMultiVal = lsNamesFeatureMultiVal[lsNamesFeatureMultiVal >= 2]\n",
    "lsNamesFeatureMultiVal = lsNamesFeatureMultiVal.index.tolist()\n",
    "lenNamesFeatureMultiVal = len(lsNamesFeatureMultiVal)\n",
    "print(lsNamesFeatureMultiVal)\n",
    "print(lenNamesFeatureMultiVal)"
   ]
  },
  {
   "cell_type": "code",
   "execution_count": 9,
   "metadata": {},
   "outputs": [
    {
     "name": "stdout",
     "output_type": "stream",
     "text": [
      "(9835622, 5)\n",
      "(3062325, 5)\n"
     ]
    }
   ],
   "source": [
    "# %% Block 6. 縦持ちデータを横持ちに\n",
    "pdCanMultiVal = pdCan[pdCan['feature'].isin(lsNamesFeatureMultiVal)]\n",
    "print(pdCan.shape)\n",
    "print(pdCanMultiVal.shape)"
   ]
  },
  {
   "cell_type": "code",
   "execution_count": 10,
   "metadata": {},
   "outputs": [
    {
     "name": "stdout",
     "output_type": "stream",
     "text": [
      "     vin         time1  time2 feature  value  diffTime2\n",
      "9     21  201604200627  0.296   0FA37  2.000        nan\n",
      "146   21  201604200627  0.306   0FA37  3.000      0.010\n",
      "397   21  201604200627  0.316   0FA37  0.000      0.010\n",
      "644   21  201604200627  0.326   0FA37  1.000      0.010\n",
      "815   21  201604200627  0.336   0FA37  2.000      0.010\n"
     ]
    }
   ],
   "source": [
    "# %% Block 7. レコード間の時間差をDiffで確認\n",
    "pdCanMultiVal = pdCanMultiVal.sort_values(\n",
    "    by=['feature', 'time1', 'time2', 'value'])\n",
    "pdCanMultiVal['diffTime2'] = pdCanMultiVal.groupby(\n",
    "    ['feature'])['time2'].diff()  # .fillna(0)\n",
    "print(pdCanMultiVal.head())"
   ]
  },
  {
   "cell_type": "code",
   "execution_count": 11,
   "metadata": {},
   "outputs": [
    {
     "name": "stdout",
     "output_type": "stream",
     "text": [
      "          min     max\n",
      "count 104.000 104.000\n",
      "mean    0.040   0.063\n",
      "std     0.102   0.103\n",
      "min     0.008   0.011\n",
      "25%     0.009   0.012\n",
      "50%     0.010   0.022\n",
      "75%     0.022   0.103\n",
      "max     0.998   1.001\n"
     ]
    },
    {
     "data": {
      "text/plain": [
       "(array([28., 24.,  4.,  0.,  0.,  0.,  0.,  2.,  0.,  6., 11.,  1.,  0.,\n",
       "         0.,  3.,  0.,  0.,  0.,  0.,  0.,  0.,  0.,  0.,  0.,  0.,  0.,\n",
       "         0.,  0.,  0.,  0.,  0.,  0.,  0.,  0.,  0.,  0.,  0.,  0.,  0.,\n",
       "         0.,  5.,  0.,  0.,  0.,  0.,  0.,  0.,  0.,  0.,  0.,  0.,  0.,\n",
       "         0.,  0.,  0.,  0.,  0.,  0.,  0.,  0.,  0.,  0.,  0.,  0.,  0.,\n",
       "         0.,  0.,  0.,  0.,  0.,  0.,  0.,  0.,  0.,  0.,  0.,  0.,  0.,\n",
       "         0.,  0.,  0.,  0.,  0.,  0.,  0.,  0.,  0.,  0.,  0.,  5., 11.,\n",
       "         2.,  0.,  0.,  0.,  0.,  0.,  0.,  0.,  0.,  0.,  0.,  0.,  0.,\n",
       "         0.,  0.,  0.,  0.,  0.,  0.,  0.,  0.,  0.,  0.,  0.,  0.,  0.,\n",
       "         0.,  0.,  0.,  0.,  0.,  0.,  0.,  0.,  0.,  0.,  0.,  0.,  0.,\n",
       "         0.,  0.,  0.,  0.,  0.,  0.,  0.,  0.,  0.,  0.,  0.,  0.,  0.,\n",
       "         0.,  0.,  0.,  0.,  0.,  0.,  0.,  0.,  0.,  0.,  0.,  0.,  0.,\n",
       "         0.,  0.,  0.,  0.,  0.,  0.,  0.,  0.,  0.,  0.,  0.,  0.,  0.,\n",
       "         0.,  0.,  0.,  0.,  0.,  0.,  0.,  0.,  0.,  0.,  0.,  0.,  0.,\n",
       "         0.,  0.,  0.,  0.,  0.,  0.,  0.,  0.,  0.,  1.,  0.,  0.,  0.,\n",
       "         0.,  0.,  0.,  0.,  0.,  0.,  0.,  0.,  0.,  0.,  0.,  0.,  0.,\n",
       "         0.,  0.,  0.,  0.,  0.,  0.,  0.,  0.,  0.,  0.,  0.,  0.,  0.,\n",
       "         0.,  0.,  0.,  0.,  0.,  0.,  0.,  0.,  0.,  0.,  0.,  0.,  0.,\n",
       "         0.,  0.,  0.,  0.,  0.,  0.,  0.,  0.,  0.,  0.,  0.,  0.,  0.,\n",
       "         0.,  0.,  0.,  0.,  0.,  0.,  0.,  0.,  0.,  0.,  0.,  0.,  0.,\n",
       "         0.,  0.,  0.,  0.,  0.,  0.,  0.,  0.,  0.,  0.,  0.,  0.,  0.,\n",
       "         0.,  0.,  0.,  0.,  0.,  0.,  0.,  0.,  0.,  0.,  0.,  0.,  0.,\n",
       "         0.,  0.,  0.,  0.,  0.,  0.,  0.,  0.,  0.,  0.,  0.,  0.,  0.,\n",
       "         0.,  0.,  0.,  0.,  0.,  0.,  0.,  0.,  0.,  0.,  0.,  0.,  0.,\n",
       "         0.,  0.,  0.,  0.,  0.,  0.,  0.,  0.,  0.,  0.,  0.,  0.,  0.,\n",
       "         0.,  0.,  0.,  0.,  0.,  0.,  0.,  0.,  0.,  0.,  0.,  0.,  0.,\n",
       "         0.,  0.,  0.,  0.,  0.,  0.,  0.,  0.,  0.,  0.,  0.,  0.,  0.,\n",
       "         0.,  0.,  0.,  0.,  0.,  0.,  0.,  0.,  0.,  0.,  0.,  0.,  0.,\n",
       "         0.,  0.,  0.,  0.,  0.,  0.,  0.,  0.,  0.,  0.,  0.,  0.,  0.,\n",
       "         0.,  0.,  0.,  0.,  0.,  0.,  0.,  0.,  0.,  0.,  0.,  0.,  0.,\n",
       "         0.,  0.,  0.,  0.,  0.,  0.,  0.,  0.,  0.,  0.,  0.,  0.,  0.,\n",
       "         0.,  0.,  0.,  0.,  0.,  0.,  0.,  0.,  0.,  0.,  0.,  0.,  0.,\n",
       "         0.,  0.,  0.,  0.,  0.,  0.,  0.,  0.,  0.,  0.,  0.,  0.,  0.,\n",
       "         0.,  0.,  0.,  0.,  0.,  0.,  0.,  0.,  0.,  0.,  0.,  0.,  0.,\n",
       "         0.,  0.,  0.,  0.,  0.,  0.,  0.,  0.,  0.,  0.,  0.,  0.,  0.,\n",
       "         0.,  0.,  0.,  0.,  0.,  0.,  0.,  0.,  0.,  0.,  0.,  0.,  0.,\n",
       "         0.,  0.,  0.,  0.,  0.,  0.,  0.,  0.,  0.,  0.,  0.,  0.,  0.,\n",
       "         0.,  0.,  0.,  0.,  0.,  0.,  0.,  0.,  0.,  0.,  0.,  0.,  0.,\n",
       "         0.,  0.,  0.,  0.,  0.,  0.,  0.,  0.,  0.,  0.,  0.,  0.,  0.,\n",
       "         0.,  0.,  0.,  0.,  0.,  0.,  0.,  0.,  0.,  0.,  0.,  0.,  0.,\n",
       "         0.,  0.,  0.,  0.,  0.,  0.,  0.,  0.,  0.,  0.,  0.,  0.,  0.,\n",
       "         0.,  0.,  0.,  0.,  0.,  0.,  0.,  0.,  0.,  0.,  0.,  0.,  0.,\n",
       "         0.,  0.,  0.,  0.,  0.,  0.,  0.,  0.,  0.,  0.,  0.,  0.,  0.,\n",
       "         0.,  0.,  0.,  0.,  0.,  0.,  0.,  0.,  0.,  0.,  0.,  0.,  0.,\n",
       "         0.,  0.,  0.,  0.,  0.,  0.,  0.,  0.,  0.,  0.,  0.,  0.,  0.,\n",
       "         0.,  0.,  0.,  0.,  0.,  0.,  0.,  0.,  0.,  0.,  0.,  0.,  0.,\n",
       "         0.,  0.,  0.,  0.,  0.,  0.,  0.,  0.,  0.,  0.,  0.,  0.,  0.,\n",
       "         0.,  0.,  0.,  0.,  0.,  0.,  0.,  0.,  0.,  0.,  0.,  0.,  0.,\n",
       "         0.,  0.,  0.,  0.,  0.,  0.,  0.,  0.,  0.,  0.,  0.,  0.,  0.,\n",
       "         0.,  0.,  0.,  0.,  0.,  0.,  0.,  0.,  0.,  0.,  0.,  0.,  0.,\n",
       "         0.,  0.,  0.,  0.,  0.,  0.,  0.,  0.,  0.,  0.,  0.,  0.,  0.,\n",
       "         0.,  0.,  0.,  0.,  0.,  0.,  0.,  0.,  0.,  0.,  0.,  0.,  0.,\n",
       "         0.,  0.,  0.,  0.,  0.,  0.,  0.,  0.,  0.,  0.,  0.,  0.,  0.,\n",
       "         0.,  0.,  0.,  0.,  0.,  0.,  0.,  0.,  0.,  0.,  0.,  0.,  0.,\n",
       "         0.,  0.,  0.,  0.,  0.,  0.,  0.,  0.,  0.,  0.,  0.,  0.,  0.,\n",
       "         0.,  0.,  0.,  0.,  0.,  0.,  0.,  0.,  0.,  0.,  0.,  0.,  0.,\n",
       "         0.,  0.,  0.,  0.,  0.,  0.,  0.,  0.,  0.,  0.,  0.,  0.,  0.,\n",
       "         0.,  0.,  0.,  0.,  0.,  0.,  0.,  0.,  0.,  0.,  0.,  0.,  0.,\n",
       "         0.,  0.,  0.,  0.,  0.,  0.,  0.,  0.,  0.,  0.,  0.,  0.,  0.,\n",
       "         0.,  0.,  0.,  0.,  0.,  0.,  0.,  0.,  0.,  0.,  0.,  0.,  0.,\n",
       "         0.,  0.,  0.,  0.,  0.,  0.,  0.,  0.,  0.,  0.,  0.,  0.,  0.,\n",
       "         0.,  0.,  0.,  0.,  0.,  0.,  0.,  0.,  0.,  0.,  0.,  0.,  0.,\n",
       "         0.,  0.,  0.,  0.,  0.,  0.,  0.,  0.,  0.,  0.,  0.,  0.,  0.,\n",
       "         0.,  0.,  0.,  0.,  0.,  0.,  0.,  0.,  0.,  0.,  0.,  0.,  0.,\n",
       "         0.,  0.,  0.,  0.,  0.,  0.,  0.,  0.,  0.,  0.,  0.,  0.,  0.,\n",
       "         0.,  0.,  0.,  0.,  0.,  0.,  0.,  0.,  0.,  0.,  0.,  0.,  0.,\n",
       "         0.,  0.,  0.,  0.,  0.,  0.,  0.,  0.,  0.,  0.,  0.,  0.,  0.,\n",
       "         0.,  0.,  0.,  0.,  0.,  0.,  0.,  0.,  0.,  0.,  0.,  0.,  0.,\n",
       "         0.,  0.,  0.,  0.,  0.,  0.,  0.,  0.,  0.,  0.,  0.,  0.,  0.,\n",
       "         0.,  0.,  0.,  0.,  0.,  0.,  0.,  0.,  0.,  0.,  0.,  0.,  0.,\n",
       "         0.,  0.,  0.,  0.,  0.,  0.,  0.,  0.,  0.,  0.,  0.,  0.,  0.,\n",
       "         0.,  0.,  0.,  0.,  0.,  0.,  0.,  0.,  0.,  0.,  0.,  0.,  0.,\n",
       "         0.,  0.,  0.,  0.,  0.,  0.,  0.,  0.,  0.,  0.,  0.,  0.,  0.,\n",
       "         0.,  0.,  0.,  0.,  0.,  0.,  0.,  0.,  0.,  0.,  0.,  0.,  0.,\n",
       "         0.,  0.,  0.,  0.,  0.,  0.,  0.,  0.,  0.,  0.,  0.,  0.,  0.,\n",
       "         0.,  0.,  0.,  0.,  0.,  0.,  0.,  0.,  0.,  0.,  0.,  0.,  0.,\n",
       "         0.,  0.,  0.,  0.,  0.,  0.,  0.,  0.,  0.,  0.,  0.,  1.]),\n",
       " array([0.00798   , 0.00896972, 0.00995945, ..., 0.99572555, 0.99671527,\n",
       "        0.997705  ]),\n",
       " <a list of 1000 Patch objects>)"
      ]
     },
     "execution_count": 11,
     "metadata": {},
     "output_type": "execute_result"
    },
    {
     "data": {
      "image/png": "[encoded data removed]",
      "text/plain": [
       "<Figure size 432x288 with 1 Axes>"
      ]
     },
     "metadata": {
      "needs_background": "light"
     },
     "output_type": "display_data"
    }
   ],
   "source": [
    "# %%\n",
    "# Block 8. 特徴毎に時間スパン最小値を探す\n",
    "pdSpanMinMaxMultiVal = pdCanMultiVal.groupby(\n",
    "    ['feature'])['diffTime2'].agg(['min', 'max'])\n",
    "print(pdSpanMinMaxMultiVal.describe())\n",
    "plt.hist(pdSpanMinMaxMultiVal['min'], bins=1000)\n",
    "# 104特徴は0.007秒間隔から1.00秒間隔の間。0.010秒間隔でリサンプリングしていく。"
   ]
  },
  {
   "cell_type": "code",
   "execution_count": 12,
   "metadata": {},
   "outputs": [
    {
     "name": "stdout",
     "output_type": "stream",
     "text": [
      "count   59901.000\n",
      "mean        0.010\n",
      "std         0.000\n",
      "min         0.009\n",
      "25%         0.010\n",
      "50%         0.010\n",
      "75%         0.010\n",
      "max         0.011\n",
      "Name: diffTime2, dtype: float64\n"
     ]
    },
    {
     "data": {
      "image/png": "[encoded data removed]",
      "text/plain": [
       "<Figure size 432x288 with 1 Axes>"
      ]
     },
     "metadata": {
      "needs_background": "light"
     },
     "output_type": "display_data"
    },
    {
     "name": "stdout",
     "output_type": "stream",
     "text": [
      "count   5989.000\n",
      "mean       0.100\n",
      "std        0.000\n",
      "min        0.097\n",
      "25%        0.100\n",
      "50%        0.100\n",
      "75%        0.100\n",
      "max        0.102\n",
      "Name: diffTime2, dtype: float64\n"
     ]
    },
    {
     "data": {
      "image/png": "[encoded data removed]",
      "text/plain": [
       "<Figure size 432x288 with 1 Axes>"
      ]
     },
     "metadata": {
      "needs_background": "light"
     },
     "output_type": "display_data"
    },
    {
     "name": "stdout",
     "output_type": "stream",
     "text": [
      "count   5999.000\n",
      "mean       0.100\n",
      "std        0.000\n",
      "min        0.096\n",
      "25%        0.100\n",
      "50%        0.100\n",
      "75%        0.100\n",
      "max        0.103\n",
      "Name: diffTime2, dtype: float64\n"
     ]
    },
    {
     "data": {
      "image/png": "[encoded data removed]",
      "text/plain": [
       "<Figure size 432x288 with 1 Axes>"
      ]
     },
     "metadata": {
      "needs_background": "light"
     },
     "output_type": "display_data"
    },
    {
     "name": "stdout",
     "output_type": "stream",
     "text": [
      "count   29948.000\n",
      "mean        0.020\n",
      "std         0.000\n",
      "min         0.018\n",
      "25%         0.020\n",
      "50%         0.020\n",
      "75%         0.020\n",
      "max         0.022\n",
      "Name: diffTime2, dtype: float64\n"
     ]
    },
    {
     "data": {
      "image/png": "[encoded data removed]",
      "text/plain": [
       "<Figure size 432x288 with 1 Axes>"
      ]
     },
     "metadata": {
      "needs_background": "light"
     },
     "output_type": "display_data"
    }
   ],
   "source": [
    "# %%  Block 9. 高い自己相関は除去。パート1．自己相関を一つの特徴で実施\n",
    "ctFeature = 0 # 61 # 100, 49  # 0\n",
    "def plotToSeeTimePattern(ctFeature, cutStart, cutEnd):\n",
    "# if 1:\n",
    "    thisFeature = lsNamesFeatureMultiVal[ctFeature]\n",
    "    pdCanMultiValOne = pdCanMultiVal[pdCanMultiVal[\"feature\"] == thisFeature]\n",
    "    pdCanMultiValOne.head()\n",
    "    indStart = np.where(pdCanMultiValOne['time2'] >= cutStart)[0][0]\n",
    "    indEnd = np.where(pdCanMultiValOne['time2'] >= cutEnd)[0][0]\n",
    "    plt.plot(pdCanMultiValOne['time2'][indStart:indEnd],\n",
    "            pdCanMultiValOne['value'][indStart:indEnd], \"-o\")\n",
    "    print(pdCanMultiValOne[\"diffTime2\"].describe())\n",
    "    plt.show()\n",
    "\n",
    "plotToSeeTimePattern(ctFeature = 0, cutStart = 0, cutEnd = 0.6)\n",
    "plotToSeeTimePattern(ctFeature = 61, cutStart = 160, cutEnd = 170)\n",
    "plotToSeeTimePattern(ctFeature = 100, cutStart = 0, cutEnd = 20)\n",
    "plotToSeeTimePattern(ctFeature = 49, cutStart = 0, cutEnd = 4.5)\n",
    "# 記録間隔はほぼ一定（0.197秒から0.202秒の間）なので、等間隔とみなして波形分析を実施。"
   ]
  },
  {
   "cell_type": "code",
   "execution_count": 13,
   "metadata": {},
   "outputs": [
    {
     "data": {
      "image/png": "[encoded data removed]",
      "text/plain": [
       "<Figure size 864x576 with 2 Axes>"
      ]
     },
     "metadata": {
      "needs_background": "light"
     },
     "output_type": "display_data"
    },
    {
     "data": {
      "image/png": "[encoded data removed]",
      "text/plain": [
       "<Figure size 864x576 with 2 Axes>"
      ]
     },
     "metadata": {
      "needs_background": "light"
     },
     "output_type": "display_data"
    },
    {
     "data": {
      "image/png": "[encoded data removed]",
      "text/plain": [
       "<Figure size 864x576 with 2 Axes>"
      ]
     },
     "metadata": {
      "needs_background": "light"
     },
     "output_type": "display_data"
    }
   ],
   "source": [
    "# %%  Block 10. 自己相関のグラフ\n",
    "def plotAutoCorrelation(ctFeature, myLag2):\n",
    "    thisFeature = lsNamesFeatureMultiVal[ctFeature]\n",
    "    pdCanMultiValOne = pdCanMultiVal[pdCanMultiVal[\"feature\"] == thisFeature]\n",
    "    timeSpanInFeatureMinMax = pdCanMultiValOne[\"diffTime2\"].agg([\"min\", \"max\"])\n",
    "    myTimeSeriesData = pdCanMultiValOne['value']\n",
    "    fig = plt.figure(figsize=(12, 8))\n",
    "    ax1 = fig.add_subplot(211)\n",
    "    fig = sm.graphics.tsa.plot_acf(myTimeSeriesData, lags=myLag2, ax=ax1)\n",
    "    ax2 = fig.add_subplot(212)\n",
    "    fig = sm.graphics.tsa.plot_pacf(\n",
    "        myTimeSeriesData, lags=myLag2, ax=ax2, method='ols')\n",
    "\n",
    "plotAutoCorrelation(ctFeature = 0, myLag2 = 40)\n",
    "plotAutoCorrelation(ctFeature = 61, myLag2 = 60)\n",
    "plotAutoCorrelation(ctFeature = 100, myLag2 = 45)\n",
    "# plotAutoCorrelation(ctFeature = 49, myLag2 = 200) # 3分位掛かるので普段は実行しない。\n",
    "\n",
    "\n",
    "# # 0625"
   ]
  },
  {
   "cell_type": "code",
   "execution_count": 18,
   "metadata": {},
   "outputs": [
    {
     "name": "stdout",
     "output_type": "stream",
     "text": [
      "ctFeature=0 minSpan/maxSpan=0.89 maxPAC_after_2lag=1.0 0FA37\n",
      "ctFeature=1 minSpan/maxSpan=0.89 maxPAC_after_2lag=1.0 0FA57\n",
      "ctFeature=2 minSpan/maxSpan=0.9 maxPAC_after_2lag=1.0 11451\n",
      "ctFeature=3 minSpan/maxSpan=0.9 maxPAC_after_2lag=1.0 11467\n",
      "ctFeature=4 minSpan/maxSpan=0.88 maxPAC_after_2lag=0.62 11913\n",
      "ctFeature=5 minSpan/maxSpan=0.88 maxPAC_after_2lag=1.0 11915\n",
      "ctFeature=6 minSpan/maxSpan=0.88 maxPAC_after_2lag=0.52 11927\n",
      "ctFeature=7 minSpan/maxSpan=0.88 maxPAC_after_2lag=0.52 11947\n",
      "ctFeature=8 minSpan/maxSpan=0.85 maxPAC_after_2lag=1.0 11F47\n",
      "ctFeature=9 minSpan/maxSpan=0.85 maxPAC_after_2lag=1.0 11F53\n",
      "ctFeature=10 minSpan/maxSpan=0.79 maxPAC_after_2lag=0.13 12013\n",
      "ctFeature=11 minSpan/maxSpan=0.79 maxPAC_after_2lag=0.19 12033\n",
      "ctFeature=12 minSpan/maxSpan=0.79 maxPAC_after_2lag=1.0 12051\n",
      "ctFeature=13 minSpan/maxSpan=0.76 maxPAC_after_2lag=0.45 12217\n",
      "ctFeature=14 minSpan/maxSpan=0.76 maxPAC_after_2lag=0.8 12227\n",
      "ctFeature=15 minSpan/maxSpan=0.76 maxPAC_after_2lag=1.0 12231\n",
      "ctFeature=16 minSpan/maxSpan=0.76 maxPAC_after_2lag=0.22 12247\n",
      "ctFeature=17 minSpan/maxSpan=0.74 maxPAC_after_2lag=0.48 12417\n",
      "ctFeature=18 minSpan/maxSpan=0.74 maxPAC_after_2lag=0.07 12437\n",
      "ctFeature=19 minSpan/maxSpan=0.74 maxPAC_after_2lag=0.22 12457\n",
      "ctFeature=20 minSpan/maxSpan=0.74 maxPAC_after_2lag=1.0 12461\n",
      "ctFeature=21 minSpan/maxSpan=0.74 maxPAC_after_2lag=0.0 12464\n",
      "ctFeature=22 minSpan/maxSpan=0.75 maxPAC_after_2lag=0.06 12905\n",
      "ctFeature=23 minSpan/maxSpan=0.75 maxPAC_after_2lag=0.0 12925\n",
      "ctFeature=24 minSpan/maxSpan=0.75 maxPAC_after_2lag=0.02 12944\n",
      "ctFeature=25 minSpan/maxSpan=0.75 maxPAC_after_2lag=1.0 12947\n",
      "ctFeature=26 minSpan/maxSpan=0.75 maxPAC_after_2lag=0.02 12964\n",
      "ctFeature=27 minSpan/maxSpan=0.88 maxPAC_after_2lag=0.57 13F17\n",
      "ctFeature=28 minSpan/maxSpan=0.88 maxPAC_after_2lag=0.38 13F47\n",
      "ctFeature=29 minSpan/maxSpan=0.88 maxPAC_after_2lag=0.5 13F57\n",
      "ctFeature=30 minSpan/maxSpan=0.73 maxPAC_after_2lag=1.0 1AC07\n",
      "ctFeature=31 minSpan/maxSpan=0.73 maxPAC_after_2lag=0.49 1AC22\n",
      "ctFeature=32 minSpan/maxSpan=0.73 maxPAC_after_2lag=0.32 1AC27\n",
      "ctFeature=33 minSpan/maxSpan=0.73 maxPAC_after_2lag=0.15 1AC41\n",
      "ctFeature=34 minSpan/maxSpan=0.69 maxPAC_after_2lag=0.9 1AF23\n",
      "ctFeature=35 minSpan/maxSpan=0.69 maxPAC_after_2lag=1.0 1AF25\n",
      "ctFeature=36 minSpan/maxSpan=0.69 maxPAC_after_2lag=0.08 1AF67\n",
      "ctFeature=37 minSpan/maxSpan=0.67 maxPAC_after_2lag=0.26 1B805\n",
      "ctFeature=38 minSpan/maxSpan=0.67 maxPAC_after_2lag=0.33 1B825\n",
      "ctFeature=39 minSpan/maxSpan=0.67 maxPAC_after_2lag=0.18 1B845\n",
      "ctFeature=40 minSpan/maxSpan=0.67 maxPAC_after_2lag=0.23 1B865\n",
      "ctFeature=41 minSpan/maxSpan=0.81 maxPAC_after_2lag=0.16 1E303\n",
      "ctFeature=42 minSpan/maxSpan=0.81 maxPAC_after_2lag=0.0 1E307\n",
      "ctFeature=43 minSpan/maxSpan=0.83 maxPAC_after_2lag=0.28 1E823\n",
      "ctFeature=44 minSpan/maxSpan=0.83 maxPAC_after_2lag=0.28 1E843\n",
      "ctFeature=45 minSpan/maxSpan=0.83 maxPAC_after_2lag=0.0 1E906\n",
      "ctFeature=46 minSpan/maxSpan=0.83 maxPAC_after_2lag=0.0 1E926\n",
      "ctFeature=47 minSpan/maxSpan=0.83 maxPAC_after_2lag=0.0 1E946\n",
      "ctFeature=48 minSpan/maxSpan=0.83 maxPAC_after_2lag=0.0 1E966\n",
      "ctFeature=49 minSpan/maxSpan=0.8 maxPAC_after_2lag=0.01 1EF03\n",
      "ctFeature=50 minSpan/maxSpan=0.8 maxPAC_after_2lag=0.31 1EF17\n",
      "ctFeature=51 minSpan/maxSpan=0.8 maxPAC_after_2lag=0.31 1EF37\n",
      "ctFeature=52 minSpan/maxSpan=0.8 maxPAC_after_2lag=0.27 1EF57\n",
      "ctFeature=53 minSpan/maxSpan=0.8 maxPAC_after_2lag=0.14 1EF61\n",
      "ctFeature=54 minSpan/maxSpan=0.8 maxPAC_after_2lag=1.0 1EF64\n",
      "ctFeature=55 minSpan/maxSpan=0.92 maxPAC_after_2lag=0.0 2A006\n",
      "ctFeature=56 minSpan/maxSpan=0.92 maxPAC_after_2lag=0.0 2A026\n",
      "ctFeature=57 minSpan/maxSpan=0.92 maxPAC_after_2lag=0.0 2A046\n",
      "ctFeature=58 minSpan/maxSpan=0.92 maxPAC_after_2lag=0.0 2A066\n",
      "ctFeature=59 minSpan/maxSpan=0.92 maxPAC_after_2lag=0.03 2A214\n",
      "ctFeature=60 minSpan/maxSpan=0.96 maxPAC_after_2lag=0.03 31017\n",
      "ctFeature=61 minSpan/maxSpan=0.95 maxPAC_after_2lag=0.46 31417\n",
      "ctFeature=62 minSpan/maxSpan=0.95 maxPAC_after_2lag=0.0 31434\n",
      "ctFeature=63 minSpan/maxSpan=0.95 maxPAC_after_2lag=0.08 31457\n",
      "ctFeature=64 minSpan/maxSpan=0.08 maxPAC_after_2lag=0.03 31801\n",
      "ctFeature=65 minSpan/maxSpan=0.08 maxPAC_after_2lag=0.02 31802\n",
      "ctFeature=66 minSpan/maxSpan=0.08 maxPAC_after_2lag=0.02 31814\n",
      "ctFeature=67 minSpan/maxSpan=0.08 maxPAC_after_2lag=0.16 31827\n",
      "ctFeature=68 minSpan/maxSpan=0.09 maxPAC_after_2lag=0.0 32F20\n",
      "ctFeature=69 minSpan/maxSpan=0.09 maxPAC_after_2lag=0.06 32F25\n",
      "ctFeature=70 minSpan/maxSpan=0.09 maxPAC_after_2lag=0.0 32F44\n",
      "ctFeature=71 minSpan/maxSpan=0.09 maxPAC_after_2lag=0.0 32F47\n",
      "ctFeature=72 minSpan/maxSpan=0.09 maxPAC_after_2lag=0.0 3A105\n",
      "ctFeature=73 minSpan/maxSpan=0.09 maxPAC_after_2lag=0.0 3A107\n",
      "ctFeature=74 minSpan/maxSpan=0.09 maxPAC_after_2lag=0.0 3A116\n",
      "ctFeature=75 minSpan/maxSpan=0.97 maxPAC_after_2lag=1.0 3A211\n",
      "ctFeature=76 minSpan/maxSpan=0.95 maxPAC_after_2lag=0.06 3A977\n",
      "ctFeature=77 minSpan/maxSpan=0.19 maxPAC_after_2lag=0.0 3B801\n",
      "ctFeature=78 minSpan/maxSpan=0.95 maxPAC_after_2lag=0.01 3B947\n",
      "ctFeature=79 minSpan/maxSpan=0.95 maxPAC_after_2lag=0.0 3B957\n",
      "ctFeature=80 minSpan/maxSpan=0.95 maxPAC_after_2lag=0.0 3BA07\n",
      "ctFeature=81 minSpan/maxSpan=0.95 maxPAC_after_2lag=0.01 3BA37\n",
      "ctFeature=82 minSpan/maxSpan=0.95 maxPAC_after_2lag=0.01 3BA43\n",
      "ctFeature=83 minSpan/maxSpan=0.95 maxPAC_after_2lag=0.01 3BA46\n",
      "ctFeature=84 minSpan/maxSpan=0.95 maxPAC_after_2lag=0.0 3BA60\n",
      "ctFeature=85 minSpan/maxSpan=0.15 maxPAC_after_2lag=0.44 3C111\n",
      "ctFeature=86 minSpan/maxSpan=0.15 maxPAC_after_2lag=0.0 3C112\n",
      "ctFeature=87 minSpan/maxSpan=0.93 maxPAC_after_2lag=0.07 3C367\n",
      "ctFeature=88 minSpan/maxSpan=0.1 maxPAC_after_2lag=0.01 3D014\n",
      "ctFeature=89 minSpan/maxSpan=0.1 maxPAC_after_2lag=0.0 3D016\n",
      "ctFeature=90 minSpan/maxSpan=0.1 maxPAC_after_2lag=0.69 3D046\n",
      "ctFeature=91 minSpan/maxSpan=0.1 maxPAC_after_2lag=0.52 3D047\n",
      "ctFeature=92 minSpan/maxSpan=0.1 maxPAC_after_2lag=0.0 3D052\n",
      "ctFeature=93 minSpan/maxSpan=0.1 maxPAC_after_2lag=0.0 3D055\n",
      "ctFeature=94 minSpan/maxSpan=0.1 maxPAC_after_2lag=0.0 3D064\n",
      "ctFeature=95 minSpan/maxSpan=0.21 maxPAC_after_2lag=0.39 3D151\n",
      "ctFeature=96 minSpan/maxSpan=0.21 maxPAC_after_2lag=0.0 3D157\n",
      "ctFeature=97 minSpan/maxSpan=0.21 maxPAC_after_2lag=0.28 3D177\n",
      "ctFeature=98 minSpan/maxSpan=0.93 maxPAC_after_2lag=0.02 3D604\n",
      "ctFeature=99 minSpan/maxSpan=0.93 maxPAC_after_2lag=0.0 3D667\n",
      "ctFeature=100 minSpan/maxSpan=0.93 maxPAC_after_2lag=1.0 3E206\n",
      "ctFeature=101 minSpan/maxSpan=0.94 maxPAC_after_2lag=0.2 3E801\n",
      "ctFeature=102 minSpan/maxSpan=1.0 maxPAC_after_2lag=0.01 46003\n",
      "ctFeature=103 minSpan/maxSpan=0.97 maxPAC_after_2lag=1.0 50007\n",
      "104\n",
      "[1.00000000e+00 9.99999997e-01 4.99892786e-01 1.00000000e+00\n",
      " 1.53610458e-12 2.16537899e-12 5.00000000e-01 3.49498208e-13\n",
      " 1.27520217e-12 3.33333333e-01 3.63709063e-13]\n"
     ]
    }
   ],
   "source": [
    "# %% \n",
    "# block B01. 高い自己相関は除去。パート３．自己相関を全変数まわす計算のみ。（10分間程度かかる）\n",
    "ctFeature = 61 # 100 # 3\n",
    "myLag = 10 # 自己相関ラグは10あれば今ファイルのたいていの自己相関が検出可能。\n",
    "myLag40 = 45 # 100番目の変数だけはラグ40程度必要。\n",
    "threLag = 3 # このラグ以上のラグの中で最大の偏自己相関を分析に使用。\n",
    "lsTimeSpanInFeatureMinMax = list()\n",
    "lsTsPacf = list()\n",
    "\n",
    "for ctFeature in list(range(lenNamesFeatureMultiVal)):\n",
    "# if 1:\n",
    "    thisFeature = lsNamesFeatureMultiVal[ctFeature]\n",
    "    pdCanMultiValOne = pdCanMultiVal[pdCanMultiVal[\"feature\"] == thisFeature]\n",
    "    timeSpanInFeatureMinMax = pdCanMultiValOne[\"diffTime2\"].agg([\"min\", \"max\"])\n",
    "    myTimeSeriesData = pdCanMultiValOne['value']\n",
    "    myLag2 = myLag if not ctFeature == 100 else myLag40\n",
    "    ts_acf = sm.tsa.stattools.acf(myTimeSeriesData, nlags=myLag2)\n",
    "    ts_pacf = sm.tsa.stattools.pacf(\n",
    "        myTimeSeriesData, nlags=myLag2, method='ols')    # 偏自己相関\n",
    "    lsTimeSpanInFeatureMinMax.append(timeSpanInFeatureMinMax)\n",
    "    lsTsPacf.append(ts_pacf)\n",
    "    tempMax = round(abs(ts_pacf[threLag:]).max(), 2)\n",
    "    tempMax = pd.Series([tempMax, 1]).min()\n",
    "    print(\"ctFeature=\" + str(ctFeature) + \" \" +\n",
    "          \"minSpan/maxSpan=\" + str(round(timeSpanInFeatureMinMax[0] / timeSpanInFeatureMinMax[1], 2)) + \" \" +\n",
    "          \"maxPAC_after_2lag=\" + str(tempMax) + \" \" +\n",
    "          thisFeature)\n",
    "\n",
    "print(len(lsTsPacf))\n",
    "print(abs(ts_pacf))"
   ]
  },
  {
   "cell_type": "code",
   "execution_count": 21,
   "metadata": {},
   "outputs": [
    {
     "name": "stdout",
     "output_type": "stream",
     "text": [
      "       maxAbsPAC\n",
      "0FA37      1.000\n",
      "0FA57      1.000\n",
      "11451      1.000\n",
      "11467      1.000\n",
      "11913      0.618\n",
      "11915      1.000\n",
      "11927      0.515\n",
      "11947      0.515\n",
      "11F47      1.000\n",
      "11F53      1.000\n",
      "12013      0.127\n",
      "12033      0.187\n",
      "12051      1.000\n",
      "12217      0.445\n",
      "12227      0.798\n",
      "12231      1.000\n",
      "12247      0.220\n",
      "12417      0.482\n",
      "12437      0.068\n",
      "12457      0.220\n",
      "12461      1.000\n",
      "12464      0.001\n",
      "12905      0.064\n",
      "12925      0.004\n",
      "12944      0.023\n",
      "12947      1.000\n",
      "12964      0.023\n",
      "13F17      0.569\n",
      "13F47      0.384\n",
      "13F57      0.500\n",
      "...          ...\n",
      "3A116      0.003\n",
      "3A211      1.000\n",
      "3A977      0.057\n",
      "3B801      0.001\n",
      "3B947      0.009\n",
      "3B957      0.000\n",
      "3BA07      0.001\n",
      "3BA37      0.010\n",
      "3BA43      0.006\n",
      "3BA46      0.011\n",
      "3BA60      0.003\n",
      "3C111      0.437\n",
      "3C112      0.002\n",
      "3C367      0.068\n",
      "3D014      0.015\n",
      "3D016      0.000\n",
      "3D046      0.686\n",
      "3D047      0.523\n",
      "3D052      0.002\n",
      "3D055      0.001\n",
      "3D064      0.000\n",
      "3D151      0.389\n",
      "3D157      0.000\n",
      "3D177      0.276\n",
      "3D604      0.015\n",
      "3D667      0.000\n",
      "3E206      1.000\n",
      "3E801      0.201\n",
      "46003      0.013\n",
      "50007      1.000\n",
      "\n",
      "[104 rows x 1 columns]\n"
     ]
    }
   ],
   "source": [
    "# %%\n",
    "# Block B02. パターン度合い得点（ 自己相関の結果を利用）を集計\n",
    "\n",
    "# method A (内包記法)（Method Bにも書き換え可能）\n",
    "lsPacfAcrossFeatures = [ abs(ts_pacf[threLag:]).max() if abs(ts_pacf[threLag:]).max()  <= 1 else 1 for ts_pacf in lsTsPacf]\n",
    "\n",
    "if 0: # このセクションは実行していない\n",
    "    # method B (FOR文)（Method Aにも書き換え可能）\n",
    "    lsPacfAcrossFeatures = list()\n",
    "    for ctFeature in list(range(len(lsTsPacf))):\n",
    "        ts_pacf = lsTsPacf[ctFeature]\n",
    "        maxPac = abs(ts_pacf[threLag:]).max()\n",
    "#         tempMax = pd.Series([tempMax, 1]).min()\n",
    "        maxPac = maxPac if maxPac <= 1 else 1\n",
    "        lsPacfAcrossFeatures.append(maxPac)\n",
    "\n",
    "# print(lsPacfAcrossFeatures)\n",
    "pdPacfAcrossFeatures = pd.DataFrame(lsPacfAcrossFeatures)\n",
    "pdPacfAcrossFeatures.columns = ['maxAbsPAC']\n",
    "pdPacfAcrossFeatures.index = lsNamesFeatureMultiVal\n",
    "print(pdPacfAcrossFeatures)\n",
    "pdPacfAcrossFeatures.to_csv(PATH_DATA_PRO_SUB2/\"pdPacfAcrossFeatures_Ubuntu.csv\")\n"
   ]
  },
  {
   "cell_type": "code",
   "execution_count": 22,
   "metadata": {},
   "outputs": [
    {
     "data": {
      "text/html": [
       "<div>\n",
       "<style scoped>\n",
       "    .dataframe tbody tr th:only-of-type {\n",
       "        vertical-align: middle;\n",
       "    }\n",
       "\n",
       "    .dataframe tbody tr th {\n",
       "        vertical-align: top;\n",
       "    }\n",
       "\n",
       "    .dataframe thead th {\n",
       "        text-align: right;\n",
       "    }\n",
       "</style>\n",
       "<table border=\"1\" class=\"dataframe\">\n",
       "  <thead>\n",
       "    <tr style=\"text-align: right;\">\n",
       "      <th></th>\n",
       "      <th>key</th>\n",
       "      <th>featureName</th>\n",
       "    </tr>\n",
       "  </thead>\n",
       "  <tbody>\n",
       "    <tr>\n",
       "      <th>0</th>\n",
       "      <td>sc11947</td>\n",
       "      <td>Steering Wheel Absolute Angle</td>\n",
       "    </tr>\n",
       "    <tr>\n",
       "      <th>1</th>\n",
       "      <td>sc12013</td>\n",
       "      <td>Engine Torque Actual</td>\n",
       "    </tr>\n",
       "    <tr>\n",
       "      <th>2</th>\n",
       "      <td>sc12217</td>\n",
       "      <td>Accelerator Actual Position</td>\n",
       "    </tr>\n",
       "    <tr>\n",
       "      <th>3</th>\n",
       "      <td>sc12417</td>\n",
       "      <td>Engine Speed</td>\n",
       "    </tr>\n",
       "    <tr>\n",
       "      <th>4</th>\n",
       "      <td>sc1AF67</td>\n",
       "      <td>Master Cylinder Pressure</td>\n",
       "    </tr>\n",
       "  </tbody>\n",
       "</table>\n",
       "</div>"
      ],
      "text/plain": [
       "       key                    featureName\n",
       "0  sc11947  Steering Wheel Absolute Angle\n",
       "1  sc12013           Engine Torque Actual\n",
       "2  sc12217    Accelerator Actual Position\n",
       "3  sc12417                   Engine Speed\n",
       "4  sc1AF67       Master Cylinder Pressure"
      ]
     },
     "execution_count": 22,
     "metadata": {},
     "output_type": "execute_result"
    }
   ],
   "source": [
    "# %%\n",
    "# Block B03. カラム名を読み込み\n",
    "# print(os.getcwd())\n",
    "# featureName\n",
    "pdKeyName = pd.read_csv(\n",
    "    PATH_DATA_INT/\"20190605_CAN/20190617_featureName.csv\") \n",
    "pdKeyName.head()"
   ]
  },
  {
   "cell_type": "code",
   "execution_count": 25,
   "metadata": {},
   "outputs": [],
   "source": [
    "# %%\n",
    "# Block B04\n",
    "# feature profiling\n",
    "pdFeatureProfile = pd.DataFrame(sorted(pdCan['feature'].unique()))\n",
    "pdFeatureProfile.columns = ['feature']"
   ]
  },
  {
   "cell_type": "code",
   "execution_count": 26,
   "metadata": {},
   "outputs": [
    {
     "name": "stdout",
     "output_type": "stream",
     "text": [
      "549特徴の中の513は名称未定義0.9344262295081968％\n"
     ]
    }
   ],
   "source": [
    "# %%\n",
    "# Block B05\n",
    "# feature profiling\n",
    "pdFeatureProfile = pd.DataFrame(sorted(pdCan['feature'].unique()))\n",
    "pdFeatureProfile.columns = ['feature']\n",
    "\n",
    "# merge with key\n",
    "pdFeatureProfile['key'] = \"sc\" + pdFeatureProfile['feature']\n",
    "pdFeatureProfile = pd.merge(pdFeatureProfile, pdKeyName, how = 'left')\n",
    "pdFeatureProfile['featureName2'] = pdFeatureProfile['featureName']\n",
    "pdFeatureProfile['featureName2'].iloc[np.where(pd.isnull( pdFeatureProfile['featureName'] ))] = \"No_Name\"\n",
    "\n",
    "# pdFeatureProfile['featureName'] = \"未定義\"\n",
    "\n",
    "# ラベル付\n",
    "pdFeatureProfile['isinThisFile'] = 1\n",
    "pdFeatureProfile['isMultiValOf104'] = pdFeatureProfile['feature'].isin(lsNamesFeatureMultiVal) * 1 # boolを01に変換\n",
    "\n",
    "# merge with Partial Auto Correlation\n",
    "pdPacfAcrossFeatures2 = copy.deepcopy(pdPacfAcrossFeatures)\n",
    "pdPacfAcrossFeatures2[\"feature\"] = pdPacfAcrossFeatures2.index.tolist()\n",
    "pdFeatureProfile = pd.merge(pdFeatureProfile, pdPacfAcrossFeatures2, how = 'left')\n",
    "pdFeatureProfile['isRemoveDueToPAC'] = [ 1 if myVal > threPacCut else 0 for myVal in pdFeatureProfile['maxAbsPAC'] ]\n",
    "\n",
    "# 内容確認\n",
    "pdFeatureProfile.describe()\n",
    "pdFeatureProfile.head(30)\n",
    "valTotalNoName = pdFeatureProfile['featureName'].isnull().sum()\n",
    "print(\n",
    "    str(len(pdFeatureProfile.index)) + \"特徴の中の\" +\n",
    "    str(valTotalNoName) + \"は名称未定義\" + str(valTotalNoName/ len(pdFeatureProfile.index)) + \"％\" )\n",
    "\n",
    "pdFeatureProfile.to_csv( PATH_DATA_PRO_SUB2/\"0624_pdFeatureProfile.csv\")"
   ]
  },
  {
   "cell_type": "code",
   "execution_count": 27,
   "metadata": {},
   "outputs": [
    {
     "name": "stdout",
     "output_type": "stream",
     "text": [
      "count   59900.000\n",
      "mean      299.505\n",
      "std       172.918\n",
      "min         0.010\n",
      "25%       149.757\n",
      "50%       299.505\n",
      "75%       449.252\n",
      "max       599.000\n",
      "dtype: float64\n"
     ]
    },
    {
     "data": {
      "text/plain": [
       "array([0.01, 0.02, 0.03, 0.04, 0.05, 0.06, 0.07, 0.08, 0.09, 0.1 ])"
      ]
     },
     "execution_count": 27,
     "metadata": {},
     "output_type": "execute_result"
    }
   ],
   "source": [
    "# %% \n",
    "# Block B06. このファイル内の使用項目全104特徴をカバーする時間軸を作る.評価スパンで終端除去\n",
    "timeSpan = 1 / sampFreq # サンプリング周波数は100か1000を検討中（6月18日）。subject2initial.pyで定義。\n",
    "timeSeriesStart = timeSpan\n",
    "pdCanMultiVal['timeAdj'] = pdCanMultiVal['time2'] \n",
    "timeEvalSpan = 1.000  # 評価スパンは１秒間隔\n",
    "pdCanMultiVal['timeAdj'].agg(['min', 'max'])\n",
    "timeSeriesEnd = timeSpan * math.ceil(pdCanMultiVal['timeAdj'].max()/timeSpan)\n",
    "timeSeriesEndFloor = timeEvalSpan *     math.floor(timeSeriesEnd / timeEvalSpan)  # 評価スパンで終端除去　\n",
    "timeSeriesStart2End = np.arange(\n",
    "    timeSeriesStart, (timeSeriesEndFloor + timeSpan), timeSpan)\n",
    "print(pd.Series(timeSeriesStart2End).describe())\n",
    "timeSeriesStart2End[:10]"
   ]
  },
  {
   "cell_type": "code",
   "execution_count": 28,
   "metadata": {},
   "outputs": [
    {
     "name": "stdout",
     "output_type": "stream",
     "text": [
      "0\n",
      "1\n",
      "2\n",
      "3\n",
      "4\n",
      "5\n",
      "6\n",
      "7\n",
      "8\n",
      "9\n",
      "10\n",
      "11\n",
      "12\n",
      "13\n",
      "14\n",
      "15\n",
      "16\n",
      "17\n",
      "18\n",
      "19\n",
      "20\n",
      "21\n",
      "22\n",
      "23\n",
      "24\n",
      "25\n",
      "26\n",
      "27\n",
      "28\n",
      "29\n",
      "30\n",
      "31\n",
      "32\n",
      "33\n",
      "34\n",
      "35\n",
      "36\n",
      "37\n",
      "38\n",
      "39\n",
      "40\n",
      "41\n",
      "42\n",
      "43\n",
      "44\n",
      "45\n",
      "46\n",
      "47\n",
      "48\n",
      "49\n",
      "50\n",
      "51\n",
      "52\n",
      "53\n",
      "54\n",
      "55\n",
      "56\n",
      "57\n",
      "58\n",
      "59\n",
      "60\n",
      "61\n",
      "62\n",
      "63\n",
      "64\n",
      "65\n",
      "66\n",
      "67\n",
      "68\n",
      "69\n",
      "70\n",
      "71\n",
      "72\n",
      "73\n",
      "74\n",
      "75\n",
      "76\n",
      "77\n",
      "78\n",
      "79\n",
      "80\n",
      "81\n",
      "82\n",
      "83\n",
      "84\n",
      "85\n",
      "86\n",
      "87\n",
      "88\n",
      "89\n",
      "90\n",
      "91\n",
      "92\n",
      "93\n",
      "94\n",
      "95\n",
      "96\n",
      "97\n",
      "98\n",
      "99\n",
      "100\n",
      "101\n",
      "102\n",
      "103\n",
      "   timeAdj  value\n",
      "9    0.000  2.000\n",
      "9    0.296  2.000\n",
      "   timeAdj  value\n",
      "1    0.000  4.000\n",
      "1    0.296  4.000\n",
      "    timeAdj  value\n",
      "65    0.000  0.000\n",
      "65    0.298  0.000\n"
     ]
    }
   ],
   "source": [
    "# %% \n",
    "# Block B07. 補間して全データをtimeSpan秒単位に変換\n",
    "# 補間ステップ１．内挿を成功させるために開始点（0.00秒目）と終了点(約600秒目)にコピーデータを置く。\n",
    "lsPdCanThisFeature = list()\n",
    "ctFeature = 2\n",
    "for ctFeature in list(range(lenNamesFeatureMultiVal)):\n",
    "    print(ctFeature)\n",
    "    # 特徴ひとつだけを抽出\n",
    "    thisFeature = lsNamesFeatureMultiVal[ctFeature]\n",
    "    pdCanThisFeature2 = pdCanMultiVal[[\n",
    "        'timeAdj', 'value']][pdCanMultiVal['feature'] == thisFeature]\n",
    "\n",
    "    # 内挿補間を動作させるために共通開始時間を挿入\n",
    "    if(pdCanThisFeature2['timeAdj'].iloc[0] != 0):\n",
    "        pdCanThisFeature2 = pd.concat(\n",
    "            [pdCanThisFeature2.head(1), pdCanThisFeature2], axis=0)\n",
    "        pdCanThisFeature2['timeAdj'].iloc[0] = 0\n",
    "\n",
    "    # 内挿補間を動作させるために共通終了時間を挿入\n",
    "    if(pdCanThisFeature2['timeAdj'].iloc[-1] != timeSeriesEnd):\n",
    "        pdCanThisFeature2 = pd.concat(\n",
    "            [pdCanThisFeature2, pdCanThisFeature2.tail(1)], axis=0)\n",
    "        pdCanThisFeature2['timeAdj'].iloc[-1] = timeSeriesEnd\n",
    "\n",
    "    # 開始時間と終了時間を追加したDFを保存\n",
    "    lsPdCanThisFeature.append(pdCanThisFeature2)\n",
    "\n",
    "print(lsPdCanThisFeature[0].head(2))\n",
    "print(lsPdCanThisFeature[1].head(2))\n",
    "print(lsPdCanThisFeature[61].head(2))"
   ]
  },
  {
   "cell_type": "code",
   "execution_count": 29,
   "metadata": {},
   "outputs": [
    {
     "name": "stdout",
     "output_type": "stream",
     "text": [
      "0\n",
      "1\n",
      "2\n",
      "3\n",
      "4\n",
      "5\n",
      "6\n",
      "7\n",
      "8\n",
      "9\n",
      "10\n",
      "11\n",
      "12\n",
      "13\n",
      "14\n",
      "15\n",
      "16\n",
      "17\n",
      "18\n",
      "19\n",
      "20\n",
      "21\n",
      "22\n",
      "23\n",
      "24\n",
      "25\n",
      "26\n",
      "27\n",
      "28\n",
      "29\n",
      "30\n",
      "31\n",
      "32\n",
      "33\n",
      "34\n",
      "35\n",
      "36\n",
      "37\n",
      "38\n",
      "39\n",
      "40\n",
      "41\n",
      "42\n",
      "43\n",
      "44\n",
      "45\n",
      "46\n",
      "47\n",
      "48\n",
      "49\n",
      "50\n",
      "51\n",
      "52\n",
      "53\n",
      "54\n",
      "55\n",
      "56\n",
      "57\n",
      "58\n",
      "59\n",
      "60\n",
      "61\n",
      "62\n",
      "63\n",
      "64\n",
      "65\n",
      "66\n",
      "67\n",
      "68\n",
      "69\n",
      "70\n",
      "71\n",
      "72\n",
      "73\n",
      "74\n",
      "75\n",
      "76\n",
      "77\n",
      "78\n",
      "79\n",
      "80\n",
      "81\n",
      "82\n",
      "83\n",
      "84\n",
      "85\n",
      "86\n",
      "87\n",
      "88\n",
      "89\n",
      "90\n",
      "91\n",
      "92\n",
      "93\n",
      "94\n",
      "95\n",
      "96\n",
      "97\n",
      "98\n",
      "99\n",
      "100\n",
      "101\n",
      "102\n",
      "103\n",
      "[2. 2. 2. 2. 2. 2. 2. 2. 2. 2.]\n",
      "[4. 4. 4. 4. 4. 4. 4. 4. 4. 4.]\n",
      "[ 4.          4.          4.          4.          4.          4.\n",
      "  4.          4.          4.          4.          4.          4.\n",
      "  4.          4.          4.          4.          4.          4.\n",
      "  4.          4.          4.          4.          4.          4.\n",
      "  4.          4.          4.          4.          4.          2.36294518\n",
      "  4.91596639 10.35990797  6.35887177  2.35856414  4.91868132 10.36148919\n",
      "  6.35812231  2.35616438  4.93129313 10.356       6.35731415  2.35788631\n",
      "  4.93249325 10.35477739  6.35310593  2.3524      4.9398361  10.35447089\n",
      "  6.35334134  2.3517407   4.9476     10.35047009  6.35131894  2.35221133\n",
      "  4.94957983 10.34886977  6.34790437  2.34736526  4.95323741 10.34947958\n",
      "  6.34677339  2.3456      4.96369637 10.34470341  6.35207483  2.35603777\n",
      "  4.96688344 10.34270281  6.34183418  2.34143414  4.87834526 10.38955209\n",
      "  6.3410046   2.33943394  4.98190181 10.33943394  6.34992548  2.35433863\n",
      "  4.98659196 10.33673265  6.33686737  2.33723138  4.98529853 10.3370022\n",
      "  6.33510053  2.33423342  4.998      10.33366673  6.33735661  2.33904762\n",
      "  5.00240096 10.3316      6.33076538  2.33076846  5.00229977 10.33146517\n",
      "  6.32909873  2.32873425  5.01390417 10.32916958  6.32946357  2.3276\n",
      "  5.01820364 10.32629789  6.32543254  2.32586965  5.02060412 10.324995\n",
      "  6.32343234  2.3232      5.03140628 10.32374101  6.3244271   2.32212885\n",
      "  5.03690369 10.3208      6.31995998  2.32081502  5.03272291 10.31995998\n",
      "  6.31846369  2.31732693  5.04979004 10.31837714  6.31882318  2.31652661\n",
      "  5.05269473 10.31515758  6.31349405  2.31482221  5.04921969 10.31448303\n",
      "  6.31189357  2.3110311   5.06709329 10.31153769  6.31233753  2.31144916\n",
      "  5.07069293 10.30949285  6.30846169  2.30935252  5.06842737 10.30875438\n",
      "  6.30692277  2.306       5.082      10.30752323  6.30807727  2.30566113\n",
      "  5.08592578 10.304       6.30315158  2.30352683  5.08421684 10.30344275\n",
      "  6.30109033  2.30056994  5.09810981 10.30175859  6.30241169  2.29994997\n",
      "  5.10411041 10.29788937  6.2972      2.29839113  5.10255128 10.29714857\n",
      "  6.29531813  2.29457054  5.1156     10.29582251  6.29617771  2.29377627\n",
      "  5.12228777 10.29262926  6.29205841  2.29279504  5.1183355  10.2916625\n",
      "  6.28977102  2.30659537  5.06354177 10.289997    6.29091637  2.28897338\n",
      "  5.1372     10.28708613  6.28588577  2.28691309  5.13394018 10.31595514\n",
      "  6.32474804  2.2836      5.14971497 10.28440092  6.28497098  2.28291317\n",
      "  5.15451545 10.28142814  6.28085617  2.31229758  5.02444988 10.28102482\n",
      "  6.27868361  2.27782778  5.1672     10.27880484  6.28022802  2.27827828\n",
      "  5.172      10.27565513  6.27485497  2.27491752  5.16132894 10.27981145\n",
      "  6.2726818   2.27234553  5.1816     10.27228168  6.28071223  2.28387616\n",
      "  5.18607443 10.27005401  6.26908072  2.26874625  5.15733015 10.28473621\n",
      "  6.26833417  2.26737326  5.19927971 10.266       6.28010315  2.2852535\n",
      "  5.2010005  10.2646794   6.26382638  2.26342634  5.15779054 10.28669563\n",
      "  6.26273137  2.26142614  5.2164     10.2605042   6.28091663  2.28866397\n",
      "  5.21796539 10.25930372  6.25787736  2.25754849  5.15130606 10.29174275\n",
      "  6.25885177  2.2570056   5.23492349 10.25445089  6.28234137  2.31155779\n",
      "  5.15724542 10.25437806  6.25245049  2.25182518  5.1524558  10.3465825\n",
      "  6.32579279  2.25142514  5.24744949 10.24987496  6.28336111  2.29538964\n",
      "  5.25142571 10.24787436  6.24684937  2.24622462  5.14973576 10.29640229\n",
      "  6.24574745  2.2444      5.26838051 10.24337566  6.28493311  2.29900605\n",
      "  5.27130852 10.242       6.24112056  2.24017598  5.27458034 10.24272136\n",
      "  6.24036826  2.23862386  5.28532853 10.25406262  6.26018556  2.23979183\n",
      "  5.28705741 10.23631816  6.2352      2.23537646  5.28105358 10.240401\n",
      "  6.23427028  2.23342334  5.29987001 10.23448276  6.23471736  2.23271636\n",
      "  5.30626125 10.23044609  6.22964593  2.23043869  5.30506101 10.23031516\n",
      "  6.2284914   2.2276      5.31826365 10.22839444  6.2293376   2.22711356\n",
      "  5.322      10.22564513  6.2246674   2.23634558  5.27937179 10.22431216\n",
      "  6.2226668   2.22217778  5.33066773 10.22382238  6.22164381  2.21937806\n",
      "  5.34066593 10.22213344  6.22391196  2.22155509  5.34267134 10.218\n",
      "  6.21693016  2.21577842  5.34665335 10.21857486  6.21590795  2.22191235\n",
      "  5.32998594 10.21364273  6.21498501  2.21577262  5.36068034 10.21182118\n",
      "  6.21124225  2.2109789   5.36157458 10.24533124  6.25152874  2.2090209\n",
      "  5.37413741 10.2084      6.20965324  2.21030515  5.37562538 10.20662066\n",
      "  6.20586176  2.2229703   5.31220989 10.20758683  6.20488195  2.20364073\n",
      "  5.3914783  10.2024      6.20383693  2.20434304  5.3937575  10.2035354\n",
      "  6.20334569  2.1996      5.39904038 10.20084017  6.1991394   2.19778022\n",
      "  5.40708142 10.19738026  6.21420787  2.22271446  5.38959607 10.197138\n",
      "  6.19469735  2.1936      5.41378621 10.19669835  6.19487795  2.19291575\n",
      "  5.41167082 10.21321411  6.21060071  2.19122789  5.42256903 10.19069535\n",
      "  6.18905672  2.18858114  5.37182402 10.21480583  6.19918416  2.21965778\n",
      "  5.36704764 10.18563713  6.18483697  2.18603257  5.43763129 10.18552987\n",
      "  6.18327331  2.18221822  5.40160444 10.23246573  6.21851814  2.18189095\n",
      "  5.4576     10.18007203  6.1792      2.18047367  5.45509102 10.17992595\n",
      "  6.20301864  2.24408666  5.33428601 10.17807535  6.1785071   2.17628814\n",
      "  5.4754951  10.17403481  6.17305192  2.17404336  5.38635692 10.24608947\n",
      "  6.2175023   2.17178282  5.48619448 10.17204516  6.17326931  2.17075368\n",
      "  5.4936     10.16861686  6.2004323   2.24521531  5.35361993 10.16831782\n",
      "  6.16606643  2.1652      5.5044     10.16630022  6.16668334  2.16486595\n",
      "  5.41114058 10.2428045   6.21194763  2.16368542  5.50660264 10.16231362\n",
      "  6.1608      2.16043209  5.52055206 10.16070358  6.19432164  2.24098785\n",
      "  5.37181455 10.15806323  6.15646259  2.15781063  5.5210084  10.15714143\n",
      "  6.15464639  2.154       5.53744626 10.19395244  6.20263777  2.15366146\n",
      "  5.54270854 10.15163033  6.15083017  2.15206314  5.54021609 10.15092074\n",
      "  6.14975507  2.19392637  5.39224933 10.1498801   6.15049029  2.14790353\n",
      "  5.5608     10.14602921  6.14541454  2.14557089  5.55588852 10.1474359\n",
      "  6.14381438  2.14341434  5.5709571  10.14261426  6.15237716  2.15384615\n",
      "  5.574      10.14107054  6.1435273   2.18747554  5.42058372 10.14011209\n",
      "  6.13802761  2.13797241  5.58703481 10.1368      6.13791725  2.13845538\n",
      "  5.57716111 10.14145462  6.13610889  2.13384015  5.59536417 10.13568141\n",
      "  6.13327997  2.13181318  5.60463954 10.13143943  6.13657661  2.13966536\n",
      "  5.60048062 10.12965186  6.12861286  2.1284      5.59298735 10.13766807\n",
      "  6.12965186  2.12748924  5.60071727 10.1369149   6.12863154  2.12611172\n",
      "  5.61832366 10.1251126   6.12282456  2.1224      5.63054778 10.12456263\n",
      "  6.13173891  2.13603125  5.61965898 10.120024    6.11922384  2.12030376\n",
      "  5.6362545  10.11927156  6.11743523  2.1168      5.61981498 10.13501603\n",
      "  6.12466125  2.11585793  5.65616562 10.1144      6.11364546  2.11487364\n",
      "  5.65066026 10.11390251  6.12251392  2.13066132  5.64224051 10.11214393\n",
      "  6.12910263  2.12942958  5.6724     10.10882176  6.10764306  2.10850235\n",
      "  5.63779214 10.12921967  6.1161809   2.1056      5.6832     10.10673596\n",
      "  6.10686412  2.10503151  5.68850655 10.1032      6.11657234  2.12841831\n",
      "  5.65443763 10.10307215  6.10065033  2.09998     5.6988     10.09963986\n",
      "  6.10486443  2.10591775  5.6604448  10.12389735  6.10801569  2.0967613\n",
      "  5.70605879 10.0968775   6.0950095   2.09422827  5.71862814 10.09514291\n",
      "  6.11038316  2.12337272  5.67854985 10.09163665  6.09060906  2.09173578\n",
      "  5.7209721  10.09146402  6.08942683  2.0888      5.68189476 10.12181927\n",
      "  6.10511478  2.08984492  5.73646823 10.08641728  6.086       2.086\n",
      "  5.73970412 10.08587729  6.10259457  2.11925043  5.70120968 10.08356657\n",
      "  6.08420842  2.08246597  5.75587324 10.08123249  6.080016    2.08094334\n",
      "  5.6986627  10.11701062  6.09606458  2.0772      5.76782322 10.07875275\n",
      "  6.07884731  2.07663832  5.77262274 10.07503752  6.09533228  2.11635126\n",
      "  5.71347804 10.07386648  6.07180718  2.07179282  5.78053168 10.07362945\n",
      "  6.07164299  2.070014    5.72309517 10.11606964  6.09460279  2.07124275\n",
      "  5.79231693 10.06743372  6.0660132   2.06618015  5.79496403 10.06845476\n",
      "  6.10060916  2.14041746  5.68234214 10.0640128   6.06437425  2.06481296\n",
      "  5.80970485 10.0620124   6.06121224  2.0608      5.67183387 10.1168991\n",
      "  6.06168636  2.05860586  5.81607589 10.06129808  6.05955236  2.06003602\n",
      "  5.82593037 10.05622811  6.07063492  2.08009636  5.8025286  10.05763458\n",
      "  6.05503853  2.05340534  5.8409841  10.05202081  6.05256321  2.05361072\n",
      "  5.77000593 10.09933907  6.07386421  2.04940494  5.84071856 10.05389162\n",
      "  6.04903432  2.04779522  5.85307346 10.04863404  6.07264114  2.09752678\n",
      "  5.78677736 10.04520904  6.04694836  2.04646505  5.8692     10.04496852\n",
      "  6.0469859   2.04505858  5.79114486 10.09460814  6.06621444  2.04158337\n",
      "  5.86576109 10.04309049  6.03860386  2.0380076   5.87955658 10.04025233\n",
      "  6.11307692  2.14853621  5.80531332 10.0360072   6.03775847  2.03685897\n",
      "  5.85644793 10.04934045  6.03618191  2.03464504  5.81560284 10.09089089\n",
      "  6.06244931  2.03341671  5.89749226 10.03265551  6.0292      2.0290029\n",
      "  5.89885287 10.03447585  6.05968679  2.08756638  5.83201461 10.02640528\n",
      "  6.02994012  2.0892215   5.7270195  10.02561537  6.02637363  2.02583358\n",
      "  5.83241542 10.08714815  6.05441624  2.02261131  5.92749426 10.02363782\n",
      "  6.01960784  2.02077922  5.92567433 10.02284569  6.0519174   2.08584292\n",
      "  5.84436985 10.0179928   6.02787179  2.02694009  5.9519904  10.01520304\n",
      "  6.01678322  2.01761057  5.84902693 10.08293269  6.04658733  2.01259622\n",
      "  5.95385076 10.01601281  6.01677986  2.01443464  5.96166134 10.01262146\n",
      "  6.0459364   2.08248248  5.86137405 10.00880705  6.00978728  2.00941412\n",
      "  5.98020198 10.0069993   6.01018472  2.02308458  5.82870691 10.0797116\n",
      "  6.04035052  2.00379734  5.97603355 10.00661389  6.00160064  2.0008\n",
      "  5.9892151  10.00480384  6.04081633  2.07673044  5.89055335  9.99819982\n",
      "  6.00039952  2.00220066  5.99879928  9.99739766  5.9986021   1.99839744\n",
      "  5.89531464 10.07407407  6.03425775  1.9941971   5.9666997  10.01090028\n",
      "  5.99219922  1.99340462  6.00899011  9.99458755  6.03249804  2.07408891\n",
      "  5.90627871  9.99080552  5.99440671  1.99198075  6.03719256  9.98739622\n",
      "  5.98901209  1.9901951   5.90658964 10.0713141   6.02655771  1.984\n",
      "  6.03954464  9.98799039  5.98559424  1.98620965  6.0372      9.98417309\n",
      "  6.02561846  2.06966967  5.92578964  9.98603631  5.98737601  1.98097527\n",
      "  6.05934659  9.98058641  5.98061357  1.99003984  5.89864467 10.0692554\n",
      "  6.02271565  1.9768      6.06353646  9.99104567  5.98710977  1.97279456\n",
      "  6.07429599  9.97597598  6.02071122  2.06665999  5.94653283  9.96979698\n",
      "  5.9932793   1.99433657  6.08521704  9.99108823  5.98928535  1.96759352\n",
      "  5.95081967 10.06310728  6.01392016  1.99269136  6.01638847  9.9677387\n",
      "  5.96379638  1.96502448  6.09287926  9.99585021  5.99351439  1.96536883\n",
      "  6.11164466  9.96261122  5.96482814  1.99625579  6.02318959  9.95859586\n",
      "  5.96166134  1.9621508   6.11081162  9.96314103  5.95795796  1.95620438\n",
      "  6.11673152  9.96152305  5.95964036  1.99823235  6.00305468  9.95829992\n",
      "  5.9580922   1.95995194  6.12230216 10.00039223  6.00163132  1.95645631\n",
      "  6.14201538  9.95376764  5.95587501  2.00156678  5.99325912  9.95754056\n",
      "  5.95357214  1.95076061  6.13522138  9.95282545  5.94806233  1.94978494\n",
      "  6.13766959  9.95634762  5.95726837  1.95774507  6.14423077  9.94818446\n",
      "  5.95373878  1.95366563  6.13330676  9.95441309  5.95192979  1.95105316\n",
      "  6.14964086  9.95275275  5.9485434   1.94537269  6.14835494  9.94901646\n",
      "  5.96559905  1.96602629  6.15142145  9.95378614  5.95360928  1.95522686\n",
      "  6.12957409  9.96005592  5.95912643  1.95906958  6.06849995  9.97438225\n",
      "  5.96370887  1.96451128  6.10471726  9.97606701  5.98139814  1.97288884\n",
      "  6.08733799  9.98265031  5.99181392  1.99017544  6.02812407  9.98976828\n",
      "  5.98943065  1.9895708   6.04437338  9.98961661  6.          1.99979926\n",
      "  6.12508899  9.96826641  6.00381105  2.00398804  6.10679214  9.96675792\n",
      "  6.0116      1.96520671  6.23319013  9.92067308  5.91676671  1.91620838\n",
      "  6.2508      9.91764941  5.92129445  1.91881327  6.25617438  9.91417425\n",
      "  5.91485109  1.91495748  6.2504994   9.91546474  5.91156463  1.91059106\n",
      "  6.26566717  9.91219122  5.91053738  1.9089909   6.27422742  9.90777233\n",
      "  5.90949955  1.90992794  6.2679053   9.90924572]\n"
     ]
    }
   ],
   "source": [
    "# %% \n",
    "# Block B08. 補間ステップ２．線形補間で内挿。0.010秒間隔のリサンプリング完了工程。\n",
    "lsNpCanResampled = list()\n",
    "ctFeature = 0\n",
    "for ctFeature in list(range(lenNamesFeatureMultiVal)):\n",
    "    print(ctFeature)\n",
    "    pdCanThisFeature2 = lsPdCanThisFeature[ctFeature]\n",
    "    pdCanThisFeature2.head()\n",
    "    funInterpolateLinear = interpolate.interp1d(\n",
    "        pdCanThisFeature2['timeAdj'], pdCanThisFeature2['value'], kind='linear')\n",
    "    outFunINterpolate = funInterpolateLinear(timeSeriesStart2End)\n",
    "    lsNpCanResampled.append(outFunINterpolate)\n",
    "\n",
    "outFunINterpolate = lsNpCanResampled[0]\n",
    "print(outFunINterpolate[:10])\n",
    "print(lsNpCanResampled[1][:10])\n",
    "print(lsNpCanResampled[1][:1000])"
   ]
  },
  {
   "cell_type": "code",
   "execution_count": 30,
   "metadata": {},
   "outputs": [
    {
     "name": "stdout",
     "output_type": "stream",
     "text": [
      "done\n"
     ]
    }
   ],
   "source": [
    "# %% \n",
    "# Block B09. 描画で実感。\n",
    "def plotMoire(ctFeature, gridStart=0, gridEnd=0, gridBy=1, myLinewidth = 1, figW=18, figH=6, \n",
    "                isInterpolate = 1, isVertical = 1):\n",
    "# if 1:\n",
    "    pdCanResampled = lsNpCanResampled[ctFeature]\n",
    "    pdCanThisFeature2 = lsPdCanThisFeature[ctFeature]\n",
    "    plt.figure(num=None, figsize=(figW, figH), dpi=80, facecolor='w', edgecolor='k')\n",
    "\n",
    "    # 生データ\n",
    "    indStart = np.where(pdCanThisFeature2['timeAdj'] >= gridStart)[0][0]\n",
    "    indEnd = np.where(pdCanThisFeature2['timeAdj'] >= gridEnd)[0][0]\n",
    "    timeSeriesStart2End[indStart:indEnd]\n",
    "    pdCanThisFeature2['timeAdj'][indStart:indEnd]\n",
    "    plt.plot(pdCanThisFeature2['timeAdj'][indStart:indEnd], pdCanThisFeature2['value'][indStart:indEnd], \"o\", color = \"blue\", markersize = 5)\n",
    "\n",
    "    # interpolate line\n",
    "    indStart = np.where(timeSeriesStart2End >= gridStart)[0][0]\n",
    "    indEnd = np.where(timeSeriesStart2End >= gridEnd)[0][0] + 1\n",
    "    if isInterpolate == 1:\n",
    "        plt.plot(timeSeriesStart2End[indStart:indEnd],  pdCanResampled[indStart:indEnd], color=\"dodgerblue\", linewidth=myLinewidth)\n",
    "\n",
    "    # grid\n",
    "    if isVertical == 0:\n",
    "        plt.grid()\n",
    "    else:\n",
    "        for xc in timeSeriesStart2End[indStart:indEnd]:\n",
    "            plt.axvline(x=xc, linewidth=0.5, color = \"0.6\") #, linestyle=\":\")\n",
    "    sampFreq\n",
    "print(\"done\")"
   ]
  },
  {
   "cell_type": "code",
   "execution_count": 31,
   "metadata": {},
   "outputs": [
    {
     "data": {
      "image/png": "[encoded data removed]",
      "text/plain": [
       "<Figure size 640x160 with 1 Axes>"
      ]
     },
     "metadata": {},
     "output_type": "display_data"
    },
    {
     "data": {
      "image/png": "[encoded data removed]",
      "text/plain": [
       "<Figure size 640x160 with 1 Axes>"
      ]
     },
     "metadata": {},
     "output_type": "display_data"
    }
   ],
   "source": [
    "# %%\n",
    "# Block B10.\n",
    "# why resampling?\n",
    "plotMoire(ctFeature = 37, gridStart = 159.98, gridEnd = 160.6, gridBy = timeSpan, \n",
    "            myLinewidth = 1, figW = 8, figH = 2, isInterpolate = 0, isVertical = 0)\n",
    "plotMoire(ctFeature = 61, gridStart = 159.98, gridEnd = 160.6, gridBy = timeSpan, \n",
    "            myLinewidth = 1, figW = 8, figH = 2, isInterpolate = 0, isVertical = 0)"
   ]
  },
  {
   "cell_type": "code",
   "execution_count": 32,
   "metadata": {},
   "outputs": [
    {
     "data": {
      "image/png": "[encoded data removed]",
      "text/plain": [
       "<Figure size 640x160 with 1 Axes>"
      ]
     },
     "metadata": {},
     "output_type": "display_data"
    },
    {
     "data": {
      "image/png": "[encoded data removed]",
      "text/plain": [
       "<Figure size 640x160 with 1 Axes>"
      ]
     },
     "metadata": {},
     "output_type": "display_data"
    }
   ],
   "source": [
    "# %%\n",
    "# Block B11.\n",
    "# comparison of sampling rates\n",
    "plotMoire(ctFeature = 37, gridStart = 159.98, gridEnd = 160.6, gridBy = timeSpan, \n",
    "            myLinewidth = 1, figW = 8, figH = 2, isInterpolate = 1)\n",
    "plotMoire(ctFeature = 61, gridStart = 159.98, gridEnd = 160.6, gridBy = timeSpan, \n",
    "            myLinewidth = 1, figW = 8, figH = 2, isInterpolate = 1)"
   ]
  },
  {
   "cell_type": "code",
   "execution_count": 33,
   "metadata": {},
   "outputs": [
    {
     "data": {
      "image/png": "[encoded data removed]",
      "text/plain": [
       "<Figure size 1280x640 with 1 Axes>"
      ]
     },
     "metadata": {},
     "output_type": "display_data"
    }
   ],
   "source": [
    "# %%\n",
    "# Block B12.\n",
    "# 車輪速を見るとサンプリング周波数が100Hzだと不足。1000Hzのほうが良さそう。\n",
    "plotMoire(ctFeature = 37, gridStart = 204, gridEnd = 204.5, gridBy = 0.01, myLinewidth = 1, figW = 16, figH = 8, isInterpolate = 1)"
   ]
  },
  {
   "cell_type": "code",
   "execution_count": 34,
   "metadata": {},
   "outputs": [
    {
     "name": "stdout",
     "output_type": "stream",
     "text": [
      "done\n"
     ]
    }
   ],
   "source": [
    "# %%\n",
    "# Block B13 オブジェクトをピクルスで保存\n",
    "\n",
    "if isSavePickle == 1:\n",
    "    subject2initial.pickleOneObject(nameObj=lsPdCanThisFeature,   strObj=\"lsPdCanThisFeature\", myPathlib = PATH_DATA_PRO_SUB2_PKL)\n",
    "    subject2initial.pickleOneObject(nameObj=lsNpCanResampled,   strObj=\"lsNpCanResampled\", myPathlib = PATH_DATA_PRO_SUB2_PKL)\n",
    "    subject2initial.pickleOneObject(nameObj=timeSeriesStart2End,   strObj=\"timeSeriesStart2End\", myPathlib = PATH_DATA_PRO_SUB2_PKL)\n",
    "    subject2initial.pickleOneObject(nameObj=lsNamesFeatureMultiVal,   strObj=\"lsNamesFeatureMultiVal\", myPathlib = PATH_DATA_PRO_SUB2_PKL)\n",
    "    subject2initial.pickleOneObject(nameObj=lsTsPacf,   strObj=\"lsTsPacf\", myPathlib = PATH_DATA_PRO_SUB2_PKL)\n",
    "    subject2initial.pickleOneObject(nameObj=pdFeatureProfile,   strObj=\"pdFeatureProfile\", myPathlib = PATH_DATA_PRO_SUB2_PKL)\n",
    "    subject2initial.pickleOneObject(nameObj=pdPacfAcrossFeatures,   strObj=\"pdPacfAcrossFeatures\", myPathlib = PATH_DATA_PRO_SUB2_PKL)\n",
    "\n",
    "print(\"done\")\n",
    "\n",
    "\n",
    "\n",
    "#%%"
   ]
  },
  {
   "cell_type": "code",
   "execution_count": null,
   "metadata": {},
   "outputs": [],
   "source": []
  },
  {
   "cell_type": "code",
   "execution_count": null,
   "metadata": {},
   "outputs": [],
   "source": []
  },
  {
   "cell_type": "code",
   "execution_count": null,
   "metadata": {},
   "outputs": [],
   "source": []
  },
  {
   "cell_type": "code",
   "execution_count": null,
   "metadata": {},
   "outputs": [],
   "source": []
  }
 ],
 "metadata": {
  "kernelspec": {
   "display_name": "Python 3",
   "language": "python",
   "name": "python3"
  },
  "language_info": {
   "codemirror_mode": {
    "name": "ipython",
    "version": 3
   },
   "file_extension": ".py",
   "mimetype": "text/x-python",
   "name": "python",
   "nbconvert_exporter": "python",
   "pygments_lexer": "ipython3",
   "version": "3.7.3"
  }
 },
 "nbformat": 4,
 "nbformat_minor": 2
}
