{
 "cells": [
  {
   "cell_type": "markdown",
   "metadata": {},
   "source": [
    "# 生存分析の理論"
   ]
  },
  {
   "cell_type": "markdown",
   "metadata": {},
   "source": [
    "生存分析には色々な関数が出てきて、ともすると混乱しやすい。  \n",
    "ここでは、生存分析を主に理論的な立場から俯瞰する。"
   ]
  },
  {
   "cell_type": "markdown",
   "metadata": {},
   "source": [
    "## 生存分析における各種関数"
   ]
  },
  {
   "cell_type": "markdown",
   "metadata": {},
   "source": [
    "生存分析では、以下の5つの関数が登場する。\n",
    "1. 生存期間$t$の確率密度関数(Probability Density Function): $f(t)$\n",
    "2. $f(t)$の累積分布関数(Cumulative Distribution Function): $F(t)$\n",
    "3. 生存関数: $S(t)$\n",
    "4. ハザード関数: $h(t)$\n",
    "5. 累積ハザード関数: $H(t)$"
   ]
  },
  {
   "cell_type": "markdown",
   "metadata": {},
   "source": [
    "### 確率密度関数 $f(t)$"
   ]
  },
  {
   "cell_type": "markdown",
   "metadata": {},
   "source": [
    "生存期間が$t$である確率密度を示す。確率密度なので、確率ではないのだが、ざっくりイメージを言えば、生存期間が$t$であるような確率のような何かである。実際に確率を計算するには、計算したい範囲(例: 1.5ヶ月~3ヶ月)について、確率密度$f(t)$の積分を行う必要がある。  \n",
    "確率密度なので、1を超えることがある点に注意。  \n",
    "英語だとProbability Density Function。"
   ]
  },
  {
   "cell_type": "markdown",
   "metadata": {},
   "source": [
    "### 累積分布関数 $F(t)$"
   ]
  },
  {
   "cell_type": "markdown",
   "metadata": {},
   "source": [
    "確率密度関数$f(t)$を0から$t$まで積分したもの。これは、0からtまでに死ぬ確率を表している。  \n",
    "数式で書くと、\n",
    "$$F(t) = \\int_0^tf(x)dx$$\n",
    "確率密度関数を0からある値$t$($x$のときもあるが、意味は同じ)まで積分したものが**累積分布関数(Cumulative Distribution Function)**であり、単に**分布関数(Distribution Function)**と呼ばれることもある。"
   ]
  },
  {
   "cell_type": "markdown",
   "metadata": {},
   "source": [
    "上の式から、\n",
    "$$f(t) = \\frac{d}{dt}F(t)$$\n",
    "である。"
   ]
  },
  {
   "cell_type": "markdown",
   "metadata": {},
   "source": [
    "### 生存関数 S(t)"
   ]
  },
  {
   "cell_type": "markdown",
   "metadata": {},
   "source": [
    "1から累積分布関数$F(t)$を引いたもの。これは、0からtまでに死なない確率、すなわち0からtまで生き残る確率を表している。  \n",
    "数式で書くと、\n",
    "$$S(t) = 1 - F(t)$$"
   ]
  },
  {
   "cell_type": "markdown",
   "metadata": {},
   "source": [
    "上の関係から、\n",
    "$$f(t) = - \\frac{d}{dt}S(t)$$\n",
    "が成り立つ。よって、生存関数の傾きは、$-f(t)$に等しい。"
   ]
  },
  {
   "cell_type": "markdown",
   "metadata": {},
   "source": [
    "### ハザード関数 $h(t)$"
   ]
  },
  {
   "cell_type": "markdown",
   "metadata": {},
   "source": [
    "ある瞬間$t$まで生き残ったのち、次の瞬間に死ぬ確率密度。ハザードレートとも呼ばれる。  \n",
    "例えば、90歳の誕生日まで生き残って、次の瞬間に死ぬ確率密度は$h(90)$と書けるだろう。  \n",
    "これは確率密度なので、1を超えることがある点に注意。(では$h(t)$を積分すれば死亡確率になるかというと、ごく短期間の積分であれば近似的にそうなるが、正確にはそうではないのでややこしい...。あくまでハザード関数は「ある瞬間$t$まで生き残ったのち、次の瞬間に死ぬ確率密度」とだけ捉えておくと良い。)  \n",
    "ハザード関数を数式で書くと、\n",
    "$\\begin{eqnarray}\n",
    "h(t) &=& \\lim_{\\delta t \\to 0} \\left\\{\\frac{P(t \\leq T < t + \\delta t | T \\geq t)}{\\delta t} \\right\\} \\\\\n",
    "&=& \\lim_{\\delta t \\to 0} \\left\\{\\frac{P(t \\leq T < t + \\delta t)}{P(T \\geq t)} \\frac{1}{\\delta t} \\right\\}\n",
    "\\end{eqnarray}$"
   ]
  },
  {
   "cell_type": "markdown",
   "metadata": {},
   "source": [
    "つまり、生存期間を$T$として、「$T$が期間$t$よりは長かったが(=$t$以上生き残っていたが)、$t+\\delta t$よりは短い($t+\\delta t$までには死ぬ)確率」$P(t \\leq T < t + \\delta t)$を計算した後、「$t$以上生き残る確率」$P(T \\geq t)$で割って条件付き確率に直し、更に期間$\\delta t$で割って瞬間の確率に直している。"
   ]
  },
  {
   "cell_type": "markdown",
   "metadata": {},
   "source": [
    "ハザード関数は更に次のように変形できる。\n",
    "$\\begin{eqnarray}\n",
    "h(t) &=& \\lim_{\\delta t \\to 0} \\left\\{\\frac{P(t \\leq T < t + \\delta t)}{P(T \\geq t)} \\frac{1}{\\delta t} \\right\\} \\\\\n",
    "&=& \\lim_{\\delta t \\to 0} \\left\\{\\frac{F(t + \\delta t) - F(t)}{S(t)} \\frac{1}{\\delta t} \\right\\} \\\\\n",
    "&=& \\frac{dF(t)}{dt} \\frac{1}{S(t)} \\\\\n",
    "&=& \\frac{f(t)}{S(t)} \n",
    "\\end{eqnarray}$"
   ]
  },
  {
   "cell_type": "markdown",
   "metadata": {},
   "source": [
    "よって、\n",
    "$$S(t)h(t) = f(t)$$\n",
    "\n",
    "これは、「左辺: $t$まで生き残り、その次の瞬間(=$t$)に死ぬ確率」は「右辺: 期間$t$で死ぬ確率」に等しいという、ある意味当たり前のことを言っている式である。"
   ]
  },
  {
   "cell_type": "markdown",
   "metadata": {},
   "source": [
    "また、ハザード関数は次のようにも書ける。\n",
    "$\\begin{eqnarray}\n",
    "h(t) &=& \\frac{dF(t)}{dt} \\frac{1}{S(t)} \\\\\n",
    "&=& \\frac{dF(t)}{dt} \\frac{1}{1-F(t)} \\\\\n",
    "&=& - \\frac{d}{dt} \\ln \\left( 1-F(t) \\right) \\\\\n",
    "&=& - \\frac{d}{dt} \\ln S(t) \n",
    "\\end{eqnarray}$"
   ]
  },
  {
   "cell_type": "markdown",
   "metadata": {},
   "source": [
    "すなわち、ハザード関数は、生存関数$S$の対数を時間$t$に対してプロットしたときの、減少方向の傾き(=減るスピード)である。"
   ]
  },
  {
   "cell_type": "markdown",
   "metadata": {},
   "source": [
    "逆に、$S(t)$については、\n",
    "$\\begin{eqnarray} \n",
    "S(t) &=& \\exp \\left( - \\int_0^t h(x)dx \\right)\\\\\n",
    "&=& \\exp \\left( - H(t)\\right)\n",
    "\\end{eqnarray}$"
   ]
  },
  {
   "cell_type": "markdown",
   "metadata": {},
   "source": [
    "ここで、$H(t)$は下で述べる累積ハザード関数である。"
   ]
  },
  {
   "cell_type": "markdown",
   "metadata": {},
   "source": [
    "### 累積ハザード関数"
   ]
  },
  {
   "cell_type": "markdown",
   "metadata": {},
   "source": [
    "ハザード関数$h(t)$を0から$t$まで積分したもの。これは、0からtまでに死ぬ\n",
    "数式で書くと、\n",
    "$$H(t) = \\int_0^t h(x)dx$$"
   ]
  },
  {
   "cell_type": "markdown",
   "metadata": {},
   "source": [
    "先程の式を代入すると、\n",
    "$\\begin{eqnarray}\n",
    "H(t) &=& \\int_0^t h(x)dx \\\\\n",
    "&=& \\int_0^t - \\frac{d}{dx} \\ln S(x) dx \\\\\n",
    "&=& - \\ln S(t) \n",
    "\\end{eqnarray}\n",
    "$"
   ]
  },
  {
   "cell_type": "markdown",
   "metadata": {},
   "source": [
    "### 各関数の関係"
   ]
  },
  {
   "cell_type": "code",
   "execution_count": 1,
   "metadata": {
    "ExecuteTime": {
     "end_time": "2019-09-11T01:22:59.286950Z",
     "start_time": "2019-09-11T01:22:53.609672Z"
    }
   },
   "outputs": [],
   "source": [
    "%matplotlib inline\n",
    "import matplotlib.pyplot as plt\n",
    "import numpy as np\n",
    "import scipy.stats as st"
   ]
  },
  {
   "cell_type": "code",
   "execution_count": 11,
   "metadata": {
    "ExecuteTime": {
     "end_time": "2019-09-11T01:25:37.968078Z",
     "start_time": "2019-09-11T01:25:37.961588Z"
    }
   },
   "outputs": [
    {
     "name": "stderr",
     "output_type": "stream",
     "text": [
      "/Users/localadmin/anaconda3/envs/suzuki/lib/python3.6/site-packages/ipykernel_launcher.py:4: RuntimeWarning: divide by zero encountered in power\n",
      "  after removing the cwd from sys.path.\n",
      "/Users/localadmin/anaconda3/envs/suzuki/lib/python3.6/site-packages/ipykernel_launcher.py:7: RuntimeWarning: divide by zero encountered in power\n",
      "  import sys\n"
     ]
    }
   ],
   "source": [
    "t = np.linspace(0,30,1000)\n",
    "m = 0.5\n",
    "lam = 10\n",
    "f = m * t**(m-1) / lam**m * np.exp(- (t/lam)**m)\n",
    "F = 1 - np.exp(- (t/lam)**m)\n",
    "S = np.exp(- (t/lam)**m)\n",
    "h = 1 / lam**m * m * t**(m-1)\n",
    "H = (t/lam)**m"
   ]
  },
  {
   "cell_type": "code",
   "execution_count": 12,
   "metadata": {
    "ExecuteTime": {
     "end_time": "2019-09-11T01:25:38.660939Z",
     "start_time": "2019-09-11T01:25:38.389341Z"
    }
   },
   "outputs": [
    {
     "data": {
      "text/plain": [
       "<matplotlib.legend.Legend at 0x1a1fa4d7f0>"
      ]
     },
     "execution_count": 12,
     "metadata": {},
     "output_type": "execute_result"
    },
    {
     "data": {
      "image/png": "[encoded data removed]",
      "text/plain": [
       "<Figure size 432x288 with 1 Axes>"
      ]
     },
     "metadata": {
      "needs_background": "light"
     },
     "output_type": "display_data"
    }
   ],
   "source": [
    "plt.plot(t, f, label=\"$f(t)$: Probability Density Function\")\n",
    "plt.plot(t, F, label=\"$F(t)$: Cumulative Distribution Function\")\n",
    "plt.plot(t, S, label=\"$S(t)$: Survival Function\")\n",
    "plt.plot(t, h, label=\"$h(t)$: Hazard Function\")\n",
    "plt.plot(t, H, label=\"$H(t)$: Cumulative Hazard Function\")\n",
    "plt.legend()"
   ]
  },
  {
   "cell_type": "code",
   "execution_count": 13,
   "metadata": {
    "ExecuteTime": {
     "end_time": "2019-09-11T01:25:38.958134Z",
     "start_time": "2019-09-11T01:25:38.795145Z"
    }
   },
   "outputs": [
    {
     "data": {
      "image/png": "[encoded data removed]",
      "text/plain": [
       "<Figure size 432x288 with 1 Axes>"
      ]
     },
     "metadata": {
      "needs_background": "light"
     },
     "output_type": "display_data"
    }
   ],
   "source": [
    "plt.plot(t, f)\n",
    "plt.title(\"$f(t)$: Probability Density Function of Weibull\");"
   ]
  },
  {
   "cell_type": "code",
   "execution_count": 14,
   "metadata": {
    "ExecuteTime": {
     "end_time": "2019-09-11T01:25:39.310523Z",
     "start_time": "2019-09-11T01:25:39.157069Z"
    }
   },
   "outputs": [
    {
     "data": {
      "image/png": "[encoded data removed]",
      "text/plain": [
       "<Figure size 432x288 with 1 Axes>"
      ]
     },
     "metadata": {
      "needs_background": "light"
     },
     "output_type": "display_data"
    }
   ],
   "source": [
    "plt.plot(t, F)\n",
    "plt.title(\"$F(t)$: Cumlative Distribution Function of Weibull\");"
   ]
  },
  {
   "cell_type": "code",
   "execution_count": 15,
   "metadata": {
    "ExecuteTime": {
     "end_time": "2019-09-11T01:25:39.863858Z",
     "start_time": "2019-09-11T01:25:39.713749Z"
    }
   },
   "outputs": [
    {
     "data": {
      "image/png": "[encoded data removed]",
      "text/plain": [
       "<Figure size 432x288 with 1 Axes>"
      ]
     },
     "metadata": {
      "needs_background": "light"
     },
     "output_type": "display_data"
    }
   ],
   "source": [
    "plt.plot(t, S)\n",
    "plt.title(\"$S(t)$: Survival Function of Weibull\");"
   ]
  },
  {
   "cell_type": "code",
   "execution_count": 16,
   "metadata": {
    "ExecuteTime": {
     "end_time": "2019-09-11T01:25:40.402798Z",
     "start_time": "2019-09-11T01:25:40.208804Z"
    }
   },
   "outputs": [
    {
     "data": {
      "image/png": "[encoded data removed]",
      "text/plain": [
       "<Figure size 432x288 with 1 Axes>"
      ]
     },
     "metadata": {
      "needs_background": "light"
     },
     "output_type": "display_data"
    }
   ],
   "source": [
    "plt.plot(t, h)\n",
    "plt.title(\"$h(t)$: Hazard Function of Weibull\");"
   ]
  },
  {
   "cell_type": "code",
   "execution_count": 17,
   "metadata": {
    "ExecuteTime": {
     "end_time": "2019-09-11T01:25:41.095290Z",
     "start_time": "2019-09-11T01:25:40.922107Z"
    }
   },
   "outputs": [
    {
     "data": {
      "image/png": "[encoded data removed]",
      "text/plain": [
       "<Figure size 432x288 with 1 Axes>"
      ]
     },
     "metadata": {
      "needs_background": "light"
     },
     "output_type": "display_data"
    }
   ],
   "source": [
    "plt.plot(t, H)\n",
    "plt.title(\"$H(t)$: Cumulative Hazard Function of Weibull\");"
   ]
  },
  {
   "cell_type": "markdown",
   "metadata": {},
   "source": [
    "## 各モデルにおける関数"
   ]
  },
  {
   "cell_type": "markdown",
   "metadata": {},
   "source": [
    "### 外生変数なし"
   ]
  },
  {
   "cell_type": "markdown",
   "metadata": {},
   "source": [
    "#### ワイブル分布モデル"
   ]
  },
  {
   "cell_type": "markdown",
   "metadata": {},
   "source": [
    "- 確率密度関数 $$f(t) = m \\frac {t^{m-1}}{\\lambda^{m}} \\exp \\left(-\\frac {t^m}{\\lambda ^m}\\right)$$\n",
    "- 累積分布関数 $$F(t) = 1 - \\exp \\left(-\\frac{t^m}{\\lambda^m} \\right)$$\n",
    "- 生存関数 $$S(t) = \\exp \\left(-\\frac{t^m}{\\lambda^m} \\right)$$\n",
    "- ハザード関数 $$h(t) = \\frac{1}{\\lambda^m}m t^{m-1}$$\n",
    "- 累積ハザード関数 $$ H(t) = \\frac{t^m}{\\lambda^m}$$"
   ]
  },
  {
   "cell_type": "markdown",
   "metadata": {},
   "source": [
    "#### (Optional)指数分布モデル"
   ]
  },
  {
   "cell_type": "markdown",
   "metadata": {},
   "source": [
    "- 確率密度関数 $$f(t) = \\frac {1}{\\lambda} \\exp \\left(-\\frac {t}{\\lambda}\\right)$$\n",
    "- 累積分布関数 $$F(t) = 1 - \\exp \\left(-\\frac{t}{\\lambda} \\right)$$\n",
    "- 生存関数 $$S(t) = \\exp \\left(-\\frac{t}{\\lambda} \\right)$$\n",
    "- ハザード関数 $$h(t) = \\frac{1}{\\lambda}$$\n",
    "- 累積ハザード関数 $$ H(t) = \\frac{t}{\\lambda} $$"
   ]
  },
  {
   "cell_type": "markdown",
   "metadata": {},
   "source": [
    "#### (Optional)カプランマイヤーモデル"
   ]
  },
  {
   "cell_type": "markdown",
   "metadata": {},
   "source": [
    "- 確率密度関数 $$f(t_j) = \\frac {S(t_{j+1}) - S(t_j)}{t_{j+1} - t_{j}}$$\n",
    "- 分布関数 $$F(t_j) = 1 - \\prod_{i=1}^{j} \\frac{n_i - d_i}{n_i}$$\n",
    "- 生存関数 $$S(t_j) = \\prod_{i=1}^{j} \\frac{n_i - d_i}{n_i}$$\n",
    "- ハザード関数 $$h(t_j) = - \\frac{1}{\\tau_j} \\ln \\frac{n_j - d_j}{n_j}$$\n",
    "- 累積ハザード関数 $$ H(t_j) = - \\sum_{i=1}^{j} \\ln \\left( \\frac{n_i - d_i}{n_i} \\right) $$\n",
    "\n",
    "ただし、$n_i$は時点$t_i$に死ぬ可能性のあったサンプル数、$d_i$は時点$t_i$に死んだサンプル数、$\\tau_j$は$t_j$から$t_{j+1}$の長さ(区間の長さ)である。  "
   ]
  },
  {
   "cell_type": "markdown",
   "metadata": {},
   "source": [
    "#### (Optional)アーレンネルソンモデル"
   ]
  },
  {
   "cell_type": "markdown",
   "metadata": {},
   "source": [
    "- 確率密度関数 $$f(t_j) = \\frac {S(t_{j+1}) - S(t_j)}{t_{j+1} - t_{j}}$$\n",
    "- 分布関数 $$F(t_j) = 1 - \\prod_{i=1}^{j} \\exp \\left( - \\frac{d_i}{n_i} \\right)$$\n",
    "- 生存関数 $$S(t_j) = \\prod_{i=1}^{j} \\exp \\left( - \\frac{d_i}{n_i} \\right)$$\n",
    "- ハザード関数 $$h(t_j) = \\frac{d_j}{n_j \\tau_j}$$\n",
    "- 累積ハザード関数 $$ H(t_j) = \\sum_{i=1}^{j} \\frac{d_i}{n_i} $$\n",
    "\n",
    "ただし、$n_i$は時点$t_i$に死ぬ可能性のあったサンプル数、$d_i$は時点$t_i$に死んだサンプル数、$\\tau_j$は$t_j$から$t_{j+1}$の長さ(区間の長さ)である。  "
   ]
  },
  {
   "cell_type": "markdown",
   "metadata": {},
   "source": [
    "### 外生変数あり"
   ]
  },
  {
   "cell_type": "markdown",
   "metadata": {},
   "source": [
    "#### 比例ハザードモデル"
   ]
  },
  {
   "cell_type": "markdown",
   "metadata": {},
   "source": [
    "外生変数を組み入れる際に取られる方針は、  \n",
    "「ある外生変数(連続値)の大小やある外生変数(カテゴリ)に応じて、ハザード関数$h(t)$が大きくなったり小さくなったりする」  \n",
    "というものである。\n",
    "さらに踏み込んで、次のような式を仮定する事が多い。\n",
    "$$h_i(t) = h_0(t) \\cdot C(X) $$\n",
    "すなわち、元となる$h_0(t)$が存在し、各種外生変数$X$によって、ハザード関数の掛け目$C(X)$が定まる、という仮定である。  \n",
    "このような仮定を**比例ハザード性**と呼び、このような仮定を置くモデルを**比例ハザードモデル**と呼ぶ。"
   ]
  },
  {
   "cell_type": "markdown",
   "metadata": {},
   "source": [
    "ちなみに、元となる$h_0(t)$は**ベースラインハザード関数**、掛け目である$C(X)$は**ハザード比**と呼ばれる。"
   ]
  },
  {
   "cell_type": "markdown",
   "metadata": {},
   "source": [
    "##### Cox比例ハザードモデル"
   ]
  },
  {
   "cell_type": "markdown",
   "metadata": {},
   "source": [
    "ベースラインハザード関数$h_0(t)$をノンパラメトリックな関数として推定し、ハザード比が次の式で表せるという仮定を置くモデルである。\n",
    "$$C(X) = \\exp(a_0 + a_1x_1 + a_2x_2 + ... + a_px_p)$$\n",
    "ベースラインハザード関数はノンパラメトリック、ハザード比はパラメトリックなので、**セミパラメトリックモデル**に分類される。  \n",
    "ハザード比は0以上である必要があるが、指数関数$\\exp$を使用することで、その条件をクリアしている。"
   ]
  },
  {
   "cell_type": "markdown",
   "metadata": {},
   "source": [
    "パラメータ推定では、まず$a_0, a_1, a_2, ..., a_p$の係数を算出し、次にベースラインハザード関数$h_0(t)$をカプランマイヤーまたはアーレンネルソン法で求める手順となる。"
   ]
  },
  {
   "cell_type": "markdown",
   "metadata": {},
   "source": [
    "**ワイブル分布比例も**"
   ]
  },
  {
   "cell_type": "markdown",
   "metadata": {},
   "source": [
    "#### 加速モデル"
   ]
  },
  {
   "cell_type": "markdown",
   "metadata": {},
   "source": [
    "##### ワイブル比例ハザードモデル"
   ]
  },
  {
   "cell_type": "code",
   "execution_count": null,
   "metadata": {},
   "outputs": [],
   "source": []
  }
 ],
 "metadata": {
  "kernelspec": {
   "display_name": "Python [conda env:suzuki] *",
   "language": "python",
   "name": "conda-env-suzuki-py"
  },
  "language_info": {
   "codemirror_mode": {
    "name": "ipython",
    "version": 3
   },
   "file_extension": ".py",
   "mimetype": "text/x-python",
   "name": "python",
   "nbconvert_exporter": "python",
   "pygments_lexer": "ipython3",
   "version": "3.6.8"
  },
  "latex_envs": {
   "LaTeX_envs_menu_present": true,
   "autoclose": false,
   "autocomplete": true,
   "bibliofile": "biblio.bib",
   "cite_by": "apalike",
   "current_citInitial": 1,
   "eqLabelWithNumbers": true,
   "eqNumInitial": 1,
   "hotkeys": {
    "equation": "Ctrl-E",
    "itemize": "Ctrl-I"
   },
   "labels_anchors": false,
   "latex_user_defs": false,
   "report_style_numbering": false,
   "user_envs_cfg": false
  },
  "nbTranslate": {
   "displayLangs": [
    "*"
   ],
   "hotkey": "alt-t",
   "langInMainMenu": true,
   "sourceLang": "en",
   "targetLang": "fr",
   "useGoogleTranslate": true
  },
  "toc": {
   "base_numbering": 1,
   "nav_menu": {},
   "number_sections": true,
   "sideBar": true,
   "skip_h1_title": false,
   "title_cell": "Table of Contents",
   "title_sidebar": "Contents",
   "toc_cell": false,
   "toc_position": {},
   "toc_section_display": true,
   "toc_window_display": true
  }
 },
 "nbformat": 4,
 "nbformat_minor": 2
}
