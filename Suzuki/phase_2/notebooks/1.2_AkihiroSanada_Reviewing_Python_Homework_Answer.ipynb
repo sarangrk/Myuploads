{
 "cells": [
  {
   "cell_type": "markdown",
   "metadata": {},
   "source": [
    "# 第1回スキルトランスファー(眞田実施分)の問題回答例"
   ]
  },
  {
   "cell_type": "markdown",
   "metadata": {},
   "source": [
    "## 環境設定"
   ]
  },
  {
   "cell_type": "markdown",
   "metadata": {},
   "source": [
    "練習\n",
    "\n",
    "1.上記のマークダウンのセルの内容を眺める。一部を変更してみる。  \n",
    "2.pythonで簡単な計算をしてみる。1 + 2など  \n",
    "3.上記のコマンドを試してみる  "
   ]
  },
  {
   "cell_type": "markdown",
   "metadata": {},
   "source": [
    "=> 回答略"
   ]
  },
  {
   "cell_type": "markdown",
   "metadata": {},
   "source": [
    "## 関数"
   ]
  },
  {
   "cell_type": "markdown",
   "metadata": {},
   "source": [
    "練習問題1 : 1~nまでの和を求める関数, sum_to_n(n)をつくってみましょう  \n",
    "練習問題2 : n個のフィボナッチ数列fb(n)をリストとして返す関数fib(n)をつくってみましょう"
   ]
  },
  {
   "cell_type": "code",
   "execution_count": 1,
   "metadata": {
    "ExecuteTime": {
     "end_time": "2019-06-13T12:24:36.990633Z",
     "start_time": "2019-06-13T12:24:36.988161Z"
    }
   },
   "outputs": [],
   "source": [
    "# 練習問題1\n",
    "def sum_to_n(n):\n",
    "    return sum(range(1,n+1)) # sum([1,2,3,...,n])"
   ]
  },
  {
   "cell_type": "code",
   "execution_count": 2,
   "metadata": {
    "ExecuteTime": {
     "end_time": "2019-06-13T12:24:37.019756Z",
     "start_time": "2019-06-13T12:24:37.009522Z"
    }
   },
   "outputs": [
    {
     "data": {
      "text/plain": [
       "55"
      ]
     },
     "execution_count": 2,
     "metadata": {},
     "output_type": "execute_result"
    }
   ],
   "source": [
    "sum_to_n(10)"
   ]
  },
  {
   "cell_type": "code",
   "execution_count": 3,
   "metadata": {
    "ExecuteTime": {
     "end_time": "2019-06-13T12:24:37.057153Z",
     "start_time": "2019-06-13T12:24:37.050745Z"
    }
   },
   "outputs": [],
   "source": [
    "# 練習問題2\n",
    "def fib(n):\n",
    "    fib_list = [1] * n # 長さnの空のリストを作成。中身は一旦すべて1でいれておく\n",
    "    \n",
    "    for i in range(n):\n",
    "        if i == 0:\n",
    "            fib_list[i] = 0\n",
    "        elif i == 1:\n",
    "            fib_list[i] = 1\n",
    "        else:\n",
    "            fib_list[i] = sum(fib_list[i-2:i])\n",
    "    return fib_list"
   ]
  },
  {
   "cell_type": "code",
   "execution_count": 4,
   "metadata": {
    "ExecuteTime": {
     "end_time": "2019-06-13T12:24:37.096767Z",
     "start_time": "2019-06-13T12:24:37.091325Z"
    }
   },
   "outputs": [
    {
     "data": {
      "text/plain": [
       "[0, 1, 1, 2, 3, 5, 8, 13, 21, 34, 55]"
      ]
     },
     "execution_count": 4,
     "metadata": {},
     "output_type": "execute_result"
    }
   ],
   "source": [
    "fib(11)"
   ]
  },
  {
   "cell_type": "markdown",
   "metadata": {},
   "source": [
    "※フィボナッチの定義は[こちら](https://ja.wikipedia.org/wiki/フィボナッチ数)を参照"
   ]
  },
  {
   "cell_type": "markdown",
   "metadata": {},
   "source": [
    "## ラムダ式"
   ]
  },
  {
   "cell_type": "markdown",
   "metadata": {},
   "source": [
    "練習問題 ラムダ式を用いて、文字列リストxと文字列リストyをつなぐ関数make_joined_listをつくってみましょう"
   ]
  },
  {
   "cell_type": "code",
   "execution_count": 5,
   "metadata": {
    "ExecuteTime": {
     "end_time": "2019-06-13T12:24:37.197018Z",
     "start_time": "2019-06-13T12:24:37.192817Z"
    }
   },
   "outputs": [],
   "source": [
    "make_joined_list = lambda x, y: [\"_\".join([str(x_val), str(y_val)]) for x_val, y_val in zip(x,y)]"
   ]
  },
  {
   "cell_type": "code",
   "execution_count": 6,
   "metadata": {
    "ExecuteTime": {
     "end_time": "2019-06-13T12:24:37.218865Z",
     "start_time": "2019-06-13T12:24:37.214356Z"
    }
   },
   "outputs": [
    {
     "data": {
      "text/plain": [
       "['1_Mon', '2_Tue', '3_Wed']"
      ]
     },
     "execution_count": 6,
     "metadata": {},
     "output_type": "execute_result"
    }
   ],
   "source": [
    "make_joined_list([1,2,3],[\"Mon\",\"Tue\",\"Wed\"])"
   ]
  },
  {
   "cell_type": "markdown",
   "metadata": {},
   "source": [
    "すみません、これは練習問題の問題文が曖昧でした。このように、1行で書ける関数であればラムダ式で書けてしまうことを覚えていて下さい。"
   ]
  },
  {
   "cell_type": "markdown",
   "metadata": {},
   "source": [
    "## クラス"
   ]
  },
  {
   "cell_type": "markdown",
   "metadata": {},
   "source": [
    "練習問題: 標準化を行うクラス、StandardScalerを作ってみましょう\n",
    "```\n",
    ">>> a = [1,0.5,2,4,5, -1]\n",
    ">>> b = [-2, 0.1, 0.5, 1.5, -4, 6] \n",
    ">>> sc = Standard_Scaler()\n",
    ">>> sc.fit(a)\n",
    ">>> sc.transform(b)\n",
    "[-1.9108217262270932,\n",
    " -0.8862960347180986,\n",
    " -0.6911482839544806,\n",
    " -0.20327890704543547,\n",
    " -2.8865604800451834,\n",
    " 1.9921332890452672]\n",
    "```"
   ]
  },
  {
   "cell_type": "code",
   "execution_count": 7,
   "metadata": {
    "ExecuteTime": {
     "end_time": "2019-06-13T12:24:37.323446Z",
     "start_time": "2019-06-13T12:24:37.319566Z"
    }
   },
   "outputs": [],
   "source": [
    "class Standard_Scaler:\n",
    "    def fit(self, array):\n",
    "        import statistics\n",
    "        self.mean = statistics.mean(array)\n",
    "        self.sd = statistics.pstdev(array)\n",
    "        \n",
    "        # chain記法(sc.fit(array).tranform(array))で書けるように、インスタンスを返すように設定しておく。\n",
    "        return self \n",
    "    \n",
    "    def transform(self, array):\n",
    "        return [(x - self.mean)/self.sd for x in array]"
   ]
  },
  {
   "cell_type": "code",
   "execution_count": 8,
   "metadata": {
    "ExecuteTime": {
     "end_time": "2019-06-13T12:24:37.352348Z",
     "start_time": "2019-06-13T12:24:37.341948Z"
    }
   },
   "outputs": [
    {
     "data": {
      "text/plain": [
       "[-1.910821726227093,\n",
       " -0.8862960347180984,\n",
       " -0.6911482839544804,\n",
       " -0.20327890704543544,\n",
       " -2.886560480045183,\n",
       " 1.9921332890452668]"
      ]
     },
     "execution_count": 8,
     "metadata": {},
     "output_type": "execute_result"
    }
   ],
   "source": [
    "a = [1, 0.5, 2, 4, 5, -1]\n",
    "b = [-2, 0.1, 0.5, 1.5, -4, 6] \n",
    "sc = Standard_Scaler()\n",
    "sc.fit(a)\n",
    "sc.transform(b)"
   ]
  },
  {
   "cell_type": "markdown",
   "metadata": {},
   "source": [
    "pythonの標準ライブラリ(デフォルトでついてくるライブラリ)はstatisticsの他に、mathなどもあります(平方根や三角関数が使える)。  \n",
    "殆どの場合numpyを使ってしまうので、あまり出番はありませんが・・・。"
   ]
  },
  {
   "cell_type": "markdown",
   "metadata": {
    "ExecuteTime": {
     "end_time": "2019-06-13T11:42:33.478233Z",
     "start_time": "2019-06-13T11:42:33.471360Z"
    }
   },
   "source": [
    "練習問題2: StandardScalerを継承して、fit_transformメソッドを持つクラスStandard_Scaler2を作ってみましょう\n",
    "\n",
    "```\n",
    ">>> a = [1,0.5,2,4,5, -1]\n",
    ">>> b = [-2, 0.1, 0.5, 1.5, -4, 6] \n",
    ">>> sc = Standard_Scaler2()\n",
    ">>> sc.fit_transform(a)\n",
    "[-0.44721359549995804,\n",
    " -0.6911482839544806,\n",
    " 0.04065578140908705,\n",
    " 1.016394535227177,\n",
    " 1.5042639121362222,\n",
    " -1.4229523493180483]\n",
    "```"
   ]
  },
  {
   "cell_type": "code",
   "execution_count": 9,
   "metadata": {
    "ExecuteTime": {
     "end_time": "2019-06-13T12:24:37.408430Z",
     "start_time": "2019-06-13T12:24:37.405569Z"
    }
   },
   "outputs": [],
   "source": [
    "class Standard_Scaler2(Standard_Scaler):\n",
    "    def fit_transform(self, array):\n",
    "        return self.fit(array).transform(array)"
   ]
  },
  {
   "cell_type": "code",
   "execution_count": 10,
   "metadata": {
    "ExecuteTime": {
     "end_time": "2019-06-13T12:24:37.432782Z",
     "start_time": "2019-06-13T12:24:37.429116Z"
    }
   },
   "outputs": [
    {
     "data": {
      "text/plain": [
       "[-0.4472135954999579,\n",
       " -0.6911482839544804,\n",
       " 0.040655781409087044,\n",
       " 1.0163945352271768,\n",
       " 1.5042639121362218,\n",
       " -1.422952349318048]"
      ]
     },
     "execution_count": 10,
     "metadata": {},
     "output_type": "execute_result"
    }
   ],
   "source": [
    "sc = Standard_Scaler2()\n",
    "sc.fit_transform(a)"
   ]
  },
  {
   "cell_type": "markdown",
   "metadata": {},
   "source": [
    "Standard_Scaler2でインスタンスを返すようにしておくことで、chain記法ですっきり書ける。"
   ]
  },
  {
   "cell_type": "markdown",
   "metadata": {},
   "source": [
    "ちなみに、selfはインスタンスを表す変数名として良く用いられているが、selfでなくても良い。"
   ]
  },
  {
   "cell_type": "code",
   "execution_count": 11,
   "metadata": {
    "ExecuteTime": {
     "end_time": "2019-06-13T12:24:37.498661Z",
     "start_time": "2019-06-13T12:24:37.495765Z"
    }
   },
   "outputs": [],
   "source": [
    "# 変数名をselfからsanadaに変更した\n",
    "\n",
    "class Standard_Scaler_sanada(Standard_Scaler):\n",
    "    def fit_transform(sanada, array):\n",
    "        return sanada.fit(array).transform(array)"
   ]
  },
  {
   "cell_type": "code",
   "execution_count": 12,
   "metadata": {
    "ExecuteTime": {
     "end_time": "2019-06-13T12:24:37.526660Z",
     "start_time": "2019-06-13T12:24:37.521641Z"
    }
   },
   "outputs": [
    {
     "data": {
      "text/plain": [
       "[-0.4472135954999579,\n",
       " -0.6911482839544804,\n",
       " 0.040655781409087044,\n",
       " 1.0163945352271768,\n",
       " 1.5042639121362218,\n",
       " -1.422952349318048]"
      ]
     },
     "execution_count": 12,
     "metadata": {},
     "output_type": "execute_result"
    }
   ],
   "source": [
    "sc = Standard_Scaler_sanada()\n",
    "sc.fit_transform(a)"
   ]
  },
  {
   "cell_type": "markdown",
   "metadata": {},
   "source": [
    "つまるところ、クラスのメソッドと関数の違いは、第一変数としてインスタンスを取るか否かである。  \n",
    "なので、クラスを定義するときには、そのように書いてあげる必要がある(上記の`fit_transform(sanada, array)`のように)。  \n",
    "インスタンスからメソッドを呼び出すときには自動的に第一変数に自分自身が入力されるのであまり意識しないが、  \n",
    "クラスからメソッドを呼び出すときは当然自動的にインスタンスは代入されないので、明示的に入力してあげる必要がある。"
   ]
  },
  {
   "cell_type": "code",
   "execution_count": 13,
   "metadata": {
    "ExecuteTime": {
     "end_time": "2019-06-13T12:24:37.569616Z",
     "start_time": "2019-06-13T12:24:37.565776Z"
    }
   },
   "outputs": [
    {
     "data": {
      "text/plain": [
       "[-0.4472135954999579,\n",
       " -0.6911482839544804,\n",
       " 0.040655781409087044,\n",
       " 1.0163945352271768,\n",
       " 1.5042639121362218,\n",
       " -1.422952349318048]"
      ]
     },
     "execution_count": 13,
     "metadata": {},
     "output_type": "execute_result"
    }
   ],
   "source": [
    "sc = Standard_Scaler_sanada()\n",
    "Standard_Scaler_sanada.fit_transform(sc, a) # クラスからメソッドを呼ぶときは、第一変数にインスタンスを入力する必要がある。"
   ]
  },
  {
   "cell_type": "markdown",
   "metadata": {},
   "source": [
    "自動的に第一変数に代入されるため、インスタンスを第一変数にせずにメソッドを定義すると、インスタンスからメソッドを呼ぶときにエラーとなってしまう。(クラスから呼ぶときは、引数の順番に気をつければエラーにはならない。)"
   ]
  },
  {
   "cell_type": "code",
   "execution_count": 14,
   "metadata": {
    "ExecuteTime": {
     "end_time": "2019-06-13T12:24:37.617143Z",
     "start_time": "2019-06-13T12:24:37.613296Z"
    }
   },
   "outputs": [],
   "source": [
    "class Standard_Scaler_sanada_2(Standard_Scaler):\n",
    "    def fit_transform(array, sanada): # インスタンスと他の引数の順番を変えた\n",
    "        return sanada.fit(array).transform(array)"
   ]
  },
  {
   "cell_type": "code",
   "execution_count": 15,
   "metadata": {
    "ExecuteTime": {
     "end_time": "2019-06-13T12:24:37.640280Z",
     "start_time": "2019-06-13T12:24:37.636187Z"
    }
   },
   "outputs": [
    {
     "data": {
      "text/plain": [
       "[-0.4472135954999579,\n",
       " -0.6911482839544804,\n",
       " 0.040655781409087044,\n",
       " 1.0163945352271768,\n",
       " 1.5042639121362218,\n",
       " -1.422952349318048]"
      ]
     },
     "execution_count": 15,
     "metadata": {},
     "output_type": "execute_result"
    }
   ],
   "source": [
    "sc = Standard_Scaler_sanada_2()\n",
    "Standard_Scaler_sanada_2.fit_transform(a, sc)"
   ]
  },
  {
   "cell_type": "code",
   "execution_count": 16,
   "metadata": {
    "ExecuteTime": {
     "end_time": "2019-06-13T12:24:37.764944Z",
     "start_time": "2019-06-13T12:24:37.658805Z"
    }
   },
   "outputs": [
    {
     "ename": "AttributeError",
     "evalue": "'list' object has no attribute 'fit'",
     "output_type": "error",
     "traceback": [
      "\u001b[0;31m---------------------------------------------------------------------------\u001b[0m",
      "\u001b[0;31mAttributeError\u001b[0m                            Traceback (most recent call last)",
      "\u001b[0;32m<ipython-input-16-94cdd7c38646>\u001b[0m in \u001b[0;36m<module>\u001b[0;34m\u001b[0m\n\u001b[0;32m----> 1\u001b[0;31m \u001b[0msc\u001b[0m\u001b[0;34m.\u001b[0m\u001b[0mfit_transform\u001b[0m\u001b[0;34m(\u001b[0m\u001b[0ma\u001b[0m\u001b[0;34m)\u001b[0m \u001b[0;31m#\u001b[0m\u001b[0;34m\u001b[0m\u001b[0;34m\u001b[0m\u001b[0m\n\u001b[0m",
      "\u001b[0;32m<ipython-input-14-ed2bd2433661>\u001b[0m in \u001b[0;36mfit_transform\u001b[0;34m(array, sanada)\u001b[0m\n\u001b[1;32m      1\u001b[0m \u001b[0;32mclass\u001b[0m \u001b[0mStandard_Scaler_sanada_2\u001b[0m\u001b[0;34m(\u001b[0m\u001b[0mStandard_Scaler\u001b[0m\u001b[0;34m)\u001b[0m\u001b[0;34m:\u001b[0m\u001b[0;34m\u001b[0m\u001b[0;34m\u001b[0m\u001b[0m\n\u001b[1;32m      2\u001b[0m     \u001b[0;32mdef\u001b[0m \u001b[0mfit_transform\u001b[0m\u001b[0;34m(\u001b[0m\u001b[0marray\u001b[0m\u001b[0;34m,\u001b[0m \u001b[0msanada\u001b[0m\u001b[0;34m)\u001b[0m\u001b[0;34m:\u001b[0m \u001b[0;31m# インスタンスと他の引数の順番を変えた\u001b[0m\u001b[0;34m\u001b[0m\u001b[0;34m\u001b[0m\u001b[0m\n\u001b[0;32m----> 3\u001b[0;31m         \u001b[0;32mreturn\u001b[0m \u001b[0msanada\u001b[0m\u001b[0;34m.\u001b[0m\u001b[0mfit\u001b[0m\u001b[0;34m(\u001b[0m\u001b[0marray\u001b[0m\u001b[0;34m)\u001b[0m\u001b[0;34m.\u001b[0m\u001b[0mtransform\u001b[0m\u001b[0;34m(\u001b[0m\u001b[0marray\u001b[0m\u001b[0;34m)\u001b[0m\u001b[0;34m\u001b[0m\u001b[0;34m\u001b[0m\u001b[0m\n\u001b[0m",
      "\u001b[0;31mAttributeError\u001b[0m: 'list' object has no attribute 'fit'"
     ]
    }
   ],
   "source": [
    "sc.fit_transform(a) # "
   ]
  },
  {
   "cell_type": "markdown",
   "metadata": {},
   "source": [
    "しかしながら、self以外の変数名を使ったり、第一変数以外にインスタンスを入力するようなメソッドを書くと混乱を招くため、してはいけない。"
   ]
  }
 ],
 "metadata": {
  "kernelspec": {
   "display_name": "Python [conda env:suzuki] *",
   "language": "python",
   "name": "conda-env-suzuki-py"
  },
  "language_info": {
   "codemirror_mode": {
    "name": "ipython",
    "version": 3
   },
   "file_extension": ".py",
   "mimetype": "text/x-python",
   "name": "python",
   "nbconvert_exporter": "python",
   "pygments_lexer": "ipython3",
   "version": "3.6.8"
  },
  "latex_envs": {
   "LaTeX_envs_menu_present": true,
   "autoclose": false,
   "autocomplete": true,
   "bibliofile": "biblio.bib",
   "cite_by": "apalike",
   "current_citInitial": 1,
   "eqLabelWithNumbers": true,
   "eqNumInitial": 1,
   "hotkeys": {
    "equation": "Ctrl-E",
    "itemize": "Ctrl-I"
   },
   "labels_anchors": false,
   "latex_user_defs": false,
   "report_style_numbering": false,
   "user_envs_cfg": false
  },
  "nbTranslate": {
   "displayLangs": [
    "*"
   ],
   "hotkey": "alt-t",
   "langInMainMenu": true,
   "sourceLang": "en",
   "targetLang": "fr",
   "useGoogleTranslate": true
  },
  "toc": {
   "base_numbering": 1,
   "nav_menu": {},
   "number_sections": true,
   "sideBar": true,
   "skip_h1_title": false,
   "title_cell": "Table of Contents",
   "title_sidebar": "Contents",
   "toc_cell": false,
   "toc_position": {},
   "toc_section_display": true,
   "toc_window_display": false
  }
 },
 "nbformat": 4,
 "nbformat_minor": 2
}
