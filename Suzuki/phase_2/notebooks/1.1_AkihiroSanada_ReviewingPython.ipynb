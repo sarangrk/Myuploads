{
 "cells": [
  {
   "cell_type": "markdown",
   "metadata": {},
   "source": [
    "# 環境構築"
   ]
  },
  {
   "cell_type": "markdown",
   "metadata": {},
   "source": [
    "## Anaconda"
   ]
  },
  {
   "cell_type": "markdown",
   "metadata": {},
   "source": [
    "### 導入"
   ]
  },
  {
   "cell_type": "markdown",
   "metadata": {},
   "source": [
    "AnacondaでPythonを導入するのが簡単。\n",
    "- [Macにインストール](https://weblabo.oscasierra.net/python-anaconda-install-macos/)\n",
    "- [Linuxにインストール](https://www.digitalocean.com/community/tutorials/how-to-install-the-anaconda-python-distribution-on-ubuntu-16-04)\n",
    "\n",
    "anacondaがインストールできたら、以下が動作するか確認  \n",
    "```sh\n",
    "conda --version```  \n",
    "動作しない場合は、`~/.bash_profile`にAnacondaへのPATHが追加されているか確認。例えば以下のように記述する。  \n",
    "```sh\n",
    "export PATH=\"/Users/localadmin/anaconda3/bin:$PATH\"```\n",
    "\n"
   ]
  },
  {
   "cell_type": "markdown",
   "metadata": {},
   "source": [
    "### 仮想環境"
   ]
  },
  {
   "cell_type": "markdown",
   "metadata": {},
   "source": [
    "次に、仮想環境を構築する。いくつかのプロジェクトに参加する場合、プロジェクト毎に仮想環境を分けておくと良い。\n",
    "- 例えばpandasなどは、versionによって動いたり動かなったりする構文がある。  \n",
    "\n",
    "仮想環境の構築方法は以下の通り。  \n",
    "```sh\n",
    "conda env create --name <仮想環境の名前>```  \n",
    "\n",
    "ファイルから仮想環境を作成するときは、`--file`オプションを用いる  \n",
    "```sh\n",
    "conda env create --name <仮想環境の名前> --file <ファイルパス>```  \n",
    "\n",
    "pythonのversionを指定したい場合や、作成時から入れたいlibraryを指定する場合は以下。  \n",
    "```sh\n",
    "conda env create --name <仮想環境の名前> python=3.7 flask bokeh seaborn```  \n",
    "\n",
    "環境をつくったら、以下でその環境に入れる。  \n",
    "```sh\n",
    "conda activate <仮想環境の名前>```\n",
    "\n",
    "環境から抜けるときは、  \n",
    "```sh\n",
    "conda deactivate```\n",
    "\n",
    "環境一覧を見たいときは  \n",
    "```sh\n",
    "conda env list```\n",
    "\n",
    "詳細は[こちら](https://docs.conda.io/projects/conda/en/latest/user-guide/tasks/manage-environments.html)を参照"
   ]
  },
  {
   "cell_type": "markdown",
   "metadata": {},
   "source": [
    "### ライブラリ"
   ]
  },
  {
   "cell_type": "markdown",
   "metadata": {},
   "source": [
    "ライブラリをインストールしたいときは  \n",
    "```sh\n",
    "conda install <ライブラリ名>```  \n",
    "\n",
    "versionも指定したいときは、例えば、  \n",
    "```sh\n",
    "conda install pandas=0.24.1```\n",
    "\n",
    "アンインストールしたいときは  \n",
    "```sh\n",
    "conda uninstall <ライブラリ名>```"
   ]
  },
  {
   "cell_type": "markdown",
   "metadata": {},
   "source": [
    "### 仮想環境の書き出し"
   ]
  },
  {
   "cell_type": "markdown",
   "metadata": {},
   "source": [
    "```sh\n",
    "conda env export > <吐き出したいファイル名>```  \n",
    "\n",
    "これで吐き出しておけば、以下のようにして同じ環境を作れる  \n",
    "```sh\n",
    "conda env create --name <仮想環境名> --file <吐き出したファイルのパス>```"
   ]
  },
  {
   "cell_type": "markdown",
   "metadata": {},
   "source": [
    " ### その他"
   ]
  },
  {
   "cell_type": "markdown",
   "metadata": {},
   "source": [
    "`~/.bash_profile`に以下を追加しておくと、\"environment.yaml\"というファイルのあるフォルダに入ったときに、自動でその仮想環境に切り替えてくれるので楽である。  \n",
    "\n",
    "```sh\n",
    "# Auto activate conda environments\n",
    "function conda_auto_env() {\n",
    "  if [ -e \"environment.yaml\" ]; then\n",
    "    ENV_NAME=$(head -n 1 environment.yaml | cut -f2 -d ' ')\n",
    "    # Check if you are already in the environment\n",
    "    if [[ $CONDA_PREFIX != *$ENV_NAME* ]]; then\n",
    "      # Try to activate environment\n",
    "      source activate $ENV_NAME &>/dev/null\n",
    "    fi\n",
    "  fi\n",
    "}\n",
    "\n",
    "export PROMPT_COMMAND=\"conda_auto_env;$PROMPT_COMMAND\"\n",
    "```"
   ]
  },
  {
   "cell_type": "markdown",
   "metadata": {},
   "source": [
    "## Jupyter Notebook"
   ]
  },
  {
   "cell_type": "markdown",
   "metadata": {},
   "source": [
    "### 基本動作"
   ]
  },
  {
   "cell_type": "markdown",
   "metadata": {},
   "source": [
    "分析は(少なくとも眞田実施分については、)基本的にJupyter notebookで実施する。  \n",
    "Jupyter Notebookは以下で起動できる。\n",
    "```sh\n",
    "jupyter notebook```\n",
    "\n",
    "デフォルトではブラウザが自動で起動する設定になっているが、ブラウザを開いて、\"localhost:8888\"にアクセスしても、開ける。  \n",
    "\n",
    "jupter notebookでは、ブラウザの起動の設定や、ポート番号の指定、パスワードの指定などができる。詳細は[こちら](https://jupyter-notebook.readthedocs.io/en/stable/public_server.html)。"
   ]
  },
  {
   "cell_type": "markdown",
   "metadata": {},
   "source": [
    "Jupyter notebookはコマンドモードと編集モードの2モードがある。\n",
    "<kbd>Esc</kbd>キーでコマンドモードへ、<kbd>Enter</kbd>キーで編集モードに以降できる。"
   ]
  },
  {
   "cell_type": "markdown",
   "metadata": {},
   "source": [
    "コマンドモードで<kbd>y</kbd>を押すとプログラム用のセルに、<kbd>m</kbd>を押すとマークダウン用のセルになる。"
   ]
  },
  {
   "cell_type": "markdown",
   "metadata": {},
   "source": [
    "他、よく使う機能は以下のとおり。\n",
    "- コマンドモードで<kbd>a</kbd>で上にセルを挿入\n",
    "- コマンドモードで<kbd>b</kbd>で下にセルを挿入\n",
    "- コマンドモードで<kbd>d</kbd> ➡ <kbd>d</kbd>でセルを削除\n",
    "- コマンドモードで<kbd>z</kbd>でセル削除をUndo\n",
    "- コマンドモードで<kbd>s</kbd>でノートブックを保存\n",
    "- <kbd>shift</kbd> + <kbd>Enter</kbd>でセルを実行\n",
    "- コマンドモードで<kbd>shift</kbd> + <kbd>M</kbd>でセルとその下のセルをマージ\n",
    "- コマンドモードで<kbd>h</kbd>でヘルプを開く\n",
    "- コマンドモードで<kbd>i</kbd> + <kbd>i</kbd>で実行を中断\n",
    "- 編集モードで<kbd>&#8984;</kbd> + <kbd>&uarr;</kbd>でセルの先頭へ\n",
    "- 編集モードで<kbd>&#8984;</kbd> + <kbd>&darr;</kbd>でセルの末尾へ\n",
    "\n",
    "上部のボタンを押しても動作できる。ヘルプを見ながら、毎日少しずつショートカットを覚えていくと良い。"
   ]
  },
  {
   "cell_type": "markdown",
   "metadata": {},
   "source": [
    "### カスタマイズ\n",
    "\n",
    "- 仮想環境を指定のファイルで構築すれば、既に\"jupyter_contrib_nbextensions\"と\"nb_conda\"がインストールされている。  \n",
    "    - 前者はjupyter notebookの拡張機能で、後者はjupyter notebookで使用する仮想環境を指定するためのもの。  \n",
    "- 例えば眞田は以下のように拡張機能を設定している。各機能の詳細な説明は[こちらがわかりやすい](https://qiita.com/simonritchie/items/88161c806197a0b84174)\n",
    "![コンフィグ](figures/20190530_nb_extension_config_sanada.png)"
   ]
  },
  {
   "cell_type": "markdown",
   "metadata": {},
   "source": [
    "**練習**  \n",
    "- 上記のマークダウンのセルの内容を眺める。一部を変更してみる。\n",
    "- pythonで簡単な計算をしてみる。1 + 2など\n",
    "- 上記のコマンドを試してみる"
   ]
  },
  {
   "cell_type": "markdown",
   "metadata": {},
   "source": [
    "### よく使う機能"
   ]
  },
  {
   "cell_type": "code",
   "execution_count": 1,
   "metadata": {
    "ExecuteTime": {
     "end_time": "2019-06-05T01:58:50.046941Z",
     "start_time": "2019-06-05T01:58:50.042664Z"
    }
   },
   "outputs": [
    {
     "name": "stdout",
     "output_type": "stream",
     "text": [
      "CPU times: user 3 µs, sys: 0 ns, total: 3 µs\n",
      "Wall time: 7.15 µs\n"
     ]
    }
   ],
   "source": [
    "%%time\n",
    "\n",
    "# 実行時間をはかる。\n",
    "x = 1"
   ]
  },
  {
   "cell_type": "code",
   "execution_count": 2,
   "metadata": {
    "ExecuteTime": {
     "end_time": "2019-06-05T01:58:50.120996Z",
     "start_time": "2019-06-05T01:58:50.116960Z"
    }
   },
   "outputs": [
    {
     "name": "stdout",
     "output_type": "stream",
     "text": [
      "CPU times: user 3 µs, sys: 0 ns, total: 3 µs\n",
      "Wall time: 6.91 µs\n"
     ]
    }
   ],
   "source": [
    "%time x = 1"
   ]
  },
  {
   "cell_type": "code",
   "execution_count": 3,
   "metadata": {
    "ExecuteTime": {
     "end_time": "2019-06-05T01:58:50.327766Z",
     "start_time": "2019-06-05T01:58:50.196067Z"
    }
   },
   "outputs": [
    {
     "name": "stdout",
     "output_type": "stream",
     "text": [
      "total 7568\r\n",
      "-rw-r--r--  1 localadmin  staff   1.9M May 30 13:45 0.5_AkihiroSanada_warranty_analysis_note.ipynb\r\n",
      "-rw-r--r--  1 localadmin  staff   331K May 30 13:45 0.6_AkihiroSanada_FTIR_data_analysis.ipynb\r\n",
      "-rw-r--r--  1 localadmin  staff   515K May 30 13:45 0.7_AkihiroSanada_Data_Dist_Check.ipynb\r\n",
      "-rw-r--r--  1 localadmin  staff   762K May 30 19:48 0.8_AkihiroSanada_MCMC_tutorial.ipynb\r\n",
      "-rw-r--r--  1 localadmin  staff   1.6K May 30 13:45 0.9_AkihiroSanada_Integrate_Variables.ipynb\r\n",
      "-rw-r--r--  1 localadmin  staff    10K May 30 13:45 0.9_AkihiroSanada_tmp_upload_data_to_sql_draft.ipynb\r\n",
      "-rw-r--r--  1 localadmin  staff    10K May 30 13:45 0.9_AkihiroSanada_tmp_upload_data_to_sql_draft_2.ipynb\r\n",
      "-rw-r--r--  1 localadmin  staff   112K Jun  5 10:56 1.1_AkihiroSanada_ReviewingPython.ipynb\r\n",
      "-rw-r--r--  1 localadmin  staff    20K Jun  3 20:21 1.2_AkihiroSanada_Git.ipynb\r\n",
      "-rw-r--r--  1 localadmin  staff    70K May 31 17:00 2.1_AkihiroSanada_AWS&TimeSeriesAnalysis.ipynb\r\n",
      "drwxr-xr-x  7 localadmin  staff   224B May 31 16:44 \u001b[34mfigures\u001b[m\u001b[m\r\n",
      "-rw-r--r--@ 1 localadmin  staff   884B May 30 19:25 randomwalk_cycle.stan\r\n"
     ]
    }
   ],
   "source": [
    "# シェルを叩く\n",
    "!ls -lh"
   ]
  },
  {
   "cell_type": "code",
   "execution_count": 4,
   "metadata": {
    "ExecuteTime": {
     "end_time": "2019-06-05T01:58:50.448210Z",
     "start_time": "2019-06-05T01:58:50.330063Z"
    }
   },
   "outputs": [
    {
     "name": "stdout",
     "output_type": "stream",
     "text": [
      "/Users/localadmin/Documents/GitHub/suzuki_analytics/phase_2/notebooks\r\n"
     ]
    }
   ],
   "source": [
    "!echo $PWD"
   ]
  },
  {
   "cell_type": "code",
   "execution_count": 5,
   "metadata": {
    "ExecuteTime": {
     "end_time": "2019-06-05T01:58:50.669025Z",
     "start_time": "2019-06-05T01:58:50.450612Z"
    }
   },
   "outputs": [],
   "source": [
    "import numpy as np # 数値計算"
   ]
  },
  {
   "cell_type": "markdown",
   "metadata": {},
   "source": [
    "<kbd>tab</kbd>でコード補完をしてくれる"
   ]
  },
  {
   "cell_type": "code",
   "execution_count": 6,
   "metadata": {
    "ExecuteTime": {
     "end_time": "2019-06-05T01:58:50.680051Z",
     "start_time": "2019-06-05T01:58:50.670919Z"
    }
   },
   "outputs": [
    {
     "data": {
      "text/plain": [
       "<ufunc 'absolute'>"
      ]
     },
     "execution_count": 6,
     "metadata": {},
     "output_type": "execute_result"
    }
   ],
   "source": [
    "np.absolute"
   ]
  },
  {
   "cell_type": "markdown",
   "metadata": {},
   "source": [
    "関数中で<kbd>tab</kbd>を押すと、ヘルプを出せる。最大3回まで押せる。"
   ]
  },
  {
   "cell_type": "code",
   "execution_count": 7,
   "metadata": {
    "ExecuteTime": {
     "end_time": "2019-06-05T01:58:50.825028Z",
     "start_time": "2019-06-05T01:58:50.721741Z"
    }
   },
   "outputs": [
    {
     "ename": "ValueError",
     "evalue": "invalid number of arguments",
     "output_type": "error",
     "traceback": [
      "\u001b[0;31m---------------------------------------------------------------------------\u001b[0m",
      "\u001b[0;31mValueError\u001b[0m                                Traceback (most recent call last)",
      "\u001b[0;32m<ipython-input-7-3c3093db0cd7>\u001b[0m in \u001b[0;36m<module>\u001b[0;34m\u001b[0m\n\u001b[0;32m----> 1\u001b[0;31m \u001b[0mnp\u001b[0m\u001b[0;34m.\u001b[0m\u001b[0mabs\u001b[0m\u001b[0;34m(\u001b[0m\u001b[0;34m)\u001b[0m\u001b[0;34m\u001b[0m\u001b[0;34m\u001b[0m\u001b[0m\n\u001b[0m",
      "\u001b[0;31mValueError\u001b[0m: invalid number of arguments"
     ]
    }
   ],
   "source": [
    "np.abs()"
   ]
  },
  {
   "cell_type": "code",
   "execution_count": null,
   "metadata": {
    "ExecuteTime": {
     "end_time": "2019-06-05T01:58:50.826997Z",
     "start_time": "2019-06-05T01:58:50.790Z"
    }
   },
   "outputs": [],
   "source": [
    "# ?でもドキュメントは表示できる\n",
    "?np.abs"
   ]
  },
  {
   "cell_type": "markdown",
   "metadata": {},
   "source": [
    "# Pythonの復習"
   ]
  },
  {
   "cell_type": "markdown",
   "metadata": {},
   "source": [
    "## 基本動作"
   ]
  },
  {
   "cell_type": "code",
   "execution_count": 8,
   "metadata": {
    "ExecuteTime": {
     "end_time": "2019-06-05T01:58:51.097951Z",
     "start_time": "2019-06-05T01:58:51.095330Z"
    }
   },
   "outputs": [],
   "source": [
    "# 代入\n",
    "x = 1"
   ]
  },
  {
   "cell_type": "code",
   "execution_count": 9,
   "metadata": {
    "ExecuteTime": {
     "end_time": "2019-06-05T01:58:51.175385Z",
     "start_time": "2019-06-05T01:58:51.171359Z"
    }
   },
   "outputs": [
    {
     "data": {
      "text/plain": [
       "14"
      ]
     },
     "execution_count": 9,
     "metadata": {},
     "output_type": "execute_result"
    }
   ],
   "source": [
    "# 四則演算\n",
    "1 * 2 + 3 * 4"
   ]
  },
  {
   "cell_type": "code",
   "execution_count": 10,
   "metadata": {
    "ExecuteTime": {
     "end_time": "2019-06-05T01:58:51.250489Z",
     "start_time": "2019-06-05T01:58:51.246954Z"
    }
   },
   "outputs": [
    {
     "data": {
      "text/plain": [
       "8"
      ]
     },
     "execution_count": 10,
     "metadata": {},
     "output_type": "execute_result"
    }
   ],
   "source": [
    "# 累乗\n",
    "2 ** 3"
   ]
  },
  {
   "cell_type": "code",
   "execution_count": 11,
   "metadata": {
    "ExecuteTime": {
     "end_time": "2019-06-05T01:58:51.324359Z",
     "start_time": "2019-06-05T01:58:51.321058Z"
    }
   },
   "outputs": [
    {
     "data": {
      "text/plain": [
       "2"
      ]
     },
     "execution_count": 11,
     "metadata": {},
     "output_type": "execute_result"
    }
   ],
   "source": [
    "# 商(余りはなし)\n",
    "5 // 2"
   ]
  },
  {
   "cell_type": "code",
   "execution_count": 12,
   "metadata": {
    "ExecuteTime": {
     "end_time": "2019-06-05T01:58:51.399622Z",
     "start_time": "2019-06-05T01:58:51.396001Z"
    }
   },
   "outputs": [
    {
     "data": {
      "text/plain": [
       "2"
      ]
     },
     "execution_count": 12,
     "metadata": {},
     "output_type": "execute_result"
    }
   ],
   "source": [
    "# 余り\n",
    "5 % 3"
   ]
  },
  {
   "cell_type": "code",
   "execution_count": 13,
   "metadata": {
    "ExecuteTime": {
     "end_time": "2019-06-05T01:58:51.472640Z",
     "start_time": "2019-06-05T01:58:51.469155Z"
    }
   },
   "outputs": [
    {
     "data": {
      "text/plain": [
       "2.5"
      ]
     },
     "execution_count": 13,
     "metadata": {},
     "output_type": "execute_result"
    }
   ],
   "source": [
    "# 割り算 (python2では整数同士の割り算は切り捨てられていたがpython3では自動的に浮動少数となる)\n",
    "5 / 2"
   ]
  },
  {
   "cell_type": "code",
   "execution_count": 14,
   "metadata": {
    "ExecuteTime": {
     "end_time": "2019-06-05T01:58:51.550139Z",
     "start_time": "2019-06-05T01:58:51.546382Z"
    }
   },
   "outputs": [
    {
     "data": {
      "text/plain": [
       "(2, 1)"
      ]
     },
     "execution_count": 14,
     "metadata": {},
     "output_type": "execute_result"
    }
   ],
   "source": [
    "# divmodという関数もある\n",
    "divmod(5,2) # 2あまり1"
   ]
  },
  {
   "cell_type": "code",
   "execution_count": 15,
   "metadata": {
    "ExecuteTime": {
     "end_time": "2019-06-05T01:58:51.620791Z",
     "start_time": "2019-06-05T01:58:51.616584Z"
    }
   },
   "outputs": [
    {
     "name": "stdout",
     "output_type": "stream",
     "text": [
      "x= 2\n",
      "y= 1\n"
     ]
    }
   ],
   "source": [
    "# タプルの展開(後述)を用いて、このように使える\n",
    "x, y = divmod(5,2)\n",
    "print(\"x=\", x)\n",
    "print(\"y=\", y)"
   ]
  },
  {
   "cell_type": "code",
   "execution_count": 16,
   "metadata": {
    "ExecuteTime": {
     "end_time": "2019-06-05T01:58:51.696073Z",
     "start_time": "2019-06-05T01:58:51.692234Z"
    }
   },
   "outputs": [
    {
     "ename": "IndentationError",
     "evalue": "unexpected indent (<ipython-input-16-0589835ac458>, line 3)",
     "output_type": "error",
     "traceback": [
      "\u001b[0;36m  File \u001b[0;32m\"<ipython-input-16-0589835ac458>\"\u001b[0;36m, line \u001b[0;32m3\u001b[0m\n\u001b[0;31m    y = 1\u001b[0m\n\u001b[0m    ^\u001b[0m\n\u001b[0;31mIndentationError\u001b[0m\u001b[0;31m:\u001b[0m unexpected indent\n"
     ]
    }
   ],
   "source": [
    "# インデントに厳しい\n",
    "x = 1\n",
    "  y = 1"
   ]
  },
  {
   "cell_type": "code",
   "execution_count": 17,
   "metadata": {
    "ExecuteTime": {
     "end_time": "2019-06-05T01:58:51.804221Z",
     "start_time": "2019-06-05T01:58:51.801559Z"
    }
   },
   "outputs": [],
   "source": [
    "x = 1\n",
    "y = 1"
   ]
  },
  {
   "cell_type": "code",
   "execution_count": 18,
   "metadata": {
    "ExecuteTime": {
     "end_time": "2019-06-05T01:58:51.847007Z",
     "start_time": "2019-06-05T01:58:51.844314Z"
    }
   },
   "outputs": [],
   "source": [
    "# 変数を削除\n",
    "del x"
   ]
  },
  {
   "cell_type": "code",
   "execution_count": 19,
   "metadata": {
    "ExecuteTime": {
     "end_time": "2019-06-05T01:58:51.923988Z",
     "start_time": "2019-06-05T01:58:51.917414Z"
    }
   },
   "outputs": [
    {
     "ename": "NameError",
     "evalue": "name 'x' is not defined",
     "output_type": "error",
     "traceback": [
      "\u001b[0;31m---------------------------------------------------------------------------\u001b[0m",
      "\u001b[0;31mNameError\u001b[0m                                 Traceback (most recent call last)",
      "\u001b[0;32m<ipython-input-19-6fcf9dfbd479>\u001b[0m in \u001b[0;36m<module>\u001b[0;34m\u001b[0m\n\u001b[0;32m----> 1\u001b[0;31m \u001b[0mx\u001b[0m\u001b[0;34m\u001b[0m\u001b[0;34m\u001b[0m\u001b[0m\n\u001b[0m",
      "\u001b[0;31mNameError\u001b[0m: name 'x' is not defined"
     ]
    }
   ],
   "source": [
    "x"
   ]
  },
  {
   "cell_type": "code",
   "execution_count": 20,
   "metadata": {
    "ExecuteTime": {
     "end_time": "2019-06-05T01:58:52.055930Z",
     "start_time": "2019-06-05T01:58:52.031202Z"
    }
   },
   "outputs": [
    {
     "data": {
      "text/plain": [
       "8"
      ]
     },
     "execution_count": 20,
     "metadata": {},
     "output_type": "execute_result"
    }
   ],
   "source": [
    "# ガベージコレクトしてメモリを開放する場合\n",
    "import gc\n",
    "gc.collect()"
   ]
  },
  {
   "cell_type": "markdown",
   "metadata": {},
   "source": [
    "## データ型"
   ]
  },
  {
   "cell_type": "code",
   "execution_count": 21,
   "metadata": {
    "ExecuteTime": {
     "end_time": "2019-06-05T01:58:52.288342Z",
     "start_time": "2019-06-05T01:58:52.284613Z"
    }
   },
   "outputs": [
    {
     "data": {
      "text/plain": [
       "int"
      ]
     },
     "execution_count": 21,
     "metadata": {},
     "output_type": "execute_result"
    }
   ],
   "source": [
    "# 整数\n",
    "type(1)"
   ]
  },
  {
   "cell_type": "code",
   "execution_count": 22,
   "metadata": {
    "ExecuteTime": {
     "end_time": "2019-06-05T01:58:52.369303Z",
     "start_time": "2019-06-05T01:58:52.365415Z"
    }
   },
   "outputs": [
    {
     "data": {
      "text/plain": [
       "float"
      ]
     },
     "execution_count": 22,
     "metadata": {},
     "output_type": "execute_result"
    }
   ],
   "source": [
    "# 浮動少数点\n",
    "type(1.0)"
   ]
  },
  {
   "cell_type": "code",
   "execution_count": 23,
   "metadata": {
    "ExecuteTime": {
     "end_time": "2019-06-05T01:58:52.445928Z",
     "start_time": "2019-06-05T01:58:52.442407Z"
    }
   },
   "outputs": [
    {
     "data": {
      "text/plain": [
       "str"
      ]
     },
     "execution_count": 23,
     "metadata": {},
     "output_type": "execute_result"
    }
   ],
   "source": [
    "# 文字列\n",
    "type(\"1\")"
   ]
  },
  {
   "cell_type": "code",
   "execution_count": 24,
   "metadata": {
    "ExecuteTime": {
     "end_time": "2019-06-05T01:58:52.519488Z",
     "start_time": "2019-06-05T01:58:52.515863Z"
    }
   },
   "outputs": [
    {
     "data": {
      "text/plain": [
       "list"
      ]
     },
     "execution_count": 24,
     "metadata": {},
     "output_type": "execute_result"
    }
   ],
   "source": [
    "# リスト\n",
    "type([1,2,3])"
   ]
  },
  {
   "cell_type": "code",
   "execution_count": 25,
   "metadata": {
    "ExecuteTime": {
     "end_time": "2019-06-05T01:58:52.596797Z",
     "start_time": "2019-06-05T01:58:52.592852Z"
    }
   },
   "outputs": [
    {
     "data": {
      "text/plain": [
       "tuple"
      ]
     },
     "execution_count": 25,
     "metadata": {},
     "output_type": "execute_result"
    }
   ],
   "source": [
    "# タプル(変更できないリスト)\n",
    "type((1,2,3))"
   ]
  },
  {
   "cell_type": "code",
   "execution_count": 26,
   "metadata": {
    "ExecuteTime": {
     "end_time": "2019-06-05T01:58:52.675219Z",
     "start_time": "2019-06-05T01:58:52.671035Z"
    }
   },
   "outputs": [
    {
     "data": {
      "text/plain": [
       "tuple"
      ]
     },
     "execution_count": 26,
     "metadata": {},
     "output_type": "execute_result"
    }
   ],
   "source": [
    "# 実はタプルに括弧は必要ないが、つけた方がわかりやすい\n",
    "x = 1,2,3\n",
    "type(x)"
   ]
  },
  {
   "cell_type": "code",
   "execution_count": 27,
   "metadata": {
    "ExecuteTime": {
     "end_time": "2019-06-05T01:58:52.753146Z",
     "start_time": "2019-06-05T01:58:52.748857Z"
    }
   },
   "outputs": [
    {
     "data": {
      "text/plain": [
       "dict"
      ]
     },
     "execution_count": 27,
     "metadata": {},
     "output_type": "execute_result"
    }
   ],
   "source": [
    "# 辞書\n",
    "d = {\"sanada\": 4, \"akihiro\": 2}\n",
    "type(d)"
   ]
  },
  {
   "cell_type": "code",
   "execution_count": 28,
   "metadata": {
    "ExecuteTime": {
     "end_time": "2019-06-05T01:58:52.831928Z",
     "start_time": "2019-06-05T01:58:52.828099Z"
    }
   },
   "outputs": [
    {
     "data": {
      "text/plain": [
       "set"
      ]
     },
     "execution_count": 28,
     "metadata": {},
     "output_type": "execute_result"
    }
   ],
   "source": [
    "# セット\n",
    "s = {\"sanada\", \"tokuda\", \"morita\"}\n",
    "type(s)"
   ]
  },
  {
   "cell_type": "code",
   "execution_count": 29,
   "metadata": {
    "ExecuteTime": {
     "end_time": "2019-06-05T01:58:52.909465Z",
     "start_time": "2019-06-05T01:58:52.905450Z"
    }
   },
   "outputs": [
    {
     "data": {
      "text/plain": [
       "function"
      ]
     },
     "execution_count": 29,
     "metadata": {},
     "output_type": "execute_result"
    }
   ],
   "source": [
    "# 関数\n",
    "def plus_one(x):\n",
    "    return x + 1\n",
    "\n",
    "type(plus_one)"
   ]
  },
  {
   "cell_type": "code",
   "execution_count": 30,
   "metadata": {
    "ExecuteTime": {
     "end_time": "2019-06-05T01:58:52.986077Z",
     "start_time": "2019-06-05T01:58:52.982531Z"
    }
   },
   "outputs": [
    {
     "data": {
      "text/plain": [
       "10"
      ]
     },
     "execution_count": 30,
     "metadata": {},
     "output_type": "execute_result"
    }
   ],
   "source": [
    "# 型変換\n",
    "int(10.2)"
   ]
  },
  {
   "cell_type": "code",
   "execution_count": 31,
   "metadata": {
    "ExecuteTime": {
     "end_time": "2019-06-05T01:58:53.059275Z",
     "start_time": "2019-06-05T01:58:53.055669Z"
    }
   },
   "outputs": [
    {
     "data": {
      "text/plain": [
       "10"
      ]
     },
     "execution_count": 31,
     "metadata": {},
     "output_type": "execute_result"
    }
   ],
   "source": [
    "int(\"10\")"
   ]
  },
  {
   "cell_type": "code",
   "execution_count": 32,
   "metadata": {
    "ExecuteTime": {
     "end_time": "2019-06-05T01:58:53.138010Z",
     "start_time": "2019-06-05T01:58:53.131228Z"
    }
   },
   "outputs": [
    {
     "ename": "ValueError",
     "evalue": "invalid literal for int() with base 10: '10.2'",
     "output_type": "error",
     "traceback": [
      "\u001b[0;31m---------------------------------------------------------------------------\u001b[0m",
      "\u001b[0;31mValueError\u001b[0m                                Traceback (most recent call last)",
      "\u001b[0;32m<ipython-input-32-e15135b960ac>\u001b[0m in \u001b[0;36m<module>\u001b[0;34m\u001b[0m\n\u001b[0;32m----> 1\u001b[0;31m \u001b[0mint\u001b[0m\u001b[0;34m(\u001b[0m\u001b[0;34m\"10.2\"\u001b[0m\u001b[0;34m)\u001b[0m\u001b[0;34m\u001b[0m\u001b[0;34m\u001b[0m\u001b[0m\n\u001b[0m",
      "\u001b[0;31mValueError\u001b[0m: invalid literal for int() with base 10: '10.2'"
     ]
    }
   ],
   "source": [
    "int(\"10.2\")"
   ]
  },
  {
   "cell_type": "code",
   "execution_count": 33,
   "metadata": {
    "ExecuteTime": {
     "end_time": "2019-06-05T01:58:53.244722Z",
     "start_time": "2019-06-05T01:58:53.240987Z"
    }
   },
   "outputs": [
    {
     "data": {
      "text/plain": [
       "103.0"
      ]
     },
     "execution_count": 33,
     "metadata": {},
     "output_type": "execute_result"
    }
   ],
   "source": [
    "1.03e2"
   ]
  },
  {
   "cell_type": "code",
   "execution_count": 34,
   "metadata": {
    "ExecuteTime": {
     "end_time": "2019-06-05T01:58:53.293508Z",
     "start_time": "2019-06-05T01:58:53.286994Z"
    }
   },
   "outputs": [
    {
     "ename": "ValueError",
     "evalue": "invalid literal for int() with base 10: '1.03e2'",
     "output_type": "error",
     "traceback": [
      "\u001b[0;31m---------------------------------------------------------------------------\u001b[0m",
      "\u001b[0;31mValueError\u001b[0m                                Traceback (most recent call last)",
      "\u001b[0;32m<ipython-input-34-05ae263a48db>\u001b[0m in \u001b[0;36m<module>\u001b[0;34m\u001b[0m\n\u001b[0;32m----> 1\u001b[0;31m \u001b[0mint\u001b[0m\u001b[0;34m(\u001b[0m\u001b[0;34m\"1.03e2\"\u001b[0m\u001b[0;34m)\u001b[0m\u001b[0;34m\u001b[0m\u001b[0;34m\u001b[0m\u001b[0m\n\u001b[0m",
      "\u001b[0;31mValueError\u001b[0m: invalid literal for int() with base 10: '1.03e2'"
     ]
    }
   ],
   "source": [
    "int(\"1.03e2\")"
   ]
  },
  {
   "cell_type": "code",
   "execution_count": 35,
   "metadata": {
    "ExecuteTime": {
     "end_time": "2019-06-05T01:58:53.402731Z",
     "start_time": "2019-06-05T01:58:53.399188Z"
    }
   },
   "outputs": [
    {
     "data": {
      "text/plain": [
       "10.2"
      ]
     },
     "execution_count": 35,
     "metadata": {},
     "output_type": "execute_result"
    }
   ],
   "source": [
    "float(\"10.2\")"
   ]
  },
  {
   "cell_type": "code",
   "execution_count": 36,
   "metadata": {
    "ExecuteTime": {
     "end_time": "2019-06-05T01:58:53.436844Z",
     "start_time": "2019-06-05T01:58:53.432850Z"
    }
   },
   "outputs": [
    {
     "data": {
      "text/plain": [
       "1.0"
      ]
     },
     "execution_count": 36,
     "metadata": {},
     "output_type": "execute_result"
    }
   ],
   "source": [
    "float(\"1\") # float(1)でも同じ"
   ]
  },
  {
   "cell_type": "markdown",
   "metadata": {},
   "source": [
    "## リスト, タプル, 文字列, 辞書, セット"
   ]
  },
  {
   "cell_type": "markdown",
   "metadata": {},
   "source": [
    "### リスト"
   ]
  },
  {
   "cell_type": "code",
   "execution_count": 37,
   "metadata": {
    "ExecuteTime": {
     "end_time": "2019-06-05T01:58:53.794136Z",
     "start_time": "2019-06-05T01:58:53.790854Z"
    }
   },
   "outputs": [],
   "source": [
    "# リストを作成\n",
    "a = [1,2,3,5,6,7]\n",
    "\n",
    "# リストのリストもOK\n",
    "b = [1,2,3,[4,5,6]]"
   ]
  },
  {
   "cell_type": "code",
   "execution_count": 38,
   "metadata": {
    "ExecuteTime": {
     "end_time": "2019-06-05T01:58:53.869904Z",
     "start_time": "2019-06-05T01:58:53.866223Z"
    }
   },
   "outputs": [
    {
     "data": {
      "text/plain": [
       "[1, 2, 3, 5, 6, 7]"
      ]
     },
     "execution_count": 38,
     "metadata": {},
     "output_type": "execute_result"
    }
   ],
   "source": [
    "a"
   ]
  },
  {
   "cell_type": "code",
   "execution_count": 39,
   "metadata": {
    "ExecuteTime": {
     "end_time": "2019-06-05T01:58:53.942590Z",
     "start_time": "2019-06-05T01:58:53.939142Z"
    }
   },
   "outputs": [
    {
     "data": {
      "text/plain": [
       "1"
      ]
     },
     "execution_count": 39,
     "metadata": {},
     "output_type": "execute_result"
    }
   ],
   "source": [
    "a[0] # インデックスは0始まり。excelのoffsetだと考えるとわかりやすい(?)"
   ]
  },
  {
   "cell_type": "code",
   "execution_count": 40,
   "metadata": {
    "ExecuteTime": {
     "end_time": "2019-06-05T01:58:54.015921Z",
     "start_time": "2019-06-05T01:58:54.012244Z"
    }
   },
   "outputs": [
    {
     "data": {
      "text/plain": [
       "2"
      ]
     },
     "execution_count": 40,
     "metadata": {},
     "output_type": "execute_result"
    }
   ],
   "source": [
    "a[1]"
   ]
  },
  {
   "cell_type": "code",
   "execution_count": 41,
   "metadata": {
    "ExecuteTime": {
     "end_time": "2019-06-05T01:58:54.087761Z",
     "start_time": "2019-06-05T01:58:54.084052Z"
    }
   },
   "outputs": [
    {
     "data": {
      "text/plain": [
       "7"
      ]
     },
     "execution_count": 41,
     "metadata": {},
     "output_type": "execute_result"
    }
   ],
   "source": [
    "a[-1] # -を使って、末尾から数えることもできる。この場合、-0ではなく-1から始まる"
   ]
  },
  {
   "cell_type": "code",
   "execution_count": 42,
   "metadata": {
    "ExecuteTime": {
     "end_time": "2019-06-05T01:58:54.163519Z",
     "start_time": "2019-06-05T01:58:54.159771Z"
    }
   },
   "outputs": [
    {
     "name": "stdout",
     "output_type": "stream",
     "text": [
      "[1, 2, 3, 5, 6, 7]\n",
      "[2, 3]\n"
     ]
    }
   ],
   "source": [
    "print(a)\n",
    "print(a[1:3]) # スライス。インデックス1 ~ インデックス3の一つ手前までを抜き出す"
   ]
  },
  {
   "cell_type": "code",
   "execution_count": 43,
   "metadata": {
    "ExecuteTime": {
     "end_time": "2019-06-05T01:58:54.240809Z",
     "start_time": "2019-06-05T01:58:54.236759Z"
    }
   },
   "outputs": [
    {
     "name": "stdout",
     "output_type": "stream",
     "text": [
      "[1, 2, 3, 5, 6, 7]\n",
      "[1, 2, 3]\n",
      "[1, 2, 3]\n"
     ]
    }
   ],
   "source": [
    "print(a)\n",
    "print(a[0:3])\n",
    "print(a[:3]) # 0スタートは省略できる"
   ]
  },
  {
   "cell_type": "code",
   "execution_count": 44,
   "metadata": {
    "ExecuteTime": {
     "end_time": "2019-06-05T01:58:54.315226Z",
     "start_time": "2019-06-05T01:58:54.311296Z"
    }
   },
   "outputs": [
    {
     "name": "stdout",
     "output_type": "stream",
     "text": [
      "[1, 2, 3, 5, 6, 7]\n",
      "[2, 3, 5, 6, 7]\n",
      "[2, 3, 5, 6]\n"
     ]
    }
   ],
   "source": [
    "print(a)\n",
    "print(a[1:]) # 1から最後まで\n",
    "print(a[1:-1]) # 1から最後の一つ前まで"
   ]
  },
  {
   "cell_type": "code",
   "execution_count": 45,
   "metadata": {
    "ExecuteTime": {
     "end_time": "2019-06-05T01:58:54.389140Z",
     "start_time": "2019-06-05T01:58:54.385786Z"
    }
   },
   "outputs": [
    {
     "name": "stdout",
     "output_type": "stream",
     "text": [
      "[1, 2, 3, 5, 6, 7]\n",
      "[1, 3, 6]\n"
     ]
    }
   ],
   "source": [
    "print(a)\n",
    "print(a[0:-1:2]) # 最初から最後の一つ前まで、ステップ幅2(=1個飛ばし)で"
   ]
  },
  {
   "cell_type": "code",
   "execution_count": 46,
   "metadata": {
    "ExecuteTime": {
     "end_time": "2019-06-05T01:58:54.463516Z",
     "start_time": "2019-06-05T01:58:54.460097Z"
    }
   },
   "outputs": [
    {
     "name": "stdout",
     "output_type": "stream",
     "text": [
      "[1, 2, 3, 5, 6]\n"
     ]
    }
   ],
   "source": [
    "print(a[0:-1:1]) # 最初から最後の一つ前まで、ステップ1(そのまま)で"
   ]
  },
  {
   "cell_type": "code",
   "execution_count": 47,
   "metadata": {
    "ExecuteTime": {
     "end_time": "2019-06-05T01:58:54.547202Z",
     "start_time": "2019-06-05T01:58:54.543485Z"
    }
   },
   "outputs": [
    {
     "name": "stdout",
     "output_type": "stream",
     "text": [
      "[7, 6, 5, 3, 2]\n"
     ]
    }
   ],
   "source": [
    "print(a[-1:0:-1]) # ステップを-にすると、逆順にできる。開始と終了の順番が入れ替わるので注意"
   ]
  },
  {
   "cell_type": "code",
   "execution_count": 48,
   "metadata": {
    "ExecuteTime": {
     "end_time": "2019-06-05T01:58:54.621837Z",
     "start_time": "2019-06-05T01:58:54.618048Z"
    }
   },
   "outputs": [
    {
     "data": {
      "text/plain": [
       "[7, 6, 5, 3, 2, 1]"
      ]
     },
     "execution_count": 48,
     "metadata": {},
     "output_type": "execute_result"
    }
   ],
   "source": [
    "a[::-1] # リストを逆順にする。よく使う。"
   ]
  },
  {
   "cell_type": "code",
   "execution_count": 49,
   "metadata": {
    "ExecuteTime": {
     "end_time": "2019-06-05T01:58:54.697776Z",
     "start_time": "2019-06-05T01:58:54.694277Z"
    }
   },
   "outputs": [
    {
     "name": "stdout",
     "output_type": "stream",
     "text": [
      "[1, 2, 3, 5, 6, 7]\n",
      "[1, 10, 3, 5, 6, 7]\n"
     ]
    }
   ],
   "source": [
    "print(a)\n",
    "a[1] = 10 # index 1を10に変更\n",
    "print(a)"
   ]
  },
  {
   "cell_type": "code",
   "execution_count": 50,
   "metadata": {
    "ExecuteTime": {
     "end_time": "2019-06-05T01:58:54.772193Z",
     "start_time": "2019-06-05T01:58:54.768529Z"
    }
   },
   "outputs": [
    {
     "name": "stdout",
     "output_type": "stream",
     "text": [
      "[1, 10, 3, 5, 6, 7]\n",
      "[1, 3, 5, 6, 7]\n"
     ]
    }
   ],
   "source": [
    "print(a)\n",
    "del a[1] # index 1を削除\n",
    "print(a)"
   ]
  },
  {
   "cell_type": "code",
   "execution_count": 51,
   "metadata": {
    "ExecuteTime": {
     "end_time": "2019-06-05T01:58:54.847374Z",
     "start_time": "2019-06-05T01:58:54.844057Z"
    }
   },
   "outputs": [
    {
     "name": "stdout",
     "output_type": "stream",
     "text": [
      "[1, 3, 5, 6, 7]\n",
      "[1, 3, 5, 6, 7, 8]\n"
     ]
    }
   ],
   "source": [
    "print(a)\n",
    "a.append(8) # 要素を追加\n",
    "print(a)"
   ]
  },
  {
   "cell_type": "code",
   "execution_count": 52,
   "metadata": {
    "ExecuteTime": {
     "end_time": "2019-06-05T01:58:54.921979Z",
     "start_time": "2019-06-05T01:58:54.918460Z"
    }
   },
   "outputs": [
    {
     "name": "stdout",
     "output_type": "stream",
     "text": [
      "[1, 3, 5, 6, 7, 8]\n",
      "[1, 3, 5, 6, 7, 8, [9, 10]]\n"
     ]
    }
   ],
   "source": [
    "print(a)\n",
    "a.append([9,10]) # 要素(リスト)を追加\n",
    "print(a) # 思ったとの違う？"
   ]
  },
  {
   "cell_type": "code",
   "execution_count": 53,
   "metadata": {
    "ExecuteTime": {
     "end_time": "2019-06-05T01:58:54.999647Z",
     "start_time": "2019-06-05T01:58:54.995837Z"
    }
   },
   "outputs": [
    {
     "name": "stdout",
     "output_type": "stream",
     "text": [
      "[1, 3, 5, 6, 7, 8, [9, 10]]\n",
      "[1, 3, 5, 6, 7, 8, 9, 10]\n"
     ]
    }
   ],
   "source": [
    "print(a)\n",
    "del a[-1]\n",
    "a.extend([9,10]) # リストを追加したいときは、extendを使うと良い\n",
    "print(a)"
   ]
  },
  {
   "cell_type": "code",
   "execution_count": 54,
   "metadata": {
    "ExecuteTime": {
     "end_time": "2019-06-05T01:58:55.073869Z",
     "start_time": "2019-06-05T01:58:55.070386Z"
    }
   },
   "outputs": [
    {
     "name": "stdout",
     "output_type": "stream",
     "text": [
      "[1, 1, 1, 1]\n"
     ]
    }
   ],
   "source": [
    "# removeも使える\n",
    "x = [1,1,2,1,1]\n",
    "x.remove(2)\n",
    "print(x)"
   ]
  },
  {
   "cell_type": "code",
   "execution_count": 55,
   "metadata": {
    "ExecuteTime": {
     "end_time": "2019-06-05T01:58:55.151778Z",
     "start_time": "2019-06-05T01:58:55.147590Z"
    }
   },
   "outputs": [
    {
     "data": {
      "text/plain": [
       "[1, 3, 5, 6, 7, 8, 9, 10, 0]"
      ]
     },
     "execution_count": 55,
     "metadata": {},
     "output_type": "execute_result"
    }
   ],
   "source": [
    "# extendは足し算でも書ける\n",
    "[1, 3, 5, 6, 7, 8, 9, 10] + [0]"
   ]
  },
  {
   "cell_type": "code",
   "execution_count": 56,
   "metadata": {
    "ExecuteTime": {
     "end_time": "2019-06-05T01:58:55.229097Z",
     "start_time": "2019-06-05T01:58:55.224828Z"
    }
   },
   "outputs": [
    {
     "data": {
      "text/plain": [
       "[1, 3, 5, 6, 7, 8, 9, 10, 11, 12]"
      ]
     },
     "execution_count": 56,
     "metadata": {},
     "output_type": "execute_result"
    }
   ],
   "source": [
    "[1, 3, 5, 6, 7, 8, 9, 10] + [11, 12]"
   ]
  },
  {
   "cell_type": "code",
   "execution_count": 57,
   "metadata": {
    "ExecuteTime": {
     "end_time": "2019-06-05T01:58:55.301275Z",
     "start_time": "2019-06-05T01:58:55.298058Z"
    }
   },
   "outputs": [
    {
     "name": "stdout",
     "output_type": "stream",
     "text": [
      "[1, 3, 5, 6, 7, 8, 9, 10]\n",
      "[1, 2, 3, 5, 6, 7, 8, 9, 10]\n"
     ]
    }
   ],
   "source": [
    "print(a)\n",
    "a.insert(1, 2) # index 1の箇所に2を挿入。(index, 対象)の順番\n",
    "print(a)"
   ]
  },
  {
   "cell_type": "code",
   "execution_count": 58,
   "metadata": {
    "ExecuteTime": {
     "end_time": "2019-06-05T01:58:55.376304Z",
     "start_time": "2019-06-05T01:58:55.372312Z"
    }
   },
   "outputs": [
    {
     "data": {
      "text/plain": [
       "'morita'"
      ]
     },
     "execution_count": 58,
     "metadata": {},
     "output_type": "execute_result"
    }
   ],
   "source": [
    "# pop\n",
    "x = [\"sanada\", \"tokuda\", \"morita\"]\n",
    "x.pop() # 末尾を取り出す"
   ]
  },
  {
   "cell_type": "code",
   "execution_count": 59,
   "metadata": {
    "ExecuteTime": {
     "end_time": "2019-06-05T01:58:55.450734Z",
     "start_time": "2019-06-05T01:58:55.447203Z"
    }
   },
   "outputs": [
    {
     "data": {
      "text/plain": [
       "['sanada', 'tokuda']"
      ]
     },
     "execution_count": 59,
     "metadata": {},
     "output_type": "execute_result"
    }
   ],
   "source": [
    "x"
   ]
  },
  {
   "cell_type": "code",
   "execution_count": 60,
   "metadata": {
    "ExecuteTime": {
     "end_time": "2019-06-05T01:58:55.528337Z",
     "start_time": "2019-06-05T01:58:55.524523Z"
    }
   },
   "outputs": [
    {
     "data": {
      "text/plain": [
       "'sanada'"
      ]
     },
     "execution_count": 60,
     "metadata": {},
     "output_type": "execute_result"
    }
   ],
   "source": [
    "x.pop(0) # 先頭を取り出す"
   ]
  },
  {
   "cell_type": "code",
   "execution_count": 61,
   "metadata": {
    "ExecuteTime": {
     "end_time": "2019-06-05T01:58:55.603874Z",
     "start_time": "2019-06-05T01:58:55.600255Z"
    }
   },
   "outputs": [
    {
     "data": {
      "text/plain": [
       "['tokuda']"
      ]
     },
     "execution_count": 61,
     "metadata": {},
     "output_type": "execute_result"
    }
   ],
   "source": [
    "x"
   ]
  },
  {
   "cell_type": "code",
   "execution_count": 62,
   "metadata": {
    "ExecuteTime": {
     "end_time": "2019-06-05T01:58:55.680001Z",
     "start_time": "2019-06-05T01:58:55.676276Z"
    }
   },
   "outputs": [
    {
     "data": {
      "text/plain": [
       "0"
      ]
     },
     "execution_count": 62,
     "metadata": {},
     "output_type": "execute_result"
    }
   ],
   "source": [
    "x = [\"sanada\", \"tokuda\", \"morita\", \"sanada\"]\n",
    "x.index(\"sanada\")"
   ]
  },
  {
   "cell_type": "code",
   "execution_count": 63,
   "metadata": {
    "ExecuteTime": {
     "end_time": "2019-06-05T01:58:55.752900Z",
     "start_time": "2019-06-05T01:58:55.749300Z"
    }
   },
   "outputs": [
    {
     "data": {
      "text/plain": [
       "True"
      ]
     },
     "execution_count": 63,
     "metadata": {},
     "output_type": "execute_result"
    }
   ],
   "source": [
    "\"sanada\" in x"
   ]
  },
  {
   "cell_type": "code",
   "execution_count": 64,
   "metadata": {
    "ExecuteTime": {
     "end_time": "2019-06-05T01:58:55.825164Z",
     "start_time": "2019-06-05T01:58:55.821329Z"
    }
   },
   "outputs": [
    {
     "data": {
      "text/plain": [
       "False"
      ]
     },
     "execution_count": 64,
     "metadata": {},
     "output_type": "execute_result"
    }
   ],
   "source": [
    "\"kanai\" in x"
   ]
  },
  {
   "cell_type": "code",
   "execution_count": 65,
   "metadata": {
    "ExecuteTime": {
     "end_time": "2019-06-05T01:58:55.899400Z",
     "start_time": "2019-06-05T01:58:55.894901Z"
    }
   },
   "outputs": [
    {
     "name": "stdout",
     "output_type": "stream",
     "text": [
      "[1, 2, 3, 5, 6, 7, 8, 9, 10]\n"
     ]
    },
    {
     "data": {
      "text/plain": [
       "9"
      ]
     },
     "execution_count": 65,
     "metadata": {},
     "output_type": "execute_result"
    }
   ],
   "source": [
    "print(a)\n",
    "len(a)"
   ]
  },
  {
   "cell_type": "code",
   "execution_count": 66,
   "metadata": {
    "ExecuteTime": {
     "end_time": "2019-06-05T01:58:55.972663Z",
     "start_time": "2019-06-05T01:58:55.969099Z"
    }
   },
   "outputs": [
    {
     "name": "stdout",
     "output_type": "stream",
     "text": [
      "[1, 2, 3, 5, 6, 7, 8, 9, 10]\n",
      "[10, 9, 8, 7, 6, 5, 3, 2, 1]\n"
     ]
    }
   ],
   "source": [
    "print(a)\n",
    "a.sort(reverse=True) # 配列をソート。上書き。\n",
    "print(a)"
   ]
  },
  {
   "cell_type": "code",
   "execution_count": 67,
   "metadata": {
    "ExecuteTime": {
     "end_time": "2019-06-05T01:58:56.049228Z",
     "start_time": "2019-06-05T01:58:56.045467Z"
    }
   },
   "outputs": [
    {
     "name": "stdout",
     "output_type": "stream",
     "text": [
      "[10, 9, 8, 7, 6, 5, 3, 2, 1]\n",
      "[1, 2, 3, 5, 6, 7, 8, 9, 10]\n",
      "[10, 9, 8, 7, 6, 5, 3, 2, 1]\n"
     ]
    }
   ],
   "source": [
    "print(a)\n",
    "a_sort = sorted(a) # 配列をソート。ソートされたものを返す。上書きはしない\n",
    "print(a_sort)\n",
    "print(a)"
   ]
  },
  {
   "cell_type": "code",
   "execution_count": 68,
   "metadata": {
    "ExecuteTime": {
     "end_time": "2019-06-05T01:58:56.124191Z",
     "start_time": "2019-06-05T01:58:56.119851Z"
    }
   },
   "outputs": [
    {
     "name": "stdout",
     "output_type": "stream",
     "text": [
      "[0, 1, 2]\n",
      "[1, 2, 3, 4]\n",
      "[1, 3, 5, 7, 9]\n"
     ]
    }
   ],
   "source": [
    "# rangeを使うこともできる\n",
    "print(list(range(3))) # 0 ~ 3の一つ前\n",
    "print(list(range(1,5))) # 1 ~ 5の一つ前\n",
    "print(list(range(1,10,2))) # step 2"
   ]
  },
  {
   "cell_type": "code",
   "execution_count": 69,
   "metadata": {
    "ExecuteTime": {
     "end_time": "2019-06-05T01:58:56.204627Z",
     "start_time": "2019-06-05T01:58:56.199892Z"
    }
   },
   "outputs": [
    {
     "name": "stdout",
     "output_type": "stream",
     "text": [
      "5\n",
      "1\n",
      "15\n",
      "5\n",
      "3.0\n"
     ]
    }
   ],
   "source": [
    "a = [1,2,3,4,5]\n",
    "print(max(a)) # 最大\n",
    "print(min(a)) # 最小\n",
    "print(sum(a)) # 合計\n",
    "print(len(a)) # 長さ(要素数)\n",
    "print(sum(a) / len(a)) # 平均"
   ]
  },
  {
   "cell_type": "code",
   "execution_count": 70,
   "metadata": {
    "ExecuteTime": {
     "end_time": "2019-06-05T01:58:56.279479Z",
     "start_time": "2019-06-05T01:58:56.275509Z"
    }
   },
   "outputs": [
    {
     "data": {
      "text/plain": [
       "[0, 0, 0, 0, 0, 0, 0, 0, 0, 0]"
      ]
     },
     "execution_count": 70,
     "metadata": {},
     "output_type": "execute_result"
    }
   ],
   "source": [
    "# 繰り返し\n",
    "[0] * 10"
   ]
  },
  {
   "cell_type": "code",
   "execution_count": 71,
   "metadata": {
    "ExecuteTime": {
     "end_time": "2019-06-05T01:58:56.353034Z",
     "start_time": "2019-06-05T01:58:56.349291Z"
    }
   },
   "outputs": [
    {
     "data": {
      "text/plain": [
       "[]"
      ]
     },
     "execution_count": 71,
     "metadata": {},
     "output_type": "execute_result"
    }
   ],
   "source": [
    "# 空のリスト\n",
    "list_emp = []\n",
    "list_emp"
   ]
  },
  {
   "cell_type": "code",
   "execution_count": 72,
   "metadata": {
    "ExecuteTime": {
     "end_time": "2019-06-05T01:58:56.426407Z",
     "start_time": "2019-06-05T01:58:56.422806Z"
    }
   },
   "outputs": [
    {
     "data": {
      "text/plain": [
       "[1]"
      ]
     },
     "execution_count": 72,
     "metadata": {},
     "output_type": "execute_result"
    }
   ],
   "source": [
    "list_emp.append(1)\n",
    "list_emp"
   ]
  },
  {
   "cell_type": "markdown",
   "metadata": {},
   "source": [
    "### タプル"
   ]
  },
  {
   "cell_type": "markdown",
   "metadata": {},
   "source": [
    "ほぼリストと同じ。ただし、リストと違って変更ができない"
   ]
  },
  {
   "cell_type": "code",
   "execution_count": 73,
   "metadata": {
    "ExecuteTime": {
     "end_time": "2019-06-05T01:58:56.853902Z",
     "start_time": "2019-06-05T01:58:56.851436Z"
    }
   },
   "outputs": [],
   "source": [
    "a_tuple = (1, 2, 3, 4, 5)"
   ]
  },
  {
   "cell_type": "code",
   "execution_count": 74,
   "metadata": {
    "ExecuteTime": {
     "end_time": "2019-06-05T01:58:56.926533Z",
     "start_time": "2019-06-05T01:58:56.923288Z"
    }
   },
   "outputs": [
    {
     "name": "stdout",
     "output_type": "stream",
     "text": [
      "5\n",
      "1\n"
     ]
    }
   ],
   "source": [
    "print(a_tuple[-1])\n",
    "print(a_tuple[0])"
   ]
  },
  {
   "cell_type": "code",
   "execution_count": 75,
   "metadata": {
    "ExecuteTime": {
     "end_time": "2019-06-05T01:58:57.001886Z",
     "start_time": "2019-06-05T01:58:56.998764Z"
    }
   },
   "outputs": [
    {
     "name": "stdout",
     "output_type": "stream",
     "text": [
      "(3, 4)\n"
     ]
    }
   ],
   "source": [
    "print(a_tuple[2:4])"
   ]
  },
  {
   "cell_type": "code",
   "execution_count": 76,
   "metadata": {
    "ExecuteTime": {
     "end_time": "2019-06-05T01:58:57.078049Z",
     "start_time": "2019-06-05T01:58:57.071633Z"
    }
   },
   "outputs": [
    {
     "ename": "TypeError",
     "evalue": "'tuple' object does not support item assignment",
     "output_type": "error",
     "traceback": [
      "\u001b[0;31m---------------------------------------------------------------------------\u001b[0m",
      "\u001b[0;31mTypeError\u001b[0m                                 Traceback (most recent call last)",
      "\u001b[0;32m<ipython-input-76-81d27379a41d>\u001b[0m in \u001b[0;36m<module>\u001b[0;34m\u001b[0m\n\u001b[0;32m----> 1\u001b[0;31m \u001b[0ma_tuple\u001b[0m\u001b[0;34m[\u001b[0m\u001b[0;36m0\u001b[0m\u001b[0;34m]\u001b[0m \u001b[0;34m=\u001b[0m \u001b[0;36m10\u001b[0m\u001b[0;34m\u001b[0m\u001b[0;34m\u001b[0m\u001b[0m\n\u001b[0m",
      "\u001b[0;31mTypeError\u001b[0m: 'tuple' object does not support item assignment"
     ]
    }
   ],
   "source": [
    "a_tuple[0] = 10"
   ]
  },
  {
   "cell_type": "code",
   "execution_count": 77,
   "metadata": {
    "ExecuteTime": {
     "end_time": "2019-06-05T01:58:57.190814Z",
     "start_time": "2019-06-05T01:58:57.184395Z"
    }
   },
   "outputs": [
    {
     "ename": "TypeError",
     "evalue": "'tuple' object doesn't support item deletion",
     "output_type": "error",
     "traceback": [
      "\u001b[0;31m---------------------------------------------------------------------------\u001b[0m",
      "\u001b[0;31mTypeError\u001b[0m                                 Traceback (most recent call last)",
      "\u001b[0;32m<ipython-input-77-a3d637d40e0a>\u001b[0m in \u001b[0;36m<module>\u001b[0;34m\u001b[0m\n\u001b[0;32m----> 1\u001b[0;31m \u001b[0;32mdel\u001b[0m \u001b[0ma_tuple\u001b[0m\u001b[0;34m[\u001b[0m\u001b[0;36m0\u001b[0m\u001b[0;34m]\u001b[0m\u001b[0;34m\u001b[0m\u001b[0;34m\u001b[0m\u001b[0m\n\u001b[0m",
      "\u001b[0;31mTypeError\u001b[0m: 'tuple' object doesn't support item deletion"
     ]
    }
   ],
   "source": [
    "del a_tuple[0]"
   ]
  },
  {
   "cell_type": "code",
   "execution_count": 78,
   "metadata": {
    "ExecuteTime": {
     "end_time": "2019-06-05T01:58:57.297649Z",
     "start_time": "2019-06-05T01:58:57.294033Z"
    }
   },
   "outputs": [
    {
     "data": {
      "text/plain": [
       "(1, 2, 3, 4, 5)"
      ]
     },
     "execution_count": 78,
     "metadata": {},
     "output_type": "execute_result"
    }
   ],
   "source": [
    "# 足し算はできる(.extendや.appendはできない)\n",
    "(1, 2, 3) + (4, 5)"
   ]
  },
  {
   "cell_type": "code",
   "execution_count": 79,
   "metadata": {
    "ExecuteTime": {
     "end_time": "2019-06-05T01:58:57.305217Z",
     "start_time": "2019-06-05T01:58:57.299532Z"
    }
   },
   "outputs": [
    {
     "data": {
      "text/plain": [
       "[1, 2, 3, 4, 5]"
      ]
     },
     "execution_count": 79,
     "metadata": {},
     "output_type": "execute_result"
    }
   ],
   "source": [
    "# sortedはタプルではなくリストを返すので注意(.sortはタプルにはない)\n",
    "sorted(a_tuple)"
   ]
  },
  {
   "cell_type": "code",
   "execution_count": 80,
   "metadata": {
    "ExecuteTime": {
     "end_time": "2019-06-05T01:58:57.372756Z",
     "start_time": "2019-06-05T01:58:57.369128Z"
    }
   },
   "outputs": [
    {
     "data": {
      "text/plain": [
       "(1, 2, 3, 4, 5, 1, 2, 3, 4, 5, 1, 2, 3, 4, 5)"
      ]
     },
     "execution_count": 80,
     "metadata": {},
     "output_type": "execute_result"
    }
   ],
   "source": [
    "# 繰り返し\n",
    "a_tuple * 3"
   ]
  },
  {
   "cell_type": "code",
   "execution_count": 81,
   "metadata": {
    "ExecuteTime": {
     "end_time": "2019-06-05T01:58:57.501654Z",
     "start_time": "2019-06-05T01:58:57.497521Z"
    }
   },
   "outputs": [
    {
     "data": {
      "text/plain": [
       "5"
      ]
     },
     "execution_count": 81,
     "metadata": {},
     "output_type": "execute_result"
    }
   ],
   "source": [
    "len(a_tuple)"
   ]
  },
  {
   "cell_type": "code",
   "execution_count": 82,
   "metadata": {
    "ExecuteTime": {
     "end_time": "2019-06-05T01:58:57.521208Z",
     "start_time": "2019-06-05T01:58:57.512567Z"
    }
   },
   "outputs": [
    {
     "name": "stdout",
     "output_type": "stream",
     "text": [
      "[1, 2, 3, 4, 5]\n",
      "(1, 2, 3, 4, 5)\n"
     ]
    }
   ],
   "source": [
    "a_list = list(a_tuple) # リスト化\n",
    "print(a_list)\n",
    "print(tuple(a_list)) # タプル化"
   ]
  },
  {
   "cell_type": "markdown",
   "metadata": {},
   "source": [
    "### 文字列"
   ]
  },
  {
   "cell_type": "code",
   "execution_count": 83,
   "metadata": {
    "ExecuteTime": {
     "end_time": "2019-06-05T01:58:57.788735Z",
     "start_time": "2019-06-05T01:58:57.785937Z"
    }
   },
   "outputs": [],
   "source": [
    "# \",' どちらでも大丈夫\n",
    "a_str = \"sanada\"\n",
    "b_str = 'sanada'"
   ]
  },
  {
   "cell_type": "code",
   "execution_count": 84,
   "metadata": {
    "ExecuteTime": {
     "end_time": "2019-06-05T01:58:57.866667Z",
     "start_time": "2019-06-05T01:58:57.863169Z"
    }
   },
   "outputs": [
    {
     "data": {
      "text/plain": [
       "\"I said 'Hey!'\""
      ]
     },
     "execution_count": 84,
     "metadata": {},
     "output_type": "execute_result"
    }
   ],
   "source": [
    "# 文字列の中でクォーテーションを使いたいときに便利\n",
    "\"I said 'Hey!'\""
   ]
  },
  {
   "cell_type": "code",
   "execution_count": 85,
   "metadata": {
    "ExecuteTime": {
     "end_time": "2019-06-05T01:58:57.946854Z",
     "start_time": "2019-06-05T01:58:57.943855Z"
    }
   },
   "outputs": [],
   "source": [
    "# 三連続で入れると、複数行の文字列を作成できる\n",
    "a_str_long = \"\"\"Good Morning,\n",
    "Good Afternoon,\n",
    "Good Night\n",
    "\"\"\""
   ]
  },
  {
   "cell_type": "code",
   "execution_count": 86,
   "metadata": {
    "ExecuteTime": {
     "end_time": "2019-06-05T01:58:58.031724Z",
     "start_time": "2019-06-05T01:58:58.028010Z"
    }
   },
   "outputs": [
    {
     "data": {
      "text/plain": [
       "'Good Morning,\\nGood Afternoon,\\nGood Night\\n'"
      ]
     },
     "execution_count": 86,
     "metadata": {},
     "output_type": "execute_result"
    }
   ],
   "source": [
    "a_str_long"
   ]
  },
  {
   "cell_type": "code",
   "execution_count": 87,
   "metadata": {
    "ExecuteTime": {
     "end_time": "2019-06-05T01:58:58.106766Z",
     "start_time": "2019-06-05T01:58:58.102747Z"
    }
   },
   "outputs": [
    {
     "name": "stdout",
     "output_type": "stream",
     "text": [
      "Good Morning,\n",
      "Good Afternoon,\n",
      "Good Night\n",
      "\n"
     ]
    }
   ],
   "source": [
    "print(a_str_long) # \\nは改行"
   ]
  },
  {
   "cell_type": "code",
   "execution_count": 88,
   "metadata": {
    "ExecuteTime": {
     "end_time": "2019-06-05T01:58:58.181238Z",
     "start_time": "2019-06-05T01:58:58.177977Z"
    }
   },
   "outputs": [
    {
     "name": "stdout",
     "output_type": "stream",
     "text": [
      "1\t2\t3\n"
     ]
    }
   ],
   "source": [
    "print(\"1\\t2\\t3\") # \\tはタブ"
   ]
  },
  {
   "cell_type": "code",
   "execution_count": 89,
   "metadata": {
    "ExecuteTime": {
     "end_time": "2019-06-05T01:58:58.260577Z",
     "start_time": "2019-06-05T01:58:58.257284Z"
    }
   },
   "outputs": [
    {
     "name": "stdout",
     "output_type": "stream",
     "text": [
      "C:\\User\\Sanada\\Documents\n"
     ]
    }
   ],
   "source": [
    "print(\"C:\\\\User\\\\Sanada\\\\Documents\") # バックスラッシュは\\\\"
   ]
  },
  {
   "cell_type": "code",
   "execution_count": 90,
   "metadata": {
    "ExecuteTime": {
     "end_time": "2019-06-05T01:58:58.339255Z",
     "start_time": "2019-06-05T01:58:58.334996Z"
    }
   },
   "outputs": [
    {
     "data": {
      "text/plain": [
       "'Takya'"
      ]
     },
     "execution_count": 90,
     "metadata": {},
     "output_type": "execute_result"
    }
   ],
   "source": [
    "\"Tokyo\".replace(\"o\", \"a\")"
   ]
  },
  {
   "cell_type": "code",
   "execution_count": 91,
   "metadata": {
    "ExecuteTime": {
     "end_time": "2019-06-05T01:58:58.429091Z",
     "start_time": "2019-06-05T01:58:58.425158Z"
    }
   },
   "outputs": [
    {
     "data": {
      "text/plain": [
       "'Numpy is Ruby library for math calculation in Ruby'"
      ]
     },
     "execution_count": 91,
     "metadata": {},
     "output_type": "execute_result"
    }
   ],
   "source": [
    "\"Numpy is Python library for math calculation in Python\".replace(\"Python\", \"Ruby\")"
   ]
  },
  {
   "cell_type": "markdown",
   "metadata": {},
   "source": [
    "複雑な内容であれば、正規表現ライブラリ(re)を使用したほうが良い。  \n",
    "正規表現については例えば[こちら](https://www.oreilly.co.jp/books/9784873113593/)が詳しい。  \n",
    "ウェブページであれば、入門的な内容としては[こちら](https://www.mnet.ne.jp/~nakama/)がわかりやすい。"
   ]
  },
  {
   "cell_type": "code",
   "execution_count": 92,
   "metadata": {
    "ExecuteTime": {
     "end_time": "2019-06-05T01:58:58.717108Z",
     "start_time": "2019-06-05T01:58:58.712657Z"
    }
   },
   "outputs": [
    {
     "data": {
      "text/plain": [
       "358"
      ]
     },
     "execution_count": 92,
     "metadata": {},
     "output_type": "execute_result"
    }
   ],
   "source": [
    "desc_python = \"Python is an easy to learn, powerful programming language.\" \\\n",
    "+ \"It has efficient high-level data structures and a simple \" \\\n",
    "+ \"but effective approach to object-oriented programming. \" \\\n",
    "+ \"Python’s elegant syntax and dynamic typing, together with \" \\\n",
    "+ \"its interpreted nature, make it an ideal language for scripting \" \\\n",
    "+ \"and rapid application development in many areas on most platforms.\"\n",
    "len(desc_python)"
   ]
  },
  {
   "cell_type": "code",
   "execution_count": 93,
   "metadata": {
    "ExecuteTime": {
     "end_time": "2019-06-05T01:58:58.800841Z",
     "start_time": "2019-06-05T01:58:58.796921Z"
    }
   },
   "outputs": [
    {
     "data": {
      "text/plain": [
       "True"
      ]
     },
     "execution_count": 93,
     "metadata": {},
     "output_type": "execute_result"
    }
   ],
   "source": [
    "desc_python.startswith(\"Python\")"
   ]
  },
  {
   "cell_type": "code",
   "execution_count": 94,
   "metadata": {
    "ExecuteTime": {
     "end_time": "2019-06-05T01:58:58.882246Z",
     "start_time": "2019-06-05T01:58:58.877637Z"
    }
   },
   "outputs": [
    {
     "data": {
      "text/plain": [
       "False"
      ]
     },
     "execution_count": 94,
     "metadata": {},
     "output_type": "execute_result"
    }
   ],
   "source": [
    "desc_python.endswith(\"!\")"
   ]
  },
  {
   "cell_type": "code",
   "execution_count": 95,
   "metadata": {
    "ExecuteTime": {
     "end_time": "2019-06-05T01:58:58.960882Z",
     "start_time": "2019-06-05T01:58:58.956824Z"
    }
   },
   "outputs": [
    {
     "data": {
      "text/plain": [
       "102"
      ]
     },
     "execution_count": 95,
     "metadata": {},
     "output_type": "execute_result"
    }
   ],
   "source": [
    "desc_python.find(\"and\")"
   ]
  },
  {
   "cell_type": "code",
   "execution_count": 96,
   "metadata": {
    "ExecuteTime": {
     "end_time": "2019-06-05T01:58:59.040800Z",
     "start_time": "2019-06-05T01:58:59.036762Z"
    }
   },
   "outputs": [
    {
     "data": {
      "text/plain": [
       "292"
      ]
     },
     "execution_count": 96,
     "metadata": {},
     "output_type": "execute_result"
    }
   ],
   "source": [
    "desc_python.rfind(\"and\")"
   ]
  },
  {
   "cell_type": "code",
   "execution_count": 97,
   "metadata": {
    "ExecuteTime": {
     "end_time": "2019-06-05T01:58:59.122389Z",
     "start_time": "2019-06-05T01:58:59.117922Z"
    }
   },
   "outputs": [
    {
     "data": {
      "text/plain": [
       "2"
      ]
     },
     "execution_count": 97,
     "metadata": {},
     "output_type": "execute_result"
    }
   ],
   "source": [
    "desc_python.count(\"Python\")"
   ]
  },
  {
   "cell_type": "code",
   "execution_count": 98,
   "metadata": {
    "ExecuteTime": {
     "end_time": "2019-06-05T01:58:59.205084Z",
     "start_time": "2019-06-05T01:58:59.200760Z"
    }
   },
   "outputs": [
    {
     "data": {
      "text/plain": [
       "False"
      ]
     },
     "execution_count": 98,
     "metadata": {},
     "output_type": "execute_result"
    }
   ],
   "source": [
    "desc_python.isalnum()"
   ]
  },
  {
   "cell_type": "code",
   "execution_count": 99,
   "metadata": {
    "ExecuteTime": {
     "end_time": "2019-06-05T01:58:59.282144Z",
     "start_time": "2019-06-05T01:58:59.278479Z"
    }
   },
   "outputs": [
    {
     "data": {
      "text/plain": [
       "True"
      ]
     },
     "execution_count": 99,
     "metadata": {},
     "output_type": "execute_result"
    }
   ],
   "source": [
    "\"1245\".isalnum()"
   ]
  },
  {
   "cell_type": "code",
   "execution_count": 100,
   "metadata": {
    "ExecuteTime": {
     "end_time": "2019-06-05T01:58:59.358694Z",
     "start_time": "2019-06-05T01:58:59.354545Z"
    }
   },
   "outputs": [
    {
     "data": {
      "text/plain": [
       "'sanada'"
      ]
     },
     "execution_count": 100,
     "metadata": {},
     "output_type": "execute_result"
    }
   ],
   "source": [
    "\"****sanada****\".strip(\"*\")"
   ]
  },
  {
   "cell_type": "code",
   "execution_count": 101,
   "metadata": {
    "ExecuteTime": {
     "end_time": "2019-06-05T01:58:59.442372Z",
     "start_time": "2019-06-05T01:58:59.438434Z"
    }
   },
   "outputs": [
    {
     "data": {
      "text/plain": [
       "'Sanada'"
      ]
     },
     "execution_count": 101,
     "metadata": {},
     "output_type": "execute_result"
    }
   ],
   "source": [
    "\"sanada\".capitalize() #　他, title, upper, lower, swapcaseなど"
   ]
  },
  {
   "cell_type": "code",
   "execution_count": 102,
   "metadata": {
    "ExecuteTime": {
     "end_time": "2019-06-05T01:58:59.524623Z",
     "start_time": "2019-06-05T01:58:59.520709Z"
    }
   },
   "outputs": [
    {
     "data": {
      "text/plain": [
       "'            sanada            '"
      ]
     },
     "execution_count": 102,
     "metadata": {},
     "output_type": "execute_result"
    }
   ],
   "source": [
    "\"sanada\".center(30) # 他, ljust, rjustなど"
   ]
  },
  {
   "cell_type": "code",
   "execution_count": 103,
   "metadata": {
    "ExecuteTime": {
     "end_time": "2019-06-05T01:58:59.602235Z",
     "start_time": "2019-06-05T01:58:59.598877Z"
    }
   },
   "outputs": [
    {
     "name": "stdout",
     "output_type": "stream",
     "text": [
      "s\n",
      "!\n"
     ]
    }
   ],
   "source": [
    "# 文字列はタプルに似ている\n",
    "a_str = \"sanada!\"\n",
    "print(a_str[0])\n",
    "print(a_str[-1])"
   ]
  },
  {
   "cell_type": "code",
   "execution_count": 104,
   "metadata": {
    "ExecuteTime": {
     "end_time": "2019-06-05T01:58:59.698669Z",
     "start_time": "2019-06-05T01:58:59.694323Z"
    }
   },
   "outputs": [
    {
     "data": {
      "text/plain": [
       "'!adanas'"
      ]
     },
     "execution_count": 104,
     "metadata": {},
     "output_type": "execute_result"
    }
   ],
   "source": [
    "# スライスもOK\n",
    "a_str[::-1]"
   ]
  },
  {
   "cell_type": "code",
   "execution_count": 105,
   "metadata": {
    "ExecuteTime": {
     "end_time": "2019-06-05T01:58:59.777920Z",
     "start_time": "2019-06-05T01:58:59.773750Z"
    }
   },
   "outputs": [
    {
     "data": {
      "text/plain": [
       "'a!'"
      ]
     },
     "execution_count": 105,
     "metadata": {},
     "output_type": "execute_result"
    }
   ],
   "source": [
    "a_str[-2:]"
   ]
  },
  {
   "cell_type": "code",
   "execution_count": 106,
   "metadata": {
    "ExecuteTime": {
     "end_time": "2019-06-05T01:58:59.857498Z",
     "start_time": "2019-06-05T01:58:59.853525Z"
    }
   },
   "outputs": [
    {
     "data": {
      "text/plain": [
       "''"
      ]
     },
     "execution_count": 106,
     "metadata": {},
     "output_type": "execute_result"
    }
   ],
   "source": [
    "a_str[100:120]"
   ]
  },
  {
   "cell_type": "code",
   "execution_count": 107,
   "metadata": {
    "ExecuteTime": {
     "end_time": "2019-06-05T01:58:59.936850Z",
     "start_time": "2019-06-05T01:58:59.933061Z"
    }
   },
   "outputs": [
    {
     "data": {
      "text/plain": [
       "''"
      ]
     },
     "execution_count": 107,
     "metadata": {},
     "output_type": "execute_result"
    }
   ],
   "source": [
    "a_str[-100:-90]"
   ]
  },
  {
   "cell_type": "code",
   "execution_count": 108,
   "metadata": {
    "ExecuteTime": {
     "end_time": "2019-06-05T01:59:00.018811Z",
     "start_time": "2019-06-05T01:59:00.012052Z"
    }
   },
   "outputs": [
    {
     "ename": "IndexError",
     "evalue": "string index out of range",
     "output_type": "error",
     "traceback": [
      "\u001b[0;31m---------------------------------------------------------------------------\u001b[0m",
      "\u001b[0;31mIndexError\u001b[0m                                Traceback (most recent call last)",
      "\u001b[0;32m<ipython-input-108-2464c6f67371>\u001b[0m in \u001b[0;36m<module>\u001b[0;34m\u001b[0m\n\u001b[0;32m----> 1\u001b[0;31m \u001b[0ma_str\u001b[0m\u001b[0;34m[\u001b[0m\u001b[0;36m100\u001b[0m\u001b[0;34m]\u001b[0m\u001b[0;34m\u001b[0m\u001b[0;34m\u001b[0m\u001b[0m\n\u001b[0m",
      "\u001b[0;31mIndexError\u001b[0m: string index out of range"
     ]
    }
   ],
   "source": [
    "a_str[100]"
   ]
  },
  {
   "cell_type": "code",
   "execution_count": 109,
   "metadata": {
    "ExecuteTime": {
     "end_time": "2019-06-05T01:59:00.133414Z",
     "start_time": "2019-06-05T01:59:00.126457Z"
    }
   },
   "outputs": [
    {
     "ename": "TypeError",
     "evalue": "'str' object does not support item assignment",
     "output_type": "error",
     "traceback": [
      "\u001b[0;31m---------------------------------------------------------------------------\u001b[0m",
      "\u001b[0;31mTypeError\u001b[0m                                 Traceback (most recent call last)",
      "\u001b[0;32m<ipython-input-109-56fe671742de>\u001b[0m in \u001b[0;36m<module>\u001b[0;34m\u001b[0m\n\u001b[0;32m----> 1\u001b[0;31m \u001b[0ma_str\u001b[0m\u001b[0;34m[\u001b[0m\u001b[0;36m0\u001b[0m\u001b[0;34m]\u001b[0m \u001b[0;34m=\u001b[0m \u001b[0;34m\"t\"\u001b[0m\u001b[0;34m\u001b[0m\u001b[0;34m\u001b[0m\u001b[0m\n\u001b[0m",
      "\u001b[0;31mTypeError\u001b[0m: 'str' object does not support item assignment"
     ]
    }
   ],
   "source": [
    "a_str[0] = \"t\""
   ]
  },
  {
   "cell_type": "code",
   "execution_count": 110,
   "metadata": {
    "ExecuteTime": {
     "end_time": "2019-06-05T01:59:00.243000Z",
     "start_time": "2019-06-05T01:59:00.239189Z"
    }
   },
   "outputs": [
    {
     "data": {
      "text/plain": [
       "'Sanada Akihiro'"
      ]
     },
     "execution_count": 110,
     "metadata": {},
     "output_type": "execute_result"
    }
   ],
   "source": [
    "\"Sanada\" + \" \" + \"Akihiro\""
   ]
  },
  {
   "cell_type": "code",
   "execution_count": 111,
   "metadata": {
    "ExecuteTime": {
     "end_time": "2019-06-05T01:59:00.258707Z",
     "start_time": "2019-06-05T01:59:00.254389Z"
    }
   },
   "outputs": [
    {
     "data": {
      "text/plain": [
       "'oita_ajimu_kunisaki'"
      ]
     },
     "execution_count": 111,
     "metadata": {},
     "output_type": "execute_result"
    }
   ],
   "source": [
    "# 文字列の操作\n",
    "\"_\".join([\"oita\", \"ajimu\", \"kunisaki\"])"
   ]
  },
  {
   "cell_type": "code",
   "execution_count": 112,
   "metadata": {
    "ExecuteTime": {
     "end_time": "2019-06-05T01:59:00.341517Z",
     "start_time": "2019-06-05T01:59:00.337461Z"
    }
   },
   "outputs": [
    {
     "data": {
      "text/plain": [
       "'1_2_3'"
      ]
     },
     "execution_count": 112,
     "metadata": {},
     "output_type": "execute_result"
    }
   ],
   "source": [
    "# 文字列の操作\n",
    "\"_\".join([\"1\", \"2\", \"3\"]) # 中身は文字列でないとダメ"
   ]
  },
  {
   "cell_type": "code",
   "execution_count": 113,
   "metadata": {
    "ExecuteTime": {
     "end_time": "2019-06-05T01:59:00.421351Z",
     "start_time": "2019-06-05T01:59:00.417542Z"
    }
   },
   "outputs": [
    {
     "data": {
      "text/plain": [
       "['oita', 'ajimu', 'kunisaki']"
      ]
     },
     "execution_count": 113,
     "metadata": {},
     "output_type": "execute_result"
    }
   ],
   "source": [
    "\"oita_ajimu_kunisaki\".split(\"_\") # _で分割"
   ]
  },
  {
   "cell_type": "code",
   "execution_count": 114,
   "metadata": {
    "ExecuteTime": {
     "end_time": "2019-06-05T01:59:00.500613Z",
     "start_time": "2019-06-05T01:59:00.496862Z"
    }
   },
   "outputs": [
    {
     "name": "stdout",
     "output_type": "stream",
     "text": [
      "a = 3.141592, b = sanada\n"
     ]
    }
   ],
   "source": [
    "# フォーマット\n",
    "a = 3.141592\n",
    "b = \"sanada\"\n",
    "print(f\"a = {a}, b = {b}\")"
   ]
  },
  {
   "cell_type": "code",
   "execution_count": 115,
   "metadata": {
    "ExecuteTime": {
     "end_time": "2019-06-05T01:59:00.582765Z",
     "start_time": "2019-06-05T01:59:00.578840Z"
    }
   },
   "outputs": [
    {
     "name": "stdout",
     "output_type": "stream",
     "text": [
      "a = 3.1416, b =     sanada\n",
      "a = 3.1416e+00, b = sanada****\n"
     ]
    }
   ],
   "source": [
    "print(f\"a = {a:.4f}, b = {b:>10}\") # 小数点以下4桁 / 右寄せ10文字\n",
    "print(f\"a = {a:.4e}, b = {b:*<10}\") #  4桁の指数表記 / 左寄せ10文字(*で埋める)"
   ]
  },
  {
   "cell_type": "code",
   "execution_count": 116,
   "metadata": {
    "ExecuteTime": {
     "end_time": "2019-06-05T01:59:00.668176Z",
     "start_time": "2019-06-05T01:59:00.664490Z"
    }
   },
   "outputs": [
    {
     "name": "stdout",
     "output_type": "stream",
     "text": [
      "a = 3.141592, b = sanada\n",
      "a = 314.16%, b =   sanada  \n",
      "a = 3.141592, b = sanada\n"
     ]
    }
   ],
   "source": [
    "print(\"a = {}, b = {}\".format(a, b)) # このような書き方もできる\n",
    "print(\"a = {:.2%}, b = {:^10}\".format(a, b)) # 書式設定\n",
    "print(\"a = {v1}, b = {v2}\".format(v1 = a, v2 = b)) # 名前をつけて代入できる"
   ]
  },
  {
   "cell_type": "markdown",
   "metadata": {},
   "source": [
    "### 辞書"
   ]
  },
  {
   "cell_type": "code",
   "execution_count": 117,
   "metadata": {
    "ExecuteTime": {
     "end_time": "2019-06-05T01:59:00.980507Z",
     "start_time": "2019-06-05T01:59:00.977744Z"
    }
   },
   "outputs": [],
   "source": [
    "fruit = {\"apple\": \"りんご\", \"orange\": \"オレンジ\", \"kiwifruit\": \"キウイ\"}"
   ]
  },
  {
   "cell_type": "code",
   "execution_count": 118,
   "metadata": {
    "ExecuteTime": {
     "end_time": "2019-06-05T01:59:01.058844Z",
     "start_time": "2019-06-05T01:59:01.055316Z"
    }
   },
   "outputs": [
    {
     "data": {
      "text/plain": [
       "'りんご'"
      ]
     },
     "execution_count": 118,
     "metadata": {},
     "output_type": "execute_result"
    }
   ],
   "source": [
    "fruit[\"apple\"]"
   ]
  },
  {
   "cell_type": "code",
   "execution_count": 119,
   "metadata": {
    "ExecuteTime": {
     "end_time": "2019-06-05T01:59:01.139397Z",
     "start_time": "2019-06-05T01:59:01.135357Z"
    }
   },
   "outputs": [
    {
     "data": {
      "text/plain": [
       "dict_keys(['apple', 'orange', 'kiwifruit'])"
      ]
     },
     "execution_count": 119,
     "metadata": {},
     "output_type": "execute_result"
    }
   ],
   "source": [
    "fruit.keys()"
   ]
  },
  {
   "cell_type": "code",
   "execution_count": 120,
   "metadata": {
    "ExecuteTime": {
     "end_time": "2019-06-05T01:59:01.219316Z",
     "start_time": "2019-06-05T01:59:01.215545Z"
    }
   },
   "outputs": [
    {
     "data": {
      "text/plain": [
       "dict_values(['りんご', 'オレンジ', 'キウイ'])"
      ]
     },
     "execution_count": 120,
     "metadata": {},
     "output_type": "execute_result"
    }
   ],
   "source": [
    "fruit.values()"
   ]
  },
  {
   "cell_type": "code",
   "execution_count": 121,
   "metadata": {
    "ExecuteTime": {
     "end_time": "2019-06-05T01:59:01.293442Z",
     "start_time": "2019-06-05T01:59:01.289577Z"
    }
   },
   "outputs": [
    {
     "data": {
      "text/plain": [
       "dict_items([('apple', 'りんご'), ('orange', 'オレンジ'), ('kiwifruit', 'キウイ')])"
      ]
     },
     "execution_count": 121,
     "metadata": {},
     "output_type": "execute_result"
    }
   ],
   "source": [
    "fruit.items()"
   ]
  },
  {
   "cell_type": "code",
   "execution_count": 122,
   "metadata": {
    "ExecuteTime": {
     "end_time": "2019-06-05T01:59:01.371134Z",
     "start_time": "2019-06-05T01:59:01.367287Z"
    }
   },
   "outputs": [
    {
     "data": {
      "text/plain": [
       "['apple', 'kiwifruit', 'orange']"
      ]
     },
     "execution_count": 122,
     "metadata": {},
     "output_type": "execute_result"
    }
   ],
   "source": [
    "sorted(fruit) # キーをソートする"
   ]
  },
  {
   "cell_type": "code",
   "execution_count": 123,
   "metadata": {
    "ExecuteTime": {
     "end_time": "2019-06-05T01:59:01.447972Z",
     "start_time": "2019-06-05T01:59:01.444348Z"
    }
   },
   "outputs": [
    {
     "data": {
      "text/plain": [
       "{}"
      ]
     },
     "execution_count": 123,
     "metadata": {},
     "output_type": "execute_result"
    }
   ],
   "source": [
    "emp_dict = {}\n",
    "emp_dict"
   ]
  },
  {
   "cell_type": "markdown",
   "metadata": {},
   "source": [
    "### セット"
   ]
  },
  {
   "cell_type": "code",
   "execution_count": 124,
   "metadata": {
    "ExecuteTime": {
     "end_time": "2019-06-05T01:59:01.760751Z",
     "start_time": "2019-06-05T01:59:01.758128Z"
    }
   },
   "outputs": [],
   "source": [
    "a_set = {\"tokuda\", \"sanada\", \"kanai\", \"morita\"}"
   ]
  },
  {
   "cell_type": "code",
   "execution_count": 125,
   "metadata": {
    "ExecuteTime": {
     "end_time": "2019-06-05T01:59:01.837453Z",
     "start_time": "2019-06-05T01:59:01.833839Z"
    }
   },
   "outputs": [
    {
     "data": {
      "text/plain": [
       "{'kanai', 'morita', 'sanada'}"
      ]
     },
     "execution_count": 125,
     "metadata": {},
     "output_type": "execute_result"
    }
   ],
   "source": [
    "a_set - {\"tokuda\"} # 差集合"
   ]
  },
  {
   "cell_type": "code",
   "execution_count": 126,
   "metadata": {
    "ExecuteTime": {
     "end_time": "2019-06-05T01:59:01.914992Z",
     "start_time": "2019-06-05T01:59:01.911139Z"
    }
   },
   "outputs": [
    {
     "data": {
      "text/plain": [
       "{'kanai', 'kashishita', 'morita', 'sanada', 'tokuda'}"
      ]
     },
     "execution_count": 126,
     "metadata": {},
     "output_type": "execute_result"
    }
   ],
   "source": [
    "a_set | {\"kashishita\"} # 和集合"
   ]
  },
  {
   "cell_type": "code",
   "execution_count": 127,
   "metadata": {
    "ExecuteTime": {
     "end_time": "2019-06-05T01:59:01.988981Z",
     "start_time": "2019-06-05T01:59:01.985357Z"
    }
   },
   "outputs": [
    {
     "data": {
      "text/plain": [
       "{'kanai'}"
      ]
     },
     "execution_count": 127,
     "metadata": {},
     "output_type": "execute_result"
    }
   ],
   "source": [
    "a_set & {\"kashishita\", \"kanai\"} # 積集合"
   ]
  },
  {
   "cell_type": "markdown",
   "metadata": {},
   "source": [
    "## 制御構文"
   ]
  },
  {
   "cell_type": "markdown",
   "metadata": {},
   "source": [
    "### if else"
   ]
  },
  {
   "cell_type": "code",
   "execution_count": 128,
   "metadata": {
    "ExecuteTime": {
     "end_time": "2019-06-05T01:59:02.551573Z",
     "start_time": "2019-06-05T01:59:02.548196Z"
    }
   },
   "outputs": [
    {
     "name": "stdout",
     "output_type": "stream",
     "text": [
      "bigger than 2\n"
     ]
    }
   ],
   "source": [
    "# if...else...\n",
    "x = 3\n",
    "if x > 2:\n",
    "    print(\"bigger than 2\")\n",
    "else:\n",
    "    print(\"same or less than 2\")"
   ]
  },
  {
   "cell_type": "code",
   "execution_count": 129,
   "metadata": {
    "ExecuteTime": {
     "end_time": "2019-06-05T01:59:02.638677Z",
     "start_time": "2019-06-05T01:59:02.635059Z"
    }
   },
   "outputs": [
    {
     "name": "stdout",
     "output_type": "stream",
     "text": [
      "bigger than 2\n"
     ]
    }
   ],
   "source": [
    "# if...elif...else\n",
    "x = 3\n",
    "if x > 2:\n",
    "    print(\"bigger than 2\")\n",
    "elif x == 2:\n",
    "    print(\"same as 2\")\n",
    "else:\n",
    "    print(\"less than 2\")"
   ]
  },
  {
   "cell_type": "code",
   "execution_count": 130,
   "metadata": {
    "ExecuteTime": {
     "end_time": "2019-06-05T01:59:02.727973Z",
     "start_time": "2019-06-05T01:59:02.724029Z"
    }
   },
   "outputs": [
    {
     "name": "stdout",
     "output_type": "stream",
     "text": [
      "bigger than 2\n"
     ]
    }
   ],
   "source": [
    "# if...elif...else (elif複数)\n",
    "x = 3\n",
    "if x > 2:\n",
    "    print(\"bigger than 2\")\n",
    "elif x == 2:\n",
    "    print(\"same as 2\")\n",
    "elif x == 1:\n",
    "    print(\"same as 1\")\n",
    "else:\n",
    "    print(\"less than 1\")"
   ]
  },
  {
   "cell_type": "markdown",
   "metadata": {},
   "source": [
    "ifやelifは if以降の真偽値をもとに判断している"
   ]
  },
  {
   "cell_type": "code",
   "execution_count": 131,
   "metadata": {
    "ExecuteTime": {
     "end_time": "2019-06-05T01:59:04.068632Z",
     "start_time": "2019-06-05T01:59:04.063889Z"
    }
   },
   "outputs": [
    {
     "data": {
      "text/plain": [
       "True"
      ]
     },
     "execution_count": 131,
     "metadata": {},
     "output_type": "execute_result"
    }
   ],
   "source": [
    "x = 3\n",
    "x > 2"
   ]
  },
  {
   "cell_type": "code",
   "execution_count": 132,
   "metadata": {
    "ExecuteTime": {
     "end_time": "2019-06-05T01:59:04.076956Z",
     "start_time": "2019-06-05T01:59:04.070736Z"
    }
   },
   "outputs": [
    {
     "data": {
      "text/plain": [
       "False"
      ]
     },
     "execution_count": 132,
     "metadata": {},
     "output_type": "execute_result"
    }
   ],
   "source": [
    "x < 2"
   ]
  },
  {
   "cell_type": "code",
   "execution_count": 133,
   "metadata": {
    "ExecuteTime": {
     "end_time": "2019-06-05T01:59:04.083316Z",
     "start_time": "2019-06-05T01:59:04.079285Z"
    }
   },
   "outputs": [
    {
     "data": {
      "text/plain": [
       "True"
      ]
     },
     "execution_count": 133,
     "metadata": {},
     "output_type": "execute_result"
    }
   ],
   "source": [
    "x > 2 and x > 1"
   ]
  },
  {
   "cell_type": "code",
   "execution_count": 134,
   "metadata": {
    "ExecuteTime": {
     "end_time": "2019-06-05T01:59:04.089162Z",
     "start_time": "2019-06-05T01:59:04.085633Z"
    }
   },
   "outputs": [
    {
     "data": {
      "text/plain": [
       "False"
      ]
     },
     "execution_count": 134,
     "metadata": {},
     "output_type": "execute_result"
    }
   ],
   "source": [
    "x < 2 or x < 1"
   ]
  },
  {
   "cell_type": "code",
   "execution_count": 135,
   "metadata": {
    "ExecuteTime": {
     "end_time": "2019-06-05T01:59:04.095339Z",
     "start_time": "2019-06-05T01:59:04.091132Z"
    }
   },
   "outputs": [
    {
     "data": {
      "text/plain": [
       "False"
      ]
     },
     "execution_count": 135,
     "metadata": {},
     "output_type": "execute_result"
    }
   ],
   "source": [
    "not(x > 2)"
   ]
  },
  {
   "cell_type": "code",
   "execution_count": 136,
   "metadata": {
    "ExecuteTime": {
     "end_time": "2019-06-05T01:59:04.099626Z",
     "start_time": "2019-06-05T01:59:04.097037Z"
    }
   },
   "outputs": [],
   "source": [
    "# 0, 空のリスト, 空のタプル、 空文字列. 空辞書, 空集合, nullはFalseとなる。それ以外はTrue。"
   ]
  },
  {
   "cell_type": "markdown",
   "metadata": {},
   "source": [
    "### for"
   ]
  },
  {
   "cell_type": "code",
   "execution_count": 137,
   "metadata": {
    "ExecuteTime": {
     "end_time": "2019-06-05T01:59:04.105855Z",
     "start_time": "2019-06-05T01:59:04.101819Z"
    }
   },
   "outputs": [
    {
     "name": "stdout",
     "output_type": "stream",
     "text": [
      "Mr.Sanada\n",
      "Mr.Tokuda\n",
      "Mr.Morita\n"
     ]
    }
   ],
   "source": [
    "# for\n",
    "for x in [\"Sanada\", \"Tokuda\", \"Morita\"]:\n",
    "    print(\"Mr.\" + x)"
   ]
  },
  {
   "cell_type": "code",
   "execution_count": 138,
   "metadata": {
    "ExecuteTime": {
     "end_time": "2019-06-05T01:59:04.112153Z",
     "start_time": "2019-06-05T01:59:04.108721Z"
    }
   },
   "outputs": [
    {
     "name": "stdout",
     "output_type": "stream",
     "text": [
      "0\n",
      "1\n",
      "2\n",
      "3\n",
      "4\n"
     ]
    }
   ],
   "source": [
    "# break(繰り返しをやめる)\n",
    "for x in range(10):\n",
    "    if x > 4:\n",
    "        break\n",
    "    print(x)"
   ]
  },
  {
   "cell_type": "code",
   "execution_count": 139,
   "metadata": {
    "ExecuteTime": {
     "end_time": "2019-06-05T01:59:04.120112Z",
     "start_time": "2019-06-05T01:59:04.114744Z"
    }
   },
   "outputs": [
    {
     "name": "stdout",
     "output_type": "stream",
     "text": [
      "0\n",
      "1\n",
      "2\n",
      "3\n",
      "5\n",
      "6\n",
      "7\n",
      "8\n",
      "9\n"
     ]
    }
   ],
   "source": [
    "# continue(その回をスキップ)\n",
    "for x in range(10):\n",
    "    if x == 4:\n",
    "        continue\n",
    "    print(x)"
   ]
  },
  {
   "cell_type": "code",
   "execution_count": 140,
   "metadata": {
    "ExecuteTime": {
     "end_time": "2019-06-05T01:59:04.129959Z",
     "start_time": "2019-06-05T01:59:04.124623Z"
    }
   },
   "outputs": [
    {
     "name": "stdout",
     "output_type": "stream",
     "text": [
      "[1, 'a']\n",
      "[1, 'b']\n",
      "[1, 'c']\n",
      "[2, 'a']\n",
      "[2, 'b']\n",
      "[2, 'c']\n",
      "[3, 'a']\n",
      "[3, 'b']\n",
      "[3, 'c']\n"
     ]
    }
   ],
   "source": [
    "# 入れ子にできる\n",
    "for x in [1, 2, 3]:\n",
    "    for y in [\"a\", \"b\", \"c\"]:\n",
    "        print([x, y])"
   ]
  },
  {
   "cell_type": "markdown",
   "metadata": {},
   "source": [
    "### while"
   ]
  },
  {
   "cell_type": "code",
   "execution_count": 141,
   "metadata": {
    "ExecuteTime": {
     "end_time": "2019-06-05T01:59:04.496151Z",
     "start_time": "2019-06-05T01:59:04.491994Z"
    }
   },
   "outputs": [
    {
     "name": "stdout",
     "output_type": "stream",
     "text": [
      "0\n",
      "1\n",
      "2\n",
      "3\n",
      "4\n"
     ]
    }
   ],
   "source": [
    "# while\n",
    "a = 0\n",
    "while a <5:\n",
    "    print(a)\n",
    "    a += 1"
   ]
  },
  {
   "cell_type": "markdown",
   "metadata": {},
   "source": [
    "### リスト内包"
   ]
  },
  {
   "cell_type": "markdown",
   "metadata": {},
   "source": [
    "大変便利な記法。多用することになるため、是非慣れていただきたい。"
   ]
  },
  {
   "cell_type": "code",
   "execution_count": 142,
   "metadata": {
    "ExecuteTime": {
     "end_time": "2019-06-05T01:59:05.104954Z",
     "start_time": "2019-06-05T01:59:05.100764Z"
    }
   },
   "outputs": [
    {
     "data": {
      "text/plain": [
       "[0, 1, 4]"
      ]
     },
     "execution_count": 142,
     "metadata": {},
     "output_type": "execute_result"
    }
   ],
   "source": [
    "[a**2 for a in [0,1,2]]"
   ]
  },
  {
   "cell_type": "code",
   "execution_count": 143,
   "metadata": {
    "ExecuteTime": {
     "end_time": "2019-06-05T01:59:05.188832Z",
     "start_time": "2019-06-05T01:59:05.184691Z"
    }
   },
   "outputs": [
    {
     "data": {
      "text/plain": [
       "[0, 1, 4]"
      ]
     },
     "execution_count": 143,
     "metadata": {},
     "output_type": "execute_result"
    }
   ],
   "source": [
    "# rangeを使用しても同じ\n",
    "[a**2 for a in range(3)]"
   ]
  },
  {
   "cell_type": "code",
   "execution_count": 144,
   "metadata": {
    "ExecuteTime": {
     "end_time": "2019-06-05T01:59:05.274484Z",
     "start_time": "2019-06-05T01:59:05.270087Z"
    }
   },
   "outputs": [
    {
     "data": {
      "text/plain": [
       "[1, 3, 5, 7, 9]"
      ]
     },
     "execution_count": 144,
     "metadata": {},
     "output_type": "execute_result"
    }
   ],
   "source": [
    "# ifだけ\n",
    "[a + 1 for a in range(10) if a % 2 == 0]"
   ]
  },
  {
   "cell_type": "code",
   "execution_count": 145,
   "metadata": {
    "ExecuteTime": {
     "end_time": "2019-06-05T01:59:05.360486Z",
     "start_time": "2019-06-05T01:59:05.355825Z"
    }
   },
   "outputs": [
    {
     "data": {
      "text/plain": [
       "[0, 'odd', 2, 'odd', 4, 'odd', 6, 'odd', 8, 'odd']"
      ]
     },
     "execution_count": 145,
     "metadata": {},
     "output_type": "execute_result"
    }
   ],
   "source": [
    "# if else\n",
    "[a if a % 2 == 0 else \"odd\" for a in range(10)]"
   ]
  },
  {
   "cell_type": "code",
   "execution_count": 146,
   "metadata": {
    "ExecuteTime": {
     "end_time": "2019-06-05T01:59:05.447210Z",
     "start_time": "2019-06-05T01:59:05.442625Z"
    }
   },
   "outputs": [
    {
     "data": {
      "text/plain": [
       "[[0], [0, 1], [0, 1, 2]]"
      ]
     },
     "execution_count": 146,
     "metadata": {},
     "output_type": "execute_result"
    }
   ],
   "source": [
    "# 入れ子にできる\n",
    "[[a for a in range(j)]\n",
    " for j in [1,2,3]]"
   ]
  },
  {
   "cell_type": "code",
   "execution_count": 147,
   "metadata": {
    "ExecuteTime": {
     "end_time": "2019-06-05T01:59:05.545985Z",
     "start_time": "2019-06-05T01:59:05.538570Z"
    }
   },
   "outputs": [
    {
     "data": {
      "text/plain": [
       "{'key0': 'value0',\n",
       " 'key1': 'value1',\n",
       " 'key2': 'value2',\n",
       " 'key3': 'value3',\n",
       " 'key4': 'value4',\n",
       " 'key5': 'value5',\n",
       " 'key6': 'value6',\n",
       " 'key7': 'value7',\n",
       " 'key8': 'value8',\n",
       " 'key9': 'value9'}"
      ]
     },
     "execution_count": 147,
     "metadata": {},
     "output_type": "execute_result"
    }
   ],
   "source": [
    "# 辞書もつくることができる\n",
    "{\"key\" + str(x):\"value\" + str(x) for x in range(10)}"
   ]
  },
  {
   "cell_type": "markdown",
   "metadata": {},
   "source": [
    "### 交換"
   ]
  },
  {
   "cell_type": "code",
   "execution_count": 148,
   "metadata": {
    "ExecuteTime": {
     "end_time": "2019-06-05T01:59:06.150150Z",
     "start_time": "2019-06-05T01:59:06.145410Z"
    }
   },
   "outputs": [
    {
     "name": "stdout",
     "output_type": "stream",
     "text": [
      "1\n",
      "2\n"
     ]
    }
   ],
   "source": [
    "# タプル展開\n",
    "x,y = (1, 2)\n",
    "print(x)\n",
    "print(y)"
   ]
  },
  {
   "cell_type": "code",
   "execution_count": 149,
   "metadata": {
    "ExecuteTime": {
     "end_time": "2019-06-05T01:59:06.241198Z",
     "start_time": "2019-06-05T01:59:06.236940Z"
    }
   },
   "outputs": [
    {
     "name": "stdout",
     "output_type": "stream",
     "text": [
      "1\n",
      "2\n"
     ]
    }
   ],
   "source": [
    "# 以下と同じ\n",
    "x,y = 1, 2\n",
    "print(x)\n",
    "print(y)"
   ]
  },
  {
   "cell_type": "code",
   "execution_count": 150,
   "metadata": {
    "ExecuteTime": {
     "end_time": "2019-06-05T01:59:06.319527Z",
     "start_time": "2019-06-05T01:59:06.315720Z"
    }
   },
   "outputs": [
    {
     "name": "stdout",
     "output_type": "stream",
     "text": [
      "2\n",
      "1\n"
     ]
    }
   ],
   "source": [
    "# 交換ができる\n",
    "x, y = y, x\n",
    "print(x)\n",
    "print(y)"
   ]
  },
  {
   "cell_type": "markdown",
   "metadata": {
    "ExecuteTime": {
     "end_time": "2019-06-04T07:55:20.255471Z",
     "start_time": "2019-06-04T07:55:20.252613Z"
    }
   },
   "source": [
    "### zip"
   ]
  },
  {
   "cell_type": "code",
   "execution_count": 151,
   "metadata": {
    "ExecuteTime": {
     "end_time": "2019-06-05T01:59:06.586394Z",
     "start_time": "2019-06-05T01:59:06.582933Z"
    }
   },
   "outputs": [
    {
     "name": "stdout",
     "output_type": "stream",
     "text": [
      "[(1, 'a'), (2, 'b'), (3, 'c')]\n"
     ]
    }
   ],
   "source": [
    "a = (1,2,3)\n",
    "b = (\"a\", \"b\", \"c\")\n",
    "c = list(zip(a,b))\n",
    "print(c)"
   ]
  },
  {
   "cell_type": "code",
   "execution_count": 152,
   "metadata": {
    "ExecuteTime": {
     "end_time": "2019-06-05T01:59:06.659762Z",
     "start_time": "2019-06-05T01:59:06.656487Z"
    }
   },
   "outputs": [
    {
     "name": "stdout",
     "output_type": "stream",
     "text": [
      "(1, 2, 3)\n",
      "('a', 'b', 'c')\n"
     ]
    }
   ],
   "source": [
    "a_2, b_2 = list(zip(*c)) # もとに戻す\n",
    "print(a_2)\n",
    "print(b_2)"
   ]
  },
  {
   "cell_type": "markdown",
   "metadata": {},
   "source": [
    "## 関数"
   ]
  },
  {
   "cell_type": "code",
   "execution_count": 153,
   "metadata": {
    "ExecuteTime": {
     "end_time": "2019-06-05T01:59:06.928443Z",
     "start_time": "2019-06-05T01:59:06.925470Z"
    }
   },
   "outputs": [],
   "source": [
    "def sum_one(x):\n",
    "    return x + 1"
   ]
  },
  {
   "cell_type": "code",
   "execution_count": 154,
   "metadata": {
    "ExecuteTime": {
     "end_time": "2019-06-05T01:59:07.003093Z",
     "start_time": "2019-06-05T01:59:06.999228Z"
    }
   },
   "outputs": [
    {
     "data": {
      "text/plain": [
       "43"
      ]
     },
     "execution_count": 154,
     "metadata": {},
     "output_type": "execute_result"
    }
   ],
   "source": [
    "sum_one(42)"
   ]
  },
  {
   "cell_type": "code",
   "execution_count": 155,
   "metadata": {
    "ExecuteTime": {
     "end_time": "2019-06-05T01:59:07.075744Z",
     "start_time": "2019-06-05T01:59:07.072781Z"
    }
   },
   "outputs": [],
   "source": [
    "def make_odd_list(n):\n",
    "    return [x for x in range(n) if x % 2 == 1]"
   ]
  },
  {
   "cell_type": "code",
   "execution_count": 156,
   "metadata": {
    "ExecuteTime": {
     "end_time": "2019-06-05T01:59:07.147998Z",
     "start_time": "2019-06-05T01:59:07.144006Z"
    }
   },
   "outputs": [
    {
     "data": {
      "text/plain": [
       "[1, 3, 5, 7, 9]"
      ]
     },
     "execution_count": 156,
     "metadata": {},
     "output_type": "execute_result"
    }
   ],
   "source": [
    "make_odd_list(10)"
   ]
  },
  {
   "cell_type": "markdown",
   "metadata": {},
   "source": [
    "練習問題: 1~nまでの和を求める関数, sum_to_n(n)をつくってみましょう"
   ]
  },
  {
   "cell_type": "markdown",
   "metadata": {
    "ExecuteTime": {
     "end_time": "2019-06-05T01:56:32.066611Z",
     "start_time": "2019-06-05T01:56:32.062454Z"
    }
   },
   "source": [
    "練習問題: n個のフィボナッチ数列fb(n)をリストとして返す関数fib(n)をつくってみましょう"
   ]
  },
  {
   "cell_type": "markdown",
   "metadata": {},
   "source": [
    "### ラムダ式"
   ]
  },
  {
   "cell_type": "code",
   "execution_count": 157,
   "metadata": {
    "ExecuteTime": {
     "end_time": "2019-06-05T01:59:07.769802Z",
     "start_time": "2019-06-05T01:59:07.765759Z"
    }
   },
   "outputs": [
    {
     "ename": "SyntaxError",
     "evalue": "invalid syntax (<ipython-input-157-df607986a07d>, line 2)",
     "output_type": "error",
     "traceback": [
      "\u001b[0;36m  File \u001b[0;32m\"<ipython-input-157-df607986a07d>\"\u001b[0;36m, line \u001b[0;32m2\u001b[0m\n\u001b[0;31m    make_even_list = lambda n: [x for x in range(n) if x % 2 == 0]k\u001b[0m\n\u001b[0m                                                                  ^\u001b[0m\n\u001b[0;31mSyntaxError\u001b[0m\u001b[0;31m:\u001b[0m invalid syntax\n"
     ]
    }
   ],
   "source": [
    "# 1行でかける。ちょっとした小さな関数をつくるときに便利\n",
    "make_even_list = lambda n: [x for x in range(n) if x % 2 == 0]k"
   ]
  },
  {
   "cell_type": "code",
   "execution_count": 158,
   "metadata": {
    "ExecuteTime": {
     "end_time": "2019-06-05T01:59:07.882466Z",
     "start_time": "2019-06-05T01:59:07.875552Z"
    }
   },
   "outputs": [
    {
     "ename": "NameError",
     "evalue": "name 'make_even_list' is not defined",
     "output_type": "error",
     "traceback": [
      "\u001b[0;31m---------------------------------------------------------------------------\u001b[0m",
      "\u001b[0;31mNameError\u001b[0m                                 Traceback (most recent call last)",
      "\u001b[0;32m<ipython-input-158-7c8d1cf90224>\u001b[0m in \u001b[0;36m<module>\u001b[0;34m\u001b[0m\n\u001b[0;32m----> 1\u001b[0;31m \u001b[0mmake_even_list\u001b[0m\u001b[0;34m(\u001b[0m\u001b[0;36m10\u001b[0m\u001b[0;34m)\u001b[0m\u001b[0;34m\u001b[0m\u001b[0;34m\u001b[0m\u001b[0m\n\u001b[0m",
      "\u001b[0;31mNameError\u001b[0m: name 'make_even_list' is not defined"
     ]
    }
   ],
   "source": [
    "make_even_list(10)"
   ]
  },
  {
   "cell_type": "code",
   "execution_count": 159,
   "metadata": {
    "ExecuteTime": {
     "end_time": "2019-06-05T01:59:07.988269Z",
     "start_time": "2019-06-05T01:59:07.985169Z"
    }
   },
   "outputs": [],
   "source": [
    "make_mult = lambda x, y: [x*y for x, y in zip(x,y)]"
   ]
  },
  {
   "cell_type": "code",
   "execution_count": 160,
   "metadata": {
    "ExecuteTime": {
     "end_time": "2019-06-05T01:59:07.997931Z",
     "start_time": "2019-06-05T01:59:07.990075Z"
    }
   },
   "outputs": [
    {
     "data": {
      "text/plain": [
       "[4, 10, 18]"
      ]
     },
     "execution_count": 160,
     "metadata": {},
     "output_type": "execute_result"
    }
   ],
   "source": [
    "make_mult((1,2,3), (4,5,6))"
   ]
  },
  {
   "cell_type": "markdown",
   "metadata": {},
   "source": [
    "練習問題 ラムダ式を用いて、文字列リストxと文字列リストyをつなぐ関数make_joined_listをつくってみましょう"
   ]
  },
  {
   "cell_type": "markdown",
   "metadata": {},
   "source": [
    "## クラス"
   ]
  },
  {
   "cell_type": "code",
   "execution_count": 161,
   "metadata": {
    "ExecuteTime": {
     "end_time": "2019-06-05T01:59:08.404421Z",
     "start_time": "2019-06-05T01:59:08.400676Z"
    }
   },
   "outputs": [],
   "source": [
    "class Person:\n",
    "    def __init__(self, height, weight):\n",
    "        self.height = height\n",
    "        self.weight = weight\n",
    "    \n",
    "    def BMI(self):\n",
    "        self.BMI = self.weight / (self.height ** 2)\n",
    "        return self.BMI"
   ]
  },
  {
   "cell_type": "code",
   "execution_count": 162,
   "metadata": {
    "ExecuteTime": {
     "end_time": "2019-06-05T01:59:08.472629Z",
     "start_time": "2019-06-05T01:59:08.469692Z"
    }
   },
   "outputs": [],
   "source": [
    "sanada = Person(1.65, 58)"
   ]
  },
  {
   "cell_type": "code",
   "execution_count": 163,
   "metadata": {
    "ExecuteTime": {
     "end_time": "2019-06-05T01:59:08.539990Z",
     "start_time": "2019-06-05T01:59:08.536362Z"
    }
   },
   "outputs": [
    {
     "data": {
      "text/plain": [
       "__main__.Person"
      ]
     },
     "execution_count": 163,
     "metadata": {},
     "output_type": "execute_result"
    }
   ],
   "source": [
    "type(sanada)"
   ]
  },
  {
   "cell_type": "code",
   "execution_count": 164,
   "metadata": {
    "ExecuteTime": {
     "end_time": "2019-06-05T01:59:08.609538Z",
     "start_time": "2019-06-05T01:59:08.605678Z"
    }
   },
   "outputs": [
    {
     "data": {
      "text/plain": [
       "21.30394857667585"
      ]
     },
     "execution_count": 164,
     "metadata": {},
     "output_type": "execute_result"
    }
   ],
   "source": [
    "sanada.BMI() #メソッド"
   ]
  },
  {
   "cell_type": "code",
   "execution_count": 165,
   "metadata": {
    "ExecuteTime": {
     "end_time": "2019-06-05T01:59:08.678816Z",
     "start_time": "2019-06-05T01:59:08.675037Z"
    }
   },
   "outputs": [
    {
     "data": {
      "text/plain": [
       "1.65"
      ]
     },
     "execution_count": 165,
     "metadata": {},
     "output_type": "execute_result"
    }
   ],
   "source": [
    "sanada.height # 属性(アトリビュート)"
   ]
  },
  {
   "cell_type": "code",
   "execution_count": 166,
   "metadata": {
    "ExecuteTime": {
     "end_time": "2019-06-05T01:59:08.748082Z",
     "start_time": "2019-06-05T01:59:08.744966Z"
    }
   },
   "outputs": [],
   "source": [
    "# 継承\n",
    "class Person2(Person):\n",
    "    def BMI_fat_line(self):\n",
    "        self.BMI_fat_line = 25  * (self.height ** 2)\n",
    "        return self.BMI_fat_line"
   ]
  },
  {
   "cell_type": "code",
   "execution_count": 167,
   "metadata": {
    "ExecuteTime": {
     "end_time": "2019-06-05T01:59:08.817952Z",
     "start_time": "2019-06-05T01:59:08.815019Z"
    }
   },
   "outputs": [],
   "source": [
    "sanada = Person2(1.65, 58)"
   ]
  },
  {
   "cell_type": "code",
   "execution_count": 168,
   "metadata": {
    "ExecuteTime": {
     "end_time": "2019-06-05T01:59:08.883743Z",
     "start_time": "2019-06-05T01:59:08.880126Z"
    }
   },
   "outputs": [
    {
     "data": {
      "text/plain": [
       "68.06249999999999"
      ]
     },
     "execution_count": 168,
     "metadata": {},
     "output_type": "execute_result"
    }
   ],
   "source": [
    "sanada.BMI_fat_line()"
   ]
  },
  {
   "cell_type": "code",
   "execution_count": 169,
   "metadata": {
    "ExecuteTime": {
     "end_time": "2019-06-05T01:59:08.949098Z",
     "start_time": "2019-06-05T01:59:08.945500Z"
    }
   },
   "outputs": [
    {
     "data": {
      "text/plain": [
       "21.30394857667585"
      ]
     },
     "execution_count": 169,
     "metadata": {},
     "output_type": "execute_result"
    }
   ],
   "source": [
    "sanada.BMI()"
   ]
  },
  {
   "cell_type": "code",
   "execution_count": 170,
   "metadata": {
    "ExecuteTime": {
     "end_time": "2019-06-05T01:59:09.019061Z",
     "start_time": "2019-06-05T01:59:09.015300Z"
    }
   },
   "outputs": [],
   "source": [
    "# 継承 その2\n",
    "class Person3(Person):\n",
    "    def __init__(self, height, weight, name):\n",
    "        super().__init__(height, weight) # 親クラス(Person)をsuperで呼べる\n",
    "        self.name = name\n",
    "    def call_name(self):\n",
    "        return f\"こんにちは、{self.name}さん。\""
   ]
  },
  {
   "cell_type": "code",
   "execution_count": 171,
   "metadata": {
    "ExecuteTime": {
     "end_time": "2019-06-05T01:59:09.086513Z",
     "start_time": "2019-06-05T01:59:09.083749Z"
    }
   },
   "outputs": [],
   "source": [
    "sanada = Person3(1.65, 58, \"Sanada\")"
   ]
  },
  {
   "cell_type": "code",
   "execution_count": 172,
   "metadata": {
    "ExecuteTime": {
     "end_time": "2019-06-05T01:59:09.155944Z",
     "start_time": "2019-06-05T01:59:09.152265Z"
    }
   },
   "outputs": [
    {
     "data": {
      "text/plain": [
       "'こんにちは、Sanadaさん。'"
      ]
     },
     "execution_count": 172,
     "metadata": {},
     "output_type": "execute_result"
    }
   ],
   "source": [
    "sanada.call_name()"
   ]
  },
  {
   "cell_type": "markdown",
   "metadata": {},
   "source": [
    "練習問題: 標準化を行うクラス、StandardScalerを作ってみましょう\n",
    "```\n",
    ">>> a = [1,0.5,2,4,5, -1]\n",
    ">>> b = [-2, 0.1, 0.5, 1.5, -4, 6] \n",
    ">>> sc = Standard_Scaler()\n",
    ">>> sc.fit(a)\n",
    ">>> sc.transform(b)\n",
    "[-1.9108217262270932,\n",
    " -0.8862960347180986,\n",
    " -0.6911482839544806,\n",
    " -0.20327890704543547,\n",
    " -2.8865604800451834,\n",
    " 1.9921332890452672]\n",
    "```"
   ]
  },
  {
   "cell_type": "markdown",
   "metadata": {},
   "source": [
    "練習問題2: StandardScalerを継承して、fit_transformメソッドを持つクラスStandardScaler2を作ってみましょう\n",
    "```\n",
    ">>> a = [1,0.5,2,4,5, -1]\n",
    ">>> b = [-2, 0.1, 0.5, 1.5, -4, 6] \n",
    ">>> sc = Standard_Scaler()\n",
    ">>> sc.fit_transform(a)\n",
    "[-0.44721359549995804,\n",
    " -0.6911482839544806,\n",
    " 0.04065578140908705,\n",
    " 1.016394535227177,\n",
    " 1.5042639121362222,\n",
    " -1.4229523493180483]\n",
    "```"
   ]
  },
  {
   "cell_type": "markdown",
   "metadata": {},
   "source": [
    "# (Optional) Numpy"
   ]
  },
  {
   "cell_type": "markdown",
   "metadata": {},
   "source": [
    "[こちら]()を参照"
   ]
  },
  {
   "cell_type": "code",
   "execution_count": 173,
   "metadata": {
    "ExecuteTime": {
     "end_time": "2019-06-05T01:59:10.142860Z",
     "start_time": "2019-06-05T01:59:10.139979Z"
    }
   },
   "outputs": [],
   "source": [
    "import numpy as np"
   ]
  },
  {
   "cell_type": "code",
   "execution_count": 174,
   "metadata": {
    "ExecuteTime": {
     "end_time": "2019-06-05T01:59:10.219920Z",
     "start_time": "2019-06-05T01:59:10.217443Z"
    }
   },
   "outputs": [],
   "source": [
    "# numpy quick tutorial"
   ]
  },
  {
   "cell_type": "markdown",
   "metadata": {},
   "source": [
    "# (Optional) Pandas"
   ]
  },
  {
   "cell_type": "markdown",
   "metadata": {},
   "source": [
    "[こちら]()を参照"
   ]
  },
  {
   "cell_type": "code",
   "execution_count": 175,
   "metadata": {
    "ExecuteTime": {
     "end_time": "2019-06-05T01:59:11.590656Z",
     "start_time": "2019-06-05T01:59:10.819031Z"
    }
   },
   "outputs": [],
   "source": [
    "import pandas as pd"
   ]
  },
  {
   "cell_type": "code",
   "execution_count": 176,
   "metadata": {
    "ExecuteTime": {
     "end_time": "2019-06-05T01:59:11.596142Z",
     "start_time": "2019-06-05T01:59:11.593569Z"
    }
   },
   "outputs": [],
   "source": [
    "# 10min pandas"
   ]
  },
  {
   "cell_type": "markdown",
   "metadata": {},
   "source": [
    "# (Optional) Matplotlib"
   ]
  },
  {
   "cell_type": "code",
   "execution_count": 177,
   "metadata": {
    "ExecuteTime": {
     "end_time": "2019-06-05T01:59:11.875555Z",
     "start_time": "2019-06-05T01:59:11.598704Z"
    }
   },
   "outputs": [],
   "source": [
    "import matplotlib.pyplot as plt\n",
    "%matplotlib inline\n",
    "plt.rcParams[\"font.family\"] = \"IPAGothic\" # 日本語フォントに変更"
   ]
  },
  {
   "cell_type": "code",
   "execution_count": 178,
   "metadata": {
    "ExecuteTime": {
     "end_time": "2019-06-05T01:59:12.038809Z",
     "start_time": "2019-06-05T01:59:11.877876Z"
    }
   },
   "outputs": [
    {
     "data": {
      "text/plain": [
       "Text(0.5, 1.0, 'グラフ')"
      ]
     },
     "execution_count": 178,
     "metadata": {},
     "output_type": "execute_result"
    },
    {
     "data": {
      "image/png": "[encoded data removed]",
      "text/plain": [
       "<Figure size 432x288 with 1 Axes>"
      ]
     },
     "metadata": {
      "needs_background": "light"
     },
     "output_type": "display_data"
    }
   ],
   "source": [
    "plt.plot(np.arange(10), np.arange(10) * 3 + 2)\n",
    "plt.xlabel(\"x\")\n",
    "plt.ylabel(\"y\")\n",
    "plt.title(\"グラフ\")\n",
    "\n",
    "# 散布図, マーカー, 線, 色, 重ねる, xlim, ylim, 太さ, alpha, legend, subplot\n",
    "# ファイル出力, 大きさ, fontサイズ, 棒グラフ, エラーバー, 面グラフ, 円グラフ, \n",
    "# 軸ラベルの回転, annotation, boxplot, バイオリンプロット, 2軸プロット, \n",
    "# テーマ"
   ]
  },
  {
   "cell_type": "code",
   "execution_count": 179,
   "metadata": {
    "ExecuteTime": {
     "end_time": "2019-06-05T01:59:12.196531Z",
     "start_time": "2019-06-05T01:59:12.040655Z"
    }
   },
   "outputs": [
    {
     "data": {
      "text/plain": [
       "Text(0, 0.5, 'y: 日本語')"
      ]
     },
     "execution_count": 179,
     "metadata": {},
     "output_type": "execute_result"
    },
    {
     "data": {
      "image/png": "[encoded data removed]",
      "text/plain": [
       "<Figure size 432x288 with 1 Axes>"
      ]
     },
     "metadata": {
      "needs_background": "light"
     },
     "output_type": "display_data"
    }
   ],
   "source": [
    "plt.plot(np.arange(10), np.arange(10) * 3 + 2)\n",
    "plt.xlabel(\"x\")\n",
    "plt.ylabel(\"y: 日本語\")"
   ]
  }
 ],
 "metadata": {
  "kernelspec": {
   "display_name": "Python 3",
   "language": "python",
   "name": "python3"
  },
  "language_info": {
   "codemirror_mode": {
    "name": "ipython",
    "version": 3
   },
   "file_extension": ".py",
   "mimetype": "text/x-python",
   "name": "python",
   "nbconvert_exporter": "python",
   "pygments_lexer": "ipython3",
   "version": "3.6.8"
  },
  "latex_envs": {
   "LaTeX_envs_menu_present": true,
   "autoclose": false,
   "autocomplete": true,
   "bibliofile": "biblio.bib",
   "cite_by": "apalike",
   "current_citInitial": 1,
   "eqLabelWithNumbers": true,
   "eqNumInitial": 1,
   "hotkeys": {
    "equation": "Ctrl-E",
    "itemize": "Ctrl-I"
   },
   "labels_anchors": false,
   "latex_user_defs": false,
   "report_style_numbering": false,
   "user_envs_cfg": false
  },
  "nbTranslate": {
   "displayLangs": [
    "*"
   ],
   "hotkey": "alt-t",
   "langInMainMenu": true,
   "sourceLang": "en",
   "targetLang": "fr",
   "useGoogleTranslate": true
  },
  "toc": {
   "base_numbering": 1,
   "nav_menu": {},
   "number_sections": true,
   "sideBar": true,
   "skip_h1_title": false,
   "title_cell": "Table of Contents",
   "title_sidebar": "Contents",
   "toc_cell": false,
   "toc_position": {},
   "toc_section_display": true,
   "toc_window_display": false
  }
 },
 "nbformat": 4,
 "nbformat_minor": 2
}
