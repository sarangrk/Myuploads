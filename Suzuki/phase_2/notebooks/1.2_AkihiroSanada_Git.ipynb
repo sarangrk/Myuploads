{
 "cells": [
  {
   "cell_type": "markdown",
   "metadata": {},
   "source": [
    "# Git & Github"
   ]
  },
  {
   "cell_type": "markdown",
   "metadata": {},
   "source": [
    "詳しい説明は、オンラインで読める[ProGit](https://git-scm.com/book/ja/v2)を参照のこと。  \n",
    "他、[サルでもわかるGit入門](https://backlog.com/ja/git-tutorial/)、[Attlasian Gitチュートリアル](https://ja.atlassian.com/git/tutorials)、[Udemy Git入門](https://www.udemy.com/intro_git/)もわかりやすい。"
   ]
  },
  {
   "cell_type": "markdown",
   "metadata": {},
   "source": [
    "## Gitを始める"
   ]
  },
  {
   "cell_type": "markdown",
   "metadata": {},
   "source": [
    "### インストール"
   ]
  },
  {
   "cell_type": "markdown",
   "metadata": {},
   "source": [
    "[こちら](https://git-scm.com/book/ja/v2/使い始める-Gitのインストール)を参照。MacOSXであればデフォルトで入っている。"
   ]
  },
  {
   "cell_type": "markdown",
   "metadata": {},
   "source": [
    "### 設定"
   ]
  },
  {
   "cell_type": "markdown",
   "metadata": {},
   "source": [
    "名前とメールアドレスを登録\n",
    "```sh\n",
    "git config --global user.name \"Akihiro Sanada\"\n",
    "git config --global user.email \"akihiro.sanada@teradata.com\"\n",
    "```"
   ]
  },
  {
   "cell_type": "markdown",
   "metadata": {},
   "source": [
    "設定一覧は下記のコマンドで見ることができる。\n",
    "```sh\n",
    "git config --list # 一覧\n",
    "git config user.name # 指定```"
   ]
  },
  {
   "cell_type": "markdown",
   "metadata": {},
   "source": [
    "#### (Optional)TeradataのPrivateレポジトリにアクセスするには(※[こちら](https://qiita.com/shizuma/items/2b2f873a0034839e47ce)と同じ内容)"
   ]
  },
  {
   "cell_type": "markdown",
   "metadata": {},
   "source": [
    "秘密鍵/公開鍵があるか確認。\n",
    "```sh\n",
    "ls ~/.ssh # id_rsaなどの名前がついたファイルがあるかどうか確認```\n",
    "\n",
    "> ない場合は作成。2回目/3回目のパスワードは入れても入れなくても良い。\n",
    "    ```sh\n",
    "    ssh-keygen -t rsa```\n",
    "    パスワードをつけた場合は、ついでにssh-addでパスワードを登録しておくと、毎回聞かれなくて楽。\n",
    "    ```sh\n",
    "    ssh-add <作成した秘密鍵のパス>```\n",
    "    ちなみに.pubがついていない方が秘密鍵で、.pubがついているのは公開鍵。"
   ]
  },
  {
   "cell_type": "markdown",
   "metadata": {
    "ExecuteTime": {
     "end_time": "2019-05-31T03:55:16.810686Z",
     "start_time": "2019-05-31T03:55:16.803305Z"
    }
   },
   "source": [
    "GitHubにsshの公開鍵(.pubの方)を登録する。\n",
    "> [こちら](https://github.com/settings/keys)にアクセス。\n",
    "\"Add SSH key\"を押す。titleは自分が分かる名前を自由につける。keyに~~.pubの中身を貼り付ける。\n",
    ">> - ~~.pubのクリップボードへのコピーは以下でできる。あとはペーストすればOK。\n",
    "```sh\n",
    "cat <作成した公開鍵のパス> > pbcopy```\n",
    "ちなみに`>`は左の出力を右の対象に上書きするコマンド。`cat`はファイルの中身を出力するコマンド。\n",
    "\n",
    "> 登録した公開鍵の横の、Enable SSO(Single Sign On)をクリック。Authorizeを押すと、組織(この場合はTeradata)のPrivateレポジトリにアクセスできるようになる。"
   ]
  },
  {
   "cell_type": "markdown",
   "metadata": {},
   "source": [
    "sshの設定。  \n",
    "```\n",
    "Host github github.com\n",
    "    HostName github.com\n",
    "    IdentityFile <秘密鍵のパス>\n",
    "    User git\n",
    "```  \n",
    "を`~/.ssh/config`ファイルに追記。"
   ]
  },
  {
   "cell_type": "markdown",
   "metadata": {},
   "source": [
    "githubに接続テスト。\n",
    "```sh\n",
    "ssh -T github```"
   ]
  },
  {
   "cell_type": "markdown",
   "metadata": {},
   "source": [
    "githubに接続するときに、基本的にsshを使用するように設定。以下を`~/.gitconfig`に追加。\n",
    "```\n",
    "[url \"github:\"]\n",
    "    InsteadOf = https://github.com/\n",
    "    InsteadOf = git@github.com:\n",
    "```"
   ]
  },
  {
   "cell_type": "markdown",
   "metadata": {},
   "source": [
    "## gitの全体像イメージ"
   ]
  },
  {
   "cell_type": "markdown",
   "metadata": {},
   "source": [
    "1. リモートレポジトリ(GitHubなど)をローカルにcloneして、\n",
    "2. 作業用ブランチ(add_func_1)を作成(branch/checkoutで)、\n",
    "3. 途中、他のブランチ(add_func_1_fix)を作成して作業したり、作業結果を反映させたり(merge)、\n",
    "4. 最新のmasterをGitHubから引っ張って更新したり(fetch/pull)して、\n",
    "5. 作業結果をGitHubにアップロード(push)、\n",
    "6. 作業結果をレビューしてもらい(pull request)、結果を反映(merge)\n",
    "\n",
    "ローカルでの作業時には(status, add/rm, commit, rebase, stash, diff, config)などのコマンドを使う"
   ]
  },
  {
   "cell_type": "markdown",
   "metadata": {},
   "source": [
    "![git_all_image](figures/git_material_figure.jpg)"
   ]
  },
  {
   "cell_type": "markdown",
   "metadata": {},
   "source": [
    "## clone"
   ]
  },
  {
   "cell_type": "markdown",
   "metadata": {},
   "source": [
    "リモートレポジトリ(GitHubやBitBucket, AWS CodeCommit, その他のサーバーなど)からレポジトリをコピーしてローカルPCに持ってくる。"
   ]
  },
  {
   "cell_type": "markdown",
   "metadata": {},
   "source": [
    "レポジトリのフォルダを入れたい場所に移動してから、\n",
    "```sh\n",
    "git clone <git@github.com:アカウント/ダウンロードしたいレポジトリ.git>```\n",
    "例えば、\n",
    "```sh\n",
    "git clone git@github.com:ThinkBigAnalytics/ds-japan.git```\n"
   ]
  },
  {
   "cell_type": "markdown",
   "metadata": {},
   "source": [
    "## status"
   ]
  },
  {
   "cell_type": "markdown",
   "metadata": {},
   "source": [
    "gitの状況を確認する。頻繁に打つコマンド。\n",
    "```sh\n",
    "git status```"
   ]
  },
  {
   "cell_type": "markdown",
   "metadata": {},
   "source": [
    "以下のような出力が出る\n",
    "```\n",
    "On branch master\n",
    "Changes to be committed:\n",
    "  (use \"git reset HEAD <file>...\" to unstage)\n",
    "\n",
    "    new file:   README\n",
    "\n",
    "Changes not staged for commit:\n",
    "  (use \"git add <file>...\" to update what will be committed)\n",
    "  (use \"git checkout -- <file>...\" to discard changes in working directory)\n",
    "  \n",
    "    modified:   CONTRIBUTING.md\n",
    "```\n",
    "\n",
    "- 上記では、今はmasterブランチにいて、READMEファイルの新規作成が\"ステージされている\"(コミット対象となり、コミットを待っている)状況。  \n",
    "- 一方、CONTRIBUTING.mdの変更は、まだステージされていない。コミットの対象にはならない。"
   ]
  },
  {
   "cell_type": "markdown",
   "metadata": {},
   "source": [
    "## add / rm"
   ]
  },
  {
   "cell_type": "markdown",
   "metadata": {},
   "source": [
    "次のコマンドで、変更/作成/削除をステージできる\n",
    "```sh\n",
    "git add CONTRIBUTING.md```\n",
    "\n",
    "まとめてステージすることも可能\n",
    "```sh\n",
    "git add . # 現在のフォルダ以下を再帰的に全部ステージ\n",
    "git add myfolder # myfolder以下を再帰的に全部ステージ\n",
    "git add *.py # 現在のフォルダ以下の.pyファイルを全てステージ\n",
    "git add myfolder/*.py # myfolder以下の.pyファイルを全てステージ\n",
    "```"
   ]
  },
  {
   "cell_type": "markdown",
   "metadata": {},
   "source": [
    "ステージされた変更等はrmでステージから外すことができる\n",
    "```sh\n",
    "git rm CONTRIBUTING.md```\n",
    "\n",
    "まとめてステージから外すことも可能\n",
    "```sh\n",
    "git rm . # 現在のフォルダ以下を再帰的に全部ステージ\n",
    "git rm myfolder # myfolder以下を再帰的に全部ステージ\n",
    "git rm *.py # 現在のフォルダ以下の.pyファイルを全てステージ\n",
    "git rm myfolder/*.py # myfolder以下の.pyファイルを全てステージ\n",
    "```"
   ]
  },
  {
   "cell_type": "markdown",
   "metadata": {},
   "source": [
    "## diff"
   ]
  },
  {
   "cell_type": "markdown",
   "metadata": {},
   "source": [
    "前回のcommitからの変更を見ることができる。"
   ]
  },
  {
   "cell_type": "markdown",
   "metadata": {},
   "source": [
    "```sh\n",
    "git diff # まだステージされていない変更を見る\n",
    "git diff --staged # ステージされた変更を見る\n",
    "```"
   ]
  },
  {
   "cell_type": "markdown",
   "metadata": {},
   "source": [
    "ちなみに、diffで使用するツールを変更したい場合は、git config --global core.editorではなくdiftoolsの設定を変更する必要がある。詳細は[こちら](https://stackoverflow.com/questions/6412516/configuring-diff-tool-with-gitconfig)を参照。"
   ]
  },
  {
   "cell_type": "markdown",
   "metadata": {},
   "source": [
    "## commit"
   ]
  },
  {
   "cell_type": "markdown",
   "metadata": {},
   "source": [
    "ステージされた変更等をコミットする。コミットされた変更は記録として残る。\n",
    "```sh\n",
    "git commit -m \"コミットのメッセージ。~~を追加、など\"```"
   ]
  },
  {
   "cell_type": "markdown",
   "metadata": {},
   "source": [
    "## reset"
   ]
  },
  {
   "cell_type": "markdown",
   "metadata": {},
   "source": [
    "過去のcommitをresetできる。"
   ]
  },
  {
   "cell_type": "markdown",
   "metadata": {},
   "source": [
    "```sh\n",
    "git reset # 何も指定しないと、直近のcommit(HEAD)またはadd/rm動作がリセットされる。\n",
    "git reset --hard HEAD # 直近のcommit(HEAD)をリセットする。\n",
    "git reset --hard <ハッシュ番号> # \n",
    "git reset --soft HEAD^ # ```"
   ]
  },
  {
   "cell_type": "markdown",
   "metadata": {},
   "source": [
    "## push"
   ]
  },
  {
   "cell_type": "markdown",
   "metadata": {},
   "source": [
    "ローカルのレポジトリをリモートレポジトリ(GitHubやBitBucket, CodeCommitなど)にアップロードする。"
   ]
  },
  {
   "cell_type": "code",
   "execution_count": null,
   "metadata": {},
   "outputs": [],
   "source": []
  },
  {
   "cell_type": "code",
   "execution_count": null,
   "metadata": {},
   "outputs": [],
   "source": []
  },
  {
   "cell_type": "code",
   "execution_count": null,
   "metadata": {},
   "outputs": [],
   "source": []
  },
  {
   "cell_type": "code",
   "execution_count": null,
   "metadata": {},
   "outputs": [],
   "source": []
  },
  {
   "cell_type": "code",
   "execution_count": null,
   "metadata": {},
   "outputs": [],
   "source": []
  },
  {
   "cell_type": "code",
   "execution_count": null,
   "metadata": {},
   "outputs": [],
   "source": []
  },
  {
   "cell_type": "markdown",
   "metadata": {},
   "source": [
    "## fetch / pull"
   ]
  },
  {
   "cell_type": "markdown",
   "metadata": {
    "ExecuteTime": {
     "end_time": "2019-05-31T07:02:35.253243Z",
     "start_time": "2019-05-31T07:02:35.242970Z"
    }
   },
   "source": [
    "リモートレポジトリの最新情報を取ってくるには\n",
    "```sh\n",
    "git fetch```"
   ]
  },
  {
   "cell_type": "markdown",
   "metadata": {
    "ExecuteTime": {
     "end_time": "2019-05-31T07:04:00.911160Z",
     "start_time": "2019-05-31T07:04:00.907069Z"
    }
   },
   "source": [
    "リモートのmasterブランチが更新されたとする。\n",
    "ローカルのmasterブランチにその更新を反映させるには、\n",
    "```sh\n",
    "git pull origin master```"
   ]
  },
  {
   "cell_type": "markdown",
   "metadata": {},
   "source": [
    "## branch / checkout"
   ]
  },
  {
   "cell_type": "markdown",
   "metadata": {},
   "source": [
    "branch一覧を見る  \n",
    "```sh\n",
    "git branch```\n",
    "\n",
    "\"add_func_1\"というbranchを作成するに切り替える\n",
    "```sh\n",
    "git branch add_func_1```\n",
    "\n",
    "add_func_1というbranchに切り替える\n",
    "```sh\n",
    "git checkout add_func_1```"
   ]
  },
  {
   "cell_type": "markdown",
   "metadata": {},
   "source": [
    "## stash"
   ]
  },
  {
   "cell_type": "markdown",
   "metadata": {},
   "source": [
    "一時的に、今のブランチの変更内容等を退避させたいときがしばしば発生する。その際に使えるのがstashコマンド。\n",
    "```sh\n",
    "git stash```\n",
    "\n",
    "で現在の作業内容を避難させることができる。避難させたstash一覧は次のようにして確認する。\n",
    "```sh\n",
    "git stash ```\n",
    "\n",
    "避難させると前回のcommitの状態に戻る。\n",
    "\n",
    "避難させた内容を復活させるには、\n",
    "```sh\n",
    "git stash```"
   ]
  },
  {
   "cell_type": "markdown",
   "metadata": {},
   "source": [
    "## merge"
   ]
  },
  {
   "cell_type": "code",
   "execution_count": null,
   "metadata": {},
   "outputs": [],
   "source": [
    "# mergeの基本"
   ]
  },
  {
   "cell_type": "code",
   "execution_count": null,
   "metadata": {},
   "outputs": [],
   "source": [
    "# mergeの概念"
   ]
  },
  {
   "cell_type": "code",
   "execution_count": null,
   "metadata": {},
   "outputs": [],
   "source": [
    "# conflictの解消"
   ]
  },
  {
   "cell_type": "code",
   "execution_count": null,
   "metadata": {},
   "outputs": [],
   "source": []
  },
  {
   "cell_type": "markdown",
   "metadata": {},
   "source": [
    "## rebase"
   ]
  },
  {
   "cell_type": "markdown",
   "metadata": {},
   "source": [
    "ローカルで作業をしているときに、masterが変更されることがよくある。  \n",
    "そうしたときに便利なのがrebaseである。\n",
    "```sh\n",
    "git rebase master add_func_1```"
   ]
  },
  {
   "cell_type": "code",
   "execution_count": null,
   "metadata": {},
   "outputs": [],
   "source": [
    "# rebaseの説明"
   ]
  },
  {
   "cell_type": "code",
   "execution_count": null,
   "metadata": {},
   "outputs": [],
   "source": []
  },
  {
   "cell_type": "code",
   "execution_count": null,
   "metadata": {},
   "outputs": [],
   "source": []
  },
  {
   "cell_type": "markdown",
   "metadata": {},
   "source": [
    "注意点としては、既にローカルにpushしてしまったブランチについては、混乱が生まれるため、後からrebaseするべきではない。mergeで対応しよう。"
   ]
  },
  {
   "cell_type": "markdown",
   "metadata": {},
   "source": [
    "## pull request機能"
   ]
  },
  {
   "cell_type": "markdown",
   "metadata": {},
   "source": [
    "これは利用するサービスによってやり方が異なる。現在はGitHub, BitBucket, CodeCommitともにpull requestに類する機能があるが、昔はCodeCommitはpull requestがなかったりした。"
   ]
  },
  {
   "cell_type": "markdown",
   "metadata": {},
   "source": [
    "以下ではGitHubのpull request機能について概説する"
   ]
  },
  {
   "cell_type": "markdown",
   "metadata": {},
   "source": [
    "- pull requestを出したいbranch(下図ではgpuブランチ)に移動して、\"new pull request\"ボタンを押す"
   ]
  },
  {
   "cell_type": "markdown",
   "metadata": {},
   "source": [
    "![new_pullreq](figures/20190531_push_new_pullrequest.png)"
   ]
  },
  {
   "cell_type": "markdown",
   "metadata": {},
   "source": [
    "- コメントを書いて(変更点など)、\"create pull request\"ボタンを押す。\n",
    "    - コメントはmarkdownに対応している。絵文字も使える。\n",
    "- ReviewersやAssigneesを設定できる。\n",
    "    - コードのレビューしてほしい人を、Reviewersに指定する。指定された人にはメールがGitHubから届く。"
   ]
  },
  {
   "cell_type": "markdown",
   "metadata": {},
   "source": [
    "![push_pullreq](figures/20190531_open_pullrequest.png)"
   ]
  },
  {
   "cell_type": "markdown",
   "metadata": {},
   "source": [
    "- 掲示板のようなフォーマットでディスカッションができる。mergeして良いという判断が下されたら、\"merge\"ボタンを押してmergeする。\n",
    "- mergeされたブランチはもう必要ないので、タイミングをみて削除しておく。"
   ]
  },
  {
   "cell_type": "markdown",
   "metadata": {},
   "source": [
    "![discussion](figures/20190531_pullrequest_discussion.png)"
   ]
  },
  {
   "cell_type": "markdown",
   "metadata": {},
   "source": [
    "conflictが発生している場合は、mergeのときと同様、mergeしたいbranchを編集してconflictを解消する必要がある。  \n",
    "ローカルで編集してからpushで再度アップロードしてもよいし、web上で編集(resolve conflictボタンを押す)しても良い。"
   ]
  },
  {
   "cell_type": "markdown",
   "metadata": {},
   "source": [
    "## その他"
   ]
  },
  {
   "cell_type": "markdown",
   "metadata": {},
   "source": [
    "### ブランチ名をbashに表示させたい"
   ]
  },
  {
   "cell_type": "code",
   "execution_count": null,
   "metadata": {},
   "outputs": [],
   "source": []
  },
  {
   "cell_type": "markdown",
   "metadata": {},
   "source": [
    "### VSCodeが使いたい場合"
   ]
  },
  {
   "cell_type": "markdown",
   "metadata": {
    "ExecuteTime": {
     "end_time": "2019-05-31T07:38:28.769006Z",
     "start_time": "2019-05-31T07:38:28.764959Z"
    }
   },
   "source": [
    "vscodeが使いたい場合は、以下で使える。\n",
    "```sh\n",
    "git config --global core.editor 'code --wait' # core editorをvscodeに変更\n",
    "```\n"
   ]
  },
  {
   "cell_type": "markdown",
   "metadata": {},
   "source": [
    "diffでも使いたい場合は、`~/.gitconfig`ファイルに以下を追記してから、\n",
    "```\n",
    "[diff]\n",
    "    tool = vscode\n",
    "[difftool \"vscode\"]\n",
    "    cmd = code --wait --diff $LOCAL $REMOTE\n",
    "```\n",
    "\n",
    "次のように叩く\n",
    "```sh\n",
    "git difftool```"
   ]
  },
  {
   "cell_type": "code",
   "execution_count": null,
   "metadata": {},
   "outputs": [],
   "source": []
  }
 ],
 "metadata": {
  "kernelspec": {
   "display_name": "Python 3",
   "language": "python",
   "name": "python3"
  },
  "language_info": {
   "codemirror_mode": {
    "name": "ipython",
    "version": 3
   },
   "file_extension": ".py",
   "mimetype": "text/x-python",
   "name": "python",
   "nbconvert_exporter": "python",
   "pygments_lexer": "ipython3",
   "version": "3.6.8"
  },
  "latex_envs": {
   "LaTeX_envs_menu_present": true,
   "autoclose": false,
   "autocomplete": true,
   "bibliofile": "biblio.bib",
   "cite_by": "apalike",
   "current_citInitial": 1,
   "eqLabelWithNumbers": true,
   "eqNumInitial": 1,
   "hotkeys": {
    "equation": "Ctrl-E",
    "itemize": "Ctrl-I"
   },
   "labels_anchors": false,
   "latex_user_defs": false,
   "report_style_numbering": false,
   "user_envs_cfg": false
  },
  "nbTranslate": {
   "displayLangs": [
    "*"
   ],
   "hotkey": "alt-t",
   "langInMainMenu": true,
   "sourceLang": "en",
   "targetLang": "fr",
   "useGoogleTranslate": true
  },
  "toc": {
   "base_numbering": 1,
   "nav_menu": {},
   "number_sections": true,
   "sideBar": true,
   "skip_h1_title": false,
   "title_cell": "Table of Contents",
   "title_sidebar": "Contents",
   "toc_cell": false,
   "toc_position": {},
   "toc_section_display": true,
   "toc_window_display": false
  }
 },
 "nbformat": 4,
 "nbformat_minor": 2
}
