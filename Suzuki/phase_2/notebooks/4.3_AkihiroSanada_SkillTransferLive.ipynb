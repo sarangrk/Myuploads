{
 "cells": [
  {
   "cell_type": "code",
   "execution_count": 7,
   "metadata": {
    "ExecuteTime": {
     "end_time": "2019-06-25T06:38:43.234871Z",
     "start_time": "2019-06-25T06:38:43.231993Z"
    }
   },
   "outputs": [],
   "source": [
    "import pandas as pd"
   ]
  },
  {
   "cell_type": "code",
   "execution_count": 9,
   "metadata": {
    "ExecuteTime": {
     "end_time": "2019-06-25T06:38:55.122644Z",
     "start_time": "2019-06-25T06:38:50.091413Z"
    }
   },
   "outputs": [],
   "source": [
    "warranty = pd.read_feather(\"dbhaa_random_500_000.feather\")\n",
    "fcok = pd.read_feather(\"tbhaa_random_500_000.feather\")"
   ]
  },
  {
   "cell_type": "code",
   "execution_count": 10,
   "metadata": {
    "ExecuteTime": {
     "end_time": "2019-06-25T06:39:40.367811Z",
     "start_time": "2019-06-25T06:39:40.363324Z"
    }
   },
   "outputs": [
    {
     "data": {
      "text/plain": [
       "(500000, 48)"
      ]
     },
     "execution_count": 10,
     "metadata": {},
     "output_type": "execute_result"
    }
   ],
   "source": [
    "warranty.shape"
   ]
  },
  {
   "cell_type": "code",
   "execution_count": 11,
   "metadata": {
    "ExecuteTime": {
     "end_time": "2019-06-25T06:39:40.888489Z",
     "start_time": "2019-06-25T06:39:40.884304Z"
    }
   },
   "outputs": [
    {
     "data": {
      "text/plain": [
       "(500000, 27)"
      ]
     },
     "execution_count": 11,
     "metadata": {},
     "output_type": "execute_result"
    }
   ],
   "source": [
    "fcok.shape"
   ]
  },
  {
   "cell_type": "code",
   "execution_count": 13,
   "metadata": {
    "ExecuteTime": {
     "end_time": "2019-06-25T06:41:17.465043Z",
     "start_time": "2019-06-25T06:41:17.461794Z"
    }
   },
   "outputs": [],
   "source": [
    "pd.set_option(\"display.max_columns\", 1000)"
   ]
  },
  {
   "cell_type": "code",
   "execution_count": 14,
   "metadata": {
    "ExecuteTime": {
     "end_time": "2019-06-25T06:41:51.547282Z",
     "start_time": "2019-06-25T06:41:51.498034Z"
    }
   },
   "outputs": [
    {
     "data": {
      "text/html": [
       "<div>\n",
       "<style scoped>\n",
       "    .dataframe tbody tr th:only-of-type {\n",
       "        vertical-align: middle;\n",
       "    }\n",
       "\n",
       "    .dataframe tbody tr th {\n",
       "        vertical-align: top;\n",
       "    }\n",
       "\n",
       "    .dataframe thead th {\n",
       "        text-align: right;\n",
       "    }\n",
       "</style>\n",
       "<table border=\"1\" class=\"dataframe\">\n",
       "  <thead>\n",
       "    <tr style=\"text-align: right;\">\n",
       "      <th></th>\n",
       "      <th>W_KEY</th>\n",
       "      <th>W_BASE_CD</th>\n",
       "      <th>W_PROD_BASE_CD</th>\n",
       "      <th>W_FIELD_CLAIM_DIV</th>\n",
       "      <th>W_PROD_DIV</th>\n",
       "      <th>W_DMEX_DIV</th>\n",
       "      <th>W_PROCESS_MONTH</th>\n",
       "      <th>W_DIST_CD</th>\n",
       "      <th>W_DIST_COUNTRY_CD</th>\n",
       "      <th>W_DIST_ISSUE_NO</th>\n",
       "      <th>W_SHOP_DIV</th>\n",
       "      <th>W_SHOP_CD</th>\n",
       "      <th>W_DIV1</th>\n",
       "      <th>W_DIV2</th>\n",
       "      <th>W_DIV3</th>\n",
       "      <th>W_FIXED_DIV</th>\n",
       "      <th>W_MINUS_DIV</th>\n",
       "      <th>W_SRC_DIV</th>\n",
       "      <th>W_SRC_KEY</th>\n",
       "      <th>W_VIN</th>\n",
       "      <th>W_FCOK</th>\n",
       "      <th>W_PROD_MODEL_CD</th>\n",
       "      <th>W_SALES_DATE</th>\n",
       "      <th>W_FAILURE_DATE</th>\n",
       "      <th>W_MILEAGE_DIV</th>\n",
       "      <th>W_MILEAGE</th>\n",
       "      <th>W_CAUSAL_PART_NO</th>\n",
       "      <th>W_TROUBLE_CC</th>\n",
       "      <th>W_TROUBLE_CP</th>\n",
       "      <th>W_TROUBLE_DF</th>\n",
       "      <th>W_TROUBLE_MP</th>\n",
       "      <th>W_DTC_1</th>\n",
       "      <th>W_DTC_2</th>\n",
       "      <th>W_OPERATION_CD</th>\n",
       "      <th>W_PARTS_AMT</th>\n",
       "      <th>W_LABOR_HOUR</th>\n",
       "      <th>W_LABOR_AMT</th>\n",
       "      <th>W_SUBLET_HOUR</th>\n",
       "      <th>W_SUBLET_AMT</th>\n",
       "      <th>W_SHIPPING_AMT</th>\n",
       "      <th>W_TOTAL_AMT</th>\n",
       "      <th>W_CFC_COMPANY_CD</th>\n",
       "      <th>W_CFC_RATE</th>\n",
       "      <th>W_CFC_AMT</th>\n",
       "      <th>W_FC_TO_FAILURE</th>\n",
       "      <th>W_SALES_TO_FAILURE</th>\n",
       "      <th>W_SB_NO</th>\n",
       "      <th>W_CRT_TIME_STAMP</th>\n",
       "    </tr>\n",
       "  </thead>\n",
       "  <tbody>\n",
       "    <tr>\n",
       "      <th>0</th>\n",
       "      <td>WRATJP200903B000627</td>\n",
       "      <td>100100</td>\n",
       "      <td>100100</td>\n",
       "      <td>1</td>\n",
       "      <td>B</td>\n",
       "      <td>1</td>\n",
       "      <td>200903</td>\n",
       "      <td>3312B</td>\n",
       "      <td>AT</td>\n",
       "      <td>I113545A</td>\n",
       "      <td>1</td>\n",
       "      <td>None</td>\n",
       "      <td>None</td>\n",
       "      <td>0</td>\n",
       "      <td>0</td>\n",
       "      <td>1</td>\n",
       "      <td>1</td>\n",
       "      <td>1</td>\n",
       "      <td>2009033312BI113545A</td>\n",
       "      <td>JSAJTD44V00221509</td>\n",
       "      <td>20070201</td>\n",
       "      <td>YT4C3</td>\n",
       "      <td>20070927</td>\n",
       "      <td>20090109</td>\n",
       "      <td>K</td>\n",
       "      <td>3309</td>\n",
       "      <td>13400-67JG0</td>\n",
       "      <td>None</td>\n",
       "      <td>07</td>\n",
       "      <td>36</td>\n",
       "      <td>None</td>\n",
       "      <td>None</td>\n",
       "      <td>None</td>\n",
       "      <td>DJ06R1</td>\n",
       "      <td>20365.0</td>\n",
       "      <td>0.6</td>\n",
       "      <td>4637.0</td>\n",
       "      <td>0.0</td>\n",
       "      <td>0.0</td>\n",
       "      <td>6108.0</td>\n",
       "      <td>31110.0</td>\n",
       "      <td>XY78</td>\n",
       "      <td>0</td>\n",
       "      <td>0.0</td>\n",
       "      <td>23</td>\n",
       "      <td>16</td>\n",
       "      <td>None</td>\n",
       "      <td>17-06-19 08:40:14.044594000</td>\n",
       "    </tr>\n",
       "    <tr>\n",
       "      <th>1</th>\n",
       "      <td>WRITJP200808B000995</td>\n",
       "      <td>100100</td>\n",
       "      <td>100100</td>\n",
       "      <td>1</td>\n",
       "      <td>B</td>\n",
       "      <td>1</td>\n",
       "      <td>200808</td>\n",
       "      <td>3253B</td>\n",
       "      <td>IT</td>\n",
       "      <td>87018800</td>\n",
       "      <td>1</td>\n",
       "      <td>None</td>\n",
       "      <td>None</td>\n",
       "      <td>0</td>\n",
       "      <td>0</td>\n",
       "      <td>1</td>\n",
       "      <td>1</td>\n",
       "      <td>1</td>\n",
       "      <td>2008083253B87018800</td>\n",
       "      <td>JSAFJB43V00340826</td>\n",
       "      <td>20070701</td>\n",
       "      <td>YR7K6</td>\n",
       "      <td>20080219</td>\n",
       "      <td>20080702</td>\n",
       "      <td>K</td>\n",
       "      <td>2570</td>\n",
       "      <td>37400-76J40</td>\n",
       "      <td>None</td>\n",
       "      <td>05</td>\n",
       "      <td>29</td>\n",
       "      <td>None</td>\n",
       "      <td>None</td>\n",
       "      <td>None</td>\n",
       "      <td>SM11R0</td>\n",
       "      <td>10080.0</td>\n",
       "      <td>0.6</td>\n",
       "      <td>2723.0</td>\n",
       "      <td>0.0</td>\n",
       "      <td>0.0</td>\n",
       "      <td>3024.0</td>\n",
       "      <td>15827.0</td>\n",
       "      <td>3825</td>\n",
       "      <td>52</td>\n",
       "      <td>6001.0</td>\n",
       "      <td>12</td>\n",
       "      <td>5</td>\n",
       "      <td>None</td>\n",
       "      <td>17-06-19 08:09:43.978131000</td>\n",
       "    </tr>\n",
       "    <tr>\n",
       "      <th>2</th>\n",
       "      <td>WRUSJP201501A000126</td>\n",
       "      <td>100100</td>\n",
       "      <td>100100</td>\n",
       "      <td>2</td>\n",
       "      <td>A</td>\n",
       "      <td>1</td>\n",
       "      <td>201501</td>\n",
       "      <td>1013A</td>\n",
       "      <td>US</td>\n",
       "      <td>2A4001X6</td>\n",
       "      <td>1</td>\n",
       "      <td>None</td>\n",
       "      <td>None</td>\n",
       "      <td>2</td>\n",
       "      <td>0</td>\n",
       "      <td>1</td>\n",
       "      <td>1</td>\n",
       "      <td>1</td>\n",
       "      <td>2015011013A2A4001X6</td>\n",
       "      <td>JS1GR7MA8C2100592</td>\n",
       "      <td>20120201</td>\n",
       "      <td>XD512</td>\n",
       "      <td>20120527</td>\n",
       "      <td>20150103</td>\n",
       "      <td>K</td>\n",
       "      <td>35193</td>\n",
       "      <td>61400-44810-RX0</td>\n",
       "      <td>None</td>\n",
       "      <td>99</td>\n",
       "      <td>WV</td>\n",
       "      <td>None</td>\n",
       "      <td>None</td>\n",
       "      <td>None</td>\n",
       "      <td>HM9999</td>\n",
       "      <td>803.0</td>\n",
       "      <td>0.3</td>\n",
       "      <td>2619.0</td>\n",
       "      <td>0.0</td>\n",
       "      <td>0.0</td>\n",
       "      <td>851.0</td>\n",
       "      <td>4273.0</td>\n",
       "      <td>3111</td>\n",
       "      <td>0</td>\n",
       "      <td>0.0</td>\n",
       "      <td>35</td>\n",
       "      <td>32</td>\n",
       "      <td>None</td>\n",
       "      <td>17-06-19 17:45:41.116530000</td>\n",
       "    </tr>\n",
       "    <tr>\n",
       "      <th>3</th>\n",
       "      <td>WRDKJP200712B002259</td>\n",
       "      <td>100100</td>\n",
       "      <td>100100</td>\n",
       "      <td>2</td>\n",
       "      <td>B</td>\n",
       "      <td>1</td>\n",
       "      <td>200712</td>\n",
       "      <td>5390B</td>\n",
       "      <td>DK</td>\n",
       "      <td>13402246</td>\n",
       "      <td>1</td>\n",
       "      <td>None</td>\n",
       "      <td>None</td>\n",
       "      <td>2</td>\n",
       "      <td>0</td>\n",
       "      <td>1</td>\n",
       "      <td>1</td>\n",
       "      <td>1</td>\n",
       "      <td>2007125390B13402246</td>\n",
       "      <td>JSAERC11S00200058</td>\n",
       "      <td>20020601</td>\n",
       "      <td>YS7A3</td>\n",
       "      <td>20020830</td>\n",
       "      <td>20071114</td>\n",
       "      <td>K</td>\n",
       "      <td>79518</td>\n",
       "      <td>09385-08004</td>\n",
       "      <td>None</td>\n",
       "      <td>99</td>\n",
       "      <td>MU</td>\n",
       "      <td>None</td>\n",
       "      <td>None</td>\n",
       "      <td>None</td>\n",
       "      <td>GG9999</td>\n",
       "      <td>23.0</td>\n",
       "      <td>0.4</td>\n",
       "      <td>3593.0</td>\n",
       "      <td>0.0</td>\n",
       "      <td>0.0</td>\n",
       "      <td>11.0</td>\n",
       "      <td>3627.0</td>\n",
       "      <td>3006</td>\n",
       "      <td>0</td>\n",
       "      <td>0.0</td>\n",
       "      <td>65</td>\n",
       "      <td>63</td>\n",
       "      <td>None</td>\n",
       "      <td>17-06-16 16:09:23.506077000</td>\n",
       "    </tr>\n",
       "    <tr>\n",
       "      <th>4</th>\n",
       "      <td>WRJPJP199812A001149</td>\n",
       "      <td>100100</td>\n",
       "      <td>100100</td>\n",
       "      <td>1</td>\n",
       "      <td>A</td>\n",
       "      <td>0</td>\n",
       "      <td>199812</td>\n",
       "      <td>50207</td>\n",
       "      <td>JP</td>\n",
       "      <td>None</td>\n",
       "      <td>1</td>\n",
       "      <td>0C</td>\n",
       "      <td>4</td>\n",
       "      <td>0</td>\n",
       "      <td>None</td>\n",
       "      <td>1</td>\n",
       "      <td>1</td>\n",
       "      <td>1</td>\n",
       "      <td>199812005289618</td>\n",
       "      <td>NK43A-100392</td>\n",
       "      <td>19970401</td>\n",
       "      <td>X9891</td>\n",
       "      <td>19970522</td>\n",
       "      <td>19981205</td>\n",
       "      <td>K</td>\n",
       "      <td>10800</td>\n",
       "      <td>11145-41B00</td>\n",
       "      <td>99</td>\n",
       "      <td>72</td>\n",
       "      <td>48</td>\n",
       "      <td>9</td>\n",
       "      <td>None</td>\n",
       "      <td>None</td>\n",
       "      <td>None</td>\n",
       "      <td>455.0</td>\n",
       "      <td>1.0</td>\n",
       "      <td>5200.0</td>\n",
       "      <td>0.0</td>\n",
       "      <td>0.0</td>\n",
       "      <td>0.0</td>\n",
       "      <td>5655.0</td>\n",
       "      <td>3059</td>\n",
       "      <td>0</td>\n",
       "      <td>0.0</td>\n",
       "      <td>20</td>\n",
       "      <td>19</td>\n",
       "      <td>None</td>\n",
       "      <td>17-06-16 08:30:59.676865000</td>\n",
       "    </tr>\n",
       "  </tbody>\n",
       "</table>\n",
       "</div>"
      ],
      "text/plain": [
       "                 W_KEY W_BASE_CD W_PROD_BASE_CD W_FIELD_CLAIM_DIV W_PROD_DIV  \\\n",
       "0  WRATJP200903B000627    100100         100100                 1          B   \n",
       "1  WRITJP200808B000995    100100         100100                 1          B   \n",
       "2  WRUSJP201501A000126    100100         100100                 2          A   \n",
       "3  WRDKJP200712B002259    100100         100100                 2          B   \n",
       "4  WRJPJP199812A001149    100100         100100                 1          A   \n",
       "\n",
       "  W_DMEX_DIV W_PROCESS_MONTH W_DIST_CD W_DIST_COUNTRY_CD W_DIST_ISSUE_NO  \\\n",
       "0          1          200903     3312B                AT        I113545A   \n",
       "1          1          200808     3253B                IT        87018800   \n",
       "2          1          201501     1013A                US        2A4001X6   \n",
       "3          1          200712     5390B                DK        13402246   \n",
       "4          0          199812     50207                JP            None   \n",
       "\n",
       "  W_SHOP_DIV W_SHOP_CD W_DIV1 W_DIV2 W_DIV3 W_FIXED_DIV  W_MINUS_DIV  \\\n",
       "0          1      None   None      0      0           1            1   \n",
       "1          1      None   None      0      0           1            1   \n",
       "2          1      None   None      2      0           1            1   \n",
       "3          1      None   None      2      0           1            1   \n",
       "4          1        0C      4      0   None           1            1   \n",
       "\n",
       "  W_SRC_DIV            W_SRC_KEY              W_VIN    W_FCOK W_PROD_MODEL_CD  \\\n",
       "0         1  2009033312BI113545A  JSAJTD44V00221509  20070201           YT4C3   \n",
       "1         1  2008083253B87018800  JSAFJB43V00340826  20070701           YR7K6   \n",
       "2         1  2015011013A2A4001X6  JS1GR7MA8C2100592  20120201           XD512   \n",
       "3         1  2007125390B13402246  JSAERC11S00200058  20020601           YS7A3   \n",
       "4         1      199812005289618       NK43A-100392  19970401           X9891   \n",
       "\n",
       "  W_SALES_DATE W_FAILURE_DATE W_MILEAGE_DIV  W_MILEAGE W_CAUSAL_PART_NO  \\\n",
       "0     20070927       20090109             K       3309      13400-67JG0   \n",
       "1     20080219       20080702             K       2570      37400-76J40   \n",
       "2     20120527       20150103             K      35193  61400-44810-RX0   \n",
       "3     20020830       20071114             K      79518      09385-08004   \n",
       "4     19970522       19981205             K      10800      11145-41B00   \n",
       "\n",
       "  W_TROUBLE_CC W_TROUBLE_CP W_TROUBLE_DF W_TROUBLE_MP W_DTC_1 W_DTC_2  \\\n",
       "0         None           07           36         None    None    None   \n",
       "1         None           05           29         None    None    None   \n",
       "2         None           99           WV         None    None    None   \n",
       "3         None           99           MU         None    None    None   \n",
       "4           99           72           48            9    None    None   \n",
       "\n",
       "  W_OPERATION_CD  W_PARTS_AMT  W_LABOR_HOUR  W_LABOR_AMT  W_SUBLET_HOUR  \\\n",
       "0         DJ06R1      20365.0           0.6       4637.0            0.0   \n",
       "1         SM11R0      10080.0           0.6       2723.0            0.0   \n",
       "2         HM9999        803.0           0.3       2619.0            0.0   \n",
       "3         GG9999         23.0           0.4       3593.0            0.0   \n",
       "4           None        455.0           1.0       5200.0            0.0   \n",
       "\n",
       "   W_SUBLET_AMT  W_SHIPPING_AMT  W_TOTAL_AMT W_CFC_COMPANY_CD  W_CFC_RATE  \\\n",
       "0           0.0          6108.0      31110.0             XY78           0   \n",
       "1           0.0          3024.0      15827.0             3825          52   \n",
       "2           0.0           851.0       4273.0             3111           0   \n",
       "3           0.0            11.0       3627.0             3006           0   \n",
       "4           0.0             0.0       5655.0             3059           0   \n",
       "\n",
       "   W_CFC_AMT  W_FC_TO_FAILURE  W_SALES_TO_FAILURE W_SB_NO  \\\n",
       "0        0.0               23                  16    None   \n",
       "1     6001.0               12                   5    None   \n",
       "2        0.0               35                  32    None   \n",
       "3        0.0               65                  63    None   \n",
       "4        0.0               20                  19    None   \n",
       "\n",
       "              W_CRT_TIME_STAMP  \n",
       "0  17-06-19 08:40:14.044594000  \n",
       "1  17-06-19 08:09:43.978131000  \n",
       "2  17-06-19 17:45:41.116530000  \n",
       "3  17-06-16 16:09:23.506077000  \n",
       "4  17-06-16 08:30:59.676865000  "
      ]
     },
     "execution_count": 14,
     "metadata": {},
     "output_type": "execute_result"
    }
   ],
   "source": [
    "warranty.head()"
   ]
  },
  {
   "cell_type": "code",
   "execution_count": 16,
   "metadata": {
    "ExecuteTime": {
     "end_time": "2019-06-25T06:43:48.250975Z",
     "start_time": "2019-06-25T06:43:47.923505Z"
    }
   },
   "outputs": [
    {
     "data": {
      "text/html": [
       "<div>\n",
       "<style scoped>\n",
       "    .dataframe tbody tr th:only-of-type {\n",
       "        vertical-align: middle;\n",
       "    }\n",
       "\n",
       "    .dataframe tbody tr th {\n",
       "        vertical-align: top;\n",
       "    }\n",
       "\n",
       "    .dataframe thead th {\n",
       "        text-align: right;\n",
       "    }\n",
       "</style>\n",
       "<table border=\"1\" class=\"dataframe\">\n",
       "  <thead>\n",
       "    <tr style=\"text-align: right;\">\n",
       "      <th></th>\n",
       "      <th>W_MINUS_DIV</th>\n",
       "      <th>W_MILEAGE</th>\n",
       "      <th>W_PARTS_AMT</th>\n",
       "      <th>W_LABOR_HOUR</th>\n",
       "      <th>W_LABOR_AMT</th>\n",
       "      <th>W_SUBLET_HOUR</th>\n",
       "      <th>W_SUBLET_AMT</th>\n",
       "      <th>W_SHIPPING_AMT</th>\n",
       "      <th>W_TOTAL_AMT</th>\n",
       "      <th>W_CFC_RATE</th>\n",
       "      <th>W_CFC_AMT</th>\n",
       "      <th>W_FC_TO_FAILURE</th>\n",
       "      <th>W_SALES_TO_FAILURE</th>\n",
       "    </tr>\n",
       "  </thead>\n",
       "  <tbody>\n",
       "    <tr>\n",
       "      <th>count</th>\n",
       "      <td>500000.000000</td>\n",
       "      <td>500000.000000</td>\n",
       "      <td>5.000000e+05</td>\n",
       "      <td>500000.000000</td>\n",
       "      <td>5.000000e+05</td>\n",
       "      <td>500000.000000</td>\n",
       "      <td>500000.000000</td>\n",
       "      <td>500000.000000</td>\n",
       "      <td>5.000000e+05</td>\n",
       "      <td>500000.000000</td>\n",
       "      <td>5.000000e+05</td>\n",
       "      <td>500000.000000</td>\n",
       "      <td>500000.000000</td>\n",
       "    </tr>\n",
       "    <tr>\n",
       "      <th>mean</th>\n",
       "      <td>0.999468</td>\n",
       "      <td>24894.522284</td>\n",
       "      <td>1.062278e+04</td>\n",
       "      <td>1.150384</td>\n",
       "      <td>5.945114e+03</td>\n",
       "      <td>0.018938</td>\n",
       "      <td>832.358550</td>\n",
       "      <td>1340.297094</td>\n",
       "      <td>1.876624e+04</td>\n",
       "      <td>14.442892</td>\n",
       "      <td>1.831164e+04</td>\n",
       "      <td>35.185634</td>\n",
       "      <td>28.682138</td>\n",
       "    </tr>\n",
       "    <tr>\n",
       "      <th>std</th>\n",
       "      <td>0.032615</td>\n",
       "      <td>23580.256383</td>\n",
       "      <td>2.457396e+04</td>\n",
       "      <td>1.728805</td>\n",
       "      <td>2.124805e+04</td>\n",
       "      <td>0.975827</td>\n",
       "      <td>7736.373741</td>\n",
       "      <td>6596.074081</td>\n",
       "      <td>3.346487e+04</td>\n",
       "      <td>24.720292</td>\n",
       "      <td>8.670428e+05</td>\n",
       "      <td>55.618201</td>\n",
       "      <td>26.790209</td>\n",
       "    </tr>\n",
       "    <tr>\n",
       "      <th>min</th>\n",
       "      <td>-1.000000</td>\n",
       "      <td>0.000000</td>\n",
       "      <td>-4.680000e+05</td>\n",
       "      <td>0.000000</td>\n",
       "      <td>-6.655000e+04</td>\n",
       "      <td>0.000000</td>\n",
       "      <td>-67200.000000</td>\n",
       "      <td>-1.000000</td>\n",
       "      <td>-4.680000e+05</td>\n",
       "      <td>0.000000</td>\n",
       "      <td>0.000000e+00</td>\n",
       "      <td>-43.000000</td>\n",
       "      <td>0.000000</td>\n",
       "    </tr>\n",
       "    <tr>\n",
       "      <th>25%</th>\n",
       "      <td>1.000000</td>\n",
       "      <td>5811.000000</td>\n",
       "      <td>3.450000e+02</td>\n",
       "      <td>0.400000</td>\n",
       "      <td>1.500000e+03</td>\n",
       "      <td>0.000000</td>\n",
       "      <td>0.000000</td>\n",
       "      <td>0.000000</td>\n",
       "      <td>3.632000e+03</td>\n",
       "      <td>0.000000</td>\n",
       "      <td>0.000000e+00</td>\n",
       "      <td>15.000000</td>\n",
       "      <td>10.000000</td>\n",
       "    </tr>\n",
       "    <tr>\n",
       "      <th>50%</th>\n",
       "      <td>1.000000</td>\n",
       "      <td>18336.500000</td>\n",
       "      <td>2.464000e+03</td>\n",
       "      <td>0.600000</td>\n",
       "      <td>3.000000e+03</td>\n",
       "      <td>0.000000</td>\n",
       "      <td>0.000000</td>\n",
       "      <td>0.000000</td>\n",
       "      <td>8.416000e+03</td>\n",
       "      <td>0.000000</td>\n",
       "      <td>0.000000e+00</td>\n",
       "      <td>27.000000</td>\n",
       "      <td>23.000000</td>\n",
       "    </tr>\n",
       "    <tr>\n",
       "      <th>75%</th>\n",
       "      <td>1.000000</td>\n",
       "      <td>37700.000000</td>\n",
       "      <td>1.034000e+04</td>\n",
       "      <td>1.200000</td>\n",
       "      <td>6.035000e+03</td>\n",
       "      <td>0.000000</td>\n",
       "      <td>0.000000</td>\n",
       "      <td>498.000000</td>\n",
       "      <td>1.951000e+04</td>\n",
       "      <td>22.000000</td>\n",
       "      <td>1.287000e+03</td>\n",
       "      <td>40.000000</td>\n",
       "      <td>36.000000</td>\n",
       "    </tr>\n",
       "    <tr>\n",
       "      <th>max</th>\n",
       "      <td>1.000000</td>\n",
       "      <td>379192.000000</td>\n",
       "      <td>1.298989e+06</td>\n",
       "      <td>80.000000</td>\n",
       "      <td>6.444360e+06</td>\n",
       "      <td>550.000000</td>\n",
       "      <td>614525.000000</td>\n",
       "      <td>641756.000000</td>\n",
       "      <td>1.801080e+06</td>\n",
       "      <td>100.000000</td>\n",
       "      <td>9.923000e+07</td>\n",
       "      <td>999.000000</td>\n",
       "      <td>999.000000</td>\n",
       "    </tr>\n",
       "  </tbody>\n",
       "</table>\n",
       "</div>"
      ],
      "text/plain": [
       "         W_MINUS_DIV      W_MILEAGE   W_PARTS_AMT   W_LABOR_HOUR  \\\n",
       "count  500000.000000  500000.000000  5.000000e+05  500000.000000   \n",
       "mean        0.999468   24894.522284  1.062278e+04       1.150384   \n",
       "std         0.032615   23580.256383  2.457396e+04       1.728805   \n",
       "min        -1.000000       0.000000 -4.680000e+05       0.000000   \n",
       "25%         1.000000    5811.000000  3.450000e+02       0.400000   \n",
       "50%         1.000000   18336.500000  2.464000e+03       0.600000   \n",
       "75%         1.000000   37700.000000  1.034000e+04       1.200000   \n",
       "max         1.000000  379192.000000  1.298989e+06      80.000000   \n",
       "\n",
       "        W_LABOR_AMT  W_SUBLET_HOUR   W_SUBLET_AMT  W_SHIPPING_AMT  \\\n",
       "count  5.000000e+05  500000.000000  500000.000000   500000.000000   \n",
       "mean   5.945114e+03       0.018938     832.358550     1340.297094   \n",
       "std    2.124805e+04       0.975827    7736.373741     6596.074081   \n",
       "min   -6.655000e+04       0.000000  -67200.000000       -1.000000   \n",
       "25%    1.500000e+03       0.000000       0.000000        0.000000   \n",
       "50%    3.000000e+03       0.000000       0.000000        0.000000   \n",
       "75%    6.035000e+03       0.000000       0.000000      498.000000   \n",
       "max    6.444360e+06     550.000000  614525.000000   641756.000000   \n",
       "\n",
       "        W_TOTAL_AMT     W_CFC_RATE     W_CFC_AMT  W_FC_TO_FAILURE  \\\n",
       "count  5.000000e+05  500000.000000  5.000000e+05    500000.000000   \n",
       "mean   1.876624e+04      14.442892  1.831164e+04        35.185634   \n",
       "std    3.346487e+04      24.720292  8.670428e+05        55.618201   \n",
       "min   -4.680000e+05       0.000000  0.000000e+00       -43.000000   \n",
       "25%    3.632000e+03       0.000000  0.000000e+00        15.000000   \n",
       "50%    8.416000e+03       0.000000  0.000000e+00        27.000000   \n",
       "75%    1.951000e+04      22.000000  1.287000e+03        40.000000   \n",
       "max    1.801080e+06     100.000000  9.923000e+07       999.000000   \n",
       "\n",
       "       W_SALES_TO_FAILURE  \n",
       "count       500000.000000  \n",
       "mean            28.682138  \n",
       "std             26.790209  \n",
       "min              0.000000  \n",
       "25%             10.000000  \n",
       "50%             23.000000  \n",
       "75%             36.000000  \n",
       "max            999.000000  "
      ]
     },
     "execution_count": 16,
     "metadata": {},
     "output_type": "execute_result"
    }
   ],
   "source": [
    "warranty.describe()"
   ]
  },
  {
   "cell_type": "code",
   "execution_count": 17,
   "metadata": {
    "ExecuteTime": {
     "end_time": "2019-06-25T06:46:48.348341Z",
     "start_time": "2019-06-25T06:46:42.754990Z"
    }
   },
   "outputs": [
    {
     "data": {
      "text/html": [
       "<div>\n",
       "<style scoped>\n",
       "    .dataframe tbody tr th:only-of-type {\n",
       "        vertical-align: middle;\n",
       "    }\n",
       "\n",
       "    .dataframe tbody tr th {\n",
       "        vertical-align: top;\n",
       "    }\n",
       "\n",
       "    .dataframe thead th {\n",
       "        text-align: right;\n",
       "    }\n",
       "</style>\n",
       "<table border=\"1\" class=\"dataframe\">\n",
       "  <thead>\n",
       "    <tr style=\"text-align: right;\">\n",
       "      <th></th>\n",
       "      <th>W_KEY</th>\n",
       "      <th>W_BASE_CD</th>\n",
       "      <th>W_PROD_BASE_CD</th>\n",
       "      <th>W_FIELD_CLAIM_DIV</th>\n",
       "      <th>W_PROD_DIV</th>\n",
       "      <th>W_DMEX_DIV</th>\n",
       "      <th>W_PROCESS_MONTH</th>\n",
       "      <th>W_DIST_CD</th>\n",
       "      <th>W_DIST_COUNTRY_CD</th>\n",
       "      <th>W_DIST_ISSUE_NO</th>\n",
       "      <th>W_SHOP_DIV</th>\n",
       "      <th>W_SHOP_CD</th>\n",
       "      <th>W_DIV1</th>\n",
       "      <th>W_DIV2</th>\n",
       "      <th>W_DIV3</th>\n",
       "      <th>W_FIXED_DIV</th>\n",
       "      <th>W_MINUS_DIV</th>\n",
       "      <th>W_SRC_DIV</th>\n",
       "      <th>W_SRC_KEY</th>\n",
       "      <th>W_VIN</th>\n",
       "      <th>W_FCOK</th>\n",
       "      <th>W_PROD_MODEL_CD</th>\n",
       "      <th>W_SALES_DATE</th>\n",
       "      <th>W_FAILURE_DATE</th>\n",
       "      <th>W_MILEAGE_DIV</th>\n",
       "      <th>W_MILEAGE</th>\n",
       "      <th>W_CAUSAL_PART_NO</th>\n",
       "      <th>W_TROUBLE_CC</th>\n",
       "      <th>W_TROUBLE_CP</th>\n",
       "      <th>W_TROUBLE_DF</th>\n",
       "      <th>W_TROUBLE_MP</th>\n",
       "      <th>W_DTC_1</th>\n",
       "      <th>W_DTC_2</th>\n",
       "      <th>W_OPERATION_CD</th>\n",
       "      <th>W_PARTS_AMT</th>\n",
       "      <th>W_LABOR_HOUR</th>\n",
       "      <th>W_LABOR_AMT</th>\n",
       "      <th>W_SUBLET_HOUR</th>\n",
       "      <th>W_SUBLET_AMT</th>\n",
       "      <th>W_SHIPPING_AMT</th>\n",
       "      <th>W_TOTAL_AMT</th>\n",
       "      <th>W_CFC_COMPANY_CD</th>\n",
       "      <th>W_CFC_RATE</th>\n",
       "      <th>W_CFC_AMT</th>\n",
       "      <th>W_FC_TO_FAILURE</th>\n",
       "      <th>W_SALES_TO_FAILURE</th>\n",
       "      <th>W_SB_NO</th>\n",
       "      <th>W_CRT_TIME_STAMP</th>\n",
       "    </tr>\n",
       "  </thead>\n",
       "  <tbody>\n",
       "    <tr>\n",
       "      <th>count</th>\n",
       "      <td>500000</td>\n",
       "      <td>500000</td>\n",
       "      <td>500000</td>\n",
       "      <td>500000</td>\n",
       "      <td>500000</td>\n",
       "      <td>500000</td>\n",
       "      <td>500000</td>\n",
       "      <td>493839</td>\n",
       "      <td>500000</td>\n",
       "      <td>414540</td>\n",
       "      <td>453758</td>\n",
       "      <td>211781</td>\n",
       "      <td>232107</td>\n",
       "      <td>500000</td>\n",
       "      <td>295260</td>\n",
       "      <td>500000</td>\n",
       "      <td>500000.000000</td>\n",
       "      <td>500000</td>\n",
       "      <td>500000</td>\n",
       "      <td>500000</td>\n",
       "      <td>500000</td>\n",
       "      <td>468507</td>\n",
       "      <td>500000</td>\n",
       "      <td>500000</td>\n",
       "      <td>500000</td>\n",
       "      <td>500000.000000</td>\n",
       "      <td>500000</td>\n",
       "      <td>218220</td>\n",
       "      <td>500000</td>\n",
       "      <td>500000</td>\n",
       "      <td>218220</td>\n",
       "      <td>0.0</td>\n",
       "      <td>0.0</td>\n",
       "      <td>291982</td>\n",
       "      <td>5.000000e+05</td>\n",
       "      <td>500000.000000</td>\n",
       "      <td>5.000000e+05</td>\n",
       "      <td>500000.000000</td>\n",
       "      <td>500000.000000</td>\n",
       "      <td>500000.000000</td>\n",
       "      <td>5.000000e+05</td>\n",
       "      <td>439797</td>\n",
       "      <td>500000.000000</td>\n",
       "      <td>5.000000e+05</td>\n",
       "      <td>500000.000000</td>\n",
       "      <td>500000.000000</td>\n",
       "      <td>2</td>\n",
       "      <td>500000</td>\n",
       "    </tr>\n",
       "    <tr>\n",
       "      <th>unique</th>\n",
       "      <td>500000</td>\n",
       "      <td>7</td>\n",
       "      <td>28</td>\n",
       "      <td>3</td>\n",
       "      <td>7</td>\n",
       "      <td>2</td>\n",
       "      <td>217</td>\n",
       "      <td>934</td>\n",
       "      <td>109</td>\n",
       "      <td>391724</td>\n",
       "      <td>5</td>\n",
       "      <td>426</td>\n",
       "      <td>13</td>\n",
       "      <td>11</td>\n",
       "      <td>4</td>\n",
       "      <td>1</td>\n",
       "      <td>NaN</td>\n",
       "      <td>2</td>\n",
       "      <td>499055</td>\n",
       "      <td>486322</td>\n",
       "      <td>4907</td>\n",
       "      <td>11115</td>\n",
       "      <td>10119</td>\n",
       "      <td>7009</td>\n",
       "      <td>2</td>\n",
       "      <td>NaN</td>\n",
       "      <td>62832</td>\n",
       "      <td>57</td>\n",
       "      <td>294</td>\n",
       "      <td>515</td>\n",
       "      <td>11</td>\n",
       "      <td>0.0</td>\n",
       "      <td>0.0</td>\n",
       "      <td>2628</td>\n",
       "      <td>NaN</td>\n",
       "      <td>NaN</td>\n",
       "      <td>NaN</td>\n",
       "      <td>NaN</td>\n",
       "      <td>NaN</td>\n",
       "      <td>NaN</td>\n",
       "      <td>NaN</td>\n",
       "      <td>612</td>\n",
       "      <td>NaN</td>\n",
       "      <td>NaN</td>\n",
       "      <td>NaN</td>\n",
       "      <td>NaN</td>\n",
       "      <td>1</td>\n",
       "      <td>500000</td>\n",
       "    </tr>\n",
       "    <tr>\n",
       "      <th>top</th>\n",
       "      <td>WRGRHU200809B000704</td>\n",
       "      <td>100100</td>\n",
       "      <td>100100</td>\n",
       "      <td>1</td>\n",
       "      <td>B</td>\n",
       "      <td>1</td>\n",
       "      <td>200411</td>\n",
       "      <td>1013B</td>\n",
       "      <td>JP</td>\n",
       "      <td>0000000000</td>\n",
       "      <td>1</td>\n",
       "      <td></td>\n",
       "      <td>1</td>\n",
       "      <td>0</td>\n",
       "      <td>0</td>\n",
       "      <td>1</td>\n",
       "      <td>NaN</td>\n",
       "      <td>1</td>\n",
       "      <td>201501    *01501-000</td>\n",
       "      <td>ZC11S-184057</td>\n",
       "      <td>20060301</td>\n",
       "      <td>YT4C1</td>\n",
       "      <td>00000000</td>\n",
       "      <td>00000000</td>\n",
       "      <td>K</td>\n",
       "      <td>NaN</td>\n",
       "      <td>15910-67DV0</td>\n",
       "      <td>99</td>\n",
       "      <td>99</td>\n",
       "      <td>99</td>\n",
       "      <td>9</td>\n",
       "      <td>NaN</td>\n",
       "      <td>NaN</td>\n",
       "      <td>SF9999</td>\n",
       "      <td>NaN</td>\n",
       "      <td>NaN</td>\n",
       "      <td>NaN</td>\n",
       "      <td>NaN</td>\n",
       "      <td>NaN</td>\n",
       "      <td>NaN</td>\n",
       "      <td>NaN</td>\n",
       "      <td>P58X</td>\n",
       "      <td>NaN</td>\n",
       "      <td>NaN</td>\n",
       "      <td>NaN</td>\n",
       "      <td>NaN</td>\n",
       "      <td>SBJP201208B00055</td>\n",
       "      <td>17-06-16 14:00:14.233000000</td>\n",
       "    </tr>\n",
       "    <tr>\n",
       "      <th>freq</th>\n",
       "      <td>1</td>\n",
       "      <td>453758</td>\n",
       "      <td>402136</td>\n",
       "      <td>350803</td>\n",
       "      <td>414401</td>\n",
       "      <td>281870</td>\n",
       "      <td>4507</td>\n",
       "      <td>33086</td>\n",
       "      <td>204740</td>\n",
       "      <td>589</td>\n",
       "      <td>404375</td>\n",
       "      <td>13480</td>\n",
       "      <td>128915</td>\n",
       "      <td>353604</td>\n",
       "      <td>277617</td>\n",
       "      <td>500000</td>\n",
       "      <td>NaN</td>\n",
       "      <td>453758</td>\n",
       "      <td>14</td>\n",
       "      <td>6</td>\n",
       "      <td>4339</td>\n",
       "      <td>6556</td>\n",
       "      <td>1257</td>\n",
       "      <td>342</td>\n",
       "      <td>493902</td>\n",
       "      <td>NaN</td>\n",
       "      <td>4593</td>\n",
       "      <td>100191</td>\n",
       "      <td>137417</td>\n",
       "      <td>64285</td>\n",
       "      <td>121632</td>\n",
       "      <td>NaN</td>\n",
       "      <td>NaN</td>\n",
       "      <td>12609</td>\n",
       "      <td>NaN</td>\n",
       "      <td>NaN</td>\n",
       "      <td>NaN</td>\n",
       "      <td>NaN</td>\n",
       "      <td>NaN</td>\n",
       "      <td>NaN</td>\n",
       "      <td>NaN</td>\n",
       "      <td>19230</td>\n",
       "      <td>NaN</td>\n",
       "      <td>NaN</td>\n",
       "      <td>NaN</td>\n",
       "      <td>NaN</td>\n",
       "      <td>2</td>\n",
       "      <td>1</td>\n",
       "    </tr>\n",
       "    <tr>\n",
       "      <th>mean</th>\n",
       "      <td>NaN</td>\n",
       "      <td>NaN</td>\n",
       "      <td>NaN</td>\n",
       "      <td>NaN</td>\n",
       "      <td>NaN</td>\n",
       "      <td>NaN</td>\n",
       "      <td>NaN</td>\n",
       "      <td>NaN</td>\n",
       "      <td>NaN</td>\n",
       "      <td>NaN</td>\n",
       "      <td>NaN</td>\n",
       "      <td>NaN</td>\n",
       "      <td>NaN</td>\n",
       "      <td>NaN</td>\n",
       "      <td>NaN</td>\n",
       "      <td>NaN</td>\n",
       "      <td>0.999468</td>\n",
       "      <td>NaN</td>\n",
       "      <td>NaN</td>\n",
       "      <td>NaN</td>\n",
       "      <td>NaN</td>\n",
       "      <td>NaN</td>\n",
       "      <td>NaN</td>\n",
       "      <td>NaN</td>\n",
       "      <td>NaN</td>\n",
       "      <td>24894.522284</td>\n",
       "      <td>NaN</td>\n",
       "      <td>NaN</td>\n",
       "      <td>NaN</td>\n",
       "      <td>NaN</td>\n",
       "      <td>NaN</td>\n",
       "      <td>NaN</td>\n",
       "      <td>NaN</td>\n",
       "      <td>NaN</td>\n",
       "      <td>1.062278e+04</td>\n",
       "      <td>1.150384</td>\n",
       "      <td>5.945114e+03</td>\n",
       "      <td>0.018938</td>\n",
       "      <td>832.358550</td>\n",
       "      <td>1340.297094</td>\n",
       "      <td>1.876624e+04</td>\n",
       "      <td>NaN</td>\n",
       "      <td>14.442892</td>\n",
       "      <td>1.831164e+04</td>\n",
       "      <td>35.185634</td>\n",
       "      <td>28.682138</td>\n",
       "      <td>NaN</td>\n",
       "      <td>NaN</td>\n",
       "    </tr>\n",
       "    <tr>\n",
       "      <th>std</th>\n",
       "      <td>NaN</td>\n",
       "      <td>NaN</td>\n",
       "      <td>NaN</td>\n",
       "      <td>NaN</td>\n",
       "      <td>NaN</td>\n",
       "      <td>NaN</td>\n",
       "      <td>NaN</td>\n",
       "      <td>NaN</td>\n",
       "      <td>NaN</td>\n",
       "      <td>NaN</td>\n",
       "      <td>NaN</td>\n",
       "      <td>NaN</td>\n",
       "      <td>NaN</td>\n",
       "      <td>NaN</td>\n",
       "      <td>NaN</td>\n",
       "      <td>NaN</td>\n",
       "      <td>0.032615</td>\n",
       "      <td>NaN</td>\n",
       "      <td>NaN</td>\n",
       "      <td>NaN</td>\n",
       "      <td>NaN</td>\n",
       "      <td>NaN</td>\n",
       "      <td>NaN</td>\n",
       "      <td>NaN</td>\n",
       "      <td>NaN</td>\n",
       "      <td>23580.256383</td>\n",
       "      <td>NaN</td>\n",
       "      <td>NaN</td>\n",
       "      <td>NaN</td>\n",
       "      <td>NaN</td>\n",
       "      <td>NaN</td>\n",
       "      <td>NaN</td>\n",
       "      <td>NaN</td>\n",
       "      <td>NaN</td>\n",
       "      <td>2.457396e+04</td>\n",
       "      <td>1.728805</td>\n",
       "      <td>2.124805e+04</td>\n",
       "      <td>0.975827</td>\n",
       "      <td>7736.373741</td>\n",
       "      <td>6596.074081</td>\n",
       "      <td>3.346487e+04</td>\n",
       "      <td>NaN</td>\n",
       "      <td>24.720292</td>\n",
       "      <td>8.670428e+05</td>\n",
       "      <td>55.618201</td>\n",
       "      <td>26.790209</td>\n",
       "      <td>NaN</td>\n",
       "      <td>NaN</td>\n",
       "    </tr>\n",
       "    <tr>\n",
       "      <th>min</th>\n",
       "      <td>NaN</td>\n",
       "      <td>NaN</td>\n",
       "      <td>NaN</td>\n",
       "      <td>NaN</td>\n",
       "      <td>NaN</td>\n",
       "      <td>NaN</td>\n",
       "      <td>NaN</td>\n",
       "      <td>NaN</td>\n",
       "      <td>NaN</td>\n",
       "      <td>NaN</td>\n",
       "      <td>NaN</td>\n",
       "      <td>NaN</td>\n",
       "      <td>NaN</td>\n",
       "      <td>NaN</td>\n",
       "      <td>NaN</td>\n",
       "      <td>NaN</td>\n",
       "      <td>-1.000000</td>\n",
       "      <td>NaN</td>\n",
       "      <td>NaN</td>\n",
       "      <td>NaN</td>\n",
       "      <td>NaN</td>\n",
       "      <td>NaN</td>\n",
       "      <td>NaN</td>\n",
       "      <td>NaN</td>\n",
       "      <td>NaN</td>\n",
       "      <td>0.000000</td>\n",
       "      <td>NaN</td>\n",
       "      <td>NaN</td>\n",
       "      <td>NaN</td>\n",
       "      <td>NaN</td>\n",
       "      <td>NaN</td>\n",
       "      <td>NaN</td>\n",
       "      <td>NaN</td>\n",
       "      <td>NaN</td>\n",
       "      <td>-4.680000e+05</td>\n",
       "      <td>0.000000</td>\n",
       "      <td>-6.655000e+04</td>\n",
       "      <td>0.000000</td>\n",
       "      <td>-67200.000000</td>\n",
       "      <td>-1.000000</td>\n",
       "      <td>-4.680000e+05</td>\n",
       "      <td>NaN</td>\n",
       "      <td>0.000000</td>\n",
       "      <td>0.000000e+00</td>\n",
       "      <td>-43.000000</td>\n",
       "      <td>0.000000</td>\n",
       "      <td>NaN</td>\n",
       "      <td>NaN</td>\n",
       "    </tr>\n",
       "    <tr>\n",
       "      <th>25%</th>\n",
       "      <td>NaN</td>\n",
       "      <td>NaN</td>\n",
       "      <td>NaN</td>\n",
       "      <td>NaN</td>\n",
       "      <td>NaN</td>\n",
       "      <td>NaN</td>\n",
       "      <td>NaN</td>\n",
       "      <td>NaN</td>\n",
       "      <td>NaN</td>\n",
       "      <td>NaN</td>\n",
       "      <td>NaN</td>\n",
       "      <td>NaN</td>\n",
       "      <td>NaN</td>\n",
       "      <td>NaN</td>\n",
       "      <td>NaN</td>\n",
       "      <td>NaN</td>\n",
       "      <td>1.000000</td>\n",
       "      <td>NaN</td>\n",
       "      <td>NaN</td>\n",
       "      <td>NaN</td>\n",
       "      <td>NaN</td>\n",
       "      <td>NaN</td>\n",
       "      <td>NaN</td>\n",
       "      <td>NaN</td>\n",
       "      <td>NaN</td>\n",
       "      <td>5811.000000</td>\n",
       "      <td>NaN</td>\n",
       "      <td>NaN</td>\n",
       "      <td>NaN</td>\n",
       "      <td>NaN</td>\n",
       "      <td>NaN</td>\n",
       "      <td>NaN</td>\n",
       "      <td>NaN</td>\n",
       "      <td>NaN</td>\n",
       "      <td>3.450000e+02</td>\n",
       "      <td>0.400000</td>\n",
       "      <td>1.500000e+03</td>\n",
       "      <td>0.000000</td>\n",
       "      <td>0.000000</td>\n",
       "      <td>0.000000</td>\n",
       "      <td>3.632000e+03</td>\n",
       "      <td>NaN</td>\n",
       "      <td>0.000000</td>\n",
       "      <td>0.000000e+00</td>\n",
       "      <td>15.000000</td>\n",
       "      <td>10.000000</td>\n",
       "      <td>NaN</td>\n",
       "      <td>NaN</td>\n",
       "    </tr>\n",
       "    <tr>\n",
       "      <th>50%</th>\n",
       "      <td>NaN</td>\n",
       "      <td>NaN</td>\n",
       "      <td>NaN</td>\n",
       "      <td>NaN</td>\n",
       "      <td>NaN</td>\n",
       "      <td>NaN</td>\n",
       "      <td>NaN</td>\n",
       "      <td>NaN</td>\n",
       "      <td>NaN</td>\n",
       "      <td>NaN</td>\n",
       "      <td>NaN</td>\n",
       "      <td>NaN</td>\n",
       "      <td>NaN</td>\n",
       "      <td>NaN</td>\n",
       "      <td>NaN</td>\n",
       "      <td>NaN</td>\n",
       "      <td>1.000000</td>\n",
       "      <td>NaN</td>\n",
       "      <td>NaN</td>\n",
       "      <td>NaN</td>\n",
       "      <td>NaN</td>\n",
       "      <td>NaN</td>\n",
       "      <td>NaN</td>\n",
       "      <td>NaN</td>\n",
       "      <td>NaN</td>\n",
       "      <td>18336.500000</td>\n",
       "      <td>NaN</td>\n",
       "      <td>NaN</td>\n",
       "      <td>NaN</td>\n",
       "      <td>NaN</td>\n",
       "      <td>NaN</td>\n",
       "      <td>NaN</td>\n",
       "      <td>NaN</td>\n",
       "      <td>NaN</td>\n",
       "      <td>2.464000e+03</td>\n",
       "      <td>0.600000</td>\n",
       "      <td>3.000000e+03</td>\n",
       "      <td>0.000000</td>\n",
       "      <td>0.000000</td>\n",
       "      <td>0.000000</td>\n",
       "      <td>8.416000e+03</td>\n",
       "      <td>NaN</td>\n",
       "      <td>0.000000</td>\n",
       "      <td>0.000000e+00</td>\n",
       "      <td>27.000000</td>\n",
       "      <td>23.000000</td>\n",
       "      <td>NaN</td>\n",
       "      <td>NaN</td>\n",
       "    </tr>\n",
       "    <tr>\n",
       "      <th>75%</th>\n",
       "      <td>NaN</td>\n",
       "      <td>NaN</td>\n",
       "      <td>NaN</td>\n",
       "      <td>NaN</td>\n",
       "      <td>NaN</td>\n",
       "      <td>NaN</td>\n",
       "      <td>NaN</td>\n",
       "      <td>NaN</td>\n",
       "      <td>NaN</td>\n",
       "      <td>NaN</td>\n",
       "      <td>NaN</td>\n",
       "      <td>NaN</td>\n",
       "      <td>NaN</td>\n",
       "      <td>NaN</td>\n",
       "      <td>NaN</td>\n",
       "      <td>NaN</td>\n",
       "      <td>1.000000</td>\n",
       "      <td>NaN</td>\n",
       "      <td>NaN</td>\n",
       "      <td>NaN</td>\n",
       "      <td>NaN</td>\n",
       "      <td>NaN</td>\n",
       "      <td>NaN</td>\n",
       "      <td>NaN</td>\n",
       "      <td>NaN</td>\n",
       "      <td>37700.000000</td>\n",
       "      <td>NaN</td>\n",
       "      <td>NaN</td>\n",
       "      <td>NaN</td>\n",
       "      <td>NaN</td>\n",
       "      <td>NaN</td>\n",
       "      <td>NaN</td>\n",
       "      <td>NaN</td>\n",
       "      <td>NaN</td>\n",
       "      <td>1.034000e+04</td>\n",
       "      <td>1.200000</td>\n",
       "      <td>6.035000e+03</td>\n",
       "      <td>0.000000</td>\n",
       "      <td>0.000000</td>\n",
       "      <td>498.000000</td>\n",
       "      <td>1.951000e+04</td>\n",
       "      <td>NaN</td>\n",
       "      <td>22.000000</td>\n",
       "      <td>1.287000e+03</td>\n",
       "      <td>40.000000</td>\n",
       "      <td>36.000000</td>\n",
       "      <td>NaN</td>\n",
       "      <td>NaN</td>\n",
       "    </tr>\n",
       "    <tr>\n",
       "      <th>max</th>\n",
       "      <td>NaN</td>\n",
       "      <td>NaN</td>\n",
       "      <td>NaN</td>\n",
       "      <td>NaN</td>\n",
       "      <td>NaN</td>\n",
       "      <td>NaN</td>\n",
       "      <td>NaN</td>\n",
       "      <td>NaN</td>\n",
       "      <td>NaN</td>\n",
       "      <td>NaN</td>\n",
       "      <td>NaN</td>\n",
       "      <td>NaN</td>\n",
       "      <td>NaN</td>\n",
       "      <td>NaN</td>\n",
       "      <td>NaN</td>\n",
       "      <td>NaN</td>\n",
       "      <td>1.000000</td>\n",
       "      <td>NaN</td>\n",
       "      <td>NaN</td>\n",
       "      <td>NaN</td>\n",
       "      <td>NaN</td>\n",
       "      <td>NaN</td>\n",
       "      <td>NaN</td>\n",
       "      <td>NaN</td>\n",
       "      <td>NaN</td>\n",
       "      <td>379192.000000</td>\n",
       "      <td>NaN</td>\n",
       "      <td>NaN</td>\n",
       "      <td>NaN</td>\n",
       "      <td>NaN</td>\n",
       "      <td>NaN</td>\n",
       "      <td>NaN</td>\n",
       "      <td>NaN</td>\n",
       "      <td>NaN</td>\n",
       "      <td>1.298989e+06</td>\n",
       "      <td>80.000000</td>\n",
       "      <td>6.444360e+06</td>\n",
       "      <td>550.000000</td>\n",
       "      <td>614525.000000</td>\n",
       "      <td>641756.000000</td>\n",
       "      <td>1.801080e+06</td>\n",
       "      <td>NaN</td>\n",
       "      <td>100.000000</td>\n",
       "      <td>9.923000e+07</td>\n",
       "      <td>999.000000</td>\n",
       "      <td>999.000000</td>\n",
       "      <td>NaN</td>\n",
       "      <td>NaN</td>\n",
       "    </tr>\n",
       "  </tbody>\n",
       "</table>\n",
       "</div>"
      ],
      "text/plain": [
       "                      W_KEY W_BASE_CD W_PROD_BASE_CD W_FIELD_CLAIM_DIV  \\\n",
       "count                500000    500000         500000            500000   \n",
       "unique               500000         7             28                 3   \n",
       "top     WRGRHU200809B000704    100100         100100                 1   \n",
       "freq                      1    453758         402136            350803   \n",
       "mean                    NaN       NaN            NaN               NaN   \n",
       "std                     NaN       NaN            NaN               NaN   \n",
       "min                     NaN       NaN            NaN               NaN   \n",
       "25%                     NaN       NaN            NaN               NaN   \n",
       "50%                     NaN       NaN            NaN               NaN   \n",
       "75%                     NaN       NaN            NaN               NaN   \n",
       "max                     NaN       NaN            NaN               NaN   \n",
       "\n",
       "       W_PROD_DIV W_DMEX_DIV W_PROCESS_MONTH W_DIST_CD W_DIST_COUNTRY_CD  \\\n",
       "count      500000     500000          500000    493839            500000   \n",
       "unique          7          2             217       934               109   \n",
       "top             B          1          200411     1013B                JP   \n",
       "freq       414401     281870            4507     33086            204740   \n",
       "mean          NaN        NaN             NaN       NaN               NaN   \n",
       "std           NaN        NaN             NaN       NaN               NaN   \n",
       "min           NaN        NaN             NaN       NaN               NaN   \n",
       "25%           NaN        NaN             NaN       NaN               NaN   \n",
       "50%           NaN        NaN             NaN       NaN               NaN   \n",
       "75%           NaN        NaN             NaN       NaN               NaN   \n",
       "max           NaN        NaN             NaN       NaN               NaN   \n",
       "\n",
       "       W_DIST_ISSUE_NO W_SHOP_DIV W_SHOP_CD  W_DIV1  W_DIV2  W_DIV3  \\\n",
       "count           414540     453758    211781  232107  500000  295260   \n",
       "unique          391724          5       426      13      11       4   \n",
       "top         0000000000          1                 1       0       0   \n",
       "freq               589     404375     13480  128915  353604  277617   \n",
       "mean               NaN        NaN       NaN     NaN     NaN     NaN   \n",
       "std                NaN        NaN       NaN     NaN     NaN     NaN   \n",
       "min                NaN        NaN       NaN     NaN     NaN     NaN   \n",
       "25%                NaN        NaN       NaN     NaN     NaN     NaN   \n",
       "50%                NaN        NaN       NaN     NaN     NaN     NaN   \n",
       "75%                NaN        NaN       NaN     NaN     NaN     NaN   \n",
       "max                NaN        NaN       NaN     NaN     NaN     NaN   \n",
       "\n",
       "       W_FIXED_DIV    W_MINUS_DIV W_SRC_DIV             W_SRC_KEY  \\\n",
       "count       500000  500000.000000    500000                500000   \n",
       "unique           1            NaN         2                499055   \n",
       "top              1            NaN         1  201501    *01501-000   \n",
       "freq        500000            NaN    453758                    14   \n",
       "mean           NaN       0.999468       NaN                   NaN   \n",
       "std            NaN       0.032615       NaN                   NaN   \n",
       "min            NaN      -1.000000       NaN                   NaN   \n",
       "25%            NaN       1.000000       NaN                   NaN   \n",
       "50%            NaN       1.000000       NaN                   NaN   \n",
       "75%            NaN       1.000000       NaN                   NaN   \n",
       "max            NaN       1.000000       NaN                   NaN   \n",
       "\n",
       "               W_VIN    W_FCOK W_PROD_MODEL_CD W_SALES_DATE W_FAILURE_DATE  \\\n",
       "count         500000    500000          468507       500000         500000   \n",
       "unique        486322      4907           11115        10119           7009   \n",
       "top     ZC11S-184057  20060301           YT4C1     00000000       00000000   \n",
       "freq               6      4339            6556         1257            342   \n",
       "mean             NaN       NaN             NaN          NaN            NaN   \n",
       "std              NaN       NaN             NaN          NaN            NaN   \n",
       "min              NaN       NaN             NaN          NaN            NaN   \n",
       "25%              NaN       NaN             NaN          NaN            NaN   \n",
       "50%              NaN       NaN             NaN          NaN            NaN   \n",
       "75%              NaN       NaN             NaN          NaN            NaN   \n",
       "max              NaN       NaN             NaN          NaN            NaN   \n",
       "\n",
       "       W_MILEAGE_DIV      W_MILEAGE W_CAUSAL_PART_NO W_TROUBLE_CC  \\\n",
       "count         500000  500000.000000           500000       218220   \n",
       "unique             2            NaN            62832           57   \n",
       "top                K            NaN      15910-67DV0           99   \n",
       "freq          493902            NaN             4593       100191   \n",
       "mean             NaN   24894.522284              NaN          NaN   \n",
       "std              NaN   23580.256383              NaN          NaN   \n",
       "min              NaN       0.000000              NaN          NaN   \n",
       "25%              NaN    5811.000000              NaN          NaN   \n",
       "50%              NaN   18336.500000              NaN          NaN   \n",
       "75%              NaN   37700.000000              NaN          NaN   \n",
       "max              NaN  379192.000000              NaN          NaN   \n",
       "\n",
       "       W_TROUBLE_CP W_TROUBLE_DF W_TROUBLE_MP  W_DTC_1  W_DTC_2  \\\n",
       "count        500000       500000       218220      0.0      0.0   \n",
       "unique          294          515           11      0.0      0.0   \n",
       "top              99           99            9      NaN      NaN   \n",
       "freq         137417        64285       121632      NaN      NaN   \n",
       "mean            NaN          NaN          NaN      NaN      NaN   \n",
       "std             NaN          NaN          NaN      NaN      NaN   \n",
       "min             NaN          NaN          NaN      NaN      NaN   \n",
       "25%             NaN          NaN          NaN      NaN      NaN   \n",
       "50%             NaN          NaN          NaN      NaN      NaN   \n",
       "75%             NaN          NaN          NaN      NaN      NaN   \n",
       "max             NaN          NaN          NaN      NaN      NaN   \n",
       "\n",
       "       W_OPERATION_CD   W_PARTS_AMT   W_LABOR_HOUR   W_LABOR_AMT  \\\n",
       "count          291982  5.000000e+05  500000.000000  5.000000e+05   \n",
       "unique           2628           NaN            NaN           NaN   \n",
       "top            SF9999           NaN            NaN           NaN   \n",
       "freq            12609           NaN            NaN           NaN   \n",
       "mean              NaN  1.062278e+04       1.150384  5.945114e+03   \n",
       "std               NaN  2.457396e+04       1.728805  2.124805e+04   \n",
       "min               NaN -4.680000e+05       0.000000 -6.655000e+04   \n",
       "25%               NaN  3.450000e+02       0.400000  1.500000e+03   \n",
       "50%               NaN  2.464000e+03       0.600000  3.000000e+03   \n",
       "75%               NaN  1.034000e+04       1.200000  6.035000e+03   \n",
       "max               NaN  1.298989e+06      80.000000  6.444360e+06   \n",
       "\n",
       "        W_SUBLET_HOUR   W_SUBLET_AMT  W_SHIPPING_AMT   W_TOTAL_AMT  \\\n",
       "count   500000.000000  500000.000000   500000.000000  5.000000e+05   \n",
       "unique            NaN            NaN             NaN           NaN   \n",
       "top               NaN            NaN             NaN           NaN   \n",
       "freq              NaN            NaN             NaN           NaN   \n",
       "mean         0.018938     832.358550     1340.297094  1.876624e+04   \n",
       "std          0.975827    7736.373741     6596.074081  3.346487e+04   \n",
       "min          0.000000  -67200.000000       -1.000000 -4.680000e+05   \n",
       "25%          0.000000       0.000000        0.000000  3.632000e+03   \n",
       "50%          0.000000       0.000000        0.000000  8.416000e+03   \n",
       "75%          0.000000       0.000000      498.000000  1.951000e+04   \n",
       "max        550.000000  614525.000000   641756.000000  1.801080e+06   \n",
       "\n",
       "       W_CFC_COMPANY_CD     W_CFC_RATE     W_CFC_AMT  W_FC_TO_FAILURE  \\\n",
       "count            439797  500000.000000  5.000000e+05    500000.000000   \n",
       "unique              612            NaN           NaN              NaN   \n",
       "top                P58X            NaN           NaN              NaN   \n",
       "freq              19230            NaN           NaN              NaN   \n",
       "mean                NaN      14.442892  1.831164e+04        35.185634   \n",
       "std                 NaN      24.720292  8.670428e+05        55.618201   \n",
       "min                 NaN       0.000000  0.000000e+00       -43.000000   \n",
       "25%                 NaN       0.000000  0.000000e+00        15.000000   \n",
       "50%                 NaN       0.000000  0.000000e+00        27.000000   \n",
       "75%                 NaN      22.000000  1.287000e+03        40.000000   \n",
       "max                 NaN     100.000000  9.923000e+07       999.000000   \n",
       "\n",
       "        W_SALES_TO_FAILURE           W_SB_NO             W_CRT_TIME_STAMP  \n",
       "count        500000.000000                 2                       500000  \n",
       "unique                 NaN                 1                       500000  \n",
       "top                    NaN  SBJP201208B00055  17-06-16 14:00:14.233000000  \n",
       "freq                   NaN                 2                            1  \n",
       "mean             28.682138               NaN                          NaN  \n",
       "std              26.790209               NaN                          NaN  \n",
       "min               0.000000               NaN                          NaN  \n",
       "25%              10.000000               NaN                          NaN  \n",
       "50%              23.000000               NaN                          NaN  \n",
       "75%              36.000000               NaN                          NaN  \n",
       "max             999.000000               NaN                          NaN  "
      ]
     },
     "execution_count": 17,
     "metadata": {},
     "output_type": "execute_result"
    }
   ],
   "source": [
    "warranty.describe(include=\"all\")"
   ]
  },
  {
   "cell_type": "code",
   "execution_count": 18,
   "metadata": {
    "ExecuteTime": {
     "end_time": "2019-06-25T06:50:57.366398Z",
     "start_time": "2019-06-25T06:50:54.122594Z"
    },
    "scrolled": true
   },
   "outputs": [
    {
     "data": {
      "text/plain": [
       "W_KEY                 500000\n",
       "W_BASE_CD                  7\n",
       "W_PROD_BASE_CD            28\n",
       "W_FIELD_CLAIM_DIV          3\n",
       "W_PROD_DIV                 7\n",
       "W_DMEX_DIV                 2\n",
       "W_PROCESS_MONTH          217\n",
       "W_DIST_CD                934\n",
       "W_DIST_COUNTRY_CD        109\n",
       "W_DIST_ISSUE_NO       391724\n",
       "W_SHOP_DIV                 5\n",
       "W_SHOP_CD                426\n",
       "W_DIV1                    13\n",
       "W_DIV2                    11\n",
       "W_DIV3                     4\n",
       "W_FIXED_DIV                1\n",
       "W_MINUS_DIV                2\n",
       "W_SRC_DIV                  2\n",
       "W_SRC_KEY             499055\n",
       "W_VIN                 486322\n",
       "W_FCOK                  4907\n",
       "W_PROD_MODEL_CD        11115\n",
       "W_SALES_DATE           10119\n",
       "W_FAILURE_DATE          7009\n",
       "W_MILEAGE_DIV              2\n",
       "W_MILEAGE              79079\n",
       "W_CAUSAL_PART_NO       62832\n",
       "W_TROUBLE_CC              57\n",
       "W_TROUBLE_CP             294\n",
       "W_TROUBLE_DF             515\n",
       "W_TROUBLE_MP              11\n",
       "W_DTC_1                    0\n",
       "W_DTC_2                    0\n",
       "W_OPERATION_CD          2628\n",
       "W_PARTS_AMT            43596\n",
       "W_LABOR_HOUR             272\n",
       "W_LABOR_AMT            17324\n",
       "W_SUBLET_HOUR            201\n",
       "W_SUBLET_AMT            6816\n",
       "W_SHIPPING_AMT         16036\n",
       "W_TOTAL_AMT            68426\n",
       "W_CFC_COMPANY_CD         612\n",
       "W_CFC_RATE                98\n",
       "W_CFC_AMT              22720\n",
       "W_FC_TO_FAILURE          239\n",
       "W_SALES_TO_FAILURE       226\n",
       "W_SB_NO                    1\n",
       "W_CRT_TIME_STAMP      500000\n",
       "dtype: int64"
      ]
     },
     "execution_count": 18,
     "metadata": {},
     "output_type": "execute_result"
    }
   ],
   "source": [
    "warranty.nunique() # Series -> DataFrame"
   ]
  },
  {
   "cell_type": "code",
   "execution_count": 29,
   "metadata": {
    "ExecuteTime": {
     "end_time": "2019-06-25T06:57:10.157148Z",
     "start_time": "2019-06-25T06:57:10.151732Z"
    }
   },
   "outputs": [
    {
     "data": {
      "text/plain": [
       "0    1\n",
       "1    2\n",
       "2    3\n",
       "3    4\n",
       "4    5\n",
       "Name: sanada, dtype: int64"
      ]
     },
     "execution_count": 29,
     "metadata": {},
     "output_type": "execute_result"
    }
   ],
   "source": [
    "a = pd.Series([1,2,3,4,5], name=\"sanada\")\n",
    "a"
   ]
  },
  {
   "cell_type": "code",
   "execution_count": 38,
   "metadata": {
    "ExecuteTime": {
     "end_time": "2019-06-25T07:04:03.099767Z",
     "start_time": "2019-06-25T07:04:03.094745Z"
    }
   },
   "outputs": [
    {
     "data": {
      "text/plain": [
       "0    1\n",
       "1    2\n",
       "2    3\n",
       "3    4\n",
       "Name: sanada, dtype: int64"
      ]
     },
     "execution_count": 38,
     "metadata": {},
     "output_type": "execute_result"
    }
   ],
   "source": [
    "a.loc[0:3]"
   ]
  },
  {
   "cell_type": "code",
   "execution_count": 39,
   "metadata": {
    "ExecuteTime": {
     "end_time": "2019-06-25T07:04:14.295019Z",
     "start_time": "2019-06-25T07:04:14.290049Z"
    }
   },
   "outputs": [
    {
     "data": {
      "text/plain": [
       "0    1\n",
       "1    2\n",
       "2    3\n",
       "Name: sanada, dtype: int64"
      ]
     },
     "execution_count": 39,
     "metadata": {},
     "output_type": "execute_result"
    }
   ],
   "source": [
    "a[0:3]"
   ]
  },
  {
   "cell_type": "code",
   "execution_count": 40,
   "metadata": {
    "ExecuteTime": {
     "end_time": "2019-06-25T07:04:26.885658Z",
     "start_time": "2019-06-25T07:04:26.880500Z"
    }
   },
   "outputs": [
    {
     "data": {
      "text/plain": [
       "0    1\n",
       "1    2\n",
       "2    3\n",
       "Name: sanada, dtype: int64"
      ]
     },
     "execution_count": 40,
     "metadata": {},
     "output_type": "execute_result"
    }
   ],
   "source": [
    "a.iloc[0:3]"
   ]
  },
  {
   "cell_type": "code",
   "execution_count": 33,
   "metadata": {
    "ExecuteTime": {
     "end_time": "2019-06-25T06:59:29.361735Z",
     "start_time": "2019-06-25T06:59:29.355915Z"
    }
   },
   "outputs": [
    {
     "data": {
      "text/plain": [
       "0    1\n",
       "2    3\n",
       "4    5\n",
       "Name: sanada, dtype: int64"
      ]
     },
     "execution_count": 33,
     "metadata": {},
     "output_type": "execute_result"
    }
   ],
   "source": [
    "array_tf = [True, False, True, False, True]\n",
    "a[array_tf]"
   ]
  },
  {
   "cell_type": "code",
   "execution_count": 21,
   "metadata": {
    "ExecuteTime": {
     "end_time": "2019-06-25T06:55:26.547462Z",
     "start_time": "2019-06-25T06:55:23.317426Z"
    },
    "scrolled": true
   },
   "outputs": [
    {
     "data": {
      "text/plain": [
       "W_KEY                 500000\n",
       "W_BASE_CD                  7\n",
       "W_PROD_BASE_CD            28\n",
       "W_FIELD_CLAIM_DIV          3\n",
       "W_PROD_DIV                 7\n",
       "W_DMEX_DIV                 2\n",
       "W_PROCESS_MONTH          217\n",
       "W_DIST_CD                934\n",
       "W_DIST_COUNTRY_CD        109\n",
       "W_DIST_ISSUE_NO       391724\n",
       "W_SHOP_DIV                 5\n",
       "W_SHOP_CD                426\n",
       "W_DIV1                    13\n",
       "W_DIV2                    11\n",
       "W_DIV3                     4\n",
       "W_MINUS_DIV                2\n",
       "W_SRC_DIV                  2\n",
       "W_SRC_KEY             499055\n",
       "W_VIN                 486322\n",
       "W_FCOK                  4907\n",
       "W_PROD_MODEL_CD        11115\n",
       "W_SALES_DATE           10119\n",
       "W_FAILURE_DATE          7009\n",
       "W_MILEAGE_DIV              2\n",
       "W_MILEAGE              79079\n",
       "W_CAUSAL_PART_NO       62832\n",
       "W_TROUBLE_CC              57\n",
       "W_TROUBLE_CP             294\n",
       "W_TROUBLE_DF             515\n",
       "W_TROUBLE_MP              11\n",
       "W_OPERATION_CD          2628\n",
       "W_PARTS_AMT            43596\n",
       "W_LABOR_HOUR             272\n",
       "W_LABOR_AMT            17324\n",
       "W_SUBLET_HOUR            201\n",
       "W_SUBLET_AMT            6816\n",
       "W_SHIPPING_AMT         16036\n",
       "W_TOTAL_AMT            68426\n",
       "W_CFC_COMPANY_CD         612\n",
       "W_CFC_RATE                98\n",
       "W_CFC_AMT              22720\n",
       "W_FC_TO_FAILURE          239\n",
       "W_SALES_TO_FAILURE       226\n",
       "W_CRT_TIME_STAMP      500000\n",
       "dtype: int64"
      ]
     },
     "execution_count": 21,
     "metadata": {},
     "output_type": "execute_result"
    }
   ],
   "source": [
    "n_unique_series = warranty.nunique()\n",
    "n_unique_series[n_unique_series >= 2]"
   ]
  },
  {
   "cell_type": "code",
   "execution_count": 55,
   "metadata": {
    "ExecuteTime": {
     "end_time": "2019-06-25T07:11:31.036256Z",
     "start_time": "2019-06-25T07:11:30.549037Z"
    }
   },
   "outputs": [
    {
     "data": {
      "text/html": [
       "<div>\n",
       "<style scoped>\n",
       "    .dataframe tbody tr th:only-of-type {\n",
       "        vertical-align: middle;\n",
       "    }\n",
       "\n",
       "    .dataframe tbody tr th {\n",
       "        vertical-align: top;\n",
       "    }\n",
       "\n",
       "    .dataframe thead th {\n",
       "        text-align: right;\n",
       "    }\n",
       "</style>\n",
       "<table border=\"1\" class=\"dataframe\">\n",
       "  <thead>\n",
       "    <tr style=\"text-align: right;\">\n",
       "      <th></th>\n",
       "      <th>W_KEY</th>\n",
       "      <th>W_BASE_CD</th>\n",
       "      <th>W_PROD_BASE_CD</th>\n",
       "      <th>W_FIELD_CLAIM_DIV</th>\n",
       "      <th>W_PROD_DIV</th>\n",
       "      <th>W_DMEX_DIV</th>\n",
       "      <th>W_PROCESS_MONTH</th>\n",
       "      <th>W_DIST_CD</th>\n",
       "      <th>W_DIST_COUNTRY_CD</th>\n",
       "      <th>W_DIST_ISSUE_NO</th>\n",
       "      <th>W_SHOP_DIV</th>\n",
       "      <th>W_SHOP_CD</th>\n",
       "      <th>W_DIV1</th>\n",
       "      <th>W_DIV2</th>\n",
       "      <th>W_DIV3</th>\n",
       "      <th>W_FIXED_DIV</th>\n",
       "      <th>W_MINUS_DIV</th>\n",
       "      <th>W_SRC_DIV</th>\n",
       "      <th>W_SRC_KEY</th>\n",
       "      <th>W_VIN</th>\n",
       "      <th>W_FCOK</th>\n",
       "      <th>W_PROD_MODEL_CD</th>\n",
       "      <th>W_SALES_DATE</th>\n",
       "      <th>W_FAILURE_DATE</th>\n",
       "      <th>W_MILEAGE_DIV</th>\n",
       "      <th>W_MILEAGE</th>\n",
       "      <th>W_CAUSAL_PART_NO</th>\n",
       "      <th>W_TROUBLE_CC</th>\n",
       "      <th>W_TROUBLE_CP</th>\n",
       "      <th>W_TROUBLE_DF</th>\n",
       "      <th>W_TROUBLE_MP</th>\n",
       "      <th>W_DTC_1</th>\n",
       "      <th>W_DTC_2</th>\n",
       "      <th>W_OPERATION_CD</th>\n",
       "      <th>W_PARTS_AMT</th>\n",
       "      <th>W_LABOR_HOUR</th>\n",
       "      <th>W_LABOR_AMT</th>\n",
       "      <th>W_SUBLET_HOUR</th>\n",
       "      <th>W_SUBLET_AMT</th>\n",
       "      <th>W_SHIPPING_AMT</th>\n",
       "      <th>W_TOTAL_AMT</th>\n",
       "      <th>W_CFC_COMPANY_CD</th>\n",
       "      <th>W_CFC_RATE</th>\n",
       "      <th>W_CFC_AMT</th>\n",
       "      <th>W_FC_TO_FAILURE</th>\n",
       "      <th>W_SALES_TO_FAILURE</th>\n",
       "      <th>W_SB_NO</th>\n",
       "      <th>W_CRT_TIME_STAMP</th>\n",
       "    </tr>\n",
       "  </thead>\n",
       "  <tbody>\n",
       "    <tr>\n",
       "      <th>0</th>\n",
       "      <td>False</td>\n",
       "      <td>False</td>\n",
       "      <td>False</td>\n",
       "      <td>False</td>\n",
       "      <td>False</td>\n",
       "      <td>False</td>\n",
       "      <td>False</td>\n",
       "      <td>False</td>\n",
       "      <td>False</td>\n",
       "      <td>False</td>\n",
       "      <td>False</td>\n",
       "      <td>True</td>\n",
       "      <td>True</td>\n",
       "      <td>False</td>\n",
       "      <td>False</td>\n",
       "      <td>False</td>\n",
       "      <td>False</td>\n",
       "      <td>False</td>\n",
       "      <td>False</td>\n",
       "      <td>False</td>\n",
       "      <td>False</td>\n",
       "      <td>False</td>\n",
       "      <td>False</td>\n",
       "      <td>False</td>\n",
       "      <td>False</td>\n",
       "      <td>False</td>\n",
       "      <td>False</td>\n",
       "      <td>True</td>\n",
       "      <td>False</td>\n",
       "      <td>False</td>\n",
       "      <td>True</td>\n",
       "      <td>True</td>\n",
       "      <td>True</td>\n",
       "      <td>False</td>\n",
       "      <td>False</td>\n",
       "      <td>False</td>\n",
       "      <td>False</td>\n",
       "      <td>False</td>\n",
       "      <td>False</td>\n",
       "      <td>False</td>\n",
       "      <td>False</td>\n",
       "      <td>False</td>\n",
       "      <td>False</td>\n",
       "      <td>False</td>\n",
       "      <td>False</td>\n",
       "      <td>False</td>\n",
       "      <td>True</td>\n",
       "      <td>False</td>\n",
       "    </tr>\n",
       "    <tr>\n",
       "      <th>1</th>\n",
       "      <td>False</td>\n",
       "      <td>False</td>\n",
       "      <td>False</td>\n",
       "      <td>False</td>\n",
       "      <td>False</td>\n",
       "      <td>False</td>\n",
       "      <td>False</td>\n",
       "      <td>False</td>\n",
       "      <td>False</td>\n",
       "      <td>False</td>\n",
       "      <td>False</td>\n",
       "      <td>True</td>\n",
       "      <td>True</td>\n",
       "      <td>False</td>\n",
       "      <td>False</td>\n",
       "      <td>False</td>\n",
       "      <td>False</td>\n",
       "      <td>False</td>\n",
       "      <td>False</td>\n",
       "      <td>False</td>\n",
       "      <td>False</td>\n",
       "      <td>False</td>\n",
       "      <td>False</td>\n",
       "      <td>False</td>\n",
       "      <td>False</td>\n",
       "      <td>False</td>\n",
       "      <td>False</td>\n",
       "      <td>True</td>\n",
       "      <td>False</td>\n",
       "      <td>False</td>\n",
       "      <td>True</td>\n",
       "      <td>True</td>\n",
       "      <td>True</td>\n",
       "      <td>False</td>\n",
       "      <td>False</td>\n",
       "      <td>False</td>\n",
       "      <td>False</td>\n",
       "      <td>False</td>\n",
       "      <td>False</td>\n",
       "      <td>False</td>\n",
       "      <td>False</td>\n",
       "      <td>False</td>\n",
       "      <td>False</td>\n",
       "      <td>False</td>\n",
       "      <td>False</td>\n",
       "      <td>False</td>\n",
       "      <td>True</td>\n",
       "      <td>False</td>\n",
       "    </tr>\n",
       "    <tr>\n",
       "      <th>2</th>\n",
       "      <td>False</td>\n",
       "      <td>False</td>\n",
       "      <td>False</td>\n",
       "      <td>False</td>\n",
       "      <td>False</td>\n",
       "      <td>False</td>\n",
       "      <td>False</td>\n",
       "      <td>False</td>\n",
       "      <td>False</td>\n",
       "      <td>False</td>\n",
       "      <td>False</td>\n",
       "      <td>True</td>\n",
       "      <td>True</td>\n",
       "      <td>False</td>\n",
       "      <td>False</td>\n",
       "      <td>False</td>\n",
       "      <td>False</td>\n",
       "      <td>False</td>\n",
       "      <td>False</td>\n",
       "      <td>False</td>\n",
       "      <td>False</td>\n",
       "      <td>False</td>\n",
       "      <td>False</td>\n",
       "      <td>False</td>\n",
       "      <td>False</td>\n",
       "      <td>False</td>\n",
       "      <td>False</td>\n",
       "      <td>True</td>\n",
       "      <td>False</td>\n",
       "      <td>False</td>\n",
       "      <td>True</td>\n",
       "      <td>True</td>\n",
       "      <td>True</td>\n",
       "      <td>False</td>\n",
       "      <td>False</td>\n",
       "      <td>False</td>\n",
       "      <td>False</td>\n",
       "      <td>False</td>\n",
       "      <td>False</td>\n",
       "      <td>False</td>\n",
       "      <td>False</td>\n",
       "      <td>False</td>\n",
       "      <td>False</td>\n",
       "      <td>False</td>\n",
       "      <td>False</td>\n",
       "      <td>False</td>\n",
       "      <td>True</td>\n",
       "      <td>False</td>\n",
       "    </tr>\n",
       "    <tr>\n",
       "      <th>3</th>\n",
       "      <td>False</td>\n",
       "      <td>False</td>\n",
       "      <td>False</td>\n",
       "      <td>False</td>\n",
       "      <td>False</td>\n",
       "      <td>False</td>\n",
       "      <td>False</td>\n",
       "      <td>False</td>\n",
       "      <td>False</td>\n",
       "      <td>False</td>\n",
       "      <td>False</td>\n",
       "      <td>True</td>\n",
       "      <td>True</td>\n",
       "      <td>False</td>\n",
       "      <td>False</td>\n",
       "      <td>False</td>\n",
       "      <td>False</td>\n",
       "      <td>False</td>\n",
       "      <td>False</td>\n",
       "      <td>False</td>\n",
       "      <td>False</td>\n",
       "      <td>False</td>\n",
       "      <td>False</td>\n",
       "      <td>False</td>\n",
       "      <td>False</td>\n",
       "      <td>False</td>\n",
       "      <td>False</td>\n",
       "      <td>True</td>\n",
       "      <td>False</td>\n",
       "      <td>False</td>\n",
       "      <td>True</td>\n",
       "      <td>True</td>\n",
       "      <td>True</td>\n",
       "      <td>False</td>\n",
       "      <td>False</td>\n",
       "      <td>False</td>\n",
       "      <td>False</td>\n",
       "      <td>False</td>\n",
       "      <td>False</td>\n",
       "      <td>False</td>\n",
       "      <td>False</td>\n",
       "      <td>False</td>\n",
       "      <td>False</td>\n",
       "      <td>False</td>\n",
       "      <td>False</td>\n",
       "      <td>False</td>\n",
       "      <td>True</td>\n",
       "      <td>False</td>\n",
       "    </tr>\n",
       "    <tr>\n",
       "      <th>4</th>\n",
       "      <td>False</td>\n",
       "      <td>False</td>\n",
       "      <td>False</td>\n",
       "      <td>False</td>\n",
       "      <td>False</td>\n",
       "      <td>False</td>\n",
       "      <td>False</td>\n",
       "      <td>False</td>\n",
       "      <td>False</td>\n",
       "      <td>True</td>\n",
       "      <td>False</td>\n",
       "      <td>False</td>\n",
       "      <td>False</td>\n",
       "      <td>False</td>\n",
       "      <td>True</td>\n",
       "      <td>False</td>\n",
       "      <td>False</td>\n",
       "      <td>False</td>\n",
       "      <td>False</td>\n",
       "      <td>False</td>\n",
       "      <td>False</td>\n",
       "      <td>False</td>\n",
       "      <td>False</td>\n",
       "      <td>False</td>\n",
       "      <td>False</td>\n",
       "      <td>False</td>\n",
       "      <td>False</td>\n",
       "      <td>False</td>\n",
       "      <td>False</td>\n",
       "      <td>False</td>\n",
       "      <td>False</td>\n",
       "      <td>True</td>\n",
       "      <td>True</td>\n",
       "      <td>True</td>\n",
       "      <td>False</td>\n",
       "      <td>False</td>\n",
       "      <td>False</td>\n",
       "      <td>False</td>\n",
       "      <td>False</td>\n",
       "      <td>False</td>\n",
       "      <td>False</td>\n",
       "      <td>False</td>\n",
       "      <td>False</td>\n",
       "      <td>False</td>\n",
       "      <td>False</td>\n",
       "      <td>False</td>\n",
       "      <td>True</td>\n",
       "      <td>False</td>\n",
       "    </tr>\n",
       "  </tbody>\n",
       "</table>\n",
       "</div>"
      ],
      "text/plain": [
       "   W_KEY  W_BASE_CD  W_PROD_BASE_CD  W_FIELD_CLAIM_DIV  W_PROD_DIV  \\\n",
       "0  False      False           False              False       False   \n",
       "1  False      False           False              False       False   \n",
       "2  False      False           False              False       False   \n",
       "3  False      False           False              False       False   \n",
       "4  False      False           False              False       False   \n",
       "\n",
       "   W_DMEX_DIV  W_PROCESS_MONTH  W_DIST_CD  W_DIST_COUNTRY_CD  W_DIST_ISSUE_NO  \\\n",
       "0       False            False      False              False            False   \n",
       "1       False            False      False              False            False   \n",
       "2       False            False      False              False            False   \n",
       "3       False            False      False              False            False   \n",
       "4       False            False      False              False             True   \n",
       "\n",
       "   W_SHOP_DIV  W_SHOP_CD  W_DIV1  W_DIV2  W_DIV3  W_FIXED_DIV  W_MINUS_DIV  \\\n",
       "0       False       True    True   False   False        False        False   \n",
       "1       False       True    True   False   False        False        False   \n",
       "2       False       True    True   False   False        False        False   \n",
       "3       False       True    True   False   False        False        False   \n",
       "4       False      False   False   False    True        False        False   \n",
       "\n",
       "   W_SRC_DIV  W_SRC_KEY  W_VIN  W_FCOK  W_PROD_MODEL_CD  W_SALES_DATE  \\\n",
       "0      False      False  False   False            False         False   \n",
       "1      False      False  False   False            False         False   \n",
       "2      False      False  False   False            False         False   \n",
       "3      False      False  False   False            False         False   \n",
       "4      False      False  False   False            False         False   \n",
       "\n",
       "   W_FAILURE_DATE  W_MILEAGE_DIV  W_MILEAGE  W_CAUSAL_PART_NO  W_TROUBLE_CC  \\\n",
       "0           False          False      False             False          True   \n",
       "1           False          False      False             False          True   \n",
       "2           False          False      False             False          True   \n",
       "3           False          False      False             False          True   \n",
       "4           False          False      False             False         False   \n",
       "\n",
       "   W_TROUBLE_CP  W_TROUBLE_DF  W_TROUBLE_MP  W_DTC_1  W_DTC_2  W_OPERATION_CD  \\\n",
       "0         False         False          True     True     True           False   \n",
       "1         False         False          True     True     True           False   \n",
       "2         False         False          True     True     True           False   \n",
       "3         False         False          True     True     True           False   \n",
       "4         False         False         False     True     True            True   \n",
       "\n",
       "   W_PARTS_AMT  W_LABOR_HOUR  W_LABOR_AMT  W_SUBLET_HOUR  W_SUBLET_AMT  \\\n",
       "0        False         False        False          False         False   \n",
       "1        False         False        False          False         False   \n",
       "2        False         False        False          False         False   \n",
       "3        False         False        False          False         False   \n",
       "4        False         False        False          False         False   \n",
       "\n",
       "   W_SHIPPING_AMT  W_TOTAL_AMT  W_CFC_COMPANY_CD  W_CFC_RATE  W_CFC_AMT  \\\n",
       "0           False        False             False       False      False   \n",
       "1           False        False             False       False      False   \n",
       "2           False        False             False       False      False   \n",
       "3           False        False             False       False      False   \n",
       "4           False        False             False       False      False   \n",
       "\n",
       "   W_FC_TO_FAILURE  W_SALES_TO_FAILURE  W_SB_NO  W_CRT_TIME_STAMP  \n",
       "0            False               False     True             False  \n",
       "1            False               False     True             False  \n",
       "2            False               False     True             False  \n",
       "3            False               False     True             False  \n",
       "4            False               False     True             False  "
      ]
     },
     "execution_count": 55,
     "metadata": {},
     "output_type": "execute_result"
    }
   ],
   "source": [
    "warranty.isna().head()"
   ]
  },
  {
   "cell_type": "code",
   "execution_count": 54,
   "metadata": {
    "ExecuteTime": {
     "end_time": "2019-06-25T07:11:16.272825Z",
     "start_time": "2019-06-25T07:11:15.503785Z"
    },
    "scrolled": true
   },
   "outputs": [
    {
     "data": {
      "text/plain": [
       "W_KEY                      0\n",
       "W_BASE_CD                  0\n",
       "W_PROD_BASE_CD             0\n",
       "W_FIELD_CLAIM_DIV          0\n",
       "W_PROD_DIV                 0\n",
       "W_DMEX_DIV                 0\n",
       "W_PROCESS_MONTH            0\n",
       "W_DIST_CD               6161\n",
       "W_DIST_COUNTRY_CD          0\n",
       "W_DIST_ISSUE_NO        85460\n",
       "W_SHOP_DIV             46242\n",
       "W_SHOP_CD             288219\n",
       "W_DIV1                267893\n",
       "W_DIV2                     0\n",
       "W_DIV3                204740\n",
       "W_FIXED_DIV                0\n",
       "W_MINUS_DIV                0\n",
       "W_SRC_DIV                  0\n",
       "W_SRC_KEY                  0\n",
       "W_VIN                      0\n",
       "W_FCOK                     0\n",
       "W_PROD_MODEL_CD        31493\n",
       "W_SALES_DATE               0\n",
       "W_FAILURE_DATE             0\n",
       "W_MILEAGE_DIV              0\n",
       "W_MILEAGE                  0\n",
       "W_CAUSAL_PART_NO           0\n",
       "W_TROUBLE_CC          281780\n",
       "W_TROUBLE_CP               0\n",
       "W_TROUBLE_DF               0\n",
       "W_TROUBLE_MP          281780\n",
       "W_DTC_1               500000\n",
       "W_DTC_2               500000\n",
       "W_OPERATION_CD        208018\n",
       "W_PARTS_AMT                0\n",
       "W_LABOR_HOUR               0\n",
       "W_LABOR_AMT                0\n",
       "W_SUBLET_HOUR              0\n",
       "W_SUBLET_AMT               0\n",
       "W_SHIPPING_AMT             0\n",
       "W_TOTAL_AMT                0\n",
       "W_CFC_COMPANY_CD       60203\n",
       "W_CFC_RATE                 0\n",
       "W_CFC_AMT                  0\n",
       "W_FC_TO_FAILURE            0\n",
       "W_SALES_TO_FAILURE         0\n",
       "W_SB_NO               499998\n",
       "W_CRT_TIME_STAMP           0\n",
       "dtype: int64"
      ]
     },
     "execution_count": 54,
     "metadata": {},
     "output_type": "execute_result"
    }
   ],
   "source": [
    "warranty.isna().sum() # naの数"
   ]
  },
  {
   "cell_type": "code",
   "execution_count": 57,
   "metadata": {
    "ExecuteTime": {
     "end_time": "2019-06-25T07:14:53.028067Z",
     "start_time": "2019-06-25T07:14:53.024025Z"
    }
   },
   "outputs": [
    {
     "data": {
      "text/plain": [
       "500000"
      ]
     },
     "execution_count": 57,
     "metadata": {},
     "output_type": "execute_result"
    }
   ],
   "source": [
    "warranty.shape[0]"
   ]
  },
  {
   "cell_type": "code",
   "execution_count": 58,
   "metadata": {
    "ExecuteTime": {
     "end_time": "2019-06-25T07:15:02.260318Z",
     "start_time": "2019-06-25T07:15:01.475345Z"
    },
    "scrolled": true
   },
   "outputs": [
    {
     "data": {
      "text/plain": [
       "W_KEY                 0.000000\n",
       "W_BASE_CD             0.000000\n",
       "W_PROD_BASE_CD        0.000000\n",
       "W_FIELD_CLAIM_DIV     0.000000\n",
       "W_PROD_DIV            0.000000\n",
       "W_DMEX_DIV            0.000000\n",
       "W_PROCESS_MONTH       0.000000\n",
       "W_DIST_CD             0.012322\n",
       "W_DIST_COUNTRY_CD     0.000000\n",
       "W_DIST_ISSUE_NO       0.170920\n",
       "W_SHOP_DIV            0.092484\n",
       "W_SHOP_CD             0.576438\n",
       "W_DIV1                0.535786\n",
       "W_DIV2                0.000000\n",
       "W_DIV3                0.409480\n",
       "W_FIXED_DIV           0.000000\n",
       "W_MINUS_DIV           0.000000\n",
       "W_SRC_DIV             0.000000\n",
       "W_SRC_KEY             0.000000\n",
       "W_VIN                 0.000000\n",
       "W_FCOK                0.000000\n",
       "W_PROD_MODEL_CD       0.062986\n",
       "W_SALES_DATE          0.000000\n",
       "W_FAILURE_DATE        0.000000\n",
       "W_MILEAGE_DIV         0.000000\n",
       "W_MILEAGE             0.000000\n",
       "W_CAUSAL_PART_NO      0.000000\n",
       "W_TROUBLE_CC          0.563560\n",
       "W_TROUBLE_CP          0.000000\n",
       "W_TROUBLE_DF          0.000000\n",
       "W_TROUBLE_MP          0.563560\n",
       "W_DTC_1               1.000000\n",
       "W_DTC_2               1.000000\n",
       "W_OPERATION_CD        0.416036\n",
       "W_PARTS_AMT           0.000000\n",
       "W_LABOR_HOUR          0.000000\n",
       "W_LABOR_AMT           0.000000\n",
       "W_SUBLET_HOUR         0.000000\n",
       "W_SUBLET_AMT          0.000000\n",
       "W_SHIPPING_AMT        0.000000\n",
       "W_TOTAL_AMT           0.000000\n",
       "W_CFC_COMPANY_CD      0.120406\n",
       "W_CFC_RATE            0.000000\n",
       "W_CFC_AMT             0.000000\n",
       "W_FC_TO_FAILURE       0.000000\n",
       "W_SALES_TO_FAILURE    0.000000\n",
       "W_SB_NO               0.999996\n",
       "W_CRT_TIME_STAMP      0.000000\n",
       "dtype: float64"
      ]
     },
     "execution_count": 58,
     "metadata": {},
     "output_type": "execute_result"
    }
   ],
   "source": [
    "warranty.isna().sum() / warranty.shape[0]"
   ]
  },
  {
   "cell_type": "code",
   "execution_count": 63,
   "metadata": {
    "ExecuteTime": {
     "end_time": "2019-06-25T07:19:58.082683Z",
     "start_time": "2019-06-25T07:19:57.377580Z"
    }
   },
   "outputs": [
    {
     "data": {
      "text/plain": [
       "W_DTC_1               1.000000\n",
       "W_DTC_2               1.000000\n",
       "W_SB_NO               0.999996\n",
       "W_SHOP_CD             0.576438\n",
       "W_TROUBLE_MP          0.563560\n",
       "W_TROUBLE_CC          0.563560\n",
       "W_DIV1                0.535786\n",
       "W_OPERATION_CD        0.416036\n",
       "W_DIV3                0.409480\n",
       "W_DIST_ISSUE_NO       0.170920\n",
       "W_CFC_COMPANY_CD      0.120406\n",
       "W_SHOP_DIV            0.092484\n",
       "W_PROD_MODEL_CD       0.062986\n",
       "W_DIST_CD             0.012322\n",
       "W_FIXED_DIV           0.000000\n",
       "W_MINUS_DIV           0.000000\n",
       "W_DIV2                0.000000\n",
       "W_SRC_DIV             0.000000\n",
       "W_CRT_TIME_STAMP      0.000000\n",
       "W_VIN                 0.000000\n",
       "W_DIST_COUNTRY_CD     0.000000\n",
       "W_PROCESS_MONTH       0.000000\n",
       "W_DMEX_DIV            0.000000\n",
       "W_PROD_DIV            0.000000\n",
       "W_FIELD_CLAIM_DIV     0.000000\n",
       "W_PROD_BASE_CD        0.000000\n",
       "W_BASE_CD             0.000000\n",
       "W_SRC_KEY             0.000000\n",
       "W_FAILURE_DATE        0.000000\n",
       "W_FCOK                0.000000\n",
       "W_SUBLET_HOUR         0.000000\n",
       "W_SALES_TO_FAILURE    0.000000\n",
       "W_FC_TO_FAILURE       0.000000\n",
       "W_CFC_AMT             0.000000\n",
       "W_CFC_RATE            0.000000\n",
       "W_TOTAL_AMT           0.000000\n",
       "W_SHIPPING_AMT        0.000000\n",
       "W_SUBLET_AMT          0.000000\n",
       "W_LABOR_AMT           0.000000\n",
       "W_SALES_DATE          0.000000\n",
       "W_LABOR_HOUR          0.000000\n",
       "W_PARTS_AMT           0.000000\n",
       "W_TROUBLE_DF          0.000000\n",
       "W_TROUBLE_CP          0.000000\n",
       "W_CAUSAL_PART_NO      0.000000\n",
       "W_MILEAGE             0.000000\n",
       "W_MILEAGE_DIV         0.000000\n",
       "W_KEY                 0.000000\n",
       "dtype: float64"
      ]
     },
     "execution_count": 63,
     "metadata": {},
     "output_type": "execute_result"
    }
   ],
   "source": [
    "(warranty.isna().sum() / warranty.shape[0]).\\\n",
    "    sort_values(ascending=False)"
   ]
  },
  {
   "cell_type": "code",
   "execution_count": 53,
   "metadata": {
    "ExecuteTime": {
     "end_time": "2019-06-25T07:10:26.337696Z",
     "start_time": "2019-06-25T07:10:26.127793Z"
    }
   },
   "outputs": [],
   "source": [
    "warranty_sub = warranty.loc[:,n_unique_series >= 2] # : 全部"
   ]
  },
  {
   "cell_type": "code",
   "execution_count": 52,
   "metadata": {
    "ExecuteTime": {
     "end_time": "2019-06-25T07:08:39.287027Z",
     "start_time": "2019-06-25T07:08:39.277373Z"
    }
   },
   "outputs": [
    {
     "data": {
      "text/html": [
       "<div>\n",
       "<style scoped>\n",
       "    .dataframe tbody tr th:only-of-type {\n",
       "        vertical-align: middle;\n",
       "    }\n",
       "\n",
       "    .dataframe tbody tr th {\n",
       "        vertical-align: top;\n",
       "    }\n",
       "\n",
       "    .dataframe thead th {\n",
       "        text-align: right;\n",
       "    }\n",
       "</style>\n",
       "<table border=\"1\" class=\"dataframe\">\n",
       "  <thead>\n",
       "    <tr style=\"text-align: right;\">\n",
       "      <th></th>\n",
       "      <th>W_KEY</th>\n",
       "      <th>W_BASE_CD</th>\n",
       "    </tr>\n",
       "  </thead>\n",
       "  <tbody>\n",
       "    <tr>\n",
       "      <th>0</th>\n",
       "      <td>WRATJP200903B000627</td>\n",
       "      <td>100100</td>\n",
       "    </tr>\n",
       "    <tr>\n",
       "      <th>1</th>\n",
       "      <td>WRITJP200808B000995</td>\n",
       "      <td>100100</td>\n",
       "    </tr>\n",
       "    <tr>\n",
       "      <th>2</th>\n",
       "      <td>WRUSJP201501A000126</td>\n",
       "      <td>100100</td>\n",
       "    </tr>\n",
       "    <tr>\n",
       "      <th>3</th>\n",
       "      <td>WRDKJP200712B002259</td>\n",
       "      <td>100100</td>\n",
       "    </tr>\n",
       "    <tr>\n",
       "      <th>4</th>\n",
       "      <td>WRJPJP199812A001149</td>\n",
       "      <td>100100</td>\n",
       "    </tr>\n",
       "    <tr>\n",
       "      <th>5</th>\n",
       "      <td>WRJPJP201006B015977</td>\n",
       "      <td>100100</td>\n",
       "    </tr>\n",
       "  </tbody>\n",
       "</table>\n",
       "</div>"
      ],
      "text/plain": [
       "                 W_KEY W_BASE_CD\n",
       "0  WRATJP200903B000627    100100\n",
       "1  WRITJP200808B000995    100100\n",
       "2  WRUSJP201501A000126    100100\n",
       "3  WRDKJP200712B002259    100100\n",
       "4  WRJPJP199812A001149    100100\n",
       "5  WRJPJP201006B015977    100100"
      ]
     },
     "execution_count": 52,
     "metadata": {},
     "output_type": "execute_result"
    }
   ],
   "source": [
    "warranty.loc[0:5,[\"W_KEY\", \"W_BASE_CD\"]]"
   ]
  },
  {
   "cell_type": "code",
   "execution_count": 47,
   "metadata": {
    "ExecuteTime": {
     "end_time": "2019-06-25T07:06:23.016432Z",
     "start_time": "2019-06-25T07:06:23.008222Z"
    }
   },
   "outputs": [
    {
     "data": {
      "text/html": [
       "<div>\n",
       "<style scoped>\n",
       "    .dataframe tbody tr th:only-of-type {\n",
       "        vertical-align: middle;\n",
       "    }\n",
       "\n",
       "    .dataframe tbody tr th {\n",
       "        vertical-align: top;\n",
       "    }\n",
       "\n",
       "    .dataframe thead th {\n",
       "        text-align: right;\n",
       "    }\n",
       "</style>\n",
       "<table border=\"1\" class=\"dataframe\">\n",
       "  <thead>\n",
       "    <tr style=\"text-align: right;\">\n",
       "      <th></th>\n",
       "      <th>W_KEY</th>\n",
       "      <th>W_BASE_CD</th>\n",
       "    </tr>\n",
       "  </thead>\n",
       "  <tbody>\n",
       "    <tr>\n",
       "      <th>0</th>\n",
       "      <td>WRATJP200903B000627</td>\n",
       "      <td>100100</td>\n",
       "    </tr>\n",
       "    <tr>\n",
       "      <th>1</th>\n",
       "      <td>WRITJP200808B000995</td>\n",
       "      <td>100100</td>\n",
       "    </tr>\n",
       "    <tr>\n",
       "      <th>2</th>\n",
       "      <td>WRUSJP201501A000126</td>\n",
       "      <td>100100</td>\n",
       "    </tr>\n",
       "    <tr>\n",
       "      <th>3</th>\n",
       "      <td>WRDKJP200712B002259</td>\n",
       "      <td>100100</td>\n",
       "    </tr>\n",
       "    <tr>\n",
       "      <th>4</th>\n",
       "      <td>WRJPJP199812A001149</td>\n",
       "      <td>100100</td>\n",
       "    </tr>\n",
       "  </tbody>\n",
       "</table>\n",
       "</div>"
      ],
      "text/plain": [
       "                 W_KEY W_BASE_CD\n",
       "0  WRATJP200903B000627    100100\n",
       "1  WRITJP200808B000995    100100\n",
       "2  WRUSJP201501A000126    100100\n",
       "3  WRDKJP200712B002259    100100\n",
       "4  WRJPJP199812A001149    100100"
      ]
     },
     "execution_count": 47,
     "metadata": {},
     "output_type": "execute_result"
    }
   ],
   "source": [
    "warranty.iloc[0:5,0:2]"
   ]
  },
  {
   "cell_type": "code",
   "execution_count": 65,
   "metadata": {
    "ExecuteTime": {
     "end_time": "2019-06-25T07:22:27.054373Z",
     "start_time": "2019-06-25T07:22:27.041057Z"
    }
   },
   "outputs": [],
   "source": [
    "%matplotlib inline"
   ]
  },
  {
   "cell_type": "code",
   "execution_count": 67,
   "metadata": {
    "ExecuteTime": {
     "end_time": "2019-06-25T07:23:30.644860Z",
     "start_time": "2019-06-25T07:23:30.642452Z"
    }
   },
   "outputs": [],
   "source": [
    "import matplotlib.pyplot as plt"
   ]
  },
  {
   "cell_type": "code",
   "execution_count": 69,
   "metadata": {
    "ExecuteTime": {
     "end_time": "2019-06-25T07:23:59.890096Z",
     "start_time": "2019-06-25T07:23:59.539114Z"
    }
   },
   "outputs": [
    {
     "data": {
      "text/plain": [
       "<matplotlib.axes._subplots.AxesSubplot at 0x11fe63908>"
      ]
     },
     "execution_count": 69,
     "metadata": {},
     "output_type": "execute_result"
    },
    {
     "data": {
      "image/png": "[encoded data removed]",
      "text/plain": [
       "<Figure size 432x288 with 1 Axes>"
      ]
     },
     "metadata": {
      "needs_background": "light"
     },
     "output_type": "display_data"
    }
   ],
   "source": [
    "warranty.W_LABOR_AMT.hist(bins=100)"
   ]
  },
  {
   "cell_type": "code",
   "execution_count": 70,
   "metadata": {
    "ExecuteTime": {
     "end_time": "2019-06-25T07:24:39.024867Z",
     "start_time": "2019-06-25T07:24:38.670648Z"
    }
   },
   "outputs": [
    {
     "data": {
      "text/plain": [
       "<matplotlib.axes._subplots.AxesSubplot at 0x11dbe1e10>"
      ]
     },
     "execution_count": 70,
     "metadata": {},
     "output_type": "execute_result"
    },
    {
     "data": {
      "image/png": "[encoded data removed]",
      "text/plain": [
       "<Figure size 432x288 with 1 Axes>"
      ]
     },
     "metadata": {
      "needs_background": "light"
     },
     "output_type": "display_data"
    }
   ],
   "source": [
    "warranty.W_SALES_TO_FAILURE.hist(bins=100)"
   ]
  },
  {
   "cell_type": "code",
   "execution_count": 72,
   "metadata": {
    "ExecuteTime": {
     "end_time": "2019-06-25T07:26:40.820937Z",
     "start_time": "2019-06-25T07:26:40.806768Z"
    },
    "scrolled": true
   },
   "outputs": [
    {
     "data": {
      "text/plain": [
       "999        1\n",
       "238        1\n",
       "231        1\n",
       "230        1\n",
       "226        1\n",
       "225        1\n",
       "223        1\n",
       "222        1\n",
       "221        1\n",
       "220        1\n",
       "219        1\n",
       "217        2\n",
       "216        1\n",
       "213        1\n",
       "212        1\n",
       "211        3\n",
       "210        2\n",
       "208        4\n",
       "207        2\n",
       "206        3\n",
       "205        3\n",
       "204        1\n",
       "203        4\n",
       "202        4\n",
       "201        5\n",
       "200        2\n",
       "199        6\n",
       "198        5\n",
       "197        2\n",
       "196        4\n",
       "       ...  \n",
       "29      7202\n",
       "28      7159\n",
       "27      7451\n",
       "26      8147\n",
       "25     10369\n",
       "24     13978\n",
       "23      8776\n",
       "22      8425\n",
       "21      8435\n",
       "20      8573\n",
       "19      8597\n",
       "18      8965\n",
       "17      8698\n",
       "16      8633\n",
       "15      9064\n",
       "14      9860\n",
       "13     11495\n",
       "12     13898\n",
       "11     10711\n",
       "10     10323\n",
       "9      10395\n",
       "8      10253\n",
       "7      10736\n",
       "6      10838\n",
       "5      10420\n",
       "4      10266\n",
       "3      10728\n",
       "2      10907\n",
       "1      12041\n",
       "0      22140\n",
       "Name: W_SALES_TO_FAILURE, Length: 226, dtype: int64"
      ]
     },
     "execution_count": 72,
     "metadata": {},
     "output_type": "execute_result"
    }
   ],
   "source": [
    "vc = warranty.W_SALES_TO_FAILURE.value_counts()\n",
    "vc.sort_index(ascending=False)"
   ]
  },
  {
   "cell_type": "code",
   "execution_count": 74,
   "metadata": {
    "ExecuteTime": {
     "end_time": "2019-06-25T07:29:27.370222Z",
     "start_time": "2019-06-25T07:29:27.147183Z"
    }
   },
   "outputs": [],
   "source": [
    "warranty_sub = warranty_sub.loc[\\\n",
    "    warranty_sub.W_SALES_TO_FAILURE != 999,:]"
   ]
  },
  {
   "cell_type": "code",
   "execution_count": 75,
   "metadata": {
    "ExecuteTime": {
     "end_time": "2019-06-25T07:30:03.004113Z",
     "start_time": "2019-06-25T07:30:02.566900Z"
    }
   },
   "outputs": [
    {
     "data": {
      "text/plain": [
       "<matplotlib.axes._subplots.AxesSubplot at 0x17ebc3dd8>"
      ]
     },
     "execution_count": 75,
     "metadata": {},
     "output_type": "execute_result"
    },
    {
     "data": {
      "image/png": "[encoded data removed]",
      "text/plain": [
       "<Figure size 432x288 with 1 Axes>"
      ]
     },
     "metadata": {
      "needs_background": "light"
     },
     "output_type": "display_data"
    }
   ],
   "source": [
    "warranty_sub.W_SALES_TO_FAILURE.hist(bins=100)"
   ]
  },
  {
   "cell_type": "code",
   "execution_count": 76,
   "metadata": {
    "ExecuteTime": {
     "end_time": "2019-06-25T07:31:51.026262Z",
     "start_time": "2019-06-25T07:31:51.021204Z"
    }
   },
   "outputs": [
    {
     "data": {
      "text/plain": [
       "Index(['W_KEY', 'W_BASE_CD', 'W_PROD_BASE_CD', 'W_FIELD_CLAIM_DIV',\n",
       "       'W_PROD_DIV', 'W_DMEX_DIV', 'W_PROCESS_MONTH', 'W_DIST_CD',\n",
       "       'W_DIST_COUNTRY_CD', 'W_DIST_ISSUE_NO', 'W_SHOP_DIV', 'W_SHOP_CD',\n",
       "       'W_DIV1', 'W_DIV2', 'W_DIV3', 'W_MINUS_DIV', 'W_SRC_DIV', 'W_SRC_KEY',\n",
       "       'W_VIN', 'W_FCOK', 'W_PROD_MODEL_CD', 'W_SALES_DATE', 'W_FAILURE_DATE',\n",
       "       'W_MILEAGE_DIV', 'W_MILEAGE', 'W_CAUSAL_PART_NO', 'W_TROUBLE_CC',\n",
       "       'W_TROUBLE_CP', 'W_TROUBLE_DF', 'W_TROUBLE_MP', 'W_OPERATION_CD',\n",
       "       'W_PARTS_AMT', 'W_LABOR_HOUR', 'W_LABOR_AMT', 'W_SUBLET_HOUR',\n",
       "       'W_SUBLET_AMT', 'W_SHIPPING_AMT', 'W_TOTAL_AMT', 'W_CFC_COMPANY_CD',\n",
       "       'W_CFC_RATE', 'W_CFC_AMT', 'W_FC_TO_FAILURE', 'W_SALES_TO_FAILURE',\n",
       "       'W_CRT_TIME_STAMP'],\n",
       "      dtype='object')"
      ]
     },
     "execution_count": 76,
     "metadata": {},
     "output_type": "execute_result"
    }
   ],
   "source": [
    "warranty_sub.columns"
   ]
  },
  {
   "cell_type": "code",
   "execution_count": 77,
   "metadata": {
    "ExecuteTime": {
     "end_time": "2019-06-25T07:32:27.502607Z",
     "start_time": "2019-06-25T07:32:27.497942Z"
    }
   },
   "outputs": [],
   "source": [
    "col_num = [col for col in warranty_sub.columns \n",
    "               if warranty_sub[col].dtype.name \\\n",
    "           != \"object\"]"
   ]
  },
  {
   "cell_type": "code",
   "execution_count": 79,
   "metadata": {
    "ExecuteTime": {
     "end_time": "2019-06-25T07:38:26.898133Z",
     "start_time": "2019-06-25T07:38:26.894235Z"
    }
   },
   "outputs": [
    {
     "data": {
      "text/plain": [
       "['W_MINUS_DIV',\n",
       " 'W_MILEAGE',\n",
       " 'W_PARTS_AMT',\n",
       " 'W_LABOR_HOUR',\n",
       " 'W_LABOR_AMT',\n",
       " 'W_SUBLET_HOUR',\n",
       " 'W_SUBLET_AMT',\n",
       " 'W_SHIPPING_AMT',\n",
       " 'W_TOTAL_AMT',\n",
       " 'W_CFC_RATE',\n",
       " 'W_CFC_AMT',\n",
       " 'W_FC_TO_FAILURE',\n",
       " 'W_SALES_TO_FAILURE']"
      ]
     },
     "execution_count": 79,
     "metadata": {},
     "output_type": "execute_result"
    }
   ],
   "source": [
    "col_num"
   ]
  },
  {
   "cell_type": "code",
   "execution_count": 83,
   "metadata": {
    "ExecuteTime": {
     "end_time": "2019-06-25T07:42:20.157082Z",
     "start_time": "2019-06-25T07:42:15.907557Z"
    },
    "scrolled": false
   },
   "outputs": [
    {
     "name": "stdout",
     "output_type": "stream",
     "text": [
      "%%%%%%%%%%%%%%%%%%%%%%%%%%%%%%%%%%%%%%%%%%%%%%%%%%%%%%%%%%%%%%%%%%%%%%%%%%%%%%%%%%%%%%%%%%%%%%%%%%%%\n",
      "W_MINUS_DIV\n"
     ]
    },
    {
     "data": {
      "image/png": "[encoded data removed]",
      "text/plain": [
       "<Figure size 432x288 with 1 Axes>"
      ]
     },
     "metadata": {
      "needs_background": "light"
     },
     "output_type": "display_data"
    },
    {
     "name": "stdout",
     "output_type": "stream",
     "text": [
      "%%%%%%%%%%%%%%%%%%%%%%%%%%%%%%%%%%%%%%%%%%%%%%%%%%%%%%%%%%%%%%%%%%%%%%%%%%%%%%%%%%%%%%%%%%%%%%%%%%%%\n",
      "W_MILEAGE\n"
     ]
    },
    {
     "data": {
      "image/png": "[encoded data removed]",
      "text/plain": [
       "<Figure size 432x288 with 1 Axes>"
      ]
     },
     "metadata": {
      "needs_background": "light"
     },
     "output_type": "display_data"
    },
    {
     "name": "stdout",
     "output_type": "stream",
     "text": [
      "%%%%%%%%%%%%%%%%%%%%%%%%%%%%%%%%%%%%%%%%%%%%%%%%%%%%%%%%%%%%%%%%%%%%%%%%%%%%%%%%%%%%%%%%%%%%%%%%%%%%\n",
      "W_PARTS_AMT\n"
     ]
    },
    {
     "data": {
      "image/png": "[encoded data removed]",
      "text/plain": [
       "<Figure size 432x288 with 1 Axes>"
      ]
     },
     "metadata": {
      "needs_background": "light"
     },
     "output_type": "display_data"
    },
    {
     "name": "stdout",
     "output_type": "stream",
     "text": [
      "%%%%%%%%%%%%%%%%%%%%%%%%%%%%%%%%%%%%%%%%%%%%%%%%%%%%%%%%%%%%%%%%%%%%%%%%%%%%%%%%%%%%%%%%%%%%%%%%%%%%\n",
      "W_LABOR_HOUR\n"
     ]
    },
    {
     "data": {
      "image/png": "[encoded data removed]",
      "text/plain": [
       "<Figure size 432x288 with 1 Axes>"
      ]
     },
     "metadata": {
      "needs_background": "light"
     },
     "output_type": "display_data"
    },
    {
     "name": "stdout",
     "output_type": "stream",
     "text": [
      "%%%%%%%%%%%%%%%%%%%%%%%%%%%%%%%%%%%%%%%%%%%%%%%%%%%%%%%%%%%%%%%%%%%%%%%%%%%%%%%%%%%%%%%%%%%%%%%%%%%%\n",
      "W_LABOR_AMT\n"
     ]
    },
    {
     "data": {
      "image/png": "[encoded data removed]",
      "text/plain": [
       "<Figure size 432x288 with 1 Axes>"
      ]
     },
     "metadata": {
      "needs_background": "light"
     },
     "output_type": "display_data"
    },
    {
     "name": "stdout",
     "output_type": "stream",
     "text": [
      "%%%%%%%%%%%%%%%%%%%%%%%%%%%%%%%%%%%%%%%%%%%%%%%%%%%%%%%%%%%%%%%%%%%%%%%%%%%%%%%%%%%%%%%%%%%%%%%%%%%%\n",
      "W_SUBLET_HOUR\n"
     ]
    },
    {
     "data": {
      "image/png": "[encoded data removed]",
      "text/plain": [
       "<Figure size 432x288 with 1 Axes>"
      ]
     },
     "metadata": {
      "needs_background": "light"
     },
     "output_type": "display_data"
    },
    {
     "name": "stdout",
     "output_type": "stream",
     "text": [
      "%%%%%%%%%%%%%%%%%%%%%%%%%%%%%%%%%%%%%%%%%%%%%%%%%%%%%%%%%%%%%%%%%%%%%%%%%%%%%%%%%%%%%%%%%%%%%%%%%%%%\n",
      "W_SUBLET_AMT\n"
     ]
    },
    {
     "data": {
      "image/png": "[encoded data removed]",
      "text/plain": [
       "<Figure size 432x288 with 1 Axes>"
      ]
     },
     "metadata": {
      "needs_background": "light"
     },
     "output_type": "display_data"
    },
    {
     "name": "stdout",
     "output_type": "stream",
     "text": [
      "%%%%%%%%%%%%%%%%%%%%%%%%%%%%%%%%%%%%%%%%%%%%%%%%%%%%%%%%%%%%%%%%%%%%%%%%%%%%%%%%%%%%%%%%%%%%%%%%%%%%\n",
      "W_SHIPPING_AMT\n"
     ]
    },
    {
     "data": {
      "image/png": "[encoded data removed]",
      "text/plain": [
       "<Figure size 432x288 with 1 Axes>"
      ]
     },
     "metadata": {
      "needs_background": "light"
     },
     "output_type": "display_data"
    },
    {
     "name": "stdout",
     "output_type": "stream",
     "text": [
      "%%%%%%%%%%%%%%%%%%%%%%%%%%%%%%%%%%%%%%%%%%%%%%%%%%%%%%%%%%%%%%%%%%%%%%%%%%%%%%%%%%%%%%%%%%%%%%%%%%%%\n",
      "W_TOTAL_AMT\n"
     ]
    },
    {
     "data": {
      "image/png": "[encoded data removed]",
      "text/plain": [
       "<Figure size 432x288 with 1 Axes>"
      ]
     },
     "metadata": {
      "needs_background": "light"
     },
     "output_type": "display_data"
    },
    {
     "name": "stdout",
     "output_type": "stream",
     "text": [
      "%%%%%%%%%%%%%%%%%%%%%%%%%%%%%%%%%%%%%%%%%%%%%%%%%%%%%%%%%%%%%%%%%%%%%%%%%%%%%%%%%%%%%%%%%%%%%%%%%%%%\n",
      "W_CFC_RATE\n"
     ]
    },
    {
     "data": {
      "image/png": "[encoded data removed]",
      "text/plain": [
       "<Figure size 432x288 with 1 Axes>"
      ]
     },
     "metadata": {
      "needs_background": "light"
     },
     "output_type": "display_data"
    },
    {
     "name": "stdout",
     "output_type": "stream",
     "text": [
      "%%%%%%%%%%%%%%%%%%%%%%%%%%%%%%%%%%%%%%%%%%%%%%%%%%%%%%%%%%%%%%%%%%%%%%%%%%%%%%%%%%%%%%%%%%%%%%%%%%%%\n",
      "W_CFC_AMT\n"
     ]
    },
    {
     "data": {
      "image/png": "[encoded data removed]",
      "text/plain": [
       "<Figure size 432x288 with 1 Axes>"
      ]
     },
     "metadata": {
      "needs_background": "light"
     },
     "output_type": "display_data"
    },
    {
     "name": "stdout",
     "output_type": "stream",
     "text": [
      "%%%%%%%%%%%%%%%%%%%%%%%%%%%%%%%%%%%%%%%%%%%%%%%%%%%%%%%%%%%%%%%%%%%%%%%%%%%%%%%%%%%%%%%%%%%%%%%%%%%%\n",
      "W_FC_TO_FAILURE\n"
     ]
    },
    {
     "data": {
      "image/png": "[encoded data removed]",
      "text/plain": [
       "<Figure size 432x288 with 1 Axes>"
      ]
     },
     "metadata": {
      "needs_background": "light"
     },
     "output_type": "display_data"
    },
    {
     "name": "stdout",
     "output_type": "stream",
     "text": [
      "%%%%%%%%%%%%%%%%%%%%%%%%%%%%%%%%%%%%%%%%%%%%%%%%%%%%%%%%%%%%%%%%%%%%%%%%%%%%%%%%%%%%%%%%%%%%%%%%%%%%\n",
      "W_SALES_TO_FAILURE\n"
     ]
    },
    {
     "data": {
      "image/png": "[encoded data removed]",
      "text/plain": [
       "<Figure size 432x288 with 1 Axes>"
      ]
     },
     "metadata": {
      "needs_background": "light"
     },
     "output_type": "display_data"
    }
   ],
   "source": [
    "for x in col_num:\n",
    "    warranty_sub.loc[:,x].hist(bins=100)\n",
    "    print(\"%\" * 100)\n",
    "    print(x)\n",
    "    plt.show()"
   ]
  },
  {
   "cell_type": "code",
   "execution_count": 86,
   "metadata": {
    "ExecuteTime": {
     "end_time": "2019-06-25T07:47:49.134923Z",
     "start_time": "2019-06-25T07:47:39.899148Z"
    }
   },
   "outputs": [],
   "source": [
    "corr = warranty.corr(method=\"spearman\")"
   ]
  },
  {
   "cell_type": "code",
   "execution_count": 85,
   "metadata": {
    "ExecuteTime": {
     "end_time": "2019-06-25T07:46:33.494755Z",
     "start_time": "2019-06-25T07:46:30.205905Z"
    }
   },
   "outputs": [],
   "source": [
    "import seaborn as sns"
   ]
  },
  {
   "cell_type": "code",
   "execution_count": 88,
   "metadata": {
    "ExecuteTime": {
     "end_time": "2019-06-25T07:49:05.049666Z",
     "start_time": "2019-06-25T07:49:04.038393Z"
    }
   },
   "outputs": [
    {
     "data": {
      "text/plain": [
       "<matplotlib.axes._subplots.AxesSubplot at 0x180036048>"
      ]
     },
     "execution_count": 88,
     "metadata": {},
     "output_type": "execute_result"
    },
    {
     "data": {
      "image/png": "[encoded data removed]",
      "text/plain": [
       "<Figure size 864x792 with 2 Axes>"
      ]
     },
     "metadata": {
      "needs_background": "light"
     },
     "output_type": "display_data"
    }
   ],
   "source": [
    "plt.figure(figsize=(12,11))\n",
    "sns.heatmap(corr, annot=True)"
   ]
  },
  {
   "cell_type": "code",
   "execution_count": 89,
   "metadata": {
    "ExecuteTime": {
     "end_time": "2019-06-25T07:51:18.665111Z",
     "start_time": "2019-06-25T07:51:18.621073Z"
    }
   },
   "outputs": [
    {
     "data": {
      "text/html": [
       "<div>\n",
       "<style scoped>\n",
       "    .dataframe tbody tr th:only-of-type {\n",
       "        vertical-align: middle;\n",
       "    }\n",
       "\n",
       "    .dataframe tbody tr th {\n",
       "        vertical-align: top;\n",
       "    }\n",
       "\n",
       "    .dataframe thead th {\n",
       "        text-align: right;\n",
       "    }\n",
       "</style>\n",
       "<table border=\"1\" class=\"dataframe\">\n",
       "  <thead>\n",
       "    <tr style=\"text-align: right;\">\n",
       "      <th></th>\n",
       "      <th>W_KEY</th>\n",
       "      <th>W_BASE_CD</th>\n",
       "      <th>W_PROD_BASE_CD</th>\n",
       "      <th>W_FIELD_CLAIM_DIV</th>\n",
       "      <th>W_PROD_DIV</th>\n",
       "      <th>W_DMEX_DIV</th>\n",
       "      <th>W_PROCESS_MONTH</th>\n",
       "      <th>W_DIST_CD</th>\n",
       "      <th>W_DIST_COUNTRY_CD</th>\n",
       "      <th>W_DIST_ISSUE_NO</th>\n",
       "      <th>W_SHOP_DIV</th>\n",
       "      <th>W_SHOP_CD</th>\n",
       "      <th>W_DIV1</th>\n",
       "      <th>W_DIV2</th>\n",
       "      <th>W_DIV3</th>\n",
       "      <th>W_MINUS_DIV</th>\n",
       "      <th>W_SRC_DIV</th>\n",
       "      <th>W_SRC_KEY</th>\n",
       "      <th>W_VIN</th>\n",
       "      <th>W_FCOK</th>\n",
       "      <th>W_PROD_MODEL_CD</th>\n",
       "      <th>W_SALES_DATE</th>\n",
       "      <th>W_FAILURE_DATE</th>\n",
       "      <th>W_MILEAGE_DIV</th>\n",
       "      <th>W_MILEAGE</th>\n",
       "      <th>W_CAUSAL_PART_NO</th>\n",
       "      <th>W_TROUBLE_CC</th>\n",
       "      <th>W_TROUBLE_CP</th>\n",
       "      <th>W_TROUBLE_DF</th>\n",
       "      <th>W_TROUBLE_MP</th>\n",
       "      <th>W_OPERATION_CD</th>\n",
       "      <th>W_PARTS_AMT</th>\n",
       "      <th>W_LABOR_HOUR</th>\n",
       "      <th>W_LABOR_AMT</th>\n",
       "      <th>W_SUBLET_HOUR</th>\n",
       "      <th>W_SUBLET_AMT</th>\n",
       "      <th>W_SHIPPING_AMT</th>\n",
       "      <th>W_TOTAL_AMT</th>\n",
       "      <th>W_CFC_COMPANY_CD</th>\n",
       "      <th>W_CFC_RATE</th>\n",
       "      <th>W_CFC_AMT</th>\n",
       "      <th>W_FC_TO_FAILURE</th>\n",
       "      <th>W_SALES_TO_FAILURE</th>\n",
       "      <th>W_CRT_TIME_STAMP</th>\n",
       "    </tr>\n",
       "  </thead>\n",
       "  <tbody>\n",
       "    <tr>\n",
       "      <th>0</th>\n",
       "      <td>WRATJP200903B000627</td>\n",
       "      <td>100100</td>\n",
       "      <td>100100</td>\n",
       "      <td>1</td>\n",
       "      <td>B</td>\n",
       "      <td>1</td>\n",
       "      <td>200903</td>\n",
       "      <td>3312B</td>\n",
       "      <td>AT</td>\n",
       "      <td>I113545A</td>\n",
       "      <td>1</td>\n",
       "      <td>None</td>\n",
       "      <td>None</td>\n",
       "      <td>0</td>\n",
       "      <td>0</td>\n",
       "      <td>1</td>\n",
       "      <td>1</td>\n",
       "      <td>2009033312BI113545A</td>\n",
       "      <td>JSAJTD44V00221509</td>\n",
       "      <td>20070201</td>\n",
       "      <td>YT4C3</td>\n",
       "      <td>20070927</td>\n",
       "      <td>20090109</td>\n",
       "      <td>K</td>\n",
       "      <td>3309</td>\n",
       "      <td>13400-67JG0</td>\n",
       "      <td>None</td>\n",
       "      <td>07</td>\n",
       "      <td>36</td>\n",
       "      <td>None</td>\n",
       "      <td>DJ06R1</td>\n",
       "      <td>20365.0</td>\n",
       "      <td>0.6</td>\n",
       "      <td>4637.0</td>\n",
       "      <td>0.0</td>\n",
       "      <td>0.0</td>\n",
       "      <td>6108.0</td>\n",
       "      <td>31110.0</td>\n",
       "      <td>XY78</td>\n",
       "      <td>0</td>\n",
       "      <td>0.0</td>\n",
       "      <td>23</td>\n",
       "      <td>16</td>\n",
       "      <td>17-06-19 08:40:14.044594000</td>\n",
       "    </tr>\n",
       "    <tr>\n",
       "      <th>1</th>\n",
       "      <td>WRITJP200808B000995</td>\n",
       "      <td>100100</td>\n",
       "      <td>100100</td>\n",
       "      <td>1</td>\n",
       "      <td>B</td>\n",
       "      <td>1</td>\n",
       "      <td>200808</td>\n",
       "      <td>3253B</td>\n",
       "      <td>IT</td>\n",
       "      <td>87018800</td>\n",
       "      <td>1</td>\n",
       "      <td>None</td>\n",
       "      <td>None</td>\n",
       "      <td>0</td>\n",
       "      <td>0</td>\n",
       "      <td>1</td>\n",
       "      <td>1</td>\n",
       "      <td>2008083253B87018800</td>\n",
       "      <td>JSAFJB43V00340826</td>\n",
       "      <td>20070701</td>\n",
       "      <td>YR7K6</td>\n",
       "      <td>20080219</td>\n",
       "      <td>20080702</td>\n",
       "      <td>K</td>\n",
       "      <td>2570</td>\n",
       "      <td>37400-76J40</td>\n",
       "      <td>None</td>\n",
       "      <td>05</td>\n",
       "      <td>29</td>\n",
       "      <td>None</td>\n",
       "      <td>SM11R0</td>\n",
       "      <td>10080.0</td>\n",
       "      <td>0.6</td>\n",
       "      <td>2723.0</td>\n",
       "      <td>0.0</td>\n",
       "      <td>0.0</td>\n",
       "      <td>3024.0</td>\n",
       "      <td>15827.0</td>\n",
       "      <td>3825</td>\n",
       "      <td>52</td>\n",
       "      <td>6001.0</td>\n",
       "      <td>12</td>\n",
       "      <td>5</td>\n",
       "      <td>17-06-19 08:09:43.978131000</td>\n",
       "    </tr>\n",
       "    <tr>\n",
       "      <th>2</th>\n",
       "      <td>WRUSJP201501A000126</td>\n",
       "      <td>100100</td>\n",
       "      <td>100100</td>\n",
       "      <td>2</td>\n",
       "      <td>A</td>\n",
       "      <td>1</td>\n",
       "      <td>201501</td>\n",
       "      <td>1013A</td>\n",
       "      <td>US</td>\n",
       "      <td>2A4001X6</td>\n",
       "      <td>1</td>\n",
       "      <td>None</td>\n",
       "      <td>None</td>\n",
       "      <td>2</td>\n",
       "      <td>0</td>\n",
       "      <td>1</td>\n",
       "      <td>1</td>\n",
       "      <td>2015011013A2A4001X6</td>\n",
       "      <td>JS1GR7MA8C2100592</td>\n",
       "      <td>20120201</td>\n",
       "      <td>XD512</td>\n",
       "      <td>20120527</td>\n",
       "      <td>20150103</td>\n",
       "      <td>K</td>\n",
       "      <td>35193</td>\n",
       "      <td>61400-44810-RX0</td>\n",
       "      <td>None</td>\n",
       "      <td>99</td>\n",
       "      <td>WV</td>\n",
       "      <td>None</td>\n",
       "      <td>HM9999</td>\n",
       "      <td>803.0</td>\n",
       "      <td>0.3</td>\n",
       "      <td>2619.0</td>\n",
       "      <td>0.0</td>\n",
       "      <td>0.0</td>\n",
       "      <td>851.0</td>\n",
       "      <td>4273.0</td>\n",
       "      <td>3111</td>\n",
       "      <td>0</td>\n",
       "      <td>0.0</td>\n",
       "      <td>35</td>\n",
       "      <td>32</td>\n",
       "      <td>17-06-19 17:45:41.116530000</td>\n",
       "    </tr>\n",
       "    <tr>\n",
       "      <th>3</th>\n",
       "      <td>WRDKJP200712B002259</td>\n",
       "      <td>100100</td>\n",
       "      <td>100100</td>\n",
       "      <td>2</td>\n",
       "      <td>B</td>\n",
       "      <td>1</td>\n",
       "      <td>200712</td>\n",
       "      <td>5390B</td>\n",
       "      <td>DK</td>\n",
       "      <td>13402246</td>\n",
       "      <td>1</td>\n",
       "      <td>None</td>\n",
       "      <td>None</td>\n",
       "      <td>2</td>\n",
       "      <td>0</td>\n",
       "      <td>1</td>\n",
       "      <td>1</td>\n",
       "      <td>2007125390B13402246</td>\n",
       "      <td>JSAERC11S00200058</td>\n",
       "      <td>20020601</td>\n",
       "      <td>YS7A3</td>\n",
       "      <td>20020830</td>\n",
       "      <td>20071114</td>\n",
       "      <td>K</td>\n",
       "      <td>79518</td>\n",
       "      <td>09385-08004</td>\n",
       "      <td>None</td>\n",
       "      <td>99</td>\n",
       "      <td>MU</td>\n",
       "      <td>None</td>\n",
       "      <td>GG9999</td>\n",
       "      <td>23.0</td>\n",
       "      <td>0.4</td>\n",
       "      <td>3593.0</td>\n",
       "      <td>0.0</td>\n",
       "      <td>0.0</td>\n",
       "      <td>11.0</td>\n",
       "      <td>3627.0</td>\n",
       "      <td>3006</td>\n",
       "      <td>0</td>\n",
       "      <td>0.0</td>\n",
       "      <td>65</td>\n",
       "      <td>63</td>\n",
       "      <td>17-06-16 16:09:23.506077000</td>\n",
       "    </tr>\n",
       "    <tr>\n",
       "      <th>4</th>\n",
       "      <td>WRJPJP199812A001149</td>\n",
       "      <td>100100</td>\n",
       "      <td>100100</td>\n",
       "      <td>1</td>\n",
       "      <td>A</td>\n",
       "      <td>0</td>\n",
       "      <td>199812</td>\n",
       "      <td>50207</td>\n",
       "      <td>JP</td>\n",
       "      <td>None</td>\n",
       "      <td>1</td>\n",
       "      <td>0C</td>\n",
       "      <td>4</td>\n",
       "      <td>0</td>\n",
       "      <td>None</td>\n",
       "      <td>1</td>\n",
       "      <td>1</td>\n",
       "      <td>199812005289618</td>\n",
       "      <td>NK43A-100392</td>\n",
       "      <td>19970401</td>\n",
       "      <td>X9891</td>\n",
       "      <td>19970522</td>\n",
       "      <td>19981205</td>\n",
       "      <td>K</td>\n",
       "      <td>10800</td>\n",
       "      <td>11145-41B00</td>\n",
       "      <td>99</td>\n",
       "      <td>72</td>\n",
       "      <td>48</td>\n",
       "      <td>9</td>\n",
       "      <td>None</td>\n",
       "      <td>455.0</td>\n",
       "      <td>1.0</td>\n",
       "      <td>5200.0</td>\n",
       "      <td>0.0</td>\n",
       "      <td>0.0</td>\n",
       "      <td>0.0</td>\n",
       "      <td>5655.0</td>\n",
       "      <td>3059</td>\n",
       "      <td>0</td>\n",
       "      <td>0.0</td>\n",
       "      <td>20</td>\n",
       "      <td>19</td>\n",
       "      <td>17-06-16 08:30:59.676865000</td>\n",
       "    </tr>\n",
       "  </tbody>\n",
       "</table>\n",
       "</div>"
      ],
      "text/plain": [
       "                 W_KEY W_BASE_CD W_PROD_BASE_CD W_FIELD_CLAIM_DIV W_PROD_DIV  \\\n",
       "0  WRATJP200903B000627    100100         100100                 1          B   \n",
       "1  WRITJP200808B000995    100100         100100                 1          B   \n",
       "2  WRUSJP201501A000126    100100         100100                 2          A   \n",
       "3  WRDKJP200712B002259    100100         100100                 2          B   \n",
       "4  WRJPJP199812A001149    100100         100100                 1          A   \n",
       "\n",
       "  W_DMEX_DIV W_PROCESS_MONTH W_DIST_CD W_DIST_COUNTRY_CD W_DIST_ISSUE_NO  \\\n",
       "0          1          200903     3312B                AT        I113545A   \n",
       "1          1          200808     3253B                IT        87018800   \n",
       "2          1          201501     1013A                US        2A4001X6   \n",
       "3          1          200712     5390B                DK        13402246   \n",
       "4          0          199812     50207                JP            None   \n",
       "\n",
       "  W_SHOP_DIV W_SHOP_CD W_DIV1 W_DIV2 W_DIV3  W_MINUS_DIV W_SRC_DIV  \\\n",
       "0          1      None   None      0      0            1         1   \n",
       "1          1      None   None      0      0            1         1   \n",
       "2          1      None   None      2      0            1         1   \n",
       "3          1      None   None      2      0            1         1   \n",
       "4          1        0C      4      0   None            1         1   \n",
       "\n",
       "             W_SRC_KEY              W_VIN    W_FCOK W_PROD_MODEL_CD  \\\n",
       "0  2009033312BI113545A  JSAJTD44V00221509  20070201           YT4C3   \n",
       "1  2008083253B87018800  JSAFJB43V00340826  20070701           YR7K6   \n",
       "2  2015011013A2A4001X6  JS1GR7MA8C2100592  20120201           XD512   \n",
       "3  2007125390B13402246  JSAERC11S00200058  20020601           YS7A3   \n",
       "4      199812005289618       NK43A-100392  19970401           X9891   \n",
       "\n",
       "  W_SALES_DATE W_FAILURE_DATE W_MILEAGE_DIV  W_MILEAGE W_CAUSAL_PART_NO  \\\n",
       "0     20070927       20090109             K       3309      13400-67JG0   \n",
       "1     20080219       20080702             K       2570      37400-76J40   \n",
       "2     20120527       20150103             K      35193  61400-44810-RX0   \n",
       "3     20020830       20071114             K      79518      09385-08004   \n",
       "4     19970522       19981205             K      10800      11145-41B00   \n",
       "\n",
       "  W_TROUBLE_CC W_TROUBLE_CP W_TROUBLE_DF W_TROUBLE_MP W_OPERATION_CD  \\\n",
       "0         None           07           36         None         DJ06R1   \n",
       "1         None           05           29         None         SM11R0   \n",
       "2         None           99           WV         None         HM9999   \n",
       "3         None           99           MU         None         GG9999   \n",
       "4           99           72           48            9           None   \n",
       "\n",
       "   W_PARTS_AMT  W_LABOR_HOUR  W_LABOR_AMT  W_SUBLET_HOUR  W_SUBLET_AMT  \\\n",
       "0      20365.0           0.6       4637.0            0.0           0.0   \n",
       "1      10080.0           0.6       2723.0            0.0           0.0   \n",
       "2        803.0           0.3       2619.0            0.0           0.0   \n",
       "3         23.0           0.4       3593.0            0.0           0.0   \n",
       "4        455.0           1.0       5200.0            0.0           0.0   \n",
       "\n",
       "   W_SHIPPING_AMT  W_TOTAL_AMT W_CFC_COMPANY_CD  W_CFC_RATE  W_CFC_AMT  \\\n",
       "0          6108.0      31110.0             XY78           0        0.0   \n",
       "1          3024.0      15827.0             3825          52     6001.0   \n",
       "2           851.0       4273.0             3111           0        0.0   \n",
       "3            11.0       3627.0             3006           0        0.0   \n",
       "4             0.0       5655.0             3059           0        0.0   \n",
       "\n",
       "   W_FC_TO_FAILURE  W_SALES_TO_FAILURE             W_CRT_TIME_STAMP  \n",
       "0               23                  16  17-06-19 08:40:14.044594000  \n",
       "1               12                   5  17-06-19 08:09:43.978131000  \n",
       "2               35                  32  17-06-19 17:45:41.116530000  \n",
       "3               65                  63  17-06-16 16:09:23.506077000  \n",
       "4               20                  19  17-06-16 08:30:59.676865000  "
      ]
     },
     "execution_count": 89,
     "metadata": {},
     "output_type": "execute_result"
    }
   ],
   "source": [
    "warranty_sub.head()"
   ]
  },
  {
   "cell_type": "code",
   "execution_count": 93,
   "metadata": {
    "ExecuteTime": {
     "end_time": "2019-06-25T07:55:34.615356Z",
     "start_time": "2019-06-25T07:55:34.429567Z"
    }
   },
   "outputs": [],
   "source": [
    "str_date = warranty_sub.W_FAILURE_DATE.str[:6] \\\n",
    "               + \"01\""
   ]
  },
  {
   "cell_type": "code",
   "execution_count": 97,
   "metadata": {
    "ExecuteTime": {
     "end_time": "2019-06-25T08:00:08.854554Z",
     "start_time": "2019-06-25T08:00:08.584663Z"
    },
    "scrolled": true
   },
   "outputs": [],
   "source": [
    "warranty_sub = warranty_sub\\\n",
    "    .loc[~str_date.isin([\"00000001\",\n",
    "                       \"00001001\",\n",
    "                       \"00003001\"]), :]"
   ]
  },
  {
   "cell_type": "code",
   "execution_count": 103,
   "metadata": {
    "ExecuteTime": {
     "end_time": "2019-06-25T08:03:24.638730Z",
     "start_time": "2019-06-25T08:03:24.627430Z"
    },
    "collapsed": true
   },
   "outputs": [
    {
     "ename": "AttributeError",
     "evalue": "Can only use .str accessor with string values, which use np.object_ dtype in pandas",
     "output_type": "error",
     "traceback": [
      "\u001b[0;31m---------------------------------------------------------------------------\u001b[0m",
      "\u001b[0;31mAttributeError\u001b[0m                            Traceback (most recent call last)",
      "\u001b[0;32m<ipython-input-103-d06cf2d2692c>\u001b[0m in \u001b[0;36m<module>\u001b[0;34m\u001b[0m\n\u001b[1;32m      1\u001b[0m \u001b[0;31m#warranty_sub[\"failure_month\"] = \\\u001b[0m\u001b[0;34m\u001b[0m\u001b[0;34m\u001b[0m\u001b[0;34m\u001b[0m\u001b[0m\n\u001b[1;32m      2\u001b[0m \u001b[0mwarranty_sub\u001b[0m\u001b[0;34m.\u001b[0m\u001b[0mW_FAILURE_DATE\u001b[0m \u001b[0;34m=\u001b[0m\u001b[0;31m \u001b[0m\u001b[0;31m\\\u001b[0m\u001b[0;34m\u001b[0m\u001b[0;34m\u001b[0m\u001b[0m\n\u001b[0;32m----> 3\u001b[0;31m     pd.to_datetime(warranty_sub.W_FAILURE_DATE.str[:6]\\\n\u001b[0m\u001b[1;32m      4\u001b[0m                + \"01\")\n",
      "\u001b[0;32m~/anaconda3/envs/suzuki/lib/python3.6/site-packages/pandas/core/generic.py\u001b[0m in \u001b[0;36m__getattr__\u001b[0;34m(self, name)\u001b[0m\n\u001b[1;32m   5051\u001b[0m         if (name in self._internal_names_set or name in self._metadata or\n\u001b[1;32m   5052\u001b[0m                 name in self._accessors):\n\u001b[0;32m-> 5053\u001b[0;31m             \u001b[0;32mreturn\u001b[0m \u001b[0mobject\u001b[0m\u001b[0;34m.\u001b[0m\u001b[0m__getattribute__\u001b[0m\u001b[0;34m(\u001b[0m\u001b[0mself\u001b[0m\u001b[0;34m,\u001b[0m \u001b[0mname\u001b[0m\u001b[0;34m)\u001b[0m\u001b[0;34m\u001b[0m\u001b[0;34m\u001b[0m\u001b[0m\n\u001b[0m\u001b[1;32m   5054\u001b[0m         \u001b[0;32melse\u001b[0m\u001b[0;34m:\u001b[0m\u001b[0;34m\u001b[0m\u001b[0;34m\u001b[0m\u001b[0m\n\u001b[1;32m   5055\u001b[0m             \u001b[0;32mif\u001b[0m \u001b[0mself\u001b[0m\u001b[0;34m.\u001b[0m\u001b[0m_info_axis\u001b[0m\u001b[0;34m.\u001b[0m\u001b[0m_can_hold_identifiers_and_holds_name\u001b[0m\u001b[0;34m(\u001b[0m\u001b[0mname\u001b[0m\u001b[0;34m)\u001b[0m\u001b[0;34m:\u001b[0m\u001b[0;34m\u001b[0m\u001b[0;34m\u001b[0m\u001b[0m\n",
      "\u001b[0;32m~/anaconda3/envs/suzuki/lib/python3.6/site-packages/pandas/core/accessor.py\u001b[0m in \u001b[0;36m__get__\u001b[0;34m(self, obj, cls)\u001b[0m\n\u001b[1;32m    169\u001b[0m             \u001b[0;31m# we're accessing the attribute of the class, i.e., Dataset.geo\u001b[0m\u001b[0;34m\u001b[0m\u001b[0;34m\u001b[0m\u001b[0;34m\u001b[0m\u001b[0m\n\u001b[1;32m    170\u001b[0m             \u001b[0;32mreturn\u001b[0m \u001b[0mself\u001b[0m\u001b[0;34m.\u001b[0m\u001b[0m_accessor\u001b[0m\u001b[0;34m\u001b[0m\u001b[0;34m\u001b[0m\u001b[0m\n\u001b[0;32m--> 171\u001b[0;31m         \u001b[0maccessor_obj\u001b[0m \u001b[0;34m=\u001b[0m \u001b[0mself\u001b[0m\u001b[0;34m.\u001b[0m\u001b[0m_accessor\u001b[0m\u001b[0;34m(\u001b[0m\u001b[0mobj\u001b[0m\u001b[0;34m)\u001b[0m\u001b[0;34m\u001b[0m\u001b[0;34m\u001b[0m\u001b[0m\n\u001b[0m\u001b[1;32m    172\u001b[0m         \u001b[0;31m# Replace the property with the accessor object. Inspired by:\u001b[0m\u001b[0;34m\u001b[0m\u001b[0;34m\u001b[0m\u001b[0;34m\u001b[0m\u001b[0m\n\u001b[1;32m    173\u001b[0m         \u001b[0;31m# http://www.pydanny.com/cached-property.html\u001b[0m\u001b[0;34m\u001b[0m\u001b[0;34m\u001b[0m\u001b[0;34m\u001b[0m\u001b[0m\n",
      "\u001b[0;32m~/anaconda3/envs/suzuki/lib/python3.6/site-packages/pandas/core/strings.py\u001b[0m in \u001b[0;36m__init__\u001b[0;34m(self, data)\u001b[0m\n\u001b[1;32m   1794\u001b[0m \u001b[0;34m\u001b[0m\u001b[0m\n\u001b[1;32m   1795\u001b[0m     \u001b[0;32mdef\u001b[0m \u001b[0m__init__\u001b[0m\u001b[0;34m(\u001b[0m\u001b[0mself\u001b[0m\u001b[0;34m,\u001b[0m \u001b[0mdata\u001b[0m\u001b[0;34m)\u001b[0m\u001b[0;34m:\u001b[0m\u001b[0;34m\u001b[0m\u001b[0;34m\u001b[0m\u001b[0m\n\u001b[0;32m-> 1796\u001b[0;31m         \u001b[0mself\u001b[0m\u001b[0;34m.\u001b[0m\u001b[0m_validate\u001b[0m\u001b[0;34m(\u001b[0m\u001b[0mdata\u001b[0m\u001b[0;34m)\u001b[0m\u001b[0;34m\u001b[0m\u001b[0;34m\u001b[0m\u001b[0m\n\u001b[0m\u001b[1;32m   1797\u001b[0m         \u001b[0mself\u001b[0m\u001b[0;34m.\u001b[0m\u001b[0m_is_categorical\u001b[0m \u001b[0;34m=\u001b[0m \u001b[0mis_categorical_dtype\u001b[0m\u001b[0;34m(\u001b[0m\u001b[0mdata\u001b[0m\u001b[0;34m)\u001b[0m\u001b[0;34m\u001b[0m\u001b[0;34m\u001b[0m\u001b[0m\n\u001b[1;32m   1798\u001b[0m \u001b[0;34m\u001b[0m\u001b[0m\n",
      "\u001b[0;32m~/anaconda3/envs/suzuki/lib/python3.6/site-packages/pandas/core/strings.py\u001b[0m in \u001b[0;36m_validate\u001b[0;34m(data)\u001b[0m\n\u001b[1;32m   1816\u001b[0m             \u001b[0;31m# (instead of test for object dtype), but that isn't practical for\u001b[0m\u001b[0;34m\u001b[0m\u001b[0;34m\u001b[0m\u001b[0;34m\u001b[0m\u001b[0m\n\u001b[1;32m   1817\u001b[0m             \u001b[0;31m# performance reasons until we have a str dtype (GH 9343)\u001b[0m\u001b[0;34m\u001b[0m\u001b[0;34m\u001b[0m\u001b[0;34m\u001b[0m\u001b[0m\n\u001b[0;32m-> 1818\u001b[0;31m             raise AttributeError(\"Can only use .str accessor with string \"\n\u001b[0m\u001b[1;32m   1819\u001b[0m                                  \u001b[0;34m\"values, which use np.object_ dtype in \"\u001b[0m\u001b[0;34m\u001b[0m\u001b[0;34m\u001b[0m\u001b[0m\n\u001b[1;32m   1820\u001b[0m                                  \"pandas\")\n",
      "\u001b[0;31mAttributeError\u001b[0m: Can only use .str accessor with string values, which use np.object_ dtype in pandas"
     ]
    }
   ],
   "source": [
    "#warranty_sub[\"failure_month\"] = \\\n",
    "warranty_sub.W_FAILURE_DATE = \\\n",
    "    pd.to_datetime(warranty_sub.W_FAILURE_DATE.str[:6]\\\n",
    "               + \"01\")"
   ]
  },
  {
   "cell_type": "code",
   "execution_count": 101,
   "metadata": {
    "ExecuteTime": {
     "end_time": "2019-06-25T08:02:23.955679Z",
     "start_time": "2019-06-25T08:02:23.687657Z"
    }
   },
   "outputs": [
    {
     "name": "stderr",
     "output_type": "stream",
     "text": [
      "/Users/localadmin/anaconda3/envs/suzuki/lib/python3.6/site-packages/ipykernel_launcher.py:3: FutureWarning: using a dict on a Series for aggregation\n",
      "is deprecated and will be removed in a future version\n",
      "  This is separate from the ipykernel package so we can avoid doing imports until\n"
     ]
    },
    {
     "data": {
      "text/plain": [
       "<matplotlib.axes._subplots.AxesSubplot at 0x180036438>"
      ]
     },
     "execution_count": 101,
     "metadata": {},
     "output_type": "execute_result"
    },
    {
     "data": {
      "image/png": "[encoded data removed]",
      "text/plain": [
       "<Figure size 432x288 with 1 Axes>"
      ]
     },
     "metadata": {
      "needs_background": "light"
     },
     "output_type": "display_data"
    }
   ],
   "source": [
    "# 月毎のレコード件数が見たい\n",
    "warranty_sub.groupby(\"W_FAILURE_DATE\")[\"W_KEY\"].\\\n",
    "    agg({\"n\":len}).plot()"
   ]
  },
  {
   "cell_type": "code",
   "execution_count": null,
   "metadata": {},
   "outputs": [],
   "source": [
    "# fcok 基礎統計\n",
    "# fcok V_FCOK 毎月 レコード件数\n",
    "# 3.3 1.6セクションの問題"
   ]
  }
 ],
 "metadata": {
  "kernelspec": {
   "display_name": "Python [conda env:suzuki] *",
   "language": "python",
   "name": "conda-env-suzuki-py"
  },
  "language_info": {
   "codemirror_mode": {
    "name": "ipython",
    "version": 3
   },
   "file_extension": ".py",
   "mimetype": "text/x-python",
   "name": "python",
   "nbconvert_exporter": "python",
   "pygments_lexer": "ipython3",
   "version": "3.6.8"
  },
  "latex_envs": {
   "LaTeX_envs_menu_present": true,
   "autoclose": false,
   "autocomplete": true,
   "bibliofile": "biblio.bib",
   "cite_by": "apalike",
   "current_citInitial": 1,
   "eqLabelWithNumbers": true,
   "eqNumInitial": 1,
   "hotkeys": {
    "equation": "Ctrl-E",
    "itemize": "Ctrl-I"
   },
   "labels_anchors": false,
   "latex_user_defs": false,
   "report_style_numbering": false,
   "user_envs_cfg": false
  },
  "nbTranslate": {
   "displayLangs": [
    "*"
   ],
   "hotkey": "alt-t",
   "langInMainMenu": true,
   "sourceLang": "en",
   "targetLang": "fr",
   "useGoogleTranslate": true
  },
  "toc": {
   "base_numbering": 1,
   "nav_menu": {},
   "number_sections": true,
   "sideBar": true,
   "skip_h1_title": false,
   "title_cell": "Table of Contents",
   "title_sidebar": "Contents",
   "toc_cell": false,
   "toc_position": {},
   "toc_section_display": true,
   "toc_window_display": false
  }
 },
 "nbformat": 4,
 "nbformat_minor": 2
}
