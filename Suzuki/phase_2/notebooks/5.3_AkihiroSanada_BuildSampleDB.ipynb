{
 "cells": [
  {
   "cell_type": "code",
   "execution_count": 1,
   "metadata": {
    "ExecuteTime": {
     "end_time": "2019-07-08T21:44:51.272132Z",
     "start_time": "2019-07-08T21:44:46.735427Z"
    }
   },
   "outputs": [],
   "source": [
    "%matplotlib inline\n",
    "%load_ext autoreload\n",
    "%autoreload 2"
   ]
  },
  {
   "cell_type": "code",
   "execution_count": 2,
   "metadata": {
    "ExecuteTime": {
     "end_time": "2019-07-08T21:45:39.601284Z",
     "start_time": "2019-07-08T21:44:51.274289Z"
    }
   },
   "outputs": [],
   "source": [
    "import pandas as pd\n",
    "import numpy as np\n",
    "import matplotlib.pyplot as plt\n",
    "import pandas_profiling as pdp\n",
    "import gc, os, csv, subprocess, pathlib, sqlite3, logging, time, psycopg2, \\\n",
    "    warnings\n",
    "from sqlalchemy import create_engine, MetaData, Table, Column, INTEGER, \\\n",
    "    TEXT, FLOAT, VARCHAR, CHAR, NUMERIC, REAL, func, TIMESTAMP, distinct\n",
    "from sqlalchemy.orm import scoped_session, sessionmaker\n",
    "from sqlalchemy.ext.declarative import declarative_base\n",
    "from sqlalchemy.ext.automap import automap_base\n",
    "from contextlib import closing\n",
    "from plotnine import *\n",
    "from collections import defaultdict\n",
    "import seaborn as sns\n",
    "\n",
    "plt.rcParams[\"font.family\"] = \"IPAGothic\"\n",
    "warnings.filterwarnings('once')\n",
    "PATH_DB = pathlib.Path(\"../data/interim/suzuki_skilltransfer.sqlite3\")\n",
    "PATH_INTERIM_DATA = pathlib.Path(\"../data/interim/\")\n",
    "PATH_RAW_DATA = pathlib.Path(\"../data/raw/dbhaa0001_tbhaa0006/\")\n",
    "PATH_REPORTS = pathlib.Path(\"../reports/\")"
   ]
  },
  {
   "cell_type": "code",
   "execution_count": 13,
   "metadata": {
    "ExecuteTime": {
     "end_time": "2019-07-08T21:49:24.545930Z",
     "start_time": "2019-07-08T21:49:24.443487Z"
    }
   },
   "outputs": [],
   "source": [
    "# sqlalchemy engine\n",
    "engine = create_engine(f'sqlite:///{PATH_DB.resolve().as_posix()}')\n",
    "meta = MetaData()\n",
    "Base = automap_base()\n",
    "Base.prepare(engine, reflect=True)\n",
    "Session = sessionmaker(bind=engine)"
   ]
  },
  {
   "cell_type": "code",
   "execution_count": 14,
   "metadata": {
    "ExecuteTime": {
     "end_time": "2019-07-08T21:49:25.336347Z",
     "start_time": "2019-07-08T21:49:25.262400Z"
    }
   },
   "outputs": [
    {
     "name": "stderr",
     "output_type": "stream",
     "text": [
      "/Users/localadmin/anaconda3/envs/suzuki/lib/python3.6/site-packages/xlrd/xlsx.py:266: PendingDeprecationWarning: This method will be removed in future versions.  Use 'tree.iter()' or 'list(tree.iter())' instead.\n",
      "  for elem in self.tree.iter() if Element_has_iter else self.tree.getiterator():\n"
     ]
    }
   ],
   "source": [
    "# table format data\n",
    "format_xlsx = pd.read_excel('../data/external/20190528_data_format_warranty_production.xlsx',\n",
    "                            sheet_name=None)"
   ]
  },
  {
   "cell_type": "code",
   "execution_count": 15,
   "metadata": {
    "ExecuteTime": {
     "end_time": "2019-07-08T21:49:26.174386Z",
     "start_time": "2019-07-08T21:49:26.091265Z"
    }
   },
   "outputs": [
    {
     "name": "stdout",
     "output_type": "stream",
     "text": [
      "Deleting old warranty table\n",
      "Deleting old fcok table\n"
     ]
    }
   ],
   "source": [
    "# create table\n",
    "table_list = {}\n",
    "for sheet_name, sheet in format_xlsx.items():\n",
    "    columns = [Column(row[\"name\"], eval(row[\"Type in sqlite3\"]), \n",
    "                      primary_key=not(pd.isna(row[\"Primary Key\"])),\n",
    "                      nullable=pd.isna(row[\"Not Null\"]))\n",
    "              for _, row\n",
    "              in sheet.iterrows()]\n",
    "    old_table = Base.classes.get(sheet_name)\n",
    "    if old_table is not None:\n",
    "        print(f'Deleting old {sheet_name} table')\n",
    "        old_table.__table__.drop(engine, checkfirst=True)\n",
    "    table_list[sheet_name] = Table(sheet_name, meta, *columns)\n",
    "\n",
    "meta.create_all(engine)"
   ]
  },
  {
   "cell_type": "code",
   "execution_count": 5,
   "metadata": {
    "ExecuteTime": {
     "end_time": "2019-07-08T21:45:40.165109Z",
     "start_time": "2019-07-08T21:45:40.122816Z"
    }
   },
   "outputs": [],
   "source": [
    "PATH_RAW_DATA = pathlib.Path(\"../data/raw\")"
   ]
  },
  {
   "cell_type": "code",
   "execution_count": 6,
   "metadata": {
    "ExecuteTime": {
     "end_time": "2019-07-08T21:45:40.208793Z",
     "start_time": "2019-07-08T21:45:40.167130Z"
    }
   },
   "outputs": [
    {
     "data": {
      "text/plain": [
       "['warranty_fcok',\n",
       " 'CAN',\n",
       " '.DS_Store',\n",
       " '.gitkeep',\n",
       " 'tbhaa_all_201907030445.csv',\n",
       " 'dbhaa_all_201907030443.csv',\n",
       " 'FTIR']"
      ]
     },
     "execution_count": 6,
     "metadata": {},
     "output_type": "execute_result"
    }
   ],
   "source": [
    "os.listdir(PATH_RAW_DATA)"
   ]
  },
  {
   "cell_type": "code",
   "execution_count": 7,
   "metadata": {
    "ExecuteTime": {
     "end_time": "2019-07-08T21:46:03.600064Z",
     "start_time": "2019-07-08T21:46:03.383454Z"
    }
   },
   "outputs": [
    {
     "name": "stdout",
     "output_type": "stream",
     "text": [
      "﻿\"V_BASE_CD\",\"V_PROD_DIV\",\"V_VIN\",\"V_ENGINE_NO\",\"V_MOTOR_NO\",\"V_MISSON_NO\",\"V_KEY_NO\",\"V_FCOK\",\"V_FCOK_TIME\",\"V_ABOK\",\"V_ABOK_TIME\",\"V_PROD_MODEL_CD\",\"V_SALES_MODEL_CD\",\"V_SALES_MODEL_NM\",\"V_SPEC\",\"V_COLOR\",\"V_PLANT_CD\",\"V_DIST_CD\",\"V_BRANCH_CD\",\"V_SHIPPING_DATE\",\"V_SHIPPING_FCOK\",\"V_SHIPPING_ABOK\",\"V_INVOICE_NO\",\"V_SALES_NO\",\"V_CASE_NO\",\"V_SRC_DIV\",\"V_CRT_TIME_STAMP\"\r\n",
      "\"100100\",A,BA43A-111775,A407-111815,,,,\"20170111\",\"174400\",\"20170111\",\"110232\",XD074,FB50K8,,\"000\",YHV,,,,,,,,,,\"1\",\"18-01-31 10:51:00.986668000\"\r\n",
      "\"100100\",A,BA43A-111776,A407-111814,,,,\"20170118\",\"094600\",\"20170111\",\"111310\",XD074,FB50K8,,\"000\",YHV,,,,,,,,,,\"1\",\"18-01-31 10:51:03.350036000\"\r\n",
      "\"100100\",A,BA43A-111777,A407-111812,,,,\"20170111\",\"174500\",\"20170111\",\"112238\",XD074,FB50K8,,\"000\",YHV,,,,,,,,,,\"1\",\"18-01-31 10:51:00.988499000\"\r\n",
      "\"100100\",A,BA43A-111778,A407-111811,,,,\"20170117\",\"131000\",\"20170111\",\"113314\",XD074,FB50K8,,\"000\",YHV,,,,,,,,,,\"1\",\"18-01-31 10:51:03.089003000\"\r\n",
      "\"100100\",A,BA43A-111779,A407-111809,,,,\"20170111\",\"193400\",\"20170111\",\"122608\",XD074,FB50K8,,\"000\",YHV,,,,,,,,,,\"1\",\"18-01-31 10:51:00.990269000\"\r\n",
      "\"100100\",A,BA43A-111780,A407-111813,,,,\"20170111\",\"141100\",\"20170111\",\"123831\",XD074,FB50K8,,\"000\",YHV,,,,,,,,,,\"1\",\"18-01-31 10:51:00.992023000\"\r\n",
      "\"100100\",A,BA43A-111781,A407-111806,,,,\"20170111\",\"174800\",\"20170111\",\"124758\",XD074,FB50K8,,\"000\",YHV,,,,,,,,,,\"1\",\"18-01-31 10:51:00.993862000\"\r\n",
      "\"100100\",A,BA43A-111782,A407-111810,,,,\"20170111\",\"175900\",\"20170111\",\"125819\",XD074,FB50K8,,\"000\",YHV,,,,,,,,,,\"1\",\"18-01-31 10:51:00.995630000\"\r\n",
      "\"100100\",A,BA43A-111783,A407-111808,,,,\"20170111\",\"173800\",\"20170111\",\"130817\",XD074,FB50K8,,\"000\",YHV,,,,,,,,,,\"1\",\"18-01-31 10:51:00.997538000\"\r\n"
     ]
    }
   ],
   "source": [
    "!head ../data/raw/tbhaa_all_201907030445.csv"
   ]
  },
  {
   "cell_type": "code",
   "execution_count": 20,
   "metadata": {
    "ExecuteTime": {
     "end_time": "2019-07-08T21:51:01.530756Z",
     "start_time": "2019-07-08T21:51:01.481656Z"
    }
   },
   "outputs": [
    {
     "data": {
      "text/plain": [
       "'\\ufeff\"V_BASE_CD\",V_PROD_DIV,V_VIN,V_ENGINE_NO,V_MOTOR_NO,V_MISSON_NO,V_KEY_NO,V_FCOK,V_FCOK_TIME,V_ABOK,V_ABOK_TIME,V_PROD_MODEL_CD,V_SALES_MODEL_CD,V_SALES_MODEL_NM,V_SPEC,V_COLOR,V_PLANT_CD,V_DIST_CD,V_BRANCH_CD,V_SHIPPING_DATE,V_SHIPPING_FCOK,V_SHIPPING_ABOK,V_INVOICE_NO,V_SALES_NO,V_CASE_NO,V_SRC_DIV,V_CRT_TIME_STAMP'"
      ]
     },
     "execution_count": 20,
     "metadata": {},
     "output_type": "execute_result"
    }
   ],
   "source": [
    "col_str"
   ]
  },
  {
   "cell_type": "code",
   "execution_count": 22,
   "metadata": {
    "ExecuteTime": {
     "end_time": "2019-07-08T21:56:37.108315Z",
     "start_time": "2019-07-08T21:55:04.993664Z"
    }
   },
   "outputs": [
    {
     "name": "stdout",
     "output_type": "stream",
     "text": [
      "proccesing tbhaa_all_201907030445.csv...Done.  75.0 s elappsed.\n",
      "proccesing dbhaa_all_201907030443.csv...Done.  17.1 s elappsed.\n",
      "CPU times: user 1min 28s, sys: 2.53 s, total: 1min 30s\n",
      "Wall time: 1min 32s\n"
     ]
    }
   ],
   "source": [
    "%%time\n",
    "# sqlalchemyは大量データのインサートには使いづらいため、sqlite3ライブラリを用いる\n",
    "error_row = [] # エラーのある行を記録するリスト\n",
    "\n",
    "for filename in [file for file in os.listdir(PATH_RAW_DATA) if \"csv\" in file]:\n",
    "    start_time = time.time()\n",
    "    print(f\"proccesing {filename}...\", end=\"\")\n",
    "    table_name = filename[:5] # ex. dbhaa\n",
    "    if table_name == \"dbhaa\":\n",
    "        table_name = \"warranty\"\n",
    "    else:\n",
    "        table_name = \"fcok\"\n",
    "    question_str = \",\".join([\"?\"] * len(table_list[table_name].columns)) # ex. ?,?,?,...,?\n",
    "    \n",
    "    with open(PATH_RAW_DATA/filename) as f:\n",
    "        with closing(sqlite3.connect(PATH_DB.as_posix())) as conn:\n",
    "            c = conn.cursor()\n",
    "            reader = csv.reader(f)\n",
    "            header = next(reader)\n",
    "            col_str = \",\".join(header)\n",
    "            if table_name == \"fcok\": col_str = \"\"\"\n",
    "            V_BASE_CD,V_PROD_DIV,V_VIN,V_ENGINE_NO,V_MOTOR_NO,V_MISSON_NO,\n",
    "            V_KEY_NO,V_FCOK,V_FCOK_TIME,V_ABOK,V_ABOK_TIME,V_PROD_MODEL_CD,\n",
    "            V_SALES_MODEL_CD,V_SALES_MODEL_NM,V_SPEC,V_COLOR,V_PLANT_CD,\n",
    "            V_DIST_CD,V_BRANCH_CD,V_SHIPPING_DATE,V_SHIPPING_FCOK,\n",
    "            V_SHIPPING_ABOK,V_INVOICE_NO,V_SALES_NO,V_CASE_NO,\n",
    "            V_SRC_DIV,V_CRT_TIME_STAMP\n",
    "            \"\"\"\n",
    "            sql = f'insert into {table_name} ({col_str}) values ({question_str})'\n",
    "\n",
    "            i = 1 # include header\n",
    "            while True:\n",
    "                try:\n",
    "                    val = None\n",
    "                    val = next(reader)\n",
    "                    val = [x if x != \"\" else None for x in val]\n",
    "                    c.execute(sql, val)\n",
    "                except (StopIteration, KeyboardInterrupt):\n",
    "                    break\n",
    "                except:\n",
    "                    raise\n",
    "                i += 1\n",
    "                if i % 100_000 == 0: conn.commit() # for speed-up, decrease frequency of commit\n",
    "            conn.commit()\n",
    "    print(f\"Done. {time.time() - start_time: .1f} s elappsed.\")"
   ]
  },
  {
   "cell_type": "code",
   "execution_count": 23,
   "metadata": {
    "ExecuteTime": {
     "end_time": "2019-07-08T21:58:10.533530Z",
     "start_time": "2019-07-08T21:58:10.432892Z"
    }
   },
   "outputs": [
    {
     "data": {
      "text/html": [
       "<div>\n",
       "<style scoped>\n",
       "    .dataframe tbody tr th:only-of-type {\n",
       "        vertical-align: middle;\n",
       "    }\n",
       "\n",
       "    .dataframe tbody tr th {\n",
       "        vertical-align: top;\n",
       "    }\n",
       "\n",
       "    .dataframe thead th {\n",
       "        text-align: right;\n",
       "    }\n",
       "</style>\n",
       "<table border=\"1\" class=\"dataframe\">\n",
       "  <thead>\n",
       "    <tr style=\"text-align: right;\">\n",
       "      <th></th>\n",
       "      <th>W_KEY</th>\n",
       "      <th>W_BASE_CD</th>\n",
       "      <th>W_PROD_BASE_CD</th>\n",
       "      <th>W_FIELD_CLAIM_DIV</th>\n",
       "      <th>W_PROD_DIV</th>\n",
       "      <th>W_DMEX_DIV</th>\n",
       "      <th>W_PROCESS_MONTH</th>\n",
       "      <th>W_DIST_CD</th>\n",
       "      <th>W_DIST_COUNTRY_CD</th>\n",
       "      <th>W_DIST_ISSUE_NO</th>\n",
       "      <th>...</th>\n",
       "      <th>W_SUBLET_AMT</th>\n",
       "      <th>W_SHIPPING_AMT</th>\n",
       "      <th>W_TOTAL_AMT</th>\n",
       "      <th>W_CFC_COMPANY_CD</th>\n",
       "      <th>W_CFC_RATE</th>\n",
       "      <th>W_CFC_AMT</th>\n",
       "      <th>W_FC_TO_FAILURE</th>\n",
       "      <th>W_SALES_TO_FAILURE</th>\n",
       "      <th>W_SB_NO</th>\n",
       "      <th>W_CRT_TIME_STAMP</th>\n",
       "    </tr>\n",
       "  </thead>\n",
       "  <tbody>\n",
       "    <tr>\n",
       "      <th>0</th>\n",
       "      <td>WRAEJP201702A000001</td>\n",
       "      <td>100100</td>\n",
       "      <td>100100</td>\n",
       "      <td>2</td>\n",
       "      <td>A</td>\n",
       "      <td>1</td>\n",
       "      <td>201702</td>\n",
       "      <td>2505A</td>\n",
       "      <td>AE</td>\n",
       "      <td>00A10709</td>\n",
       "      <td>...</td>\n",
       "      <td>0.0</td>\n",
       "      <td>679.0</td>\n",
       "      <td>4145.0</td>\n",
       "      <td>P58X</td>\n",
       "      <td>0</td>\n",
       "      <td>0.0</td>\n",
       "      <td>107</td>\n",
       "      <td>102</td>\n",
       "      <td>None</td>\n",
       "      <td>17-08-02 18:34:49.631885000</td>\n",
       "    </tr>\n",
       "    <tr>\n",
       "      <th>1</th>\n",
       "      <td>WRAEJP201702C000001</td>\n",
       "      <td>100100</td>\n",
       "      <td>100100</td>\n",
       "      <td>2</td>\n",
       "      <td>C</td>\n",
       "      <td>1</td>\n",
       "      <td>201702</td>\n",
       "      <td>2505C</td>\n",
       "      <td>AE</td>\n",
       "      <td>00MB2189</td>\n",
       "      <td>...</td>\n",
       "      <td>0.0</td>\n",
       "      <td>0.0</td>\n",
       "      <td>1358.0</td>\n",
       "      <td>3223</td>\n",
       "      <td>100</td>\n",
       "      <td>1358.0</td>\n",
       "      <td>39</td>\n",
       "      <td>36</td>\n",
       "      <td>None</td>\n",
       "      <td>17-08-02 18:38:14.568529000</td>\n",
       "    </tr>\n",
       "    <tr>\n",
       "      <th>2</th>\n",
       "      <td>WRAEJP201702C000002</td>\n",
       "      <td>100100</td>\n",
       "      <td>100100</td>\n",
       "      <td>2</td>\n",
       "      <td>C</td>\n",
       "      <td>1</td>\n",
       "      <td>201702</td>\n",
       "      <td>2505C</td>\n",
       "      <td>AE</td>\n",
       "      <td>00MB2188</td>\n",
       "      <td>...</td>\n",
       "      <td>0.0</td>\n",
       "      <td>0.0</td>\n",
       "      <td>1358.0</td>\n",
       "      <td>3223</td>\n",
       "      <td>100</td>\n",
       "      <td>1358.0</td>\n",
       "      <td>39</td>\n",
       "      <td>36</td>\n",
       "      <td>None</td>\n",
       "      <td>17-08-02 18:38:14.570739000</td>\n",
       "    </tr>\n",
       "    <tr>\n",
       "      <th>3</th>\n",
       "      <td>WRAEJP201702C000003</td>\n",
       "      <td>100100</td>\n",
       "      <td>100100</td>\n",
       "      <td>1</td>\n",
       "      <td>C</td>\n",
       "      <td>1</td>\n",
       "      <td>201702</td>\n",
       "      <td>2505C</td>\n",
       "      <td>AE</td>\n",
       "      <td>00MB0864</td>\n",
       "      <td>...</td>\n",
       "      <td>0.0</td>\n",
       "      <td>287.0</td>\n",
       "      <td>5660.0</td>\n",
       "      <td>3962</td>\n",
       "      <td>50</td>\n",
       "      <td>2656.0</td>\n",
       "      <td>20</td>\n",
       "      <td>17</td>\n",
       "      <td>None</td>\n",
       "      <td>17-08-02 18:38:15.016027000</td>\n",
       "    </tr>\n",
       "    <tr>\n",
       "      <th>4</th>\n",
       "      <td>WRAEJP201702C000004</td>\n",
       "      <td>100100</td>\n",
       "      <td>100100</td>\n",
       "      <td>1</td>\n",
       "      <td>C</td>\n",
       "      <td>1</td>\n",
       "      <td>201702</td>\n",
       "      <td>2505C</td>\n",
       "      <td>AE</td>\n",
       "      <td>0MB2252A</td>\n",
       "      <td>...</td>\n",
       "      <td>0.0</td>\n",
       "      <td>1171.0</td>\n",
       "      <td>9152.0</td>\n",
       "      <td>3479</td>\n",
       "      <td>50</td>\n",
       "      <td>3674.0</td>\n",
       "      <td>28</td>\n",
       "      <td>23</td>\n",
       "      <td>None</td>\n",
       "      <td>17-08-02 18:38:16.974580000</td>\n",
       "    </tr>\n",
       "  </tbody>\n",
       "</table>\n",
       "<p>5 rows × 48 columns</p>\n",
       "</div>"
      ],
      "text/plain": [
       "                 W_KEY W_BASE_CD W_PROD_BASE_CD W_FIELD_CLAIM_DIV W_PROD_DIV  \\\n",
       "0  WRAEJP201702A000001    100100         100100                 2          A   \n",
       "1  WRAEJP201702C000001    100100         100100                 2          C   \n",
       "2  WRAEJP201702C000002    100100         100100                 2          C   \n",
       "3  WRAEJP201702C000003    100100         100100                 1          C   \n",
       "4  WRAEJP201702C000004    100100         100100                 1          C   \n",
       "\n",
       "  W_DMEX_DIV W_PROCESS_MONTH W_DIST_CD W_DIST_COUNTRY_CD W_DIST_ISSUE_NO  ...  \\\n",
       "0          1          201702     2505A                AE        00A10709  ...   \n",
       "1          1          201702     2505C                AE        00MB2189  ...   \n",
       "2          1          201702     2505C                AE        00MB2188  ...   \n",
       "3          1          201702     2505C                AE        00MB0864  ...   \n",
       "4          1          201702     2505C                AE        0MB2252A  ...   \n",
       "\n",
       "  W_SUBLET_AMT W_SHIPPING_AMT W_TOTAL_AMT W_CFC_COMPANY_CD W_CFC_RATE  \\\n",
       "0          0.0          679.0      4145.0             P58X          0   \n",
       "1          0.0            0.0      1358.0             3223        100   \n",
       "2          0.0            0.0      1358.0             3223        100   \n",
       "3          0.0          287.0      5660.0             3962         50   \n",
       "4          0.0         1171.0      9152.0             3479         50   \n",
       "\n",
       "  W_CFC_AMT  W_FC_TO_FAILURE W_SALES_TO_FAILURE W_SB_NO  \\\n",
       "0       0.0              107                102    None   \n",
       "1    1358.0               39                 36    None   \n",
       "2    1358.0               39                 36    None   \n",
       "3    2656.0               20                 17    None   \n",
       "4    3674.0               28                 23    None   \n",
       "\n",
       "              W_CRT_TIME_STAMP  \n",
       "0  17-08-02 18:34:49.631885000  \n",
       "1  17-08-02 18:38:14.568529000  \n",
       "2  17-08-02 18:38:14.570739000  \n",
       "3  17-08-02 18:38:15.016027000  \n",
       "4  17-08-02 18:38:16.974580000  \n",
       "\n",
       "[5 rows x 48 columns]"
      ]
     },
     "execution_count": 23,
     "metadata": {},
     "output_type": "execute_result"
    }
   ],
   "source": [
    "pd.read_sql(\"select * from warranty limit 5;\", engine)"
   ]
  },
  {
   "cell_type": "code",
   "execution_count": 24,
   "metadata": {
    "ExecuteTime": {
     "end_time": "2019-07-08T21:58:25.863697Z",
     "start_time": "2019-07-08T21:58:25.788913Z"
    }
   },
   "outputs": [
    {
     "data": {
      "text/html": [
       "<div>\n",
       "<style scoped>\n",
       "    .dataframe tbody tr th:only-of-type {\n",
       "        vertical-align: middle;\n",
       "    }\n",
       "\n",
       "    .dataframe tbody tr th {\n",
       "        vertical-align: top;\n",
       "    }\n",
       "\n",
       "    .dataframe thead th {\n",
       "        text-align: right;\n",
       "    }\n",
       "</style>\n",
       "<table border=\"1\" class=\"dataframe\">\n",
       "  <thead>\n",
       "    <tr style=\"text-align: right;\">\n",
       "      <th></th>\n",
       "      <th>V_BASE_CD</th>\n",
       "      <th>V_PROD_DIV</th>\n",
       "      <th>V_VIN</th>\n",
       "      <th>V_ENGINE_NO</th>\n",
       "      <th>V_MOTOR_NO</th>\n",
       "      <th>V_MISSON_NO</th>\n",
       "      <th>V_KEY_NO</th>\n",
       "      <th>V_FCOK</th>\n",
       "      <th>V_FCOK_TIME</th>\n",
       "      <th>V_ABOK</th>\n",
       "      <th>...</th>\n",
       "      <th>V_DIST_CD</th>\n",
       "      <th>V_BRANCH_CD</th>\n",
       "      <th>V_SHIPPING_DATE</th>\n",
       "      <th>V_SHIPPING_FCOK</th>\n",
       "      <th>V_SHIPPING_ABOK</th>\n",
       "      <th>V_INVOICE_NO</th>\n",
       "      <th>V_SALES_NO</th>\n",
       "      <th>V_CASE_NO</th>\n",
       "      <th>V_SRC_DIV</th>\n",
       "      <th>V_CRT_TIME_STAMP</th>\n",
       "    </tr>\n",
       "  </thead>\n",
       "  <tbody>\n",
       "    <tr>\n",
       "      <th>0</th>\n",
       "      <td>100100</td>\n",
       "      <td>A</td>\n",
       "      <td>BA43A-111775</td>\n",
       "      <td>A407-111815</td>\n",
       "      <td>None</td>\n",
       "      <td>None</td>\n",
       "      <td>None</td>\n",
       "      <td>20170111</td>\n",
       "      <td>174400</td>\n",
       "      <td>20170111</td>\n",
       "      <td>...</td>\n",
       "      <td>None</td>\n",
       "      <td>None</td>\n",
       "      <td>None</td>\n",
       "      <td>None</td>\n",
       "      <td>None</td>\n",
       "      <td>None</td>\n",
       "      <td>None</td>\n",
       "      <td>None</td>\n",
       "      <td>1</td>\n",
       "      <td>18-01-31 10:51:00.986668000</td>\n",
       "    </tr>\n",
       "    <tr>\n",
       "      <th>1</th>\n",
       "      <td>100100</td>\n",
       "      <td>A</td>\n",
       "      <td>BA43A-111776</td>\n",
       "      <td>A407-111814</td>\n",
       "      <td>None</td>\n",
       "      <td>None</td>\n",
       "      <td>None</td>\n",
       "      <td>20170118</td>\n",
       "      <td>094600</td>\n",
       "      <td>20170111</td>\n",
       "      <td>...</td>\n",
       "      <td>None</td>\n",
       "      <td>None</td>\n",
       "      <td>None</td>\n",
       "      <td>None</td>\n",
       "      <td>None</td>\n",
       "      <td>None</td>\n",
       "      <td>None</td>\n",
       "      <td>None</td>\n",
       "      <td>1</td>\n",
       "      <td>18-01-31 10:51:03.350036000</td>\n",
       "    </tr>\n",
       "    <tr>\n",
       "      <th>2</th>\n",
       "      <td>100100</td>\n",
       "      <td>A</td>\n",
       "      <td>BA43A-111777</td>\n",
       "      <td>A407-111812</td>\n",
       "      <td>None</td>\n",
       "      <td>None</td>\n",
       "      <td>None</td>\n",
       "      <td>20170111</td>\n",
       "      <td>174500</td>\n",
       "      <td>20170111</td>\n",
       "      <td>...</td>\n",
       "      <td>None</td>\n",
       "      <td>None</td>\n",
       "      <td>None</td>\n",
       "      <td>None</td>\n",
       "      <td>None</td>\n",
       "      <td>None</td>\n",
       "      <td>None</td>\n",
       "      <td>None</td>\n",
       "      <td>1</td>\n",
       "      <td>18-01-31 10:51:00.988499000</td>\n",
       "    </tr>\n",
       "    <tr>\n",
       "      <th>3</th>\n",
       "      <td>100100</td>\n",
       "      <td>A</td>\n",
       "      <td>BA43A-111778</td>\n",
       "      <td>A407-111811</td>\n",
       "      <td>None</td>\n",
       "      <td>None</td>\n",
       "      <td>None</td>\n",
       "      <td>20170117</td>\n",
       "      <td>131000</td>\n",
       "      <td>20170111</td>\n",
       "      <td>...</td>\n",
       "      <td>None</td>\n",
       "      <td>None</td>\n",
       "      <td>None</td>\n",
       "      <td>None</td>\n",
       "      <td>None</td>\n",
       "      <td>None</td>\n",
       "      <td>None</td>\n",
       "      <td>None</td>\n",
       "      <td>1</td>\n",
       "      <td>18-01-31 10:51:03.089003000</td>\n",
       "    </tr>\n",
       "    <tr>\n",
       "      <th>4</th>\n",
       "      <td>100100</td>\n",
       "      <td>A</td>\n",
       "      <td>BA43A-111779</td>\n",
       "      <td>A407-111809</td>\n",
       "      <td>None</td>\n",
       "      <td>None</td>\n",
       "      <td>None</td>\n",
       "      <td>20170111</td>\n",
       "      <td>193400</td>\n",
       "      <td>20170111</td>\n",
       "      <td>...</td>\n",
       "      <td>None</td>\n",
       "      <td>None</td>\n",
       "      <td>None</td>\n",
       "      <td>None</td>\n",
       "      <td>None</td>\n",
       "      <td>None</td>\n",
       "      <td>None</td>\n",
       "      <td>None</td>\n",
       "      <td>1</td>\n",
       "      <td>18-01-31 10:51:00.990269000</td>\n",
       "    </tr>\n",
       "  </tbody>\n",
       "</table>\n",
       "<p>5 rows × 27 columns</p>\n",
       "</div>"
      ],
      "text/plain": [
       "  V_BASE_CD V_PROD_DIV         V_VIN  V_ENGINE_NO V_MOTOR_NO V_MISSON_NO  \\\n",
       "0    100100          A  BA43A-111775  A407-111815       None        None   \n",
       "1    100100          A  BA43A-111776  A407-111814       None        None   \n",
       "2    100100          A  BA43A-111777  A407-111812       None        None   \n",
       "3    100100          A  BA43A-111778  A407-111811       None        None   \n",
       "4    100100          A  BA43A-111779  A407-111809       None        None   \n",
       "\n",
       "  V_KEY_NO    V_FCOK V_FCOK_TIME    V_ABOK  ... V_DIST_CD V_BRANCH_CD  \\\n",
       "0     None  20170111      174400  20170111  ...      None        None   \n",
       "1     None  20170118      094600  20170111  ...      None        None   \n",
       "2     None  20170111      174500  20170111  ...      None        None   \n",
       "3     None  20170117      131000  20170111  ...      None        None   \n",
       "4     None  20170111      193400  20170111  ...      None        None   \n",
       "\n",
       "  V_SHIPPING_DATE V_SHIPPING_FCOK V_SHIPPING_ABOK V_INVOICE_NO V_SALES_NO  \\\n",
       "0            None            None            None         None       None   \n",
       "1            None            None            None         None       None   \n",
       "2            None            None            None         None       None   \n",
       "3            None            None            None         None       None   \n",
       "4            None            None            None         None       None   \n",
       "\n",
       "  V_CASE_NO V_SRC_DIV             V_CRT_TIME_STAMP  \n",
       "0      None         1  18-01-31 10:51:00.986668000  \n",
       "1      None         1  18-01-31 10:51:03.350036000  \n",
       "2      None         1  18-01-31 10:51:00.988499000  \n",
       "3      None         1  18-01-31 10:51:03.089003000  \n",
       "4      None         1  18-01-31 10:51:00.990269000  \n",
       "\n",
       "[5 rows x 27 columns]"
      ]
     },
     "execution_count": 24,
     "metadata": {},
     "output_type": "execute_result"
    }
   ],
   "source": [
    "pd.read_sql(\"select * from fcok limit 5;\", engine)"
   ]
  },
  {
   "cell_type": "code",
   "execution_count": 25,
   "metadata": {
    "ExecuteTime": {
     "end_time": "2019-07-08T21:59:00.921175Z",
     "start_time": "2019-07-08T21:59:00.835440Z"
    }
   },
   "outputs": [
    {
     "data": {
      "text/html": [
       "<div>\n",
       "<style scoped>\n",
       "    .dataframe tbody tr th:only-of-type {\n",
       "        vertical-align: middle;\n",
       "    }\n",
       "\n",
       "    .dataframe tbody tr th {\n",
       "        vertical-align: top;\n",
       "    }\n",
       "\n",
       "    .dataframe thead th {\n",
       "        text-align: right;\n",
       "    }\n",
       "</style>\n",
       "<table border=\"1\" class=\"dataframe\">\n",
       "  <thead>\n",
       "    <tr style=\"text-align: right;\">\n",
       "      <th></th>\n",
       "      <th>count(*)</th>\n",
       "    </tr>\n",
       "  </thead>\n",
       "  <tbody>\n",
       "    <tr>\n",
       "      <th>0</th>\n",
       "      <td>805134</td>\n",
       "    </tr>\n",
       "  </tbody>\n",
       "</table>\n",
       "</div>"
      ],
      "text/plain": [
       "   count(*)\n",
       "0    805134"
      ]
     },
     "execution_count": 25,
     "metadata": {},
     "output_type": "execute_result"
    }
   ],
   "source": [
    "pd.read_sql(\"select count(*) from warranty;\", engine)"
   ]
  },
  {
   "cell_type": "code",
   "execution_count": 26,
   "metadata": {
    "ExecuteTime": {
     "end_time": "2019-07-08T21:59:10.147062Z",
     "start_time": "2019-07-08T21:59:10.003475Z"
    }
   },
   "outputs": [
    {
     "data": {
      "text/html": [
       "<div>\n",
       "<style scoped>\n",
       "    .dataframe tbody tr th:only-of-type {\n",
       "        vertical-align: middle;\n",
       "    }\n",
       "\n",
       "    .dataframe tbody tr th {\n",
       "        vertical-align: top;\n",
       "    }\n",
       "\n",
       "    .dataframe thead th {\n",
       "        text-align: right;\n",
       "    }\n",
       "</style>\n",
       "<table border=\"1\" class=\"dataframe\">\n",
       "  <thead>\n",
       "    <tr style=\"text-align: right;\">\n",
       "      <th></th>\n",
       "      <th>count(*)</th>\n",
       "    </tr>\n",
       "  </thead>\n",
       "  <tbody>\n",
       "    <tr>\n",
       "      <th>0</th>\n",
       "      <td>3679940</td>\n",
       "    </tr>\n",
       "  </tbody>\n",
       "</table>\n",
       "</div>"
      ],
      "text/plain": [
       "   count(*)\n",
       "0   3679940"
      ]
     },
     "execution_count": 26,
     "metadata": {},
     "output_type": "execute_result"
    }
   ],
   "source": [
    "pd.read_sql(\"select count(*) from fcok;\", engine)"
   ]
  },
  {
   "cell_type": "code",
   "execution_count": null,
   "metadata": {},
   "outputs": [],
   "source": []
  }
 ],
 "metadata": {
  "kernelspec": {
   "display_name": "Python [conda env:suzuki] *",
   "language": "python",
   "name": "conda-env-suzuki-py"
  },
  "language_info": {
   "codemirror_mode": {
    "name": "ipython",
    "version": 3
   },
   "file_extension": ".py",
   "mimetype": "text/x-python",
   "name": "python",
   "nbconvert_exporter": "python",
   "pygments_lexer": "ipython3",
   "version": "3.6.8"
  },
  "latex_envs": {
   "LaTeX_envs_menu_present": true,
   "autoclose": false,
   "autocomplete": true,
   "bibliofile": "biblio.bib",
   "cite_by": "apalike",
   "current_citInitial": 1,
   "eqLabelWithNumbers": true,
   "eqNumInitial": 1,
   "hotkeys": {
    "equation": "Ctrl-E",
    "itemize": "Ctrl-I"
   },
   "labels_anchors": false,
   "latex_user_defs": false,
   "report_style_numbering": false,
   "user_envs_cfg": false
  },
  "nbTranslate": {
   "displayLangs": [
    "*"
   ],
   "hotkey": "alt-t",
   "langInMainMenu": true,
   "sourceLang": "en",
   "targetLang": "fr",
   "useGoogleTranslate": true
  },
  "toc": {
   "base_numbering": 1,
   "nav_menu": {},
   "number_sections": true,
   "sideBar": true,
   "skip_h1_title": false,
   "title_cell": "Table of Contents",
   "title_sidebar": "Contents",
   "toc_cell": false,
   "toc_position": {},
   "toc_section_display": true,
   "toc_window_display": false
  }
 },
 "nbformat": 4,
 "nbformat_minor": 2
}
