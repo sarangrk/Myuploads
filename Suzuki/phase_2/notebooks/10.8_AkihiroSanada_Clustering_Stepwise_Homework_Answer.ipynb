{
 "cells": [
  {
   "cell_type": "markdown",
   "metadata": {},
   "source": [
    "# 第10回の宿題(ステップワイズ法の理解)の回答例"
   ]
  },
  {
   "cell_type": "markdown",
   "metadata": {},
   "source": [
    "- アヤメデータセットはsepal_lengthなど、品種を除いて4つの変数を持っています。この4変数に対して、フォワードのステップワイズ法を使用して、BICが最小となるような変数の組を求めて下さい。"
   ]
  },
  {
   "cell_type": "code",
   "execution_count": 1,
   "metadata": {
    "ExecuteTime": {
     "end_time": "2019-08-27T12:45:05.819867Z",
     "start_time": "2019-08-27T12:44:57.989030Z"
    }
   },
   "outputs": [],
   "source": [
    "import seaborn as sns # seabornのサンプルデータを使用する\n",
    "df = sns.load_dataset(\"iris\") # アヤメのがくや花びらの長さ&幅、品種のデータ"
   ]
  },
  {
   "cell_type": "code",
   "execution_count": 3,
   "metadata": {
    "ExecuteTime": {
     "end_time": "2019-08-27T12:45:24.862144Z",
     "start_time": "2019-08-27T12:45:24.858650Z"
    }
   },
   "outputs": [],
   "source": [
    "data = df.iloc[:, :4] # 品種以外のデータを取り出す"
   ]
  },
  {
   "cell_type": "code",
   "execution_count": 4,
   "metadata": {
    "ExecuteTime": {
     "end_time": "2019-08-27T12:45:29.914807Z",
     "start_time": "2019-08-27T12:45:29.903316Z"
    }
   },
   "outputs": [
    {
     "data": {
      "text/html": [
       "<div>\n",
       "<style scoped>\n",
       "    .dataframe tbody tr th:only-of-type {\n",
       "        vertical-align: middle;\n",
       "    }\n",
       "\n",
       "    .dataframe tbody tr th {\n",
       "        vertical-align: top;\n",
       "    }\n",
       "\n",
       "    .dataframe thead th {\n",
       "        text-align: right;\n",
       "    }\n",
       "</style>\n",
       "<table border=\"1\" class=\"dataframe\">\n",
       "  <thead>\n",
       "    <tr style=\"text-align: right;\">\n",
       "      <th></th>\n",
       "      <th>sepal_length</th>\n",
       "      <th>sepal_width</th>\n",
       "      <th>petal_length</th>\n",
       "      <th>petal_width</th>\n",
       "    </tr>\n",
       "  </thead>\n",
       "  <tbody>\n",
       "    <tr>\n",
       "      <th>0</th>\n",
       "      <td>5.1</td>\n",
       "      <td>3.5</td>\n",
       "      <td>1.4</td>\n",
       "      <td>0.2</td>\n",
       "    </tr>\n",
       "    <tr>\n",
       "      <th>1</th>\n",
       "      <td>4.9</td>\n",
       "      <td>3.0</td>\n",
       "      <td>1.4</td>\n",
       "      <td>0.2</td>\n",
       "    </tr>\n",
       "    <tr>\n",
       "      <th>2</th>\n",
       "      <td>4.7</td>\n",
       "      <td>3.2</td>\n",
       "      <td>1.3</td>\n",
       "      <td>0.2</td>\n",
       "    </tr>\n",
       "    <tr>\n",
       "      <th>3</th>\n",
       "      <td>4.6</td>\n",
       "      <td>3.1</td>\n",
       "      <td>1.5</td>\n",
       "      <td>0.2</td>\n",
       "    </tr>\n",
       "    <tr>\n",
       "      <th>4</th>\n",
       "      <td>5.0</td>\n",
       "      <td>3.6</td>\n",
       "      <td>1.4</td>\n",
       "      <td>0.2</td>\n",
       "    </tr>\n",
       "  </tbody>\n",
       "</table>\n",
       "</div>"
      ],
      "text/plain": [
       "   sepal_length  sepal_width  petal_length  petal_width\n",
       "0           5.1          3.5           1.4          0.2\n",
       "1           4.9          3.0           1.4          0.2\n",
       "2           4.7          3.2           1.3          0.2\n",
       "3           4.6          3.1           1.5          0.2\n",
       "4           5.0          3.6           1.4          0.2"
      ]
     },
     "execution_count": 4,
     "metadata": {},
     "output_type": "execute_result"
    }
   ],
   "source": [
    "data.head()"
   ]
  },
  {
   "cell_type": "code",
   "execution_count": 9,
   "metadata": {
    "ExecuteTime": {
     "end_time": "2019-08-27T13:08:09.232319Z",
     "start_time": "2019-08-27T13:08:09.229455Z"
    }
   },
   "outputs": [],
   "source": [
    "import numpy as np\n",
    "from sklearn.mixture import GaussianMixture"
   ]
  },
  {
   "cell_type": "code",
   "execution_count": 15,
   "metadata": {
    "ExecuteTime": {
     "end_time": "2019-08-27T13:08:32.129332Z",
     "start_time": "2019-08-27T13:08:32.126352Z"
    }
   },
   "outputs": [],
   "source": [
    "n_components = 4"
   ]
  },
  {
   "cell_type": "code",
   "execution_count": 16,
   "metadata": {
    "ExecuteTime": {
     "end_time": "2019-08-27T13:08:32.395304Z",
     "start_time": "2019-08-27T13:08:32.295413Z"
    }
   },
   "outputs": [
    {
     "name": "stdout",
     "output_type": "stream",
     "text": [
      "feature sepal_width is added. BIC is 224.6.\n",
      "feature petal_width is added. BIC is 141.5.\n"
     ]
    }
   ],
   "source": [
    "feature_list = list(data.columns) # 候補の変数のリスト\n",
    "selected_feature = [] # 選ばれた変数のリスト。最初は空のリスト。\n",
    "best_bic = np.inf # 最初は無限大にしておく。\n",
    "\n",
    "# feature_listが空でない限り、ループを回す。breakでwhileループを抜けることもある。\n",
    "while len(feature_list) > 0:\n",
    "    best_feature = \"\"\n",
    "    for feature in feature_list:\n",
    "        tmp_feature_list = selected_feature + [feature] # 試しに変数を追加\n",
    "        df_tmp = data[tmp_feature_list] # 変数の部分だけデータを取り出す\n",
    "        gmm = GaussianMixture(n_components=n_components)\n",
    "        gmm.fit(df_tmp)\n",
    "        bic = gmm.bic(df_tmp)\n",
    "        if bic < best_bic:\n",
    "            best_feature = feature # もしbicが今までの最良のbicよりも更に良ければ、その変数を記録\n",
    "            best_bic = bic\n",
    "    if best_feature != \"\": # 何か追加すべき(bicが改善する)変数があれば、その変数を追加する。\n",
    "        selected_feature.append(best_feature)\n",
    "        feature_list.remove(best_feature) # 候補の変数リストから、今回追加した変数を除外しておく\n",
    "        print(f\"feature {best_feature} is added. BIC is {best_bic:.1f}.\")\n",
    "    else: # どの変数を追加してもbicが悪化するようであれば、best_featureは空のままのはずで、その際はループを抜ける\n",
    "        break"
   ]
  },
  {
   "cell_type": "code",
   "execution_count": 17,
   "metadata": {
    "ExecuteTime": {
     "end_time": "2019-08-27T13:09:24.656228Z",
     "start_time": "2019-08-27T13:09:24.652437Z"
    }
   },
   "outputs": [
    {
     "data": {
      "text/plain": [
       "['sepal_width', 'petal_width']"
      ]
     },
     "execution_count": 17,
     "metadata": {},
     "output_type": "execute_result"
    }
   ],
   "source": [
    "selected_feature"
   ]
  },
  {
   "cell_type": "code",
   "execution_count": 28,
   "metadata": {
    "ExecuteTime": {
     "end_time": "2019-08-27T13:14:44.894090Z",
     "start_time": "2019-08-27T13:14:44.667210Z"
    }
   },
   "outputs": [
    {
     "data": {
      "text/plain": [
       "Text(0, 0.5, 'petal_width')"
      ]
     },
     "execution_count": 28,
     "metadata": {},
     "output_type": "execute_result"
    },
    {
     "data": {
      "image/png": "[encoded data removed]",
      "text/plain": [
       "<Figure size 432x288 with 1 Axes>"
      ]
     },
     "metadata": {
      "needs_background": "light"
     },
     "output_type": "display_data"
    }
   ],
   "source": [
    "import matplotlib.pyplot as plt\n",
    "\n",
    "gmm = GaussianMixture(n_components=n_components)\n",
    "gmm.fit(data[selected_feature])\n",
    "df_pred = df.copy()\n",
    "df_pred[\"group\"] = gmm.predict(data[selected_feature])\n",
    "for group in df_pred[\"group\"].unique():\n",
    "    df_tmp = df_pred.loc[df_pred[\"group\"] == group, selected_feature]\n",
    "    plt.scatter(df_tmp[\"sepal_width\"], df_tmp[\"petal_width\"], label=group)\n",
    "\n",
    "plt.xlabel(\"sepal_width\"); plt.ylabel(\"petal_width\")"
   ]
  }
 ],
 "metadata": {
  "kernelspec": {
   "display_name": "Python [conda env:suzuki] *",
   "language": "python",
   "name": "conda-env-suzuki-py"
  },
  "language_info": {
   "codemirror_mode": {
    "name": "ipython",
    "version": 3
   },
   "file_extension": ".py",
   "mimetype": "text/x-python",
   "name": "python",
   "nbconvert_exporter": "python",
   "pygments_lexer": "ipython3",
   "version": "3.6.8"
  },
  "latex_envs": {
   "LaTeX_envs_menu_present": true,
   "autoclose": false,
   "autocomplete": true,
   "bibliofile": "biblio.bib",
   "cite_by": "apalike",
   "current_citInitial": 1,
   "eqLabelWithNumbers": true,
   "eqNumInitial": 1,
   "hotkeys": {
    "equation": "Ctrl-E",
    "itemize": "Ctrl-I"
   },
   "labels_anchors": false,
   "latex_user_defs": false,
   "report_style_numbering": false,
   "user_envs_cfg": false
  },
  "nbTranslate": {
   "displayLangs": [
    "*"
   ],
   "hotkey": "alt-t",
   "langInMainMenu": true,
   "sourceLang": "en",
   "targetLang": "fr",
   "useGoogleTranslate": true
  },
  "toc": {
   "base_numbering": 1,
   "nav_menu": {},
   "number_sections": true,
   "sideBar": true,
   "skip_h1_title": false,
   "title_cell": "Table of Contents",
   "title_sidebar": "Contents",
   "toc_cell": false,
   "toc_position": {},
   "toc_section_display": true,
   "toc_window_display": false
  }
 },
 "nbformat": 4,
 "nbformat_minor": 2
}
