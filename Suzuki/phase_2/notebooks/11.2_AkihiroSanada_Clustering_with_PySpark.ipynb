{
 "cells": [
  {
   "cell_type": "markdown",
   "metadata": {},
   "source": [
    "# 大規模データに対するクラスタリング: PySpark編"
   ]
  },
  {
   "cell_type": "markdown",
   "metadata": {},
   "source": [
    "## クラスタリング処理の流れ"
   ]
  },
  {
   "cell_type": "markdown",
   "metadata": {},
   "source": [
    "- 1. 使用する変数を選択\n",
    "    - 全く変化していない変数を除去\n",
    "    - 定性的に選択\n",
    "- 2. サンプリングで時間インデックスを作成。\n",
    "    - トランザクションデータを時系列データとする。\n",
    "- 3. 使用する変数を選択(時系列データとなったことで、以下が可能になる。)\n",
    "    - 相関係数の高いペアを削除\n",
    "    - 周期的に変動しているダミー変数を削除\n",
    "- 4. ダウンサンプリングで集約\n",
    "    - 集約の方法は平均、最大値、最小値、パーセンタイルなどを使用\n",
    "    - 集約の単位は、VIN単位、時間単位、VIN×時間単位など\n",
    "- 5. 使用するクラスター数(ハイパーパラメータ)と変数を決定\n",
    "- 6. クラスタリングを実行\n",
    "- 7. クラスターを解釈"
   ]
  },
  {
   "cell_type": "markdown",
   "metadata": {},
   "source": [
    "## データロード"
   ]
  },
  {
   "cell_type": "code",
   "execution_count": 5,
   "metadata": {
    "ExecuteTime": {
     "end_time": "2019-08-21T06:57:40.176320Z",
     "start_time": "2019-08-21T06:57:40.173575Z"
    }
   },
   "outputs": [],
   "source": [
    "# スキーマの設定\n",
    "from pyspark.sql.types import StructType, StructField\n",
    "from pyspark.sql.types import DoubleType, IntegerType, StringType, LongType"
   ]
  },
  {
   "cell_type": "code",
   "execution_count": 6,
   "metadata": {
    "ExecuteTime": {
     "end_time": "2019-08-21T06:57:43.465500Z",
     "start_time": "2019-08-21T06:57:43.461995Z"
    }
   },
   "outputs": [],
   "source": [
    "# StructFieldインスタンスのリストを作成\n",
    "fields = [StructField(\"carid\", StringType()),\n",
    "          StructField(\"starttime\", StringType()),\n",
    "          StructField(\"times\", DoubleType()),\n",
    "          StructField(\"feature\", StringType()),\n",
    "          StructField(\"val\", DoubleType())]\n",
    "# 作ったリストをStructTypeコンストラクタに渡すと、スキーマが完成。\n",
    "schema = StructType(fields)"
   ]
  },
  {
   "cell_type": "code",
   "execution_count": 7,
   "metadata": {
    "ExecuteTime": {
     "end_time": "2019-08-21T06:57:59.184779Z",
     "start_time": "2019-08-21T06:57:59.119194Z"
    }
   },
   "outputs": [],
   "source": [
    "# dataをsparkのDataFrameとして読み込み\n",
    "df = spark.read.csv([\"../data/raw/CAN/20190605_CAN/103.486_CAR1V21_HDD2/Job1/SUZUKI_YSB-021_MRR_2016-04-20_06-27_0001.BLF.csv\",\n",
    "                     \"../data/raw/CAN/20190605_CAN/103.486_CAR1V21_HDD2/Job1/SUZUKI_YSB-021_MRR_2016-04-20_06-37_0002.BLF.csv\"]\n",
    "                   ,schema=schema)"
   ]
  },
  {
   "cell_type": "markdown",
   "metadata": {},
   "source": [
    "**ロケール**"
   ]
  },
  {
   "cell_type": "code",
   "execution_count": 9,
   "metadata": {
    "ExecuteTime": {
     "end_time": "2019-08-21T07:00:09.904705Z",
     "start_time": "2019-08-21T07:00:09.797619Z"
    }
   },
   "outputs": [
    {
     "name": "stdout",
     "output_type": "stream",
     "text": [
      "+-----+------------+--------+-------+---+\n",
      "|carid|   starttime|   times|feature|val|\n",
      "+-----+------------+--------+-------+---+\n",
      "|  021|201604200627|0.295909|  0FA53|0.0|\n",
      "|  021|201604200627|0.295909|  0FA57|4.0|\n",
      "|  021|201604200627|0.295909|  0FA43|0.0|\n",
      "+-----+------------+--------+-------+---+\n",
      "only showing top 3 rows\n",
      "\n"
     ]
    }
   ],
   "source": [
    "df.show(3)"
   ]
  },
  {
   "cell_type": "markdown",
   "metadata": {},
   "source": [
    "## 使用する変数の選択"
   ]
  },
  {
   "cell_type": "markdown",
   "metadata": {},
   "source": [
    "### 全く変化していない変数を除去"
   ]
  },
  {
   "cell_type": "code",
   "execution_count": 10,
   "metadata": {
    "ExecuteTime": {
     "end_time": "2019-08-21T07:01:21.344964Z",
     "start_time": "2019-08-21T07:01:21.302960Z"
    }
   },
   "outputs": [],
   "source": [
    "from pyspark.sql import functions as func"
   ]
  },
  {
   "cell_type": "code",
   "execution_count": 11,
   "metadata": {
    "ExecuteTime": {
     "end_time": "2019-08-21T07:01:51.169972Z",
     "start_time": "2019-08-21T07:01:30.201639Z"
    }
   },
   "outputs": [],
   "source": [
    "# 各特徴でvalの値の種類数をcheck。概算値をチェック。概算値ではあるが、とても速い。\n",
    "df_nunique_approx = (df\n",
    "              .groupBy(\"feature\")\n",
    "              .agg(func.approx_count_distinct(\"val\").alias(\"n_unique\"))\n",
    "              .toPandas())"
   ]
  },
  {
   "cell_type": "markdown",
   "metadata": {},
   "source": [
    "ちなみに、種類数の近似アルゴリズムは\"HyperLogLog\"というもの。アルゴリズムは[こちらの論文](http://algo.inria.fr/flajolet/Publications/FlFuGaMe07.pdf)で発表され、その具体的実装は[こちらの論文](http://static.googleusercontent.com/media/research.google.com/en/us/pubs/archive/40671.pdf)で紹介された。"
   ]
  },
  {
   "cell_type": "code",
   "execution_count": 12,
   "metadata": {
    "ExecuteTime": {
     "end_time": "2019-08-21T07:02:33.724100Z",
     "start_time": "2019-08-21T07:02:33.715774Z"
    }
   },
   "outputs": [
    {
     "data": {
      "text/plain": [
       "(549, 2)"
      ]
     },
     "execution_count": 12,
     "metadata": {},
     "output_type": "execute_result"
    }
   ],
   "source": [
    "df_nunique_approx.shape"
   ]
  },
  {
   "cell_type": "code",
   "execution_count": 13,
   "metadata": {
    "ExecuteTime": {
     "end_time": "2019-08-21T07:02:42.643811Z",
     "start_time": "2019-08-21T07:02:42.623561Z"
    }
   },
   "outputs": [
    {
     "data": {
      "text/html": [
       "<div>\n",
       "<style scoped>\n",
       "    .dataframe tbody tr th:only-of-type {\n",
       "        vertical-align: middle;\n",
       "    }\n",
       "\n",
       "    .dataframe tbody tr th {\n",
       "        vertical-align: top;\n",
       "    }\n",
       "\n",
       "    .dataframe thead th {\n",
       "        text-align: right;\n",
       "    }\n",
       "</style>\n",
       "<table border=\"1\" class=\"dataframe\">\n",
       "  <thead>\n",
       "    <tr style=\"text-align: right;\">\n",
       "      <th></th>\n",
       "      <th>feature</th>\n",
       "      <th>n_unique</th>\n",
       "    </tr>\n",
       "  </thead>\n",
       "  <tbody>\n",
       "    <tr>\n",
       "      <th>0</th>\n",
       "      <td>3C307</td>\n",
       "      <td>1</td>\n",
       "    </tr>\n",
       "    <tr>\n",
       "      <th>1</th>\n",
       "      <td>3C134</td>\n",
       "      <td>1</td>\n",
       "    </tr>\n",
       "    <tr>\n",
       "      <th>2</th>\n",
       "      <td>31067</td>\n",
       "      <td>1</td>\n",
       "    </tr>\n",
       "    <tr>\n",
       "      <th>3</th>\n",
       "      <td>12204</td>\n",
       "      <td>1</td>\n",
       "    </tr>\n",
       "    <tr>\n",
       "      <th>4</th>\n",
       "      <td>31477</td>\n",
       "      <td>1</td>\n",
       "    </tr>\n",
       "  </tbody>\n",
       "</table>\n",
       "</div>"
      ],
      "text/plain": [
       "  feature  n_unique\n",
       "0   3C307         1\n",
       "1   3C134         1\n",
       "2   31067         1\n",
       "3   12204         1\n",
       "4   31477         1"
      ]
     },
     "execution_count": 13,
     "metadata": {},
     "output_type": "execute_result"
    }
   ],
   "source": [
    "df_nunique_approx.head()"
   ]
  },
  {
   "cell_type": "code",
   "execution_count": 16,
   "metadata": {
    "ExecuteTime": {
     "end_time": "2019-08-21T07:03:41.994298Z",
     "start_time": "2019-08-21T07:03:41.990769Z"
    }
   },
   "outputs": [],
   "source": [
    "# 概算値で1となるものを除く\n",
    "selected_features = df_nunique_approx.loc[df_nunique_approx.n_unique > 1, \"feature\"].to_list()"
   ]
  },
  {
   "cell_type": "code",
   "execution_count": 17,
   "metadata": {
    "ExecuteTime": {
     "end_time": "2019-08-21T07:03:43.483301Z",
     "start_time": "2019-08-21T07:03:43.479260Z"
    }
   },
   "outputs": [
    {
     "data": {
      "text/plain": [
       "105"
      ]
     },
     "execution_count": 17,
     "metadata": {},
     "output_type": "execute_result"
    }
   ],
   "source": [
    "len(selected_features) # 105個残った"
   ]
  },
  {
   "cell_type": "code",
   "execution_count": 18,
   "metadata": {
    "ExecuteTime": {
     "end_time": "2019-08-21T07:04:00.583063Z",
     "start_time": "2019-08-21T07:03:58.330825Z"
    }
   },
   "outputs": [
    {
     "data": {
      "text/plain": [
       "19661289"
      ]
     },
     "execution_count": 18,
     "metadata": {},
     "output_type": "execute_result"
    }
   ],
   "source": [
    "df.count()"
   ]
  },
  {
   "cell_type": "code",
   "execution_count": 19,
   "metadata": {
    "ExecuteTime": {
     "end_time": "2019-08-21T07:05:08.066631Z",
     "start_time": "2019-08-21T07:05:07.418931Z"
    }
   },
   "outputs": [],
   "source": [
    "# pandasのDataFrameのようにfilter条件を書ける\n",
    "df_selected = df[df.feature.isin(selected_features)]"
   ]
  },
  {
   "cell_type": "code",
   "execution_count": 20,
   "metadata": {
    "ExecuteTime": {
     "end_time": "2019-08-21T07:05:14.458367Z",
     "start_time": "2019-08-21T07:05:08.888927Z"
    }
   },
   "outputs": [
    {
     "data": {
      "text/plain": [
       "6133791"
      ]
     },
     "execution_count": 20,
     "metadata": {},
     "output_type": "execute_result"
    }
   ],
   "source": [
    "df_selected.count()"
   ]
  },
  {
   "cell_type": "code",
   "execution_count": 21,
   "metadata": {
    "ExecuteTime": {
     "end_time": "2019-08-21T07:05:23.961784Z",
     "start_time": "2019-08-21T07:05:23.845404Z"
    }
   },
   "outputs": [
    {
     "name": "stdout",
     "output_type": "stream",
     "text": [
      "+-----+------------+--------+-------+---+\n",
      "|carid|   starttime|   times|feature|val|\n",
      "+-----+------------+--------+-------+---+\n",
      "|  021|201604200627|0.295909|  0FA57|4.0|\n",
      "|  021|201604200627|0.295909|  0FA37|2.0|\n",
      "|  021|201604200627|0.296155|  11F53|6.0|\n",
      "+-----+------------+--------+-------+---+\n",
      "only showing top 3 rows\n",
      "\n"
     ]
    }
   ],
   "source": [
    "df_selected.show(3)"
   ]
  },
  {
   "cell_type": "markdown",
   "metadata": {},
   "source": [
    "### 定性的に選択"
   ]
  },
  {
   "cell_type": "code",
   "execution_count": null,
   "metadata": {},
   "outputs": [],
   "source": [
    "target_feature = [\"199192\", \"hogege\", \"\", \"\", \"\", \"\", \"\" ,\"\"]"
   ]
  },
  {
   "cell_type": "code",
   "execution_count": 22,
   "metadata": {
    "ExecuteTime": {
     "end_time": "2019-08-21T07:05:50.410049Z",
     "start_time": "2019-08-21T07:05:50.210539Z"
    }
   },
   "outputs": [
    {
     "ename": "NameError",
     "evalue": "name 'df_select' is not defined",
     "output_type": "error",
     "traceback": [
      "\u001b[0;31m---------------------------------------------------------------------------\u001b[0m",
      "\u001b[0;31mNameError\u001b[0m                                 Traceback (most recent call last)",
      "\u001b[0;32m<ipython-input-22-fc36c8dc6e2a>\u001b[0m in \u001b[0;36m<module>\u001b[0;34m\u001b[0m\n\u001b[0;32m----> 1\u001b[0;31m \u001b[0mdf_select\u001b[0m\u001b[0;34m\u001b[0m\u001b[0;34m\u001b[0m\u001b[0m\n\u001b[0m",
      "\u001b[0;31mNameError\u001b[0m: name 'df_select' is not defined"
     ]
    }
   ],
   "source": [
    "df_select_2 = df_selected[df_selected.features.isin(target_feature)]"
   ]
  },
  {
   "cell_type": "markdown",
   "metadata": {},
   "source": [
    "今回はあまり物性的な意味合いを考えず、数学的にクラスタリングを行うという立場にたち、ここでは定性的な理由で変数を除去しない。  \n",
    "多くのプロジェクトでは、ここで興味のある事項に関係する変数のみを選択する。(例えば、加速度、速度のみに関係するセンサーのみ使用、など)"
   ]
  },
  {
   "cell_type": "markdown",
   "metadata": {},
   "source": [
    "## サンプリングで時間インデックスを作成"
   ]
  },
  {
   "cell_type": "markdown",
   "metadata": {},
   "source": [
    "### 時系列データとトランザクションデータとマスタデータ"
   ]
  },
  {
   "cell_type": "markdown",
   "metadata": {},
   "source": [
    "- 時系列データとは、時間経過に従って計測されるデータポイント列であり、<font color=red>**一定の時間間隔で測定**</font>されることが特徴である。  \n",
    "- その意味で、今回のセンサーデータは、タイムスタンプはついているものの、\"一定の時間間隔\"を満たしていないので、まだ時系列データではない。\n",
    "- 今回のセンサーデータに強いて名前をつけるなら、トランザクションデータといえる。"
   ]
  },
  {
   "cell_type": "markdown",
   "metadata": {},
   "source": [
    "- 「いつ」 「誰が」 「何を」 「誰に」 「どうした」というタイプの情報は、**トランザクションデータ**と呼ばれることがある。  \n",
    "- トランザクションデータは、**マスタデータ**とセットで考えられることが多い。  \n",
    "- マスタデータとは、トランザクションデータにおける「誰が」 「何を」 「誰に」にあたる部分、すなわち主語や目的語にあたる部分を説明するデータである。  "
   ]
  },
  {
   "cell_type": "markdown",
   "metadata": {},
   "source": [
    "例えば、ある販売店のデータベースを考えると、以下のようになるだろう。\n",
    "- トランザクションデータ: いつ、何の商品を、どの顧客に販売したかなどの取引履歴、\n",
    "- マスタデータ: 商品や顧客のデータである。"
   ]
  },
  {
   "cell_type": "markdown",
   "metadata": {},
   "source": [
    "**質問1**: ワランティデータは、時系列データだろうか？トランザクションデータだろうか？マスタデータだろうか？  \n",
    "**質問2**: FTIRデータは、時系列データだろうか？トランザクションデータだろうか？マスタデータだろうか？  \n",
    "**質問3**: 毎月のワランティ件数データは、時系列データだろうか？トランザクションデータだろうか？マスタデータだろうか？"
   ]
  },
  {
   "cell_type": "markdown",
   "metadata": {
    "ExecuteTime": {
     "end_time": "2019-08-15T14:43:37.269475Z",
     "start_time": "2019-08-15T14:43:37.267023Z"
    }
   },
   "source": [
    "### アップサンプリングとダウンサンプリング"
   ]
  },
  {
   "cell_type": "markdown",
   "metadata": {},
   "source": [
    "- ある時系列データに対して、時間間隔をより細かく取ってデータを作り直すことを**アップサンプリング**、時間間隔をより粗く取ってデータを作り直すことを**ダウンサンプリング**と呼ぶ。\n",
    "- アップサンプリングの場合、値の作成方法としては、線形補間、スプライン補間、モデルによる予測の他、最も近い値を取る、直前の値を取る、直後の値を取る、などがある。すなわち\"**補間(filling)**\"的な手法が候補となる。もともとのデータは削除されないため、データの情報は減らない。\n",
    "- ダウンサンプリングの場合、値の作成方法としては、平均や中央値を取る、最大値や最小値を取る、最初の値や最後の値を取る、などがある。すなわち\"**集約(aggregation)**\"的な手法が候補となる。データ数が減少するため、データの情報は減少する。\n",
    "- 複数の値を取ってダウンサンプリング/アップサンプリングを行うこともある。その場合、項目数が増える。例えば、3軸の速度をダウンサンプリングするときに、平均値だけでなく最大値も取った場合、項目数は2倍となり、6つになる。"
   ]
  },
  {
   "cell_type": "markdown",
   "metadata": {},
   "source": [
    "今回のセンサーデータは厳密には時系列データではなくトランザクションデータなのだが、各センサーとも、各々一定の周期でデータが記録されている様子がわかる。以下を参照。"
   ]
  },
  {
   "cell_type": "markdown",
   "metadata": {},
   "source": [
    "### サンプリングレートの確認"
   ]
  },
  {
   "cell_type": "code",
   "execution_count": 23,
   "metadata": {
    "ExecuteTime": {
     "end_time": "2019-08-21T07:22:17.718254Z",
     "start_time": "2019-08-21T07:22:17.621737Z"
    }
   },
   "outputs": [
    {
     "name": "stdout",
     "output_type": "stream",
     "text": [
      "+-----+------------+--------+-------+---+\n",
      "|carid|   starttime|   times|feature|val|\n",
      "+-----+------------+--------+-------+---+\n",
      "|  021|201604200627|0.295909|  0FA53|0.0|\n",
      "|  021|201604200627|0.295909|  0FA57|4.0|\n",
      "|  021|201604200627|0.295909|  0FA43|0.0|\n",
      "+-----+------------+--------+-------+---+\n",
      "only showing top 3 rows\n",
      "\n"
     ]
    }
   ],
   "source": [
    "df.show(3)"
   ]
  },
  {
   "cell_type": "code",
   "execution_count": 24,
   "metadata": {
    "ExecuteTime": {
     "end_time": "2019-08-21T07:22:19.954349Z",
     "start_time": "2019-08-21T07:22:19.951853Z"
    }
   },
   "outputs": [],
   "source": [
    "from pyspark.sql.window import Window"
   ]
  },
  {
   "cell_type": "code",
   "execution_count": 25,
   "metadata": {
    "ExecuteTime": {
     "end_time": "2019-08-21T07:22:24.165501Z",
     "start_time": "2019-08-21T07:22:23.987453Z"
    }
   },
   "outputs": [],
   "source": [
    "calc_median = func.expr(\"percentile_approx(diff_times, 0.5)\")"
   ]
  },
  {
   "cell_type": "code",
   "execution_count": 26,
   "metadata": {
    "ExecuteTime": {
     "end_time": "2019-08-21T07:23:45.822936Z",
     "start_time": "2019-08-21T07:23:29.190210Z"
    }
   },
   "outputs": [],
   "source": [
    "# 計測開始結果時間(times)の差分の中央値(の概算値)をチェック\n",
    "df_sampling_units = (df_selected\n",
    "                     .withColumn(\"diff_times\", \n",
    "                                 (df_selected.times - \n",
    "                                  func.lag(\"times\")\n",
    "                                  .over(Window\n",
    "                                        .partitionBy([\"carid\", \"starttime\", \"feature\"])\n",
    "                                        .orderBy(\"times\"))))\n",
    "                     .groupBy(\"feature\")\n",
    "                     .agg(calc_median.alias(\"sampling_units\"))\n",
    "                    .toPandas())"
   ]
  },
  {
   "cell_type": "markdown",
   "metadata": {},
   "source": [
    "ちなみに中央値の概算値の計算には、[こちらの論文](infolab.stanford.edu/~datar/courses/cs361a/papers/quantiles.pdfonnections.teradata.com/community/japan-intranet/)で紹介されたパーセンタイルの概算アルゴリズムを使用している。"
   ]
  },
  {
   "cell_type": "code",
   "execution_count": 27,
   "metadata": {
    "ExecuteTime": {
     "end_time": "2019-08-21T07:24:32.310005Z",
     "start_time": "2019-08-21T07:24:32.301741Z"
    }
   },
   "outputs": [
    {
     "data": {
      "text/html": [
       "<div>\n",
       "<style scoped>\n",
       "    .dataframe tbody tr th:only-of-type {\n",
       "        vertical-align: middle;\n",
       "    }\n",
       "\n",
       "    .dataframe tbody tr th {\n",
       "        vertical-align: top;\n",
       "    }\n",
       "\n",
       "    .dataframe thead th {\n",
       "        text-align: right;\n",
       "    }\n",
       "</style>\n",
       "<table border=\"1\" class=\"dataframe\">\n",
       "  <thead>\n",
       "    <tr style=\"text-align: right;\">\n",
       "      <th></th>\n",
       "      <th>feature</th>\n",
       "      <th>sampling_units</th>\n",
       "    </tr>\n",
       "  </thead>\n",
       "  <tbody>\n",
       "    <tr>\n",
       "      <th>0</th>\n",
       "      <td>1EF57</td>\n",
       "      <td>0.019999</td>\n",
       "    </tr>\n",
       "    <tr>\n",
       "      <th>1</th>\n",
       "      <td>46003</td>\n",
       "      <td>0.999919</td>\n",
       "    </tr>\n",
       "    <tr>\n",
       "      <th>2</th>\n",
       "      <td>3C111</td>\n",
       "      <td>0.100046</td>\n",
       "    </tr>\n",
       "    <tr>\n",
       "      <th>3</th>\n",
       "      <td>12437</td>\n",
       "      <td>0.010008</td>\n",
       "    </tr>\n",
       "    <tr>\n",
       "      <th>4</th>\n",
       "      <td>3B947</td>\n",
       "      <td>0.099992</td>\n",
       "    </tr>\n",
       "  </tbody>\n",
       "</table>\n",
       "</div>"
      ],
      "text/plain": [
       "  feature  sampling_units\n",
       "0   1EF57        0.019999\n",
       "1   46003        0.999919\n",
       "2   3C111        0.100046\n",
       "3   12437        0.010008\n",
       "4   3B947        0.099992"
      ]
     },
     "execution_count": 27,
     "metadata": {},
     "output_type": "execute_result"
    }
   ],
   "source": [
    "df_sampling_units.head()"
   ]
  },
  {
   "cell_type": "code",
   "execution_count": 28,
   "metadata": {
    "ExecuteTime": {
     "end_time": "2019-08-21T07:25:11.750890Z",
     "start_time": "2019-08-21T07:25:11.100076Z"
    }
   },
   "outputs": [
    {
     "data": {
      "text/plain": [
       "(array([ 0, 34,  0,  4,  0, 17,  0,  5,  0, 43,  0,  1,  0,  0,  0,  1]),\n",
       " array([0.    , 0.0085, 0.0105, 0.0115, 0.0125, 0.015 , 0.025 , 0.045 ,\n",
       "        0.055 , 0.095 , 0.105 , 0.195 , 0.205 , 0.245 , 0.255 , 0.995 ,\n",
       "        1.005 ]))"
      ]
     },
     "execution_count": 28,
     "metadata": {},
     "output_type": "execute_result"
    }
   ],
   "source": [
    "# 各計測間隔毎のセンサー数をカウント\n",
    "%matplotlib inline\n",
    "import matplotlib.pyplot as plt\n",
    "import numpy as np\n",
    "\n",
    "# binを指定して、各binに含まれるデータ数をカウント\n",
    "bins = np.histogram(df_sampling_units.sampling_units, bins=[0,\n",
    "                                                      0.0085, 0.0105, \n",
    "                                                      0.0115, 0.0125, \n",
    "                                                      0.015, 0.025, \n",
    "                                                      0.045, 0.055, \n",
    "                                                      0.095, 0.105, \n",
    "                                                      0.195, 0.205, \n",
    "                                                      0.245, 0.255, \n",
    "                                                      0.995, 1.005])\n",
    "bins"
   ]
  },
  {
   "cell_type": "code",
   "execution_count": 29,
   "metadata": {
    "ExecuteTime": {
     "end_time": "2019-08-21T07:25:29.047926Z",
     "start_time": "2019-08-21T07:25:28.907317Z"
    }
   },
   "outputs": [
    {
     "data": {
      "text/html": [
       "<div>\n",
       "<style scoped>\n",
       "    .dataframe tbody tr th:only-of-type {\n",
       "        vertical-align: middle;\n",
       "    }\n",
       "\n",
       "    .dataframe tbody tr th {\n",
       "        vertical-align: top;\n",
       "    }\n",
       "\n",
       "    .dataframe thead th {\n",
       "        text-align: right;\n",
       "    }\n",
       "</style>\n",
       "<table border=\"1\" class=\"dataframe\">\n",
       "  <thead>\n",
       "    <tr style=\"text-align: right;\">\n",
       "      <th></th>\n",
       "      <th>bins_start(inc)</th>\n",
       "      <th>bins_end(exc)</th>\n",
       "      <th>n_count</th>\n",
       "      <th>ratio</th>\n",
       "    </tr>\n",
       "  </thead>\n",
       "  <tbody>\n",
       "    <tr>\n",
       "      <th>0</th>\n",
       "      <td>0.0000</td>\n",
       "      <td>0.0085</td>\n",
       "      <td>0</td>\n",
       "      <td>0.000000</td>\n",
       "    </tr>\n",
       "    <tr>\n",
       "      <th>1</th>\n",
       "      <td>0.0085</td>\n",
       "      <td>0.0105</td>\n",
       "      <td>34</td>\n",
       "      <td>0.323810</td>\n",
       "    </tr>\n",
       "    <tr>\n",
       "      <th>2</th>\n",
       "      <td>0.0105</td>\n",
       "      <td>0.0115</td>\n",
       "      <td>0</td>\n",
       "      <td>0.000000</td>\n",
       "    </tr>\n",
       "    <tr>\n",
       "      <th>3</th>\n",
       "      <td>0.0115</td>\n",
       "      <td>0.0125</td>\n",
       "      <td>4</td>\n",
       "      <td>0.038095</td>\n",
       "    </tr>\n",
       "    <tr>\n",
       "      <th>4</th>\n",
       "      <td>0.0125</td>\n",
       "      <td>0.0150</td>\n",
       "      <td>0</td>\n",
       "      <td>0.000000</td>\n",
       "    </tr>\n",
       "    <tr>\n",
       "      <th>5</th>\n",
       "      <td>0.0150</td>\n",
       "      <td>0.0250</td>\n",
       "      <td>17</td>\n",
       "      <td>0.161905</td>\n",
       "    </tr>\n",
       "    <tr>\n",
       "      <th>6</th>\n",
       "      <td>0.0250</td>\n",
       "      <td>0.0450</td>\n",
       "      <td>0</td>\n",
       "      <td>0.000000</td>\n",
       "    </tr>\n",
       "    <tr>\n",
       "      <th>7</th>\n",
       "      <td>0.0450</td>\n",
       "      <td>0.0550</td>\n",
       "      <td>5</td>\n",
       "      <td>0.047619</td>\n",
       "    </tr>\n",
       "    <tr>\n",
       "      <th>8</th>\n",
       "      <td>0.0550</td>\n",
       "      <td>0.0950</td>\n",
       "      <td>0</td>\n",
       "      <td>0.000000</td>\n",
       "    </tr>\n",
       "    <tr>\n",
       "      <th>9</th>\n",
       "      <td>0.0950</td>\n",
       "      <td>0.1050</td>\n",
       "      <td>43</td>\n",
       "      <td>0.409524</td>\n",
       "    </tr>\n",
       "    <tr>\n",
       "      <th>10</th>\n",
       "      <td>0.1050</td>\n",
       "      <td>0.1950</td>\n",
       "      <td>0</td>\n",
       "      <td>0.000000</td>\n",
       "    </tr>\n",
       "    <tr>\n",
       "      <th>11</th>\n",
       "      <td>0.1950</td>\n",
       "      <td>0.2050</td>\n",
       "      <td>1</td>\n",
       "      <td>0.009524</td>\n",
       "    </tr>\n",
       "    <tr>\n",
       "      <th>12</th>\n",
       "      <td>0.2050</td>\n",
       "      <td>0.2450</td>\n",
       "      <td>0</td>\n",
       "      <td>0.000000</td>\n",
       "    </tr>\n",
       "    <tr>\n",
       "      <th>13</th>\n",
       "      <td>0.2450</td>\n",
       "      <td>0.2550</td>\n",
       "      <td>0</td>\n",
       "      <td>0.000000</td>\n",
       "    </tr>\n",
       "    <tr>\n",
       "      <th>14</th>\n",
       "      <td>0.2550</td>\n",
       "      <td>0.9950</td>\n",
       "      <td>0</td>\n",
       "      <td>0.000000</td>\n",
       "    </tr>\n",
       "    <tr>\n",
       "      <th>15</th>\n",
       "      <td>0.9950</td>\n",
       "      <td>1.0050</td>\n",
       "      <td>1</td>\n",
       "      <td>0.009524</td>\n",
       "    </tr>\n",
       "  </tbody>\n",
       "</table>\n",
       "</div>"
      ],
      "text/plain": [
       "    bins_start(inc)  bins_end(exc)  n_count     ratio\n",
       "0            0.0000         0.0085        0  0.000000\n",
       "1            0.0085         0.0105       34  0.323810\n",
       "2            0.0105         0.0115        0  0.000000\n",
       "3            0.0115         0.0125        4  0.038095\n",
       "4            0.0125         0.0150        0  0.000000\n",
       "5            0.0150         0.0250       17  0.161905\n",
       "6            0.0250         0.0450        0  0.000000\n",
       "7            0.0450         0.0550        5  0.047619\n",
       "8            0.0550         0.0950        0  0.000000\n",
       "9            0.0950         0.1050       43  0.409524\n",
       "10           0.1050         0.1950        0  0.000000\n",
       "11           0.1950         0.2050        1  0.009524\n",
       "12           0.2050         0.2450        0  0.000000\n",
       "13           0.2450         0.2550        0  0.000000\n",
       "14           0.2550         0.9950        0  0.000000\n",
       "15           0.9950         1.0050        1  0.009524"
      ]
     },
     "execution_count": 29,
     "metadata": {},
     "output_type": "execute_result"
    }
   ],
   "source": [
    "# DataFrameにまとめる\n",
    "import pandas as pd\n",
    "df_bins = pd.DataFrame({\"bins_start(inc)\":bins[1][:-1], \"bins_end(exc)\":bins[1][1:],\n",
    "             \"n_count\":bins[0]})\n",
    "df_bins[\"ratio\"] = df_bins[\"n_count\"] / df_bins[\"n_count\"].sum()\n",
    "df_bins"
   ]
  },
  {
   "cell_type": "markdown",
   "metadata": {},
   "source": [
    "今回のデータでは、100ms間隔が最も多く、全体の41%を占める。他、10ms間隔が32%、20ms間隔が16%、50ms間隔が5%、12ms間隔が4%であった。"
   ]
  },
  {
   "cell_type": "code",
   "execution_count": 30,
   "metadata": {
    "ExecuteTime": {
     "end_time": "2019-08-21T07:26:10.743871Z",
     "start_time": "2019-08-21T07:26:10.483600Z"
    }
   },
   "outputs": [
    {
     "name": "stderr",
     "output_type": "stream",
     "text": [
      "/Users/localadmin/anaconda3/envs/suzuki/lib/python3.6/site-packages/ipykernel_launcher.py:2: SettingWithCopyWarning: \n",
      "A value is trying to be set on a copy of a slice from a DataFrame.\n",
      "Try using .loc[row_indexer,col_indexer] = value instead\n",
      "\n",
      "See the caveats in the documentation: http://pandas.pydata.org/pandas-docs/stable/indexing.html#indexing-view-versus-copy\n",
      "  \n"
     ]
    },
    {
     "data": {
      "image/png": "[encoded data removed]",
      "text/plain": [
       "<Figure size 432x288 with 1 Axes>"
      ]
     },
     "metadata": {
      "needs_background": "light"
     },
     "output_type": "display_data"
    }
   ],
   "source": [
    "df_bins_sub = df_bins[df_bins[\"n_count\"] > 0]\n",
    "df_bins_sub[\"name\"] = [\"10ms\", \"12ms\", \"20ms\", \"50ms\", \"100ms\", \"200ms\", \"1000ms\"]\n",
    "df_bins_sub.set_index(\"name\", inplace=True)\n",
    "df_bins_sub[\"n_count\"].plot(kind=\"bar\");"
   ]
  },
  {
   "cell_type": "code",
   "execution_count": 31,
   "metadata": {
    "ExecuteTime": {
     "end_time": "2019-08-21T07:26:36.616713Z",
     "start_time": "2019-08-21T07:26:36.492340Z"
    }
   },
   "outputs": [
    {
     "data": {
      "text/plain": [
       "<matplotlib.axes._subplots.AxesSubplot at 0x121e13828>"
      ]
     },
     "execution_count": 31,
     "metadata": {},
     "output_type": "execute_result"
    },
    {
     "data": {
      "image/png": "[encoded data removed]",
      "text/plain": [
       "<Figure size 504x504 with 1 Axes>"
      ]
     },
     "metadata": {},
     "output_type": "display_data"
    }
   ],
   "source": [
    "plt.figure(figsize=(7,7))\n",
    "df_bins_sub[\"ratio\"].sort_values(ascending=False).plot(kind=\"pie\", autopct='%1.f%%',\n",
    "                                                      fontsize=20)"
   ]
  },
  {
   "cell_type": "markdown",
   "metadata": {},
   "source": [
    "### サンプリングの実行"
   ]
  },
  {
   "cell_type": "markdown",
   "metadata": {},
   "source": [
    "#### 短期のサンプリング(同一ファイル内=600秒以内でのサンプリング)"
   ]
  },
  {
   "cell_type": "markdown",
   "metadata": {},
   "source": [
    "例えば100Hzの時系列、すなわち10ms間隔の時系列データに変換する場合は、ほとんどのセンサーは計測時間間隔が10msより長いので、アップサンプリングと言える。  \n",
    "他方、1Hzの時系列、すなわち1s間隔の時系列データに変換する場合は、ほとんどのセンサーは計測時間間隔が1sより短いので、ダウンサンプリングといえる。  \n",
    "50Hz、すなわち20ms間隔の時系列データに変換する場合は、センサーの計測時間間隔によって、ダウンサンプリングとアップサンプリングが混在することとなる。"
   ]
  },
  {
   "cell_type": "markdown",
   "metadata": {},
   "source": [
    "ここではどのような時間間隔でデータが来ても良いように、ダウンサンプリングとアップサンプリングを両方行う。どちらを先にやるかによって若干値は変わるが、大きな違いはないと考えられる。  \n",
    "ここでは計算の効率性を考えて、ダウンサンプリングを行ったのち、アップサンプリングを行う。"
   ]
  },
  {
   "cell_type": "markdown",
   "metadata": {},
   "source": [
    "ここでは、車両センサーを用いた先行研究で多く見られた、10Hz(100ms間隔)の時系列データを作成する。  \n",
    "情報ロスを最小にしたい場合も、最も細かい計測時間間隔にあわせて100Hzの時系列データを作成すれば十分であろう。\n",
    "また、長期の挙動でクラスタリングをかけたいのであれば、下記のような、同一ファイル(600秒データ)内でのサンプリングでは不要である。"
   ]
  },
  {
   "cell_type": "code",
   "execution_count": 32,
   "metadata": {
    "ExecuteTime": {
     "end_time": "2019-08-21T07:43:14.718783Z",
     "start_time": "2019-08-21T07:43:08.667522Z"
    }
   },
   "outputs": [
    {
     "name": "stdout",
     "output_type": "stream",
     "text": [
      "+----------+---------+\n",
      "| max_times|min_times|\n",
      "+----------+---------+\n",
      "|599.238639| 0.190403|\n",
      "+----------+---------+\n",
      "\n"
     ]
    }
   ],
   "source": [
    "# timesの最小値、最大値をチェック\n",
    "df_selected.agg(func.max(\"times\").alias(\"max_times\")\n",
    "               ,func.min(\"times\").alias(\"min_times\")).show()"
   ]
  },
  {
   "cell_type": "code",
   "execution_count": 33,
   "metadata": {
    "ExecuteTime": {
     "end_time": "2019-08-21T07:44:04.082546Z",
     "start_time": "2019-08-21T07:44:04.079076Z"
    }
   },
   "outputs": [],
   "source": [
    "min_unit, max_unit = 1, 6000\n",
    "sampling_rate = 10\n",
    "round_decimal = 1"
   ]
  },
  {
   "cell_type": "code",
   "execution_count": 34,
   "metadata": {
    "ExecuteTime": {
     "end_time": "2019-08-21T07:44:06.042619Z",
     "start_time": "2019-08-21T07:44:05.842020Z"
    }
   },
   "outputs": [
    {
     "name": "stdout",
     "output_type": "stream",
     "text": [
      "+-----+\n",
      "|times|\n",
      "+-----+\n",
      "|  0.1|\n",
      "|  0.2|\n",
      "|  0.3|\n",
      "|  0.4|\n",
      "|  0.5|\n",
      "+-----+\n",
      "only showing top 5 rows\n",
      "\n"
     ]
    }
   ],
   "source": [
    "# 今回の場合は、100ms = 0.1s間隔でダウンサンプリングするために、0.1s間隔のテーブルを作成する\n",
    "# 今回の場合は0.1s ~ 600.0sで作成される\n",
    "time_grid = (spark.range(start=min_unit, end=max_unit)\n",
    "             .select((func.col(\"id\").cast(\"float\") / sampling_rate)\n",
    "            .alias(\"times\")))\n",
    "time_grid.show(5)"
   ]
  },
  {
   "cell_type": "code",
   "execution_count": 35,
   "metadata": {
    "ExecuteTime": {
     "end_time": "2019-08-21T07:44:43.553348Z",
     "start_time": "2019-08-21T07:44:43.543382Z"
    }
   },
   "outputs": [],
   "source": [
    "# サンプリングレートでtimesを丸めた列(rounded_times)を作っておく\n",
    "df_selected = df_selected.withColumn(\"rounded_times\",\n",
    "                                    func.round(\"times\", round_decimal))"
   ]
  },
  {
   "cell_type": "code",
   "execution_count": 36,
   "metadata": {
    "ExecuteTime": {
     "end_time": "2019-08-21T07:46:06.501737Z",
     "start_time": "2019-08-21T07:46:06.472262Z"
    }
   },
   "outputs": [],
   "source": [
    "# 0.1間隔で各センサー毎に値の平均値を取る。\n",
    "# (0.1間隔のテーブルに、rounded_timesでデータをinner join、0.1間隔の時間でgroupbyしてvalの平均を取る。)\n",
    "df_downsampled = (time_grid\n",
    "           .join(df_selected,\n",
    "                 time_grid.times == df_selected.rounded_times)\n",
    "           .groupBy([\"carid\", \"feature\", \"starttime\", time_grid.times])\n",
    "           .agg(func.mean(\"val\").alias(\"avg_val\")))"
   ]
  },
  {
   "cell_type": "code",
   "execution_count": 37,
   "metadata": {
    "ExecuteTime": {
     "end_time": "2019-08-21T07:46:40.111731Z",
     "start_time": "2019-08-21T07:46:23.770498Z"
    }
   },
   "outputs": [
    {
     "data": {
      "text/plain": [
       "Row(carid='021', feature='3D047', starttime='201604200627', times=0.5, avg_val=0.0)"
      ]
     },
     "execution_count": 37,
     "metadata": {},
     "output_type": "execute_result"
    }
   ],
   "source": [
    "df_downsampled.show()"
   ]
  },
  {
   "cell_type": "code",
   "execution_count": 112,
   "metadata": {
    "ExecuteTime": {
     "end_time": "2019-08-18T14:26:49.987277Z",
     "start_time": "2019-08-18T14:26:49.932132Z"
    }
   },
   "outputs": [],
   "source": [
    "# アップサンプリング(線形補間)用に、0.1sで丸められたテーブルについて、1時点前のtimesと値(avg_val)の列をつくっておく\n",
    "# lagを使うと先頭がnullができてしまうので、最後にfilterとisNotNullを使って取り除いておく\n",
    "df_downsampled = (df_downsampled\n",
    "                  .withColumn(\"prev_val\", func.lag(\"avg_val\")\n",
    "                              .over(Window.partitionBy([\"carid\", \"starttime\", \"feature\"])\n",
    "                                    .orderBy(\"times\")))\n",
    "                  .withColumn(\"prev_times\", func.lag(\"times\")\n",
    "                              .over(Window.partitionBy([\"carid\", \"starttime\", \"feature\"])\n",
    "                                    .orderBy(\"times\"))))\n",
    "                  \n",
    "df_downsampled = df_downsampled.filter((df_downsampled[\"prev_val\"].isNotNull()) &\n",
    "                                       (df_downsampled[\"prev_times\"].isNotNull()))"
   ]
  },
  {
   "cell_type": "code",
   "execution_count": 125,
   "metadata": {
    "ExecuteTime": {
     "end_time": "2019-08-18T14:43:12.137525Z",
     "start_time": "2019-08-18T14:43:12.089139Z"
    }
   },
   "outputs": [],
   "source": [
    "# アップサンプリング用の0.1s間隔のテーブル。\n",
    "# 別テーブルで用意しておく必要があることに注意。\n",
    "# というのも、同じテーブルでjoinすると、最後にsparkが計算するときに、内部でSQLの解釈&最適化が行われるのだが、\n",
    "# その際に正しく解釈が行われない。\n",
    "time_grid_2 = (spark.range(start=min_unit, end=max_unit)\n",
    "             .select((func.col(\"id\").cast(\"float\") / sampling_rate)\n",
    "            .alias(\"times\")))"
   ]
  },
  {
   "cell_type": "code",
   "execution_count": 126,
   "metadata": {
    "ExecuteTime": {
     "end_time": "2019-08-18T14:43:24.298253Z",
     "start_time": "2019-08-18T14:43:24.274095Z"
    }
   },
   "outputs": [],
   "source": [
    "# 0.1s間隔にアップサンプリングを行う。\n",
    "# 0.1s間隔のテーブルに、prev_timesとtimesの間に来るようにjoinし、線形補間を行う。\n",
    "df_intp = (time_grid_2\n",
    "           .join(df_downsampled,\n",
    "                 [(df_downsampled.prev_times <= time_grid_2.times) & \n",
    "                  (time_grid_2.times < df_downsampled.times)])\n",
    "           .select(df_downsampled.carid, df_downsampled.feature, df_downsampled.starttime\n",
    "                  ,time_grid_2.times\n",
    "                  ,(df_downsampled.prev_val + \n",
    "                    (df_downsampled.avg_val - df_downsampled.prev_val) \n",
    "                    * (time_grid_2.times - df_downsampled.prev_times)\n",
    "                    / (df_downsampled.times - df_downsampled.prev_times)).alias(\"intp_val\")\n",
    "                  )\n",
    "          )"
   ]
  },
  {
   "cell_type": "code",
   "execution_count": 127,
   "metadata": {
    "ExecuteTime": {
     "end_time": "2019-08-18T14:44:25.076450Z",
     "start_time": "2019-08-18T14:43:26.709828Z"
    }
   },
   "outputs": [
    {
     "name": "stdout",
     "output_type": "stream",
     "text": [
      "+-----+-------+------------+-----+--------+\n",
      "|carid|feature|   starttime|times|intp_val|\n",
      "+-----+-------+------------+-----+--------+\n",
      "|  021|  1EF61|201604200627|  0.3|     0.0|\n",
      "|  021|  1EF61|201604200627|  0.4|     0.0|\n",
      "|  021|  1EF61|201604200627|  0.5|     0.0|\n",
      "|  021|  1EF61|201604200627|  0.6|   0.025|\n",
      "|  021|  1EF61|201604200627|  0.7|     0.0|\n",
      "|  021|  1EF61|201604200627|  0.8|     0.0|\n",
      "|  021|  1EF61|201604200627|  0.9|     0.0|\n",
      "|  021|  1EF61|201604200627|  1.0|     0.0|\n",
      "|  021|  1EF61|201604200627|  1.1|     0.0|\n",
      "|  021|  1EF61|201604200627|  1.2|     0.0|\n",
      "|  021|  1EF61|201604200627|  1.3|     0.0|\n",
      "|  021|  1EF61|201604200627|  1.4|   0.025|\n",
      "|  021|  1EF61|201604200627|  1.5|     0.0|\n",
      "|  021|  1EF61|201604200627|  1.6|     0.0|\n",
      "|  021|  1EF61|201604200627|  1.7|     0.0|\n",
      "|  021|  1EF61|201604200627|  1.8|  0.0375|\n",
      "|  021|  1EF61|201604200627|  1.9|     0.0|\n",
      "|  021|  1EF61|201604200627|  2.0|     0.0|\n",
      "|  021|  1EF61|201604200627|  2.1|     0.0|\n",
      "|  021|  1EF61|201604200627|  2.2|     0.0|\n",
      "+-----+-------+------------+-----+--------+\n",
      "only showing top 20 rows\n",
      "\n"
     ]
    }
   ],
   "source": [
    "df_intp.show()"
   ]
  },
  {
   "cell_type": "code",
   "execution_count": 131,
   "metadata": {
    "ExecuteTime": {
     "end_time": "2019-08-18T14:53:56.483348Z",
     "start_time": "2019-08-18T14:50:51.748048Z"
    }
   },
   "outputs": [],
   "source": [
    "# 処理後のデータを保存しておく。\n",
    "df_intp.write.parquet(\"../data/interim/df_intp_Job1_2file.parquet\")"
   ]
  },
  {
   "cell_type": "code",
   "execution_count": 160,
   "metadata": {
    "ExecuteTime": {
     "end_time": "2019-08-18T15:27:41.038491Z",
     "start_time": "2019-08-18T15:24:35.160104Z"
    }
   },
   "outputs": [],
   "source": [
    "# csvで分けて保存することもできる。\n",
    "df_intp.write.partitionBy([\"feature\",\"starttime\"]).csv(\"../data/interim/df_intp_Job1_2file.csv\")"
   ]
  },
  {
   "cell_type": "code",
   "execution_count": 135,
   "metadata": {
    "ExecuteTime": {
     "end_time": "2019-08-18T14:57:56.794754Z",
     "start_time": "2019-08-18T14:57:55.659157Z"
    }
   },
   "outputs": [],
   "source": [
    "df_intp_2 = spark.read.parquet(\"../data/interim/df_intp_Job1_2file.parquet/\")\n",
    "\n",
    "# 良さそうかいくつか図示してみて確認\n",
    "df_tmp = df_intp_2.filter(df_intp_2.feature.isin(selected_features[:5])).toPandas()"
   ]
  },
  {
   "cell_type": "code",
   "execution_count": 137,
   "metadata": {
    "ExecuteTime": {
     "end_time": "2019-08-18T14:59:50.908382Z",
     "start_time": "2019-08-18T14:59:49.839826Z"
    }
   },
   "outputs": [],
   "source": [
    "%matplotlib inline\n",
    "import matplotlib.pyplot as plt"
   ]
  },
  {
   "cell_type": "code",
   "execution_count": 151,
   "metadata": {
    "ExecuteTime": {
     "end_time": "2019-08-18T15:05:55.675802Z",
     "start_time": "2019-08-18T15:05:55.673297Z"
    }
   },
   "outputs": [],
   "source": [
    "import pandas as pd"
   ]
  },
  {
   "cell_type": "code",
   "execution_count": 152,
   "metadata": {
    "ExecuteTime": {
     "end_time": "2019-08-18T15:06:02.900959Z",
     "start_time": "2019-08-18T15:05:57.494352Z"
    }
   },
   "outputs": [],
   "source": [
    "df_raw = pd.read_csv(\"../data/raw/CAN/20190605_CAN/103.486_CAR1V21_HDD2/Job1/\"\n",
    "           + \"SUZUKI_YSB-021_MRR_2016-04-20_06-27_0001.BLF.csv\",\n",
    "                     names=[\"carid\", \"starttime\", \"times\", \"feature\", \"val\"])"
   ]
  },
  {
   "cell_type": "code",
   "execution_count": 153,
   "metadata": {
    "ExecuteTime": {
     "end_time": "2019-08-18T15:07:47.285311Z",
     "start_time": "2019-08-18T15:07:43.871236Z"
    }
   },
   "outputs": [
    {
     "data": {
      "image/png": "[encoded data removed]",
      "text/plain": [
       "<Figure size 864x360 with 5 Axes>"
      ]
     },
     "metadata": {
      "needs_background": "light"
     },
     "output_type": "display_data"
    }
   ],
   "source": [
    "fig = plt.figure(figsize=(12, 5))\n",
    "for i, f in enumerate(df_tmp.feature.unique()):\n",
    "    ax = fig.add_subplot(2, 3, i+1)\n",
    "    tmp_intp = df_tmp.loc[(df_tmp.feature == f) & (df_tmp.starttime == \"201604200627\")]\n",
    "    tmp_raw = df_raw.loc[(df_raw.feature == f) & (df_raw.starttime == 201604200627)]\n",
    "    tmp_intp.set_index(\"times\")[\"intp_val\"].plot(ax=ax, label=\"interpolated\")\n",
    "    tmp_raw.set_index(\"times\")[\"val\"].plot(ax=ax, label=\"raw\")\n",
    "    plt.legend()\n",
    "plt.tight_layout()"
   ]
  },
  {
   "cell_type": "code",
   "execution_count": 154,
   "metadata": {
    "ExecuteTime": {
     "end_time": "2019-08-18T15:09:21.448972Z",
     "start_time": "2019-08-18T15:09:16.140273Z"
    }
   },
   "outputs": [],
   "source": [
    "df_raw = pd.read_csv(\"../data/raw/CAN/20190605_CAN/103.486_CAR1V21_HDD2/Job1/\"\n",
    "           + \"SUZUKI_YSB-021_MRR_2016-04-20_06-37_0002.BLF.csv\",\n",
    "                     names=[\"carid\", \"starttime\", \"times\", \"feature\", \"val\"])"
   ]
  },
  {
   "cell_type": "code",
   "execution_count": 155,
   "metadata": {
    "ExecuteTime": {
     "end_time": "2019-08-18T15:09:25.767767Z",
     "start_time": "2019-08-18T15:09:22.327016Z"
    }
   },
   "outputs": [
    {
     "data": {
      "image/png": "[encoded data removed]",
      "text/plain": [
       "<Figure size 864x360 with 5 Axes>"
      ]
     },
     "metadata": {
      "needs_background": "light"
     },
     "output_type": "display_data"
    }
   ],
   "source": [
    "fig = plt.figure(figsize=(12, 5))\n",
    "for i, f in enumerate(df_tmp.feature.unique()):\n",
    "    ax = fig.add_subplot(2, 3, i+1)\n",
    "    tmp_intp = df_tmp.loc[(df_tmp.feature == f) & (df_tmp.starttime == \"201604200637\")]\n",
    "    tmp_raw = df_raw.loc[(df_raw.feature == f) & (df_raw.starttime == 201604200637)]\n",
    "    tmp_intp.set_index(\"times\")[\"intp_val\"].plot(ax=ax, label=\"interpolated\")\n",
    "    tmp_raw.set_index(\"times\")[\"val\"].plot(ax=ax, label=\"raw\")\n",
    "    plt.legend()\n",
    "plt.tight_layout()"
   ]
  },
  {
   "cell_type": "code",
   "execution_count": 158,
   "metadata": {
    "ExecuteTime": {
     "end_time": "2019-08-18T15:16:36.821371Z",
     "start_time": "2019-08-18T15:14:52.941960Z"
    }
   },
   "outputs": [],
   "source": [
    "# 今後の利用を考えて、横持ちでも保存しておく。\n",
    "(df_intp_2\n",
    " .groupby([\"carid\", \"starttime\", \"times\"])\n",
    " .pivot(\"feature\")\n",
    " .agg(func.first(\"intp_val\"))\n",
    " .write.parquet(\"../data/interim/df_intp_Job1_2file_pivoted.parquet\"))"
   ]
  },
  {
   "cell_type": "markdown",
   "metadata": {},
   "source": [
    "#### ファイル単位でのサンプリング"
   ]
  },
  {
   "cell_type": "markdown",
   "metadata": {},
   "source": [
    "長期の特徴量を用いてサンプリングしたい場合は、ファイル単位でサンプリングを行う。  \n",
    "以下に例を示す。"
   ]
  },
  {
   "cell_type": "code",
   "execution_count": 38,
   "metadata": {
    "ExecuteTime": {
     "end_time": "2019-08-21T08:04:17.122529Z",
     "start_time": "2019-08-21T08:04:17.062705Z"
    }
   },
   "outputs": [],
   "source": [
    "# 読み込み\n",
    "df_all = spark.read.csv(\"../data/raw/CAN/20190605_CAN/103.486_CAR1V21_HDD2/Job1/*.csv\",\n",
    "                       schema=schema)"
   ]
  },
  {
   "cell_type": "code",
   "execution_count": 39,
   "metadata": {
    "ExecuteTime": {
     "end_time": "2019-08-21T08:04:26.136331Z",
     "start_time": "2019-08-21T08:04:26.133234Z"
    }
   },
   "outputs": [],
   "source": [
    "from pyspark.sql.functions import col"
   ]
  },
  {
   "cell_type": "code",
   "execution_count": 186,
   "metadata": {
    "ExecuteTime": {
     "end_time": "2019-08-18T16:08:10.720973Z",
     "start_time": "2019-08-18T16:08:10.382185Z"
    }
   },
   "outputs": [],
   "source": [
    "# 変化しない変数を落とした後、starttimeを1時間毎にまるめる\n",
    "df_all = (df_all.\n",
    "          filter(df_all.feature.isin(selected_features))\n",
    "          .withColumn(\"starttime\", func.to_timestamp(df_all.starttime, format=\"yyyyMMddHHmm\"))\n",
    "          .withColumn(\"rounded_starttime\", (func.round(func.unix_timestamp(col(\"starttime\")) / 3600) * 3600)\n",
    "                      .cast(\"timestamp\")))"
   ]
  },
  {
   "cell_type": "code",
   "execution_count": 187,
   "metadata": {
    "ExecuteTime": {
     "end_time": "2019-08-18T16:08:11.597594Z",
     "start_time": "2019-08-18T16:08:11.484583Z"
    }
   },
   "outputs": [
    {
     "name": "stdout",
     "output_type": "stream",
     "text": [
      "+-----+-------------------+--------+-------+--------+-------------------+\n",
      "|carid|          starttime|   times|feature|     val|  rounded_starttime|\n",
      "+-----+-------------------+--------+-------+--------+-------------------+\n",
      "|  021|2016-04-20 07:50:00|0.186631|  12461|     1.0|2016-04-20 08:00:00|\n",
      "|  021|2016-04-20 07:50:00|0.186631|  12464|     0.0|2016-04-20 08:00:00|\n",
      "|  021|2016-04-20 07:50:00|0.186631|  12457|5.490196|2016-04-20 08:00:00|\n",
      "|  021|2016-04-20 07:50:00|0.186631|  12437|   850.0|2016-04-20 08:00:00|\n",
      "|  021|2016-04-20 07:50:00|0.186631|  12417|  1784.0|2016-04-20 08:00:00|\n",
      "+-----+-------------------+--------+-------+--------+-------------------+\n",
      "only showing top 5 rows\n",
      "\n"
     ]
    }
   ],
   "source": [
    "df_all.show(5)"
   ]
  },
  {
   "cell_type": "markdown",
   "metadata": {},
   "source": [
    "rounded_starttimeとcaridを利用して集約する。  \n",
    "もしVIN毎に特性をみたいのであれば、caridのみで集約すればよい。  \n",
    "また、今回は時間(rounded_starttime)で線形補間をかけていない。というのも、例えば朝と夕方に運転したとして、途中運転しなかった昼について線形補間をかけることは、\"運転のクラスタリングのための特徴量の作成\"という目的にそぐわないためである。"
   ]
  },
  {
   "cell_type": "code",
   "execution_count": 182,
   "metadata": {
    "ExecuteTime": {
     "end_time": "2019-08-18T16:02:50.095778Z",
     "start_time": "2019-08-18T16:02:50.085149Z"
    }
   },
   "outputs": [],
   "source": [
    "calc_1stQ_val = func.expr(\"percentile_approx(val, 0.25)\")\n",
    "calc_median_val = func.expr(\"percentile_approx(val, 0.5)\")\n",
    "calc_3rdQ_val = func.expr(\"percentile_approx(val, 0.75)\")"
   ]
  },
  {
   "cell_type": "code",
   "execution_count": 188,
   "metadata": {
    "ExecuteTime": {
     "end_time": "2019-08-18T16:08:45.777950Z",
     "start_time": "2019-08-18T16:08:45.754916Z"
    }
   },
   "outputs": [],
   "source": [
    "# 色々な方法で集約する。\n",
    "# 今回は、標準偏差、平均、最大値、最小値、25%-tile、中央値、75%-tileで集約した。\n",
    "df_aggregated = (df_all\n",
    "                 .groupBy([\"carid\", \"rounded_starttime\", \"feature\"])\n",
    "                 .agg(func.stddev(\"val\").alias(\"sd_val\"), \n",
    "                      func.mean(\"val\").alias(\"mean_val\"),\n",
    "                      func.max(\"val\").alias(\"max\"),\n",
    "                      func.min(\"val\").alias(\"min\"),\n",
    "                      calc_1stQ_val.alias(\"Q1\"),\n",
    "                      calc_median_val.alias(\"median\"),\n",
    "                      calc_3rdQ_val.alias(\"Q3\")))"
   ]
  },
  {
   "cell_type": "code",
   "execution_count": 195,
   "metadata": {
    "ExecuteTime": {
     "end_time": "2019-08-18T16:28:03.459643Z",
     "start_time": "2019-08-18T16:19:59.989713Z"
    }
   },
   "outputs": [],
   "source": [
    "# carid毎に、ヘッダ有りのcsvで保存する場合\n",
    "df_aggregated.write.partitionBy(\"carid\").csv(\"../data/interim/df_hourly_Job1.csv\",\n",
    "                                       header=True)"
   ]
  },
  {
   "cell_type": "code",
   "execution_count": 196,
   "metadata": {
    "ExecuteTime": {
     "end_time": "2019-08-18T16:33:04.880218Z",
     "start_time": "2019-08-18T16:28:03.461324Z"
    }
   },
   "outputs": [],
   "source": [
    "# parquetでも保存しておく\n",
    "df_aggregated.write.partitionBy(\"carid\").parquet(\"../data/interim/df_hourly_Job1.parquet\")"
   ]
  },
  {
   "cell_type": "code",
   "execution_count": 203,
   "metadata": {
    "ExecuteTime": {
     "end_time": "2019-08-18T16:36:39.553647Z",
     "start_time": "2019-08-18T16:36:39.418614Z"
    }
   },
   "outputs": [],
   "source": [
    "df_aggregated = spark.read.parquet(\"../data/interim/df_hourly_Job1.parquet/\")"
   ]
  },
  {
   "cell_type": "code",
   "execution_count": 204,
   "metadata": {
    "ExecuteTime": {
     "end_time": "2019-08-18T16:36:59.370273Z",
     "start_time": "2019-08-18T16:36:59.272002Z"
    }
   },
   "outputs": [
    {
     "name": "stdout",
     "output_type": "stream",
     "text": [
      "+-----------------+-------+----------+----------+---------+------+-------+--------+---------+-----+\n",
      "|rounded_starttime|feature|    sd_val|  mean_val|      max|   min|     Q1|  median|       Q3|carid|\n",
      "+-----------------+-------+----------+----------+---------+------+-------+--------+---------+-----+\n",
      "|       2016-04...|  3A116|       0.0|       0.0|      0.0|   0.0|    0.0|     0.0|      0.0|   21|\n",
      "|       2016-04...|  3A107|       0.0|       0.0|      0.0|   0.0|    0.0|     0.0|      0.0|   21|\n",
      "|       2016-04...|  3D016|0.41478...|0.22074...|      1.0|   0.0|    0.0|     0.0|      0.0|   21|\n",
      "|       2016-04...|  1E823|0.69256...|-0.0345...|     3.49| -3.98|  -0.23|     0.0|     0.09|   21|\n",
      "|       2016-04...|  3A116|0.25910...|0.07235...|      1.0|   0.0|    0.0|     0.0|      0.0|   21|\n",
      "|       2016-04...|  1EF61|0.48085...|0.06032...|    4.375|-3.625|-0.0625|  0.0625|   0.1875|   21|\n",
      "|       2016-04...|  0FA37|1.11803...|1.50000...|      3.0|   0.0|    1.0|     2.0|      3.0|   21|\n",
      "|       2016-04...|  3A211|1.11808...|       1.5|      3.0|   0.0|    0.0|     2.0|      3.0|   21|\n",
      "|       2016-04...|  3C112|0.29816...|0.09861...|      1.0|   0.0|    0.0|     0.0|      0.0|   21|\n",
      "|       2016-04...|  12217|15.3307...|12.3210...|76.470588|   0.0|    0.0|4.313725|22.352941|   21|\n",
      "+-----------------+-------+----------+----------+---------+------+-------+--------+---------+-----+\n",
      "only showing top 10 rows\n",
      "\n"
     ]
    }
   ],
   "source": [
    "df_aggregated.show(10, truncate=10)"
   ]
  },
  {
   "cell_type": "markdown",
   "metadata": {},
   "source": [
    "## 使用する変数を再度選択"
   ]
  },
  {
   "cell_type": "markdown",
   "metadata": {},
   "source": [
    "### 変数同士の相関係数"
   ]
  },
  {
   "cell_type": "code",
   "execution_count": 40,
   "metadata": {
    "ExecuteTime": {
     "end_time": "2019-08-21T08:07:38.683550Z",
     "start_time": "2019-08-21T08:07:38.296999Z"
    }
   },
   "outputs": [],
   "source": [
    "df_intp_2 = spark.read.parquet(\"../data/interim/df_intp_Job1_2file_pivoted.parquet/\")"
   ]
  },
  {
   "cell_type": "code",
   "execution_count": 41,
   "metadata": {
    "ExecuteTime": {
     "end_time": "2019-08-21T08:07:40.941495Z",
     "start_time": "2019-08-21T08:07:40.320480Z"
    }
   },
   "outputs": [
    {
     "name": "stdout",
     "output_type": "stream",
     "text": [
      "+-----+------------+-----+-----+-----+-----+-----+-----+-----+------+\n",
      "|carid|   starttime|times|0FA37|0FA57|11451|11467|11913|11915| 11927|\n",
      "+-----+------------+-----+-----+-----+-----+-----+-----+-----+------+\n",
      "|  021|201604200627|491.0|  1.7|  5.2|  1.5|  1.5|  3.7|  1.5|  -1.9|\n",
      "|  021|201604200627| 23.9|  1.7|  5.2|  1.7|  1.3|  9.1|  1.5|-12.27|\n",
      "|  021|201604200637|167.5|  1.7|  5.2|  1.5|  1.5|  6.5|  1.5|  -0.7|\n",
      "|  021|201604200637|432.4|  1.5|  6.0|  1.3|  1.7| 10.5|  1.5|  -1.7|\n",
      "|  021|201604200637|490.0|  1.3|  6.8|  1.5|  1.5|  7.0|  1.3| -11.6|\n",
      "+-----+------------+-----+-----+-----+-----+-----+-----+-----+------+\n",
      "only showing top 5 rows\n",
      "\n"
     ]
    }
   ],
   "source": [
    "# はじめの10列を表示\n",
    "df_intp_2.select(df_intp_2.columns[:10]).show(5)"
   ]
  },
  {
   "cell_type": "markdown",
   "metadata": {},
   "source": [
    "#### SparkMLエンジンを利用する方法"
   ]
  },
  {
   "cell_type": "code",
   "execution_count": 44,
   "metadata": {
    "ExecuteTime": {
     "end_time": "2019-08-21T08:09:01.619495Z",
     "start_time": "2019-08-21T08:09:01.502302Z"
    }
   },
   "outputs": [],
   "source": [
    "from pyspark.ml.feature import VectorAssembler\n",
    "assembler = VectorAssembler(inputCols=[c for c in df_intp_2.columns[3:]], \n",
    "                            outputCol=\"vector_features\")\n",
    "df_vec = assembler.transform(df_intp_2.dropna()).select(\"carid\", \"starttime\", \"times\", \"vector_features\")"
   ]
  },
  {
   "cell_type": "code",
   "execution_count": 45,
   "metadata": {
    "ExecuteTime": {
     "end_time": "2019-08-21T08:09:02.302687Z",
     "start_time": "2019-08-21T08:09:02.139766Z"
    }
   },
   "outputs": [
    {
     "name": "stdout",
     "output_type": "stream",
     "text": [
      "+-----+------------+-----+--------------------+\n",
      "|carid|   starttime|times|     vector_features|\n",
      "+-----+------------+-----+--------------------+\n",
      "|  021|201604200627|491.0|[1.7,5.2,1.5,1.5,...|\n",
      "|  021|201604200627| 23.9|(105,[0,1,2,3,4,5...|\n",
      "|  021|201604200637|167.5|[1.7,5.2,1.5,1.5,...|\n",
      "|  021|201604200637|432.4|[1.5,6.0,1.3,1.7,...|\n",
      "|  021|201604200637|490.0|[1.3,6.8,1.5,1.5,...|\n",
      "+-----+------------+-----+--------------------+\n",
      "only showing top 5 rows\n",
      "\n"
     ]
    }
   ],
   "source": [
    "df_vec.show(5)"
   ]
  },
  {
   "cell_type": "code",
   "execution_count": 46,
   "metadata": {
    "ExecuteTime": {
     "end_time": "2019-08-21T08:09:13.117231Z",
     "start_time": "2019-08-21T08:09:13.114541Z"
    }
   },
   "outputs": [],
   "source": [
    "from pyspark.ml.stat import Correlation"
   ]
  },
  {
   "cell_type": "code",
   "execution_count": 47,
   "metadata": {
    "ExecuteTime": {
     "end_time": "2019-08-21T08:09:17.815564Z",
     "start_time": "2019-08-21T08:09:14.234572Z"
    }
   },
   "outputs": [],
   "source": [
    "r1 = Correlation.corr(df_vec, \"vector_features\").head()"
   ]
  },
  {
   "cell_type": "code",
   "execution_count": 48,
   "metadata": {
    "ExecuteTime": {
     "end_time": "2019-08-21T08:09:29.486116Z",
     "start_time": "2019-08-21T08:09:29.482886Z"
    }
   },
   "outputs": [],
   "source": [
    "np_corr_matrix = r1[0].toArray()"
   ]
  },
  {
   "cell_type": "code",
   "execution_count": 49,
   "metadata": {
    "ExecuteTime": {
     "end_time": "2019-08-21T08:09:30.125425Z",
     "start_time": "2019-08-21T08:09:30.122635Z"
    }
   },
   "outputs": [],
   "source": [
    "import pandas as pd"
   ]
  },
  {
   "cell_type": "code",
   "execution_count": 50,
   "metadata": {
    "ExecuteTime": {
     "end_time": "2019-08-21T08:09:30.546199Z",
     "start_time": "2019-08-21T08:09:30.541463Z"
    }
   },
   "outputs": [],
   "source": [
    "df_corr = pd.DataFrame(np_corr_matrix, index=df_intp_2.columns[3:], columns=df_intp_2.columns[3:])"
   ]
  },
  {
   "cell_type": "code",
   "execution_count": 51,
   "metadata": {
    "ExecuteTime": {
     "end_time": "2019-08-21T08:09:32.961797Z",
     "start_time": "2019-08-21T08:09:30.929043Z"
    }
   },
   "outputs": [],
   "source": [
    "import seaborn as sns"
   ]
  },
  {
   "cell_type": "code",
   "execution_count": 52,
   "metadata": {
    "ExecuteTime": {
     "end_time": "2019-08-21T08:09:33.401235Z",
     "start_time": "2019-08-21T08:09:32.963700Z"
    }
   },
   "outputs": [
    {
     "data": {
      "text/plain": [
       "<matplotlib.axes._subplots.AxesSubplot at 0x1a23d6e978>"
      ]
     },
     "execution_count": 52,
     "metadata": {},
     "output_type": "execute_result"
    },
    {
     "data": {
      "image/png": "[encoded data removed]",
      "text/plain": [
       "<Figure size 432x288 with 2 Axes>"
      ]
     },
     "metadata": {
      "needs_background": "light"
     },
     "output_type": "display_data"
    }
   ],
   "source": [
    "sns.heatmap(df_corr.abs() > 0.9)"
   ]
  },
  {
   "cell_type": "code",
   "execution_count": 53,
   "metadata": {
    "ExecuteTime": {
     "end_time": "2019-08-21T08:09:58.050148Z",
     "start_time": "2019-08-21T08:09:58.009534Z"
    }
   },
   "outputs": [
    {
     "data": {
      "text/plain": [
       "78.0"
      ]
     },
     "execution_count": 53,
     "metadata": {},
     "output_type": "execute_result"
    }
   ],
   "source": [
    "((df_corr.abs() > 0.9).sum().sum() - df_corr.shape[0])/2"
   ]
  },
  {
   "cell_type": "markdown",
   "metadata": {},
   "source": [
    "相関が高いペアが78ペアあった"
   ]
  },
  {
   "cell_type": "markdown",
   "metadata": {},
   "source": [
    "### 自己相関関数"
   ]
  },
  {
   "cell_type": "markdown",
   "metadata": {
    "heading_collapsed": true
   },
   "source": [
    "## 使用するクラスター数(ハイパーパラメータ)と変数を選択"
   ]
  },
  {
   "cell_type": "markdown",
   "metadata": {
    "heading_collapsed": true
   },
   "source": [
    "## クラスタリングを実行"
   ]
  },
  {
   "cell_type": "markdown",
   "metadata": {},
   "source": [
    "## クラスタを解釈"
   ]
  },
  {
   "cell_type": "markdown",
   "metadata": {},
   "source": [
    "宿題: EVデータをPySparkを使用して、データの線形補間/相関計算を行う"
   ]
  },
  {
   "cell_type": "code",
   "execution_count": null,
   "metadata": {},
   "outputs": [],
   "source": []
  }
 ],
 "metadata": {
  "kernelspec": {
   "display_name": "Python [conda env:suzuki] *",
   "language": "python",
   "name": "conda-env-suzuki-py"
  },
  "language_info": {
   "codemirror_mode": {
    "name": "ipython",
    "version": 3
   },
   "file_extension": ".py",
   "mimetype": "text/x-python",
   "name": "python",
   "nbconvert_exporter": "python",
   "pygments_lexer": "ipython3",
   "version": "3.6.8"
  },
  "latex_envs": {
   "LaTeX_envs_menu_present": true,
   "autoclose": false,
   "autocomplete": true,
   "bibliofile": "biblio.bib",
   "cite_by": "apalike",
   "current_citInitial": 1,
   "eqLabelWithNumbers": true,
   "eqNumInitial": 1,
   "hotkeys": {
    "equation": "Ctrl-E",
    "itemize": "Ctrl-I"
   },
   "labels_anchors": false,
   "latex_user_defs": false,
   "report_style_numbering": false,
   "user_envs_cfg": false
  },
  "nbTranslate": {
   "displayLangs": [
    "*"
   ],
   "hotkey": "alt-t",
   "langInMainMenu": true,
   "sourceLang": "en",
   "targetLang": "fr",
   "useGoogleTranslate": true
  },
  "toc": {
   "base_numbering": 1,
   "nav_menu": {},
   "number_sections": true,
   "sideBar": true,
   "skip_h1_title": false,
   "title_cell": "Table of Contents",
   "title_sidebar": "Contents",
   "toc_cell": false,
   "toc_position": {},
   "toc_section_display": true,
   "toc_window_display": false
  }
 },
 "nbformat": 4,
 "nbformat_minor": 2
}
