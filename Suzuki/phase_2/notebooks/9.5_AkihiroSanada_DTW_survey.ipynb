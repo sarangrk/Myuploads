{
 "cells": [
  {
   "cell_type": "markdown",
   "metadata": {},
   "source": [
    "# DTW Survey"
   ]
  },
  {
   "cell_type": "markdown",
   "metadata": {},
   "source": [
    "## Sample data preparation"
   ]
  },
  {
   "cell_type": "code",
   "execution_count": 1,
   "metadata": {
    "ExecuteTime": {
     "end_time": "2019-07-31T10:07:36.616438Z",
     "start_time": "2019-07-31T10:07:33.624518Z"
    }
   },
   "outputs": [],
   "source": [
    "%matplotlib inline\n",
    "import matplotlib.pyplot as plt\n",
    "import numpy as np\n",
    "import pandas as pd"
   ]
  },
  {
   "cell_type": "code",
   "execution_count": 2,
   "metadata": {
    "ExecuteTime": {
     "end_time": "2019-07-31T10:07:38.501759Z",
     "start_time": "2019-07-31T10:07:36.618917Z"
    }
   },
   "outputs": [
    {
     "name": "stderr",
     "output_type": "stream",
     "text": [
      "/Users/localadmin/anaconda3/envs/suzuki/lib/python3.6/site-packages/pyarrow/pandas_compat.py:752: FutureWarning: .labels was deprecated in version 0.24.0. Use .codes instead.\n",
      "  labels, = index.labels\n"
     ]
    }
   ],
   "source": [
    "df_warranty_model_part_num_daily = pd.read_feather(\"../data/interim/df_warranty_model_part_num_daily.feather\")"
   ]
  },
  {
   "cell_type": "code",
   "execution_count": 3,
   "metadata": {
    "ExecuteTime": {
     "end_time": "2019-07-31T10:07:39.628885Z",
     "start_time": "2019-07-31T10:07:38.504205Z"
    }
   },
   "outputs": [],
   "source": [
    "# change format to datetime type\n",
    "df_warranty_model_part_num_daily.date = pd.to_datetime(df_warranty_model_part_num_daily.date) "
   ]
  },
  {
   "cell_type": "code",
   "execution_count": 4,
   "metadata": {
    "ExecuteTime": {
     "end_time": "2019-07-31T10:07:39.650046Z",
     "start_time": "2019-07-31T10:07:39.631145Z"
    }
   },
   "outputs": [
    {
     "data": {
      "text/html": [
       "<div>\n",
       "<style scoped>\n",
       "    .dataframe tbody tr th:only-of-type {\n",
       "        vertical-align: middle;\n",
       "    }\n",
       "\n",
       "    .dataframe tbody tr th {\n",
       "        vertical-align: top;\n",
       "    }\n",
       "\n",
       "    .dataframe thead th {\n",
       "        text-align: right;\n",
       "    }\n",
       "</style>\n",
       "<table border=\"1\" class=\"dataframe\">\n",
       "  <thead>\n",
       "    <tr style=\"text-align: right;\">\n",
       "      <th></th>\n",
       "      <th>model_cd</th>\n",
       "      <th>part_cd</th>\n",
       "      <th>date</th>\n",
       "      <th>n</th>\n",
       "    </tr>\n",
       "  </thead>\n",
       "  <tbody>\n",
       "    <tr>\n",
       "      <th>0</th>\n",
       "      <td>None</td>\n",
       "      <td>*0000-000</td>\n",
       "      <td>2003-01-22</td>\n",
       "      <td>1</td>\n",
       "    </tr>\n",
       "    <tr>\n",
       "      <th>1</th>\n",
       "      <td>None</td>\n",
       "      <td>*1110-CT5</td>\n",
       "      <td>2000-06-16</td>\n",
       "      <td>1</td>\n",
       "    </tr>\n",
       "    <tr>\n",
       "      <th>2</th>\n",
       "      <td>None</td>\n",
       "      <td>*1110-CT5</td>\n",
       "      <td>2001-07-06</td>\n",
       "      <td>1</td>\n",
       "    </tr>\n",
       "    <tr>\n",
       "      <th>3</th>\n",
       "      <td>None</td>\n",
       "      <td>*1110-DC5</td>\n",
       "      <td>2001-01-10</td>\n",
       "      <td>1</td>\n",
       "    </tr>\n",
       "    <tr>\n",
       "      <th>4</th>\n",
       "      <td>None</td>\n",
       "      <td>*1110-MA6</td>\n",
       "      <td>2000-02-05</td>\n",
       "      <td>1</td>\n",
       "    </tr>\n",
       "  </tbody>\n",
       "</table>\n",
       "</div>"
      ],
      "text/plain": [
       "  model_cd    part_cd       date  n\n",
       "0     None  *0000-000 2003-01-22  1\n",
       "1     None  *1110-CT5 2000-06-16  1\n",
       "2     None  *1110-CT5 2001-07-06  1\n",
       "3     None  *1110-DC5 2001-01-10  1\n",
       "4     None  *1110-MA6 2000-02-05  1"
      ]
     },
     "execution_count": 4,
     "metadata": {},
     "output_type": "execute_result"
    }
   ],
   "source": [
    "df_warranty_model_part_num_daily.head()"
   ]
  },
  {
   "cell_type": "code",
   "execution_count": 5,
   "metadata": {
    "ExecuteTime": {
     "end_time": "2019-07-31T10:07:44.377128Z",
     "start_time": "2019-07-31T10:07:39.652577Z"
    }
   },
   "outputs": [],
   "source": [
    "# group number of warranty with part & month\n",
    "df_warranty_part_num_monthly = (df_warranty_model_part_num_daily\n",
    "                                .fillna(\"!Unknown\")\n",
    "                                .groupby([\"part_cd\",pd.Grouper(key=\"date\",freq=\"MS\")])[\"n\"]\n",
    "                                .sum().reset_index())"
   ]
  },
  {
   "cell_type": "code",
   "execution_count": 6,
   "metadata": {
    "ExecuteTime": {
     "end_time": "2019-07-31T10:07:44.386731Z",
     "start_time": "2019-07-31T10:07:44.378628Z"
    }
   },
   "outputs": [
    {
     "data": {
      "text/html": [
       "<div>\n",
       "<style scoped>\n",
       "    .dataframe tbody tr th:only-of-type {\n",
       "        vertical-align: middle;\n",
       "    }\n",
       "\n",
       "    .dataframe tbody tr th {\n",
       "        vertical-align: top;\n",
       "    }\n",
       "\n",
       "    .dataframe thead th {\n",
       "        text-align: right;\n",
       "    }\n",
       "</style>\n",
       "<table border=\"1\" class=\"dataframe\">\n",
       "  <thead>\n",
       "    <tr style=\"text-align: right;\">\n",
       "      <th></th>\n",
       "      <th>part_cd</th>\n",
       "      <th>date</th>\n",
       "      <th>n</th>\n",
       "    </tr>\n",
       "  </thead>\n",
       "  <tbody>\n",
       "    <tr>\n",
       "      <th>0</th>\n",
       "      <td>*0000-000</td>\n",
       "      <td>2002-05-01</td>\n",
       "      <td>1</td>\n",
       "    </tr>\n",
       "    <tr>\n",
       "      <th>1</th>\n",
       "      <td>*0000-000</td>\n",
       "      <td>2002-06-01</td>\n",
       "      <td>1</td>\n",
       "    </tr>\n",
       "    <tr>\n",
       "      <th>2</th>\n",
       "      <td>*0000-000</td>\n",
       "      <td>2002-11-01</td>\n",
       "      <td>1</td>\n",
       "    </tr>\n",
       "    <tr>\n",
       "      <th>3</th>\n",
       "      <td>*0000-000</td>\n",
       "      <td>2003-01-01</td>\n",
       "      <td>1</td>\n",
       "    </tr>\n",
       "    <tr>\n",
       "      <th>4</th>\n",
       "      <td>*0000-000</td>\n",
       "      <td>2003-05-01</td>\n",
       "      <td>1</td>\n",
       "    </tr>\n",
       "  </tbody>\n",
       "</table>\n",
       "</div>"
      ],
      "text/plain": [
       "     part_cd       date  n\n",
       "0  *0000-000 2002-05-01  1\n",
       "1  *0000-000 2002-06-01  1\n",
       "2  *0000-000 2002-11-01  1\n",
       "3  *0000-000 2003-01-01  1\n",
       "4  *0000-000 2003-05-01  1"
      ]
     },
     "execution_count": 6,
     "metadata": {},
     "output_type": "execute_result"
    }
   ],
   "source": [
    "df_warranty_part_num_monthly.head()"
   ]
  },
  {
   "cell_type": "code",
   "execution_count": 7,
   "metadata": {
    "ExecuteTime": {
     "end_time": "2019-07-31T10:07:44.737158Z",
     "start_time": "2019-07-31T10:07:44.389443Z"
    }
   },
   "outputs": [],
   "source": [
    "# number of warranty for each parts\n",
    "parts_top = (df_warranty_model_part_num_daily\n",
    "             .groupby(\"part_cd\")[\"n\"]\n",
    "             .sum()\n",
    "             .sort_values(ascending=False))"
   ]
  },
  {
   "cell_type": "code",
   "execution_count": 8,
   "metadata": {
    "ExecuteTime": {
     "end_time": "2019-07-31T10:07:44.745781Z",
     "start_time": "2019-07-31T10:07:44.740474Z"
    }
   },
   "outputs": [
    {
     "data": {
      "text/plain": [
       "part_cd\n",
       "27610-76G    340055\n",
       "95411-82K    107101\n",
       "14200-588    104781\n",
       "95410-82K     85231\n",
       "85104-82K     83442\n",
       "Name: n, dtype: int64"
      ]
     },
     "execution_count": 8,
     "metadata": {},
     "output_type": "execute_result"
    }
   ],
   "source": [
    "parts_top.head()"
   ]
  },
  {
   "cell_type": "code",
   "execution_count": 9,
   "metadata": {
    "ExecuteTime": {
     "end_time": "2019-07-31T10:07:44.786308Z",
     "start_time": "2019-07-31T10:07:44.748523Z"
    }
   },
   "outputs": [],
   "source": [
    "# select top30 parts\n",
    "df_warranty_part_num_monthly_top30 = df_warranty_part_num_monthly.loc[\n",
    "    df_warranty_part_num_monthly.part_cd.isin(parts_top.index[:30])\n",
    "]"
   ]
  },
  {
   "cell_type": "code",
   "execution_count": 10,
   "metadata": {
    "ExecuteTime": {
     "end_time": "2019-07-31T10:07:44.798784Z",
     "start_time": "2019-07-31T10:07:44.788654Z"
    }
   },
   "outputs": [
    {
     "data": {
      "text/html": [
       "<div>\n",
       "<style scoped>\n",
       "    .dataframe tbody tr th:only-of-type {\n",
       "        vertical-align: middle;\n",
       "    }\n",
       "\n",
       "    .dataframe tbody tr th {\n",
       "        vertical-align: top;\n",
       "    }\n",
       "\n",
       "    .dataframe thead th {\n",
       "        text-align: right;\n",
       "    }\n",
       "</style>\n",
       "<table border=\"1\" class=\"dataframe\">\n",
       "  <thead>\n",
       "    <tr style=\"text-align: right;\">\n",
       "      <th></th>\n",
       "      <th>part_cd</th>\n",
       "      <th>date</th>\n",
       "      <th>n</th>\n",
       "    </tr>\n",
       "  </thead>\n",
       "  <tbody>\n",
       "    <tr>\n",
       "      <th>11142</th>\n",
       "      <td>09262-350</td>\n",
       "      <td>1997-01-01</td>\n",
       "      <td>3</td>\n",
       "    </tr>\n",
       "    <tr>\n",
       "      <th>11143</th>\n",
       "      <td>09262-350</td>\n",
       "      <td>1997-02-01</td>\n",
       "      <td>6</td>\n",
       "    </tr>\n",
       "    <tr>\n",
       "      <th>11144</th>\n",
       "      <td>09262-350</td>\n",
       "      <td>1997-03-01</td>\n",
       "      <td>239</td>\n",
       "    </tr>\n",
       "    <tr>\n",
       "      <th>11145</th>\n",
       "      <td>09262-350</td>\n",
       "      <td>1997-04-01</td>\n",
       "      <td>336</td>\n",
       "    </tr>\n",
       "    <tr>\n",
       "      <th>11146</th>\n",
       "      <td>09262-350</td>\n",
       "      <td>1997-05-01</td>\n",
       "      <td>356</td>\n",
       "    </tr>\n",
       "  </tbody>\n",
       "</table>\n",
       "</div>"
      ],
      "text/plain": [
       "         part_cd       date    n\n",
       "11142  09262-350 1997-01-01    3\n",
       "11143  09262-350 1997-02-01    6\n",
       "11144  09262-350 1997-03-01  239\n",
       "11145  09262-350 1997-04-01  336\n",
       "11146  09262-350 1997-05-01  356"
      ]
     },
     "execution_count": 10,
     "metadata": {},
     "output_type": "execute_result"
    }
   ],
   "source": [
    "df_warranty_part_num_monthly_top30.head()"
   ]
  },
  {
   "cell_type": "markdown",
   "metadata": {},
   "source": [
    "## DTW"
   ]
  },
  {
   "cell_type": "markdown",
   "metadata": {},
   "source": [
    "Normal DTW. For further detail, [Wikipedia](https://en.wikipedia.org/wiki/Dynamic_time_warping) has detailed description.  \n",
    "The order of calculation complexity is $O(N^{2})$"
   ]
  },
  {
   "cell_type": "code",
   "execution_count": 11,
   "metadata": {
    "ExecuteTime": {
     "end_time": "2019-07-31T10:07:45.329694Z",
     "start_time": "2019-07-31T10:07:44.800914Z"
    }
   },
   "outputs": [],
   "source": [
    "from dtw import dtw # you can install this module with `conda install dtw -c temporary-recipes`\n",
    "from scipy.spatial.distance import euclidean # euclidean distance"
   ]
  },
  {
   "cell_type": "code",
   "execution_count": 12,
   "metadata": {
    "ExecuteTime": {
     "end_time": "2019-07-31T10:07:45.353572Z",
     "start_time": "2019-07-31T10:07:45.332637Z"
    }
   },
   "outputs": [],
   "source": [
    "# pivot table \n",
    "df_warranty_part_num_monthly_top30_pivot = (df_warranty_part_num_monthly_top30\n",
    "                                            .pivot_table(index=\"date\", columns=\"part_cd\", values=\"n\")\n",
    "                                            .fillna(0))"
   ]
  },
  {
   "cell_type": "code",
   "execution_count": 13,
   "metadata": {
    "ExecuteTime": {
     "end_time": "2019-07-31T10:07:45.378688Z",
     "start_time": "2019-07-31T10:07:45.355347Z"
    }
   },
   "outputs": [
    {
     "data": {
      "text/html": [
       "<div>\n",
       "<style scoped>\n",
       "    .dataframe tbody tr th:only-of-type {\n",
       "        vertical-align: middle;\n",
       "    }\n",
       "\n",
       "    .dataframe tbody tr th {\n",
       "        vertical-align: top;\n",
       "    }\n",
       "\n",
       "    .dataframe thead th {\n",
       "        text-align: right;\n",
       "    }\n",
       "</style>\n",
       "<table border=\"1\" class=\"dataframe\">\n",
       "  <thead>\n",
       "    <tr style=\"text-align: right;\">\n",
       "      <th>part_cd</th>\n",
       "      <th>09262-350</th>\n",
       "      <th>09283-320</th>\n",
       "      <th>09283-350</th>\n",
       "      <th>14200-588</th>\n",
       "      <th>17400-588</th>\n",
       "      <th>17521-50M</th>\n",
       "      <th>17521-70G</th>\n",
       "      <th>27610-76G</th>\n",
       "      <th>33220-76G</th>\n",
       "      <th>33400-76G</th>\n",
       "      <th>...</th>\n",
       "      <th>55311-75F</th>\n",
       "      <th>55311-81M</th>\n",
       "      <th>84701-70K</th>\n",
       "      <th>84701-82K</th>\n",
       "      <th>84702-70K</th>\n",
       "      <th>85104-82K</th>\n",
       "      <th>95200-58J</th>\n",
       "      <th>95410-82K</th>\n",
       "      <th>95411-72M</th>\n",
       "      <th>95411-82K</th>\n",
       "    </tr>\n",
       "    <tr>\n",
       "      <th>date</th>\n",
       "      <th></th>\n",
       "      <th></th>\n",
       "      <th></th>\n",
       "      <th></th>\n",
       "      <th></th>\n",
       "      <th></th>\n",
       "      <th></th>\n",
       "      <th></th>\n",
       "      <th></th>\n",
       "      <th></th>\n",
       "      <th></th>\n",
       "      <th></th>\n",
       "      <th></th>\n",
       "      <th></th>\n",
       "      <th></th>\n",
       "      <th></th>\n",
       "      <th></th>\n",
       "      <th></th>\n",
       "      <th></th>\n",
       "      <th></th>\n",
       "      <th></th>\n",
       "    </tr>\n",
       "  </thead>\n",
       "  <tbody>\n",
       "    <tr>\n",
       "      <th>1997-01-01</th>\n",
       "      <td>3.0</td>\n",
       "      <td>3.0</td>\n",
       "      <td>4.0</td>\n",
       "      <td>0.0</td>\n",
       "      <td>0.0</td>\n",
       "      <td>0.0</td>\n",
       "      <td>0.0</td>\n",
       "      <td>0.0</td>\n",
       "      <td>0.0</td>\n",
       "      <td>0.0</td>\n",
       "      <td>...</td>\n",
       "      <td>0.0</td>\n",
       "      <td>0.0</td>\n",
       "      <td>0.0</td>\n",
       "      <td>0.0</td>\n",
       "      <td>0.0</td>\n",
       "      <td>0.0</td>\n",
       "      <td>0.0</td>\n",
       "      <td>0.0</td>\n",
       "      <td>0.0</td>\n",
       "      <td>0.0</td>\n",
       "    </tr>\n",
       "    <tr>\n",
       "      <th>1997-02-01</th>\n",
       "      <td>6.0</td>\n",
       "      <td>14.0</td>\n",
       "      <td>50.0</td>\n",
       "      <td>0.0</td>\n",
       "      <td>0.0</td>\n",
       "      <td>0.0</td>\n",
       "      <td>0.0</td>\n",
       "      <td>0.0</td>\n",
       "      <td>0.0</td>\n",
       "      <td>0.0</td>\n",
       "      <td>...</td>\n",
       "      <td>0.0</td>\n",
       "      <td>0.0</td>\n",
       "      <td>0.0</td>\n",
       "      <td>0.0</td>\n",
       "      <td>0.0</td>\n",
       "      <td>0.0</td>\n",
       "      <td>0.0</td>\n",
       "      <td>0.0</td>\n",
       "      <td>0.0</td>\n",
       "      <td>0.0</td>\n",
       "    </tr>\n",
       "    <tr>\n",
       "      <th>1997-03-01</th>\n",
       "      <td>239.0</td>\n",
       "      <td>305.0</td>\n",
       "      <td>862.0</td>\n",
       "      <td>0.0</td>\n",
       "      <td>0.0</td>\n",
       "      <td>0.0</td>\n",
       "      <td>7.0</td>\n",
       "      <td>0.0</td>\n",
       "      <td>0.0</td>\n",
       "      <td>0.0</td>\n",
       "      <td>...</td>\n",
       "      <td>0.0</td>\n",
       "      <td>0.0</td>\n",
       "      <td>0.0</td>\n",
       "      <td>0.0</td>\n",
       "      <td>0.0</td>\n",
       "      <td>0.0</td>\n",
       "      <td>0.0</td>\n",
       "      <td>0.0</td>\n",
       "      <td>0.0</td>\n",
       "      <td>0.0</td>\n",
       "    </tr>\n",
       "    <tr>\n",
       "      <th>1997-04-01</th>\n",
       "      <td>336.0</td>\n",
       "      <td>386.0</td>\n",
       "      <td>1124.0</td>\n",
       "      <td>0.0</td>\n",
       "      <td>0.0</td>\n",
       "      <td>0.0</td>\n",
       "      <td>15.0</td>\n",
       "      <td>0.0</td>\n",
       "      <td>0.0</td>\n",
       "      <td>0.0</td>\n",
       "      <td>...</td>\n",
       "      <td>0.0</td>\n",
       "      <td>0.0</td>\n",
       "      <td>0.0</td>\n",
       "      <td>0.0</td>\n",
       "      <td>0.0</td>\n",
       "      <td>0.0</td>\n",
       "      <td>0.0</td>\n",
       "      <td>0.0</td>\n",
       "      <td>0.0</td>\n",
       "      <td>0.0</td>\n",
       "    </tr>\n",
       "    <tr>\n",
       "      <th>1997-05-01</th>\n",
       "      <td>356.0</td>\n",
       "      <td>431.0</td>\n",
       "      <td>1267.0</td>\n",
       "      <td>0.0</td>\n",
       "      <td>0.0</td>\n",
       "      <td>0.0</td>\n",
       "      <td>20.0</td>\n",
       "      <td>0.0</td>\n",
       "      <td>0.0</td>\n",
       "      <td>0.0</td>\n",
       "      <td>...</td>\n",
       "      <td>0.0</td>\n",
       "      <td>0.0</td>\n",
       "      <td>0.0</td>\n",
       "      <td>0.0</td>\n",
       "      <td>0.0</td>\n",
       "      <td>0.0</td>\n",
       "      <td>0.0</td>\n",
       "      <td>0.0</td>\n",
       "      <td>0.0</td>\n",
       "      <td>0.0</td>\n",
       "    </tr>\n",
       "  </tbody>\n",
       "</table>\n",
       "<p>5 rows × 30 columns</p>\n",
       "</div>"
      ],
      "text/plain": [
       "part_cd     09262-350  09283-320  09283-350  14200-588  17400-588  17521-50M  \\\n",
       "date                                                                           \n",
       "1997-01-01        3.0        3.0        4.0        0.0        0.0        0.0   \n",
       "1997-02-01        6.0       14.0       50.0        0.0        0.0        0.0   \n",
       "1997-03-01      239.0      305.0      862.0        0.0        0.0        0.0   \n",
       "1997-04-01      336.0      386.0     1124.0        0.0        0.0        0.0   \n",
       "1997-05-01      356.0      431.0     1267.0        0.0        0.0        0.0   \n",
       "\n",
       "part_cd     17521-70G  27610-76G  33220-76G  33400-76G  ...  55311-75F  \\\n",
       "date                                                    ...              \n",
       "1997-01-01        0.0        0.0        0.0        0.0  ...        0.0   \n",
       "1997-02-01        0.0        0.0        0.0        0.0  ...        0.0   \n",
       "1997-03-01        7.0        0.0        0.0        0.0  ...        0.0   \n",
       "1997-04-01       15.0        0.0        0.0        0.0  ...        0.0   \n",
       "1997-05-01       20.0        0.0        0.0        0.0  ...        0.0   \n",
       "\n",
       "part_cd     55311-81M  84701-70K  84701-82K  84702-70K  85104-82K  95200-58J  \\\n",
       "date                                                                           \n",
       "1997-01-01        0.0        0.0        0.0        0.0        0.0        0.0   \n",
       "1997-02-01        0.0        0.0        0.0        0.0        0.0        0.0   \n",
       "1997-03-01        0.0        0.0        0.0        0.0        0.0        0.0   \n",
       "1997-04-01        0.0        0.0        0.0        0.0        0.0        0.0   \n",
       "1997-05-01        0.0        0.0        0.0        0.0        0.0        0.0   \n",
       "\n",
       "part_cd     95410-82K  95411-72M  95411-82K  \n",
       "date                                         \n",
       "1997-01-01        0.0        0.0        0.0  \n",
       "1997-02-01        0.0        0.0        0.0  \n",
       "1997-03-01        0.0        0.0        0.0  \n",
       "1997-04-01        0.0        0.0        0.0  \n",
       "1997-05-01        0.0        0.0        0.0  \n",
       "\n",
       "[5 rows x 30 columns]"
      ]
     },
     "execution_count": 13,
     "metadata": {},
     "output_type": "execute_result"
    }
   ],
   "source": [
    "df_warranty_part_num_monthly_top30_pivot.head()"
   ]
  },
  {
   "cell_type": "code",
   "execution_count": 14,
   "metadata": {
    "ExecuteTime": {
     "end_time": "2019-07-31T10:07:49.346102Z",
     "start_time": "2019-07-31T10:07:45.380864Z"
    }
   },
   "outputs": [],
   "source": [
    "# calc dtw using euclidian distance\n",
    "dtw_1, cost_matrix_1, acc_cost_matrix_1, path_1 = \\\n",
    "    dtw(df_warranty_part_num_monthly_top30_pivot.loc[:,\"09262-350\"].fillna(0),\n",
    "        df_warranty_part_num_monthly_top30_pivot.loc[:,\"09283-320\"].fillna(0),\n",
    "        dist=euclidean)"
   ]
  },
  {
   "cell_type": "code",
   "execution_count": 15,
   "metadata": {
    "ExecuteTime": {
     "end_time": "2019-07-31T10:07:49.352059Z",
     "start_time": "2019-07-31T10:07:49.348197Z"
    }
   },
   "outputs": [
    {
     "data": {
      "text/plain": [
       "9.712686567164178"
      ]
     },
     "execution_count": 15,
     "metadata": {},
     "output_type": "execute_result"
    }
   ],
   "source": [
    "dtw_1 # dtw distance"
   ]
  },
  {
   "cell_type": "code",
   "execution_count": 16,
   "metadata": {
    "ExecuteTime": {
     "end_time": "2019-07-31T10:07:49.362646Z",
     "start_time": "2019-07-31T10:07:49.353815Z"
    }
   },
   "outputs": [
    {
     "data": {
      "text/plain": [
       "(array([  0,   1,   2,   3,   4,   4,   5,   6,   7,   8,   8,   8,   8,\n",
       "          8,   9,  10,  11,  12,  13,  14,  15,  16,  17,  18,  19,  19,\n",
       "         19,  20,  21,  22,  23,  24,  25,  26,  27,  28,  28,  28,  28,\n",
       "         28,  28,  29,  30,  31,  32,  33,  34,  35,  36,  37,  38,  38,\n",
       "         38,  38,  38,  38,  38,  39,  39,  40,  41,  42,  43,  44,  44,\n",
       "         44,  44,  45,  46,  47,  48,  49,  50,  50,  51,  51,  52,  53,\n",
       "         54,  55,  55,  55,  55,  55,  55,  56,  57,  58,  58,  58,  58,\n",
       "         59,  60,  61,  62,  63,  64,  65,  65,  66,  67,  68,  69,  70,\n",
       "         71,  72,  72,  72,  73,  74,  75,  76,  77,  78,  79,  80,  81,\n",
       "         82,  83,  84,  85,  86,  87,  88,  89,  90,  91,  92,  93,  94,\n",
       "         95,  96,  97,  98,  99, 100, 101, 102, 103, 104, 105, 106, 107,\n",
       "        108, 109, 110, 111, 112, 113, 114, 115, 116, 117, 118, 119, 120,\n",
       "        121, 122, 123, 124, 125, 126, 127, 128, 129, 130, 131, 132, 133,\n",
       "        134, 135, 136, 137, 138, 139, 140, 141, 142, 143, 144, 145, 146,\n",
       "        147, 148, 149, 150, 151, 152, 153, 154, 155, 156, 157, 158, 159,\n",
       "        160, 161, 162, 163, 164, 165, 166, 167, 168, 169, 170, 171, 172,\n",
       "        173, 174, 175, 176, 177, 178, 179, 180, 181, 182, 183, 184, 185,\n",
       "        186, 187, 188, 188, 188, 189, 190, 191, 192, 193, 194, 195, 196,\n",
       "        197, 197, 197, 197, 197, 198, 199, 200, 201, 202, 203, 204, 205,\n",
       "        206, 207, 208, 209, 210, 211, 212, 213, 214, 215, 216, 217, 218,\n",
       "        219, 219, 220, 221, 222, 223, 224, 225, 226, 227, 228, 229, 230,\n",
       "        231, 232, 233, 234, 235, 236, 236, 237, 238, 239, 240, 241, 242,\n",
       "        243, 244, 244, 244, 244, 244, 244, 244, 244, 244, 244, 244, 244,\n",
       "        244, 245, 246, 247, 248, 249, 250, 251, 252, 253, 253, 253, 253,\n",
       "        253, 253, 253, 253, 253, 253, 253, 253, 253, 253, 253, 253, 253,\n",
       "        253, 253, 253, 253, 253, 253, 253, 253, 253, 254, 255, 256, 257,\n",
       "        258, 259, 260, 261, 262, 262, 262, 262, 262, 262, 262, 262, 262,\n",
       "        262, 262, 262, 262, 262, 262, 262, 262, 262, 262, 262, 262, 262,\n",
       "        262, 262, 262, 262, 262, 262, 262, 262, 262, 262, 262, 262, 262,\n",
       "        262, 262, 262, 262, 262, 262, 262, 262, 262, 262, 262, 262, 262,\n",
       "        262, 262, 262, 262, 262, 262, 262, 262, 262, 262, 262, 262, 262,\n",
       "        262, 262, 262, 262, 262, 262, 262, 263, 264, 265, 266, 267]),\n",
       " array([  0,   1,   2,   3,   4,   5,   6,   6,   7,   8,   9,  10,  11,\n",
       "         12,  13,  13,  13,  13,  13,  14,  15,  15,  15,  16,  17,  18,\n",
       "         19,  20,  20,  20,  20,  20,  20,  21,  22,  23,  24,  25,  26,\n",
       "         27,  28,  29,  29,  29,  30,  30,  30,  31,  31,  31,  32,  33,\n",
       "         34,  35,  36,  37,  38,  39,  40,  41,  42,  43,  43,  44,  45,\n",
       "         46,  47,  48,  49,  49,  49,  49,  50,  51,  52,  53,  54,  54,\n",
       "         55,  56,  57,  58,  59,  60,  61,  62,  63,  64,  65,  66,  67,\n",
       "         68,  69,  69,  69,  70,  70,  71,  72,  73,  74,  74,  75,  75,\n",
       "         75,  76,  77,  78,  79,  80,  81,  82,  83,  84,  85,  85,  86,\n",
       "         87,  88,  88,  88,  88,  88,  88,  88,  88,  88,  88,  88,  88,\n",
       "         88,  88,  88,  88,  88,  88,  88,  88,  88,  88,  88,  88,  88,\n",
       "         88,  88,  88,  88,  88,  88,  88,  88,  88,  89,  89,  89,  89,\n",
       "         89,  89,  89,  89,  89,  89,  89,  89,  89,  89,  89,  90,  90,\n",
       "         90,  90,  90,  90,  90,  90,  90,  90,  90,  90,  90,  90,  90,\n",
       "         90,  90,  90,  90,  90,  90,  91,  91,  91,  91,  91,  91,  91,\n",
       "         92,  92,  92,  92,  92,  93,  94,  94,  95,  96,  97,  98,  98,\n",
       "         98,  98,  99,  99, 100, 101, 101, 102, 103, 104, 105, 106, 106,\n",
       "        107, 107, 108, 109, 110, 111, 111, 111, 111, 111, 111, 111, 111,\n",
       "        112, 113, 114, 115, 116, 117, 118, 119, 119, 119, 119, 119, 119,\n",
       "        119, 119, 120, 121, 122, 123, 124, 125, 125, 126, 127, 127, 127,\n",
       "        128, 129, 130, 131, 132, 132, 133, 133, 134, 135, 135, 136, 137,\n",
       "        138, 138, 138, 138, 139, 140, 141, 142, 142, 143, 144, 145, 145,\n",
       "        145, 146, 147, 148, 149, 150, 151, 152, 153, 154, 155, 156, 157,\n",
       "        158, 159, 160, 161, 162, 163, 164, 165, 165, 166, 167, 168, 169,\n",
       "        170, 171, 172, 173, 174, 175, 176, 177, 178, 179, 180, 181, 182,\n",
       "        183, 184, 185, 186, 187, 188, 189, 190, 191, 192, 193, 194, 194,\n",
       "        194, 194, 194, 194, 195, 196, 197, 198, 199, 200, 201, 202, 203,\n",
       "        204, 205, 206, 207, 208, 209, 210, 211, 212, 213, 214, 215, 216,\n",
       "        217, 218, 219, 220, 221, 222, 223, 224, 225, 226, 227, 228, 229,\n",
       "        230, 231, 232, 233, 234, 235, 236, 237, 238, 239, 240, 241, 242,\n",
       "        243, 244, 245, 246, 247, 248, 249, 250, 251, 252, 253, 254, 255,\n",
       "        256, 257, 258, 259, 260, 261, 262, 263, 264, 265, 266, 267]))"
      ]
     },
     "execution_count": 16,
     "metadata": {},
     "output_type": "execute_result"
    }
   ],
   "source": [
    "path_1 # dtw path (pair of index between 2 time-series)"
   ]
  },
  {
   "cell_type": "code",
   "execution_count": 17,
   "metadata": {
    "ExecuteTime": {
     "end_time": "2019-07-31T10:07:50.838064Z",
     "start_time": "2019-07-31T10:07:49.364334Z"
    }
   },
   "outputs": [],
   "source": [
    "# we can calculate dtw between 2 series whose lengthes are not same\n",
    "dtw_2, *_, path_2 = dtw(df_warranty_part_num_monthly_top30_pivot.loc[:,\"09262-350\"].fillna(0),\n",
    "                df_warranty_part_num_monthly_top30_pivot.loc[:,\"09283-320\"].iloc[1:100].fillna(0),\n",
    "                dist=euclidean)"
   ]
  },
  {
   "cell_type": "code",
   "execution_count": 18,
   "metadata": {
    "ExecuteTime": {
     "end_time": "2019-07-31T10:07:50.842714Z",
     "start_time": "2019-07-31T10:07:50.839393Z"
    }
   },
   "outputs": [
    {
     "data": {
      "text/plain": [
       "14.997275204359672"
      ]
     },
     "execution_count": 18,
     "metadata": {},
     "output_type": "execute_result"
    }
   ],
   "source": [
    "dtw_2"
   ]
  },
  {
   "cell_type": "code",
   "execution_count": 19,
   "metadata": {
    "ExecuteTime": {
     "end_time": "2019-07-31T10:07:50.852991Z",
     "start_time": "2019-07-31T10:07:50.844386Z"
    },
    "scrolled": true
   },
   "outputs": [
    {
     "data": {
      "text/plain": [
       "(array([  0,   1,   2,   3,   4,   4,   5,   6,   7,   8,   8,   8,   8,\n",
       "          8,   9,  10,  11,  12,  13,  14,  15,  16,  17,  18,  19,  19,\n",
       "         19,  20,  21,  22,  23,  24,  25,  26,  27,  28,  28,  28,  28,\n",
       "         28,  28,  29,  30,  31,  32,  33,  34,  35,  36,  37,  38,  38,\n",
       "         38,  38,  38,  38,  38,  39,  39,  40,  41,  42,  43,  44,  44,\n",
       "         44,  44,  45,  46,  47,  48,  49,  50,  50,  51,  51,  52,  53,\n",
       "         54,  55,  55,  55,  55,  55,  55,  56,  57,  58,  58,  58,  58,\n",
       "         59,  60,  61,  62,  63,  64,  65,  65,  66,  67,  68,  69,  70,\n",
       "         71,  72,  72,  72,  73,  74,  75,  76,  77,  78,  79,  80,  81,\n",
       "         82,  83,  84,  85,  86,  87,  88,  89,  90,  91,  92,  93,  94,\n",
       "         95,  96,  97,  98,  99, 100, 101, 102, 103, 104, 105, 106, 107,\n",
       "        108, 109, 110, 111, 112, 113, 114, 115, 116, 117, 118, 119, 120,\n",
       "        121, 122, 123, 124, 125, 126, 127, 128, 129, 130, 131, 132, 133,\n",
       "        134, 135, 136, 137, 138, 139, 140, 141, 142, 143, 144, 145, 146,\n",
       "        147, 148, 149, 150, 151, 152, 153, 154, 155, 156, 157, 158, 159,\n",
       "        160, 161, 162, 163, 164, 165, 166, 167, 168, 169, 170, 171, 172,\n",
       "        173, 174, 175, 176, 177, 178, 179, 180, 181, 182, 183, 184, 185,\n",
       "        186, 187, 188, 189, 190, 191, 192, 193, 194, 195, 196, 197, 198,\n",
       "        199, 200, 201, 202, 203, 204, 205, 206, 207, 208, 209, 210, 211,\n",
       "        212, 213, 214, 215, 216, 217, 218, 219, 220, 221, 222, 223, 224,\n",
       "        225, 226, 227, 228, 229, 230, 231, 232, 233, 234, 235, 236, 237,\n",
       "        238, 239, 240, 241, 242, 243, 244, 245, 246, 247, 248, 249, 250,\n",
       "        251, 252, 253, 254, 255, 256, 257, 258, 259, 260, 261, 262, 263,\n",
       "        264, 265, 266, 267]),\n",
       " array([ 0,  0,  1,  2,  3,  4,  5,  5,  6,  7,  8,  9, 10, 11, 12, 12, 12,\n",
       "        12, 12, 13, 14, 14, 14, 15, 16, 17, 18, 19, 19, 19, 19, 19, 19, 20,\n",
       "        21, 22, 23, 24, 25, 26, 27, 28, 28, 28, 29, 29, 29, 30, 30, 30, 31,\n",
       "        32, 33, 34, 35, 36, 37, 38, 39, 40, 41, 42, 42, 43, 44, 45, 46, 47,\n",
       "        48, 48, 48, 48, 49, 50, 51, 52, 53, 53, 54, 55, 56, 57, 58, 59, 60,\n",
       "        61, 62, 63, 64, 65, 66, 67, 68, 68, 68, 69, 69, 70, 71, 72, 73, 73,\n",
       "        74, 74, 74, 75, 76, 77, 78, 79, 80, 81, 82, 83, 84, 84, 85, 86, 87,\n",
       "        87, 87, 87, 87, 87, 87, 87, 87, 87, 87, 87, 87, 87, 87, 87, 87, 87,\n",
       "        87, 87, 87, 87, 87, 87, 87, 87, 87, 87, 87, 87, 87, 87, 87, 87, 88,\n",
       "        88, 88, 88, 88, 88, 88, 88, 88, 88, 88, 88, 88, 88, 88, 89, 89, 89,\n",
       "        89, 89, 89, 89, 89, 89, 89, 89, 89, 89, 89, 89, 89, 89, 89, 89, 89,\n",
       "        89, 90, 90, 90, 90, 90, 90, 90, 91, 91, 91, 91, 91, 92, 92, 92, 92,\n",
       "        92, 92, 92, 92, 93, 94, 94, 94, 95, 96, 96, 96, 96, 96, 96, 96, 96,\n",
       "        96, 96, 96, 96, 96, 96, 96, 96, 96, 96, 96, 96, 96, 96, 96, 96, 96,\n",
       "        96, 96, 96, 96, 96, 96, 96, 96, 96, 96, 96, 96, 96, 96, 96, 96, 96,\n",
       "        96, 96, 96, 96, 96, 96, 96, 96, 96, 96, 96, 96, 96, 96, 96, 96, 96,\n",
       "        96, 96, 96, 96, 96, 96, 96, 96, 96, 96, 96, 96, 96, 96, 96, 96, 96,\n",
       "        96, 96, 96, 96, 96, 96, 96, 96, 96, 96, 96, 96, 97, 98]))"
      ]
     },
     "execution_count": 19,
     "metadata": {},
     "output_type": "execute_result"
    }
   ],
   "source": [
    "path_2"
   ]
  },
  {
   "cell_type": "code",
   "execution_count": 20,
   "metadata": {
    "ExecuteTime": {
     "end_time": "2019-07-31T10:07:50.860224Z",
     "start_time": "2019-07-31T10:07:50.854581Z"
    }
   },
   "outputs": [],
   "source": [
    "# make artificial series with multivariate\n",
    "series_a = np.stack([df_warranty_part_num_monthly_top30_pivot.iloc[:,0].fillna(0).values,\n",
    "                 df_warranty_part_num_monthly_top30_pivot.iloc[:,1].fillna(0).values], axis=-1)\n",
    "series_b = np.stack([df_warranty_part_num_monthly_top30_pivot.iloc[1:100,2].fillna(0).values,\n",
    "                 df_warranty_part_num_monthly_top30_pivot.iloc[1:100,3].fillna(0).values], axis=-1)"
   ]
  },
  {
   "cell_type": "code",
   "execution_count": 21,
   "metadata": {
    "ExecuteTime": {
     "end_time": "2019-07-31T10:07:50.866886Z",
     "start_time": "2019-07-31T10:07:50.862624Z"
    }
   },
   "outputs": [
    {
     "data": {
      "text/plain": [
       "((268, 2), (99, 2))"
      ]
     },
     "execution_count": 21,
     "metadata": {},
     "output_type": "execute_result"
    }
   ],
   "source": [
    "series_a.shape, series_b.shape"
   ]
  },
  {
   "cell_type": "code",
   "execution_count": 22,
   "metadata": {
    "ExecuteTime": {
     "end_time": "2019-07-31T10:07:51.284889Z",
     "start_time": "2019-07-31T10:07:50.868472Z"
    }
   },
   "outputs": [],
   "source": [
    "# we can calculate dtw between multivariate series also.\n",
    "dtw_3, *_, path_3 = dtw(series_a, series_b, dist=euclidean)"
   ]
  },
  {
   "cell_type": "code",
   "execution_count": 23,
   "metadata": {
    "ExecuteTime": {
     "end_time": "2019-07-31T10:07:51.291810Z",
     "start_time": "2019-07-31T10:07:51.288544Z"
    }
   },
   "outputs": [
    {
     "data": {
      "text/plain": [
       "169.12354985651956"
      ]
     },
     "execution_count": 23,
     "metadata": {},
     "output_type": "execute_result"
    }
   ],
   "source": [
    "dtw_3"
   ]
  },
  {
   "cell_type": "markdown",
   "metadata": {},
   "source": [
    "## FastDTW"
   ]
  },
  {
   "cell_type": "markdown",
   "metadata": {},
   "source": [
    "FastDTW is algorithm for calculate DTW(Dynamic Time Warp) **approximately**.  \n",
    "The order of calculation complexity is $O(N)$, although that of normal DTW is $O(N^{2})$.  \n",
    "For further detail, please check [original report](https://pdfs.semanticscholar.org/05a2/0cde15e172fc82f32774dd0cf4fe5827cad2.pdf)."
   ]
  },
  {
   "cell_type": "code",
   "execution_count": 24,
   "metadata": {
    "ExecuteTime": {
     "end_time": "2019-07-31T10:07:51.301920Z",
     "start_time": "2019-07-31T10:07:51.293648Z"
    }
   },
   "outputs": [],
   "source": [
    "from fastdtw import fastdtw"
   ]
  },
  {
   "cell_type": "code",
   "execution_count": 25,
   "metadata": {
    "ExecuteTime": {
     "end_time": "2019-07-31T10:07:51.404749Z",
     "start_time": "2019-07-31T10:07:51.303615Z"
    }
   },
   "outputs": [],
   "source": [
    "dtw_4, path_4 = \\\n",
    "    fastdtw(df_warranty_part_num_monthly_top30_pivot.loc[:,\"09262-350\"].fillna(0),\n",
    "        df_warranty_part_num_monthly_top30_pivot.loc[:,\"09283-320\"].fillna(0),\n",
    "        dist=euclidean)"
   ]
  },
  {
   "cell_type": "code",
   "execution_count": 26,
   "metadata": {
    "ExecuteTime": {
     "end_time": "2019-07-31T10:07:51.409568Z",
     "start_time": "2019-07-31T10:07:51.406402Z"
    }
   },
   "outputs": [
    {
     "data": {
      "text/plain": [
       "5464.0"
      ]
     },
     "execution_count": 26,
     "metadata": {},
     "output_type": "execute_result"
    }
   ],
   "source": [
    "dtw_4 # distance with fastdtw is different from dtw"
   ]
  },
  {
   "cell_type": "code",
   "execution_count": 27,
   "metadata": {
    "ExecuteTime": {
     "end_time": "2019-07-31T10:07:51.426695Z",
     "start_time": "2019-07-31T10:07:51.411433Z"
    }
   },
   "outputs": [
    {
     "data": {
      "text/plain": [
       "[(0, 0),\n",
       " (1, 1),\n",
       " (2, 2),\n",
       " (3, 2),\n",
       " (4, 2),\n",
       " (5, 2),\n",
       " (6, 2),\n",
       " (7, 2),\n",
       " (8, 3),\n",
       " (9, 4),\n",
       " (10, 5),\n",
       " (11, 5),\n",
       " (12, 5),\n",
       " (13, 6),\n",
       " (13, 7),\n",
       " (14, 8),\n",
       " (14, 9),\n",
       " (14, 10),\n",
       " (14, 11),\n",
       " (14, 12),\n",
       " (15, 13),\n",
       " (16, 14),\n",
       " (17, 15),\n",
       " (18, 16),\n",
       " (19, 17),\n",
       " (19, 18),\n",
       " (19, 19),\n",
       " (20, 20),\n",
       " (21, 20),\n",
       " (22, 20),\n",
       " (23, 20),\n",
       " (24, 20),\n",
       " (25, 20),\n",
       " (26, 21),\n",
       " (27, 22),\n",
       " (28, 23),\n",
       " (28, 24),\n",
       " (28, 25),\n",
       " (28, 26),\n",
       " (28, 27),\n",
       " (28, 28),\n",
       " (29, 29),\n",
       " (30, 29),\n",
       " (31, 29),\n",
       " (32, 30),\n",
       " (33, 31),\n",
       " (34, 32),\n",
       " (34, 33),\n",
       " (34, 34),\n",
       " (34, 35),\n",
       " (34, 36),\n",
       " (34, 37),\n",
       " (34, 38),\n",
       " (35, 39),\n",
       " (35, 40),\n",
       " (35, 41),\n",
       " (36, 42),\n",
       " (37, 43),\n",
       " (38, 44),\n",
       " (39, 45),\n",
       " (39, 46),\n",
       " (39, 47),\n",
       " (40, 48),\n",
       " (41, 48),\n",
       " (42, 48),\n",
       " (43, 48),\n",
       " (44, 48),\n",
       " (45, 48),\n",
       " (46, 49),\n",
       " (47, 49),\n",
       " (48, 49),\n",
       " (49, 49),\n",
       " (50, 50),\n",
       " (50, 51),\n",
       " (51, 52),\n",
       " (51, 53),\n",
       " (52, 54),\n",
       " (53, 54),\n",
       " (54, 55),\n",
       " (55, 56),\n",
       " (55, 57),\n",
       " (55, 58),\n",
       " (55, 59),\n",
       " (55, 60),\n",
       " (55, 61),\n",
       " (56, 62),\n",
       " (57, 63),\n",
       " (58, 64),\n",
       " (58, 65),\n",
       " (58, 66),\n",
       " (58, 67),\n",
       " (59, 68),\n",
       " (60, 69),\n",
       " (61, 69),\n",
       " (62, 69),\n",
       " (63, 70),\n",
       " (64, 70),\n",
       " (65, 71),\n",
       " (65, 72),\n",
       " (66, 73),\n",
       " (67, 74),\n",
       " (68, 74),\n",
       " (69, 75),\n",
       " (70, 75),\n",
       " (71, 75),\n",
       " (72, 76),\n",
       " (72, 77),\n",
       " (72, 78),\n",
       " (73, 79),\n",
       " (74, 80),\n",
       " (75, 81),\n",
       " (76, 82),\n",
       " (77, 83),\n",
       " (78, 84),\n",
       " (79, 85),\n",
       " (80, 85),\n",
       " (81, 86),\n",
       " (82, 87),\n",
       " (83, 88),\n",
       " (84, 88),\n",
       " (85, 88),\n",
       " (86, 88),\n",
       " (87, 88),\n",
       " (88, 88),\n",
       " (89, 88),\n",
       " (90, 88),\n",
       " (91, 88),\n",
       " (92, 88),\n",
       " (93, 88),\n",
       " (94, 88),\n",
       " (95, 88),\n",
       " (96, 88),\n",
       " (97, 88),\n",
       " (98, 88),\n",
       " (99, 88),\n",
       " (100, 88),\n",
       " (101, 88),\n",
       " (102, 88),\n",
       " (103, 88),\n",
       " (104, 88),\n",
       " (105, 88),\n",
       " (106, 88),\n",
       " (107, 88),\n",
       " (108, 88),\n",
       " (109, 88),\n",
       " (110, 88),\n",
       " (111, 88),\n",
       " (112, 88),\n",
       " (113, 88),\n",
       " (114, 88),\n",
       " (115, 88),\n",
       " (116, 88),\n",
       " (117, 89),\n",
       " (118, 89),\n",
       " (119, 89),\n",
       " (120, 89),\n",
       " (121, 89),\n",
       " (122, 89),\n",
       " (123, 89),\n",
       " (124, 89),\n",
       " (125, 89),\n",
       " (126, 89),\n",
       " (127, 89),\n",
       " (128, 89),\n",
       " (129, 89),\n",
       " (130, 89),\n",
       " (131, 89),\n",
       " (132, 90),\n",
       " (133, 90),\n",
       " (134, 90),\n",
       " (135, 90),\n",
       " (136, 90),\n",
       " (137, 90),\n",
       " (138, 90),\n",
       " (139, 90),\n",
       " (140, 90),\n",
       " (141, 90),\n",
       " (142, 90),\n",
       " (143, 90),\n",
       " (144, 90),\n",
       " (145, 90),\n",
       " (146, 90),\n",
       " (147, 90),\n",
       " (148, 90),\n",
       " (149, 90),\n",
       " (150, 90),\n",
       " (151, 90),\n",
       " (152, 90),\n",
       " (153, 91),\n",
       " (154, 91),\n",
       " (155, 91),\n",
       " (156, 91),\n",
       " (157, 91),\n",
       " (158, 91),\n",
       " (159, 91),\n",
       " (160, 92),\n",
       " (161, 92),\n",
       " (162, 92),\n",
       " (163, 92),\n",
       " (164, 92),\n",
       " (165, 93),\n",
       " (166, 94),\n",
       " (167, 94),\n",
       " (168, 94),\n",
       " (169, 94),\n",
       " (170, 95),\n",
       " (171, 96),\n",
       " (172, 97),\n",
       " (173, 98),\n",
       " (174, 98),\n",
       " (175, 99),\n",
       " (176, 100),\n",
       " (177, 101),\n",
       " (178, 102),\n",
       " (178, 103),\n",
       " (179, 104),\n",
       " (179, 105),\n",
       " (180, 106),\n",
       " (181, 107),\n",
       " (182, 108),\n",
       " (183, 109),\n",
       " (183, 110),\n",
       " (184, 111),\n",
       " (185, 111),\n",
       " (186, 112),\n",
       " (187, 112),\n",
       " (188, 113),\n",
       " (189, 114),\n",
       " (190, 114),\n",
       " (191, 114),\n",
       " (192, 114),\n",
       " (193, 114),\n",
       " (194, 114),\n",
       " (195, 114),\n",
       " (196, 115),\n",
       " (197, 116),\n",
       " (198, 117),\n",
       " (199, 118),\n",
       " (200, 119),\n",
       " (201, 119),\n",
       " (202, 119),\n",
       " (203, 119),\n",
       " (204, 119),\n",
       " (205, 119),\n",
       " (206, 119),\n",
       " (207, 119),\n",
       " (208, 120),\n",
       " (209, 121),\n",
       " (210, 122),\n",
       " (211, 123),\n",
       " (212, 124),\n",
       " (213, 125),\n",
       " (214, 125),\n",
       " (215, 126),\n",
       " (216, 127),\n",
       " (217, 127),\n",
       " (218, 127),\n",
       " (219, 128),\n",
       " (219, 129),\n",
       " (219, 130),\n",
       " (219, 131),\n",
       " (219, 132),\n",
       " (219, 133),\n",
       " (219, 134),\n",
       " (219, 135),\n",
       " (219, 136),\n",
       " (219, 137),\n",
       " (220, 138),\n",
       " (221, 139),\n",
       " (222, 140),\n",
       " (223, 141),\n",
       " (224, 142),\n",
       " (225, 143),\n",
       " (226, 144),\n",
       " (227, 145),\n",
       " (228, 145),\n",
       " (229, 146),\n",
       " (230, 147),\n",
       " (231, 148),\n",
       " (231, 149),\n",
       " (231, 150),\n",
       " (231, 151),\n",
       " (231, 152),\n",
       " (231, 153),\n",
       " (231, 154),\n",
       " (231, 155),\n",
       " (231, 156),\n",
       " (231, 157),\n",
       " (231, 158),\n",
       " (231, 159),\n",
       " (231, 160),\n",
       " (231, 161),\n",
       " (231, 162),\n",
       " (231, 163),\n",
       " (231, 164),\n",
       " (231, 165),\n",
       " (231, 166),\n",
       " (231, 167),\n",
       " (231, 168),\n",
       " (231, 169),\n",
       " (231, 170),\n",
       " (231, 171),\n",
       " (231, 172),\n",
       " (231, 173),\n",
       " (231, 174),\n",
       " (231, 175),\n",
       " (231, 176),\n",
       " (231, 177),\n",
       " (231, 178),\n",
       " (231, 179),\n",
       " (231, 180),\n",
       " (231, 181),\n",
       " (231, 182),\n",
       " (231, 183),\n",
       " (231, 184),\n",
       " (231, 185),\n",
       " (231, 186),\n",
       " (231, 187),\n",
       " (231, 188),\n",
       " (231, 189),\n",
       " (231, 190),\n",
       " (231, 191),\n",
       " (231, 192),\n",
       " (231, 193),\n",
       " (231, 194),\n",
       " (231, 195),\n",
       " (231, 196),\n",
       " (231, 197),\n",
       " (231, 198),\n",
       " (231, 199),\n",
       " (231, 200),\n",
       " (231, 201),\n",
       " (231, 202),\n",
       " (231, 203),\n",
       " (231, 204),\n",
       " (231, 205),\n",
       " (231, 206),\n",
       " (231, 207),\n",
       " (231, 208),\n",
       " (231, 209),\n",
       " (231, 210),\n",
       " (231, 211),\n",
       " (231, 212),\n",
       " (231, 213),\n",
       " (231, 214),\n",
       " (231, 215),\n",
       " (231, 216),\n",
       " (231, 217),\n",
       " (231, 218),\n",
       " (231, 219),\n",
       " (231, 220),\n",
       " (231, 221),\n",
       " (231, 222),\n",
       " (231, 223),\n",
       " (231, 224),\n",
       " (231, 225),\n",
       " (231, 226),\n",
       " (231, 227),\n",
       " (231, 228),\n",
       " (231, 229),\n",
       " (231, 230),\n",
       " (231, 231),\n",
       " (232, 232),\n",
       " (233, 233),\n",
       " (234, 234),\n",
       " (235, 235),\n",
       " (236, 236),\n",
       " (237, 237),\n",
       " (238, 238),\n",
       " (239, 239),\n",
       " (240, 240),\n",
       " (241, 241),\n",
       " (242, 242),\n",
       " (243, 243),\n",
       " (244, 244),\n",
       " (245, 245),\n",
       " (246, 246),\n",
       " (247, 247),\n",
       " (248, 248),\n",
       " (249, 249),\n",
       " (250, 250),\n",
       " (251, 251),\n",
       " (252, 252),\n",
       " (253, 253),\n",
       " (254, 254),\n",
       " (255, 255),\n",
       " (256, 256),\n",
       " (257, 257),\n",
       " (258, 258),\n",
       " (259, 259),\n",
       " (260, 260),\n",
       " (261, 261),\n",
       " (262, 262),\n",
       " (263, 263),\n",
       " (264, 264),\n",
       " (265, 265),\n",
       " (266, 266),\n",
       " (267, 267)]"
      ]
     },
     "execution_count": 27,
     "metadata": {},
     "output_type": "execute_result"
    }
   ],
   "source": [
    "path_4 "
   ]
  },
  {
   "cell_type": "code",
   "execution_count": 28,
   "metadata": {
    "ExecuteTime": {
     "end_time": "2019-07-31T10:07:51.502512Z",
     "start_time": "2019-07-31T10:07:51.428477Z"
    }
   },
   "outputs": [],
   "source": [
    "# we can calculate dtw between 2 series whose lengthes are not same\n",
    "dtw_5, path_5 = fastdtw(df_warranty_part_num_monthly_top30_pivot.loc[:,\"09262-350\"].fillna(0),\n",
    "                df_warranty_part_num_monthly_top30_pivot.loc[:,\"09283-320\"].iloc[1:100].fillna(0),\n",
    "                dist=euclidean)"
   ]
  },
  {
   "cell_type": "code",
   "execution_count": 29,
   "metadata": {
    "ExecuteTime": {
     "end_time": "2019-07-31T10:07:51.557590Z",
     "start_time": "2019-07-31T10:07:51.504025Z"
    }
   },
   "outputs": [],
   "source": [
    "# we can calculate dtw between multivariate series also.\n",
    "dtw_6, *_, path_6 = fastdtw(series_a, series_b, dist=euclidean)"
   ]
  },
  {
   "cell_type": "markdown",
   "metadata": {},
   "source": [
    "## Scalable implementation"
   ]
  },
  {
   "cell_type": "markdown",
   "metadata": {},
   "source": [
    "- Implementation by Spark https://github.com/zaratsian/dynamic_time_warping\n",
    "- Implementation by Teradata https://www.google.com/url?sa=t&rct=j&q=&esrc=s&source=web&cd=1&cad=rja&uact=8&ved=2ahUKEwiq2oeY897jAhUPSo8KHTtNCOwQFjAAegQIARAB&url=https%3A%2F%2Fdocs.teradata.com%2Freader%2FAI5zLpFtwEQWIVvpnZgB8g%2FuUaUVLaXSRPTSh~ZmJ4RMw&usg=AOvVaw1hpP1_3a4W6pONtjHoxAXc"
   ]
  },
  {
   "cell_type": "markdown",
   "metadata": {},
   "source": [
    "I expect DTW can be implemented with recursive aggregation query, but I coundl't find any webpage..."
   ]
  },
  {
   "cell_type": "code",
   "execution_count": null,
   "metadata": {},
   "outputs": [],
   "source": []
  }
 ],
 "metadata": {
  "kernelspec": {
   "display_name": "Python [conda env:suzuki] *",
   "language": "python",
   "name": "conda-env-suzuki-py"
  },
  "language_info": {
   "codemirror_mode": {
    "name": "ipython",
    "version": 3
   },
   "file_extension": ".py",
   "mimetype": "text/x-python",
   "name": "python",
   "nbconvert_exporter": "python",
   "pygments_lexer": "ipython3",
   "version": "3.6.8"
  },
  "latex_envs": {
   "LaTeX_envs_menu_present": true,
   "autoclose": false,
   "autocomplete": true,
   "bibliofile": "biblio.bib",
   "cite_by": "apalike",
   "current_citInitial": 1,
   "eqLabelWithNumbers": true,
   "eqNumInitial": 1,
   "hotkeys": {
    "equation": "Ctrl-E",
    "itemize": "Ctrl-I"
   },
   "labels_anchors": false,
   "latex_user_defs": false,
   "report_style_numbering": false,
   "user_envs_cfg": false
  },
  "nbTranslate": {
   "displayLangs": [
    "*"
   ],
   "hotkey": "alt-t",
   "langInMainMenu": true,
   "sourceLang": "en",
   "targetLang": "fr",
   "useGoogleTranslate": true
  },
  "toc": {
   "base_numbering": 1,
   "nav_menu": {},
   "number_sections": true,
   "sideBar": true,
   "skip_h1_title": false,
   "title_cell": "Table of Contents",
   "title_sidebar": "Contents",
   "toc_cell": false,
   "toc_position": {},
   "toc_section_display": true,
   "toc_window_display": false
  }
 },
 "nbformat": 4,
 "nbformat_minor": 2
}
