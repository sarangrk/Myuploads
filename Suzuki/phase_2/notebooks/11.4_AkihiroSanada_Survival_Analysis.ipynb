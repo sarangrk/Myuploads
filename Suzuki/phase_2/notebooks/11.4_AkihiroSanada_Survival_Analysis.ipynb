{
 "cells": [
  {
   "cell_type": "markdown",
   "metadata": {},
   "source": [
    "# 生存分析を利用したワランティ発生数予測"
   ]
  },
  {
   "cell_type": "markdown",
   "metadata": {},
   "source": [
    "今週と来週は、生存分析を使用してワランティ発生数を予測する。"
   ]
  },
  {
   "cell_type": "markdown",
   "metadata": {},
   "source": [
    "今回はSQLのクエリが頻出する。分析を主眼としたクエリについては、例えば[\"ビッグデータ分析・活用のためのSQLレシピ\"](https://www.amazon.co.jp/dp/B06XRWPPC9/ref=cm_sw_em_r_mt_dp_U_HPOwDb913Z6EE)が詳しい。"
   ]
  },
  {
   "cell_type": "markdown",
   "metadata": {},
   "source": [
    "## 生存時間分析概論"
   ]
  },
  {
   "cell_type": "markdown",
   "metadata": {},
   "source": [
    "### 特徴"
   ]
  },
  {
   "cell_type": "markdown",
   "metadata": {},
   "source": [
    "- 生存時間分析(**Survival analysis**)とは、「ある時点から何らかのイベントが発生する時点までの時間」を対象とした統計分析及びそのための手法である。  \n",
    "- **Time-to-Event分析(Time-to-Event analysis)**とも呼ばれる。  \n",
    "- その名のとおり、医療分野における死亡までの時間の分析の他、機械の使用開始から最初の故障が発生するまでの時間や、ある顧客が有料会員になってから退会するまでの期間の分析など、「何らかのイベントが発生するまでの時間」や「一定期間における、次のイベント発生の確率」を分析する際に、分野問わず幅広く使用されている。"
   ]
  },
  {
   "cell_type": "markdown",
   "metadata": {},
   "source": [
    "- 実問題に適用する際の注意点としては、\n",
    "    - 既存の生存時間分析の枠組みは、**「説明変数(外生変数)の時間変化がない」**あるいは**「ごく簡単な時間変化」**(線形に増加するなど)が前提とされていることが多い。(比較的最近に提案された機械学習系の生存時間分析の一部は、その限りではないが...)\n",
    "        - 例えば、ある機械の故障までの生存期間を分析する際に、外部温度を説明変数として取り込みたいとする。この場合は、外部温度は上がったり下がったりするが、説明変数としては、\"生存期間の平均外部温度\",\"生存期間の最高外部温度\"のように、1つの値として入力する必要がある。よって、時系列変化を取り込みにくい。\n",
    "    - Time-to-Eventの名のとおり、**次のイベントまで**を対象とする分析である。\n",
    "        - 例えば今回のワランティ数分析では、同一の車が何度かワランティを申請/処理することがあるが、その場合は\"販売->1回目の故障\", \"1回目の故障->2回目の故障\",..., とそれぞれの生存期間サンプルに分けてから、分析を行う必要がある。"
   ]
  },
  {
   "cell_type": "markdown",
   "metadata": {},
   "source": [
    "- 生存時間分析に特有の概念として、**打ち切り**の存在がある。例えば、今回の例であれば、多くの車は一度も故障せずにデータ収集最終日を迎える廃車を迎えると考えられる。また、死亡時点までの分析であれば、多くの患者は実験最終日まで生存していたり、退院してデータが取れなくなったりするだろう。そのような、イベントを迎えずに期間が終了することを**打ち切り**(または右側打ち切り)と呼ぶ。"
   ]
  },
  {
   "cell_type": "markdown",
   "metadata": {},
   "source": [
    "### 生存時間分析の流れ"
   ]
  },
  {
   "cell_type": "markdown",
   "metadata": {},
   "source": [
    "生存時間分析は、一般に次のような手順で行われる。"
   ]
  },
  {
   "cell_type": "markdown",
   "metadata": {},
   "source": [
    "1. データから各サンプルの生存期間を算出する。終わりが打ち切りであったかどうか、分かるようにしておく。\n",
    "2. 各サンプルの生存期間と打ち切りの有無から、**生存関数**を推定する。\n",
    "    - 関数の推定方法としては、**カプラン・マイヤー推定**と**アーレン・ネルソン推定**があるが、おおよそ両者は似たような結果になる。\n",
    "3. 推定された生存関数をモデルによって近似する。近似方法によって、大まかに以下の4種類に分けられる\n",
    "    - **ノンパラメトリックモデル**(得られた生存関数をそのまま使う)\n",
    "    - **セミパラメトリックモデル**(Cox比例ハザードモデルなど)\n",
    "    - **パラメトリックモデル**(ワイブル分布モデル、指数分布モデルなど)\n",
    "    - **機械学習モデル**(ランダムサバイバルフォレストなど)\n",
    "4. モデルを用いて予測を行ったり、モデルを用いて説明変数の影響を検定にかけたりする(投薬の効果の有無など)"
   ]
  },
  {
   "cell_type": "markdown",
   "metadata": {},
   "source": [
    "#### モデルについて補足"
   ]
  },
  {
   "cell_type": "markdown",
   "metadata": {},
   "source": [
    "- ノンパラメトリックモデルは、説明変数(外生変数)を持たない。カプラン・マイヤーなどで推測された関数をそのまま用いる方法である。\n",
    "- セミパラメトリック、パラメトリック、機械学習モデルは、説明変数を持つ。ただし、多くの場合、説明変数は生存期間中に時間変化しないことを前提とする。\n",
    "- セミパラメトリック、パラメトリックモデルは、比例ハザード性を仮定することが多い。これはどういうことかというと、「外生変数Aが〇〇だった場合(カテゴリ変数の場合)or大きくなるにつれて(連続変数の場合)、各時点の死亡確率が一律XX倍に上昇/下落する」というような仮定である。\n",
    "- セミパラメトリックモデルは、比例ハザード性とノンパラメトリックを組み合わせたモデルである。何らかのベースラインとなる生存関数を仮定して、説明変数によって、一律に死亡確率が上がったり下がったりするようなモデルである。ベースラインの関数系は特に仮定しないので、柔軟な分、サンプル数が少ない場合は推定誤差も増える。\n",
    "- パラメトリックモデルは、生存関数が完全に時間と説明変数のみをパラメータとする数式として書ける、と仮定するモデルである。例えば指数分布などがよく用いられる。\n",
    "- 一部の機械学習モデルは、時間変化する外生変数を取り込むことのできるモデルも存在する。ランダムサバイバルフォレストなど、2000年代後半から提案された、比較的新しいものが多い。\n",
    "- 今回のケースでの説明変数は、モデルの種類、過去の故障の有無(初めてか、再発か)などが考えられる。"
   ]
  },
  {
   "cell_type": "markdown",
   "metadata": {},
   "source": [
    "### 生存時間分析のExcelでの例"
   ]
  },
  {
   "cell_type": "markdown",
   "metadata": {},
   "source": [
    "Excel sheet\"20190821_survival_analysis.xlsx\"を参照"
   ]
  },
  {
   "cell_type": "markdown",
   "metadata": {},
   "source": [
    "### (Optional)生存時間分析における数式"
   ]
  },
  {
   "cell_type": "markdown",
   "metadata": {},
   "source": [
    "ある時点$t$までに死亡している確率$F(t)$は、以下のような、分布関数で与えられる。\n",
    "$$F(t) = P(u < t) = \\int_0^t f(u)du$$"
   ]
  },
  {
   "cell_type": "markdown",
   "metadata": {},
   "source": [
    "ある時点tにまだ生きている確率$S(t)$は、時点tにまだ死亡していない確率なので、\n",
    "$$S(t) = 1-F(t)$$"
   ]
  },
  {
   "cell_type": "markdown",
   "metadata": {},
   "source": [
    "この確率$S(t)$を、$t$の関数とみなし、**生存関数**と呼ぶ。"
   ]
  },
  {
   "cell_type": "markdown",
   "metadata": {},
   "source": [
    "ある時点tまで生きていて、その後、時間$\\delta t$後までに死ぬ確率を時間$\\delta t$で割った値、$h(t)$を考える。すなわち、\n",
    "$$h(t) = \\lim_{\\delta t \\to 0} \\left\\{\\frac{P(t \\leq T < t + \\delta t | T \\geq t)}{\\delta t} \\right\\}$$\n",
    "これは、死亡確率の強度や密度のように考えることができる。  \n",
    "$h(t)$に期間$u$をかけた値$h(t)u$は、$u$が小さければ、その期間の死亡確率ととらえることができる。"
   ]
  },
  {
   "cell_type": "markdown",
   "metadata": {},
   "source": [
    "式変形から、\n",
    "$$h(t) = - \\frac{d}{dt}\\left(log S(t)\\right)$$\n",
    "となることが示せる(式変形の過程は省略)。"
   ]
  },
  {
   "cell_type": "markdown",
   "metadata": {},
   "source": [
    "また、\n",
    "$$H(t) = \\int_0^t h(u)du$$\n",
    "とおくと、\n",
    "$$S(t) = exp\\left(-H(t)\\right)$$\n",
    "となることが示せる(式変形の過程は省略)。"
   ]
  },
  {
   "cell_type": "markdown",
   "metadata": {},
   "source": [
    "結果、$H(t)$は\n",
    "$$H(t) = -logS(t)$$\n",
    "とも書ける。"
   ]
  },
  {
   "cell_type": "markdown",
   "metadata": {},
   "source": [
    "※今回省略した式変形については[英語版Wikipedia](https://en.wikipedia.org/wiki/Survival_analysis)に掲載がある。生存分析の教科書としては、[医薬統計のための生存時間データ解析](https://www.amazon.co.jp/dp/4320110358/ref=cm_sw_em_r_mt_dp_U_ye.wDb4BDF7AY)や、[生存時間解析入門](https://www.amazon.co.jp/dp/4130623125/ref=cm_sw_em_r_mt_dp_U_Ye.wDbCMDQF9K)がわかりやすい。"
   ]
  },
  {
   "cell_type": "markdown",
   "metadata": {},
   "source": [
    "## 今回のケース(ワランティ数の予測)への生存分析の適用の方針"
   ]
  },
  {
   "cell_type": "markdown",
   "metadata": {},
   "source": [
    "0. データを訓練データとバリデーションデータとテストデータに分割する。今回は、一旦、訓練データを2013年12月31日まで、バリデーションデータを2014年1月1日~2014年12月31日、テストデータを2015年1月1日以降とした。\n",
    "1. 各パーツについて、購入から故障、または交換から故障までの期間の生存期間データを集計する\n",
    "2. 生存関数をモデリングする。\n",
    "3. 生存関数モデルによって、稼働中の全車両の当該パーツについて、故障までの予測期間、及び予想故障月(予測時点+故障までの予測期間)を計算する。\n",
    "4. 得られた故障予測月データから、各月の予測故障件数を集計する。"
   ]
  },
  {
   "cell_type": "markdown",
   "metadata": {},
   "source": [
    "## データからの生存期間の算出と集計"
   ]
  },
  {
   "cell_type": "markdown",
   "metadata": {},
   "source": [
    "まず、データから各パーツの生存期間を算出する。今回のケースでは、生存期間は以下のように分類できる。"
   ]
  },
  {
   "cell_type": "markdown",
   "metadata": {},
   "source": [
    "![生存期間の分類の図](figures/type_survival_term.jpg)"
   ]
  },
  {
   "cell_type": "markdown",
   "metadata": {},
   "source": [
    "タイプ1とタイプ2~4で、分けてテーブルを作成、集計する。"
   ]
  },
  {
   "cell_type": "markdown",
   "metadata": {
    "heading_collapsed": true
   },
   "source": [
    "### (Optional)PostgreSQLとPython"
   ]
  },
  {
   "cell_type": "markdown",
   "metadata": {
    "hidden": true
   },
   "source": [
    "今回はSQLiteで実行すると遅い & 使用できない関数があったので、PostgreSQLを使用して分析した。  \n",
    "Suzuki様環境からのTeradataへのアクセス環境が整い次第、Teradataに移行予定であるが、経過措置としてPostgreSQLを利用する。"
   ]
  },
  {
   "cell_type": "markdown",
   "metadata": {
    "hidden": true
   },
   "source": [
    "また、PostgreSQLはMacBookに容易にローカル環境でセットアップすることが可能である。"
   ]
  },
  {
   "cell_type": "markdown",
   "metadata": {
    "hidden": true
   },
   "source": [
    "[こちら](https://qiita.com/mochizukikotaro/items/84204d5c46b67c9b74f4)を参考に、以下の手順で環境をセットアップする。"
   ]
  },
  {
   "cell_type": "markdown",
   "metadata": {
    "hidden": true
   },
   "source": [
    "1. `brew install postgresql`  でHomebrewを使ってインストール  \n",
    "2. `postgres --version`　でインストールされていることを確認  \n",
    "3. `postgres -D /usr/local/var/postgres`  でサーバー起動。デフォルト設定では、localhost(127.0.0.1)のポート5432でアクセスができる。  \n",
    "4. 別ターミナルを開き、`psql -l`  でデータベース一覧を確認。もし新たにデータベースを作成する場合は、`createdb hogehoge`のように作成。  \n",
    "5. `psql -d hogehoge`でローカルのデータベースhogehogeにログイン。`psql -p 5432 -h localhost -d hogehoge`と明示してもよい。\n",
    "6. サーバーを起動したターミナルで<kbd>Ctrl + d</kbd>でサーバーを停止できる"
   ]
  },
  {
   "cell_type": "markdown",
   "metadata": {
    "hidden": true
   },
   "source": [
    "Python側もセットアップする必要がある。今回はpsycopg2というライブラリを使用する。`conda install psycopg2 `でインストールする。"
   ]
  },
  {
   "cell_type": "markdown",
   "metadata": {
    "hidden": true
   },
   "source": [
    "インストール後、以下のようにして、接続インスタンスを生成する。"
   ]
  },
  {
   "cell_type": "code",
   "execution_count": 1,
   "metadata": {
    "ExecuteTime": {
     "end_time": "2019-08-20T04:51:43.265862Z",
     "start_time": "2019-08-20T04:51:37.613086Z"
    },
    "hidden": true
   },
   "outputs": [],
   "source": [
    "import psycopg2\n",
    "from psycopg2.extras import DictCursor\n",
    "import pandas as pd"
   ]
  },
  {
   "cell_type": "code",
   "execution_count": 25,
   "metadata": {
    "ExecuteTime": {
     "end_time": "2019-08-20T04:56:26.692185Z",
     "start_time": "2019-08-20T04:56:26.668308Z"
    },
    "hidden": true
   },
   "outputs": [],
   "source": [
    "# formatは'postgresql://{ユーザー}:{パスワード}@{ホスト}:{ポート}/{データベース}'\n",
    "# 眞田環境ではユーザーもパスワードも特に設定せずデフォルトのままなので、それらを省略し、以下のようにして生成\n",
    "# 裏側でsqlalchemyが勝手にpsycopg2を呼び出してくれる\n",
    "con = psycopg2.connect('postgresql://:@localhost:5432/suzuki_phase2')"
   ]
  },
  {
   "cell_type": "code",
   "execution_count": 29,
   "metadata": {
    "ExecuteTime": {
     "end_time": "2019-08-20T05:00:58.587269Z",
     "start_time": "2019-08-20T05:00:58.582814Z"
    },
    "hidden": true
   },
   "outputs": [],
   "source": [
    "# 結果をpandas dataframeで取得するための関数をつくっておく\n",
    "def createDFfromquery(query, con):\n",
    "    with con.cursor(cursor_factory=DictCursor) as cur:\n",
    "        try:\n",
    "            cur.execute(query)\n",
    "            rows = cur.fetchall()\n",
    "            df = pd.DataFrame([dict(row) for row in rows])\n",
    "            return df\n",
    "        except:\n",
    "            con.rollback()\n",
    "            raise"
   ]
  },
  {
   "cell_type": "code",
   "execution_count": 32,
   "metadata": {
    "ExecuteTime": {
     "end_time": "2019-08-20T05:01:13.651225Z",
     "start_time": "2019-08-20T05:01:13.587683Z"
    },
    "hidden": true
   },
   "outputs": [
    {
     "data": {
      "text/html": [
       "<div>\n",
       "<style scoped>\n",
       "    .dataframe tbody tr th:only-of-type {\n",
       "        vertical-align: middle;\n",
       "    }\n",
       "\n",
       "    .dataframe tbody tr th {\n",
       "        vertical-align: top;\n",
       "    }\n",
       "\n",
       "    .dataframe thead th {\n",
       "        text-align: right;\n",
       "    }\n",
       "</style>\n",
       "<table border=\"1\" class=\"dataframe\">\n",
       "  <thead>\n",
       "    <tr style=\"text-align: right;\">\n",
       "      <th></th>\n",
       "      <th>w_base_cd</th>\n",
       "      <th>w_causal_part_no</th>\n",
       "      <th>w_cfc_amt</th>\n",
       "      <th>w_cfc_company_cd</th>\n",
       "      <th>w_cfc_rate</th>\n",
       "      <th>w_crt_time_stamp</th>\n",
       "      <th>w_dist_cd</th>\n",
       "      <th>w_dist_country_cd</th>\n",
       "      <th>w_dist_issue_no</th>\n",
       "      <th>w_div1</th>\n",
       "      <th>w_div2</th>\n",
       "      <th>w_div3</th>\n",
       "      <th>w_dmex_div</th>\n",
       "      <th>w_dtc_1</th>\n",
       "      <th>w_dtc_2</th>\n",
       "      <th>w_failure_date</th>\n",
       "      <th>w_fc_to_failure</th>\n",
       "      <th>w_fcok</th>\n",
       "      <th>w_field_claim_div</th>\n",
       "      <th>w_fixed_div</th>\n",
       "      <th>w_key</th>\n",
       "      <th>w_labor_amt</th>\n",
       "      <th>w_labor_hour</th>\n",
       "      <th>w_mileage</th>\n",
       "      <th>w_mileage_div</th>\n",
       "      <th>w_minus_div</th>\n",
       "      <th>w_operation_cd</th>\n",
       "      <th>w_parts_amt</th>\n",
       "      <th>w_process_month</th>\n",
       "      <th>w_prod_base_cd</th>\n",
       "      <th>w_prod_div</th>\n",
       "      <th>w_prod_model_cd</th>\n",
       "      <th>w_sales_date</th>\n",
       "      <th>w_sales_to_failure</th>\n",
       "      <th>w_sb_no</th>\n",
       "      <th>w_shipping_amt</th>\n",
       "      <th>w_shop_cd</th>\n",
       "      <th>w_shop_div</th>\n",
       "      <th>w_src_div</th>\n",
       "      <th>w_src_key</th>\n",
       "      <th>w_sublet_amt</th>\n",
       "      <th>w_sublet_hour</th>\n",
       "      <th>w_total_amt</th>\n",
       "      <th>w_trouble_cc</th>\n",
       "      <th>w_trouble_cp</th>\n",
       "      <th>w_trouble_df</th>\n",
       "      <th>w_trouble_mp</th>\n",
       "      <th>w_vin</th>\n",
       "    </tr>\n",
       "  </thead>\n",
       "  <tbody>\n",
       "    <tr>\n",
       "      <th>0</th>\n",
       "      <td>100100</td>\n",
       "      <td>32140-35410</td>\n",
       "      <td>217.00</td>\n",
       "      <td>3149</td>\n",
       "      <td>13</td>\n",
       "      <td>2017-06-16 07:53:47.729630</td>\n",
       "      <td>4992A</td>\n",
       "      <td>PK</td>\n",
       "      <td>9704034</td>\n",
       "      <td>None</td>\n",
       "      <td>0</td>\n",
       "      <td>0</td>\n",
       "      <td>1</td>\n",
       "      <td>None</td>\n",
       "      <td>None</td>\n",
       "      <td>19970305</td>\n",
       "      <td>11</td>\n",
       "      <td>19960401</td>\n",
       "      <td>1</td>\n",
       "      <td>1</td>\n",
       "      <td>WRPKJP199705A000034</td>\n",
       "      <td>325.00</td>\n",
       "      <td>0.5</td>\n",
       "      <td>2100</td>\n",
       "      <td>K</td>\n",
       "      <td>1</td>\n",
       "      <td>EB9999</td>\n",
       "      <td>708.00</td>\n",
       "      <td>199705</td>\n",
       "      <td>100100</td>\n",
       "      <td>A</td>\n",
       "      <td>X3427</td>\n",
       "      <td>19960715</td>\n",
       "      <td>8</td>\n",
       "      <td>None</td>\n",
       "      <td>757.00</td>\n",
       "      <td>None</td>\n",
       "      <td>1</td>\n",
       "      <td>1</td>\n",
       "      <td>1997054992A9704034</td>\n",
       "      <td>0.00</td>\n",
       "      <td>0.0</td>\n",
       "      <td>1790.00</td>\n",
       "      <td>None</td>\n",
       "      <td>01</td>\n",
       "      <td>37</td>\n",
       "      <td>None</td>\n",
       "      <td>A80-PK106054</td>\n",
       "    </tr>\n",
       "    <tr>\n",
       "      <th>1</th>\n",
       "      <td>100100</td>\n",
       "      <td>32140-35410</td>\n",
       "      <td>217.00</td>\n",
       "      <td>3149</td>\n",
       "      <td>13</td>\n",
       "      <td>2017-06-16 07:53:47.731448</td>\n",
       "      <td>4992A</td>\n",
       "      <td>PK</td>\n",
       "      <td>9704053</td>\n",
       "      <td>None</td>\n",
       "      <td>0</td>\n",
       "      <td>0</td>\n",
       "      <td>1</td>\n",
       "      <td>None</td>\n",
       "      <td>None</td>\n",
       "      <td>19970226</td>\n",
       "      <td>8</td>\n",
       "      <td>19960601</td>\n",
       "      <td>1</td>\n",
       "      <td>1</td>\n",
       "      <td>WRPKJP199705A000035</td>\n",
       "      <td>325.00</td>\n",
       "      <td>0.5</td>\n",
       "      <td>0</td>\n",
       "      <td>K</td>\n",
       "      <td>1</td>\n",
       "      <td>EB9999</td>\n",
       "      <td>708.00</td>\n",
       "      <td>199705</td>\n",
       "      <td>100100</td>\n",
       "      <td>A</td>\n",
       "      <td>X3427</td>\n",
       "      <td>19970226</td>\n",
       "      <td>0</td>\n",
       "      <td>None</td>\n",
       "      <td>757.00</td>\n",
       "      <td>None</td>\n",
       "      <td>1</td>\n",
       "      <td>1</td>\n",
       "      <td>1997054992A9704053</td>\n",
       "      <td>0.00</td>\n",
       "      <td>0.0</td>\n",
       "      <td>1790.00</td>\n",
       "      <td>None</td>\n",
       "      <td>01</td>\n",
       "      <td>37</td>\n",
       "      <td>None</td>\n",
       "      <td>A80-PK106383</td>\n",
       "    </tr>\n",
       "  </tbody>\n",
       "</table>\n",
       "</div>"
      ],
      "text/plain": [
       "  w_base_cd w_causal_part_no w_cfc_amt w_cfc_company_cd  w_cfc_rate  \\\n",
       "0    100100      32140-35410    217.00             3149          13   \n",
       "1    100100      32140-35410    217.00             3149          13   \n",
       "\n",
       "            w_crt_time_stamp w_dist_cd w_dist_country_cd w_dist_issue_no  \\\n",
       "0 2017-06-16 07:53:47.729630     4992A                PK         9704034   \n",
       "1 2017-06-16 07:53:47.731448     4992A                PK         9704053   \n",
       "\n",
       "  w_div1 w_div2 w_div3 w_dmex_div w_dtc_1 w_dtc_2 w_failure_date  \\\n",
       "0   None      0      0          1    None    None       19970305   \n",
       "1   None      0      0          1    None    None       19970226   \n",
       "\n",
       "   w_fc_to_failure    w_fcok w_field_claim_div w_fixed_div  \\\n",
       "0               11  19960401                 1           1   \n",
       "1                8  19960601                 1           1   \n",
       "\n",
       "                 w_key w_labor_amt w_labor_hour  w_mileage w_mileage_div  \\\n",
       "0  WRPKJP199705A000034      325.00          0.5       2100             K   \n",
       "1  WRPKJP199705A000035      325.00          0.5          0             K   \n",
       "\n",
       "   w_minus_div w_operation_cd w_parts_amt w_process_month w_prod_base_cd  \\\n",
       "0            1         EB9999      708.00          199705         100100   \n",
       "1            1         EB9999      708.00          199705         100100   \n",
       "\n",
       "  w_prod_div w_prod_model_cd w_sales_date  w_sales_to_failure w_sb_no  \\\n",
       "0          A           X3427     19960715                   8    None   \n",
       "1          A           X3427     19970226                   0    None   \n",
       "\n",
       "  w_shipping_amt w_shop_cd w_shop_div w_src_div           w_src_key  \\\n",
       "0         757.00      None          1         1  1997054992A9704034   \n",
       "1         757.00      None          1         1  1997054992A9704053   \n",
       "\n",
       "  w_sublet_amt w_sublet_hour w_total_amt w_trouble_cc w_trouble_cp  \\\n",
       "0         0.00           0.0     1790.00         None           01   \n",
       "1         0.00           0.0     1790.00         None           01   \n",
       "\n",
       "  w_trouble_df w_trouble_mp         w_vin  \n",
       "0           37         None  A80-PK106054  \n",
       "1           37         None  A80-PK106383  "
      ]
     },
     "metadata": {},
     "output_type": "display_data"
    }
   ],
   "source": [
    "with pd.option_context(\"display.max_columns\", 1000):\n",
    "    display(createDFfromquery(\"select * from warranty limit 2\", con))"
   ]
  },
  {
   "cell_type": "code",
   "execution_count": 33,
   "metadata": {
    "ExecuteTime": {
     "end_time": "2019-08-20T05:02:27.089785Z",
     "start_time": "2019-08-20T05:02:27.086576Z"
    },
    "hidden": true
   },
   "outputs": [],
   "source": [
    "# 結果を取得しないタイプの関数も作っておく\n",
    "def executequery(query, con):\n",
    "    with con.cursor() as cur:\n",
    "        try:\n",
    "            cur.execute(query)\n",
    "        except:\n",
    "            con.rollback()\n",
    "            raise"
   ]
  },
  {
   "cell_type": "markdown",
   "metadata": {},
   "source": [
    "### データクレンジング"
   ]
  },
  {
   "cell_type": "markdown",
   "metadata": {},
   "source": [
    "変な日付が混ざっているので、それらを含むレコードを除去する。"
   ]
  },
  {
   "cell_type": "markdown",
   "metadata": {},
   "source": [
    "#### W_FAILURE_DATE列"
   ]
  },
  {
   "cell_type": "code",
   "execution_count": 5,
   "metadata": {
    "ExecuteTime": {
     "end_time": "2019-08-20T04:52:12.460511Z",
     "start_time": "2019-08-20T04:52:00.966452Z"
    }
   },
   "outputs": [],
   "source": [
    "df_w_failure_date_distinct = createDFfromquery(\"\"\"\n",
    "    select distinct(w_failure_date) from warranty order by w_failure_date\"\"\",\n",
    "                                              con)"
   ]
  },
  {
   "cell_type": "code",
   "execution_count": 6,
   "metadata": {
    "ExecuteTime": {
     "end_time": "2019-08-20T04:52:12.473273Z",
     "start_time": "2019-08-20T04:52:12.462405Z"
    }
   },
   "outputs": [],
   "source": [
    "df_w_failure_date_distinct[\"is_error\"] = (pd.to_datetime(\n",
    "    df_w_failure_date_distinct.w_failure_date, errors=\"coerce\").isna())"
   ]
  },
  {
   "cell_type": "code",
   "execution_count": 7,
   "metadata": {
    "ExecuteTime": {
     "end_time": "2019-08-20T04:52:12.482920Z",
     "start_time": "2019-08-20T04:52:12.476018Z"
    }
   },
   "outputs": [
    {
     "data": {
      "text/plain": [
       "['00000000', '000001', '000003', '000008', '000009']"
      ]
     },
     "execution_count": 7,
     "metadata": {},
     "output_type": "execute_result"
    }
   ],
   "source": [
    "w_failure_date_error_list = (df_w_failure_date_distinct\n",
    "                             .loc[df_w_failure_date_distinct.is_error, \"w_failure_date\"]\n",
    "                             .to_list())\n",
    "w_failure_date_error_list[:5]"
   ]
  },
  {
   "cell_type": "code",
   "execution_count": 8,
   "metadata": {
    "ExecuteTime": {
     "end_time": "2019-08-20T04:52:12.488685Z",
     "start_time": "2019-08-20T04:52:12.485392Z"
    }
   },
   "outputs": [],
   "source": [
    "error_list_str = \",\".join([\"'{}'\".format(c) for c in w_failure_date_error_list])"
   ]
  },
  {
   "cell_type": "code",
   "execution_count": 9,
   "metadata": {
    "ExecuteTime": {
     "end_time": "2019-08-20T04:52:23.755741Z",
     "start_time": "2019-08-20T04:52:12.490500Z"
    }
   },
   "outputs": [],
   "source": [
    "df_w_failure_date_error = createDFfromquery(\"\"\"select w_failure_date, count(*) from warranty\n",
    "where w_failure_date in\n",
    "({error_list_str})\n",
    "group by w_failure_date;\"\"\".format(error_list_str = error_list_str), con)"
   ]
  },
  {
   "cell_type": "code",
   "execution_count": 212,
   "metadata": {
    "ExecuteTime": {
     "end_time": "2019-08-21T04:19:50.094897Z",
     "start_time": "2019-08-21T04:19:50.087787Z"
    }
   },
   "outputs": [
    {
     "name": "stdout",
     "output_type": "stream",
     "text": [
      "select w_failure_date, count(*) from warranty\n",
      "where w_failure_date in\n",
      "('00000000','000001','000003','000008','000009','000010','000011','000012','000013','000014','000015','000016','000017','000018','000019','000020','000021','000022','000024','000026','000027','000028','000030','000032','000050','000052','00230705','01080114','05050720','06122700','10070925','11101108','11101111','12120319','13031900','13040300','19970229','19970230','19970631','20130931')\n",
      "group by w_failure_date;\n"
     ]
    }
   ],
   "source": [
    "print(\"\"\"select w_failure_date, count(*) from warranty\n",
    "where w_failure_date in\n",
    "({error_list_str})\n",
    "group by w_failure_date;\"\"\".format(error_list_str = error_list_str))"
   ]
  },
  {
   "cell_type": "code",
   "execution_count": 11,
   "metadata": {
    "ExecuteTime": {
     "end_time": "2019-08-20T04:52:23.772075Z",
     "start_time": "2019-08-20T04:52:23.767327Z"
    }
   },
   "outputs": [
    {
     "data": {
      "text/plain": [
       "16386"
      ]
     },
     "execution_count": 11,
     "metadata": {},
     "output_type": "execute_result"
    }
   ],
   "source": [
    "df_w_failure_date_error[\"count\"].sum()"
   ]
  },
  {
   "cell_type": "markdown",
   "metadata": {},
   "source": [
    "16386レコードを除去する。"
   ]
  },
  {
   "cell_type": "markdown",
   "metadata": {
    "ExecuteTime": {
     "end_time": "2019-08-19T06:05:24.411477Z",
     "start_time": "2019-08-19T06:05:24.402765Z"
    }
   },
   "source": [
    "#### W_SALES_DATE"
   ]
  },
  {
   "cell_type": "code",
   "execution_count": 12,
   "metadata": {
    "ExecuteTime": {
     "end_time": "2019-08-20T04:52:35.467791Z",
     "start_time": "2019-08-20T04:52:23.775801Z"
    }
   },
   "outputs": [
    {
     "data": {
      "text/plain": [
       "['0', '00000000', '00000020', '02021116', '06090520']"
      ]
     },
     "execution_count": 12,
     "metadata": {},
     "output_type": "execute_result"
    }
   ],
   "source": [
    "df_w_sales_date_distinct = createDFfromquery(\"\"\"\n",
    "    select distinct(w_sales_date) from warranty order by w_sales_date\"\"\",\n",
    "                                               con)\n",
    "df_w_sales_date_distinct[\"is_error\"] = (pd.to_datetime(\n",
    "    df_w_sales_date_distinct.w_sales_date, errors=\"coerce\").isna())\n",
    "w_sales_date_error_list = (df_w_sales_date_distinct\n",
    "                             .loc[df_w_sales_date_distinct.is_error, \"w_sales_date\"]\n",
    "                             .to_list())\n",
    "w_sales_date_error_list[:5]"
   ]
  },
  {
   "cell_type": "code",
   "execution_count": 13,
   "metadata": {
    "ExecuteTime": {
     "end_time": "2019-08-20T04:52:41.804940Z",
     "start_time": "2019-08-20T04:52:35.470336Z"
    }
   },
   "outputs": [
    {
     "data": {
      "text/html": [
       "<div>\n",
       "<style scoped>\n",
       "    .dataframe tbody tr th:only-of-type {\n",
       "        vertical-align: middle;\n",
       "    }\n",
       "\n",
       "    .dataframe tbody tr th {\n",
       "        vertical-align: top;\n",
       "    }\n",
       "\n",
       "    .dataframe thead th {\n",
       "        text-align: right;\n",
       "    }\n",
       "</style>\n",
       "<table border=\"1\" class=\"dataframe\">\n",
       "  <thead>\n",
       "    <tr style=\"text-align: right;\">\n",
       "      <th></th>\n",
       "      <th>count</th>\n",
       "      <th>w_sales_date</th>\n",
       "    </tr>\n",
       "  </thead>\n",
       "  <tbody>\n",
       "    <tr>\n",
       "      <th>0</th>\n",
       "      <td>133</td>\n",
       "      <td>0</td>\n",
       "    </tr>\n",
       "    <tr>\n",
       "      <th>1</th>\n",
       "      <td>94034</td>\n",
       "      <td>00000000</td>\n",
       "    </tr>\n",
       "    <tr>\n",
       "      <th>2</th>\n",
       "      <td>2</td>\n",
       "      <td>00000020</td>\n",
       "    </tr>\n",
       "    <tr>\n",
       "      <th>3</th>\n",
       "      <td>1</td>\n",
       "      <td>02021116</td>\n",
       "    </tr>\n",
       "    <tr>\n",
       "      <th>4</th>\n",
       "      <td>1</td>\n",
       "      <td>06090520</td>\n",
       "    </tr>\n",
       "  </tbody>\n",
       "</table>\n",
       "</div>"
      ],
      "text/plain": [
       "   count w_sales_date\n",
       "0    133            0\n",
       "1  94034     00000000\n",
       "2      2     00000020\n",
       "3      1     02021116\n",
       "4      1     06090520"
      ]
     },
     "execution_count": 13,
     "metadata": {},
     "output_type": "execute_result"
    }
   ],
   "source": [
    "error_list_str_sales = \",\".join([\"'{}'\".format(c) for c in w_sales_date_error_list])\n",
    "df_w_sales_date_error = createDFfromquery(\"\"\"select w_sales_date, count(*) from warranty\n",
    "where w_sales_date in\n",
    "({error_list_str_sales})\n",
    "group by w_sales_date;\"\"\".format(error_list_str_sales = error_list_str_sales), \n",
    "                                          con)\n",
    "df_w_sales_date_error.head()"
   ]
  },
  {
   "cell_type": "code",
   "execution_count": 14,
   "metadata": {
    "ExecuteTime": {
     "end_time": "2019-08-20T04:52:41.811778Z",
     "start_time": "2019-08-20T04:52:41.807008Z"
    }
   },
   "outputs": [
    {
     "data": {
      "text/plain": [
       "94330"
      ]
     },
     "execution_count": 14,
     "metadata": {},
     "output_type": "execute_result"
    }
   ],
   "source": [
    "df_w_sales_date_error[\"count\"].sum()"
   ]
  },
  {
   "cell_type": "markdown",
   "metadata": {},
   "source": [
    "94330レコードを除去する"
   ]
  },
  {
   "cell_type": "markdown",
   "metadata": {},
   "source": [
    "#### V_FCOK"
   ]
  },
  {
   "cell_type": "code",
   "execution_count": 15,
   "metadata": {
    "ExecuteTime": {
     "end_time": "2019-08-20T04:52:58.723642Z",
     "start_time": "2019-08-20T04:52:41.813934Z"
    }
   },
   "outputs": [
    {
     "data": {
      "text/plain": [
       "['20000100']"
      ]
     },
     "execution_count": 15,
     "metadata": {},
     "output_type": "execute_result"
    }
   ],
   "source": [
    "df_v_fcok_distinct = createDFfromquery(\"\"\"\n",
    "    select distinct(v_fcok) from fcok order by v_fcok\"\"\",con)\n",
    "df_v_fcok_distinct[\"is_error\"] = (pd.to_datetime(\n",
    "    df_v_fcok_distinct.v_fcok, errors=\"coerce\").isna())\n",
    "v_fcok_error_list = (df_v_fcok_distinct\n",
    "                             .loc[df_v_fcok_distinct.is_error, \"v_fcok\"]\n",
    "                             .to_list())\n",
    "v_fcok_error_list[:5]"
   ]
  },
  {
   "cell_type": "code",
   "execution_count": 16,
   "metadata": {
    "ExecuteTime": {
     "end_time": "2019-08-20T04:53:02.083866Z",
     "start_time": "2019-08-20T04:52:58.725356Z"
    }
   },
   "outputs": [
    {
     "data": {
      "text/html": [
       "<div>\n",
       "<style scoped>\n",
       "    .dataframe tbody tr th:only-of-type {\n",
       "        vertical-align: middle;\n",
       "    }\n",
       "\n",
       "    .dataframe tbody tr th {\n",
       "        vertical-align: top;\n",
       "    }\n",
       "\n",
       "    .dataframe thead th {\n",
       "        text-align: right;\n",
       "    }\n",
       "</style>\n",
       "<table border=\"1\" class=\"dataframe\">\n",
       "  <thead>\n",
       "    <tr style=\"text-align: right;\">\n",
       "      <th></th>\n",
       "      <th>count</th>\n",
       "      <th>v_fcok</th>\n",
       "    </tr>\n",
       "  </thead>\n",
       "  <tbody>\n",
       "    <tr>\n",
       "      <th>0</th>\n",
       "      <td>10</td>\n",
       "      <td>20000100</td>\n",
       "    </tr>\n",
       "  </tbody>\n",
       "</table>\n",
       "</div>"
      ],
      "text/plain": [
       "   count    v_fcok\n",
       "0     10  20000100"
      ]
     },
     "execution_count": 16,
     "metadata": {},
     "output_type": "execute_result"
    }
   ],
   "source": [
    "error_list_str_fcok = \",\".join([\"'{}'\".format(c) for c in v_fcok_error_list])\n",
    "df_v_fcok_error = createDFfromquery(\"\"\"select v_fcok, count(*) from fcok\n",
    "where v_fcok in\n",
    "({error_list_str_fcok})\n",
    "group by v_fcok;\"\"\".format(error_list_str_fcok = error_list_str_fcok), con)\n",
    "df_v_fcok_error.head()"
   ]
  },
  {
   "cell_type": "markdown",
   "metadata": {},
   "source": [
    "10レコードを除去する"
   ]
  },
  {
   "cell_type": "markdown",
   "metadata": {},
   "source": [
    "### タイプ1の生存期間データの作成と集計"
   ]
  },
  {
   "cell_type": "markdown",
   "metadata": {},
   "source": [
    "- 購入から、ワランティが一度も申請されずに訓練データ収集最終日(2013年12月31日)を迎えたパーツについて、生存期間を作成・集計する。\n",
    "- どのパーツがどの車種に含まれているかは、**全期間の**ワランティデータを車種コード上3桁、パーツコード上5-3桁を用いて集計し、件数が5件以上あった組み合わせについて、そのパーツ(群)はその車種(群)の車に含まれていると判断する。\n",
    "- 訓練データ期間中のワランティデータに、同一VINで、上5-3桁が同じパーツのワランティレコードが含まれていた場合は、そのVINのそのパーツ(群)は、ワランティ申請歴あり、ということで、集計から除外する。\n",
    "- 生産記録テーブル(fcokテーブル)については購入日を示す項目が含まれていないため、V_FCOK列(FCOK日)をもって、購入日とみなす。実際にはFCOK日から購入日までは1~3ヶ月程度のラグがあることに留意。\n",
    "- 後述のタイプ2~4にあわせ、生存期間の精度(粒度)は月単位とする。"
   ]
  },
  {
   "cell_type": "markdown",
   "metadata": {},
   "source": [
    "**<font color=red>V_SPEC = \"000\"</font>**"
   ]
  },
  {
   "cell_type": "markdown",
   "metadata": {},
   "source": [
    "- 各種フィルタリング条件は以下のとおり。\n",
    "    - 生産テーブル\n",
    "        - 国内拠点生産(V_BASE_CD = '100100')\n",
    "        - 四輪(V_PROD_DIV = 'B')\n",
    "    - ワランティテーブル\n",
    "        - 国内向け出荷分(W_DMEX_DIV = '0')\n",
    "        - 国内拠点生産(W_PROD_BASE_CD = '100100')\n",
    "        - 国内拠点処理(W_BASE_CD = '100100')\n",
    "        - 四輪(W_PROD_DIV = 'B')"
   ]
  },
  {
   "cell_type": "markdown",
   "metadata": {},
   "source": [
    "#### パーツ-モデルの多対多関係を示す中間テーブルの作成"
   ]
  },
  {
   "cell_type": "code",
   "execution_count": 214,
   "metadata": {
    "ExecuteTime": {
     "end_time": "2019-08-21T04:37:33.384279Z",
     "start_time": "2019-08-21T04:37:33.379707Z"
    }
   },
   "outputs": [],
   "source": [
    "cutoff_n_master = 5 # そのパーツ-モデルの組み合わせのワランティデータが5件以上ある場合は、マスターに登録"
   ]
  },
  {
   "cell_type": "code",
   "execution_count": 47,
   "metadata": {
    "ExecuteTime": {
     "end_time": "2019-08-20T15:28:26.876764Z",
     "start_time": "2019-08-20T15:28:26.873732Z"
    }
   },
   "outputs": [],
   "source": [
    "sql_master = \"\"\"\n",
    "select \n",
    "    substr(w_causal_part_no, 1, 9) as causal_part\n",
    "    ,substr(w_prod_model_cd, 1, 3) as model_code\n",
    "    ,count(*) as n\n",
    "from warranty\n",
    "where \n",
    "    W_SALES_DATE not in ({error_list_str_sales})\n",
    "    and W_FAILURE_DATE not in ({error_list_str})\n",
    "    and W_PROD_BASE_CD = '100100'\n",
    "    and W_BASE_CD = '100100'\n",
    "    and W_PROD_DIV = 'B'\n",
    "    and W_DMEX_DIV = '0'\n",
    "    and w_prod_model_cd is not null\n",
    "group by causal_part, model_code\n",
    "having count(*) >= {cutoff_n_master};\n",
    "\"\"\".format(error_list_str_sales=error_list_str_sales, \n",
    "           error_list_str=error_list_str,\n",
    "           cutoff_n_master=cutoff_n_master)"
   ]
  },
  {
   "cell_type": "code",
   "execution_count": 48,
   "metadata": {
    "ExecuteTime": {
     "end_time": "2019-08-20T15:28:44.791379Z",
     "start_time": "2019-08-20T15:28:27.834378Z"
    }
   },
   "outputs": [
    {
     "name": "stdout",
     "output_type": "stream",
     "text": [
      "CPU times: user 228 ms, sys: 17.3 ms, total: 246 ms\n",
      "Wall time: 17 s\n"
     ]
    }
   ],
   "source": [
    "%%time\n",
    "df_part_model_master = createDFfromquery(sql_master, con)"
   ]
  },
  {
   "cell_type": "code",
   "execution_count": 216,
   "metadata": {
    "ExecuteTime": {
     "end_time": "2019-08-21T04:37:42.188529Z",
     "start_time": "2019-08-21T04:37:42.168489Z"
    }
   },
   "outputs": [
    {
     "data": {
      "text/html": [
       "<div>\n",
       "<style scoped>\n",
       "    .dataframe tbody tr th:only-of-type {\n",
       "        vertical-align: middle;\n",
       "    }\n",
       "\n",
       "    .dataframe tbody tr th {\n",
       "        vertical-align: top;\n",
       "    }\n",
       "\n",
       "    .dataframe thead th {\n",
       "        text-align: right;\n",
       "    }\n",
       "</style>\n",
       "<table border=\"1\" class=\"dataframe\">\n",
       "  <thead>\n",
       "    <tr style=\"text-align: right;\">\n",
       "      <th></th>\n",
       "      <th>causal_part</th>\n",
       "      <th>model_code</th>\n",
       "      <th>n</th>\n",
       "    </tr>\n",
       "  </thead>\n",
       "  <tbody>\n",
       "    <tr>\n",
       "      <th>0</th>\n",
       "      <td>*1150-JB2</td>\n",
       "      <td>YR6</td>\n",
       "      <td>16</td>\n",
       "    </tr>\n",
       "    <tr>\n",
       "      <th>1</th>\n",
       "      <td>*1150-MC1</td>\n",
       "      <td>YJ0</td>\n",
       "      <td>8</td>\n",
       "    </tr>\n",
       "    <tr>\n",
       "      <th>2</th>\n",
       "      <td>*1150-MC2</td>\n",
       "      <td>YJ0</td>\n",
       "      <td>14</td>\n",
       "    </tr>\n",
       "    <tr>\n",
       "      <th>3</th>\n",
       "      <td>*2271-CT5</td>\n",
       "      <td>YC0</td>\n",
       "      <td>10</td>\n",
       "    </tr>\n",
       "    <tr>\n",
       "      <th>4</th>\n",
       "      <td>*2271-CV5</td>\n",
       "      <td>YC0</td>\n",
       "      <td>6</td>\n",
       "    </tr>\n",
       "    <tr>\n",
       "      <th>5</th>\n",
       "      <td>*2271-DA5</td>\n",
       "      <td>YH5</td>\n",
       "      <td>6</td>\n",
       "    </tr>\n",
       "    <tr>\n",
       "      <th>6</th>\n",
       "      <td>*2271-MC1</td>\n",
       "      <td>YJ0</td>\n",
       "      <td>6</td>\n",
       "    </tr>\n",
       "    <tr>\n",
       "      <th>7</th>\n",
       "      <td>*2271-MC2</td>\n",
       "      <td>YJ0</td>\n",
       "      <td>21</td>\n",
       "    </tr>\n",
       "    <tr>\n",
       "      <th>8</th>\n",
       "      <td>*2400-DB5</td>\n",
       "      <td>YH5</td>\n",
       "      <td>5</td>\n",
       "    </tr>\n",
       "    <tr>\n",
       "      <th>9</th>\n",
       "      <td>*2470-CT5</td>\n",
       "      <td>YC0</td>\n",
       "      <td>9</td>\n",
       "    </tr>\n",
       "    <tr>\n",
       "      <th>10</th>\n",
       "      <td>*2470-MC1</td>\n",
       "      <td>YJ0</td>\n",
       "      <td>7</td>\n",
       "    </tr>\n",
       "    <tr>\n",
       "      <th>11</th>\n",
       "      <td>*2470-MC2</td>\n",
       "      <td>YJ0</td>\n",
       "      <td>12</td>\n",
       "    </tr>\n",
       "    <tr>\n",
       "      <th>12</th>\n",
       "      <td>00000-000</td>\n",
       "      <td>YC0</td>\n",
       "      <td>82</td>\n",
       "    </tr>\n",
       "    <tr>\n",
       "      <th>13</th>\n",
       "      <td>00000-000</td>\n",
       "      <td>YC1</td>\n",
       "      <td>14</td>\n",
       "    </tr>\n",
       "    <tr>\n",
       "      <th>14</th>\n",
       "      <td>00000-000</td>\n",
       "      <td>YD2</td>\n",
       "      <td>18</td>\n",
       "    </tr>\n",
       "    <tr>\n",
       "      <th>15</th>\n",
       "      <td>00000-000</td>\n",
       "      <td>YF1</td>\n",
       "      <td>12</td>\n",
       "    </tr>\n",
       "    <tr>\n",
       "      <th>16</th>\n",
       "      <td>00000-000</td>\n",
       "      <td>YH0</td>\n",
       "      <td>38</td>\n",
       "    </tr>\n",
       "    <tr>\n",
       "      <th>17</th>\n",
       "      <td>00000-000</td>\n",
       "      <td>YH4</td>\n",
       "      <td>10</td>\n",
       "    </tr>\n",
       "    <tr>\n",
       "      <th>18</th>\n",
       "      <td>00000-000</td>\n",
       "      <td>YH5</td>\n",
       "      <td>233</td>\n",
       "    </tr>\n",
       "    <tr>\n",
       "      <th>19</th>\n",
       "      <td>00000-000</td>\n",
       "      <td>YJ0</td>\n",
       "      <td>121</td>\n",
       "    </tr>\n",
       "    <tr>\n",
       "      <th>20</th>\n",
       "      <td>00000-000</td>\n",
       "      <td>YJ1</td>\n",
       "      <td>9</td>\n",
       "    </tr>\n",
       "    <tr>\n",
       "      <th>21</th>\n",
       "      <td>00000-000</td>\n",
       "      <td>YK2</td>\n",
       "      <td>5</td>\n",
       "    </tr>\n",
       "    <tr>\n",
       "      <th>22</th>\n",
       "      <td>00000-000</td>\n",
       "      <td>YR0</td>\n",
       "      <td>29</td>\n",
       "    </tr>\n",
       "    <tr>\n",
       "      <th>23</th>\n",
       "      <td>00000-000</td>\n",
       "      <td>YR6</td>\n",
       "      <td>33</td>\n",
       "    </tr>\n",
       "    <tr>\n",
       "      <th>24</th>\n",
       "      <td>00000-000</td>\n",
       "      <td>YS7</td>\n",
       "      <td>5</td>\n",
       "    </tr>\n",
       "    <tr>\n",
       "      <th>25</th>\n",
       "      <td>00010-000</td>\n",
       "      <td>YH0</td>\n",
       "      <td>5</td>\n",
       "    </tr>\n",
       "    <tr>\n",
       "      <th>26</th>\n",
       "      <td>00010-000</td>\n",
       "      <td>YJ0</td>\n",
       "      <td>5</td>\n",
       "    </tr>\n",
       "    <tr>\n",
       "      <th>27</th>\n",
       "      <td>01411-061</td>\n",
       "      <td>YC0</td>\n",
       "      <td>6</td>\n",
       "    </tr>\n",
       "    <tr>\n",
       "      <th>28</th>\n",
       "      <td>01411-061</td>\n",
       "      <td>YH5</td>\n",
       "      <td>23</td>\n",
       "    </tr>\n",
       "    <tr>\n",
       "      <th>29</th>\n",
       "      <td>01411-082</td>\n",
       "      <td>YC1</td>\n",
       "      <td>28</td>\n",
       "    </tr>\n",
       "  </tbody>\n",
       "</table>\n",
       "</div>"
      ],
      "text/plain": [
       "   causal_part model_code    n\n",
       "0    *1150-JB2        YR6   16\n",
       "1    *1150-MC1        YJ0    8\n",
       "2    *1150-MC2        YJ0   14\n",
       "3    *2271-CT5        YC0   10\n",
       "4    *2271-CV5        YC0    6\n",
       "5    *2271-DA5        YH5    6\n",
       "6    *2271-MC1        YJ0    6\n",
       "7    *2271-MC2        YJ0   21\n",
       "8    *2400-DB5        YH5    5\n",
       "9    *2470-CT5        YC0    9\n",
       "10   *2470-MC1        YJ0    7\n",
       "11   *2470-MC2        YJ0   12\n",
       "12   00000-000        YC0   82\n",
       "13   00000-000        YC1   14\n",
       "14   00000-000        YD2   18\n",
       "15   00000-000        YF1   12\n",
       "16   00000-000        YH0   38\n",
       "17   00000-000        YH4   10\n",
       "18   00000-000        YH5  233\n",
       "19   00000-000        YJ0  121\n",
       "20   00000-000        YJ1    9\n",
       "21   00000-000        YK2    5\n",
       "22   00000-000        YR0   29\n",
       "23   00000-000        YR6   33\n",
       "24   00000-000        YS7    5\n",
       "25   00010-000        YH0    5\n",
       "26   00010-000        YJ0    5\n",
       "27   01411-061        YC0    6\n",
       "28   01411-061        YH5   23\n",
       "29   01411-082        YC1   28"
      ]
     },
     "execution_count": 216,
     "metadata": {},
     "output_type": "execute_result"
    }
   ],
   "source": [
    "df_part_model_master.head(30)"
   ]
  },
  {
   "cell_type": "code",
   "execution_count": 51,
   "metadata": {
    "ExecuteTime": {
     "end_time": "2019-08-20T15:29:49.651369Z",
     "start_time": "2019-08-20T15:29:35.995560Z"
    }
   },
   "outputs": [],
   "source": [
    "# 一時テーブルに保存しておく\n",
    "executequery(\"create temp table part_model_master as \" + sql_master, con)"
   ]
  },
  {
   "cell_type": "markdown",
   "metadata": {},
   "source": [
    "#### 集計を実行"
   ]
  },
  {
   "cell_type": "code",
   "execution_count": 41,
   "metadata": {
    "ExecuteTime": {
     "end_time": "2019-08-20T15:25:23.237773Z",
     "start_time": "2019-08-20T15:25:23.227860Z"
    }
   },
   "outputs": [],
   "source": [
    "# 今回対象とするパーツ群\n",
    "selected_part_TD = [\"27610-76G\", \"37950-58J\", \"95411-82K\", \n",
    "                    \"09283-350\", \"33920-77F\", \"33220-76G\", \"55311-75F\",\n",
    "                    \"55311-72J\", \"53200-58J\", \"84702-70K\"]\n",
    "target_parts_str = \",\".join([\"'{}'\".format(part) for part in selected_part_TD])\n",
    "\n",
    "cutoff_date = '2014-01-01' # 訓練データ最終日 + 1"
   ]
  },
  {
   "cell_type": "code",
   "execution_count": 45,
   "metadata": {
    "ExecuteTime": {
     "end_time": "2019-08-20T15:26:05.473613Z",
     "start_time": "2019-08-20T15:26:05.469737Z"
    }
   },
   "outputs": [],
   "source": [
    "sql_term_type1 = \"\"\"\n",
    "-- 生産テーブルから必要なデータを抽出し、FCOKを月単位にならす\n",
    "with t_fcok as (\n",
    "    select \n",
    "        to_date(substr(v_fcok, 1, 6), 'YYYYMM') as fcok_month\n",
    "        ,substr(v_prod_model_cd, 1, 3) as model_code\n",
    "        ,v_vin\n",
    "    from fcok\n",
    "    where v_base_cd = '100100'\n",
    "        and v_prod_div = 'B'\n",
    "        and v_fcok not in ('20000100')\n",
    "        and v_fcok < '{cutoff_date}'\n",
    ")\n",
    "\n",
    "-- ワランティテーブルから必要なデータを抽出し、パーツ番号を上5-3桁に切り取り、(VIN-パーツ番号)がユニークになるように\n",
    ", t_warranty as (\n",
    "    select \n",
    "        substr(w_causal_part_no, 1, 9) as causal_part\n",
    "        ,w_vin\n",
    "    from warranty\n",
    "    where \n",
    "        W_SALES_DATE not in ({error_list_str_sales})\n",
    "        and W_FAILURE_DATE not in ({error_list_str})\n",
    "        and W_PROD_BASE_CD = '100100'\n",
    "        and W_BASE_CD = '100100'\n",
    "        and W_PROD_DIV = 'B'\n",
    "        and W_DMEX_DIV = '0'\n",
    "        and to_date(w_process_month,'YYYYMM') < '{cutoff_date}'\n",
    "    group by w_vin, causal_part\n",
    ")\n",
    "\n",
    "-- 抽出した生産テーブルとパーツ-モデルマスタデータから、対象パーツについて、生産された全パーツのテーブルを作成。生存期間も計算。\n",
    ", term_all as (\n",
    "    select\n",
    "        t_fcok.model_code\n",
    "        ,causal_part\n",
    "        ,extract(year from age('{cutoff_date}', fcok_month))*12\n",
    "                + extract(month from age('{cutoff_date}', fcok_month)) as month_passed\n",
    "        ,v_vin || causal_part as vin_part\n",
    "    from t_fcok\n",
    "    join part_model_master as pm_master\n",
    "        on pm_master.model_code = t_fcok.model_code\n",
    "    where pm_master.causal_part in ({target_parts_str})\n",
    ")\n",
    "\n",
    "-- ワランティデータに出現したVIN-パーツのペアは除外したのち、パーツxモデルx生存期間毎にパーツ数を集計する\n",
    "select\n",
    "    model_code\n",
    "    ,causal_part\n",
    "    ,month_passed\n",
    "    ,count(*) as sample_count\n",
    "from term_all\n",
    "where term_all.vin_part not in (\n",
    "    select w_vin || causal_part from t_warranty\n",
    "    where causal_part in ({target_parts_str})\n",
    "    )\n",
    "group by model_code, causal_part, month_passed\n",
    ";\"\"\".format(cutoff_date=cutoff_date, error_list_str=error_list_str,\n",
    "            error_list_str_sales=error_list_str_sales,\n",
    "            target_parts_str=target_parts_str)"
   ]
  },
  {
   "cell_type": "code",
   "execution_count": 52,
   "metadata": {
    "ExecuteTime": {
     "end_time": "2019-08-20T15:33:57.456402Z",
     "start_time": "2019-08-20T15:30:12.268963Z"
    }
   },
   "outputs": [
    {
     "name": "stdout",
     "output_type": "stream",
     "text": [
      "CPU times: user 121 ms, sys: 18.9 ms, total: 140 ms\n",
      "Wall time: 3min 45s\n"
     ]
    }
   ],
   "source": [
    "%%time\n",
    "df_term_type1 = createDFfromquery(sql_term_type1, con)"
   ]
  },
  {
   "cell_type": "code",
   "execution_count": 218,
   "metadata": {
    "ExecuteTime": {
     "end_time": "2019-08-21T04:44:33.816656Z",
     "start_time": "2019-08-21T04:44:33.806468Z"
    }
   },
   "outputs": [
    {
     "data": {
      "text/plain": [
       "(9389, 4)"
      ]
     },
     "execution_count": 218,
     "metadata": {},
     "output_type": "execute_result"
    }
   ],
   "source": [
    "df_term_type1.shape"
   ]
  },
  {
   "cell_type": "code",
   "execution_count": 219,
   "metadata": {
    "ExecuteTime": {
     "end_time": "2019-08-21T04:44:34.367629Z",
     "start_time": "2019-08-21T04:44:34.351247Z"
    }
   },
   "outputs": [
    {
     "data": {
      "text/html": [
       "<div>\n",
       "<style scoped>\n",
       "    .dataframe tbody tr th:only-of-type {\n",
       "        vertical-align: middle;\n",
       "    }\n",
       "\n",
       "    .dataframe tbody tr th {\n",
       "        vertical-align: top;\n",
       "    }\n",
       "\n",
       "    .dataframe thead th {\n",
       "        text-align: right;\n",
       "    }\n",
       "</style>\n",
       "<table border=\"1\" class=\"dataframe\">\n",
       "  <thead>\n",
       "    <tr style=\"text-align: right;\">\n",
       "      <th></th>\n",
       "      <th>causal_part</th>\n",
       "      <th>model_code</th>\n",
       "      <th>month_passed</th>\n",
       "      <th>sample_count</th>\n",
       "    </tr>\n",
       "  </thead>\n",
       "  <tbody>\n",
       "    <tr>\n",
       "      <th>0</th>\n",
       "      <td>09283-350</td>\n",
       "      <td>Y1J</td>\n",
       "      <td>1.0</td>\n",
       "      <td>5699</td>\n",
       "    </tr>\n",
       "    <tr>\n",
       "      <th>1</th>\n",
       "      <td>09283-350</td>\n",
       "      <td>Y1J</td>\n",
       "      <td>2.0</td>\n",
       "      <td>5963</td>\n",
       "    </tr>\n",
       "    <tr>\n",
       "      <th>2</th>\n",
       "      <td>09283-350</td>\n",
       "      <td>Y1J</td>\n",
       "      <td>3.0</td>\n",
       "      <td>5948</td>\n",
       "    </tr>\n",
       "    <tr>\n",
       "      <th>3</th>\n",
       "      <td>09283-350</td>\n",
       "      <td>Y1J</td>\n",
       "      <td>4.0</td>\n",
       "      <td>5527</td>\n",
       "    </tr>\n",
       "    <tr>\n",
       "      <th>4</th>\n",
       "      <td>09283-350</td>\n",
       "      <td>Y1J</td>\n",
       "      <td>5.0</td>\n",
       "      <td>5311</td>\n",
       "    </tr>\n",
       "  </tbody>\n",
       "</table>\n",
       "</div>"
      ],
      "text/plain": [
       "  causal_part model_code  month_passed  sample_count\n",
       "0   09283-350        Y1J           1.0          5699\n",
       "1   09283-350        Y1J           2.0          5963\n",
       "2   09283-350        Y1J           3.0          5948\n",
       "3   09283-350        Y1J           4.0          5527\n",
       "4   09283-350        Y1J           5.0          5311"
      ]
     },
     "execution_count": 219,
     "metadata": {},
     "output_type": "execute_result"
    }
   ],
   "source": [
    "df_term_type1.head()"
   ]
  },
  {
   "cell_type": "markdown",
   "metadata": {},
   "source": [
    "### タイプ2~4の生存期間データの作成と集計"
   ]
  },
  {
   "cell_type": "markdown",
   "metadata": {},
   "source": [
    "- 以下のパターンのパーツについて、生存期間を作成・集計する。\n",
    "    - 2.購入から初回故障\n",
    "    - 3.前回交換から今回故障\n",
    "    - 4.前回交換から故障せずに訓練データ集計最終日(2013年12月31日)を迎える\n",
    "- 交換は、ワランティテーブルのW_PROCESS_MONTHの月に交換作業があったとみなす。したがって、生存期間の精度(粒度)は月単位となる。\n",
    "- 交換および故障は、主原因品番(W_CAUSAL_PART_NO)のパーツのみが故障し、交換されたとみなす。実際には、その他のパーツも故障・交換されている可能性が高いことに留意。\n",
    "- 同じパーツが過去に交換されたか否かは、VINとパーツコード(全桁)と交換日(W_PROCESS_MONTH)と故障日(W_FAILURE_DATE)を使用して判断した。"
   ]
  },
  {
   "cell_type": "code",
   "execution_count": 60,
   "metadata": {
    "ExecuteTime": {
     "end_time": "2019-08-20T16:59:53.001324Z",
     "start_time": "2019-08-20T16:59:52.996972Z"
    }
   },
   "outputs": [],
   "source": [
    "sql_term_type2_4 = \"\"\"\n",
    "-- ワランティテーブルから必要なデータを抽出し、パーツ番号を上5-3桁に切り取り、(VIN-パーツ番号-故障日)がユニークになるように \n",
    "with t_warranty as (\n",
    "    select \n",
    "        w_vin\n",
    "        ,w_failure_date\n",
    "        ,to_date(max(w_process_month), 'YYYYMM') as process_month\n",
    "        ,to_date(substr(w_failure_date, 1, 6), 'YYYYMM') as failure_month\n",
    "        ,to_date(substr(max(w_sales_date), 1, 6), 'YYYYMM') as sales_month\n",
    "        ,substr(w_causal_part_no, 1, 9) as causal_part\n",
    "        ,substr(max(w_prod_model_cd), 1, 3) as model_code\n",
    "    from warranty\n",
    "    where        \n",
    "        W_SALES_DATE not in ({error_list_str_sales})\n",
    "        and W_FAILURE_DATE not in ({error_list_str})\n",
    "        and W_PROD_BASE_CD = '100100'\n",
    "        and W_BASE_CD = '100100'\n",
    "        and W_PROD_DIV = 'B'\n",
    "        and W_DMEX_DIV = '0'\n",
    "        and to_date(w_process_month,'YYYYMM') <= '{cutoff_date}'\n",
    "        and substr(w_causal_part_no, 1, 9) in ({target_parts_str})\n",
    "    group by w_vin, causal_part, w_failure_date\n",
    ")\n",
    "-- 同一VIN,パーツ番号内で、故障日を用いて並び替え、次回故障日(next_failure_month)と、前回交換日(prev_process_month)の列を追加\n",
    ", t_shifted as (\n",
    "    select \n",
    "        process_month\n",
    "        ,w_vin\n",
    "        ,causal_part\n",
    "        ,model_code\n",
    "        ,w_failure_date\n",
    "        ,failure_month\n",
    "        ,sales_month\n",
    "        ,lag(process_month) over(partition by w_vin, causal_part order by w_failure_date) as prev_process_month\n",
    "        ,lead(failure_month) over(partition by w_vin, causal_part order by w_failure_date) as next_failure_month\n",
    "    from t_warranty\n",
    ")\n",
    "-- 期間を計算。交換->打ち切り、交換->次回故障をterm_nextで、販売->故障をterm_prevとして算出している。\n",
    "-- 打ち切りのterm_nextには、打ち切りフラグを付加。term_prevで前回交換->今回故障も含めてしまうと二重に計上してしまうことに注意。\n",
    ", terms as (\n",
    "    select \n",
    "        causal_part\n",
    "        ,model_code\n",
    "        ,case when next_failure_month is null then \n",
    "            extract(year from age('{cutoff_date}', process_month)) * 12 \n",
    "                + extract(month from age('{cutoff_date}', process_month))\n",
    "            else\n",
    "                extract(year from age(next_failure_month, process_month)) * 12 \n",
    "                    + extract(month from age(next_failure_month, process_month))\n",
    "            end as term_next\n",
    "        ,case when next_failure_month is null then 1 else 0 end as cutoff_flag\n",
    "        ,case when prev_process_month is not null then\n",
    "            extract(year from age(failure_month, sales_month)) * 12 \n",
    "                + extract(month from age(failure_month, sales_month))\n",
    "            else null\n",
    "            end as term_prev\n",
    "    from t_shifted\n",
    ")\n",
    "-- term_nextとterm_prevをそれぞれパーツxモデルx期間x打ち切りフラグごとに集計してから、テーブルをunionしている。\n",
    "select \n",
    "    causal_part\n",
    "    ,model_code\n",
    "    ,term_next as month_passed\n",
    "    ,count(*) as sample_count\n",
    "    ,cutoff_flag\n",
    "from terms\n",
    "group by causal_part, model_code, month_passed, cutoff_flag\n",
    "union\n",
    "select\n",
    "    causal_part\n",
    "    ,model_code\n",
    "    ,term_prev as month_passed\n",
    "    ,count(*) as sample_count\n",
    "    ,0 as cutoff_flag\n",
    "from terms\n",
    "where term_prev is not null\n",
    "group by causal_part, model_code, month_passed, cutoff_flag\n",
    ";\"\"\".format(error_list_str=error_list_str, error_list_str_sales=error_list_str_sales,\n",
    "           target_parts_str=target_parts_str, cutoff_date=cutoff_date)"
   ]
  },
  {
   "cell_type": "code",
   "execution_count": 61,
   "metadata": {
    "ExecuteTime": {
     "end_time": "2019-08-20T17:00:06.238205Z",
     "start_time": "2019-08-20T16:59:54.010268Z"
    }
   },
   "outputs": [
    {
     "name": "stdout",
     "output_type": "stream",
     "text": [
      "CPU times: user 132 ms, sys: 29.8 ms, total: 162 ms\n",
      "Wall time: 12.2 s\n"
     ]
    }
   ],
   "source": [
    "%%time\n",
    "df_term_type2_4 = createDFfromquery(sql_term_type2_4, con)"
   ]
  },
  {
   "cell_type": "code",
   "execution_count": 62,
   "metadata": {
    "ExecuteTime": {
     "end_time": "2019-08-20T17:00:14.158150Z",
     "start_time": "2019-08-20T17:00:14.143250Z"
    }
   },
   "outputs": [
    {
     "data": {
      "text/plain": [
       "(12929, 5)"
      ]
     },
     "execution_count": 62,
     "metadata": {},
     "output_type": "execute_result"
    }
   ],
   "source": [
    "df_term_type2_4.shape"
   ]
  },
  {
   "cell_type": "code",
   "execution_count": 63,
   "metadata": {
    "ExecuteTime": {
     "end_time": "2019-08-20T17:00:18.633724Z",
     "start_time": "2019-08-20T17:00:18.609902Z"
    }
   },
   "outputs": [
    {
     "data": {
      "text/html": [
       "<div>\n",
       "<style scoped>\n",
       "    .dataframe tbody tr th:only-of-type {\n",
       "        vertical-align: middle;\n",
       "    }\n",
       "\n",
       "    .dataframe tbody tr th {\n",
       "        vertical-align: top;\n",
       "    }\n",
       "\n",
       "    .dataframe thead th {\n",
       "        text-align: right;\n",
       "    }\n",
       "</style>\n",
       "<table border=\"1\" class=\"dataframe\">\n",
       "  <thead>\n",
       "    <tr style=\"text-align: right;\">\n",
       "      <th></th>\n",
       "      <th>causal_part</th>\n",
       "      <th>cutoff_flag</th>\n",
       "      <th>model_code</th>\n",
       "      <th>month_passed</th>\n",
       "      <th>sample_count</th>\n",
       "    </tr>\n",
       "  </thead>\n",
       "  <tbody>\n",
       "    <tr>\n",
       "      <th>0</th>\n",
       "      <td>09283-350</td>\n",
       "      <td>1</td>\n",
       "      <td>YC2</td>\n",
       "      <td>149.0</td>\n",
       "      <td>4</td>\n",
       "    </tr>\n",
       "    <tr>\n",
       "      <th>1</th>\n",
       "      <td>55311-72J</td>\n",
       "      <td>1</td>\n",
       "      <td>YK1</td>\n",
       "      <td>1.0</td>\n",
       "      <td>1</td>\n",
       "    </tr>\n",
       "    <tr>\n",
       "      <th>2</th>\n",
       "      <td>27610-76G</td>\n",
       "      <td>1</td>\n",
       "      <td>YB2</td>\n",
       "      <td>104.0</td>\n",
       "      <td>3</td>\n",
       "    </tr>\n",
       "    <tr>\n",
       "      <th>3</th>\n",
       "      <td>55311-75F</td>\n",
       "      <td>1</td>\n",
       "      <td>YB2</td>\n",
       "      <td>77.0</td>\n",
       "      <td>17</td>\n",
       "    </tr>\n",
       "    <tr>\n",
       "      <th>4</th>\n",
       "      <td>27610-76G</td>\n",
       "      <td>0</td>\n",
       "      <td>YR0</td>\n",
       "      <td>61.0</td>\n",
       "      <td>14</td>\n",
       "    </tr>\n",
       "  </tbody>\n",
       "</table>\n",
       "</div>"
      ],
      "text/plain": [
       "  causal_part  cutoff_flag model_code  month_passed  sample_count\n",
       "0   09283-350            1        YC2         149.0             4\n",
       "1   55311-72J            1        YK1           1.0             1\n",
       "2   27610-76G            1        YB2         104.0             3\n",
       "3   55311-75F            1        YB2          77.0            17\n",
       "4   27610-76G            0        YR0          61.0            14"
      ]
     },
     "execution_count": 63,
     "metadata": {},
     "output_type": "execute_result"
    }
   ],
   "source": [
    "df_term_type2_4.head()"
   ]
  },
  {
   "cell_type": "markdown",
   "metadata": {},
   "source": [
    "### 生存期間データの統合"
   ]
  },
  {
   "cell_type": "markdown",
   "metadata": {},
   "source": [
    "テーブルを足し合わせる。"
   ]
  },
  {
   "cell_type": "code",
   "execution_count": 71,
   "metadata": {
    "ExecuteTime": {
     "end_time": "2019-08-20T17:08:19.643283Z",
     "start_time": "2019-08-20T17:08:19.629407Z"
    }
   },
   "outputs": [
    {
     "data": {
      "text/html": [
       "<div>\n",
       "<style scoped>\n",
       "    .dataframe tbody tr th:only-of-type {\n",
       "        vertical-align: middle;\n",
       "    }\n",
       "\n",
       "    .dataframe tbody tr th {\n",
       "        vertical-align: top;\n",
       "    }\n",
       "\n",
       "    .dataframe thead th {\n",
       "        text-align: right;\n",
       "    }\n",
       "</style>\n",
       "<table border=\"1\" class=\"dataframe\">\n",
       "  <thead>\n",
       "    <tr style=\"text-align: right;\">\n",
       "      <th></th>\n",
       "      <th>causal_part</th>\n",
       "      <th>model_code</th>\n",
       "      <th>month_passed</th>\n",
       "      <th>sample_count</th>\n",
       "      <th>cutoff_flag</th>\n",
       "    </tr>\n",
       "  </thead>\n",
       "  <tbody>\n",
       "    <tr>\n",
       "      <th>0</th>\n",
       "      <td>09283-350</td>\n",
       "      <td>Y1J</td>\n",
       "      <td>1.0</td>\n",
       "      <td>5699</td>\n",
       "      <td>1</td>\n",
       "    </tr>\n",
       "    <tr>\n",
       "      <th>1</th>\n",
       "      <td>09283-350</td>\n",
       "      <td>Y1J</td>\n",
       "      <td>2.0</td>\n",
       "      <td>5963</td>\n",
       "      <td>1</td>\n",
       "    </tr>\n",
       "    <tr>\n",
       "      <th>2</th>\n",
       "      <td>09283-350</td>\n",
       "      <td>Y1J</td>\n",
       "      <td>3.0</td>\n",
       "      <td>5948</td>\n",
       "      <td>1</td>\n",
       "    </tr>\n",
       "    <tr>\n",
       "      <th>3</th>\n",
       "      <td>09283-350</td>\n",
       "      <td>Y1J</td>\n",
       "      <td>4.0</td>\n",
       "      <td>5527</td>\n",
       "      <td>1</td>\n",
       "    </tr>\n",
       "    <tr>\n",
       "      <th>4</th>\n",
       "      <td>09283-350</td>\n",
       "      <td>Y1J</td>\n",
       "      <td>5.0</td>\n",
       "      <td>5311</td>\n",
       "      <td>1</td>\n",
       "    </tr>\n",
       "  </tbody>\n",
       "</table>\n",
       "</div>"
      ],
      "text/plain": [
       "  causal_part model_code  month_passed  sample_count  cutoff_flag\n",
       "0   09283-350        Y1J           1.0          5699            1\n",
       "1   09283-350        Y1J           2.0          5963            1\n",
       "2   09283-350        Y1J           3.0          5948            1\n",
       "3   09283-350        Y1J           4.0          5527            1\n",
       "4   09283-350        Y1J           5.0          5311            1"
      ]
     },
     "execution_count": 71,
     "metadata": {},
     "output_type": "execute_result"
    }
   ],
   "source": [
    "df_term_type1.assign(cutoff_flag=1).head()"
   ]
  },
  {
   "cell_type": "code",
   "execution_count": 67,
   "metadata": {
    "ExecuteTime": {
     "end_time": "2019-08-20T17:03:15.448394Z",
     "start_time": "2019-08-20T17:03:15.437699Z"
    }
   },
   "outputs": [
    {
     "data": {
      "text/html": [
       "<div>\n",
       "<style scoped>\n",
       "    .dataframe tbody tr th:only-of-type {\n",
       "        vertical-align: middle;\n",
       "    }\n",
       "\n",
       "    .dataframe tbody tr th {\n",
       "        vertical-align: top;\n",
       "    }\n",
       "\n",
       "    .dataframe thead th {\n",
       "        text-align: right;\n",
       "    }\n",
       "</style>\n",
       "<table border=\"1\" class=\"dataframe\">\n",
       "  <thead>\n",
       "    <tr style=\"text-align: right;\">\n",
       "      <th></th>\n",
       "      <th>causal_part</th>\n",
       "      <th>cutoff_flag</th>\n",
       "      <th>model_code</th>\n",
       "      <th>month_passed</th>\n",
       "      <th>sample_count</th>\n",
       "    </tr>\n",
       "  </thead>\n",
       "  <tbody>\n",
       "    <tr>\n",
       "      <th>0</th>\n",
       "      <td>09283-350</td>\n",
       "      <td>1</td>\n",
       "      <td>YC2</td>\n",
       "      <td>149.0</td>\n",
       "      <td>4</td>\n",
       "    </tr>\n",
       "    <tr>\n",
       "      <th>1</th>\n",
       "      <td>55311-72J</td>\n",
       "      <td>1</td>\n",
       "      <td>YK1</td>\n",
       "      <td>1.0</td>\n",
       "      <td>1</td>\n",
       "    </tr>\n",
       "    <tr>\n",
       "      <th>2</th>\n",
       "      <td>27610-76G</td>\n",
       "      <td>1</td>\n",
       "      <td>YB2</td>\n",
       "      <td>104.0</td>\n",
       "      <td>3</td>\n",
       "    </tr>\n",
       "    <tr>\n",
       "      <th>3</th>\n",
       "      <td>55311-75F</td>\n",
       "      <td>1</td>\n",
       "      <td>YB2</td>\n",
       "      <td>77.0</td>\n",
       "      <td>17</td>\n",
       "    </tr>\n",
       "    <tr>\n",
       "      <th>4</th>\n",
       "      <td>27610-76G</td>\n",
       "      <td>0</td>\n",
       "      <td>YR0</td>\n",
       "      <td>61.0</td>\n",
       "      <td>14</td>\n",
       "    </tr>\n",
       "  </tbody>\n",
       "</table>\n",
       "</div>"
      ],
      "text/plain": [
       "  causal_part  cutoff_flag model_code  month_passed  sample_count\n",
       "0   09283-350            1        YC2         149.0             4\n",
       "1   55311-72J            1        YK1           1.0             1\n",
       "2   27610-76G            1        YB2         104.0             3\n",
       "3   55311-75F            1        YB2          77.0            17\n",
       "4   27610-76G            0        YR0          61.0            14"
      ]
     },
     "execution_count": 67,
     "metadata": {},
     "output_type": "execute_result"
    }
   ],
   "source": [
    "df_term_type2_4.head()"
   ]
  },
  {
   "cell_type": "code",
   "execution_count": 88,
   "metadata": {
    "ExecuteTime": {
     "end_time": "2019-08-20T17:23:45.606511Z",
     "start_time": "2019-08-20T17:23:45.554652Z"
    }
   },
   "outputs": [
    {
     "data": {
      "text/html": [
       "<div>\n",
       "<style scoped>\n",
       "    .dataframe tbody tr th:only-of-type {\n",
       "        vertical-align: middle;\n",
       "    }\n",
       "\n",
       "    .dataframe tbody tr th {\n",
       "        vertical-align: top;\n",
       "    }\n",
       "\n",
       "    .dataframe thead th {\n",
       "        text-align: right;\n",
       "    }\n",
       "</style>\n",
       "<table border=\"1\" class=\"dataframe\">\n",
       "  <thead>\n",
       "    <tr style=\"text-align: right;\">\n",
       "      <th></th>\n",
       "      <th>causal_part</th>\n",
       "      <th>month_passed</th>\n",
       "      <th>cutoff_flag</th>\n",
       "      <th>sample_count</th>\n",
       "    </tr>\n",
       "  </thead>\n",
       "  <tbody>\n",
       "    <tr>\n",
       "      <th>0</th>\n",
       "      <td>09283-350</td>\n",
       "      <td>-2.0</td>\n",
       "      <td>0</td>\n",
       "      <td>13.0</td>\n",
       "    </tr>\n",
       "    <tr>\n",
       "      <th>1</th>\n",
       "      <td>09283-350</td>\n",
       "      <td>-1.0</td>\n",
       "      <td>0</td>\n",
       "      <td>140.0</td>\n",
       "    </tr>\n",
       "    <tr>\n",
       "      <th>2</th>\n",
       "      <td>09283-350</td>\n",
       "      <td>0.0</td>\n",
       "      <td>0</td>\n",
       "      <td>266.0</td>\n",
       "    </tr>\n",
       "    <tr>\n",
       "      <th>3</th>\n",
       "      <td>09283-350</td>\n",
       "      <td>0.0</td>\n",
       "      <td>1</td>\n",
       "      <td>8.0</td>\n",
       "    </tr>\n",
       "    <tr>\n",
       "      <th>4</th>\n",
       "      <td>09283-350</td>\n",
       "      <td>1.0</td>\n",
       "      <td>0</td>\n",
       "      <td>178.0</td>\n",
       "    </tr>\n",
       "  </tbody>\n",
       "</table>\n",
       "</div>"
      ],
      "text/plain": [
       "  causal_part  month_passed  cutoff_flag  sample_count\n",
       "0   09283-350          -2.0            0          13.0\n",
       "1   09283-350          -1.0            0         140.0\n",
       "2   09283-350           0.0            0         266.0\n",
       "3   09283-350           0.0            1           8.0\n",
       "4   09283-350           1.0            0         178.0"
      ]
     },
     "execution_count": 88,
     "metadata": {},
     "output_type": "execute_result"
    }
   ],
   "source": [
    "df_all = (df_term_type1\n",
    "          .assign(cutoff_flag=1)\n",
    "          .merge(df_term_type2_4, \n",
    "                 on=[\"causal_part\", \"model_code\", \"month_passed\", \"cutoff_flag\"],\n",
    "                 how=\"outer\"))\n",
    "df_all[\"sample_count\"] = df_all[\"sample_count_x\"].fillna(0) + df_all[\"sample_count_y\"].fillna(0)\n",
    "df_all = df_all.groupby([\"causal_part\", \"month_passed\", \"cutoff_flag\"])[\"sample_count\"].sum().reset_index()\n",
    "df_all.head()"
   ]
  },
  {
   "cell_type": "code",
   "execution_count": 114,
   "metadata": {
    "ExecuteTime": {
     "end_time": "2019-08-20T17:32:57.094384Z",
     "start_time": "2019-08-20T17:32:57.085992Z"
    }
   },
   "outputs": [],
   "source": [
    "df_all_cutoff = (df_all[df_all.cutoff_flag==1]\n",
    "                 .drop(\"cutoff_flag\", axis=1)\n",
    "                 .sort_values(by=[\"causal_part\",\"month_passed\"]))"
   ]
  },
  {
   "cell_type": "code",
   "execution_count": 115,
   "metadata": {
    "ExecuteTime": {
     "end_time": "2019-08-20T17:33:00.400400Z",
     "start_time": "2019-08-20T17:33:00.392337Z"
    }
   },
   "outputs": [],
   "source": [
    "df_all_events = (df_all[df_all.cutoff_flag==0]\n",
    "                 .drop(\"cutoff_flag\", axis=1)\n",
    "                 .sort_values(by=[\"causal_part\",\"month_passed\"]))"
   ]
  },
  {
   "cell_type": "code",
   "execution_count": 116,
   "metadata": {
    "ExecuteTime": {
     "end_time": "2019-08-20T17:33:00.977909Z",
     "start_time": "2019-08-20T17:33:00.970053Z"
    }
   },
   "outputs": [
    {
     "data": {
      "text/html": [
       "<div>\n",
       "<style scoped>\n",
       "    .dataframe tbody tr th:only-of-type {\n",
       "        vertical-align: middle;\n",
       "    }\n",
       "\n",
       "    .dataframe tbody tr th {\n",
       "        vertical-align: top;\n",
       "    }\n",
       "\n",
       "    .dataframe thead th {\n",
       "        text-align: right;\n",
       "    }\n",
       "</style>\n",
       "<table border=\"1\" class=\"dataframe\">\n",
       "  <thead>\n",
       "    <tr style=\"text-align: right;\">\n",
       "      <th></th>\n",
       "      <th>causal_part</th>\n",
       "      <th>month_passed</th>\n",
       "      <th>sample_count</th>\n",
       "    </tr>\n",
       "  </thead>\n",
       "  <tbody>\n",
       "  </tbody>\n",
       "</table>\n",
       "</div>"
      ],
      "text/plain": [
       "Empty DataFrame\n",
       "Columns: [causal_part, month_passed, sample_count]\n",
       "Index: []"
      ]
     },
     "execution_count": 116,
     "metadata": {},
     "output_type": "execute_result"
    }
   ],
   "source": [
    "df_all_cutoff[df_all_cutoff.month_passed<0]"
   ]
  },
  {
   "cell_type": "code",
   "execution_count": 117,
   "metadata": {
    "ExecuteTime": {
     "end_time": "2019-08-20T17:33:01.470528Z",
     "start_time": "2019-08-20T17:33:01.455016Z"
    }
   },
   "outputs": [
    {
     "data": {
      "text/html": [
       "<div>\n",
       "<style scoped>\n",
       "    .dataframe tbody tr th:only-of-type {\n",
       "        vertical-align: middle;\n",
       "    }\n",
       "\n",
       "    .dataframe tbody tr th {\n",
       "        vertical-align: top;\n",
       "    }\n",
       "\n",
       "    .dataframe thead th {\n",
       "        text-align: right;\n",
       "    }\n",
       "</style>\n",
       "<table border=\"1\" class=\"dataframe\">\n",
       "  <thead>\n",
       "    <tr style=\"text-align: right;\">\n",
       "      <th></th>\n",
       "      <th>causal_part</th>\n",
       "      <th>month_passed</th>\n",
       "      <th>sample_count</th>\n",
       "    </tr>\n",
       "  </thead>\n",
       "  <tbody>\n",
       "    <tr>\n",
       "      <th>0</th>\n",
       "      <td>09283-350</td>\n",
       "      <td>-2.0</td>\n",
       "      <td>13.0</td>\n",
       "    </tr>\n",
       "    <tr>\n",
       "      <th>1</th>\n",
       "      <td>09283-350</td>\n",
       "      <td>-1.0</td>\n",
       "      <td>140.0</td>\n",
       "    </tr>\n",
       "    <tr>\n",
       "      <th>344</th>\n",
       "      <td>27610-76G</td>\n",
       "      <td>-4.0</td>\n",
       "      <td>1.0</td>\n",
       "    </tr>\n",
       "    <tr>\n",
       "      <th>345</th>\n",
       "      <td>27610-76G</td>\n",
       "      <td>-3.0</td>\n",
       "      <td>14.0</td>\n",
       "    </tr>\n",
       "    <tr>\n",
       "      <th>346</th>\n",
       "      <td>27610-76G</td>\n",
       "      <td>-2.0</td>\n",
       "      <td>34.0</td>\n",
       "    </tr>\n",
       "    <tr>\n",
       "      <th>347</th>\n",
       "      <td>27610-76G</td>\n",
       "      <td>-1.0</td>\n",
       "      <td>102.0</td>\n",
       "    </tr>\n",
       "    <tr>\n",
       "      <th>757</th>\n",
       "      <td>33220-76G</td>\n",
       "      <td>-4.0</td>\n",
       "      <td>1.0</td>\n",
       "    </tr>\n",
       "    <tr>\n",
       "      <th>758</th>\n",
       "      <td>33220-76G</td>\n",
       "      <td>-3.0</td>\n",
       "      <td>6.0</td>\n",
       "    </tr>\n",
       "    <tr>\n",
       "      <th>759</th>\n",
       "      <td>33220-76G</td>\n",
       "      <td>-2.0</td>\n",
       "      <td>18.0</td>\n",
       "    </tr>\n",
       "    <tr>\n",
       "      <th>760</th>\n",
       "      <td>33220-76G</td>\n",
       "      <td>-1.0</td>\n",
       "      <td>90.0</td>\n",
       "    </tr>\n",
       "    <tr>\n",
       "      <th>1063</th>\n",
       "      <td>33920-77F</td>\n",
       "      <td>-3.0</td>\n",
       "      <td>1.0</td>\n",
       "    </tr>\n",
       "    <tr>\n",
       "      <th>1064</th>\n",
       "      <td>33920-77F</td>\n",
       "      <td>-2.0</td>\n",
       "      <td>12.0</td>\n",
       "    </tr>\n",
       "    <tr>\n",
       "      <th>1065</th>\n",
       "      <td>33920-77F</td>\n",
       "      <td>-1.0</td>\n",
       "      <td>52.0</td>\n",
       "    </tr>\n",
       "    <tr>\n",
       "      <th>1315</th>\n",
       "      <td>37950-58J</td>\n",
       "      <td>-2.0</td>\n",
       "      <td>1.0</td>\n",
       "    </tr>\n",
       "    <tr>\n",
       "      <th>1316</th>\n",
       "      <td>37950-58J</td>\n",
       "      <td>-1.0</td>\n",
       "      <td>4.0</td>\n",
       "    </tr>\n",
       "    <tr>\n",
       "      <th>1502</th>\n",
       "      <td>53200-58J</td>\n",
       "      <td>-2.0</td>\n",
       "      <td>6.0</td>\n",
       "    </tr>\n",
       "    <tr>\n",
       "      <th>1503</th>\n",
       "      <td>53200-58J</td>\n",
       "      <td>-1.0</td>\n",
       "      <td>15.0</td>\n",
       "    </tr>\n",
       "    <tr>\n",
       "      <th>1756</th>\n",
       "      <td>55311-72J</td>\n",
       "      <td>-3.0</td>\n",
       "      <td>1.0</td>\n",
       "    </tr>\n",
       "    <tr>\n",
       "      <th>1757</th>\n",
       "      <td>55311-72J</td>\n",
       "      <td>-2.0</td>\n",
       "      <td>1.0</td>\n",
       "    </tr>\n",
       "    <tr>\n",
       "      <th>1758</th>\n",
       "      <td>55311-72J</td>\n",
       "      <td>-1.0</td>\n",
       "      <td>6.0</td>\n",
       "    </tr>\n",
       "    <tr>\n",
       "      <th>2011</th>\n",
       "      <td>55311-75F</td>\n",
       "      <td>-3.0</td>\n",
       "      <td>1.0</td>\n",
       "    </tr>\n",
       "    <tr>\n",
       "      <th>2012</th>\n",
       "      <td>55311-75F</td>\n",
       "      <td>-2.0</td>\n",
       "      <td>3.0</td>\n",
       "    </tr>\n",
       "    <tr>\n",
       "      <th>2013</th>\n",
       "      <td>55311-75F</td>\n",
       "      <td>-1.0</td>\n",
       "      <td>26.0</td>\n",
       "    </tr>\n",
       "    <tr>\n",
       "      <th>2308</th>\n",
       "      <td>84702-70K</td>\n",
       "      <td>-1.0</td>\n",
       "      <td>1.0</td>\n",
       "    </tr>\n",
       "  </tbody>\n",
       "</table>\n",
       "</div>"
      ],
      "text/plain": [
       "     causal_part  month_passed  sample_count\n",
       "0      09283-350          -2.0          13.0\n",
       "1      09283-350          -1.0         140.0\n",
       "344    27610-76G          -4.0           1.0\n",
       "345    27610-76G          -3.0          14.0\n",
       "346    27610-76G          -2.0          34.0\n",
       "347    27610-76G          -1.0         102.0\n",
       "757    33220-76G          -4.0           1.0\n",
       "758    33220-76G          -3.0           6.0\n",
       "759    33220-76G          -2.0          18.0\n",
       "760    33220-76G          -1.0          90.0\n",
       "1063   33920-77F          -3.0           1.0\n",
       "1064   33920-77F          -2.0          12.0\n",
       "1065   33920-77F          -1.0          52.0\n",
       "1315   37950-58J          -2.0           1.0\n",
       "1316   37950-58J          -1.0           4.0\n",
       "1502   53200-58J          -2.0           6.0\n",
       "1503   53200-58J          -1.0          15.0\n",
       "1756   55311-72J          -3.0           1.0\n",
       "1757   55311-72J          -2.0           1.0\n",
       "1758   55311-72J          -1.0           6.0\n",
       "2011   55311-75F          -3.0           1.0\n",
       "2012   55311-75F          -2.0           3.0\n",
       "2013   55311-75F          -1.0          26.0\n",
       "2308   84702-70K          -1.0           1.0"
      ]
     },
     "execution_count": 117,
     "metadata": {},
     "output_type": "execute_result"
    }
   ],
   "source": [
    "df_all_events[df_all_events.month_passed<0]"
   ]
  },
  {
   "cell_type": "markdown",
   "metadata": {},
   "source": [
    "マイナスの値が出てしまっている。\n",
    "- 処理日の入力が遅れてしまい、かつ交換後すぐに故障しまい、前回処理日 > 今回故障日となった\n",
    "- 販売日よりも先に故障日が入力されているケース"
   ]
  },
  {
   "cell_type": "markdown",
   "metadata": {},
   "source": [
    "などが原因として考えられる。  \n",
    "一旦、ここではマイナスの値をゼロに置き換えることで対応する。"
   ]
  },
  {
   "cell_type": "code",
   "execution_count": 120,
   "metadata": {
    "ExecuteTime": {
     "end_time": "2019-08-20T17:33:09.710342Z",
     "start_time": "2019-08-20T17:33:09.696838Z"
    }
   },
   "outputs": [],
   "source": [
    "df_all_events.loc[df_all_events.month_passed<0, \"month_passed\"] = 0\n",
    "df_all_events = (df_all_events\n",
    "                 .groupby([\"causal_part\", \"month_passed\"])\n",
    "                 [\"sample_count\"].sum().reset_index())"
   ]
  },
  {
   "cell_type": "code",
   "execution_count": 121,
   "metadata": {
    "ExecuteTime": {
     "end_time": "2019-08-20T17:33:10.417511Z",
     "start_time": "2019-08-20T17:33:10.409151Z"
    }
   },
   "outputs": [
    {
     "data": {
      "text/html": [
       "<div>\n",
       "<style scoped>\n",
       "    .dataframe tbody tr th:only-of-type {\n",
       "        vertical-align: middle;\n",
       "    }\n",
       "\n",
       "    .dataframe tbody tr th {\n",
       "        vertical-align: top;\n",
       "    }\n",
       "\n",
       "    .dataframe thead th {\n",
       "        text-align: right;\n",
       "    }\n",
       "</style>\n",
       "<table border=\"1\" class=\"dataframe\">\n",
       "  <thead>\n",
       "    <tr style=\"text-align: right;\">\n",
       "      <th></th>\n",
       "      <th>causal_part</th>\n",
       "      <th>month_passed</th>\n",
       "      <th>sample_count</th>\n",
       "    </tr>\n",
       "  </thead>\n",
       "  <tbody>\n",
       "  </tbody>\n",
       "</table>\n",
       "</div>"
      ],
      "text/plain": [
       "Empty DataFrame\n",
       "Columns: [causal_part, month_passed, sample_count]\n",
       "Index: []"
      ]
     },
     "execution_count": 121,
     "metadata": {},
     "output_type": "execute_result"
    }
   ],
   "source": [
    "df_all_events[df_all_events.month_passed<0]"
   ]
  },
  {
   "cell_type": "markdown",
   "metadata": {},
   "source": [
    "## カプラン・マイヤー推定による生存関数の推定"
   ]
  },
  {
   "cell_type": "code",
   "execution_count": 166,
   "metadata": {
    "ExecuteTime": {
     "end_time": "2019-08-20T17:47:16.062004Z",
     "start_time": "2019-08-20T17:47:16.044835Z"
    }
   },
   "outputs": [
    {
     "data": {
      "text/html": [
       "<div>\n",
       "<style scoped>\n",
       "    .dataframe tbody tr th:only-of-type {\n",
       "        vertical-align: middle;\n",
       "    }\n",
       "\n",
       "    .dataframe tbody tr th {\n",
       "        vertical-align: top;\n",
       "    }\n",
       "\n",
       "    .dataframe thead th {\n",
       "        text-align: right;\n",
       "    }\n",
       "</style>\n",
       "<table border=\"1\" class=\"dataframe\">\n",
       "  <thead>\n",
       "    <tr style=\"text-align: right;\">\n",
       "      <th></th>\n",
       "      <th>causal_part</th>\n",
       "      <th>month_passed</th>\n",
       "      <th>n_event</th>\n",
       "      <th>cutoff</th>\n",
       "    </tr>\n",
       "  </thead>\n",
       "  <tbody>\n",
       "    <tr>\n",
       "      <th>0</th>\n",
       "      <td>09283-350</td>\n",
       "      <td>0.0</td>\n",
       "      <td>419.0</td>\n",
       "      <td>8.0</td>\n",
       "    </tr>\n",
       "    <tr>\n",
       "      <th>1</th>\n",
       "      <td>09283-350</td>\n",
       "      <td>1.0</td>\n",
       "      <td>178.0</td>\n",
       "      <td>75958.0</td>\n",
       "    </tr>\n",
       "    <tr>\n",
       "      <th>2</th>\n",
       "      <td>09283-350</td>\n",
       "      <td>2.0</td>\n",
       "      <td>116.0</td>\n",
       "      <td>79585.0</td>\n",
       "    </tr>\n",
       "    <tr>\n",
       "      <th>3</th>\n",
       "      <td>09283-350</td>\n",
       "      <td>3.0</td>\n",
       "      <td>131.0</td>\n",
       "      <td>75738.0</td>\n",
       "    </tr>\n",
       "    <tr>\n",
       "      <th>4</th>\n",
       "      <td>09283-350</td>\n",
       "      <td>4.0</td>\n",
       "      <td>117.0</td>\n",
       "      <td>74827.0</td>\n",
       "    </tr>\n",
       "  </tbody>\n",
       "</table>\n",
       "</div>"
      ],
      "text/plain": [
       "  causal_part  month_passed  n_event   cutoff\n",
       "0   09283-350           0.0    419.0      8.0\n",
       "1   09283-350           1.0    178.0  75958.0\n",
       "2   09283-350           2.0    116.0  79585.0\n",
       "3   09283-350           3.0    131.0  75738.0\n",
       "4   09283-350           4.0    117.0  74827.0"
      ]
     },
     "execution_count": 166,
     "metadata": {},
     "output_type": "execute_result"
    }
   ],
   "source": [
    "survival_table = (df_all_events\n",
    "                 .merge(df_all_cutoff, on=[\"causal_part\", \"month_passed\"], how=\"left\")\n",
    "                 .fillna(0)\n",
    "                 .rename(columns={\"sample_count_x\":\"n_event\", \"sample_count_y\":\"cutoff\"}))\n",
    "survival_table.head()"
   ]
  },
  {
   "cell_type": "code",
   "execution_count": 167,
   "metadata": {
    "ExecuteTime": {
     "end_time": "2019-08-20T17:47:17.010728Z",
     "start_time": "2019-08-20T17:47:17.002670Z"
    }
   },
   "outputs": [],
   "source": [
    "df_n_total = survival_table.groupby(\"causal_part\")[\"n_event\", \"cutoff\"].sum()\n",
    "df_n_total = df_n_total.sum(axis=1).to_frame(name=\"total\").reset_index()"
   ]
  },
  {
   "cell_type": "code",
   "execution_count": 169,
   "metadata": {
    "ExecuteTime": {
     "end_time": "2019-08-20T17:49:42.945951Z",
     "start_time": "2019-08-20T17:49:42.939232Z"
    }
   },
   "outputs": [],
   "source": [
    "survival_table = survival_table.merge(df_n_total, on=\"causal_part\")"
   ]
  },
  {
   "cell_type": "code",
   "execution_count": 178,
   "metadata": {
    "ExecuteTime": {
     "end_time": "2019-08-20T17:56:50.759129Z",
     "start_time": "2019-08-20T17:56:50.752600Z"
    }
   },
   "outputs": [],
   "source": [
    "survival_table[\"sample_decrease\"] = survival_table.groupby(\"causal_part\")[\"n_event\", \"cutoff\"].shift().sum(axis=1)"
   ]
  },
  {
   "cell_type": "code",
   "execution_count": 180,
   "metadata": {
    "ExecuteTime": {
     "end_time": "2019-08-20T17:58:14.057337Z",
     "start_time": "2019-08-20T17:58:14.043708Z"
    }
   },
   "outputs": [],
   "source": [
    "survival_table[\"n_at_risk\"] = (survival_table[\"total\"]\n",
    "                               - survival_table.groupby(\"causal_part\")[\"sample_decrease\"]\n",
    "                                 .transform(lambda x: x.cumsum()))"
   ]
  },
  {
   "cell_type": "code",
   "execution_count": 182,
   "metadata": {
    "ExecuteTime": {
     "end_time": "2019-08-20T17:59:22.624311Z",
     "start_time": "2019-08-20T17:59:22.619730Z"
    }
   },
   "outputs": [],
   "source": [
    "survival_table[\"survive_ratio\"] = (1 - survival_table[\"n_event\"]/survival_table[\"n_at_risk\"])"
   ]
  },
  {
   "cell_type": "code",
   "execution_count": 186,
   "metadata": {
    "ExecuteTime": {
     "end_time": "2019-08-20T18:00:56.767236Z",
     "start_time": "2019-08-20T18:00:56.755264Z"
    }
   },
   "outputs": [],
   "source": [
    "survival_table[\"survival_function\"] = (survival_table.groupby(\"causal_part\")\n",
    "                                       [\"survive_ratio\"]\n",
    "                                       .transform(lambda x: x.cumprod()))"
   ]
  },
  {
   "cell_type": "code",
   "execution_count": 209,
   "metadata": {
    "ExecuteTime": {
     "end_time": "2019-08-20T18:15:23.980917Z",
     "start_time": "2019-08-20T18:15:22.299154Z"
    }
   },
   "outputs": [
    {
     "data": {
      "image/png": "[encoded data removed]",
      "text/plain": [
       "<Figure size 864x504 with 10 Axes>"
      ]
     },
     "metadata": {
      "needs_background": "light"
     },
     "output_type": "display_data"
    }
   ],
   "source": [
    "%matplotlib inline\n",
    "import matplotlib.pyplot as plt\n",
    "import numpy as np\n",
    "import matplotlib.ticker as ticker\n",
    "\n",
    "fig = plt.figure(figsize=(12,7))\n",
    "for i,part in enumerate(survival_table.causal_part.unique()):\n",
    "    ax = fig.add_subplot(3,4,i+1)\n",
    "    df_tmp = survival_table[survival_table.causal_part==part].set_index(\"month_passed\")\n",
    "    df_tmp[\"survival_function\"].plot(ax=ax, style=\"o-\")\n",
    "    ax.set(ylabel=\"survival_function\", xlabel=\"month_passed\",\n",
    "          title=part, ylim=[None,1])\n",
    "    max_x = df_tmp.index.max()\n",
    "    ax.set_xticks(np.arange(0, max_x+1, 12))\n",
    "    ax.grid()\n",
    "    ax.yaxis.set_major_formatter(ticker.FormatStrFormatter('%.04f'))\n",
    "\n",
    "plt.tight_layout()"
   ]
  },
  {
   "cell_type": "markdown",
   "metadata": {},
   "source": [
    "- 極端な減少があるもの(\"53311-75F\"など)は、ワイブル分布などのパラメトリックな方法ではモデリングが難しいと思われる。ノンパラメトリックまたはセミパラメトリックモデルによるモデリングを試みる。\n",
    "- 急激な減少のないものについては、パラメトリックな方法も使用できるだろう。"
   ]
  },
  {
   "cell_type": "markdown",
   "metadata": {},
   "source": [
    "- **60ヶ月以降は含めないで良い。**\n",
    "    - **品番で、重要部品は60ヶ月、ほかは36ヶ月**\n",
    "- **W_FIELD_CLAIM_DIV**"
   ]
  },
  {
   "cell_type": "markdown",
   "metadata": {},
   "source": [
    "## 生存関数のモデリング"
   ]
  },
  {
   "cell_type": "markdown",
   "metadata": {},
   "source": [
    "### ノンパラメトリックモデル"
   ]
  },
  {
   "cell_type": "markdown",
   "metadata": {},
   "source": [
    "### パラメトリックモデル"
   ]
  },
  {
   "cell_type": "markdown",
   "metadata": {},
   "source": [
    "### パラメトリックモデル"
   ]
  },
  {
   "cell_type": "markdown",
   "metadata": {},
   "source": [
    "## 生存関数モデルによる故障数の予測"
   ]
  }
 ],
 "metadata": {
  "kernelspec": {
   "display_name": "Python [conda env:suzuki] *",
   "language": "python",
   "name": "conda-env-suzuki-py"
  },
  "language_info": {
   "codemirror_mode": {
    "name": "ipython",
    "version": 3
   },
   "file_extension": ".py",
   "mimetype": "text/x-python",
   "name": "python",
   "nbconvert_exporter": "python",
   "pygments_lexer": "ipython3",
   "version": "3.6.8"
  },
  "latex_envs": {
   "LaTeX_envs_menu_present": true,
   "autoclose": false,
   "autocomplete": true,
   "bibliofile": "biblio.bib",
   "cite_by": "apalike",
   "current_citInitial": 1,
   "eqLabelWithNumbers": true,
   "eqNumInitial": 1,
   "hotkeys": {
    "equation": "Ctrl-E",
    "itemize": "Ctrl-I"
   },
   "labels_anchors": false,
   "latex_user_defs": false,
   "report_style_numbering": false,
   "user_envs_cfg": false
  },
  "nbTranslate": {
   "displayLangs": [
    "*"
   ],
   "hotkey": "alt-t",
   "langInMainMenu": true,
   "sourceLang": "en",
   "targetLang": "fr",
   "useGoogleTranslate": true
  },
  "notify_time": "5",
  "toc": {
   "base_numbering": 1,
   "nav_menu": {},
   "number_sections": true,
   "sideBar": true,
   "skip_h1_title": false,
   "title_cell": "Table of Contents",
   "title_sidebar": "Contents",
   "toc_cell": false,
   "toc_position": {},
   "toc_section_display": true,
   "toc_window_display": false
  }
 },
 "nbformat": 4,
 "nbformat_minor": 2
}
