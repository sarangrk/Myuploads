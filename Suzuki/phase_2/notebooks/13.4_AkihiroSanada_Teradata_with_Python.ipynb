{
 "cells": [
  {
   "cell_type": "markdown",
   "metadata": {},
   "source": [
    "# PythonでのTeradata操作"
   ]
  },
  {
   "cell_type": "markdown",
   "metadata": {},
   "source": [
    "## teradatamlライブラリ"
   ]
  },
  {
   "cell_type": "markdown",
   "metadata": {},
   "source": [
    "### 接続"
   ]
  },
  {
   "cell_type": "code",
   "execution_count": 1,
   "metadata": {
    "ExecuteTime": {
     "end_time": "2019-08-29T11:43:02.908842Z",
     "start_time": "2019-08-29T11:43:01.486127Z"
    }
   },
   "outputs": [],
   "source": [
    "from teradataml import DataFrame, in_schema, create_context, remove_context, to_numeric"
   ]
  },
  {
   "cell_type": "code",
   "execution_count": 56,
   "metadata": {
    "ExecuteTime": {
     "end_time": "2019-08-29T20:05:09.116763Z",
     "start_time": "2019-08-29T20:05:07.559300Z"
    }
   },
   "outputs": [
    {
     "name": "stderr",
     "output_type": "stream",
     "text": [
      "/Users/localadmin/anaconda3/envs/suzuki/lib/python3.6/site-packages/teradataml/context/context.py:144: UserWarning: [Teradata][teradataml](TDML_2002) Overwriting an existing context associated with Teradata connection. Most of the operations on any teradataml DataFrames created before this will not work.\n",
      "  warnings.warn(Messages.get_message(MessageCodes.OVERWRITE_CONTEXT))\n"
     ]
    }
   ],
   "source": [
    "# 接続情報\n",
    "con = create_context(host = \"172.17.0.139\",\n",
    "                 username=\"suzukiuser\",\n",
    "                 password=\"suzukiuser\")"
   ]
  },
  {
   "cell_type": "code",
   "execution_count": 57,
   "metadata": {
    "ExecuteTime": {
     "end_time": "2019-08-29T20:05:17.926168Z",
     "start_time": "2019-08-29T20:05:17.002294Z"
    }
   },
   "outputs": [],
   "source": [
    "df = DataFrame(\"CAN_For_Eval\") # テーブル名から、teradatamlのDataFrameオブジェクトを作成。"
   ]
  },
  {
   "cell_type": "code",
   "execution_count": 4,
   "metadata": {
    "ExecuteTime": {
     "end_time": "2019-08-29T11:43:04.813645Z",
     "start_time": "2019-08-29T11:43:04.767096Z"
    }
   },
   "outputs": [
    {
     "data": {
      "text/plain": [
       "          starttime       times feature     val\n",
       "carid                                          \n",
       "021    201603210631   12.443618   11405     0.0\n",
       "021    201603210631   12.443618   11413  -200.0\n",
       "021    201603210631   12.443618   11415     0.0\n",
       "021    201603210631   12.443618   11417     0.0\n",
       "021    201603210631   12.443618   11451     0.0\n",
       "021    201603210631   12.443618   11463  -200.0\n",
       "021    201603210631   12.443618   11433  823.75\n",
       "021    201603210631   12.443618   11407     0.0\n",
       "021    201603210631   12.443618   11403     0.0\n",
       "021    201603210631   12.443618   11401     0.0"
      ]
     },
     "execution_count": 4,
     "metadata": {},
     "output_type": "execute_result"
    }
   ],
   "source": [
    "df # 上から10が表示される (裏側ではselect top 10 ~が実行される)"
   ]
  },
  {
   "cell_type": "code",
   "execution_count": 5,
   "metadata": {
    "ExecuteTime": {
     "end_time": "2019-08-29T11:43:06.352683Z",
     "start_time": "2019-08-29T11:43:05.084867Z"
    }
   },
   "outputs": [
    {
     "data": {
      "text/plain": [
       "           carid     starttime feature     val\n",
       "times                                         \n",
       " 12.443618   021  201603210631   11405     0.0\n",
       " 12.443618   021  201603210631   11413  -200.0\n",
       " 12.443618   021  201603210631   11415     0.0\n",
       " 12.443618   021  201603210631   11417     0.0\n",
       " 12.443618   021  201603210631   11451     0.0\n",
       " 12.443618   021  201603210631   11463  -200.0\n",
       " 12.443618   021  201603210631   11433  823.75\n",
       " 12.443618   021  201603210631   11407     0.0\n",
       " 12.443618   021  201603210631   11403     0.0\n",
       " 12.443618   021  201603210631   11401     0.0"
      ]
     },
     "execution_count": 5,
     "metadata": {},
     "output_type": "execute_result"
    }
   ],
   "source": [
    "# DataFrameではindexを指定できる(指定しない場合は、プライマリーキー、キーがない場合は0,1,2,...が表示される)\n",
    "df_2 = DataFrame(\"CAN_For_Eval\", index_label=\"times\")\n",
    "df_2"
   ]
  },
  {
   "cell_type": "code",
   "execution_count": 6,
   "metadata": {
    "ExecuteTime": {
     "end_time": "2019-08-29T11:43:08.448658Z",
     "start_time": "2019-08-29T11:43:06.924535Z"
    }
   },
   "outputs": [
    {
     "data": {
      "text/plain": [
       "                         carid                 starttime               feature  val\n",
       "times                                                                              \n",
       "0.285236  021                   201604092247              11451                 0.0\n",
       "1.506517  021                   201604091141              11451                 1.0\n",
       "0.197348  021                   201604090709              11451                 1.0\n",
       "1.603978  021                   201604082038              11451                 3.0\n",
       "0.351087  021                   201604082315              11451                 2.0\n",
       "1.495772  021                   201604111039              11451                 1.0\n",
       "0.202406  021                   201604131741              11451                 0.0\n",
       "1.488430  021                   201604190835              11451                 3.0\n",
       "0.260497  021                   201604132125              11451                 2.0\n",
       "0.217654  021                   201604150720              11451                 2.0"
      ]
     },
     "execution_count": 6,
     "metadata": {},
     "output_type": "execute_result"
    }
   ],
   "source": [
    "# クエリ実行結果からでもDataFrameが作れる。indexも指定できる\n",
    "df_11451 = DataFrame.from_query(\"select * from CAN_103_486_CAR1V21_HDD_1 where feature = '11451'\",\n",
    "                    index_label=\"times\")\n",
    "df_11451"
   ]
  },
  {
   "cell_type": "markdown",
   "metadata": {},
   "source": [
    "### データを見る"
   ]
  },
  {
   "cell_type": "code",
   "execution_count": 58,
   "metadata": {
    "ExecuteTime": {
     "end_time": "2019-08-29T20:05:24.638760Z",
     "start_time": "2019-08-29T20:05:23.469509Z"
    }
   },
   "outputs": [],
   "source": [
    "# 100万件のデータ\n",
    "df_mini = DataFrame.from_query(\"select top 1000000 * from CAN_103_486_CAR1V21_HDD_1\")"
   ]
  },
  {
   "cell_type": "markdown",
   "metadata": {},
   "source": [
    "#### head"
   ]
  },
  {
   "cell_type": "code",
   "execution_count": 9,
   "metadata": {
    "ExecuteTime": {
     "end_time": "2019-08-29T11:44:56.401037Z",
     "start_time": "2019-08-29T11:44:51.604428Z"
    }
   },
   "outputs": [
    {
     "data": {
      "text/plain": [
       "                  carid                 starttime     times               feature  val\n",
       "0  021                   201604181325              2.467358  3A146                 0.0\n",
       "1  021                   201604181325              2.467358  3A122                 0.0\n",
       "2  021                   201604181325              2.467358  3A125                 0.0\n",
       "3  021                   201604181325              2.467358  3A127                 0.0\n",
       "4  021                   201604181325              2.467358  3A115                 0.0\n",
       "5  021                   201604181325              2.467358  3A116                 0.0\n",
       "6  021                   201604181325              2.467358  3A112                 0.0\n",
       "7  021                   201604181325              2.467358  3A132                 0.0\n",
       "8  021                   201604181325              2.467358  3A143                 0.0\n",
       "9  021                   201604181325              2.467358  3A140                 0.0"
      ]
     },
     "execution_count": 9,
     "metadata": {},
     "output_type": "execute_result"
    }
   ],
   "source": [
    "# head (大データでは極めて時間がかかるので、使うべきでない。100万件のデータで4秒程度。1000万件で40秒程度である。)\n",
    "df_mini.head()"
   ]
  },
  {
   "cell_type": "markdown",
   "metadata": {},
   "source": [
    "#### tail"
   ]
  },
  {
   "cell_type": "code",
   "execution_count": 10,
   "metadata": {
    "ExecuteTime": {
     "end_time": "2019-08-29T11:45:56.186244Z",
     "start_time": "2019-08-29T11:45:51.682596Z"
    }
   },
   "outputs": [
    {
     "data": {
      "text/plain": [
       "                  carid                 starttime     times               feature  val\n",
       "0  021                   201604082038              0.374021  11407                 0.0\n",
       "1  021                   201604082038              0.374271  1AF51                 0.0\n",
       "2  021                   201604082038              0.374271  1AF52                 0.0\n",
       "3  021                   201604082038              0.374271  1AF53                 0.0\n",
       "4  021                   201604082038              0.374271  1AF23                 0.0\n",
       "5  021                   201604082038              0.374271  1AF25                 0.0\n",
       "6  021                   201604082038              0.374271  1AF47                -8.0\n",
       "7  021                   201604082038              0.374271  1AF67                 0.0\n",
       "8  021                   201604082038              0.374021  11405                 0.0\n",
       "9  021                   201604082038              0.374021  11401                 0.0"
      ]
     },
     "execution_count": 10,
     "metadata": {},
     "output_type": "execute_result"
    }
   ],
   "source": [
    "# tail (同じく大データでは極めて時間がかかるので、使うべきでない)\n",
    "df_mini.tail()"
   ]
  },
  {
   "cell_type": "markdown",
   "metadata": {},
   "source": [
    "#### describe"
   ]
  },
  {
   "cell_type": "code",
   "execution_count": 11,
   "metadata": {
    "ExecuteTime": {
     "end_time": "2019-08-29T11:46:15.617788Z",
     "start_time": "2019-08-29T11:46:05.219196Z"
    }
   },
   "outputs": [
    {
     "data": {
      "text/plain": [
       "         times                  val\n",
       "func                               \n",
       "50%      1.476                    0\n",
       "count  1000000              1000000\n",
       "mean     1.661     2546314787195073\n",
       "min        .16               -40960\n",
       "max      5.561  8431864402344411000\n",
       "75%      2.278                    1\n",
       "25%        .86                    0\n",
       "std      1.086   146501897523348300"
      ]
     },
     "execution_count": 11,
     "metadata": {},
     "output_type": "execute_result"
    }
   ],
   "source": [
    "# describe (100万件のデータで10秒くらい)。返り値はDataFrameではないので注意\n",
    "df_mini.describe()"
   ]
  },
  {
   "cell_type": "code",
   "execution_count": 12,
   "metadata": {
    "ExecuteTime": {
     "end_time": "2019-08-29T11:47:19.262965Z",
     "start_time": "2019-08-29T11:47:09.242420Z"
    }
   },
   "outputs": [
    {
     "data": {
      "text/plain": [
       "         times                  val\n",
       "func                               \n",
       "min        .16               -40960\n",
       "std       1.07   147227614489377100\n",
       "10%       .432                    0\n",
       "90%      2.775               14.902\n",
       "max      5.561  8431864402344411000\n",
       "mean     1.645   2571610660777561.7\n",
       "count  1000000              1000000"
      ]
     },
     "execution_count": 12,
     "metadata": {},
     "output_type": "execute_result"
    }
   ],
   "source": [
    "# percentileを変更できる。デフォルトは25%, 50%, 75%\n",
    "df_mini.describe(percentiles=[.1, .9])"
   ]
  },
  {
   "cell_type": "code",
   "execution_count": 13,
   "metadata": {
    "ExecuteTime": {
     "end_time": "2019-08-29T11:49:01.922927Z",
     "start_time": "2019-08-29T11:48:48.884296Z"
    }
   },
   "outputs": [
    {
     "data": {
      "text/plain": [
       "          carid starttime    times  feature                  val\n",
       "func                                                            \n",
       "10%        None      None     .408     None                    0\n",
       "count   1000000   1000000  1000000  1000000              1000000\n",
       "mean       None      None    1.659     None     2571610379302586\n",
       "min        None      None     .167     None               -40960\n",
       "max        None      None    5.561     None  8431864402344411000\n",
       "90%        None      None    2.798     None                   15\n",
       "std        None      None    1.083     None   147227598374208170\n",
       "unique        1        65     None      549                 None"
      ]
     },
     "execution_count": 13,
     "metadata": {},
     "output_type": "execute_result"
    }
   ],
   "source": [
    "# includeオプション。デフォルトではNoneで数値列だけについて計算するが、\n",
    "# allとするとstring系の列についても、null以外のレコードのcountと、unique数を計算してくれる\n",
    "df_mini.describe(percentiles=[.1, .9], include=\"all\")"
   ]
  },
  {
   "cell_type": "markdown",
   "metadata": {},
   "source": [
    "#### filter"
   ]
  },
  {
   "cell_type": "code",
   "execution_count": null,
   "metadata": {},
   "outputs": [],
   "source": [
    "# filter\n",
    "df_mini.filter()"
   ]
  },
  {
   "cell_type": "markdown",
   "metadata": {},
   "source": [
    "#### select"
   ]
  },
  {
   "cell_type": "code",
   "execution_count": 14,
   "metadata": {
    "ExecuteTime": {
     "end_time": "2019-08-29T11:50:25.247385Z",
     "start_time": "2019-08-29T11:50:23.534364Z"
    }
   },
   "outputs": [
    {
     "data": {
      "text/plain": [
       "                feature    val\n",
       "0  12406                   0.0\n",
       "1  12013                  -0.5\n",
       "2  12016                   0.0\n",
       "3  12017                   0.0\n",
       "4  12035                   0.0\n",
       "5  12037                   0.0\n",
       "6  12033                  -0.5\n",
       "7  12407                   0.0\n",
       "8  12405                   0.0\n",
       "9  12417                 751.0"
      ]
     },
     "execution_count": 14,
     "metadata": {},
     "output_type": "execute_result"
    }
   ],
   "source": [
    "# selectで文字列のリストを渡すと、列を選ぶことができる\n",
    "df_mini.select([\"feature\", \"val\"])"
   ]
  },
  {
   "cell_type": "markdown",
   "metadata": {},
   "source": [
    "#### indexing"
   ]
  },
  {
   "cell_type": "code",
   "execution_count": null,
   "metadata": {},
   "outputs": [],
   "source": [
    "# []を使ったアクセス(Python内部的には、[]の中身を引数として、DataFrameインスタンスの__getitem__メソッドが呼ばれる)"
   ]
  },
  {
   "cell_type": "code",
   "execution_count": null,
   "metadata": {},
   "outputs": [],
   "source": [
    "# ilocを使ったアクセス"
   ]
  },
  {
   "cell_type": "code",
   "execution_count": null,
   "metadata": {},
   "outputs": [],
   "source": [
    "# locを使ったアクセス"
   ]
  },
  {
   "cell_type": "markdown",
   "metadata": {},
   "source": [
    "#### sort"
   ]
  },
  {
   "cell_type": "code",
   "execution_count": null,
   "metadata": {},
   "outputs": [],
   "source": [
    "# sort"
   ]
  },
  {
   "cell_type": "markdown",
   "metadata": {},
   "source": [
    "### データを操作する"
   ]
  },
  {
   "cell_type": "markdown",
   "metadata": {},
   "source": [
    "#### assign"
   ]
  },
  {
   "cell_type": "markdown",
   "metadata": {},
   "source": [
    "teradatamlではassignでのみ、新しい列を作成できる"
   ]
  },
  {
   "cell_type": "code",
   "execution_count": 24,
   "metadata": {
    "ExecuteTime": {
     "end_time": "2019-08-29T11:56:47.857967Z",
     "start_time": "2019-08-29T11:56:45.855490Z"
    }
   },
   "outputs": [
    {
     "data": {
      "text/plain": [
       "                  carid                 starttime     times               feature  val  val4   valtime\n",
       "0  021                   201604091832              0.286238  3A767                 0.0   0.0  0.286238\n",
       "1  021                   201604091832              0.286238  3A754                 0.0   0.0  0.286238\n",
       "2  021                   201604091832              0.286238  3A755                 0.0   0.0  0.286238\n",
       "3  021                   201604091832              0.286238  3A756                 0.0   0.0  0.286238\n",
       "4  021                   201604091832              0.286238  3A740                 0.0   0.0  0.286238\n",
       "5  021                   201604091832              0.286238  3A741                 0.0   0.0  0.286238\n",
       "6  021                   201604091832              0.286238  3A757                 0.0   0.0  0.286238\n",
       "7  021                   201604091832              0.286238  3A752                 0.0   0.0  0.286238\n",
       "8  021                   201604091832              0.286238  3A766                 0.0   0.0  0.286238\n",
       "9  021                   201604091832              0.286238  3A764                 0.0   0.0  0.286238"
      ]
     },
     "execution_count": 24,
     "metadata": {},
     "output_type": "execute_result"
    }
   ],
   "source": [
    "# assign: val4という列と、valtimeという列を作成\n",
    "df_mini.assign(val4 = df_mini.val * 4, valtime = df_mini.val + df_mini.times)"
   ]
  },
  {
   "cell_type": "markdown",
   "metadata": {},
   "source": [
    "計算は+, -, *, /, %がサポートされている。//(整数の商)や**(累乗)はサポートされていない。"
   ]
  },
  {
   "cell_type": "code",
   "execution_count": 34,
   "metadata": {
    "ExecuteTime": {
     "end_time": "2019-08-29T12:01:55.971514Z",
     "start_time": "2019-08-29T12:01:54.176964Z"
    }
   },
   "outputs": [
    {
     "data": {
      "text/plain": [
       "  dummy1 dummy2  val4  valtime\n",
       "0      1  dummy   0.0  1.54316\n",
       "1      1  dummy  12.0  4.54316\n",
       "2      1  dummy   0.0  1.54316\n",
       "3      1  dummy   0.0  1.54316\n",
       "4      1  dummy   0.0  1.54316\n",
       "5      1  dummy   0.0  1.54316\n",
       "6      1  dummy   0.0  1.54316\n",
       "7      1  dummy -32.0 -6.45684\n",
       "8      1  dummy   0.0  1.54316\n",
       "9      1  dummy   0.0  1.54316"
      ]
     },
     "execution_count": 34,
     "metadata": {},
     "output_type": "execute_result"
    }
   ],
   "source": [
    "# drop_columnsオプションをTrueにすると、以前あった列は落とされる\n",
    "df_mini.assign(val4 = df_mini.val * 4, valtime = df_mini.val + df_mini.times,\n",
    "               dummy1 = 1, dummy2 = \"dummy\",\n",
    "              drop_columns=True)\n",
    "# また、今回のように定数や文字列を入力することも可能"
   ]
  },
  {
   "cell_type": "markdown",
   "metadata": {},
   "source": [
    "#### drop"
   ]
  },
  {
   "cell_type": "code",
   "execution_count": 27,
   "metadata": {
    "ExecuteTime": {
     "end_time": "2019-08-29T11:59:00.345391Z",
     "start_time": "2019-08-29T11:58:57.978728Z"
    }
   },
   "outputs": [
    {
     "data": {
      "text/plain": [
       "                  carid                 starttime     times               feature  val\n",
       "0  021                   201604092237              0.334673  3D063                 0.0\n",
       "1  021                   201604092237              0.334673  3D066                 0.0\n",
       "2  021                   201604092237              0.334673  3D052                 0.0\n",
       "3  021                   201604092237              0.334673  3D055                 0.0\n",
       "4  021                   201604092237              0.334673  3D045                 0.0\n",
       "5  021                   201604092237              0.334673  3D046                 0.0\n",
       "6  021                   201604092237              0.334673  3D057                 0.0\n",
       "7  021                   201604092237              0.334673  3D064                 0.0\n",
       "8  021                   201604092237              0.334673  3D062                 0.0\n",
       "9  021                   201604092237              0.334673  3D073                 0.0"
      ]
     },
     "execution_count": 27,
     "metadata": {},
     "output_type": "execute_result"
    }
   ],
   "source": [
    "# drop(列)\n",
    "df_mini.drop([\"starttime\", \"carid\"]) # 一つだけ落とすときは、リストでなくてもよい"
   ]
  },
  {
   "cell_type": "markdown",
   "metadata": {},
   "source": [
    "#### dropna"
   ]
  },
  {
   "cell_type": "code",
   "execution_count": 37,
   "metadata": {
    "ExecuteTime": {
     "end_time": "2019-08-29T12:08:45.113189Z",
     "start_time": "2019-08-29T12:08:41.751862Z"
    }
   },
   "outputs": [
    {
     "data": {
      "text/plain": [
       "                  carid                 starttime     times               feature     val\n",
       "0  021                   201604110824              1.555105  12907                   0.00\n",
       "1  021                   201604110824              1.555353  11451                   0.00\n",
       "2  021                   201604110824              1.555353  11433                 823.75\n",
       "3  021                   201604110824              1.555353  11413                -200.00\n",
       "4  021                   201604110824              1.555353  11417                   0.00\n",
       "5  021                   201604110824              1.555353  11401                   0.00\n",
       "6  021                   201604110824              1.555353  11415                   0.00\n",
       "7  021                   201604110824              1.555353  11463                -200.00\n",
       "8  021                   201604110824              1.555105  12906                   0.00\n",
       "9  021                   201604110824              1.555105  12927                   0.00"
      ]
     },
     "execution_count": 37,
     "metadata": {},
     "output_type": "execute_result"
    }
   ],
   "source": [
    "# dropna\n",
    "df_mini.dropna() # 一つでもnullのある行を落とす"
   ]
  },
  {
   "cell_type": "code",
   "execution_count": 59,
   "metadata": {
    "ExecuteTime": {
     "end_time": "2019-08-29T20:05:38.085265Z",
     "start_time": "2019-08-29T20:05:34.786722Z"
    }
   },
   "outputs": [
    {
     "data": {
      "text/plain": [
       "                  carid                 starttime     times               feature          val\n",
       "0  021                   201604092247              1.672069  12906                    0.000000\n",
       "1  021                   201604092247              1.672271  13F47                   10.196078\n",
       "2  021                   201604092247              1.672271  13F17                 2451.000000\n",
       "3  021                   201604092247              1.672271  13F07                    0.000000\n",
       "4  021                   201604092247              1.672390  1E304                    0.000000\n",
       "5  021                   201604092247              1.672390  1E305                    0.000000\n",
       "6  021                   201604092247              1.672390  1E303                    0.000000\n",
       "7  021                   201604092247              1.672069  12907                    0.000000\n",
       "8  021                   201604092247              1.672069  12905                   75.000000\n",
       "9  021                   201604092247              1.672069  12925                  741.000000"
      ]
     },
     "execution_count": 59,
     "metadata": {},
     "output_type": "execute_result"
    }
   ],
   "source": [
    "# thresholdオプション\n",
    "df_mini.dropna(thresh=2) # 2よりnullが多い行を落とす"
   ]
  },
  {
   "cell_type": "code",
   "execution_count": 60,
   "metadata": {
    "ExecuteTime": {
     "end_time": "2019-08-29T20:06:41.200905Z",
     "start_time": "2019-08-29T20:06:38.077608Z"
    }
   },
   "outputs": [
    {
     "data": {
      "text/plain": [
       "                  carid                 starttime     times               feature     val\n",
       "0  021                   201604141023              1.632478  1B825                 308.75\n",
       "1  021                   201604141023              1.632478  1B806                   0.00\n",
       "2  021                   201604141023              1.632478  1B807                   0.00\n",
       "3  021                   201604141023              1.632711  1EF61                  -0.25\n",
       "4  021                   201604141023              1.632711  1EF64                   3.00\n",
       "5  021                   201604141023              1.632711  1EF65                   0.00\n",
       "6  021                   201604141023              1.632711  1EF62                   0.00\n",
       "7  021                   201604141023              1.632478  1B827                   0.00\n",
       "8  021                   201604141023              1.632478  1B847                   0.00\n",
       "9  021                   201604141023              1.632478  1B867                   0.00"
      ]
     },
     "execution_count": 60,
     "metadata": {},
     "output_type": "execute_result"
    }
   ],
   "source": [
    "# any, allオプション\n",
    "df_mini.dropna(how=\"all\") # 全てnullの行を落とす"
   ]
  },
  {
   "cell_type": "code",
   "execution_count": 61,
   "metadata": {
    "ExecuteTime": {
     "end_time": "2019-08-29T20:07:12.640753Z",
     "start_time": "2019-08-29T20:07:09.998691Z"
    }
   },
   "outputs": [
    {
     "data": {
      "text/plain": [
       "                  carid                 starttime     times               feature   val\n",
       "0  021                   201604110824              1.564714  12016                  0.0\n",
       "1  021                   201604110824              1.564714  12035                  0.0\n",
       "2  021                   201604110824              1.564714  12037                  0.0\n",
       "3  021                   201604110824              1.564714  12051                  2.0\n",
       "4  021                   201604110824              1.564714  12054                  0.0\n",
       "5  021                   201604110824              1.564714  12057                  0.0\n",
       "6  021                   201604110824              1.564714  12052                  0.0\n",
       "7  021                   201604110824              1.564714  12017                  0.0\n",
       "8  021                   201604110824              1.564714  12013                 34.5\n",
       "9  021                   201604110824              1.564513  12407                  0.0"
      ]
     },
     "execution_count": 61,
     "metadata": {},
     "output_type": "execute_result"
    }
   ],
   "source": [
    "# subsetオプション\n",
    "df_mini.dropna(how=\"all\", subset=[\"carid\", \"starttime\"]) # subsetで選択した列について、全てnullの行を落とす"
   ]
  },
  {
   "cell_type": "markdown",
   "metadata": {},
   "source": [
    "#### 集約(count/max/min/mean/std/sum)"
   ]
  },
  {
   "cell_type": "code",
   "execution_count": 38,
   "metadata": {
    "ExecuteTime": {
     "end_time": "2019-08-29T12:09:45.692088Z",
     "start_time": "2019-08-29T12:09:42.593372Z"
    }
   },
   "outputs": [
    {
     "data": {
      "text/plain": [
       "              max_carid             max_starttime  max_times           max_feature       max_val\n",
       "0  021                   201604192042               5.560586  50007                 8.431864e+18"
      ]
     },
     "execution_count": 38,
     "metadata": {},
     "output_type": "execute_result"
    }
   ],
   "source": [
    "# count max, min, mean, std, sum\n",
    "df_mini.max() # min, countも同様"
   ]
  },
  {
   "cell_type": "code",
   "execution_count": 41,
   "metadata": {
    "ExecuteTime": {
     "end_time": "2019-08-29T12:10:51.679026Z",
     "start_time": "2019-08-29T12:10:49.584260Z"
    }
   },
   "outputs": [
    {
     "data": {
      "text/plain": [
       "   mean_times      mean_val\n",
       "0    1.704087  2.563178e+15"
      ]
     },
     "execution_count": 41,
     "metadata": {},
     "output_type": "execute_result"
    }
   ],
   "source": [
    "df_mini.mean() # std, sumも同様。数値系の列のみ計算される"
   ]
  },
  {
   "cell_type": "markdown",
   "metadata": {},
   "source": [
    "#### groupby"
   ]
  },
  {
   "cell_type": "code",
   "execution_count": 42,
   "metadata": {
    "ExecuteTime": {
     "end_time": "2019-08-29T12:11:11.496630Z",
     "start_time": "2019-08-29T12:11:08.910647Z"
    }
   },
   "outputs": [
    {
     "data": {
      "text/plain": [
       "                feature             min_carid             min_starttime  min_times  min_val\n",
       "0  3D077                 021                   201604082038               0.182768      0.0\n",
       "1  3D052                 021                   201604082038               0.182768      0.0\n",
       "2  3B855                 021                   201604082038               0.175314      1.0\n",
       "3  3A125                 021                   201604082038               0.162376      0.0\n",
       "4  3D945                 021                   201604082038               0.183437      0.0\n",
       "5  3D025                 021                   201604082038               0.182768      0.0\n",
       "6  3C112                 021                   201604082038               0.193587      0.0\n",
       "7  3A717                 021                   201604082038               0.201973      0.0\n",
       "8  3D573                 021                   201604082038               0.193538      0.0\n",
       "9  3D105                 021                   201604082038               0.192783      0.0"
      ]
     },
     "execution_count": 42,
     "metadata": {},
     "output_type": "execute_result"
    }
   ],
   "source": [
    "# groupby\n",
    "df_mini.groupby(\"feature\").min() # std, sum, count, min, maxも同様"
   ]
  },
  {
   "cell_type": "code",
   "execution_count": 43,
   "metadata": {
    "ExecuteTime": {
     "end_time": "2019-08-29T12:12:32.708311Z",
     "start_time": "2019-08-29T12:12:30.028260Z"
    }
   },
   "outputs": [
    {
     "data": {
      "text/plain": [
       "                feature                 starttime             min_carid  min_times  min_val\n",
       "0  3E212                 201604092202              021                    0.334040    1.000\n",
       "1  3D541                 201604181204              021                    0.217951    0.000\n",
       "2  31061                 201604092247              021                    0.352561    0.000\n",
       "3  3C313                 201604091832              021                    0.294092    0.000\n",
       "4  31457                 201604120829              021                    1.638601    0.445\n",
       "5  32E33                 201604091203              021                    0.264973    0.000\n",
       "6  1AF01                 201604092247              021                    0.285486    0.000\n",
       "7  31802                 201604142234              021                    0.370648    0.000\n",
       "8  31827                 201604111736              021                    0.295908  588.000\n",
       "9  3C377                 201604130633              021                    0.208667    0.000"
      ]
     },
     "execution_count": 43,
     "metadata": {},
     "output_type": "execute_result"
    }
   ],
   "source": [
    "# groupby(複数でgroupする場合)\n",
    "df_mini.groupby([\"starttime\",\"feature\"]).min() # std, sum, count, min, maxも同様"
   ]
  },
  {
   "cell_type": "markdown",
   "metadata": {},
   "source": [
    "#### agg"
   ]
  },
  {
   "cell_type": "code",
   "execution_count": 45,
   "metadata": {
    "ExecuteTime": {
     "end_time": "2019-08-29T12:14:45.013422Z",
     "start_time": "2019-08-29T12:14:42.460062Z"
    }
   },
   "outputs": [
    {
     "data": {
      "text/plain": [
       "                feature                 starttime    mean_val  max_val  std_times\n",
       "0  2A216                 201604091208                0.000000    0.000   2.009458\n",
       "1  3D667                 201604131335                5.000000    5.000        NaN\n",
       "2  3E212                 201604092202                1.000000    1.000   0.302254\n",
       "3  47F06                 201604110931                1.000000    1.000        NaN\n",
       "4  31827                 201604111736              588.000000  588.000   0.736644\n",
       "5  3A702                 201604090732                0.000000    0.000   0.216026\n",
       "6  31802                 201604142234                0.000000    0.000   0.405548\n",
       "7  31061                 201604092247                0.000000    0.000   0.418275\n",
       "8  31457                 201604120829                0.453333    0.455   0.375260\n",
       "9  3D603                 201604110941                0.000000    0.000   0.389497"
      ]
     },
     "execution_count": 45,
     "metadata": {},
     "output_type": "execute_result"
    }
   ],
   "source": [
    "# agg\n",
    "df_mini.groupby([\"starttime\",\"feature\"]).agg({\"val\":[\"mean\",\"max\"], \"times\":[\"std\"]})"
   ]
  },
  {
   "cell_type": "code",
   "execution_count": 49,
   "metadata": {
    "ExecuteTime": {
     "end_time": "2019-08-29T12:15:56.076272Z",
     "start_time": "2019-08-29T12:15:53.331605Z"
    }
   },
   "outputs": [
    {
     "data": {
      "text/plain": [
       "                feature                 starttime             max_carid             min_carid  max_times  min_times  max_val  min_val\n",
       "0  3D541                 201604181204              021                   021                    0.217951   0.217951      0.0      0.0\n",
       "1  3E212                 201604092202              021                   021                    1.529876   0.631396      1.0      1.0\n",
       "2  3D667                 201604131335              021                   021                    0.216893   0.216893      5.0      5.0\n",
       "3  3C377                 201604130633              021                   021                    0.208667   0.208667      0.0      0.0\n",
       "4  31827                 201604111736              021                   021                    2.795961   0.295908    588.0    588.0\n",
       "5  3E237                 201604082048              021                   021                    2.886065   0.590623      0.0      0.0\n",
       "6  3A702                 201604090732              021                   021                    2.135116   1.535137      0.0      0.0\n",
       "7  1AF01                 201604092247              021                   021                    1.675548   0.385476      0.0      0.0\n",
       "8  3A762                 201604092202              021                   021                    1.527815   0.628122      0.0      0.0\n",
       "9  32E33                 201604091203              021                   021                    4.164486   0.264973      0.0      0.0"
      ]
     },
     "execution_count": 49,
     "metadata": {},
     "output_type": "execute_result"
    }
   ],
   "source": [
    "# agg(特に列を指定しない場合はlistで入れる。数値列のみ返るので注意)\n",
    "df_mini.groupby([\"starttime\",\"feature\"]).agg([\"max\",\"min\"])"
   ]
  },
  {
   "cell_type": "code",
   "execution_count": 51,
   "metadata": {
    "ExecuteTime": {
     "end_time": "2019-08-29T12:17:43.758404Z",
     "start_time": "2019-08-29T12:17:41.748396Z"
    }
   },
   "outputs": [
    {
     "data": {
      "text/plain": [
       "   min_val       max_val       std_val\n",
       "0 -40960.0  8.431864e+18  1.479495e+17"
      ]
     },
     "execution_count": 51,
     "metadata": {},
     "output_type": "execute_result"
    }
   ],
   "source": [
    "# aggはgroupbyなしでも使える\n",
    "df_mini.agg({\"val\":[\"min\",\"max\",\"std\"]})"
   ]
  },
  {
   "cell_type": "code",
   "execution_count": 53,
   "metadata": {
    "ExecuteTime": {
     "end_time": "2019-08-29T12:19:38.735877Z",
     "start_time": "2019-08-29T12:19:36.825452Z"
    }
   },
   "outputs": [
    {
     "data": {
      "text/plain": [
       "  unique_val\n",
       "0      18324"
      ]
     },
     "execution_count": 53,
     "metadata": {},
     "output_type": "execute_result"
    }
   ],
   "source": [
    "# aggでは\"unique\"もつかえる\n",
    "df_mini.agg({\"val\":[\"unique\"]})"
   ]
  },
  {
   "cell_type": "code",
   "execution_count": 44,
   "metadata": {
    "ExecuteTime": {
     "end_time": "2019-08-29T12:13:48.224165Z",
     "start_time": "2019-08-29T12:13:37.082852Z"
    },
    "scrolled": true
   },
   "outputs": [
    {
     "data": {
      "text/plain": [
       "                            times    val\n",
       "feature              func               \n",
       "0FA21                25%     .842      0\n",
       "                     50%    1.453      0\n",
       "                     75%    2.283      0\n",
       "                     count   6092   6092\n",
       "                     max    5.552      0\n",
       "                     mean   1.641      0\n",
       "                     min     .161      0\n",
       "                     std    1.083      0\n",
       "0FA22                25%     .842      0\n",
       "                     50%    1.453      0\n",
       "                     75%    2.282      0\n",
       "                     count   6091   6091\n",
       "                     max    5.552      0\n",
       "                     mean   1.641      0\n",
       "                     min     .161      0\n",
       "                     std    1.082      0\n",
       "0FA23                25%     .842      0\n",
       "                     50%    1.453      0\n",
       "                     75%    2.282      0\n",
       "                     count   6091   6091\n",
       "                     max    5.552      0\n",
       "                     mean   1.641      0\n",
       "                     min     .161      0\n",
       "                     std    1.082      0\n",
       "0FA25                25%     .842      0\n",
       "                     50%    1.453      0\n",
       "                     75%    2.282      0\n",
       "                     count   6092   6092\n",
       "                     max    5.552      0\n",
       "                     mean   1.641      0\n",
       "                     min     .161      0\n",
       "                     std    1.082      0\n",
       "0FA26                25%     .842      0\n",
       "                     50%    1.453      0\n",
       "                     75%    2.282      0\n",
       "                     count   6092   6092\n",
       "                     max    5.552      0\n",
       "                     mean   1.641      0\n",
       "                     min     .161      0\n",
       "                     std    1.082      0\n",
       "0FA27                25%     .842      0\n",
       "                     50%    1.453      0\n",
       "                     75%    2.282      0\n",
       "                     count   6092   6092\n",
       "                     max    5.552      0\n",
       "                     mean   1.641      0\n",
       "                     min     .161      0\n",
       "                     std    1.082      0\n",
       "0FA32                25%     .841      0\n",
       "                     50%    1.453      0\n",
       "                     75%    2.282      0\n",
       "                     count   6092   6092\n",
       "                     max    5.552      0\n",
       "                     mean   1.641      0\n",
       "                     min     .161      0\n",
       "                     std    1.083      0\n",
       "0FA35                25%     .841      0\n",
       "                     50%    1.453      0\n",
       "                     75%    2.282      0\n",
       "                     count   6092   6092\n",
       "                     max    5.552      0\n",
       "                     mean   1.641      0\n",
       "                     min     .161      0\n",
       "                     std    1.083      0\n",
       "0FA37                25%     .842      1\n",
       "                     50%    1.453      2\n",
       "                     75%    2.283   2.25\n",
       "                     count   6092   6092\n",
       "                     max    5.552      3\n",
       "                     mean   1.641  1.501\n",
       "                     min     .161      0\n",
       "                     std    1.083  1.118\n",
       "0FA43                25%     .841      0\n",
       "                     50%    1.453      0\n",
       "                     75%    2.282      0\n",
       "                     count   6093   6093\n",
       "                     max    5.552      0\n",
       "                     mean   1.641      0\n",
       "                     min     .161      0\n",
       "                     std    1.082      0\n",
       "0FA44                25%     .841      0\n",
       "                     50%    1.453      0\n",
       "                     75%    2.282      0\n",
       "                     count   6093   6093\n",
       "                     max    5.552      0\n",
       "                     mean   1.641      0\n",
       "                     min     .161      0\n",
       "                     std    1.082      0\n",
       "0FA45                25%     .842      0\n",
       "                     50%    1.453      0\n",
       "                     75%    2.282      0\n",
       "                     count   6091   6091\n",
       "                     max    5.552      0\n",
       "                     mean   1.641      0\n",
       "                     min     .161      0\n",
       "                     std    1.082      0\n",
       "0FA46                25%     .841      0\n",
       "                     50%    1.453      0\n",
       "                     75%    2.282      0\n",
       "                     count   6093   6093"
      ]
     },
     "execution_count": 44,
     "metadata": {},
     "output_type": "execute_result"
    }
   ],
   "source": [
    "# describeも使える。この場合はDataFrameでは返ってこないので注意\n",
    "df_mini.groupby(\"feature\").describe()"
   ]
  },
  {
   "cell_type": "markdown",
   "metadata": {},
   "source": [
    "#### join"
   ]
  },
  {
   "cell_type": "code",
   "execution_count": null,
   "metadata": {},
   "outputs": [],
   "source": [
    "# join\n"
   ]
  },
  {
   "cell_type": "markdown",
   "metadata": {},
   "source": [
    "pandas同等、\"=\"のjoinのみサポートされており、不等号joinはサポートされていないので注意。"
   ]
  },
  {
   "cell_type": "markdown",
   "metadata": {},
   "source": [
    "#### merge"
   ]
  },
  {
   "cell_type": "markdown",
   "metadata": {},
   "source": [
    "joinは同じ名前の列がないと結合できないが、mergeはそれぞれのテーブルで結合に使う列を指定できる"
   ]
  },
  {
   "cell_type": "code",
   "execution_count": null,
   "metadata": {},
   "outputs": [],
   "source": [
    "# merge\n"
   ]
  },
  {
   "cell_type": "markdown",
   "metadata": {},
   "source": [
    "#### indexの指定"
   ]
  },
  {
   "cell_type": "code",
   "execution_count": null,
   "metadata": {},
   "outputs": [],
   "source": [
    "# set_index\n"
   ]
  },
  {
   "cell_type": "markdown",
   "metadata": {},
   "source": [
    "### Pandas ⇔ Teradata"
   ]
  },
  {
   "cell_type": "markdown",
   "metadata": {},
   "source": [
    "#### to_Pandas"
   ]
  },
  {
   "cell_type": "code",
   "execution_count": null,
   "metadata": {},
   "outputs": [],
   "source": []
  },
  {
   "cell_type": "markdown",
   "metadata": {},
   "source": [
    "#### copy_to_sql"
   ]
  },
  {
   "cell_type": "code",
   "execution_count": null,
   "metadata": {},
   "outputs": [],
   "source": []
  }
 ],
 "metadata": {
  "kernelspec": {
   "display_name": "Python [conda env:suzuki] *",
   "language": "python",
   "name": "conda-env-suzuki-py"
  },
  "language_info": {
   "codemirror_mode": {
    "name": "ipython",
    "version": 3
   },
   "file_extension": ".py",
   "mimetype": "text/x-python",
   "name": "python",
   "nbconvert_exporter": "python",
   "pygments_lexer": "ipython3",
   "version": "3.6.8"
  },
  "latex_envs": {
   "LaTeX_envs_menu_present": true,
   "autoclose": false,
   "autocomplete": true,
   "bibliofile": "biblio.bib",
   "cite_by": "apalike",
   "current_citInitial": 1,
   "eqLabelWithNumbers": true,
   "eqNumInitial": 1,
   "hotkeys": {
    "equation": "Ctrl-E",
    "itemize": "Ctrl-I"
   },
   "labels_anchors": false,
   "latex_user_defs": false,
   "report_style_numbering": false,
   "user_envs_cfg": false
  },
  "nbTranslate": {
   "displayLangs": [
    "*"
   ],
   "hotkey": "alt-t",
   "langInMainMenu": true,
   "sourceLang": "en",
   "targetLang": "fr",
   "useGoogleTranslate": true
  },
  "notify_time": "10",
  "toc": {
   "base_numbering": 1,
   "nav_menu": {},
   "number_sections": true,
   "sideBar": true,
   "skip_h1_title": false,
   "title_cell": "Table of Contents",
   "title_sidebar": "Contents",
   "toc_cell": false,
   "toc_position": {},
   "toc_section_display": true,
   "toc_window_display": true
  }
 },
 "nbformat": 4,
 "nbformat_minor": 2
}
