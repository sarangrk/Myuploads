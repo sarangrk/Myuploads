{
 "cells": [
  {
   "cell_type": "markdown",
   "metadata": {},
   "source": [
    "# Model with Integrated Variables"
   ]
  },
  {
   "cell_type": "markdown",
   "metadata": {},
   "source": [
    "- 他のパーツの過去のワランティ数(先行指標となるパーツがあるかもしれない)\n",
    "- 生存分析から計算された翌月の故障数\n",
    "    - 生存分析は別途行う。せっかくなので、練習も兼ねてPyStanを使用して推定を行うのが良いだろう。\n",
    "    - ワイブル分布はハザードレートが時間に対して単調増加(指数分布であれば一定)するが、今回のケースではハザードレートが単調関数ではないので、ベースライン関数を用いたセミパラメトリックな方法を使うか、ワイブル分布(または指数分布)と調整項の和または積として定義した分布をベイズ推定するのが良さそう。\n",
    "- 地域の組み入れ方も、個別単位で組み入れる必要があるので、生存分析に組み入れるか、生存分析で得られた故障数を地域毎にまとめて処理する方法がよいだろう。\n",
    "- "
   ]
  }
 ],
 "metadata": {
  "kernelspec": {
   "display_name": "Python [conda env:suzuki] *",
   "language": "python",
   "name": "conda-env-suzuki-py"
  },
  "language_info": {
   "codemirror_mode": {
    "name": "ipython",
    "version": 3
   },
   "file_extension": ".py",
   "mimetype": "text/x-python",
   "name": "python",
   "nbconvert_exporter": "python",
   "pygments_lexer": "ipython3",
   "version": "3.6.8"
  }
 },
 "nbformat": 4,
 "nbformat_minor": 2
}
