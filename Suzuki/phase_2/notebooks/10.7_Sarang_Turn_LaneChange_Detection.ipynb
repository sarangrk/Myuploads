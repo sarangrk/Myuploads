{
 "cells": [
  {
   "cell_type": "markdown",
   "metadata": {},
   "source": [
    "# 右左折、カーブ及び車線変更の検出"
   ]
  },
  {
   "cell_type": "markdown",
   "metadata": {},
   "source": [
    "## 概要"
   ]
  },
  {
   "cell_type": "markdown",
   "metadata": {},
   "source": [
    "[こちら](https://tagi98.github.io/files/publication/VSense.pdf)の論文を参考に、ルールベースで右左折・カーブ・車線変更を検出する。"
   ]
  },
  {
   "cell_type": "markdown",
   "metadata": {},
   "source": [
    "## データ準備"
   ]
  },
  {
   "cell_type": "code",
   "execution_count": 1,
   "metadata": {
    "ExecuteTime": {
     "end_time": "2019-08-06T01:02:40.993304Z",
     "start_time": "2019-08-06T01:02:38.320790Z"
    }
   },
   "outputs": [],
   "source": [
    "%matplotlib inline\n",
    "\n",
    "import pandas as pd\n",
    "import numpy as np\n",
    "import os, pathlib, math, time, sys\n",
    "import matplotlib.pyplot as plt\n",
    "import seaborn as sns\n",
    "from datetime import datetime\n",
    "from datetime import timedelta\n",
    "import matplotlib.dates as mdates"
   ]
  },
  {
   "cell_type": "code",
   "execution_count": 2,
   "metadata": {
    "ExecuteTime": {
     "end_time": "2019-08-06T01:02:46.746004Z",
     "start_time": "2019-08-06T01:02:40.995728Z"
    }
   },
   "outputs": [],
   "source": [
    "# 使用する特徴量\n",
    "feat_dict = {\n",
    "             '1EF37': 'Yaw_Rate',\n",
    "             '11947': 'Steering_Wheel_Absolute_Angle',\n",
    "             '31417': 'Vehicle_Speed'\n",
    "            }\n",
    "\n",
    "# 読み込み\n",
    "colname = ['carnumber', 'timestamp_min', 'timestamp_sec', 'feature_name', 'feature_value']\n",
    "data = pd.read_csv(\"../data/interim/20190605_CAN/\" + \n",
    "                 \"103.486_CAR1V21_HDD2/Job1/SUZUKI_YSB-021_MRR_2016-04-20_06-27_0001.BLF.csv\",\n",
    "                 header=None,names=colname)\n",
    "\n",
    "# 使用する特徴量を含むレコードのみ残す\n",
    "data = data.loc[data['feature_name'].isin(feat_dict.keys()), :]"
   ]
  },
  {
   "cell_type": "code",
   "execution_count": 3,
   "metadata": {
    "ExecuteTime": {
     "end_time": "2019-08-06T01:02:46.768158Z",
     "start_time": "2019-08-06T01:02:46.748652Z"
    }
   },
   "outputs": [
    {
     "data": {
      "text/html": [
       "<div>\n",
       "<style scoped>\n",
       "    .dataframe tbody tr th:only-of-type {\n",
       "        vertical-align: middle;\n",
       "    }\n",
       "\n",
       "    .dataframe tbody tr th {\n",
       "        vertical-align: top;\n",
       "    }\n",
       "\n",
       "    .dataframe thead th {\n",
       "        text-align: right;\n",
       "    }\n",
       "</style>\n",
       "<table border=\"1\" class=\"dataframe\">\n",
       "  <thead>\n",
       "    <tr style=\"text-align: right;\">\n",
       "      <th></th>\n",
       "      <th>carnumber</th>\n",
       "      <th>timestamp_min</th>\n",
       "      <th>timestamp_sec</th>\n",
       "      <th>feature_name</th>\n",
       "      <th>feature_value</th>\n",
       "    </tr>\n",
       "  </thead>\n",
       "  <tbody>\n",
       "    <tr>\n",
       "      <th>65</th>\n",
       "      <td>21</td>\n",
       "      <td>201604200627</td>\n",
       "      <td>0.297781</td>\n",
       "      <td>31417</td>\n",
       "      <td>0.000</td>\n",
       "    </tr>\n",
       "    <tr>\n",
       "      <th>75</th>\n",
       "      <td>21</td>\n",
       "      <td>201604200627</td>\n",
       "      <td>0.299752</td>\n",
       "      <td>11947</td>\n",
       "      <td>-7.700</td>\n",
       "    </tr>\n",
       "    <tr>\n",
       "      <th>124</th>\n",
       "      <td>21</td>\n",
       "      <td>201604200627</td>\n",
       "      <td>0.304361</td>\n",
       "      <td>1EF37</td>\n",
       "      <td>0.025</td>\n",
       "    </tr>\n",
       "    <tr>\n",
       "      <th>258</th>\n",
       "      <td>21</td>\n",
       "      <td>201604200627</td>\n",
       "      <td>0.309778</td>\n",
       "      <td>11947</td>\n",
       "      <td>-7.700</td>\n",
       "    </tr>\n",
       "    <tr>\n",
       "      <th>474</th>\n",
       "      <td>21</td>\n",
       "      <td>201604200627</td>\n",
       "      <td>0.319752</td>\n",
       "      <td>11947</td>\n",
       "      <td>-7.700</td>\n",
       "    </tr>\n",
       "  </tbody>\n",
       "</table>\n",
       "</div>"
      ],
      "text/plain": [
       "     carnumber  timestamp_min  timestamp_sec feature_name  feature_value\n",
       "65          21   201604200627       0.297781        31417          0.000\n",
       "75          21   201604200627       0.299752        11947         -7.700\n",
       "124         21   201604200627       0.304361        1EF37          0.025\n",
       "258         21   201604200627       0.309778        11947         -7.700\n",
       "474         21   201604200627       0.319752        11947         -7.700"
      ]
     },
     "execution_count": 3,
     "metadata": {},
     "output_type": "execute_result"
    }
   ],
   "source": [
    "data.head()"
   ]
  },
  {
   "cell_type": "code",
   "execution_count": 4,
   "metadata": {
    "ExecuteTime": {
     "end_time": "2019-08-06T01:02:53.742526Z",
     "start_time": "2019-08-06T01:02:46.770993Z"
    }
   },
   "outputs": [
    {
     "name": "stderr",
     "output_type": "stream",
     "text": [
      "/Users/localadmin/anaconda3/lib/python3.6/site-packages/ipykernel_launcher.py:9: SettingWithCopyWarning: \n",
      "A value is trying to be set on a copy of a slice from a DataFrame.\n",
      "Try using .loc[row_indexer,col_indexer] = value instead\n",
      "\n",
      "See the caveats in the documentation: http://pandas.pydata.org/pandas-docs/stable/indexing.html#indexing-view-versus-copy\n",
      "  if __name__ == '__main__':\n"
     ]
    }
   ],
   "source": [
    "freq = \"100L\" # リサンプリング単位 = 100 ms\n",
    "series_sampled_dict = {} # リサンプルされたSeriesの辞書\n",
    "for feature in feat_dict.keys():\n",
    "    data_sub = data.loc[data.feature_name == feature] # 対象となるfeatureのレコードのみ抽出\n",
    "    \n",
    "    # レコード開始時刻(YYYYMMDD HH:MM)とレコード開始からの経過時刻(sec)を足して、暫定的なTimestampを作成\n",
    "    # 時刻(datetime型)にそのまま整数を足しても、きれいに計算されない。to_timedeltaを使用して、timedelta型に変更してから足す\n",
    "    data_sub[\"timestamp\"] = (pd.to_datetime(data_sub[\"timestamp_min\"].astype(str))\n",
    "                             + pd.to_timedelta(data_sub[\"timestamp_sec\"], unit=\"s\"))\n",
    "    data_sub.set_index(\"timestamp\", inplace=True)\n",
    "    series_sampled = data_sub[\"feature_value\"].resample(freq).mean() # リサンプル。平均値で集約。\n",
    "    series_sampled_dict[feat_dict[feature]] = series_sampled # リストに追加"
   ]
  },
  {
   "cell_type": "code",
   "execution_count": 5,
   "metadata": {
    "ExecuteTime": {
     "end_time": "2019-08-06T01:02:53.750323Z",
     "start_time": "2019-08-06T01:02:53.744680Z"
    }
   },
   "outputs": [],
   "source": [
    "data_sampled = pd.DataFrame(series_sampled_dict)"
   ]
  },
  {
   "cell_type": "markdown",
   "metadata": {},
   "source": [
    "## 右左折/車線変更と思われる旋回を検出"
   ]
  },
  {
   "cell_type": "markdown",
   "metadata": {},
   "source": [
    "原論文に変更を加え、右左折/車線変更に入ったと判定するヨーレートの閾値$\\delta_s$は原論文の2倍の0.1 radian/s, 右左折/車線変更に要する最大ヨーレートの閾値$\\delta_h$も原論文の2倍の0.14 radian/sとしている。  \n",
    "右左折/車線変更に要する最低所要時間を1.5秒、車線変更時の切り返しまでの時間を3秒としているのは原論文どおり。"
   ]
  },
  {
   "cell_type": "code",
   "execution_count": 6,
   "metadata": {
    "ExecuteTime": {
     "end_time": "2019-08-06T01:02:53.758968Z",
     "start_time": "2019-08-06T01:02:53.753322Z"
    }
   },
   "outputs": [
    {
     "name": "stdout",
     "output_type": "stream",
     "text": [
      "delta_s 5.73 degree/sec\n",
      "delta_h 8.02 degree/sec\n"
     ]
    }
   ],
   "source": [
    "# 角度で換算\n",
    "print(f\"delta_s {2 * 0.05 * (180 / np.pi):.2f} degree/sec\") # (degree/seconds)\n",
    "print(f\"delta_h {2 * 0.07 * (180 / np.pi):.2f} degree/sec\") # (degree/seconds)"
   ]
  },
  {
   "cell_type": "code",
   "execution_count": 7,
   "metadata": {
    "ExecuteTime": {
     "end_time": "2019-08-06T01:02:53.925512Z",
     "start_time": "2019-08-06T01:02:53.761599Z"
    }
   },
   "outputs": [],
   "source": [
    "state = 'No-Bump'\n",
    "state_2nd = ''\n",
    "delta_s = 2 * 0.05  * (180 / np.pi) # (degree/seconds)\n",
    "delta_h = 2 * 0.07 * (180 / np.pi) # (degree/seconds)\n",
    "TBUMP = 1.5 # seconds\n",
    "TNEXT_DELAY = 3 # seconds\n",
    "turn_list = list(np.repeat('Straight',len(data_sampled))) # 初期値は全て直線\n",
    "\n",
    "for i in range(data_sampled.shape[0]):\n",
    "    Y  = data_sampled.Yaw_Rate[i] # ヨーレート\n",
    "    \n",
    "    # start of 1st bump\n",
    "    if state == 'No-Bump' and abs(Y) > delta_s:\n",
    "        state = 'One-Bump'\n",
    "        start_point_bump1 = i # Record the start point of a possible bump                   \n",
    "        \n",
    "    # end of 1st bump\n",
    "    elif state == 'One-Bump' and abs(Y) < delta_s:\n",
    "        end_point_bump1 = i # Record the end point of a possible bump\n",
    "        # bump所要時間\n",
    "        time_diff = data_sampled.Yaw_Rate.index[end_point_bump1] - data_sampled.Yaw_Rate.index[start_point_bump1]\n",
    "        \n",
    "        # bump所要時間が一定時間以上 かつ ヨーレート最大値が一定値以上であれば有効\n",
    "        if time_diff.total_seconds()>=TBUMP and \\\n",
    "            np.abs(data_sampled.Yaw_Rate[start_point_bump1:end_point_bump1]).max() >= delta_h:                       \n",
    "            state = 'Waiting-for-Bump' # 有効なbumpであったと判断\n",
    "            sign_bump1 = np.sign(data_sampled.Yaw_Rate.iloc[start_point_bump1])\n",
    "        else:\n",
    "            state = 'No-Bump' # 無効なbump(ノイズなど)であったと判断\n",
    "            \n",
    "    elif state == 'Waiting-for-Bump':\n",
    "        # waiting-for-bumpの待機時間\n",
    "        Tdwell = data_sampled.Yaw_Rate.index[i] - data_sampled.Yaw_Rate.index[end_point_bump1]\n",
    "        \n",
    "        if Tdwell.total_seconds() <= TNEXT_DELAY:\n",
    "            if abs(Y) > delta_s:\n",
    "                # same direction -> onother one bump\n",
    "                if np.sign(Y) == sign_bump1:\n",
    "                    state = 'One-Bump'\n",
    "                    start_point_bump1 = i # Record the start point of a possible bump      \n",
    "                # opposite direction -> two bump (possible lane change)\n",
    "                else:\n",
    "                    state = 'Two-Bump'\n",
    "                    start_point_bump2 = i \n",
    "        \n",
    "        # end of waiting-for-bump\n",
    "        else:\n",
    "            if data_sampled.Yaw_Rate[start_point_bump1] > 0:\n",
    "                # left turn\n",
    "                turn_list[start_point_bump1:end_point_bump1] = \\\n",
    "                    np.repeat('Left_Turn',end_point_bump1-start_point_bump1)\n",
    "            else:\n",
    "                # right turn\n",
    "                turn_list[start_point_bump1:end_point_bump1] = \\\n",
    "                    np.repeat('Right_Turn',end_point_bump1-start_point_bump1)\n",
    "            state = 'No-Bump'\n",
    "    \n",
    "    # end of 2nd bump\n",
    "    elif state == 'Two-Bump' and abs(Y) < delta_s:\n",
    "        end_point_bump2 = i\n",
    "        # bump所要時間\n",
    "        time_diff_2 = data_sampled.Yaw_Rate.index[end_point_bump2] - \\\n",
    "            data_sampled.Yaw_Rate.index[start_point_bump2]\n",
    "\n",
    "        # bump所要時間が一定時間以上 かつ ヨーレート最大値が一定値以上であれば有効\n",
    "        if time_diff_2.total_seconds() >= TBUMP and \\\n",
    "            np.abs(data_sampled.Yaw_Rate[start_point_bump2:end_point_bump2]).max() >= delta_h:    \n",
    "            # 有効 -> 車線変更\n",
    "            if data_sampled.Yaw_Rate[start_point_bump1] > 0:\n",
    "                # left lane change\n",
    "                turn_list[start_point_bump1:end_point_bump2] = \\\n",
    "                    np.repeat('Lane_change_to_Left',end_point_bump2-start_point_bump1)\n",
    "            else:\n",
    "                # right lange change\n",
    "                turn_list[start_point_bump1:end_point_bump2] = \\\n",
    "                    np.repeat('Lane_change_to_Right',end_point_bump2-start_point_bump1)\n",
    "        else:\n",
    "            # 無効 -> 1つめのbumpをturnとして記録\n",
    "            if data_sampled.Yaw_Rate[start_point_bump1] > 0:\n",
    "                # left turn\n",
    "                turn_list[start_point_bump1:end_point_bump1] = \\\n",
    "                    np.repeat('Left_Turn',end_point_bump1-start_point_bump1)\n",
    "            else:\n",
    "                # right turn\n",
    "                turn_list[start_point_bump1:end_point_bump1] = \\\n",
    "                    np.repeat('Right_Turn',end_point_bump1-start_point_bump1)\n",
    "        state = 'No-Bump'\n",
    "\n",
    "data_sampled['Turn_status'] = turn_list"
   ]
  },
  {
   "cell_type": "code",
   "execution_count": 8,
   "metadata": {
    "ExecuteTime": {
     "end_time": "2019-08-06T01:02:54.235331Z",
     "start_time": "2019-08-06T01:02:53.928463Z"
    }
   },
   "outputs": [
    {
     "name": "stderr",
     "output_type": "stream",
     "text": [
      "/Users/localadmin/anaconda3/lib/python3.6/site-packages/pandas/plotting/_converter.py:129: FutureWarning: Using an implicitly registered datetime converter for a matplotlib plotting method. The converter was registered by pandas on import. Future versions of pandas will require you to explicitly register matplotlib converters.\n",
      "\n",
      "To register the converters:\n",
      "\t>>> from pandas.plotting import register_matplotlib_converters\n",
      "\t>>> register_matplotlib_converters()\n",
      "  warnings.warn(msg, FutureWarning)\n"
     ]
    },
    {
     "data": {
      "text/plain": [
       "<matplotlib.legend.Legend at 0x1a369e8d30>"
      ]
     },
     "execution_count": 8,
     "metadata": {},
     "output_type": "execute_result"
    },
    {
     "data": {
      "image/png": "[encoded data removed]",
      "text/plain": [
       "<Figure size 1440x360 with 1 Axes>"
      ]
     },
     "metadata": {
      "needs_background": "light"
     },
     "output_type": "display_data"
    }
   ],
   "source": [
    "# color map\n",
    "cmap = plt.get_cmap(\"tab10\")\n",
    "color_dict = {\"Straight\":cmap(0), \"Left_Turn\":cmap(1), \"Right_Turn\":cmap(2),\n",
    "             \"Lane_change_to_Right\":cmap(3), \"Lane_change_to_Right\":cmap(4),\n",
    "             \"Curvy_Road\":cmap(5)}\n",
    "\n",
    "fig,ax = plt.subplots(1,1,figsize = (20,5))\n",
    "ax.set_title('Yaw_Rate',color = 'red')\n",
    "ax.set_ylabel('deg/sec')\n",
    "ax.set_xlabel('observations')\n",
    "\n",
    "for name in data_sampled['Turn_status'].unique():\n",
    "    tmp = data_sampled.loc[data_sampled.Turn_status == name]\n",
    "    ax.plot(tmp.index, tmp['Yaw_Rate'], marker='o', linestyle='', label=name,\n",
    "           color=color_dict[name])\n",
    "    \n",
    "ax.legend()"
   ]
  },
  {
   "cell_type": "markdown",
   "metadata": {},
   "source": [
    "上記の10分間のデータでは、車線変更と思しき旋回が1回、右左折と思しき旋回が数回検出された。"
   ]
  },
  {
   "cell_type": "markdown",
   "metadata": {},
   "source": [
    "## 右左折/車線変更と思われる旋回のうち、単なるカーブ走行であったものを検出"
   ]
  },
  {
   "cell_type": "code",
   "execution_count": 9,
   "metadata": {
    "ExecuteTime": {
     "end_time": "2019-08-06T01:02:54.241050Z",
     "start_time": "2019-08-06T01:02:54.237536Z"
    }
   },
   "outputs": [
    {
     "data": {
      "text/plain": [
       "Index(['Yaw_Rate', 'Steering_Wheel_Absolute_Angle', 'Vehicle_Speed',\n",
       "       'Turn_status'],\n",
       "      dtype='object')"
      ]
     },
     "execution_count": 9,
     "metadata": {},
     "output_type": "execute_result"
    }
   ],
   "source": [
    "data_sampled.columns"
   ]
  },
  {
   "cell_type": "code",
   "execution_count": 10,
   "metadata": {
    "ExecuteTime": {
     "end_time": "2019-08-06T01:02:54.786454Z",
     "start_time": "2019-08-06T01:02:54.242589Z"
    }
   },
   "outputs": [
    {
     "name": "stderr",
     "output_type": "stream",
     "text": [
      "/Users/localadmin/anaconda3/lib/python3.6/site-packages/ipykernel_launcher.py:54: SettingWithCopyWarning: \n",
      "A value is trying to be set on a copy of a slice from a DataFrame.\n",
      "Try using .loc[row_indexer,col_indexer] = value instead\n",
      "\n",
      "See the caveats in the documentation: http://pandas.pydata.org/pandas-docs/stable/indexing.html#indexing-view-versus-copy\n"
     ]
    }
   ],
   "source": [
    "state = ''\n",
    "W = []\n",
    "Ts = 0.1\n",
    "W_lane = 3.65 # meters of lane\n",
    "W_curve = 23 # meters of lane\n",
    "H = []\n",
    "\n",
    "data_sampled_revised = data_sampled.copy()\n",
    "data_sampled_revised[\"Vehicle_Speed_mps\"] = data_sampled_revised[\"Vehicle_Speed\"] * 1000 / (60 * 60)\n",
    "\n",
    "for i in range(data_sampled_revised.shape[0]):\n",
    "    if state == \"\":\n",
    "        # Turn開始\n",
    "        if data_sampled_revised.Turn_status[i] == 'Left_Turn' or \\\n",
    "            data_sampled_revised.Turn_status[i] == 'Right_Turn':\n",
    "            start_turn = i\n",
    "            state = 'Turn'\n",
    "            \n",
    "        # 車線変更開始\n",
    "        if data_sampled_revised.Turn_status[i] == 'Lane_change_to_Left' or \\\n",
    "            data_sampled_revised.Turn_status[i] == 'Lane_change_to_Right':\n",
    "            start_lane_change = i\n",
    "            state = 'Lane_change'\n",
    "    \n",
    "    # Turn終了\n",
    "    elif state == 'Turn' and data_sampled_revised.Turn_status[i] != 'Left_Turn' and \\\n",
    "        data_sampled_revised.Turn_status[i] != 'Right_Turn':\n",
    "        \n",
    "        Ys = np.radians(data_sampled_revised[\"Yaw_Rate\"].iloc[start_turn:i] * Ts) # 瞬間角度変化\n",
    "        Vs = data_sampled_revised[\"Vehicle_Speed_mps\"].iloc[start_turn:i] * Ts # 瞬間速度\n",
    "        \n",
    "        horizontal_moves = np.sin(Ys.cumsum()) * Vs\n",
    "        horitonzal_move_sum = sum(horizontal_moves)\n",
    "        W.append((horitonzal_move_sum, state))\n",
    "        \n",
    "        # 横移動が一定値よりも大きい場合は、曲がった道路と判定\n",
    "        if abs(horitonzal_move_sum) > W_curve:\n",
    "            data_sampled_revised.iloc[start_turn:i]['Turn_status'] = 'Curvy_Road'\n",
    "        Ys, Vs = [], []\n",
    "        state = ''\n",
    "            \n",
    "    # 車線変更終了\n",
    "    elif state == 'Lane_change' and data_sampled_revised.Turn_status[i] != 'Lane_change_to_Left' \\\n",
    "        and data_sampled_revised.Turn_status[i] != 'Lane_change_to_Right':\n",
    "        \n",
    "        Ys = np.radians(data_sampled_revised[\"Yaw_Rate\"].iloc[start_turn:i] * Ts) # 瞬間角度変化\n",
    "        Vs = data_sampled_revised[\"Vehicle_Speed_mps\"].iloc[start_turn:i] * Ts # 瞬間速度\n",
    "        horizontal_moves = np.sin(Ys.cumsum()) * Vs\n",
    "        horitonzal_move_sum = sum(horizontal_moves)\n",
    "        W.append((horitonzal_move_sum, state))\n",
    "        \n",
    "        # 横移動が一定値よりも大きい場合は、曲がった道路と判定\n",
    "        if abs(horitonzal_move_sum) > W_lane:\n",
    "            data_sampled_revised.iloc[start_lane_change:i]['Turn_status'] = 'Curvy_Road'\n",
    "        Ys, Vs = [], []\n",
    "        state = '' "
   ]
  },
  {
   "cell_type": "code",
   "execution_count": 11,
   "metadata": {
    "ExecuteTime": {
     "end_time": "2019-08-06T01:02:54.791393Z",
     "start_time": "2019-08-06T01:02:54.787973Z"
    }
   },
   "outputs": [
    {
     "data": {
      "text/plain": [
       "[(6.558130903790807, 'Turn'),\n",
       " (5.289472765296175, 'Turn'),\n",
       " (6.559650006063201, 'Turn'),\n",
       " (34.2311538831425, 'Lane_change'),\n",
       " (-8.382887978547812, 'Turn'),\n",
       " (-7.560778991744213, 'Turn'),\n",
       " (18.24877527407419, 'Turn')]"
      ]
     },
     "execution_count": 11,
     "metadata": {},
     "output_type": "execute_result"
    }
   ],
   "source": [
    "W"
   ]
  },
  {
   "cell_type": "code",
   "execution_count": 12,
   "metadata": {
    "ExecuteTime": {
     "end_time": "2019-08-06T01:02:55.070115Z",
     "start_time": "2019-08-06T01:02:54.793050Z"
    }
   },
   "outputs": [
    {
     "data": {
      "text/plain": [
       "<matplotlib.legend.Legend at 0x1a341b6160>"
      ]
     },
     "execution_count": 12,
     "metadata": {},
     "output_type": "execute_result"
    },
    {
     "data": {
      "image/png": "[encoded data removed]",
      "text/plain": [
       "<Figure size 1440x360 with 1 Axes>"
      ]
     },
     "metadata": {
      "needs_background": "light"
     },
     "output_type": "display_data"
    }
   ],
   "source": [
    "fig,ax = plt.subplots(1,1,figsize = (20,5))\n",
    "ax.set_title('Yaw_Rate',color = 'red')\n",
    "ax.set_ylabel('deg/sec')\n",
    "ax.set_xlabel('observations')\n",
    "\n",
    "for name in data_sampled_revised['Turn_status'].unique():\n",
    "    tmp = data_sampled_revised.loc[data_sampled_revised.Turn_status == name]\n",
    "    ax.plot(tmp.index, tmp['Yaw_Rate'], marker='o', linestyle='', label=name,\n",
    "           color=color_dict[name])\n",
    "    \n",
    "ax.legend()"
   ]
  },
  {
   "cell_type": "markdown",
   "metadata": {},
   "source": [
    "上記の10分間のデータでは、一つ前で検出された車線変更は、横移動距離が大きく、曲がった道路であるという検出結果となった。"
   ]
  },
  {
   "cell_type": "markdown",
   "metadata": {},
   "source": [
    "## ジオマップと比較/検証"
   ]
  },
  {
   "cell_type": "code",
   "execution_count": 13,
   "metadata": {
    "ExecuteTime": {
     "end_time": "2019-08-06T01:02:55.074487Z",
     "start_time": "2019-08-06T01:02:55.071883Z"
    }
   },
   "outputs": [],
   "source": [
    "samplingFrequency = 10 # 今回のデータは100ms間隔のサンプリングなので、サンプリング周波数は10Hz"
   ]
  },
  {
   "cell_type": "code",
   "execution_count": 14,
   "metadata": {
    "ExecuteTime": {
     "end_time": "2019-08-06T01:02:55.135703Z",
     "start_time": "2019-08-06T01:02:55.076292Z"
    }
   },
   "outputs": [],
   "source": [
    "dfCoordinate = data_sampled_revised[['Steering_Wheel_Absolute_Angle', 'Yaw_Rate', 'Vehicle_Speed', \n",
    "                            'Turn_status']]\n",
    "\n",
    "dfCoordinate['Vehicle_Speed_mps'] = dfCoordinate['Vehicle_Speed'] * 1000 / (60 * 60)\n",
    "dfCoordinate['cumu_yaw_rate'] = dfCoordinate.Yaw_Rate.cumsum() / samplingFrequency\n",
    "dfCoordinate['cumu_Steering_Wheel_Absolute_Angle'] =  \\\n",
    "    dfCoordinate.Steering_Wheel_Absolute_Angle.cumsum() / samplingFrequency\n",
    "\n",
    "dfCoordinate['cos'] = np.cos(np.radians(dfCoordinate['cumu_yaw_rate'])) \n",
    "dfCoordinate['sin'] = np.sin(np.radians(dfCoordinate['cumu_yaw_rate'])) \n",
    "\n",
    "vecSpeed100ms = dfCoordinate['Vehicle_Speed_mps'] / samplingFrequency\n",
    "\n",
    "dfCoordinate['relative_x']   = dfCoordinate['cos'] * vecSpeed100ms\n",
    "dfCoordinate['relative_y']   = dfCoordinate['sin'] * vecSpeed100ms\n",
    "dfCoordinate['coordinate_x'] = dfCoordinate['relative_x'].cumsum()\n",
    "dfCoordinate['coordinate_y'] = dfCoordinate['relative_y'].cumsum()"
   ]
  },
  {
   "cell_type": "code",
   "execution_count": 15,
   "metadata": {
    "ExecuteTime": {
     "end_time": "2019-08-06T01:02:55.143618Z",
     "start_time": "2019-08-06T01:02:55.137645Z"
    }
   },
   "outputs": [],
   "source": [
    "def mapPlotwithCurve(df, figsize=(10, 10)):\n",
    "    df = df.dropna()\n",
    "    fig,ax = plt.subplots(1,1,figsize = figsize)\n",
    "    ax.set_title('Geomap with turn/lane change status', color = 'red')\n",
    "    ax.set_ylabel('x[m]')\n",
    "    ax.set_xlabel('y[m]')\n",
    "\n",
    "    for name in df['Turn_status'].unique():\n",
    "        tmp = df.loc[df.Turn_status == name]\n",
    "        plt.scatter(tmp.coordinate_x, tmp.coordinate_y, \n",
    "                    s=1, label=name, color=color_dict[name])\n",
    "    ax.legend()\n",
    "    ax.text(df.coordinate_x.iloc[0], df.coordinate_y.iloc[0], \"Start\", size=12)"
   ]
  },
  {
   "cell_type": "code",
   "execution_count": 16,
   "metadata": {
    "ExecuteTime": {
     "end_time": "2019-08-06T01:02:55.152007Z",
     "start_time": "2019-08-06T01:02:55.146131Z"
    }
   },
   "outputs": [
    {
     "data": {
      "text/plain": [
       "array(['Straight', 'Left_Turn', 'Curvy_Road', 'Right_Turn'], dtype=object)"
      ]
     },
     "execution_count": 16,
     "metadata": {},
     "output_type": "execute_result"
    }
   ],
   "source": [
    "dfCoordinate.Turn_status.unique()"
   ]
  },
  {
   "cell_type": "code",
   "execution_count": 17,
   "metadata": {
    "ExecuteTime": {
     "end_time": "2019-08-06T01:02:55.492811Z",
     "start_time": "2019-08-06T01:02:55.154017Z"
    }
   },
   "outputs": [
    {
     "data": {
      "image/png": "[encoded data removed]",
      "text/plain": [
       "<Figure size 720x720 with 1 Axes>"
      ]
     },
     "metadata": {
      "needs_background": "light"
     },
     "output_type": "display_data"
    }
   ],
   "source": [
    "mapPlotwithCurve(dfCoordinate) # 全体"
   ]
  },
  {
   "cell_type": "code",
   "execution_count": 18,
   "metadata": {
    "ExecuteTime": {
     "end_time": "2019-08-06T01:02:55.772209Z",
     "start_time": "2019-08-06T01:02:55.494971Z"
    }
   },
   "outputs": [
    {
     "data": {
      "image/png": "[encoded data removed]",
      "text/plain": [
       "<Figure size 720x720 with 1 Axes>"
      ]
     },
     "metadata": {
      "needs_background": "light"
     },
     "output_type": "display_data"
    }
   ],
   "source": [
    "# 最初の5分\n",
    "mapPlotwithCurve(dfCoordinate.iloc[:10*60*5])"
   ]
  },
  {
   "cell_type": "markdown",
   "metadata": {},
   "source": [
    "途中の曲がりくねった道が、本当にそのような道なのか、連続した左折→右折だったのかは地図や動画等での確認を要する。"
   ]
  },
  {
   "cell_type": "code",
   "execution_count": 19,
   "metadata": {
    "ExecuteTime": {
     "end_time": "2019-08-06T01:02:56.018171Z",
     "start_time": "2019-08-06T01:02:55.774362Z"
    }
   },
   "outputs": [
    {
     "data": {
      "image/png": "[encoded data removed]",
      "text/plain": [
       "<Figure size 720x720 with 1 Axes>"
      ]
     },
     "metadata": {
      "needs_background": "light"
     },
     "output_type": "display_data"
    }
   ],
   "source": [
    "# 後の5分\n",
    "mapPlotwithCurve(dfCoordinate.iloc[10*60*5:])"
   ]
  }
 ],
 "metadata": {
  "kernelspec": {
   "display_name": "Python 3",
   "language": "python",
   "name": "python3"
  },
  "language_info": {
   "codemirror_mode": {
    "name": "ipython",
    "version": 3
   },
   "file_extension": ".py",
   "mimetype": "text/x-python",
   "name": "python",
   "nbconvert_exporter": "python",
   "pygments_lexer": "ipython3",
   "version": "3.6.5"
  },
  "latex_envs": {
   "LaTeX_envs_menu_present": true,
   "autoclose": false,
   "autocomplete": true,
   "bibliofile": "biblio.bib",
   "cite_by": "apalike",
   "current_citInitial": 1,
   "eqLabelWithNumbers": true,
   "eqNumInitial": 1,
   "hotkeys": {
    "equation": "Ctrl-E",
    "itemize": "Ctrl-I"
   },
   "labels_anchors": false,
   "latex_user_defs": false,
   "report_style_numbering": false,
   "user_envs_cfg": false
  },
  "nbTranslate": {
   "displayLangs": [
    "*"
   ],
   "hotkey": "alt-t",
   "langInMainMenu": true,
   "sourceLang": "en",
   "targetLang": "fr",
   "useGoogleTranslate": true
  },
  "toc": {
   "base_numbering": 1,
   "nav_menu": {},
   "number_sections": true,
   "sideBar": true,
   "skip_h1_title": false,
   "title_cell": "Table of Contents",
   "title_sidebar": "Contents",
   "toc_cell": false,
   "toc_position": {},
   "toc_section_display": true,
   "toc_window_display": false
  }
 },
 "nbformat": 4,
 "nbformat_minor": 2
}
