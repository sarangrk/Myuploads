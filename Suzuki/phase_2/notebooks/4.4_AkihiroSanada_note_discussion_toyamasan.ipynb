{
 "cells": [
  {
   "cell_type": "code",
   "execution_count": 1,
   "metadata": {
    "ExecuteTime": {
     "end_time": "2019-06-28T05:34:04.109107Z",
     "start_time": "2019-06-28T05:33:54.255809Z"
    }
   },
   "outputs": [],
   "source": [
    "import pandas as pd"
   ]
  },
  {
   "cell_type": "code",
   "execution_count": 8,
   "metadata": {
    "ExecuteTime": {
     "end_time": "2019-06-28T05:38:37.700175Z",
     "start_time": "2019-06-28T05:38:37.696219Z"
    }
   },
   "outputs": [],
   "source": [
    "t_dict = {\"a\":1, \"b\":2, \"c\":3}\n",
    "\n",
    "df = pd.DataFrame(t_dict.items())"
   ]
  },
  {
   "cell_type": "code",
   "execution_count": 3,
   "metadata": {
    "ExecuteTime": {
     "end_time": "2019-06-28T05:35:01.863043Z",
     "start_time": "2019-06-28T05:35:01.858561Z"
    }
   },
   "outputs": [
    {
     "data": {
      "text/plain": [
       "dict_items([('a', 1), ('b', 2), ('c', 3)])"
      ]
     },
     "execution_count": 3,
     "metadata": {},
     "output_type": "execute_result"
    }
   ],
   "source": [
    "t_dict.items()"
   ]
  },
  {
   "cell_type": "code",
   "execution_count": 5,
   "metadata": {
    "ExecuteTime": {
     "end_time": "2019-06-28T05:37:22.372083Z",
     "start_time": "2019-06-28T05:37:22.367932Z"
    }
   },
   "outputs": [],
   "source": [
    "df = pd.DataFrame([('a', 1, \"z\"), ('b', 2, \"x\"), ('c', 3, \"y\")])"
   ]
  },
  {
   "cell_type": "code",
   "execution_count": 9,
   "metadata": {
    "ExecuteTime": {
     "end_time": "2019-06-28T05:38:39.206389Z",
     "start_time": "2019-06-28T05:38:39.200331Z"
    }
   },
   "outputs": [
    {
     "data": {
      "text/plain": [
       "[(0, 0    a\n",
       "  1    1\n",
       "  Name: 0, dtype: object), (1, 0    b\n",
       "  1    2\n",
       "  Name: 1, dtype: object), (2, 0    c\n",
       "  1    3\n",
       "  Name: 2, dtype: object)]"
      ]
     },
     "execution_count": 9,
     "metadata": {},
     "output_type": "execute_result"
    }
   ],
   "source": [
    "df.iterrows()"
   ]
  },
  {
   "cell_type": "code",
   "execution_count": 11,
   "metadata": {
    "ExecuteTime": {
     "end_time": "2019-06-28T05:40:59.025412Z",
     "start_time": "2019-06-28T05:40:59.022714Z"
    }
   },
   "outputs": [],
   "source": [
    "from IPython import display"
   ]
  },
  {
   "cell_type": "code",
   "execution_count": 18,
   "metadata": {
    "ExecuteTime": {
     "end_time": "2019-06-28T05:43:25.113435Z",
     "start_time": "2019-06-28T05:43:25.107450Z"
    }
   },
   "outputs": [
    {
     "name": "stdout",
     "output_type": "stream",
     "text": [
      "0    a\n",
      "1    1\n",
      "Name: 0, dtype: object\n",
      "0    b\n",
      "1    2\n",
      "Name: 1, dtype: object\n",
      "0    c\n",
      "1    3\n",
      "Name: 2, dtype: object\n"
     ]
    }
   ],
   "source": [
    "for i, row in df.iterrows():\n",
    "    print(row)"
   ]
  },
  {
   "cell_type": "code",
   "execution_count": 20,
   "metadata": {
    "ExecuteTime": {
     "end_time": "2019-06-28T05:44:57.041059Z",
     "start_time": "2019-06-28T05:44:57.036761Z"
    }
   },
   "outputs": [
    {
     "name": "stdout",
     "output_type": "stream",
     "text": [
      "0    a\n",
      "1    b\n",
      "2    c\n",
      "Name: 0, dtype: object\n",
      "0    1\n",
      "1    2\n",
      "2    3\n",
      "Name: 1, dtype: int64\n"
     ]
    }
   ],
   "source": [
    "for i, col in df.iteritems():\n",
    "    print(col)"
   ]
  },
  {
   "cell_type": "code",
   "execution_count": 28,
   "metadata": {
    "ExecuteTime": {
     "end_time": "2019-06-28T05:58:43.245572Z",
     "start_time": "2019-06-28T05:58:43.238999Z"
    }
   },
   "outputs": [
    {
     "data": {
      "text/plain": [
       "0    a_1\n",
       "1    b_2\n",
       "2    c_3\n",
       "dtype: object"
      ]
     },
     "execution_count": 28,
     "metadata": {},
     "output_type": "execute_result"
    }
   ],
   "source": [
    "df.apply(lambda x: \"_\".join([str(v) for v in x]), axis=1)"
   ]
  },
  {
   "cell_type": "code",
   "execution_count": 29,
   "metadata": {
    "ExecuteTime": {
     "end_time": "2019-06-28T06:14:15.431022Z",
     "start_time": "2019-06-28T06:14:13.741905Z"
    }
   },
   "outputs": [
    {
     "name": "stderr",
     "output_type": "stream",
     "text": [
      "/Users/localadmin/anaconda3/envs/suzuki/lib/python3.6/site-packages/pyarrow/pandas_compat.py:752: FutureWarning: .labels was deprecated in version 0.24.0. Use .codes instead.\n",
      "  labels, = index.labels\n"
     ]
    }
   ],
   "source": [
    "fcok = pd.read_feather(\"../data/interim/tbhaa_all_random_500_000.feather\")"
   ]
  },
  {
   "cell_type": "code",
   "execution_count": null,
   "metadata": {},
   "outputs": [],
   "source": []
  },
  {
   "cell_type": "code",
   "execution_count": null,
   "metadata": {},
   "outputs": [],
   "source": []
  },
  {
   "cell_type": "code",
   "execution_count": null,
   "metadata": {},
   "outputs": [],
   "source": [
    "# pd.crosstab\n"
   ]
  },
  {
   "cell_type": "code",
   "execution_count": null,
   "metadata": {},
   "outputs": [],
   "source": [
    "pd.crosstab(df_tbhaa.V_COLOR, df_tbhaa.V_)"
   ]
  },
  {
   "cell_type": "code",
   "execution_count": null,
   "metadata": {},
   "outputs": [],
   "source": [
    "df.apply(make_ser, axis=1)"
   ]
  },
  {
   "cell_type": "code",
   "execution_count": 24,
   "metadata": {
    "ExecuteTime": {
     "end_time": "2019-06-28T05:50:15.117700Z",
     "start_time": "2019-06-28T05:50:15.114688Z"
    }
   },
   "outputs": [],
   "source": [
    "def sanada(name):\n",
    "    return name.upper()"
   ]
  },
  {
   "cell_type": "code",
   "execution_count": 25,
   "metadata": {
    "ExecuteTime": {
     "end_time": "2019-06-28T05:50:20.555715Z",
     "start_time": "2019-06-28T05:50:20.551900Z"
    }
   },
   "outputs": [
    {
     "data": {
      "text/plain": [
       "'HELLO'"
      ]
     },
     "execution_count": 25,
     "metadata": {},
     "output_type": "execute_result"
    }
   ],
   "source": [
    "sanada(\"hello\")"
   ]
  },
  {
   "cell_type": "code",
   "execution_count": 26,
   "metadata": {
    "ExecuteTime": {
     "end_time": "2019-06-28T05:50:44.137401Z",
     "start_time": "2019-06-28T05:50:44.134994Z"
    }
   },
   "outputs": [],
   "source": [
    "lambda name: name.upper()"
   ]
  },
  {
   "cell_type": "code",
   "execution_count": 27,
   "metadata": {
    "ExecuteTime": {
     "end_time": "2019-06-28T05:50:51.952594Z",
     "start_time": "2019-06-28T05:50:51.948756Z"
    }
   },
   "outputs": [
    {
     "data": {
      "text/plain": [
       "'GOOD BYE'"
      ]
     },
     "execution_count": 27,
     "metadata": {},
     "output_type": "execute_result"
    }
   ],
   "source": [
    "sanada_2(\"good bye\")"
   ]
  },
  {
   "cell_type": "code",
   "execution_count": null,
   "metadata": {},
   "outputs": [],
   "source": []
  }
 ],
 "metadata": {
  "kernelspec": {
   "display_name": "Python [conda env:suzuki] *",
   "language": "python",
   "name": "conda-env-suzuki-py"
  },
  "language_info": {
   "codemirror_mode": {
    "name": "ipython",
    "version": 3
   },
   "file_extension": ".py",
   "mimetype": "text/x-python",
   "name": "python",
   "nbconvert_exporter": "python",
   "pygments_lexer": "ipython3",
   "version": "3.6.8"
  },
  "latex_envs": {
   "LaTeX_envs_menu_present": true,
   "autoclose": false,
   "autocomplete": true,
   "bibliofile": "biblio.bib",
   "cite_by": "apalike",
   "current_citInitial": 1,
   "eqLabelWithNumbers": true,
   "eqNumInitial": 1,
   "hotkeys": {
    "equation": "Ctrl-E",
    "itemize": "Ctrl-I"
   },
   "labels_anchors": false,
   "latex_user_defs": false,
   "report_style_numbering": false,
   "user_envs_cfg": false
  },
  "nbTranslate": {
   "displayLangs": [
    "*"
   ],
   "hotkey": "alt-t",
   "langInMainMenu": true,
   "sourceLang": "en",
   "targetLang": "fr",
   "useGoogleTranslate": true
  },
  "toc": {
   "base_numbering": 1,
   "nav_menu": {},
   "number_sections": true,
   "sideBar": true,
   "skip_h1_title": false,
   "title_cell": "Table of Contents",
   "title_sidebar": "Contents",
   "toc_cell": false,
   "toc_position": {},
   "toc_section_display": true,
   "toc_window_display": false
  }
 },
 "nbformat": 4,
 "nbformat_minor": 2
}
