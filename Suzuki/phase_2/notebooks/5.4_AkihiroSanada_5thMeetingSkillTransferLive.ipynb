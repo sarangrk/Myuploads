{
 "cells": [
  {
   "cell_type": "markdown",
   "metadata": {},
   "source": [
    "# 第5回スキルトランスファー: 分析用テーブルをつくる"
   ]
  },
  {
   "cell_type": "markdown",
   "metadata": {
    "heading_collapsed": true
   },
   "source": [
    "## pathlibの使い方"
   ]
  },
  {
   "cell_type": "code",
   "execution_count": 2,
   "metadata": {
    "ExecuteTime": {
     "end_time": "2019-07-04T11:33:15.290121Z",
     "start_time": "2019-07-04T11:33:15.284603Z"
    },
    "hidden": true
   },
   "outputs": [],
   "source": [
    "import pathlib"
   ]
  },
  {
   "cell_type": "code",
   "execution_count": 3,
   "metadata": {
    "ExecuteTime": {
     "end_time": "2019-07-04T11:33:15.513305Z",
     "start_time": "2019-07-04T11:33:15.495139Z"
    },
    "hidden": true
   },
   "outputs": [
    {
     "data": {
      "text/plain": [
       "PosixPath('/Users/localadmin/Documents/GitHub/suzuki_analytics/phase_2/notebooks')"
      ]
     },
     "execution_count": 3,
     "metadata": {},
     "output_type": "execute_result"
    }
   ],
   "source": [
    "pathlib.Path.cwd()"
   ]
  },
  {
   "cell_type": "code",
   "execution_count": 4,
   "metadata": {
    "ExecuteTime": {
     "end_time": "2019-07-04T11:33:15.664208Z",
     "start_time": "2019-07-04T11:33:15.660471Z"
    },
    "hidden": true
   },
   "outputs": [],
   "source": [
    "path_cwd = pathlib.Path.cwd()"
   ]
  },
  {
   "cell_type": "code",
   "execution_count": 5,
   "metadata": {
    "ExecuteTime": {
     "end_time": "2019-07-04T11:33:15.792689Z",
     "start_time": "2019-07-04T11:33:15.788173Z"
    },
    "hidden": true
   },
   "outputs": [
    {
     "data": {
      "text/plain": [
       "PosixPath('/Users/localadmin')"
      ]
     },
     "execution_count": 5,
     "metadata": {},
     "output_type": "execute_result"
    }
   ],
   "source": [
    "path_cwd.parent.parent.parent.parent.parent"
   ]
  },
  {
   "cell_type": "code",
   "execution_count": 6,
   "metadata": {
    "ExecuteTime": {
     "end_time": "2019-07-04T11:33:15.909953Z",
     "start_time": "2019-07-04T11:33:15.904949Z"
    },
    "hidden": true
   },
   "outputs": [
    {
     "data": {
      "text/plain": [
       "PosixPath('/Users/localadmin/Documents/GitHub/suzuki_analytics/phase_2')"
      ]
     },
     "execution_count": 6,
     "metadata": {},
     "output_type": "execute_result"
    }
   ],
   "source": [
    "path_cwd.parents[0]"
   ]
  },
  {
   "cell_type": "code",
   "execution_count": 7,
   "metadata": {
    "ExecuteTime": {
     "end_time": "2019-07-04T11:33:16.029644Z",
     "start_time": "2019-07-04T11:33:16.024339Z"
    },
    "hidden": true
   },
   "outputs": [
    {
     "data": {
      "text/plain": [
       "PosixPath('/Users/localadmin')"
      ]
     },
     "execution_count": 7,
     "metadata": {},
     "output_type": "execute_result"
    }
   ],
   "source": [
    "pathlib.Path.home()"
   ]
  },
  {
   "cell_type": "code",
   "execution_count": 8,
   "metadata": {
    "ExecuteTime": {
     "end_time": "2019-07-04T11:33:16.144316Z",
     "start_time": "2019-07-04T11:33:16.141223Z"
    },
    "hidden": true
   },
   "outputs": [],
   "source": [
    "path_home = pathlib.Path.home()"
   ]
  },
  {
   "cell_type": "code",
   "execution_count": 9,
   "metadata": {
    "ExecuteTime": {
     "end_time": "2019-07-04T11:33:16.254791Z",
     "start_time": "2019-07-04T11:33:16.248052Z"
    },
    "hidden": true
   },
   "outputs": [
    {
     "data": {
      "text/plain": [
       "PosixPath('/Users/localadmin/Downloads')"
      ]
     },
     "execution_count": 9,
     "metadata": {},
     "output_type": "execute_result"
    }
   ],
   "source": [
    "path_home/\"Downloads\""
   ]
  },
  {
   "cell_type": "code",
   "execution_count": 10,
   "metadata": {
    "ExecuteTime": {
     "end_time": "2019-07-04T11:33:16.368477Z",
     "start_time": "2019-07-04T11:33:16.363889Z"
    },
    "hidden": true
   },
   "outputs": [
    {
     "data": {
      "text/plain": [
       "<slot wrapper '__add__' of 'str' objects>"
      ]
     },
     "execution_count": 10,
     "metadata": {},
     "output_type": "execute_result"
    }
   ],
   "source": [
    "str.__add__"
   ]
  },
  {
   "cell_type": "code",
   "execution_count": 11,
   "metadata": {
    "ExecuteTime": {
     "end_time": "2019-07-04T11:33:16.481426Z",
     "start_time": "2019-07-04T11:33:16.476405Z"
    },
    "hidden": true
   },
   "outputs": [
    {
     "data": {
      "text/plain": [
       "'strsanada'"
      ]
     },
     "execution_count": 11,
     "metadata": {},
     "output_type": "execute_result"
    }
   ],
   "source": [
    "\"str\" + \"sanada\""
   ]
  },
  {
   "cell_type": "code",
   "execution_count": 12,
   "metadata": {
    "ExecuteTime": {
     "end_time": "2019-07-04T11:33:16.589431Z",
     "start_time": "2019-07-04T11:33:16.587078Z"
    },
    "hidden": true
   },
   "outputs": [],
   "source": [
    "path_tmp = path_home/\"Downloads\"/\"untitledfolder\""
   ]
  },
  {
   "cell_type": "code",
   "execution_count": 13,
   "metadata": {
    "ExecuteTime": {
     "end_time": "2019-07-04T11:33:16.700187Z",
     "start_time": "2019-07-04T11:33:16.695070Z"
    },
    "hidden": true
   },
   "outputs": [
    {
     "data": {
      "text/plain": [
       "False"
      ]
     },
     "execution_count": 13,
     "metadata": {},
     "output_type": "execute_result"
    }
   ],
   "source": [
    "path_tmp.exists()"
   ]
  },
  {
   "cell_type": "code",
   "execution_count": 14,
   "metadata": {
    "ExecuteTime": {
     "end_time": "2019-07-04T11:33:16.831612Z",
     "start_time": "2019-07-04T11:33:16.822218Z"
    },
    "hidden": true
   },
   "outputs": [
    {
     "data": {
      "text/plain": [
       "False"
      ]
     },
     "execution_count": 14,
     "metadata": {},
     "output_type": "execute_result"
    }
   ],
   "source": [
    "path_tmp.is_file()"
   ]
  },
  {
   "cell_type": "code",
   "execution_count": 15,
   "metadata": {
    "ExecuteTime": {
     "end_time": "2019-07-04T11:33:16.929887Z",
     "start_time": "2019-07-04T11:33:16.923274Z"
    },
    "hidden": true
   },
   "outputs": [
    {
     "data": {
      "text/plain": [
       "False"
      ]
     },
     "execution_count": 15,
     "metadata": {},
     "output_type": "execute_result"
    }
   ],
   "source": [
    "path_tmp.is_dir()"
   ]
  },
  {
   "cell_type": "code",
   "execution_count": 16,
   "metadata": {
    "ExecuteTime": {
     "end_time": "2019-07-04T11:33:17.034922Z",
     "start_time": "2019-07-04T11:33:17.031768Z"
    },
    "hidden": true
   },
   "outputs": [],
   "source": [
    "path_interim = pathlib.Path(\"../data/interim/\")"
   ]
  },
  {
   "cell_type": "code",
   "execution_count": 17,
   "metadata": {
    "ExecuteTime": {
     "end_time": "2019-07-04T11:33:17.153074Z",
     "start_time": "2019-07-04T11:33:17.147892Z"
    },
    "hidden": true
   },
   "outputs": [
    {
     "data": {
      "text/plain": [
       "PosixPath('/Users/localadmin/Documents/GitHub/suzuki_analytics/phase_2/data/interim')"
      ]
     },
     "execution_count": 17,
     "metadata": {},
     "output_type": "execute_result"
    }
   ],
   "source": [
    "path_interim.resolve()"
   ]
  },
  {
   "cell_type": "code",
   "execution_count": 18,
   "metadata": {
    "ExecuteTime": {
     "end_time": "2019-07-04T11:33:17.274733Z",
     "start_time": "2019-07-04T11:33:17.263479Z"
    },
    "hidden": true
   },
   "outputs": [
    {
     "data": {
      "text/plain": [
       "['cnt_Dbhaa_W_PROD_MODEL_CD.csv',\n",
       " 'dbhaa_random_500_000.feather',\n",
       " '20190624_dbhaa_random_500_000_sub.feather',\n",
       " 'cnt_Dbhaa_W_SRC_DIV.csv',\n",
       " '20190624_tbhaa_random_500_000_sub.feather',\n",
       " 'warranty_fcok',\n",
       " 'failure_ratio_model_parts_monthly.feather',\n",
       " 'cnt_tbhaa_V_SRC_DIV.csv',\n",
       " 'cnt_Dbhaa_W_TROUBLE_MP.csv',\n",
       " 'distinct_cnt___dbhaa.csv',\n",
       " 'tbhaa_random_500_000.feather',\n",
       " '.DS_Store',\n",
       " 'notnull_cnt_dbhaa.csv',\n",
       " 'cnt_tbhaa_V_BASE_CD.csv',\n",
       " 'suzuki_skilltransfer.sqlite3.zip',\n",
       " 'df_fcok_model_num_monthly.csv',\n",
       " 'cnt_Dbhaa_W_DIST_COUNTRY_CD.csv',\n",
       " 'cnt_Dbhaa_W_BASE_CD.csv',\n",
       " 'cnt_Dbhaa_W_MILEAGE_DIV.csv',\n",
       " 'cnt_Dbhaa_W_DIST_CD.csv',\n",
       " 'cnt_tbhaa_V_COLOR.csv',\n",
       " 'cnt_tbhaa_V_PROD_DIV.csv',\n",
       " '.gitkeep',\n",
       " 'cnt_tbhaa_V_FCOK.csv',\n",
       " 'cnt_tbhaa_V_DIST_CD.csv',\n",
       " 'suzuki_skilltransfer.sqlite3.7z',\n",
       " 'cnt_tbhaa_V_SHIPPING_DATE.csv',\n",
       " 'df_warranty_model_part_num_monthly.csv',\n",
       " 'cnt_Dbhaa_W_FAILURE_DATE.csv',\n",
       " 'dbhaa_all_random_500_000_1only.feather',\n",
       " 'cnt_tbhaa_V_SALES_MODEL_CD.csv',\n",
       " 'cnt_Dbhaa_W_OPERATION_CD.csv',\n",
       " 'cnt_Dbhaa_W_SALES_DATE.csv',\n",
       " 'cnt_tbhaa_V_SHIPPING_FCOK.csv',\n",
       " 'suzuki_phase2_db.monetdb',\n",
       " 'cnt_tbhaa_V_SPEC.csv',\n",
       " 'df_warranty_model_part_num_month_passed.csv',\n",
       " 'part_model_master.csv',\n",
       " 'cnt_tbhaa_V_PROD_MODEL_CD.csv',\n",
       " 'cnt_Dbhaa_W_FIXED_DIV.csv',\n",
       " 'suzuki_skilltransfer.sqlite3',\n",
       " 'cnt_Dbhaa_W_PROD_BASE_CD.csv',\n",
       " 'cnt_Dbhaa_W_TROUBLE_DF.csv',\n",
       " 'data_random_500_000.zip',\n",
       " 'cnt_Dbhaa_W_SB_NO.csv',\n",
       " 'tbhaa_all_random_500_000.feather',\n",
       " 'df_warranty_model_part_num_month_passed.zip',\n",
       " 'cnt_tbhaa_V_BRANCH_CD.csv',\n",
       " 'suzuki_phase2_db.sqlite3.tar.xz',\n",
       " 'skill_transfer.sqlite3',\n",
       " 'cnt_Dbhaa_W_SHOP_CD.csv',\n",
       " 'cnt_Dbhaa_W_SHOP_DIV.csv',\n",
       " 'dbhaa_all_random_500_000.feather',\n",
       " 'suzuki_phase2_db.sqlite3.7z',\n",
       " 'cnt_Dbhaa_W_TROUBLE_CP.csv',\n",
       " 'cnt_V_PROD_MODEL.csv',\n",
       " 'cnt_tbhaa_V_ABOK.csv',\n",
       " 'notnull_cnt_tbhaa.csv',\n",
       " 'cnt_Dbhaa_W_FIELD_CLAIM_DIV.csv',\n",
       " 'fcok_2017.csv',\n",
       " 'failure_ratio_model_parts_monthly.csv',\n",
       " 'distinct_cnt___tbhaa.csv',\n",
       " 'cnt_Dbhaa_W_DIV2.csv',\n",
       " 'cnt_Dbhaa_W_CFC_COMPANY_CD.csv',\n",
       " 'suzuki_phase2_db.sqlite3',\n",
       " 'cnt_tbhaa_V_SHIPPING_ABOK.csv',\n",
       " 'cnt_Dbhaa_W_DIV3.csv',\n",
       " 'cnt_Dbhaa_W_DMEX_DIV.csv',\n",
       " 'cnt_Dbhaa_W_DIV1.csv',\n",
       " 'cnt_Dbhaa_W_FCOK.csv',\n",
       " 'cnt_Dbhaa_W_PROCESS_MONTH.csv',\n",
       " 'cnt_Dbhaa_W_PROD_DIV.csv',\n",
       " 'cnt_Dbhaa_W_TROUBLE_CC.csv']"
      ]
     },
     "execution_count": 18,
     "metadata": {},
     "output_type": "execute_result"
    }
   ],
   "source": [
    "import os\n",
    "os.listdir(path_interim)"
   ]
  },
  {
   "cell_type": "markdown",
   "metadata": {
    "heading_collapsed": true
   },
   "source": [
    "## SQLを使用して、集計テーブルを作成"
   ]
  },
  {
   "cell_type": "code",
   "execution_count": 19,
   "metadata": {
    "ExecuteTime": {
     "end_time": "2019-07-04T11:33:17.480551Z",
     "start_time": "2019-07-04T11:33:17.477602Z"
    },
    "hidden": true,
    "scrolled": true
   },
   "outputs": [],
   "source": [
    "PATH_SQLITE_FOLDER = pathlib.Path(\"/Users/localadmin/Desktop/\")"
   ]
  },
  {
   "cell_type": "code",
   "execution_count": 20,
   "metadata": {
    "ExecuteTime": {
     "end_time": "2019-07-04T11:33:18.268146Z",
     "start_time": "2019-07-04T11:33:17.591067Z"
    },
    "hidden": true
   },
   "outputs": [],
   "source": [
    "from sqlalchemy import create_engine"
   ]
  },
  {
   "cell_type": "code",
   "execution_count": 21,
   "metadata": {
    "ExecuteTime": {
     "end_time": "2019-07-04T11:33:18.272708Z",
     "start_time": "2019-07-04T11:33:18.270101Z"
    },
    "hidden": true
   },
   "outputs": [],
   "source": [
    "PATH_SQLITE = PATH_SQLITE_FOLDER/\"suzuki_skilltransfer.sqlite3\""
   ]
  },
  {
   "cell_type": "code",
   "execution_count": 22,
   "metadata": {
    "ExecuteTime": {
     "end_time": "2019-07-04T11:33:18.278748Z",
     "start_time": "2019-07-04T11:33:18.275218Z"
    },
    "hidden": true
   },
   "outputs": [
    {
     "data": {
      "text/plain": [
       "'/Users/localadmin/Desktop/suzuki_skilltransfer.sqlite3'"
      ]
     },
     "execution_count": 22,
     "metadata": {},
     "output_type": "execute_result"
    }
   ],
   "source": [
    "PATH_SQLITE.as_posix()"
   ]
  },
  {
   "cell_type": "code",
   "execution_count": 23,
   "metadata": {
    "ExecuteTime": {
     "end_time": "2019-07-04T11:33:18.323665Z",
     "start_time": "2019-07-04T11:33:18.280817Z"
    },
    "hidden": true
   },
   "outputs": [],
   "source": [
    "engine = create_engine(f\"sqlite:///{PATH_SQLITE.as_posix()}\")"
   ]
  },
  {
   "cell_type": "code",
   "execution_count": 24,
   "metadata": {
    "ExecuteTime": {
     "end_time": "2019-07-04T11:33:22.422478Z",
     "start_time": "2019-07-04T11:33:18.325694Z"
    },
    "hidden": true
   },
   "outputs": [],
   "source": [
    "import pandas as pd"
   ]
  },
  {
   "cell_type": "code",
   "execution_count": 25,
   "metadata": {
    "ExecuteTime": {
     "end_time": "2019-07-04T11:33:22.446123Z",
     "start_time": "2019-07-04T11:33:22.424448Z"
    },
    "hidden": true
   },
   "outputs": [],
   "source": [
    "df_tmp = pd.read_sql(\"\"\"\n",
    "    select * from dbhaa limit 5;\n",
    "\"\"\", engine)"
   ]
  },
  {
   "cell_type": "code",
   "execution_count": 26,
   "metadata": {
    "ExecuteTime": {
     "end_time": "2019-07-04T11:33:22.484348Z",
     "start_time": "2019-07-04T11:33:22.448329Z"
    },
    "hidden": true
   },
   "outputs": [
    {
     "data": {
      "text/html": [
       "<div>\n",
       "<style scoped>\n",
       "    .dataframe tbody tr th:only-of-type {\n",
       "        vertical-align: middle;\n",
       "    }\n",
       "\n",
       "    .dataframe tbody tr th {\n",
       "        vertical-align: top;\n",
       "    }\n",
       "\n",
       "    .dataframe thead th {\n",
       "        text-align: right;\n",
       "    }\n",
       "</style>\n",
       "<table border=\"1\" class=\"dataframe\">\n",
       "  <thead>\n",
       "    <tr style=\"text-align: right;\">\n",
       "      <th></th>\n",
       "      <th>W_KEY</th>\n",
       "      <th>W_BASE_CD</th>\n",
       "      <th>W_PROD_BASE_CD</th>\n",
       "      <th>W_FIELD_CLAIM_DIV</th>\n",
       "      <th>W_PROD_DIV</th>\n",
       "      <th>W_DMEX_DIV</th>\n",
       "      <th>W_PROCESS_MONTH</th>\n",
       "      <th>W_DIST_CD</th>\n",
       "      <th>W_DIST_COUNTRY_CD</th>\n",
       "      <th>W_DIST_ISSUE_NO</th>\n",
       "      <th>...</th>\n",
       "      <th>W_SUBLET_AMT</th>\n",
       "      <th>W_SHIPPING_AMT</th>\n",
       "      <th>W_TOTAL_AMT</th>\n",
       "      <th>W_CFC_COMPANY_CD</th>\n",
       "      <th>W_CFC_RATE</th>\n",
       "      <th>W_CFC_AMT</th>\n",
       "      <th>W_FC_TO_FAILURE</th>\n",
       "      <th>W_SALES_TO_FAILURE</th>\n",
       "      <th>W_SB_NO</th>\n",
       "      <th>W_CRT_TIME_STAMP</th>\n",
       "    </tr>\n",
       "  </thead>\n",
       "  <tbody>\n",
       "    <tr>\n",
       "      <th>0</th>\n",
       "      <td>WRAEJP201702A000001</td>\n",
       "      <td>100100</td>\n",
       "      <td>100100</td>\n",
       "      <td>2</td>\n",
       "      <td>A</td>\n",
       "      <td>1</td>\n",
       "      <td>201702</td>\n",
       "      <td>2505A</td>\n",
       "      <td>AE</td>\n",
       "      <td>00A10709</td>\n",
       "      <td>...</td>\n",
       "      <td>0.0</td>\n",
       "      <td>679.0</td>\n",
       "      <td>4145.0</td>\n",
       "      <td>P58X</td>\n",
       "      <td>0</td>\n",
       "      <td>0.0</td>\n",
       "      <td>107</td>\n",
       "      <td>102</td>\n",
       "      <td>None</td>\n",
       "      <td>17-08-02 18:34:49.631885000</td>\n",
       "    </tr>\n",
       "    <tr>\n",
       "      <th>1</th>\n",
       "      <td>WRAEJP201702C000001</td>\n",
       "      <td>100100</td>\n",
       "      <td>100100</td>\n",
       "      <td>2</td>\n",
       "      <td>C</td>\n",
       "      <td>1</td>\n",
       "      <td>201702</td>\n",
       "      <td>2505C</td>\n",
       "      <td>AE</td>\n",
       "      <td>00MB2189</td>\n",
       "      <td>...</td>\n",
       "      <td>0.0</td>\n",
       "      <td>0.0</td>\n",
       "      <td>1358.0</td>\n",
       "      <td>3223</td>\n",
       "      <td>100</td>\n",
       "      <td>1358.0</td>\n",
       "      <td>39</td>\n",
       "      <td>36</td>\n",
       "      <td>None</td>\n",
       "      <td>17-08-02 18:38:14.568529000</td>\n",
       "    </tr>\n",
       "    <tr>\n",
       "      <th>2</th>\n",
       "      <td>WRAEJP201702C000002</td>\n",
       "      <td>100100</td>\n",
       "      <td>100100</td>\n",
       "      <td>2</td>\n",
       "      <td>C</td>\n",
       "      <td>1</td>\n",
       "      <td>201702</td>\n",
       "      <td>2505C</td>\n",
       "      <td>AE</td>\n",
       "      <td>00MB2188</td>\n",
       "      <td>...</td>\n",
       "      <td>0.0</td>\n",
       "      <td>0.0</td>\n",
       "      <td>1358.0</td>\n",
       "      <td>3223</td>\n",
       "      <td>100</td>\n",
       "      <td>1358.0</td>\n",
       "      <td>39</td>\n",
       "      <td>36</td>\n",
       "      <td>None</td>\n",
       "      <td>17-08-02 18:38:14.570739000</td>\n",
       "    </tr>\n",
       "    <tr>\n",
       "      <th>3</th>\n",
       "      <td>WRAEJP201702C000003</td>\n",
       "      <td>100100</td>\n",
       "      <td>100100</td>\n",
       "      <td>1</td>\n",
       "      <td>C</td>\n",
       "      <td>1</td>\n",
       "      <td>201702</td>\n",
       "      <td>2505C</td>\n",
       "      <td>AE</td>\n",
       "      <td>00MB0864</td>\n",
       "      <td>...</td>\n",
       "      <td>0.0</td>\n",
       "      <td>287.0</td>\n",
       "      <td>5660.0</td>\n",
       "      <td>3962</td>\n",
       "      <td>50</td>\n",
       "      <td>2656.0</td>\n",
       "      <td>20</td>\n",
       "      <td>17</td>\n",
       "      <td>None</td>\n",
       "      <td>17-08-02 18:38:15.016027000</td>\n",
       "    </tr>\n",
       "    <tr>\n",
       "      <th>4</th>\n",
       "      <td>WRAEJP201702C000004</td>\n",
       "      <td>100100</td>\n",
       "      <td>100100</td>\n",
       "      <td>1</td>\n",
       "      <td>C</td>\n",
       "      <td>1</td>\n",
       "      <td>201702</td>\n",
       "      <td>2505C</td>\n",
       "      <td>AE</td>\n",
       "      <td>0MB2252A</td>\n",
       "      <td>...</td>\n",
       "      <td>0.0</td>\n",
       "      <td>1171.0</td>\n",
       "      <td>9152.0</td>\n",
       "      <td>3479</td>\n",
       "      <td>50</td>\n",
       "      <td>3674.0</td>\n",
       "      <td>28</td>\n",
       "      <td>23</td>\n",
       "      <td>None</td>\n",
       "      <td>17-08-02 18:38:16.974580000</td>\n",
       "    </tr>\n",
       "  </tbody>\n",
       "</table>\n",
       "<p>5 rows × 48 columns</p>\n",
       "</div>"
      ],
      "text/plain": [
       "                 W_KEY W_BASE_CD W_PROD_BASE_CD W_FIELD_CLAIM_DIV W_PROD_DIV  \\\n",
       "0  WRAEJP201702A000001    100100         100100                 2          A   \n",
       "1  WRAEJP201702C000001    100100         100100                 2          C   \n",
       "2  WRAEJP201702C000002    100100         100100                 2          C   \n",
       "3  WRAEJP201702C000003    100100         100100                 1          C   \n",
       "4  WRAEJP201702C000004    100100         100100                 1          C   \n",
       "\n",
       "  W_DMEX_DIV W_PROCESS_MONTH W_DIST_CD W_DIST_COUNTRY_CD W_DIST_ISSUE_NO  ...  \\\n",
       "0          1          201702     2505A                AE        00A10709  ...   \n",
       "1          1          201702     2505C                AE        00MB2189  ...   \n",
       "2          1          201702     2505C                AE        00MB2188  ...   \n",
       "3          1          201702     2505C                AE        00MB0864  ...   \n",
       "4          1          201702     2505C                AE        0MB2252A  ...   \n",
       "\n",
       "  W_SUBLET_AMT W_SHIPPING_AMT W_TOTAL_AMT W_CFC_COMPANY_CD W_CFC_RATE  \\\n",
       "0          0.0          679.0      4145.0             P58X          0   \n",
       "1          0.0            0.0      1358.0             3223        100   \n",
       "2          0.0            0.0      1358.0             3223        100   \n",
       "3          0.0          287.0      5660.0             3962         50   \n",
       "4          0.0         1171.0      9152.0             3479         50   \n",
       "\n",
       "  W_CFC_AMT  W_FC_TO_FAILURE W_SALES_TO_FAILURE W_SB_NO  \\\n",
       "0       0.0              107                102    None   \n",
       "1    1358.0               39                 36    None   \n",
       "2    1358.0               39                 36    None   \n",
       "3    2656.0               20                 17    None   \n",
       "4    3674.0               28                 23    None   \n",
       "\n",
       "              W_CRT_TIME_STAMP  \n",
       "0  17-08-02 18:34:49.631885000  \n",
       "1  17-08-02 18:38:14.568529000  \n",
       "2  17-08-02 18:38:14.570739000  \n",
       "3  17-08-02 18:38:15.016027000  \n",
       "4  17-08-02 18:38:16.974580000  \n",
       "\n",
       "[5 rows x 48 columns]"
      ]
     },
     "execution_count": 26,
     "metadata": {},
     "output_type": "execute_result"
    }
   ],
   "source": [
    "df_tmp.head()"
   ]
  },
  {
   "cell_type": "code",
   "execution_count": 27,
   "metadata": {
    "ExecuteTime": {
     "end_time": "2019-07-04T11:33:24.536987Z",
     "start_time": "2019-07-04T11:33:22.487117Z"
    },
    "hidden": true
   },
   "outputs": [],
   "source": [
    "# W_PROD_MODEL_CDは上3桁\n",
    "# W_CAUSAL_PART_NOは上5-3桁(9桁)\n",
    "# W_FAILURE_DATEは月次(一旦。あとで日時)\n",
    "# W_PROD_BASE_CDは国内(100100)\n",
    "# W_PROD_DIVは四輪(B)\n",
    "\n",
    "# dbhaaから毎月の各モデル、各パーツのレコードの件数\n",
    "# W_PROD_DIV == B\n",
    "# W_PROD_BASE 100100\n",
    "\n",
    "df_warranty = pd.read_sql(\"\"\"\n",
    "select substr(W_PROD_MODEL_CD, 1, 3) as prod_cd\n",
    "    ,substr(W_CAUSAL_PART_NO, 1, 9) as part_cd\n",
    "    ,substr(W_FAILURE_DATE, 1, 6)as month\n",
    "    ,count(*) as n\n",
    "from dbhaa\n",
    "where W_PROD_BASE_CD = '100100'\n",
    "and W_PROD_DIV = 'B'\n",
    "group by prod_cd, part_cd, month\n",
    "\"\"\", engine)"
   ]
  },
  {
   "cell_type": "code",
   "execution_count": 28,
   "metadata": {
    "ExecuteTime": {
     "end_time": "2019-07-04T11:33:24.548243Z",
     "start_time": "2019-07-04T11:33:24.538978Z"
    },
    "hidden": true
   },
   "outputs": [
    {
     "data": {
      "text/html": [
       "<div>\n",
       "<style scoped>\n",
       "    .dataframe tbody tr th:only-of-type {\n",
       "        vertical-align: middle;\n",
       "    }\n",
       "\n",
       "    .dataframe tbody tr th {\n",
       "        vertical-align: top;\n",
       "    }\n",
       "\n",
       "    .dataframe thead th {\n",
       "        text-align: right;\n",
       "    }\n",
       "</style>\n",
       "<table border=\"1\" class=\"dataframe\">\n",
       "  <thead>\n",
       "    <tr style=\"text-align: right;\">\n",
       "      <th></th>\n",
       "      <th>prod_cd</th>\n",
       "      <th>part_cd</th>\n",
       "      <th>month</th>\n",
       "      <th>n</th>\n",
       "    </tr>\n",
       "  </thead>\n",
       "  <tbody>\n",
       "    <tr>\n",
       "      <th>0</th>\n",
       "      <td>None</td>\n",
       "      <td>17521-81P</td>\n",
       "      <td>201711</td>\n",
       "      <td>1</td>\n",
       "    </tr>\n",
       "    <tr>\n",
       "      <th>1</th>\n",
       "      <td>None</td>\n",
       "      <td>17540-54L</td>\n",
       "      <td>201712</td>\n",
       "      <td>1</td>\n",
       "    </tr>\n",
       "    <tr>\n",
       "      <th>2</th>\n",
       "      <td>None</td>\n",
       "      <td>17670-50G</td>\n",
       "      <td>201712</td>\n",
       "      <td>1</td>\n",
       "    </tr>\n",
       "    <tr>\n",
       "      <th>3</th>\n",
       "      <td>None</td>\n",
       "      <td>17700-50Z</td>\n",
       "      <td>201701</td>\n",
       "      <td>1</td>\n",
       "    </tr>\n",
       "    <tr>\n",
       "      <th>4</th>\n",
       "      <td>None</td>\n",
       "      <td>17700-50Z</td>\n",
       "      <td>201703</td>\n",
       "      <td>1</td>\n",
       "    </tr>\n",
       "  </tbody>\n",
       "</table>\n",
       "</div>"
      ],
      "text/plain": [
       "  prod_cd    part_cd   month  n\n",
       "0    None  17521-81P  201711  1\n",
       "1    None  17540-54L  201712  1\n",
       "2    None  17670-50G  201712  1\n",
       "3    None  17700-50Z  201701  1\n",
       "4    None  17700-50Z  201703  1"
      ]
     },
     "execution_count": 28,
     "metadata": {},
     "output_type": "execute_result"
    }
   ],
   "source": [
    "df_warranty.head()"
   ]
  },
  {
   "cell_type": "markdown",
   "metadata": {
    "hidden": true
   },
   "source": [
    "### 上位10パーツの件数の時系列推移グラフを表示"
   ]
  },
  {
   "cell_type": "code",
   "execution_count": 29,
   "metadata": {
    "ExecuteTime": {
     "end_time": "2019-07-04T11:33:24.576456Z",
     "start_time": "2019-07-04T11:33:24.550434Z"
    },
    "hidden": true
   },
   "outputs": [],
   "source": [
    "# 上位10パーツの件数\n",
    "part_top = df_warranty.groupby(\"part_cd\")[\"n\"].sum()"
   ]
  },
  {
   "cell_type": "code",
   "execution_count": 30,
   "metadata": {
    "ExecuteTime": {
     "end_time": "2019-07-04T11:33:24.585582Z",
     "start_time": "2019-07-04T11:33:24.578418Z"
    },
    "hidden": true
   },
   "outputs": [
    {
     "data": {
      "text/plain": [
       "part_cd\n",
       "28104-788    35753\n",
       "95411-82K    28661\n",
       "95410-82K    20225\n",
       "17521-50M    18006\n",
       "84701-70K    11667\n",
       "84702-70K     9115\n",
       "55311-81M     8773\n",
       "84701-82K     7233\n",
       "95411-72M     6888\n",
       "85107-VDX     6316\n",
       "Name: n, dtype: int64"
      ]
     },
     "execution_count": 30,
     "metadata": {},
     "output_type": "execute_result"
    }
   ],
   "source": [
    "part_top.sort_values(ascending = False)[:10]"
   ]
  },
  {
   "cell_type": "code",
   "execution_count": 31,
   "metadata": {
    "ExecuteTime": {
     "end_time": "2019-07-04T11:33:24.594345Z",
     "start_time": "2019-07-04T11:33:24.587606Z"
    },
    "hidden": true
   },
   "outputs": [],
   "source": [
    "top10_parts = (part_top\n",
    "               .sort_values(ascending = False)[:10]\n",
    "               .index)"
   ]
  },
  {
   "cell_type": "code",
   "execution_count": 32,
   "metadata": {
    "ExecuteTime": {
     "end_time": "2019-07-04T11:33:24.601334Z",
     "start_time": "2019-07-04T11:33:24.597039Z"
    },
    "hidden": true
   },
   "outputs": [
    {
     "data": {
      "text/plain": [
       "Index(['28104-788', '95411-82K', '95410-82K', '17521-50M', '84701-70K',\n",
       "       '84702-70K', '55311-81M', '84701-82K', '95411-72M', '85107-VDX'],\n",
       "      dtype='object', name='part_cd')"
      ]
     },
     "execution_count": 32,
     "metadata": {},
     "output_type": "execute_result"
    }
   ],
   "source": [
    "top10_parts"
   ]
  },
  {
   "cell_type": "code",
   "execution_count": 33,
   "metadata": {
    "ExecuteTime": {
     "end_time": "2019-07-04T11:33:24.613009Z",
     "start_time": "2019-07-04T11:33:24.603504Z"
    },
    "hidden": true
   },
   "outputs": [
    {
     "data": {
      "text/html": [
       "<div>\n",
       "<style scoped>\n",
       "    .dataframe tbody tr th:only-of-type {\n",
       "        vertical-align: middle;\n",
       "    }\n",
       "\n",
       "    .dataframe tbody tr th {\n",
       "        vertical-align: top;\n",
       "    }\n",
       "\n",
       "    .dataframe thead th {\n",
       "        text-align: right;\n",
       "    }\n",
       "</style>\n",
       "<table border=\"1\" class=\"dataframe\">\n",
       "  <thead>\n",
       "    <tr style=\"text-align: right;\">\n",
       "      <th></th>\n",
       "      <th>prod_cd</th>\n",
       "      <th>part_cd</th>\n",
       "      <th>month</th>\n",
       "      <th>n</th>\n",
       "    </tr>\n",
       "  </thead>\n",
       "  <tbody>\n",
       "    <tr>\n",
       "      <th>0</th>\n",
       "      <td>None</td>\n",
       "      <td>17521-81P</td>\n",
       "      <td>201711</td>\n",
       "      <td>1</td>\n",
       "    </tr>\n",
       "    <tr>\n",
       "      <th>1</th>\n",
       "      <td>None</td>\n",
       "      <td>17540-54L</td>\n",
       "      <td>201712</td>\n",
       "      <td>1</td>\n",
       "    </tr>\n",
       "    <tr>\n",
       "      <th>2</th>\n",
       "      <td>None</td>\n",
       "      <td>17670-50G</td>\n",
       "      <td>201712</td>\n",
       "      <td>1</td>\n",
       "    </tr>\n",
       "    <tr>\n",
       "      <th>3</th>\n",
       "      <td>None</td>\n",
       "      <td>17700-50Z</td>\n",
       "      <td>201701</td>\n",
       "      <td>1</td>\n",
       "    </tr>\n",
       "    <tr>\n",
       "      <th>4</th>\n",
       "      <td>None</td>\n",
       "      <td>17700-50Z</td>\n",
       "      <td>201703</td>\n",
       "      <td>1</td>\n",
       "    </tr>\n",
       "  </tbody>\n",
       "</table>\n",
       "</div>"
      ],
      "text/plain": [
       "  prod_cd    part_cd   month  n\n",
       "0    None  17521-81P  201711  1\n",
       "1    None  17540-54L  201712  1\n",
       "2    None  17670-50G  201712  1\n",
       "3    None  17700-50Z  201701  1\n",
       "4    None  17700-50Z  201703  1"
      ]
     },
     "execution_count": 33,
     "metadata": {},
     "output_type": "execute_result"
    }
   ],
   "source": [
    "df_warranty.head()"
   ]
  },
  {
   "cell_type": "code",
   "execution_count": 34,
   "metadata": {
    "ExecuteTime": {
     "end_time": "2019-07-04T11:33:24.658981Z",
     "start_time": "2019-07-04T11:33:24.615134Z"
    },
    "hidden": true
   },
   "outputs": [],
   "source": [
    "df_warranty[\"MONTH\"] = pd.to_datetime(\n",
    "    df_warranty.month.astype(str) + \"01\"\n",
    ")"
   ]
  },
  {
   "cell_type": "code",
   "execution_count": 35,
   "metadata": {
    "ExecuteTime": {
     "end_time": "2019-07-04T11:33:25.443005Z",
     "start_time": "2019-07-04T11:33:24.661394Z"
    },
    "hidden": true
   },
   "outputs": [],
   "source": [
    "%matplotlib inline"
   ]
  },
  {
   "cell_type": "code",
   "execution_count": 36,
   "metadata": {
    "ExecuteTime": {
     "end_time": "2019-07-04T11:33:25.447406Z",
     "start_time": "2019-07-04T11:33:25.444810Z"
    },
    "hidden": true
   },
   "outputs": [],
   "source": [
    "import matplotlib.pyplot as plt"
   ]
  },
  {
   "cell_type": "code",
   "execution_count": 42,
   "metadata": {
    "ExecuteTime": {
     "end_time": "2019-07-04T11:35:04.341801Z",
     "start_time": "2019-07-04T11:35:02.581213Z"
    },
    "hidden": true
   },
   "outputs": [
    {
     "data": {
      "image/png": "[encoded data removed]",
      "text/plain": [
       "<Figure size 432x288 with 1 Axes>"
      ]
     },
     "metadata": {
      "needs_background": "light"
     },
     "output_type": "display_data"
    },
    {
     "data": {
      "image/png": "[encoded data removed]",
      "text/plain": [
       "<Figure size 432x288 with 1 Axes>"
      ]
     },
     "metadata": {
      "needs_background": "light"
     },
     "output_type": "display_data"
    },
    {
     "data": {
      "image/png": "[encoded data removed]",
      "text/plain": [
       "<Figure size 432x288 with 1 Axes>"
      ]
     },
     "metadata": {
      "needs_background": "light"
     },
     "output_type": "display_data"
    },
    {
     "data": {
      "image/png": "[encoded data removed]",
      "text/plain": [
       "<Figure size 432x288 with 1 Axes>"
      ]
     },
     "metadata": {
      "needs_background": "light"
     },
     "output_type": "display_data"
    },
    {
     "data": {
      "image/png": "[encoded data removed]",
      "text/plain": [
       "<Figure size 432x288 with 1 Axes>"
      ]
     },
     "metadata": {
      "needs_background": "light"
     },
     "output_type": "display_data"
    },
    {
     "data": {
      "image/png": "[encoded data removed]",
      "text/plain": [
       "<Figure size 432x288 with 1 Axes>"
      ]
     },
     "metadata": {
      "needs_background": "light"
     },
     "output_type": "display_data"
    },
    {
     "data": {
      "image/png": "[encoded data removed]",
      "text/plain": [
       "<Figure size 432x288 with 1 Axes>"
      ]
     },
     "metadata": {
      "needs_background": "light"
     },
     "output_type": "display_data"
    },
    {
     "data": {
      "image/png": "[encoded data removed]",
      "text/plain": [
       "<Figure size 432x288 with 1 Axes>"
      ]
     },
     "metadata": {
      "needs_background": "light"
     },
     "output_type": "display_data"
    },
    {
     "data": {
      "image/png": "[encoded data removed]",
      "text/plain": [
       "<Figure size 432x288 with 1 Axes>"
      ]
     },
     "metadata": {
      "needs_background": "light"
     },
     "output_type": "display_data"
    },
    {
     "data": {
      "image/png": "[encoded data removed]",
      "text/plain": [
       "<Figure size 432x288 with 1 Axes>"
      ]
     },
     "metadata": {
      "needs_background": "light"
     },
     "output_type": "display_data"
    }
   ],
   "source": [
    "for part in top10_parts:\n",
    "    \n",
    "    # df_warrantyはパーツ毎 x 機種毎にわかれて件数が集計されているので、\n",
    "    # df_warranty.part_cd == partだけだと、複数機種に使用されているパーツについては、同じ月に複数のレコードがでてきてしまう。\n",
    "    # groupby(\"MONTH\")[\"n\"].apply(sum)で月毎でnをsumすることで、パーツのその月の合計ワランティ件数を計算する。\n",
    "    tmp = (df_warranty.loc[df_warranty.part_cd == part,\n",
    "                   [\"MONTH\", \"n\"]]\n",
    "           .groupby(\"MONTH\")[\"n\"]\n",
    "           .apply(sum))\n",
    "    plt.plot(tmp.index, tmp.values, \"o-\")\n",
    "    plt.title(part)\n",
    "    plt.show()\n",
    "    \n",
    "# 上位10パーツ毎のプロット"
   ]
  },
  {
   "cell_type": "markdown",
   "metadata": {},
   "source": [
    "## 宿題"
   ]
  },
  {
   "cell_type": "markdown",
   "metadata": {},
   "source": [
    "1. fig, add_subplotを使用して一つのグラフでまとめて描画してみてください。(サイズを横15,縦10で、3行4列で表示)\n",
    "2. パーツ毎ではなく、機種毎でプロットしてみてください。(上位10機種を、3行4列、サイズは横15,縦10で表示)\n",
    "3. 機種毎のプロットについても、問題2と同様、fig, add_subplotを使用して一つのグラフでまとめて描画してみてください。"
   ]
  },
  {
   "cell_type": "markdown",
   "metadata": {},
   "source": [
    "### 追加の宿題"
   ]
  },
  {
   "cell_type": "markdown",
   "metadata": {},
   "source": [
    "- 問題2のグラフについて、set_ylimを使って、y軸の範囲を0から10000にして表示してください。\n",
    "- 問題2のグラフについて、set_xlimを使って、2017年の上半期だけ表示してください。\n",
    "- 問題2のグラフについて、マーカーを△に、線を点線に変更してください。\n",
    "- 問題2のグラフについて、マーカーを消して、線だけに変更してください。\n",
    "- 問題2のグラフについて、線を消して、四角のマーカーだけに変更してください。\n",
    "- 問題2のグラフについて、色を赤色に変更してください。\n",
    "- 問題2のグラフについて、各グラフにパーツ名の凡例を表示してください。\n",
    "- 問題2のグラフを\"parts_warranty_monthly.png\"という名前を付けてnotebookのある場所にfiguresというフォルダを作ったうえで、保存してください。\n",
    "    - ヒント: osやpathlibライブラリを使うと、フォルダを作ることができます。保存先はpathlibライブラリを使ってみましょう)\n",
    "        - [こちらを参照](https://note.nkmk.me/python-pathlib-mkdir-rmdir/)\n",
    "- 各機種の月次の生産台数を、tbhaaテーブルからSQLを使って集計, df_fcokという変数に取り込んで下さい。ただし、国内生産のみ、四輪のみに限定してください。\n",
    "- 国内生産/四輪に絞った場合において、最も多くの機種に採用されているパーツは何で、何種類の機種に採用されていますか？ワランティのデータから計算してみてください。パーツコードは上5-3桁、機種コードは上3桁を使用してください。\n",
    "- 国内生産/四輪に絞った場合において、ワランティ件数上位10種のパーツのそれぞれにおいて、輸出と輸入の件数を棒グラフにして比較してください。パーツコードは上5-3桁を使用してください。また、そのグラフを上記で作成したfiguresフォルダ内にわかりやすい名前をつけて保存してください。\n",
    "    - ヒント: for文を回す前に、行がパーツの種類、列が輸入/輸出, 各値がレコード件数のようなテーブルを作ると良いです。groupbyのSQLで縦持ちでテーブルを得たあとに、pivot_tableメソッドで横持ちに変更しましょう"
   ]
  },
  {
   "cell_type": "code",
   "execution_count": null,
   "metadata": {},
   "outputs": [],
   "source": []
  }
 ],
 "metadata": {
  "kernelspec": {
   "display_name": "Python [conda env:suzuki] *",
   "language": "python",
   "name": "conda-env-suzuki-py"
  },
  "language_info": {
   "codemirror_mode": {
    "name": "ipython",
    "version": 3
   },
   "file_extension": ".py",
   "mimetype": "text/x-python",
   "name": "python",
   "nbconvert_exporter": "python",
   "pygments_lexer": "ipython3",
   "version": "3.6.8"
  },
  "latex_envs": {
   "LaTeX_envs_menu_present": true,
   "autoclose": false,
   "autocomplete": true,
   "bibliofile": "biblio.bib",
   "cite_by": "apalike",
   "current_citInitial": 1,
   "eqLabelWithNumbers": true,
   "eqNumInitial": 1,
   "hotkeys": {
    "equation": "Ctrl-E",
    "itemize": "Ctrl-I"
   },
   "labels_anchors": false,
   "latex_user_defs": false,
   "report_style_numbering": false,
   "user_envs_cfg": false
  },
  "nbTranslate": {
   "displayLangs": [
    "*"
   ],
   "hotkey": "alt-t",
   "langInMainMenu": true,
   "sourceLang": "en",
   "targetLang": "fr",
   "useGoogleTranslate": true
  },
  "toc": {
   "base_numbering": 1,
   "nav_menu": {},
   "number_sections": true,
   "sideBar": true,
   "skip_h1_title": false,
   "title_cell": "Table of Contents",
   "title_sidebar": "Contents",
   "toc_cell": false,
   "toc_position": {},
   "toc_section_display": true,
   "toc_window_display": false
  }
 },
 "nbformat": 4,
 "nbformat_minor": 2
}
