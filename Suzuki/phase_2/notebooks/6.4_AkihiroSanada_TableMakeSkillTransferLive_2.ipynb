{
 "cells": [
  {
   "cell_type": "markdown",
   "metadata": {},
   "source": [
    "# 第6回スキルトランスファー(眞田担当分)"
   ]
  },
  {
   "cell_type": "markdown",
   "metadata": {},
   "source": [
    "## ハンズオン"
   ]
  },
  {
   "cell_type": "markdown",
   "metadata": {},
   "source": [
    "### 週次のワランティ推移"
   ]
  },
  {
   "cell_type": "code",
   "execution_count": 1,
   "metadata": {
    "ExecuteTime": {
     "end_time": "2019-07-11T15:36:59.382192Z",
     "start_time": "2019-07-11T15:36:58.708868Z"
    }
   },
   "outputs": [],
   "source": [
    "from sqlalchemy import create_engine"
   ]
  },
  {
   "cell_type": "code",
   "execution_count": 2,
   "metadata": {
    "ExecuteTime": {
     "end_time": "2019-07-11T15:36:59.431371Z",
     "start_time": "2019-07-11T15:36:59.384246Z"
    }
   },
   "outputs": [],
   "source": [
    "engine = create_engine(\"sqlite:///../data/interim/suzuki_skilltransfer.sqlite3\")"
   ]
  },
  {
   "cell_type": "code",
   "execution_count": 3,
   "metadata": {
    "ExecuteTime": {
     "end_time": "2019-07-11T15:37:03.853033Z",
     "start_time": "2019-07-11T15:36:59.434253Z"
    }
   },
   "outputs": [],
   "source": [
    "import pandas as pd"
   ]
  },
  {
   "cell_type": "code",
   "execution_count": 4,
   "metadata": {
    "ExecuteTime": {
     "end_time": "2019-07-11T15:37:03.858052Z",
     "start_time": "2019-07-11T15:37:03.855441Z"
    }
   },
   "outputs": [],
   "source": [
    "pd.set_option(\"display.max_columns\", 1000)"
   ]
  },
  {
   "cell_type": "code",
   "execution_count": 5,
   "metadata": {
    "ExecuteTime": {
     "end_time": "2019-07-11T15:37:03.944202Z",
     "start_time": "2019-07-11T15:37:03.860215Z"
    }
   },
   "outputs": [
    {
     "data": {
      "text/html": [
       "<div>\n",
       "<style scoped>\n",
       "    .dataframe tbody tr th:only-of-type {\n",
       "        vertical-align: middle;\n",
       "    }\n",
       "\n",
       "    .dataframe tbody tr th {\n",
       "        vertical-align: top;\n",
       "    }\n",
       "\n",
       "    .dataframe thead th {\n",
       "        text-align: right;\n",
       "    }\n",
       "</style>\n",
       "<table border=\"1\" class=\"dataframe\">\n",
       "  <thead>\n",
       "    <tr style=\"text-align: right;\">\n",
       "      <th></th>\n",
       "      <th>W_KEY</th>\n",
       "      <th>W_BASE_CD</th>\n",
       "      <th>W_PROD_BASE_CD</th>\n",
       "      <th>W_FIELD_CLAIM_DIV</th>\n",
       "      <th>W_PROD_DIV</th>\n",
       "      <th>W_DMEX_DIV</th>\n",
       "      <th>W_PROCESS_MONTH</th>\n",
       "      <th>W_DIST_CD</th>\n",
       "      <th>W_DIST_COUNTRY_CD</th>\n",
       "      <th>W_DIST_ISSUE_NO</th>\n",
       "      <th>W_SHOP_DIV</th>\n",
       "      <th>W_SHOP_CD</th>\n",
       "      <th>W_DIV1</th>\n",
       "      <th>W_DIV2</th>\n",
       "      <th>W_DIV3</th>\n",
       "      <th>W_FIXED_DIV</th>\n",
       "      <th>W_MINUS_DIV</th>\n",
       "      <th>W_SRC_DIV</th>\n",
       "      <th>W_SRC_KEY</th>\n",
       "      <th>W_VIN</th>\n",
       "      <th>W_FCOK</th>\n",
       "      <th>W_PROD_MODEL_CD</th>\n",
       "      <th>W_SALES_DATE</th>\n",
       "      <th>W_FAILURE_DATE</th>\n",
       "      <th>W_MILEAGE_DIV</th>\n",
       "      <th>W_MILEAGE</th>\n",
       "      <th>W_CAUSAL_PART_NO</th>\n",
       "      <th>W_TROUBLE_CC</th>\n",
       "      <th>W_TROUBLE_CP</th>\n",
       "      <th>W_TROUBLE_DF</th>\n",
       "      <th>W_TROUBLE_MP</th>\n",
       "      <th>W_DTC_1</th>\n",
       "      <th>W_DTC_2</th>\n",
       "      <th>W_OPERATION_CD</th>\n",
       "      <th>W_PARTS_AMT</th>\n",
       "      <th>W_LABOR_HOUR</th>\n",
       "      <th>W_LABOR_AMT</th>\n",
       "      <th>W_SUBLET_HOUR</th>\n",
       "      <th>W_SUBLET_AMT</th>\n",
       "      <th>W_SHIPPING_AMT</th>\n",
       "      <th>W_TOTAL_AMT</th>\n",
       "      <th>W_CFC_COMPANY_CD</th>\n",
       "      <th>W_CFC_RATE</th>\n",
       "      <th>W_CFC_AMT</th>\n",
       "      <th>W_FC_TO_FAILURE</th>\n",
       "      <th>W_SALES_TO_FAILURE</th>\n",
       "      <th>W_SB_NO</th>\n",
       "      <th>W_CRT_TIME_STAMP</th>\n",
       "    </tr>\n",
       "  </thead>\n",
       "  <tbody>\n",
       "    <tr>\n",
       "      <th>0</th>\n",
       "      <td>WRAEJP201702A000001</td>\n",
       "      <td>100100</td>\n",
       "      <td>100100</td>\n",
       "      <td>2</td>\n",
       "      <td>A</td>\n",
       "      <td>1</td>\n",
       "      <td>201702</td>\n",
       "      <td>2505A</td>\n",
       "      <td>AE</td>\n",
       "      <td>00A10709</td>\n",
       "      <td>1</td>\n",
       "      <td>None</td>\n",
       "      <td>None</td>\n",
       "      <td>2</td>\n",
       "      <td>0</td>\n",
       "      <td>1</td>\n",
       "      <td>1</td>\n",
       "      <td>1</td>\n",
       "      <td>2017022505A00A10709</td>\n",
       "      <td>JS1VY54A682102346</td>\n",
       "      <td>20080201</td>\n",
       "      <td>XD021</td>\n",
       "      <td>20080723</td>\n",
       "      <td>20170122</td>\n",
       "      <td>K</td>\n",
       "      <td>10497</td>\n",
       "      <td>32800-10820-RX0</td>\n",
       "      <td>None</td>\n",
       "      <td>99</td>\n",
       "      <td>QR</td>\n",
       "      <td>None</td>\n",
       "      <td>None</td>\n",
       "      <td>None</td>\n",
       "      <td>SF9999</td>\n",
       "      <td>2266.0</td>\n",
       "      <td>0.4</td>\n",
       "      <td>1200.0</td>\n",
       "      <td>0.0</td>\n",
       "      <td>0.0</td>\n",
       "      <td>679.0</td>\n",
       "      <td>4145.0</td>\n",
       "      <td>P58X</td>\n",
       "      <td>0</td>\n",
       "      <td>0.0</td>\n",
       "      <td>107</td>\n",
       "      <td>102</td>\n",
       "      <td>None</td>\n",
       "      <td>17-08-02 18:34:49.631885000</td>\n",
       "    </tr>\n",
       "  </tbody>\n",
       "</table>\n",
       "</div>"
      ],
      "text/plain": [
       "                 W_KEY W_BASE_CD W_PROD_BASE_CD W_FIELD_CLAIM_DIV W_PROD_DIV  \\\n",
       "0  WRAEJP201702A000001    100100         100100                 2          A   \n",
       "\n",
       "  W_DMEX_DIV W_PROCESS_MONTH W_DIST_CD W_DIST_COUNTRY_CD W_DIST_ISSUE_NO  \\\n",
       "0          1          201702     2505A                AE        00A10709   \n",
       "\n",
       "  W_SHOP_DIV W_SHOP_CD W_DIV1 W_DIV2 W_DIV3 W_FIXED_DIV  W_MINUS_DIV  \\\n",
       "0          1      None   None      2      0           1            1   \n",
       "\n",
       "  W_SRC_DIV            W_SRC_KEY              W_VIN    W_FCOK W_PROD_MODEL_CD  \\\n",
       "0         1  2017022505A00A10709  JS1VY54A682102346  20080201           XD021   \n",
       "\n",
       "  W_SALES_DATE W_FAILURE_DATE W_MILEAGE_DIV  W_MILEAGE W_CAUSAL_PART_NO  \\\n",
       "0     20080723       20170122             K      10497  32800-10820-RX0   \n",
       "\n",
       "  W_TROUBLE_CC W_TROUBLE_CP W_TROUBLE_DF W_TROUBLE_MP W_DTC_1 W_DTC_2  \\\n",
       "0         None           99           QR         None    None    None   \n",
       "\n",
       "  W_OPERATION_CD  W_PARTS_AMT  W_LABOR_HOUR  W_LABOR_AMT  W_SUBLET_HOUR  \\\n",
       "0         SF9999       2266.0           0.4       1200.0            0.0   \n",
       "\n",
       "   W_SUBLET_AMT  W_SHIPPING_AMT  W_TOTAL_AMT W_CFC_COMPANY_CD  W_CFC_RATE  \\\n",
       "0           0.0           679.0       4145.0             P58X           0   \n",
       "\n",
       "   W_CFC_AMT  W_FC_TO_FAILURE  W_SALES_TO_FAILURE W_SB_NO  \\\n",
       "0        0.0              107                 102    None   \n",
       "\n",
       "              W_CRT_TIME_STAMP  \n",
       "0  17-08-02 18:34:49.631885000  "
      ]
     },
     "execution_count": 5,
     "metadata": {},
     "output_type": "execute_result"
    }
   ],
   "source": [
    "pd.read_sql(\"select * from warranty limit 1\", engine)"
   ]
  },
  {
   "cell_type": "code",
   "execution_count": 6,
   "metadata": {
    "ExecuteTime": {
     "end_time": "2019-07-11T15:37:03.992939Z",
     "start_time": "2019-07-11T15:37:03.945986Z"
    },
    "scrolled": true
   },
   "outputs": [
    {
     "data": {
      "text/html": [
       "<div>\n",
       "<style scoped>\n",
       "    .dataframe tbody tr th:only-of-type {\n",
       "        vertical-align: middle;\n",
       "    }\n",
       "\n",
       "    .dataframe tbody tr th {\n",
       "        vertical-align: top;\n",
       "    }\n",
       "\n",
       "    .dataframe thead th {\n",
       "        text-align: right;\n",
       "    }\n",
       "</style>\n",
       "<table border=\"1\" class=\"dataframe\">\n",
       "  <thead>\n",
       "    <tr style=\"text-align: right;\">\n",
       "      <th></th>\n",
       "      <th>W_KEY</th>\n",
       "      <th>W_BASE_CD</th>\n",
       "      <th>W_PROD_BASE_CD</th>\n",
       "      <th>W_FIELD_CLAIM_DIV</th>\n",
       "      <th>W_PROD_DIV</th>\n",
       "      <th>W_DMEX_DIV</th>\n",
       "      <th>W_PROCESS_MONTH</th>\n",
       "      <th>W_DIST_CD</th>\n",
       "      <th>W_DIST_COUNTRY_CD</th>\n",
       "      <th>W_DIST_ISSUE_NO</th>\n",
       "      <th>W_SHOP_DIV</th>\n",
       "      <th>W_SHOP_CD</th>\n",
       "      <th>W_DIV1</th>\n",
       "      <th>W_DIV2</th>\n",
       "      <th>W_DIV3</th>\n",
       "      <th>W_FIXED_DIV</th>\n",
       "      <th>W_MINUS_DIV</th>\n",
       "      <th>W_SRC_DIV</th>\n",
       "      <th>W_SRC_KEY</th>\n",
       "      <th>W_VIN</th>\n",
       "      <th>W_FCOK</th>\n",
       "      <th>W_PROD_MODEL_CD</th>\n",
       "      <th>W_SALES_DATE</th>\n",
       "      <th>W_FAILURE_DATE</th>\n",
       "      <th>W_MILEAGE_DIV</th>\n",
       "      <th>W_MILEAGE</th>\n",
       "      <th>W_CAUSAL_PART_NO</th>\n",
       "      <th>W_TROUBLE_CC</th>\n",
       "      <th>W_TROUBLE_CP</th>\n",
       "      <th>W_TROUBLE_DF</th>\n",
       "      <th>W_TROUBLE_MP</th>\n",
       "      <th>W_DTC_1</th>\n",
       "      <th>W_DTC_2</th>\n",
       "      <th>W_OPERATION_CD</th>\n",
       "      <th>W_PARTS_AMT</th>\n",
       "      <th>W_LABOR_HOUR</th>\n",
       "      <th>W_LABOR_AMT</th>\n",
       "      <th>W_SUBLET_HOUR</th>\n",
       "      <th>W_SUBLET_AMT</th>\n",
       "      <th>W_SHIPPING_AMT</th>\n",
       "      <th>W_TOTAL_AMT</th>\n",
       "      <th>W_CFC_COMPANY_CD</th>\n",
       "      <th>W_CFC_RATE</th>\n",
       "      <th>W_CFC_AMT</th>\n",
       "      <th>W_FC_TO_FAILURE</th>\n",
       "      <th>W_SALES_TO_FAILURE</th>\n",
       "      <th>W_SB_NO</th>\n",
       "      <th>W_CRT_TIME_STAMP</th>\n",
       "    </tr>\n",
       "  </thead>\n",
       "  <tbody>\n",
       "    <tr>\n",
       "      <th>0</th>\n",
       "      <td>WRAEJP201702A000001</td>\n",
       "      <td>100100</td>\n",
       "      <td>100100</td>\n",
       "      <td>2</td>\n",
       "      <td>A</td>\n",
       "      <td>1</td>\n",
       "      <td>201702</td>\n",
       "      <td>2505A</td>\n",
       "      <td>AE</td>\n",
       "      <td>00A10709</td>\n",
       "      <td>1</td>\n",
       "      <td>None</td>\n",
       "      <td>None</td>\n",
       "      <td>2</td>\n",
       "      <td>0</td>\n",
       "      <td>1</td>\n",
       "      <td>1</td>\n",
       "      <td>1</td>\n",
       "      <td>2017022505A00A10709</td>\n",
       "      <td>JS1VY54A682102346</td>\n",
       "      <td>20080201</td>\n",
       "      <td>XD021</td>\n",
       "      <td>20080723</td>\n",
       "      <td>20170122</td>\n",
       "      <td>K</td>\n",
       "      <td>10497</td>\n",
       "      <td>32800-10820-RX0</td>\n",
       "      <td>None</td>\n",
       "      <td>99</td>\n",
       "      <td>QR</td>\n",
       "      <td>None</td>\n",
       "      <td>None</td>\n",
       "      <td>None</td>\n",
       "      <td>SF9999</td>\n",
       "      <td>2266.0</td>\n",
       "      <td>0.4</td>\n",
       "      <td>1200.0</td>\n",
       "      <td>0.0</td>\n",
       "      <td>0.0</td>\n",
       "      <td>679.0</td>\n",
       "      <td>4145.0</td>\n",
       "      <td>P58X</td>\n",
       "      <td>0</td>\n",
       "      <td>0.0</td>\n",
       "      <td>107</td>\n",
       "      <td>102</td>\n",
       "      <td>None</td>\n",
       "      <td>17-08-02 18:34:49.631885000</td>\n",
       "    </tr>\n",
       "  </tbody>\n",
       "</table>\n",
       "</div>"
      ],
      "text/plain": [
       "                 W_KEY W_BASE_CD W_PROD_BASE_CD W_FIELD_CLAIM_DIV W_PROD_DIV  \\\n",
       "0  WRAEJP201702A000001    100100         100100                 2          A   \n",
       "\n",
       "  W_DMEX_DIV W_PROCESS_MONTH W_DIST_CD W_DIST_COUNTRY_CD W_DIST_ISSUE_NO  \\\n",
       "0          1          201702     2505A                AE        00A10709   \n",
       "\n",
       "  W_SHOP_DIV W_SHOP_CD W_DIV1 W_DIV2 W_DIV3 W_FIXED_DIV  W_MINUS_DIV  \\\n",
       "0          1      None   None      2      0           1            1   \n",
       "\n",
       "  W_SRC_DIV            W_SRC_KEY              W_VIN    W_FCOK W_PROD_MODEL_CD  \\\n",
       "0         1  2017022505A00A10709  JS1VY54A682102346  20080201           XD021   \n",
       "\n",
       "  W_SALES_DATE W_FAILURE_DATE W_MILEAGE_DIV  W_MILEAGE W_CAUSAL_PART_NO  \\\n",
       "0     20080723       20170122             K      10497  32800-10820-RX0   \n",
       "\n",
       "  W_TROUBLE_CC W_TROUBLE_CP W_TROUBLE_DF W_TROUBLE_MP W_DTC_1 W_DTC_2  \\\n",
       "0         None           99           QR         None    None    None   \n",
       "\n",
       "  W_OPERATION_CD  W_PARTS_AMT  W_LABOR_HOUR  W_LABOR_AMT  W_SUBLET_HOUR  \\\n",
       "0         SF9999       2266.0           0.4       1200.0            0.0   \n",
       "\n",
       "   W_SUBLET_AMT  W_SHIPPING_AMT  W_TOTAL_AMT W_CFC_COMPANY_CD  W_CFC_RATE  \\\n",
       "0           0.0           679.0       4145.0             P58X           0   \n",
       "\n",
       "   W_CFC_AMT  W_FC_TO_FAILURE  W_SALES_TO_FAILURE W_SB_NO  \\\n",
       "0        0.0              107                 102    None   \n",
       "\n",
       "              W_CRT_TIME_STAMP  \n",
       "0  17-08-02 18:34:49.631885000  "
      ]
     },
     "metadata": {},
     "output_type": "display_data"
    }
   ],
   "source": [
    "with pd.option_context(\"display.max_columns\", 1000):\n",
    "    display(\n",
    "        pd.read_sql(\"select * from warranty limit 1\"\n",
    "                    , engine)\n",
    "    )"
   ]
  },
  {
   "cell_type": "code",
   "execution_count": 8,
   "metadata": {
    "ExecuteTime": {
     "end_time": "2019-07-11T15:37:17.036385Z",
     "start_time": "2019-07-11T15:37:17.033951Z"
    }
   },
   "outputs": [],
   "source": [
    "# 故障日, パーツ種類(上9桁), モデル品番(上3桁), 件数\n",
    "# w_field_claim_div = 1, \n",
    "# w_prod_base_cd = 100100, w_prod_div = \"B\", w_dmex_div = 0"
   ]
  },
  {
   "cell_type": "code",
   "execution_count": 9,
   "metadata": {
    "ExecuteTime": {
     "end_time": "2019-07-11T15:37:19.144264Z",
     "start_time": "2019-07-11T15:37:17.059268Z"
    }
   },
   "outputs": [],
   "source": [
    "df_warranty_daily = pd.read_sql(\n",
    "\"\"\"\n",
    "select W_FAILURE_DATE as date\n",
    "       ,substr(W_CAUSAL_PART_NO, 1, 9) as part\n",
    "       ,substr(W_PROD_MODEL_CD, 1, 3) as model\n",
    "       ,count(*) as n\n",
    "from warranty\n",
    "where w_prod_base_cd = '100100'\n",
    "and w_prod_div = 'B'\n",
    "and w_dmex_div = '0'\n",
    "and w_field_claim_div = '1'\n",
    "group by part, model, date;\n",
    "\"\"\", engine)"
   ]
  },
  {
   "cell_type": "code",
   "execution_count": 10,
   "metadata": {
    "ExecuteTime": {
     "end_time": "2019-07-11T15:37:19.155281Z",
     "start_time": "2019-07-11T15:37:19.146335Z"
    }
   },
   "outputs": [
    {
     "data": {
      "text/html": [
       "<div>\n",
       "<style scoped>\n",
       "    .dataframe tbody tr th:only-of-type {\n",
       "        vertical-align: middle;\n",
       "    }\n",
       "\n",
       "    .dataframe tbody tr th {\n",
       "        vertical-align: top;\n",
       "    }\n",
       "\n",
       "    .dataframe thead th {\n",
       "        text-align: right;\n",
       "    }\n",
       "</style>\n",
       "<table border=\"1\" class=\"dataframe\">\n",
       "  <thead>\n",
       "    <tr style=\"text-align: right;\">\n",
       "      <th></th>\n",
       "      <th>date</th>\n",
       "      <th>part</th>\n",
       "      <th>model</th>\n",
       "      <th>n</th>\n",
       "    </tr>\n",
       "  </thead>\n",
       "  <tbody>\n",
       "    <tr>\n",
       "      <th>0</th>\n",
       "      <td>20170602</td>\n",
       "      <td>01421-102</td>\n",
       "      <td>YD3</td>\n",
       "      <td>1</td>\n",
       "    </tr>\n",
       "    <tr>\n",
       "      <th>1</th>\n",
       "      <td>20170907</td>\n",
       "      <td>01547-064</td>\n",
       "      <td>Y3J</td>\n",
       "      <td>1</td>\n",
       "    </tr>\n",
       "    <tr>\n",
       "      <th>2</th>\n",
       "      <td>20171028</td>\n",
       "      <td>01550-062</td>\n",
       "      <td>YV7</td>\n",
       "      <td>1</td>\n",
       "    </tr>\n",
       "    <tr>\n",
       "      <th>3</th>\n",
       "      <td>20170128</td>\n",
       "      <td>01550-065</td>\n",
       "      <td>YR6</td>\n",
       "      <td>1</td>\n",
       "    </tr>\n",
       "    <tr>\n",
       "      <th>4</th>\n",
       "      <td>20170328</td>\n",
       "      <td>01550-082</td>\n",
       "      <td>YMA</td>\n",
       "      <td>1</td>\n",
       "    </tr>\n",
       "  </tbody>\n",
       "</table>\n",
       "</div>"
      ],
      "text/plain": [
       "       date       part model  n\n",
       "0  20170602  01421-102   YD3  1\n",
       "1  20170907  01547-064   Y3J  1\n",
       "2  20171028  01550-062   YV7  1\n",
       "3  20170128  01550-065   YR6  1\n",
       "4  20170328  01550-082   YMA  1"
      ]
     },
     "execution_count": 10,
     "metadata": {},
     "output_type": "execute_result"
    }
   ],
   "source": [
    "df_warranty_daily.head()"
   ]
  },
  {
   "cell_type": "code",
   "execution_count": 11,
   "metadata": {
    "ExecuteTime": {
     "end_time": "2019-07-11T15:37:19.162089Z",
     "start_time": "2019-07-11T15:37:19.157629Z"
    }
   },
   "outputs": [
    {
     "data": {
      "text/plain": [
       "(159930, 4)"
      ]
     },
     "execution_count": 11,
     "metadata": {},
     "output_type": "execute_result"
    }
   ],
   "source": [
    "df_warranty_daily.shape"
   ]
  },
  {
   "cell_type": "code",
   "execution_count": 12,
   "metadata": {
    "ExecuteTime": {
     "end_time": "2019-07-11T15:37:19.205793Z",
     "start_time": "2019-07-11T15:37:19.164194Z"
    }
   },
   "outputs": [],
   "source": [
    "df_warranty_daily.date = \\\n",
    "    pd.to_datetime(df_warranty_daily.date)"
   ]
  },
  {
   "cell_type": "markdown",
   "metadata": {},
   "source": [
    "datetime -> str(format)"
   ]
  },
  {
   "cell_type": "code",
   "execution_count": 13,
   "metadata": {
    "ExecuteTime": {
     "end_time": "2019-07-11T15:37:19.210834Z",
     "start_time": "2019-07-11T15:37:19.207482Z"
    }
   },
   "outputs": [],
   "source": [
    "df_warranty_daily.set_index(\"date\", inplace=True)"
   ]
  },
  {
   "cell_type": "code",
   "execution_count": 14,
   "metadata": {
    "ExecuteTime": {
     "end_time": "2019-07-11T15:37:19.279574Z",
     "start_time": "2019-07-11T15:37:19.212823Z"
    },
    "scrolled": true
   },
   "outputs": [
    {
     "data": {
      "text/plain": [
       "date\n",
       "2017-01-01    1\n",
       "2017-02-01    1\n",
       "2017-03-01    1\n",
       "2017-04-01    1\n",
       "2017-05-01    1\n",
       "2017-06-01    1\n",
       "2017-07-01    1\n",
       "2017-08-01    1\n",
       "2017-09-01    1\n",
       "2017-10-01    1\n",
       "2017-11-01    1\n",
       "2017-12-01    1\n",
       "Freq: MS, Name: n, dtype: int64"
      ]
     },
     "execution_count": 14,
     "metadata": {},
     "output_type": "execute_result"
    }
   ],
   "source": [
    "# Month Start\n",
    "# Month\n",
    "df_warranty_daily.resample(\"MS\")[\"n\"].min()"
   ]
  },
  {
   "cell_type": "markdown",
   "metadata": {},
   "source": [
    "https://pandas.pydata.org/pandas-docs/stable/user_guide/options.html"
   ]
  },
  {
   "cell_type": "markdown",
   "metadata": {},
   "source": [
    "https://pandas.pydata.org/pandas-docs/stable/reference/api/pandas.Grouper.html"
   ]
  },
  {
   "cell_type": "markdown",
   "metadata": {},
   "source": [
    "https://note.nkmk.me/python-pandas-time-series-freq/"
   ]
  },
  {
   "cell_type": "code",
   "execution_count": 16,
   "metadata": {
    "ExecuteTime": {
     "end_time": "2019-07-11T15:37:35.558747Z",
     "start_time": "2019-07-11T15:37:35.555038Z"
    }
   },
   "outputs": [],
   "source": [
    "df_warranty_daily.reset_index(inplace=True)"
   ]
  },
  {
   "cell_type": "code",
   "execution_count": 17,
   "metadata": {
    "ExecuteTime": {
     "end_time": "2019-07-11T15:37:35.584336Z",
     "start_time": "2019-07-11T15:37:35.575306Z"
    }
   },
   "outputs": [
    {
     "data": {
      "text/html": [
       "<div>\n",
       "<style scoped>\n",
       "    .dataframe tbody tr th:only-of-type {\n",
       "        vertical-align: middle;\n",
       "    }\n",
       "\n",
       "    .dataframe tbody tr th {\n",
       "        vertical-align: top;\n",
       "    }\n",
       "\n",
       "    .dataframe thead th {\n",
       "        text-align: right;\n",
       "    }\n",
       "</style>\n",
       "<table border=\"1\" class=\"dataframe\">\n",
       "  <thead>\n",
       "    <tr style=\"text-align: right;\">\n",
       "      <th></th>\n",
       "      <th>date</th>\n",
       "      <th>part</th>\n",
       "      <th>model</th>\n",
       "      <th>n</th>\n",
       "    </tr>\n",
       "  </thead>\n",
       "  <tbody>\n",
       "    <tr>\n",
       "      <th>0</th>\n",
       "      <td>2017-06-02</td>\n",
       "      <td>01421-102</td>\n",
       "      <td>YD3</td>\n",
       "      <td>1</td>\n",
       "    </tr>\n",
       "    <tr>\n",
       "      <th>1</th>\n",
       "      <td>2017-09-07</td>\n",
       "      <td>01547-064</td>\n",
       "      <td>Y3J</td>\n",
       "      <td>1</td>\n",
       "    </tr>\n",
       "    <tr>\n",
       "      <th>2</th>\n",
       "      <td>2017-10-28</td>\n",
       "      <td>01550-062</td>\n",
       "      <td>YV7</td>\n",
       "      <td>1</td>\n",
       "    </tr>\n",
       "    <tr>\n",
       "      <th>3</th>\n",
       "      <td>2017-01-28</td>\n",
       "      <td>01550-065</td>\n",
       "      <td>YR6</td>\n",
       "      <td>1</td>\n",
       "    </tr>\n",
       "    <tr>\n",
       "      <th>4</th>\n",
       "      <td>2017-03-28</td>\n",
       "      <td>01550-082</td>\n",
       "      <td>YMA</td>\n",
       "      <td>1</td>\n",
       "    </tr>\n",
       "  </tbody>\n",
       "</table>\n",
       "</div>"
      ],
      "text/plain": [
       "        date       part model  n\n",
       "0 2017-06-02  01421-102   YD3  1\n",
       "1 2017-09-07  01547-064   Y3J  1\n",
       "2 2017-10-28  01550-062   YV7  1\n",
       "3 2017-01-28  01550-065   YR6  1\n",
       "4 2017-03-28  01550-082   YMA  1"
      ]
     },
     "execution_count": 17,
     "metadata": {},
     "output_type": "execute_result"
    }
   ],
   "source": [
    "df_warranty_daily.head()"
   ]
  },
  {
   "cell_type": "code",
   "execution_count": 18,
   "metadata": {
    "ExecuteTime": {
     "end_time": "2019-07-11T15:37:35.718757Z",
     "start_time": "2019-07-11T15:37:35.596373Z"
    }
   },
   "outputs": [],
   "source": [
    "df_warranty_weekly = (df_warranty_daily\n",
    "                      .groupby([\"part\",\n",
    "                                pd.Grouper(key=\"date\",\n",
    "                                           freq=\"W\")])[\"n\"]\n",
    "                      .sum().reset_index())"
   ]
  },
  {
   "cell_type": "code",
   "execution_count": 19,
   "metadata": {
    "ExecuteTime": {
     "end_time": "2019-07-11T15:37:35.730875Z",
     "start_time": "2019-07-11T15:37:35.720894Z"
    }
   },
   "outputs": [
    {
     "data": {
      "text/html": [
       "<div>\n",
       "<style scoped>\n",
       "    .dataframe tbody tr th:only-of-type {\n",
       "        vertical-align: middle;\n",
       "    }\n",
       "\n",
       "    .dataframe tbody tr th {\n",
       "        vertical-align: top;\n",
       "    }\n",
       "\n",
       "    .dataframe thead th {\n",
       "        text-align: right;\n",
       "    }\n",
       "</style>\n",
       "<table border=\"1\" class=\"dataframe\">\n",
       "  <thead>\n",
       "    <tr style=\"text-align: right;\">\n",
       "      <th></th>\n",
       "      <th>part</th>\n",
       "      <th>date</th>\n",
       "      <th>n</th>\n",
       "    </tr>\n",
       "  </thead>\n",
       "  <tbody>\n",
       "    <tr>\n",
       "      <th>0</th>\n",
       "      <td>01421-102</td>\n",
       "      <td>2017-06-04</td>\n",
       "      <td>1</td>\n",
       "    </tr>\n",
       "    <tr>\n",
       "      <th>1</th>\n",
       "      <td>01547-064</td>\n",
       "      <td>2017-09-10</td>\n",
       "      <td>1</td>\n",
       "    </tr>\n",
       "    <tr>\n",
       "      <th>2</th>\n",
       "      <td>01550-062</td>\n",
       "      <td>2017-10-29</td>\n",
       "      <td>1</td>\n",
       "    </tr>\n",
       "    <tr>\n",
       "      <th>3</th>\n",
       "      <td>01550-065</td>\n",
       "      <td>2017-01-29</td>\n",
       "      <td>1</td>\n",
       "    </tr>\n",
       "    <tr>\n",
       "      <th>4</th>\n",
       "      <td>01550-082</td>\n",
       "      <td>2017-04-02</td>\n",
       "      <td>1</td>\n",
       "    </tr>\n",
       "  </tbody>\n",
       "</table>\n",
       "</div>"
      ],
      "text/plain": [
       "        part       date  n\n",
       "0  01421-102 2017-06-04  1\n",
       "1  01547-064 2017-09-10  1\n",
       "2  01550-062 2017-10-29  1\n",
       "3  01550-065 2017-01-29  1\n",
       "4  01550-082 2017-04-02  1"
      ]
     },
     "execution_count": 19,
     "metadata": {},
     "output_type": "execute_result"
    }
   ],
   "source": [
    "df_warranty_weekly.head()"
   ]
  },
  {
   "cell_type": "code",
   "execution_count": 20,
   "metadata": {
    "ExecuteTime": {
     "end_time": "2019-07-11T15:37:35.740004Z",
     "start_time": "2019-07-11T15:37:35.734058Z"
    }
   },
   "outputs": [],
   "source": [
    "df_warranty_weekly.date = df_warranty_weekly.date \\\n",
    "    - pd.to_timedelta(7, unit=\"d\")"
   ]
  },
  {
   "cell_type": "code",
   "execution_count": 21,
   "metadata": {
    "ExecuteTime": {
     "end_time": "2019-07-11T15:37:35.752675Z",
     "start_time": "2019-07-11T15:37:35.742896Z"
    }
   },
   "outputs": [
    {
     "data": {
      "text/html": [
       "<div>\n",
       "<style scoped>\n",
       "    .dataframe tbody tr th:only-of-type {\n",
       "        vertical-align: middle;\n",
       "    }\n",
       "\n",
       "    .dataframe tbody tr th {\n",
       "        vertical-align: top;\n",
       "    }\n",
       "\n",
       "    .dataframe thead th {\n",
       "        text-align: right;\n",
       "    }\n",
       "</style>\n",
       "<table border=\"1\" class=\"dataframe\">\n",
       "  <thead>\n",
       "    <tr style=\"text-align: right;\">\n",
       "      <th></th>\n",
       "      <th>part</th>\n",
       "      <th>date</th>\n",
       "      <th>n</th>\n",
       "    </tr>\n",
       "  </thead>\n",
       "  <tbody>\n",
       "    <tr>\n",
       "      <th>0</th>\n",
       "      <td>01421-102</td>\n",
       "      <td>2017-05-28</td>\n",
       "      <td>1</td>\n",
       "    </tr>\n",
       "    <tr>\n",
       "      <th>1</th>\n",
       "      <td>01547-064</td>\n",
       "      <td>2017-09-03</td>\n",
       "      <td>1</td>\n",
       "    </tr>\n",
       "    <tr>\n",
       "      <th>2</th>\n",
       "      <td>01550-062</td>\n",
       "      <td>2017-10-22</td>\n",
       "      <td>1</td>\n",
       "    </tr>\n",
       "    <tr>\n",
       "      <th>3</th>\n",
       "      <td>01550-065</td>\n",
       "      <td>2017-01-22</td>\n",
       "      <td>1</td>\n",
       "    </tr>\n",
       "    <tr>\n",
       "      <th>4</th>\n",
       "      <td>01550-082</td>\n",
       "      <td>2017-03-26</td>\n",
       "      <td>1</td>\n",
       "    </tr>\n",
       "  </tbody>\n",
       "</table>\n",
       "</div>"
      ],
      "text/plain": [
       "        part       date  n\n",
       "0  01421-102 2017-05-28  1\n",
       "1  01547-064 2017-09-03  1\n",
       "2  01550-062 2017-10-22  1\n",
       "3  01550-065 2017-01-22  1\n",
       "4  01550-082 2017-03-26  1"
      ]
     },
     "execution_count": 21,
     "metadata": {},
     "output_type": "execute_result"
    }
   ],
   "source": [
    "df_warranty_weekly.head()"
   ]
  },
  {
   "cell_type": "markdown",
   "metadata": {},
   "source": [
    "### 経過月毎のワランティ推移"
   ]
  },
  {
   "cell_type": "code",
   "execution_count": 22,
   "metadata": {
    "ExecuteTime": {
     "end_time": "2019-07-11T15:37:35.757389Z",
     "start_time": "2019-07-11T15:37:35.755207Z"
    }
   },
   "outputs": [],
   "source": [
    "# select:\n",
    "#   故障までの月(W_SALES_TO_FAILURE), \n",
    "#   パーツ種類(上9桁)(W_CAUSAL_PART_NO),\n",
    "#   モデル品番(上3桁)(W_PROD_MODEL_CD),\n",
    "#   件数\n",
    "# 条件(where:)\n",
    "# w_field_claim_div = 1, \n",
    "# w_prod_base_cd = 100100, w_prod_div = \"B\", w_dmex_div = 0"
   ]
  },
  {
   "cell_type": "code",
   "execution_count": 23,
   "metadata": {
    "ExecuteTime": {
     "end_time": "2019-07-11T15:37:36.643812Z",
     "start_time": "2019-07-11T15:37:35.759935Z"
    }
   },
   "outputs": [],
   "source": [
    "df_warranty_stf = pd.read_sql(\n",
    "\"\"\"\n",
    "select W_SALES_TO_FAILURE as stf\n",
    "       ,substr(W_CAUSAL_PART_NO, 1, 9) as part\n",
    "       ,substr(W_PROD_MODEL_CD, 1, 3) as model\n",
    "       ,count(*) as n\n",
    "from warranty\n",
    "where w_base_cd = '100100'\n",
    "and w_prod_base_cd = '100100'\n",
    "and w_prod_div = 'B'\n",
    "and w_dmex_div = '0'\n",
    "and w_field_claim_div = '1'\n",
    "group by part, model, stf;\n",
    "\"\"\", engine) # "
   ]
  },
  {
   "cell_type": "code",
   "execution_count": 24,
   "metadata": {
    "ExecuteTime": {
     "end_time": "2019-07-11T15:37:36.648267Z",
     "start_time": "2019-07-11T15:37:36.645812Z"
    }
   },
   "outputs": [],
   "source": [
    "# ハンガリーが混ざる / 両方 -> 100100"
   ]
  },
  {
   "cell_type": "code",
   "execution_count": 25,
   "metadata": {
    "ExecuteTime": {
     "end_time": "2019-07-11T15:37:36.724482Z",
     "start_time": "2019-07-11T15:37:36.651694Z"
    }
   },
   "outputs": [],
   "source": [
    "# パーツコードマスタを作成。どの主原因品番がどのモデルに含まれているのかの読み替え表を作成\n",
    "\n",
    "df_part_model_master = \\\n",
    "    (df_warranty_daily[[\"part\", \"model\"]]\n",
    "                       .dropna()\n",
    "                       .drop_duplicates())\n",
    "\n",
    "# 少数のマスターの調整"
   ]
  },
  {
   "cell_type": "code",
   "execution_count": 26,
   "metadata": {
    "ExecuteTime": {
     "end_time": "2019-07-11T15:37:36.766432Z",
     "start_time": "2019-07-11T15:37:36.726709Z"
    }
   },
   "outputs": [],
   "source": [
    "tmp = df_warranty_daily.groupby([\"part\", \"model\"])[\"n\"].sum()"
   ]
  },
  {
   "cell_type": "code",
   "execution_count": 27,
   "metadata": {
    "ExecuteTime": {
     "end_time": "2019-07-11T15:37:36.773490Z",
     "start_time": "2019-07-11T15:37:36.768799Z"
    }
   },
   "outputs": [],
   "source": [
    "tmp = tmp[tmp.values >= 5] # 5以上"
   ]
  },
  {
   "cell_type": "code",
   "execution_count": 28,
   "metadata": {
    "ExecuteTime": {
     "end_time": "2019-07-11T15:37:36.792076Z",
     "start_time": "2019-07-11T15:37:36.775660Z"
    }
   },
   "outputs": [
    {
     "data": {
      "text/html": [
       "<div>\n",
       "<style scoped>\n",
       "    .dataframe tbody tr th:only-of-type {\n",
       "        vertical-align: middle;\n",
       "    }\n",
       "\n",
       "    .dataframe tbody tr th {\n",
       "        vertical-align: top;\n",
       "    }\n",
       "\n",
       "    .dataframe thead th {\n",
       "        text-align: right;\n",
       "    }\n",
       "</style>\n",
       "<table border=\"1\" class=\"dataframe\">\n",
       "  <thead>\n",
       "    <tr style=\"text-align: right;\">\n",
       "      <th></th>\n",
       "      <th>part</th>\n",
       "      <th>model</th>\n",
       "    </tr>\n",
       "  </thead>\n",
       "  <tbody>\n",
       "    <tr>\n",
       "      <th>0</th>\n",
       "      <td>01551-081</td>\n",
       "      <td>YV7</td>\n",
       "    </tr>\n",
       "    <tr>\n",
       "      <th>1</th>\n",
       "      <td>02162-061</td>\n",
       "      <td>YJA</td>\n",
       "    </tr>\n",
       "    <tr>\n",
       "      <th>2</th>\n",
       "      <td>02162-061</td>\n",
       "      <td>YW0</td>\n",
       "    </tr>\n",
       "    <tr>\n",
       "      <th>3</th>\n",
       "      <td>09103-083</td>\n",
       "      <td>YN1</td>\n",
       "    </tr>\n",
       "    <tr>\n",
       "      <th>4</th>\n",
       "      <td>09103-120</td>\n",
       "      <td>YH7</td>\n",
       "    </tr>\n",
       "  </tbody>\n",
       "</table>\n",
       "</div>"
      ],
      "text/plain": [
       "        part model\n",
       "0  01551-081   YV7\n",
       "1  02162-061   YJA\n",
       "2  02162-061   YW0\n",
       "3  09103-083   YN1\n",
       "4  09103-120   YH7"
      ]
     },
     "execution_count": 28,
     "metadata": {},
     "output_type": "execute_result"
    }
   ],
   "source": [
    "tmp.reset_index().loc[:,[\"part\", \"model\"]].head()"
   ]
  },
  {
   "cell_type": "code",
   "execution_count": 29,
   "metadata": {
    "ExecuteTime": {
     "end_time": "2019-07-11T15:37:36.804677Z",
     "start_time": "2019-07-11T15:37:36.794700Z"
    }
   },
   "outputs": [
    {
     "data": {
      "text/html": [
       "<div>\n",
       "<style scoped>\n",
       "    .dataframe tbody tr th:only-of-type {\n",
       "        vertical-align: middle;\n",
       "    }\n",
       "\n",
       "    .dataframe tbody tr th {\n",
       "        vertical-align: top;\n",
       "    }\n",
       "\n",
       "    .dataframe thead th {\n",
       "        text-align: right;\n",
       "    }\n",
       "</style>\n",
       "<table border=\"1\" class=\"dataframe\">\n",
       "  <thead>\n",
       "    <tr style=\"text-align: right;\">\n",
       "      <th></th>\n",
       "      <th>part</th>\n",
       "      <th>model</th>\n",
       "    </tr>\n",
       "  </thead>\n",
       "  <tbody>\n",
       "    <tr>\n",
       "      <th>0</th>\n",
       "      <td>01421-102</td>\n",
       "      <td>YD3</td>\n",
       "    </tr>\n",
       "    <tr>\n",
       "      <th>1</th>\n",
       "      <td>01547-064</td>\n",
       "      <td>Y3J</td>\n",
       "    </tr>\n",
       "    <tr>\n",
       "      <th>2</th>\n",
       "      <td>01550-062</td>\n",
       "      <td>YV7</td>\n",
       "    </tr>\n",
       "    <tr>\n",
       "      <th>3</th>\n",
       "      <td>01550-065</td>\n",
       "      <td>YR6</td>\n",
       "    </tr>\n",
       "    <tr>\n",
       "      <th>4</th>\n",
       "      <td>01550-082</td>\n",
       "      <td>YMA</td>\n",
       "    </tr>\n",
       "  </tbody>\n",
       "</table>\n",
       "</div>"
      ],
      "text/plain": [
       "        part model\n",
       "0  01421-102   YD3\n",
       "1  01547-064   Y3J\n",
       "2  01550-062   YV7\n",
       "3  01550-065   YR6\n",
       "4  01550-082   YMA"
      ]
     },
     "execution_count": 29,
     "metadata": {},
     "output_type": "execute_result"
    }
   ],
   "source": [
    "df_part_model_master.head()"
   ]
  },
  {
   "cell_type": "code",
   "execution_count": 30,
   "metadata": {
    "ExecuteTime": {
     "end_time": "2019-07-11T15:37:36.816395Z",
     "start_time": "2019-07-11T15:37:36.806414Z"
    }
   },
   "outputs": [
    {
     "data": {
      "text/html": [
       "<div>\n",
       "<style scoped>\n",
       "    .dataframe tbody tr th:only-of-type {\n",
       "        vertical-align: middle;\n",
       "    }\n",
       "\n",
       "    .dataframe tbody tr th {\n",
       "        vertical-align: top;\n",
       "    }\n",
       "\n",
       "    .dataframe thead th {\n",
       "        text-align: right;\n",
       "    }\n",
       "</style>\n",
       "<table border=\"1\" class=\"dataframe\">\n",
       "  <thead>\n",
       "    <tr style=\"text-align: right;\">\n",
       "      <th></th>\n",
       "      <th>stf</th>\n",
       "      <th>part</th>\n",
       "      <th>model</th>\n",
       "      <th>n</th>\n",
       "    </tr>\n",
       "  </thead>\n",
       "  <tbody>\n",
       "    <tr>\n",
       "      <th>0</th>\n",
       "      <td>36</td>\n",
       "      <td>01421-102</td>\n",
       "      <td>YD3</td>\n",
       "      <td>1</td>\n",
       "    </tr>\n",
       "    <tr>\n",
       "      <th>1</th>\n",
       "      <td>10</td>\n",
       "      <td>01547-064</td>\n",
       "      <td>Y3J</td>\n",
       "      <td>1</td>\n",
       "    </tr>\n",
       "    <tr>\n",
       "      <th>2</th>\n",
       "      <td>33</td>\n",
       "      <td>01550-062</td>\n",
       "      <td>YV7</td>\n",
       "      <td>1</td>\n",
       "    </tr>\n",
       "    <tr>\n",
       "      <th>3</th>\n",
       "      <td>39</td>\n",
       "      <td>01550-065</td>\n",
       "      <td>YR6</td>\n",
       "      <td>1</td>\n",
       "    </tr>\n",
       "    <tr>\n",
       "      <th>4</th>\n",
       "      <td>31</td>\n",
       "      <td>01550-082</td>\n",
       "      <td>YMA</td>\n",
       "      <td>1</td>\n",
       "    </tr>\n",
       "  </tbody>\n",
       "</table>\n",
       "</div>"
      ],
      "text/plain": [
       "   stf       part model  n\n",
       "0   36  01421-102   YD3  1\n",
       "1   10  01547-064   Y3J  1\n",
       "2   33  01550-062   YV7  1\n",
       "3   39  01550-065   YR6  1\n",
       "4   31  01550-082   YMA  1"
      ]
     },
     "execution_count": 30,
     "metadata": {},
     "output_type": "execute_result"
    }
   ],
   "source": [
    "df_warranty_stf.head()"
   ]
  },
  {
   "cell_type": "markdown",
   "metadata": {},
   "source": [
    "## 宿題"
   ]
  },
  {
   "cell_type": "markdown",
   "metadata": {},
   "source": [
    "- 6.2.1_AkihiroSanada_TableMaking_Check_revised.ipynbを実行する。途中の式を眺めて、理解する。\n",
    "    - 質問があれば、Teamsで何でも聞いて下さい"
   ]
  },
  {
   "cell_type": "markdown",
   "metadata": {},
   "source": [
    "### 追加の宿題"
   ]
  },
  {
   "cell_type": "markdown",
   "metadata": {},
   "source": [
    "- 経過月毎のワランティ推移について、6.2.1フーリエ変換を行う。結果について考察する。"
   ]
  },
  {
   "cell_type": "markdown",
   "metadata": {},
   "source": [
    "- 時系列分析が使えそうなユースケースについて、1つ考える。そのユースケースにおいて、どのようなテーブルが必要か考える(縦軸を構成するインデックス列、横軸を構成する項目)"
   ]
  }
 ],
 "metadata": {
  "kernelspec": {
   "display_name": "Python [conda env:suzuki] *",
   "language": "python",
   "name": "conda-env-suzuki-py"
  },
  "language_info": {
   "codemirror_mode": {
    "name": "ipython",
    "version": 3
   },
   "file_extension": ".py",
   "mimetype": "text/x-python",
   "name": "python",
   "nbconvert_exporter": "python",
   "pygments_lexer": "ipython3",
   "version": "3.6.8"
  },
  "latex_envs": {
   "LaTeX_envs_menu_present": true,
   "autoclose": false,
   "autocomplete": true,
   "bibliofile": "biblio.bib",
   "cite_by": "apalike",
   "current_citInitial": 1,
   "eqLabelWithNumbers": true,
   "eqNumInitial": 1,
   "hotkeys": {
    "equation": "Ctrl-E",
    "itemize": "Ctrl-I"
   },
   "labels_anchors": false,
   "latex_user_defs": false,
   "report_style_numbering": false,
   "user_envs_cfg": false
  },
  "nbTranslate": {
   "displayLangs": [
    "*"
   ],
   "hotkey": "alt-t",
   "langInMainMenu": true,
   "sourceLang": "en",
   "targetLang": "fr",
   "useGoogleTranslate": true
  },
  "toc": {
   "base_numbering": 1,
   "nav_menu": {},
   "number_sections": true,
   "sideBar": true,
   "skip_h1_title": false,
   "title_cell": "Table of Contents",
   "title_sidebar": "Contents",
   "toc_cell": false,
   "toc_position": {},
   "toc_section_display": true,
   "toc_window_display": false
  }
 },
 "nbformat": 4,
 "nbformat_minor": 2
}
