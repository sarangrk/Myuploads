{
 "cells": [
  {
   "cell_type": "markdown",
   "metadata": {},
   "source": [
    "# 状態空間モデルのパラメータ推定(MCMCを中心に)"
   ]
  },
  {
   "cell_type": "markdown",
   "metadata": {},
   "source": [
    "## MCMCの概要"
   ]
  },
  {
   "cell_type": "markdown",
   "metadata": {},
   "source": [
    "前回の通り、ベイズの定理を使って、求めたいパラメータの分布は、"
   ]
  },
  {
   "cell_type": "markdown",
   "metadata": {},
   "source": [
    "$$p(\\theta|y) = \\frac{p(y|\\theta)p(\\theta)}{\\sum p(y|\\theta)p(\\theta)}$$\n",
    "として求められる。"
   ]
  },
  {
   "cell_type": "markdown",
   "metadata": {},
   "source": [
    "分母は分子を全て足し合わせた形となっているので、分子$p(y|\\theta)p(\\theta)$さえ計算できれば良い。"
   ]
  },
  {
   "cell_type": "markdown",
   "metadata": {},
   "source": [
    "$\\theta$が1,2つだと、前回のnotebookのように、範囲を1000個程度の区切って計算すればよいが、時系列分析ではパラメータが100個を超えることも多く、現実的ではない。"
   ]
  },
  {
   "cell_type": "markdown",
   "metadata": {},
   "source": [
    "MCMCはマルコフ連鎖モンテカルロ法の略で、このような数値計算を効率的に行うことができる。  \n",
    "\"詳細釣り合い条件\"と呼ばれるルールに従って、1つ前の値にのみ影響されるような数列(マルコフ連鎖)を作ると、その数列の値の分布が求めたい分布(今回の場合は$p(y|\\theta)p(\\theta)$)に収束するような数列を作ることができる。"
   ]
  },
  {
   "cell_type": "markdown",
   "metadata": {},
   "source": [
    "そのようなマルコフ連鎖を作成して、その分布のヒストグラムを算出し、$p(y|\\theta)p(\\theta)$として代用する方法がMCMCである。"
   ]
  },
  {
   "cell_type": "markdown",
   "metadata": {},
   "source": [
    "MCMCは今回のような状態空間モデルのみならず、ベイズ推定には広く使用することができるので、MCMCの習得は大変有用である。"
   ]
  },
  {
   "cell_type": "markdown",
   "metadata": {},
   "source": [
    "## StanとPyStanの使い方"
   ]
  },
  {
   "cell_type": "markdown",
   "metadata": {},
   "source": [
    "Stanは現状では恐らく、最もドキュメントが充実した確率プログラミング言語である。  \n",
    "c++に似た記法で、データ、パラメータ、モデル式(確率分布の式)を指定して、走らせると、自動でc++にコンパイルした後、MCMCで分布を計算してくれる。"
   ]
  },
  {
   "cell_type": "code",
   "execution_count": 51,
   "metadata": {
    "ExecuteTime": {
     "end_time": "2019-08-07T06:27:38.308110Z",
     "start_time": "2019-08-07T06:27:38.305285Z"
    }
   },
   "outputs": [],
   "source": [
    "import pystan"
   ]
  },
  {
   "cell_type": "markdown",
   "metadata": {},
   "source": [
    "Stanの記法\n",
    "- 行末には;が必要。\n",
    "- ブロックは{}で囲む\n",
    "- コメントは//"
   ]
  },
  {
   "cell_type": "markdown",
   "metadata": {},
   "source": [
    "### 試しに動かしてみる"
   ]
  },
  {
   "cell_type": "code",
   "execution_count": 52,
   "metadata": {
    "ExecuteTime": {
     "end_time": "2019-08-07T06:28:20.160404Z",
     "start_time": "2019-08-07T06:28:20.156934Z"
    }
   },
   "outputs": [],
   "source": [
    "# stanコードは文字列で与えることができる。\n",
    "# dataブロック: パラメータ推定に使用するデータを定義するブロック\n",
    "# parametersブロック: 推定したいパラメータを定義するブロック\n",
    "# transformed parameters: 確率分布を含まない、パラメータの計算/式変形を含むブロック\n",
    "# modelブロック: 正規分布など、確率分布を含むブロック\n",
    "\n",
    "schools_code = \"\"\"\n",
    "data {\n",
    "    int<lower=0> J; // number of schools\n",
    "    vector[J] y; // estimated treatment effects\n",
    "    vector<lower=0>[J] sigma; // s.e. of effect estimates\n",
    "}\n",
    "parameters {\n",
    "    real mu;\n",
    "    real<lower=0> tau;\n",
    "    vector[J] theta;\n",
    "}\n",
    "model {\n",
    "    theta ~ normal(mu, tau);\n",
    "    y ~ normal(theta, sigma);\n",
    "}\n",
    "\"\"\"\n",
    "# dataは整数型で0以上のJ、長さJの実数のベクトルのy、長さJで0以上の実数のベクトルsigma\n",
    "# 推定したいパラメータは実数mu、実数で0以上のtau、長さJの実数のベクトルのeta\n",
    "# 式変形で得られるパラメータは実数で長さJのtheta。thetaはmu + tau * etaで得られる。\n",
    "# model部分。etaは平均0、標準偏差1の正規分布に、yは平均theta、標準偏差sigmaの正規分布に従う。\n",
    "# muは平均的な効果、etaは誤差(標準正規分布)、tauは標準偏差、thetaは各々の真のコーチング効果。\n",
    "# 観測誤差がsigmaである。"
   ]
  },
  {
   "cell_type": "code",
   "execution_count": 54,
   "metadata": {
    "ExecuteTime": {
     "end_time": "2019-08-07T06:48:42.409650Z",
     "start_time": "2019-08-07T06:47:58.598103Z"
    }
   },
   "outputs": [
    {
     "name": "stderr",
     "output_type": "stream",
     "text": [
      "INFO:pystan:COMPILING THE C++ CODE FOR MODEL anon_model_19a09b474d1901f191444eaf8a6b8ce2 NOW.\n"
     ]
    }
   ],
   "source": [
    "# Rubin, 1981 and Gelman, 2003\n",
    "schools_dat = {'J': 8,\n",
    "               'y': [28,  8, -3,  7, -1,  1, 18, 12],\n",
    "               'sigma': [15, 10, 16, 11,  9, 11, 10, 18]}\n",
    "\n",
    "sm = pystan.StanModel(model_code=schools_code)\n",
    "fit = sm.sampling(data=schools_dat, iter=1000, chains=4) \n",
    "# マルコフ連鎖を4本、1本の数列の長さは1000個であるが、最初の半分はまだ数列が目的の分布に収束していないので、自動で捨てられる"
   ]
  },
  {
   "cell_type": "code",
   "execution_count": 55,
   "metadata": {
    "ExecuteTime": {
     "end_time": "2019-08-07T07:02:25.960653Z",
     "start_time": "2019-08-07T07:02:25.954690Z"
    }
   },
   "outputs": [],
   "source": [
    "la = fit.extract(permuted=True)  # 結果は辞書の形で得られる。それぞれのパラメータ毎に、マルコフ連鎖がついている"
   ]
  },
  {
   "cell_type": "code",
   "execution_count": 56,
   "metadata": {
    "ExecuteTime": {
     "end_time": "2019-08-07T07:02:32.515482Z",
     "start_time": "2019-08-07T07:02:32.507753Z"
    }
   },
   "outputs": [
    {
     "data": {
      "text/plain": [
       "OrderedDict([('mu',\n",
       "              array([ 4.67032318,  7.12541315,  4.14346028, ...,  5.40357963,\n",
       "                     -4.08537493,  6.07461851])),\n",
       "             ('tau',\n",
       "              array([ 0.97194532,  7.0238082 ,  4.46641999, ..., 17.7449538 ,\n",
       "                      9.9678153 ,  6.10981464])),\n",
       "             ('eta',\n",
       "              array([[-0.70989403,  1.55808062, -0.105359  , ..., -0.8419573 ,\n",
       "                       0.28524002, -0.01547434],\n",
       "                     [ 1.61929099, -0.86612465, -0.37182991, ..., -0.33920318,\n",
       "                      -0.3678652 ,  1.47370374],\n",
       "                     [-0.38067963,  1.36984853, -0.61826941, ..., -0.50005336,\n",
       "                       0.09645876,  2.05691382],\n",
       "                     ...,\n",
       "                     [ 0.62138483,  0.83276367,  0.43289402, ...,  0.24496729,\n",
       "                       0.76254392,  0.44717218],\n",
       "                     [-0.3712751 ,  1.10230468, -0.59838919, ..., -0.91277526,\n",
       "                       1.23516462,  0.91271289],\n",
       "                     [ 1.50203026, -0.58570506, -0.44031739, ..., -1.06328563,\n",
       "                      -0.28805297, -0.47534789]])),\n",
       "             ('theta',\n",
       "              array([[  3.98034501,   6.18469235,   4.56792   , ...,   3.85198673,\n",
       "                        4.94756089,   4.65528298],\n",
       "                     [ 18.49900252,   1.04191975,   4.51375115, ...,   4.74291511,\n",
       "                        4.54159854,  17.47642556],\n",
       "                     [  2.44318519,  10.26177916,   1.38200941, ...,   1.91001195,\n",
       "                        4.57428563,  13.33050131],\n",
       "                     ...,\n",
       "                     [ 16.43002477,  20.18093254,  13.08526401, ...,   9.75051288,\n",
       "                       18.93488624,  13.33862921],\n",
       "                     [ -7.78617653,   6.90219454, -10.05000781, ..., -13.18375017,\n",
       "                        8.22651791,   5.01237856],\n",
       "                     [ 15.251745  ,   2.49606917,   3.38436088, ...,  -0.42185961,\n",
       "                        4.31466827,   3.17033098]])),\n",
       "             ('lp__',\n",
       "              array([-4.679621  , -4.3158667 , -4.56276787, ..., -1.45896596,\n",
       "                     -4.80462725, -3.49314095]))])"
      ]
     },
     "execution_count": 56,
     "metadata": {},
     "output_type": "execute_result"
    }
   ],
   "source": [
    "la"
   ]
  },
  {
   "cell_type": "code",
   "execution_count": 57,
   "metadata": {
    "ExecuteTime": {
     "end_time": "2019-08-07T07:03:05.552143Z",
     "start_time": "2019-08-07T07:03:05.548833Z"
    }
   },
   "outputs": [],
   "source": [
    "mu = la['mu'] # 各学校のコーチングの平均効果を出す"
   ]
  },
  {
   "cell_type": "code",
   "execution_count": 58,
   "metadata": {
    "ExecuteTime": {
     "end_time": "2019-08-07T07:03:10.419242Z",
     "start_time": "2019-08-07T07:03:10.415093Z"
    }
   },
   "outputs": [
    {
     "data": {
      "text/plain": [
       "array([ 4.67032318,  7.12541315,  4.14346028, ...,  5.40357963,\n",
       "       -4.08537493,  6.07461851])"
      ]
     },
     "execution_count": 58,
     "metadata": {},
     "output_type": "execute_result"
    }
   ],
   "source": [
    "mu"
   ]
  },
  {
   "cell_type": "code",
   "execution_count": 59,
   "metadata": {
    "ExecuteTime": {
     "end_time": "2019-08-07T07:03:27.899696Z",
     "start_time": "2019-08-07T07:03:27.895556Z"
    }
   },
   "outputs": [
    {
     "data": {
      "text/plain": [
       "(2000,)"
      ]
     },
     "execution_count": 59,
     "metadata": {},
     "output_type": "execute_result"
    }
   ],
   "source": [
    "mu.shape # 1000 / 2 * 4 = 2000個"
   ]
  },
  {
   "cell_type": "code",
   "execution_count": 61,
   "metadata": {
    "ExecuteTime": {
     "end_time": "2019-08-07T07:04:30.468382Z",
     "start_time": "2019-08-07T07:04:30.238007Z"
    }
   },
   "outputs": [
    {
     "data": {
      "text/plain": [
       "[<matplotlib.lines.Line2D at 0x1a2032f2b0>]"
      ]
     },
     "execution_count": 61,
     "metadata": {},
     "output_type": "execute_result"
    },
    {
     "data": {
      "image/png": "[encoded data removed]",
      "text/plain": [
       "<Figure size 432x288 with 1 Axes>"
      ]
     },
     "metadata": {
      "needs_background": "light"
     },
     "output_type": "display_data"
    }
   ],
   "source": [
    "plt.plot(mu)"
   ]
  },
  {
   "cell_type": "code",
   "execution_count": 60,
   "metadata": {
    "ExecuteTime": {
     "end_time": "2019-08-07T07:04:20.343701Z",
     "start_time": "2019-08-07T07:04:19.909061Z"
    }
   },
   "outputs": [
    {
     "name": "stdout",
     "output_type": "stream",
     "text": [
      "8.076757980810576\n"
     ]
    },
    {
     "data": {
      "image/png": "[encoded data removed]",
      "text/plain": [
       "<Figure size 432x288 with 1 Axes>"
      ]
     },
     "metadata": {
      "needs_background": "light"
     },
     "output_type": "display_data"
    }
   ],
   "source": [
    "%matplotlib inline\n",
    "import matplotlib.pyplot as plt\n",
    "import scipy.stats as st\n",
    "\n",
    "plt.hist(mu, bins=100); # muの分布\n",
    "plt.vlines(mu.mean(), 0, 80, label = \"EAP estimate value\")\n",
    "plt.legend();\n",
    "print(mu.mean())"
   ]
  },
  {
   "cell_type": "markdown",
   "metadata": {},
   "source": [
    "全学校の平均的な効果は8前後と推定された。"
   ]
  },
  {
   "cell_type": "code",
   "execution_count": 62,
   "metadata": {
    "ExecuteTime": {
     "end_time": "2019-08-07T07:05:55.251739Z",
     "start_time": "2019-08-07T07:05:55.028275Z"
    }
   },
   "outputs": [
    {
     "data": {
      "text/plain": [
       "[<matplotlib.lines.Line2D at 0x1a23c417b8>]"
      ]
     },
     "execution_count": 62,
     "metadata": {},
     "output_type": "execute_result"
    },
    {
     "data": {
      "image/png": "[encoded data removed]",
      "text/plain": [
       "<Figure size 432x288 with 1 Axes>"
      ]
     },
     "metadata": {
      "needs_background": "light"
     },
     "output_type": "display_data"
    }
   ],
   "source": [
    "plt.plot(la[\"tau\"])"
   ]
  },
  {
   "cell_type": "code",
   "execution_count": 64,
   "metadata": {
    "ExecuteTime": {
     "end_time": "2019-08-07T07:06:23.849686Z",
     "start_time": "2019-08-07T07:06:23.570348Z"
    }
   },
   "outputs": [
    {
     "data": {
      "image/png": "[encoded data removed]",
      "text/plain": [
       "<Figure size 432x288 with 1 Axes>"
      ]
     },
     "metadata": {
      "needs_background": "light"
     },
     "output_type": "display_data"
    }
   ],
   "source": [
    "plt.hist(la[\"tau\"], bins=50);"
   ]
  },
  {
   "cell_type": "code",
   "execution_count": 65,
   "metadata": {
    "ExecuteTime": {
     "end_time": "2019-08-07T07:07:37.256458Z",
     "start_time": "2019-08-07T07:07:37.253413Z"
    }
   },
   "outputs": [],
   "source": [
    "theta = la['theta'] # 各学校のコーチングの真の効果の推定量"
   ]
  },
  {
   "cell_type": "code",
   "execution_count": 66,
   "metadata": {
    "ExecuteTime": {
     "end_time": "2019-08-07T07:07:38.580781Z",
     "start_time": "2019-08-07T07:07:38.576787Z"
    }
   },
   "outputs": [
    {
     "data": {
      "text/plain": [
       "(2000, 8)"
      ]
     },
     "execution_count": 66,
     "metadata": {},
     "output_type": "execute_result"
    }
   ],
   "source": [
    "theta.shape # 計2000個の数列であるが、変数は8つあるので、2000 x 8のマルコフ連鎖となる"
   ]
  },
  {
   "cell_type": "code",
   "execution_count": 67,
   "metadata": {
    "ExecuteTime": {
     "end_time": "2019-08-07T07:10:50.498160Z",
     "start_time": "2019-08-07T07:10:50.277689Z"
    }
   },
   "outputs": [
    {
     "data": {
      "text/plain": [
       "[<matplotlib.lines.Line2D at 0x1a23a4b3c8>]"
      ]
     },
     "execution_count": 67,
     "metadata": {},
     "output_type": "execute_result"
    },
    {
     "data": {
      "image/png": "[encoded data removed]",
      "text/plain": [
       "<Figure size 432x288 with 1 Axes>"
      ]
     },
     "metadata": {
      "needs_background": "light"
     },
     "output_type": "display_data"
    }
   ],
   "source": [
    "plt.plot(theta[:,0])"
   ]
  },
  {
   "cell_type": "code",
   "execution_count": 27,
   "metadata": {
    "ExecuteTime": {
     "end_time": "2019-08-07T03:51:50.168545Z",
     "start_time": "2019-08-07T03:51:49.561126Z"
    }
   },
   "outputs": [
    {
     "data": {
      "image/png": "[encoded data removed]",
      "text/plain": [
       "<Figure size 432x288 with 1 Axes>"
      ]
     },
     "metadata": {
      "needs_background": "light"
     },
     "output_type": "display_data"
    }
   ],
   "source": [
    "plt.hist(theta[:,0], bins=100); # 1校目"
   ]
  },
  {
   "cell_type": "code",
   "execution_count": 32,
   "metadata": {
    "ExecuteTime": {
     "end_time": "2019-08-07T03:53:48.665860Z",
     "start_time": "2019-08-07T03:53:47.540921Z"
    }
   },
   "outputs": [
    {
     "data": {
      "image/png": "[encoded data removed]",
      "text/plain": [
       "<Figure size 432x288 with 4 Axes>"
      ]
     },
     "metadata": {
      "needs_background": "light"
     },
     "output_type": "display_data"
    }
   ],
   "source": [
    "fig = plt.figure()\n",
    "for i in range(4):\n",
    "    ax = fig.add_subplot(2,2,i+1)\n",
    "    plt.hist(theta[:,i], bins=50)\n",
    "    plt.title(f\"No.{i}\")# 1校目 ~ 4校目\n",
    "    plt.xlim(-40, 40)\n",
    "plt.tight_layout()"
   ]
  },
  {
   "cell_type": "markdown",
   "metadata": {},
   "source": [
    "### ローカルレベルモデル"
   ]
  },
  {
   "cell_type": "code",
   "execution_count": 68,
   "metadata": {
    "ExecuteTime": {
     "end_time": "2019-08-07T07:14:36.243031Z",
     "start_time": "2019-08-07T07:14:36.240018Z"
    }
   },
   "outputs": [],
   "source": [
    "model = \"\"\"data {\n",
    "  int<lower=1> n;\n",
    "  int<lower=1> m;\n",
    "  vector[n] y;\n",
    "}\n",
    "parameters {\n",
    "  vector[n] mu;\n",
    "  real<lower=0> sigma_level;\n",
    "  real<lower=0> sigma_irreg;\n",
    "}\n",
    "transformed parameters {\n",
    "  vector[n] yhat;\n",
    "}\n",
    "model {\n",
    "  for(t in 2:n)\n",
    "  {\n",
    "    mu[t] ~ normal(mu[t-1], sigma_level);\n",
    "    y ~ normal(mu[t], sigma_irreg);\n",
    "  }\n",
    "}\n",
    "generated quantities {\n",
    "    vector[n+m] mu_pred;\n",
    "    vector[n+m] y_pred;\n",
    "    mu_pred[1:n] = mu;\n",
    "    y_pred[1:n] = y;\n",
    "\n",
    "    for (t in 1:m) {\n",
    "        mu_pred[n+t] = normal_rng(mu_pred[n+t-1], sigma_level);\n",
    "        y_pred[n+t] = normal_rng(mu_pred[n+t], sigma_irreg);\n",
    "    }\n",
    "}\n",
    "\"\"\""
   ]
  },
  {
   "cell_type": "code",
   "execution_count": 69,
   "metadata": {
    "ExecuteTime": {
     "end_time": "2019-08-07T07:15:48.322657Z",
     "start_time": "2019-08-07T07:15:02.673098Z"
    },
    "scrolled": true
   },
   "outputs": [
    {
     "name": "stderr",
     "output_type": "stream",
     "text": [
      "INFO:pystan:COMPILING THE C++ CODE FOR MODEL anon_model_3749ff593660f5ddeaf5ea4a4933b091 NOW.\n",
      "WARNING:pystan:n_eff / iter for parameter yhat[1] is nan!\n",
      "WARNING:pystan:n_eff / iter for parameter yhat[2] is nan!\n",
      "WARNING:pystan:n_eff / iter for parameter yhat[3] is nan!\n",
      "WARNING:pystan:n_eff / iter for parameter yhat[4] is nan!\n",
      "WARNING:pystan:n_eff / iter for parameter yhat[5] is nan!\n",
      "WARNING:pystan:n_eff / iter for parameter yhat[6] is nan!\n",
      "WARNING:pystan:n_eff / iter for parameter yhat[7] is nan!\n",
      "WARNING:pystan:n_eff / iter for parameter yhat[8] is nan!\n",
      "WARNING:pystan:n_eff / iter for parameter yhat[9] is nan!\n",
      "WARNING:pystan:n_eff / iter for parameter yhat[10] is nan!\n",
      "WARNING:pystan:n_eff / iter for parameter yhat[11] is nan!\n",
      "WARNING:pystan:n_eff / iter for parameter y_pred[4] is nan!\n",
      "WARNING:pystan:n_eff / iter for parameter y_pred[5] is nan!\n",
      "WARNING:pystan:n_eff / iter below 0.001 indicates that the effective sample size has likely been overestimated\n",
      "WARNING:pystan:Rhat for parameter yhat[1] is nan!\n",
      "WARNING:pystan:Rhat for parameter yhat[2] is nan!\n",
      "WARNING:pystan:Rhat for parameter yhat[3] is nan!\n",
      "WARNING:pystan:Rhat for parameter yhat[4] is nan!\n",
      "WARNING:pystan:Rhat for parameter yhat[5] is nan!\n",
      "WARNING:pystan:Rhat for parameter yhat[6] is nan!\n",
      "WARNING:pystan:Rhat for parameter yhat[7] is nan!\n",
      "WARNING:pystan:Rhat for parameter yhat[8] is nan!\n",
      "WARNING:pystan:Rhat for parameter yhat[9] is nan!\n",
      "WARNING:pystan:Rhat for parameter yhat[10] is nan!\n",
      "WARNING:pystan:Rhat for parameter yhat[11] is nan!\n",
      "WARNING:pystan:Rhat for parameter y_pred[5] is nan!\n",
      "WARNING:pystan:Rhat for parameter y_pred[7] is 1.4609194756336552!\n",
      "WARNING:pystan:Rhat for parameter lp__ is 1.1327301541591737!\n",
      "WARNING:pystan:Rhat above 1.1 or below 0.9 indicates that the chains very likely have not mixed\n",
      "WARNING:pystan:28 of 2000 iterations ended with a divergence (1.4%).\n",
      "WARNING:pystan:Try running with adapt_delta larger than 0.8 to remove the divergences.\n",
      "WARNING:pystan:Chain 2: E-BFMI = 0.14468510839084386\n",
      "WARNING:pystan:E-BFMI below 0.2 indicates you may need to reparameterize your model\n"
     ]
    }
   ],
   "source": [
    "dat_local = {'n': 11,\n",
    "             'm': 5,\n",
    "             'y': [10.06097469, 10.40798098, 10.52350358, 10.3303128 , 11.45294242,\n",
    "                   11.63782415, 11.3387652 , 12.84233771, 13.0128606 , 12.53294464,\n",
    "                   13.77612241]}\n",
    "\n",
    "sm = pystan.StanModel(model_code=model)\n",
    "fit = sm.sampling(data=dat_local, iter=1000, chains=4) "
   ]
  },
  {
   "cell_type": "code",
   "execution_count": 70,
   "metadata": {
    "ExecuteTime": {
     "end_time": "2019-08-07T07:16:48.295859Z",
     "start_time": "2019-08-07T07:16:48.288242Z"
    }
   },
   "outputs": [],
   "source": [
    "la = fit.extract(permuted=True)  # 結果は辞書の形で得られる。それぞれのパラメータ毎に、マルコフ連鎖がついている"
   ]
  },
  {
   "cell_type": "code",
   "execution_count": 82,
   "metadata": {
    "ExecuteTime": {
     "end_time": "2019-08-07T07:21:44.623830Z",
     "start_time": "2019-08-07T07:21:44.614085Z"
    }
   },
   "outputs": [
    {
     "data": {
      "text/plain": [
       "OrderedDict([('mu',\n",
       "              array([[11.94423009, 11.85355772, 11.81481637, ..., 11.60437495,\n",
       "                      11.70661891, 11.70904005],\n",
       "                     [12.23273862, 12.13235193, 12.04748692, ..., 11.57450147,\n",
       "                      11.61206778, 11.67017893],\n",
       "                     [11.48563832, 11.73939539, 11.6052761 , ..., 11.32492025,\n",
       "                      11.22674889, 11.34482251],\n",
       "                     ...,\n",
       "                     [11.94758356, 11.93909604, 11.91481468, ..., 11.91204106,\n",
       "                      11.91662825, 11.91202358],\n",
       "                     [11.25165809, 11.49624458, 11.37321103, ..., 12.0172356 ,\n",
       "                      11.71652088, 11.92139199],\n",
       "                     [11.67387698, 11.66608274, 11.59788182, ..., 11.73964917,\n",
       "                      11.73703569, 11.81885383]])),\n",
       "             ('sigma_level',\n",
       "              array([0.08971601, 0.11851338, 0.21060221, ..., 0.0311102 , 0.20068743,\n",
       "                     0.0567815 ])),\n",
       "             ('sigma_irreg',\n",
       "              array([1.22283537, 1.28685466, 1.16370773, ..., 1.27676933, 1.20402277,\n",
       "                     1.29300778])),\n",
       "             ('yhat', array([[nan, nan, nan, ..., nan, nan, nan],\n",
       "                     [nan, nan, nan, ..., nan, nan, nan],\n",
       "                     [nan, nan, nan, ..., nan, nan, nan],\n",
       "                     ...,\n",
       "                     [nan, nan, nan, ..., nan, nan, nan],\n",
       "                     [nan, nan, nan, ..., nan, nan, nan],\n",
       "                     [nan, nan, nan, ..., nan, nan, nan]])),\n",
       "             ('mu_pred',\n",
       "              array([[11.94423009, 11.85355772, 11.81481637, ..., 11.79216967,\n",
       "                      11.94622803, 12.0581059 ],\n",
       "                     [12.23273862, 12.13235193, 12.04748692, ..., 11.66103023,\n",
       "                      11.70958733, 11.64985075],\n",
       "                     [11.48563832, 11.73939539, 11.6052761 , ..., 11.43979434,\n",
       "                      11.6568624 , 11.68643836],\n",
       "                     ...,\n",
       "                     [11.94758356, 11.93909604, 11.91481468, ..., 11.97181331,\n",
       "                      11.93535465, 11.91239971],\n",
       "                     [11.25165809, 11.49624458, 11.37321103, ..., 11.96607411,\n",
       "                      12.03951639, 12.34706581],\n",
       "                     [11.67387698, 11.66608274, 11.59788182, ..., 11.53468225,\n",
       "                      11.65264893, 11.714914  ]])),\n",
       "             ('y_pred',\n",
       "              array([[10.06097469, 10.40798098, 10.52350358, ..., 13.52303705,\n",
       "                      10.29519368, 13.34433025],\n",
       "                     [10.06097469, 10.40798098, 10.52350358, ...,  9.34356129,\n",
       "                      10.86911532, 13.61493181],\n",
       "                     [10.06097469, 10.40798098, 10.52350358, ..., 11.35871904,\n",
       "                      13.15968125,  9.35325385],\n",
       "                     ...,\n",
       "                     [10.06097469, 10.40798098, 10.52350358, ..., 11.49046177,\n",
       "                      11.08277141, 11.18396767],\n",
       "                     [10.06097469, 10.40798098, 10.52350358, ..., 11.42731159,\n",
       "                      11.14634659,  9.94773701],\n",
       "                     [10.06097469, 10.40798098, 10.52350358, ..., 12.11366166,\n",
       "                      12.35743901, 14.43774266]])),\n",
       "             ('lp__',\n",
       "              array([-57.26332467, -65.67354583, -67.25811686, ..., -49.64698388,\n",
       "                     -69.52102339, -54.25846648]))])"
      ]
     },
     "execution_count": 82,
     "metadata": {},
     "output_type": "execute_result"
    }
   ],
   "source": [
    "la"
   ]
  },
  {
   "cell_type": "code",
   "execution_count": null,
   "metadata": {},
   "outputs": [],
   "source": []
  },
  {
   "cell_type": "code",
   "execution_count": 73,
   "metadata": {
    "ExecuteTime": {
     "end_time": "2019-08-07T07:18:03.688768Z",
     "start_time": "2019-08-07T07:18:03.685552Z"
    }
   },
   "outputs": [],
   "source": [
    "mu = ala[\"mu\"]"
   ]
  },
  {
   "cell_type": "code",
   "execution_count": 74,
   "metadata": {
    "ExecuteTime": {
     "end_time": "2019-08-07T07:18:07.827721Z",
     "start_time": "2019-08-07T07:18:07.823577Z"
    }
   },
   "outputs": [
    {
     "data": {
      "text/plain": [
       "(2000, 11)"
      ]
     },
     "execution_count": 74,
     "metadata": {},
     "output_type": "execute_result"
    }
   ],
   "source": [
    "mu.shape"
   ]
  },
  {
   "cell_type": "code",
   "execution_count": 80,
   "metadata": {
    "ExecuteTime": {
     "end_time": "2019-08-07T07:20:25.744685Z",
     "start_time": "2019-08-07T07:20:25.739953Z"
    }
   },
   "outputs": [
    {
     "data": {
      "text/plain": [
       "array([11.64437088, 11.64215836, 11.64318581, 11.6441556 , 11.64116432,\n",
       "       11.64550111, 11.64301807, 11.64511944, 11.63801292, 11.63804183,\n",
       "       11.63610033])"
      ]
     },
     "execution_count": 80,
     "metadata": {},
     "output_type": "execute_result"
    }
   ],
   "source": [
    "mu.mean(axis=0)"
   ]
  },
  {
   "cell_type": "code",
   "execution_count": 81,
   "metadata": {
    "ExecuteTime": {
     "end_time": "2019-08-07T07:20:40.175654Z",
     "start_time": "2019-08-07T07:20:40.007539Z"
    }
   },
   "outputs": [
    {
     "data": {
      "text/plain": [
       "[<matplotlib.lines.Line2D at 0x1a203295f8>]"
      ]
     },
     "execution_count": 81,
     "metadata": {},
     "output_type": "execute_result"
    },
    {
     "data": {
      "image/png": "[encoded data removed]",
      "text/plain": [
       "<Figure size 432x288 with 1 Axes>"
      ]
     },
     "metadata": {
      "needs_background": "light"
     },
     "output_type": "display_data"
    }
   ],
   "source": [
    "plt.plot(mu.mean(axis=0))"
   ]
  },
  {
   "cell_type": "code",
   "execution_count": null,
   "metadata": {},
   "outputs": [],
   "source": [
    "# sigma_level\n",
    "# sigma_irreg"
   ]
  },
  {
   "cell_type": "code",
   "execution_count": null,
   "metadata": {},
   "outputs": [],
   "source": []
  }
 ],
 "metadata": {
  "kernelspec": {
   "display_name": "Python 3",
   "language": "python",
   "name": "python3"
  },
  "language_info": {
   "codemirror_mode": {
    "name": "ipython",
    "version": 3
   },
   "file_extension": ".py",
   "mimetype": "text/x-python",
   "name": "python",
   "nbconvert_exporter": "python",
   "pygments_lexer": "ipython3",
   "version": "3.6.8"
  },
  "latex_envs": {
   "LaTeX_envs_menu_present": true,
   "autoclose": false,
   "autocomplete": true,
   "bibliofile": "biblio.bib",
   "cite_by": "apalike",
   "current_citInitial": 1,
   "eqLabelWithNumbers": true,
   "eqNumInitial": 1,
   "hotkeys": {
    "equation": "Ctrl-E",
    "itemize": "Ctrl-I"
   },
   "labels_anchors": false,
   "latex_user_defs": false,
   "report_style_numbering": false,
   "user_envs_cfg": false
  },
  "nbTranslate": {
   "displayLangs": [
    "*"
   ],
   "hotkey": "alt-t",
   "langInMainMenu": true,
   "sourceLang": "en",
   "targetLang": "fr",
   "useGoogleTranslate": true
  },
  "toc": {
   "base_numbering": 1,
   "nav_menu": {},
   "number_sections": true,
   "sideBar": true,
   "skip_h1_title": false,
   "title_cell": "Table of Contents",
   "title_sidebar": "Contents",
   "toc_cell": false,
   "toc_position": {},
   "toc_section_display": true,
   "toc_window_display": false
  }
 },
 "nbformat": 4,
 "nbformat_minor": 2
}
