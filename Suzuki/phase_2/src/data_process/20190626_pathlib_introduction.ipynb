{
 "cells": [
  {
   "cell_type": "code",
   "execution_count": 1,
   "metadata": {
    "ExecuteTime": {
     "end_time": "2019-06-26T05:10:37.303026Z",
     "start_time": "2019-06-26T05:10:37.300726Z"
    }
   },
   "outputs": [],
   "source": [
    "import pathlib"
   ]
  },
  {
   "cell_type": "code",
   "execution_count": 2,
   "metadata": {
    "ExecuteTime": {
     "end_time": "2019-06-26T05:10:47.413356Z",
     "start_time": "2019-06-26T05:10:47.282506Z"
    }
   },
   "outputs": [
    {
     "name": "stdout",
     "output_type": "stream",
     "text": [
      "/Users/localadmin/Documents/GitHub/suzuki_analytics/phase_2/src/data_process\r\n"
     ]
    }
   ],
   "source": [
    "!echo $PWD"
   ]
  },
  {
   "cell_type": "code",
   "execution_count": 3,
   "metadata": {
    "ExecuteTime": {
     "end_time": "2019-06-26T05:11:24.125585Z",
     "start_time": "2019-06-26T05:11:24.122235Z"
    }
   },
   "outputs": [],
   "source": [
    "PATH_DATA_INT = pathlib.Path(\"../../data/interim/\")"
   ]
  },
  {
   "cell_type": "code",
   "execution_count": 4,
   "metadata": {
    "ExecuteTime": {
     "end_time": "2019-06-26T05:11:47.566985Z",
     "start_time": "2019-06-26T05:11:38.438662Z"
    }
   },
   "outputs": [],
   "source": [
    "import pandas as pd"
   ]
  },
  {
   "cell_type": "code",
   "execution_count": 5,
   "metadata": {
    "ExecuteTime": {
     "end_time": "2019-06-26T05:12:08.636710Z",
     "start_time": "2019-06-26T05:12:08.633986Z"
    }
   },
   "outputs": [],
   "source": [
    "import os"
   ]
  },
  {
   "cell_type": "code",
   "execution_count": 6,
   "metadata": {
    "ExecuteTime": {
     "end_time": "2019-06-26T05:12:16.809221Z",
     "start_time": "2019-06-26T05:12:16.800137Z"
    },
    "scrolled": true
   },
   "outputs": [
    {
     "data": {
      "text/plain": [
       "['cnt_Dbhaa_W_PROD_MODEL_CD.csv',\n",
       " 'dbhaa_random_500_000.feather',\n",
       " '20190624_dbhaa_random_500_000_sub.feather',\n",
       " 'cnt_Dbhaa_W_SRC_DIV.csv',\n",
       " '20190624_tbhaa_random_500_000_sub.feather',\n",
       " 'cnt_tbhaa_V_SRC_DIV.csv',\n",
       " 'cnt_Dbhaa_W_TROUBLE_MP.csv',\n",
       " 'distinct_cnt___dbhaa.csv',\n",
       " 'tbhaa_random_500_000.feather',\n",
       " '.DS_Store',\n",
       " 'notnull_cnt_dbhaa.csv',\n",
       " 'cnt_tbhaa_V_BASE_CD.csv',\n",
       " 'cnt_Dbhaa_W_DIST_COUNTRY_CD.csv',\n",
       " 'cnt_Dbhaa_W_BASE_CD.csv',\n",
       " 'cnt_Dbhaa_W_MILEAGE_DIV.csv',\n",
       " 'cnt_Dbhaa_W_DIST_CD.csv',\n",
       " 'cnt_tbhaa_V_COLOR.csv',\n",
       " 'cnt_tbhaa_V_PROD_DIV.csv',\n",
       " '.gitkeep',\n",
       " 'cnt_tbhaa_V_FCOK.csv',\n",
       " 'cnt_tbhaa_V_DIST_CD.csv',\n",
       " 'cnt_tbhaa_V_SHIPPING_DATE.csv',\n",
       " 'cnt_Dbhaa_W_FAILURE_DATE.csv',\n",
       " 'cnt_tbhaa_V_SALES_MODEL_CD.csv',\n",
       " 'cnt_Dbhaa_W_OPERATION_CD.csv',\n",
       " 'cnt_Dbhaa_W_SALES_DATE.csv',\n",
       " 'cnt_tbhaa_V_SHIPPING_FCOK.csv',\n",
       " 'suzuki_phase2_db.monetdb',\n",
       " 'cnt_tbhaa_V_SPEC.csv',\n",
       " 'cnt_tbhaa_V_PROD_MODEL_CD.csv',\n",
       " 'cnt_Dbhaa_W_FIXED_DIV.csv',\n",
       " 'cnt_Dbhaa_W_PROD_BASE_CD.csv',\n",
       " 'cnt_Dbhaa_W_TROUBLE_DF.csv',\n",
       " 'data_random_500_000.zip',\n",
       " 'cnt_Dbhaa_W_SB_NO.csv',\n",
       " 'tbhaa_all_random_500_000.feather',\n",
       " 'cnt_tbhaa_V_BRANCH_CD.csv',\n",
       " 'skill_transfer.sqlite3',\n",
       " 'cnt_Dbhaa_W_SHOP_CD.csv',\n",
       " 'cnt_Dbhaa_W_SHOP_DIV.csv',\n",
       " 'dbhaa_all_random_500_000.feather',\n",
       " 'suzuki_phase2_db.sqlite3.7z',\n",
       " 'cnt_Dbhaa_W_TROUBLE_CP.csv',\n",
       " 'cnt_V_PROD_MODEL.csv',\n",
       " 'cnt_tbhaa_V_ABOK.csv',\n",
       " 'notnull_cnt_tbhaa.csv',\n",
       " 'cnt_Dbhaa_W_FIELD_CLAIM_DIV.csv',\n",
       " 'distinct_cnt___tbhaa.csv',\n",
       " 'cnt_Dbhaa_W_DIV2.csv',\n",
       " 'cnt_Dbhaa_W_CFC_COMPANY_CD.csv',\n",
       " 'suzuki_phase2_db.sqlite3',\n",
       " 'cnt_tbhaa_V_SHIPPING_ABOK.csv',\n",
       " 'cnt_Dbhaa_W_DIV3.csv',\n",
       " 'cnt_Dbhaa_W_DMEX_DIV.csv',\n",
       " 'cnt_Dbhaa_W_DIV1.csv',\n",
       " 'cnt_Dbhaa_W_FCOK.csv',\n",
       " 'cnt_Dbhaa_W_PROCESS_MONTH.csv',\n",
       " 'cnt_Dbhaa_W_PROD_DIV.csv',\n",
       " 'cnt_Dbhaa_W_TROUBLE_CC.csv']"
      ]
     },
     "execution_count": 6,
     "metadata": {},
     "output_type": "execute_result"
    }
   ],
   "source": [
    "os.listdir(PATH_DATA_INT)"
   ]
  },
  {
   "cell_type": "code",
   "execution_count": 9,
   "metadata": {
    "ExecuteTime": {
     "end_time": "2019-06-26T05:12:51.640935Z",
     "start_time": "2019-06-26T05:12:50.490046Z"
    }
   },
   "outputs": [],
   "source": [
    "df = pd.read_feather(PATH_DATA_INT/\"dbhaa_random_500_000.feather\")"
   ]
  },
  {
   "cell_type": "code",
   "execution_count": 10,
   "metadata": {
    "ExecuteTime": {
     "end_time": "2019-06-26T05:13:33.602318Z",
     "start_time": "2019-06-26T05:13:33.599345Z"
    }
   },
   "outputs": [],
   "source": [
    "PATH_DATA_RAW = pathlib.Path(\"../../data/raw\")"
   ]
  },
  {
   "cell_type": "code",
   "execution_count": 12,
   "metadata": {
    "ExecuteTime": {
     "end_time": "2019-06-26T05:14:48.335887Z",
     "start_time": "2019-06-26T05:14:43.311723Z"
    }
   },
   "outputs": [],
   "source": [
    "df_can = pd.read_csv(PATH_DATA_RAW/\"CAN\"/\"test\"/\"SUZUKI_YSB-021_MRR_2016-04-20_06-27_0001.BLF.csv\")"
   ]
  },
  {
   "cell_type": "code",
   "execution_count": null,
   "metadata": {},
   "outputs": [],
   "source": [
    "os."
   ]
  }
 ],
 "metadata": {
  "kernelspec": {
   "display_name": "Python [conda env:suzuki] *",
   "language": "python",
   "name": "conda-env-suzuki-py"
  },
  "language_info": {
   "codemirror_mode": {
    "name": "ipython",
    "version": 3
   },
   "file_extension": ".py",
   "mimetype": "text/x-python",
   "name": "python",
   "nbconvert_exporter": "python",
   "pygments_lexer": "ipython3",
   "version": "3.6.8"
  },
  "latex_envs": {
   "LaTeX_envs_menu_present": true,
   "autoclose": false,
   "autocomplete": true,
   "bibliofile": "biblio.bib",
   "cite_by": "apalike",
   "current_citInitial": 1,
   "eqLabelWithNumbers": true,
   "eqNumInitial": 1,
   "hotkeys": {
    "equation": "Ctrl-E",
    "itemize": "Ctrl-I"
   },
   "labels_anchors": false,
   "latex_user_defs": false,
   "report_style_numbering": false,
   "user_envs_cfg": false
  },
  "nbTranslate": {
   "displayLangs": [
    "*"
   ],
   "hotkey": "alt-t",
   "langInMainMenu": true,
   "sourceLang": "en",
   "targetLang": "fr",
   "useGoogleTranslate": true
  },
  "toc": {
   "base_numbering": 1,
   "nav_menu": {},
   "number_sections": true,
   "sideBar": true,
   "skip_h1_title": false,
   "title_cell": "Table of Contents",
   "title_sidebar": "Contents",
   "toc_cell": false,
   "toc_position": {},
   "toc_section_display": true,
   "toc_window_display": false
  }
 },
 "nbformat": 4,
 "nbformat_minor": 2
}
