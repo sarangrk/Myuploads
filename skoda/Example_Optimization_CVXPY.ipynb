{
 "cells": [
  {
   "cell_type": "markdown",
   "metadata": {},
   "source": [
    "# Based on [Optimization with CVXPY](https://towardsdatascience.com/optimization-with-python-how-to-make-the-most-amount-of-money-with-the-least-amount-of-risk-1ebebf5b2f29)\n",
    "\n",
    "## Here, we will apply a basic optimization problem which could be close to the Skoda one, in a much simplified way though"
   ]
  },
  {
   "cell_type": "markdown",
   "metadata": {},
   "source": [
    "### Note for Sarang\n",
    "I guess it's not very difficult to go through this small notebook <br/>\n",
    "I just want to let you know, that I had some problem with specifying the main constraint (capacity production)<br/>\n",
    "I guess you can find the answer in the package documentation I shared on Teams. Anyway, we can discuss about this small example (which can be very close to Skoda one) anytime ofc"
   ]
  },
  {
   "cell_type": "markdown",
   "metadata": {},
   "source": [
    "### Librairies and data creation"
   ]
  },
  {
   "cell_type": "code",
   "execution_count": 63,
   "metadata": {},
   "outputs": [],
   "source": [
    "from teradataml import *\n",
    "import pandas as pd\n",
    "import cvxpy as cvx# TO DO: Look for a docker image, cause the installation could be very annoying\n",
    "import random\n",
    "import numpy as np\n",
    "\n",
    "%matplotlib inline"
   ]
  },
  {
   "cell_type": "code",
   "execution_count": 32,
   "metadata": {},
   "outputs": [
    {
     "data": {
      "text/html": [
       "<div>\n",
       "<style scoped>\n",
       "    .dataframe tbody tr th:only-of-type {\n",
       "        vertical-align: middle;\n",
       "    }\n",
       "\n",
       "    .dataframe tbody tr th {\n",
       "        vertical-align: top;\n",
       "    }\n",
       "\n",
       "    .dataframe thead th {\n",
       "        text-align: right;\n",
       "    }\n",
       "</style>\n",
       "<table border=\"1\" class=\"dataframe\">\n",
       "  <thead>\n",
       "    <tr style=\"text-align: right;\">\n",
       "      <th></th>\n",
       "      <th>Month</th>\n",
       "      <th>Model (i)</th>\n",
       "      <th>Country</th>\n",
       "      <th>Quantity (j)</th>\n",
       "      <th>Price</th>\n",
       "    </tr>\n",
       "  </thead>\n",
       "  <tbody>\n",
       "    <tr>\n",
       "      <th>0</th>\n",
       "      <td>201901</td>\n",
       "      <td>M1</td>\n",
       "      <td>France</td>\n",
       "      <td>3621</td>\n",
       "      <td>12000</td>\n",
       "    </tr>\n",
       "    <tr>\n",
       "      <th>1</th>\n",
       "      <td>201901</td>\n",
       "      <td>M1</td>\n",
       "      <td>Germany</td>\n",
       "      <td>3881</td>\n",
       "      <td>11000</td>\n",
       "    </tr>\n",
       "    <tr>\n",
       "      <th>2</th>\n",
       "      <td>201901</td>\n",
       "      <td>M2</td>\n",
       "      <td>France</td>\n",
       "      <td>7113</td>\n",
       "      <td>18000</td>\n",
       "    </tr>\n",
       "    <tr>\n",
       "      <th>3</th>\n",
       "      <td>201901</td>\n",
       "      <td>M2</td>\n",
       "      <td>Germany</td>\n",
       "      <td>7103</td>\n",
       "      <td>17000</td>\n",
       "    </tr>\n",
       "    <tr>\n",
       "      <th>4</th>\n",
       "      <td>201902</td>\n",
       "      <td>M1</td>\n",
       "      <td>France</td>\n",
       "      <td>3021</td>\n",
       "      <td>12000</td>\n",
       "    </tr>\n",
       "    <tr>\n",
       "      <th>5</th>\n",
       "      <td>201902</td>\n",
       "      <td>M1</td>\n",
       "      <td>Germany</td>\n",
       "      <td>6841</td>\n",
       "      <td>11000</td>\n",
       "    </tr>\n",
       "    <tr>\n",
       "      <th>6</th>\n",
       "      <td>201902</td>\n",
       "      <td>M2</td>\n",
       "      <td>France</td>\n",
       "      <td>3388</td>\n",
       "      <td>18000</td>\n",
       "    </tr>\n",
       "    <tr>\n",
       "      <th>7</th>\n",
       "      <td>201902</td>\n",
       "      <td>M2</td>\n",
       "      <td>Germany</td>\n",
       "      <td>6957</td>\n",
       "      <td>17000</td>\n",
       "    </tr>\n",
       "  </tbody>\n",
       "</table>\n",
       "</div>"
      ],
      "text/plain": [
       "    Month Model (i)  Country  Quantity (j)  Price\n",
       "0  201901        M1   France          3621  12000\n",
       "1  201901        M1  Germany          3881  11000\n",
       "2  201901        M2   France          7113  18000\n",
       "3  201901        M2  Germany          7103  17000\n",
       "4  201902        M1   France          3021  12000\n",
       "5  201902        M1  Germany          6841  11000\n",
       "6  201902        M2   France          3388  18000\n",
       "7  201902        M2  Germany          6957  17000"
      ]
     },
     "execution_count": 32,
     "metadata": {},
     "output_type": "execute_result"
    }
   ],
   "source": [
    "random.seed(13)\n",
    "df=pd.DataFrame({\n",
    "    'Month':['201901','201901','201901','201901','201902','201902','201902','201902'],\n",
    "     'Model (i)':['M1','M1','M2','M2','M1','M1','M2','M2'],\n",
    "     'Country':['France','Germany','France','Germany','France','Germany','France','Germany'],\n",
    "     'Quantity (j)': random.sample(range(1500,7400), 8),\n",
    "     'Price':[12000,11000,18000,17000,12000,11000,18000,17000]\n",
    "      })\n",
    "df"
   ]
  },
  {
   "cell_type": "markdown",
   "metadata": {},
   "source": [
    "### Optimization problem\n",
    "We want to find the optimal sales (_Quantity_) according to some constraints: <br/>\n",
    ">  Fixed prices<br/>\n",
    "   Capacity production (Sum of quantities per month < Q)<br/>\n",
    "   Minimun sales (Quantities per month > q)<br/>\n",
    "   Market criteria : minimun sales per month X model X country <br/>\n",
    "   \n",
    "In the mathematical way, <br/>\n",
    "\n",
    "> \\begin{align*}\n",
    "Max_{x_{i,j}} \\sum_ {i,j}p_{i,j}x_{i,j}\n",
    "\\end{align*}\n",
    "subject to:\n",
    "\\begin{align*}\n",
    "\\sum_ {i,j}x_{i,j} < K\\\\\n",
    "\\forall_{i,j}\\enspace  q_{i,j}<x_{i,j}<Q_{i,j}\n",
    "\\end{align*}"
   ]
  },
  {
   "cell_type": "markdown",
   "metadata": {},
   "source": [
    "#### After data we can review our dataset - Indeed, we are interest in 4 variables (2 Models X 2 countries)\n"
   ]
  },
  {
   "cell_type": "code",
   "execution_count": 76,
   "metadata": {},
   "outputs": [
    {
     "data": {
      "text/html": [
       "<div>\n",
       "<style scoped>\n",
       "    .dataframe tbody tr th:only-of-type {\n",
       "        vertical-align: middle;\n",
       "    }\n",
       "\n",
       "    .dataframe tbody tr th {\n",
       "        vertical-align: top;\n",
       "    }\n",
       "\n",
       "    .dataframe thead th {\n",
       "        text-align: right;\n",
       "    }\n",
       "</style>\n",
       "<table border=\"1\" class=\"dataframe\">\n",
       "  <thead>\n",
       "    <tr style=\"text-align: right;\">\n",
       "      <th></th>\n",
       "      <th>Model (i)</th>\n",
       "      <th>Country</th>\n",
       "      <th>Price</th>\n",
       "    </tr>\n",
       "  </thead>\n",
       "  <tbody>\n",
       "    <tr>\n",
       "      <th>4</th>\n",
       "      <td>M1</td>\n",
       "      <td>France</td>\n",
       "      <td>12000</td>\n",
       "    </tr>\n",
       "    <tr>\n",
       "      <th>5</th>\n",
       "      <td>M1</td>\n",
       "      <td>Germany</td>\n",
       "      <td>11000</td>\n",
       "    </tr>\n",
       "    <tr>\n",
       "      <th>6</th>\n",
       "      <td>M2</td>\n",
       "      <td>France</td>\n",
       "      <td>18000</td>\n",
       "    </tr>\n",
       "    <tr>\n",
       "      <th>7</th>\n",
       "      <td>M2</td>\n",
       "      <td>Germany</td>\n",
       "      <td>17000</td>\n",
       "    </tr>\n",
       "  </tbody>\n",
       "</table>\n",
       "</div>"
      ],
      "text/plain": [
       "  Model (i)  Country  Price\n",
       "4        M1   France  12000\n",
       "5        M1  Germany  11000\n",
       "6        M2   France  18000\n",
       "7        M2  Germany  17000"
      ]
     },
     "execution_count": 76,
     "metadata": {},
     "output_type": "execute_result"
    }
   ],
   "source": [
    "new_df=df.drop(columns=['Month', 'Quantity (j)'])\n",
    "new_df=new_df.drop_duplicates(['Model (i)','Country'],keep= 'last')\n",
    "new_df"
   ]
  },
  {
   "cell_type": "code",
   "execution_count": 90,
   "metadata": {},
   "outputs": [
    {
     "data": {
      "text/html": [
       "<div>\n",
       "<style scoped>\n",
       "    .dataframe tbody tr th:only-of-type {\n",
       "        vertical-align: middle;\n",
       "    }\n",
       "\n",
       "    .dataframe tbody tr th {\n",
       "        vertical-align: top;\n",
       "    }\n",
       "\n",
       "    .dataframe thead th {\n",
       "        text-align: right;\n",
       "    }\n",
       "</style>\n",
       "<table border=\"1\" class=\"dataframe\">\n",
       "  <thead>\n",
       "    <tr style=\"text-align: right;\">\n",
       "      <th></th>\n",
       "      <th>Model (i)</th>\n",
       "      <th>Country</th>\n",
       "      <th>Price</th>\n",
       "      <th>var</th>\n",
       "    </tr>\n",
       "  </thead>\n",
       "  <tbody>\n",
       "    <tr>\n",
       "      <th>4</th>\n",
       "      <td>M1</td>\n",
       "      <td>France</td>\n",
       "      <td>12000</td>\n",
       "      <td>var22</td>\n",
       "    </tr>\n",
       "    <tr>\n",
       "      <th>5</th>\n",
       "      <td>M1</td>\n",
       "      <td>Germany</td>\n",
       "      <td>11000</td>\n",
       "      <td>var23</td>\n",
       "    </tr>\n",
       "    <tr>\n",
       "      <th>6</th>\n",
       "      <td>M2</td>\n",
       "      <td>France</td>\n",
       "      <td>18000</td>\n",
       "      <td>var24</td>\n",
       "    </tr>\n",
       "    <tr>\n",
       "      <th>7</th>\n",
       "      <td>M2</td>\n",
       "      <td>Germany</td>\n",
       "      <td>17000</td>\n",
       "      <td>var25</td>\n",
       "    </tr>\n",
       "  </tbody>\n",
       "</table>\n",
       "</div>"
      ],
      "text/plain": [
       "  Model (i)  Country  Price    var\n",
       "4        M1   France  12000  var22\n",
       "5        M1  Germany  11000  var23\n",
       "6        M2   France  18000  var24\n",
       "7        M2  Germany  17000  var25"
      ]
     },
     "execution_count": 90,
     "metadata": {},
     "output_type": "execute_result"
    }
   ],
   "source": [
    "# Adding the variables to optimize to this new DF\n",
    "inc=[]\n",
    "for w in range(0,new_df.shape[0]):\n",
    "    inc.append(cvx.Variable())\n",
    "new_df['var'] = inc\n",
    "new_df.reset_index(inplace=True)\n",
    "new_df"
   ]
  },
  {
   "cell_type": "markdown",
   "metadata": {},
   "source": [
    "#### Constraints"
   ]
  },
  {
   "cell_type": "code",
   "execution_count": 205,
   "metadata": {},
   "outputs": [],
   "source": [
    "K=8000\n",
    "Q=[3000,2500,2000,1500]\n",
    "q=list(2*np.divide(Q,10))\n",
    "\n",
    "new_df['min']=q\n",
    "new_df['max']=Q\n",
    "\n",
    "\n",
    "constraints=[cvx.sum([new_df['var']])<=K]\n",
    "for w in range(0,new_df.shape[0]) :\n",
    "    constraints.append([new_df['var'][w]<=new_df['max'][w]])\n",
    "    constraints.append([new_df['var'][w]>=new_df['min'][w]])"
   ]
  },
  {
   "cell_type": "markdown",
   "metadata": {},
   "source": [
    "#### Problem instance"
   ]
  },
  {
   "cell_type": "code",
   "execution_count": 207,
   "metadata": {},
   "outputs": [],
   "source": [
    "obj = cvx.Maximize(cvx.sum([new_df['Price'][w]*new_df['var'][w] for w in range(0,new_df.shape[0]-1)]))\n",
    "\n",
    "prob = cvx.Problem(obj)"
   ]
  },
  {
   "cell_type": "code",
   "execution_count": 2,
   "metadata": {},
   "outputs": [
    {
     "name": "stdout",
     "output_type": "stream",
     "text": [
      "\n"
     ]
    }
   ],
   "source": [
    "val=prob.solve()"
   ]
  }
 ],
 "metadata": {
  "kernelspec": {
   "display_name": "Python 3",
   "language": "python",
   "name": "python3"
  },
  "language_info": {
   "codemirror_mode": {
    "name": "ipython",
    "version": 3
   },
   "file_extension": ".py",
   "mimetype": "text/x-python",
   "name": "python",
   "nbconvert_exporter": "python",
   "pygments_lexer": "ipython3",
   "version": "3.6.5"
  }
 },
 "nbformat": 4,
 "nbformat_minor": 2
}
